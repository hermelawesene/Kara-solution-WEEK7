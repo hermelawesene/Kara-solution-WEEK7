{
 "cells": [
  {
   "cell_type": "code",
   "execution_count": 7,
   "metadata": {},
   "outputs": [],
   "source": [
    "import pandas as pd\n",
    "import psycopg2\n",
    "import os\n",
    "\n",
    "# Database connection parameters\n",
    "host = 'localhost'\n",
    "port = '5432'\n",
    "dbname = 'Tg_Medical_DB'\n",
    "user = 'postgres'\n",
    "password = 'root'\n",
    "\n",
    "# Connect to PostgreSQL\n",
    "conn = psycopg2.connect(\n",
    "    host=host,\n",
    "    port=port,\n",
    "    dbname=dbname,\n",
    "    user=user,\n",
    "    password=password\n",
    ")\n",
    "\n",
    "# Create a cursor\n",
    "cur = conn.cursor()\n",
    "\n",
    "# Path to the folder containing the detection results\n",
    "csv_folder = 'C:/Users/HP/Downloads/detection_results'\n",
    "\n",
    "# Loop through the CSV files in the folder\n",
    "for file in os.listdir(csv_folder):\n",
    "    if file.endswith('.csv'):\n",
    "        file_path = os.path.join(csv_folder, file)\n",
    "        \n",
    "        # Read the CSV file into a DataFrame\n",
    "        df = pd.read_csv(file_path)\n",
    "\n",
    "        # Insert data into PostgreSQL table\n",
    "        for index, row in df.iterrows():\n",
    "            cur.execute(\n",
    "                \"INSERT INTO detections (img_name, object_name, confidence, x_min, y_min, x_max, y_max) VALUES (%s, %s, %s, %s, %s, %s, %s)\",\n",
    "                (file.replace('_detections.csv', ''), row['name'], row['confidence'], row['xmin'], row['ymin'], row['xmax'], row['ymax'])\n",
    "            )\n",
    "\n",
    "# Commit changes and close the connection\n",
    "conn.commit()\n",
    "cur.close()\n",
    "conn.close()\n"
   ]
  },
  {
   "cell_type": "code",
   "execution_count": null,
   "metadata": {},
   "outputs": [],
   "source": []
  }
 ],
 "metadata": {
  "kernelspec": {
   "display_name": ".venv",
   "language": "python",
   "name": "python3"
  },
  "language_info": {
   "codemirror_mode": {
    "name": "ipython",
    "version": 3
   },
   "file_extension": ".py",
   "mimetype": "text/x-python",
   "name": "python",
   "nbconvert_exporter": "python",
   "pygments_lexer": "ipython3",
   "version": "3.12.5"
  }
 },
 "nbformat": 4,
 "nbformat_minor": 2
}
