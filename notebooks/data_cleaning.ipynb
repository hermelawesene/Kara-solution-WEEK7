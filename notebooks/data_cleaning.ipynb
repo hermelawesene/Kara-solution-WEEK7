{
 "cells": [
  {
   "cell_type": "code",
   "execution_count": 69,
   "metadata": {},
   "outputs": [],
   "source": [
    "import pandas as pd"
   ]
  },
  {
   "cell_type": "code",
   "execution_count": 70,
   "metadata": {},
   "outputs": [],
   "source": [
    "import sys\n",
    "import os\n",
    "sys.path.append(os.path.join(os.path.abspath('..')))"
   ]
  },
  {
   "cell_type": "code",
   "execution_count": 71,
   "metadata": {},
   "outputs": [],
   "source": [
    "# Import and concatenate multiple datasets\n",
    "df1 = pd.read_csv(\"../data/CheMed123_data.csv\")\n",
    "df2 = pd.read_csv(\"../data/DoctorsET_data.csv\")\n",
    "df3 = pd.read_csv(\"../data/lobelia4cosmetics_data.csv\")\n",
    "df4 = pd.read_csv(\"../data/yetenaweg_data.csv\")\n",
    "\n",
    "# Concatenate datasets vertically (rows-wise)\n",
    "df = pd.concat([df1, df2, df3, df4], ignore_index=True)"
   ]
  },
  {
   "cell_type": "code",
   "execution_count": 72,
   "metadata": {},
   "outputs": [
    {
     "data": {
      "text/plain": [
       "<bound method NDFrame.head of          Channel Title Channel Username    ID  \\\n",
       "0               CheMed       @CheMed123    97   \n",
       "1               CheMed       @CheMed123    96   \n",
       "2               CheMed       @CheMed123    95   \n",
       "3               CheMed       @CheMed123    94   \n",
       "4               CheMed       @CheMed123    93   \n",
       "...                ...              ...   ...   \n",
       "1322  የጤና ወግ - የጤና መረጃ       @yetenaweg  1131   \n",
       "1323  የጤና ወግ - የጤና መረጃ       @yetenaweg  1130   \n",
       "1324  የጤና ወግ - የጤና መረጃ       @yetenaweg  1129   \n",
       "1325  የጤና ወግ - የጤና መረጃ       @yetenaweg  1128   \n",
       "1326  የጤና ወግ - የጤና መረጃ       @yetenaweg  1127   \n",
       "\n",
       "                                                Message  \\\n",
       "0     ⚠️Notice!\\nDear esteemed customers,\\nDue to fo...   \n",
       "1     Mela-One በውስጡ ሆርሞን ያለው ድንገተኛ ወሊድ መቆጣጠርያ ሲሆን ያለ...   \n",
       "2     አዚትሮማይሲን በሃኪም መድሃኒት ማዘዣ ከሚታዘዙ አንቲባዮቲኮች አንዱ ሲሆን...   \n",
       "3     Che-Med Trivia #3\\n\\nምግብና መጠጦች አንዳንድ መድሃኒቶች በደ...   \n",
       "4     Che-Med Trivia #2\\n\\nእንደ Ciprofloxacin, Doxycy...   \n",
       "...                                                 ...   \n",
       "1322                                                NaN   \n",
       "1323                                                NaN   \n",
       "1324                                                NaN   \n",
       "1325                                                NaN   \n",
       "1326  🌀የጤና ወግ በዚህ እሁድ የፊንጢጣ አካባቢ ህመም በሚል ርዕስ አዲስ ውይይ...   \n",
       "\n",
       "                           Date                  Media Path  \n",
       "0     2023-02-10 12:23:06+00:00    photos\\@CheMed123_97.jpg  \n",
       "1     2023-02-02 08:58:52+00:00    photos\\@CheMed123_96.jpg  \n",
       "2     2023-02-01 08:59:37+00:00    photos\\@CheMed123_95.jpg  \n",
       "3     2023-01-31 09:19:53+00:00    photos\\@CheMed123_94.jpg  \n",
       "4     2023-01-30 09:45:25+00:00    photos\\@CheMed123_93.jpg  \n",
       "...                         ...                         ...  \n",
       "1322  2024-08-11 15:01:05+00:00                         NaN  \n",
       "1323  2024-08-05 17:36:11+00:00                         NaN  \n",
       "1324  2024-08-05 17:34:31+00:00                         NaN  \n",
       "1325  2024-08-05 16:40:39+00:00  photos\\@yetenaweg_1128.jpg  \n",
       "1326  2024-08-05 16:40:39+00:00  photos\\@yetenaweg_1127.jpg  \n",
       "\n",
       "[1327 rows x 6 columns]>"
      ]
     },
     "execution_count": 72,
     "metadata": {},
     "output_type": "execute_result"
    }
   ],
   "source": [
    "df.head"
   ]
  },
  {
   "cell_type": "code",
   "execution_count": 73,
   "metadata": {},
   "outputs": [
    {
     "name": "stdout",
     "output_type": "stream",
     "text": [
      "<class 'pandas.core.frame.DataFrame'>\n",
      "RangeIndex: 1327 entries, 0 to 1326\n",
      "Data columns (total 6 columns):\n",
      " #   Column            Non-Null Count  Dtype \n",
      "---  ------            --------------  ----- \n",
      " 0   Channel Title     1327 non-null   object\n",
      " 1   Channel Username  1327 non-null   object\n",
      " 2   ID                1327 non-null   int64 \n",
      " 3   Message           1110 non-null   object\n",
      " 4   Date              1327 non-null   object\n",
      " 5   Media Path        1197 non-null   object\n",
      "dtypes: int64(1), object(5)\n",
      "memory usage: 62.3+ KB\n"
     ]
    }
   ],
   "source": [
    "df.shape\n",
    "df.info()"
   ]
  },
  {
   "cell_type": "markdown",
   "metadata": {},
   "source": [
    "Data Cleaning"
   ]
  },
  {
   "cell_type": "code",
   "execution_count": 74,
   "metadata": {},
   "outputs": [
    {
     "data": {
      "text/plain": [
       "np.int64(0)"
      ]
     },
     "execution_count": 74,
     "metadata": {},
     "output_type": "execute_result"
    }
   ],
   "source": [
    "# Check Duplicated and Removing Duplicates\n",
    "df.duplicated().sum()"
   ]
  },
  {
   "cell_type": "code",
   "execution_count": 75,
   "metadata": {},
   "outputs": [
    {
     "name": "stdout",
     "output_type": "stream",
     "text": [
      "Channel Title         0\n",
      "Channel Username      0\n",
      "ID                    0\n",
      "Message             217\n",
      "Date                  0\n",
      "Media Path          130\n",
      "dtype: int64\n"
     ]
    }
   ],
   "source": [
    "# Handling Missing Values\n",
    "print(df.isnull().sum())\n",
    "# Drop Missing values\n",
    "df.dropna(inplace=True)"
   ]
  },
  {
   "cell_type": "code",
   "execution_count": 76,
   "metadata": {},
   "outputs": [],
   "source": [
    "# Standardizing Formats\n",
    "df['Date'] = pd.to_datetime(df['Date'])"
   ]
  },
  {
   "cell_type": "code",
   "execution_count": 77,
   "metadata": {},
   "outputs": [
    {
     "name": "stdout",
     "output_type": "stream",
     "text": [
      "True\n"
     ]
    }
   ],
   "source": [
    "# Data Validation\n",
    "# Check if the ID column contains only unique values\n",
    "print(df['ID'].nunique() == len(df))"
   ]
  },
  {
   "cell_type": "code",
   "execution_count": 78,
   "metadata": {},
   "outputs": [
    {
     "data": {
      "text/plain": [
       "Index(['Channel Title', 'Channel Username', 'ID', 'Message', 'Date',\n",
       "       'Media Path'],\n",
       "      dtype='object')"
      ]
     },
     "execution_count": 78,
     "metadata": {},
     "output_type": "execute_result"
    }
   ],
   "source": [
    "df.columns"
   ]
  },
  {
   "cell_type": "code",
   "execution_count": 79,
   "metadata": {},
   "outputs": [
    {
     "data": {
      "text/html": [
       "<div>\n",
       "<style scoped>\n",
       "    .dataframe tbody tr th:only-of-type {\n",
       "        vertical-align: middle;\n",
       "    }\n",
       "\n",
       "    .dataframe tbody tr th {\n",
       "        vertical-align: top;\n",
       "    }\n",
       "\n",
       "    .dataframe thead th {\n",
       "        text-align: right;\n",
       "    }\n",
       "</style>\n",
       "<table border=\"1\" class=\"dataframe\">\n",
       "  <thead>\n",
       "    <tr style=\"text-align: right;\">\n",
       "      <th></th>\n",
       "      <th>Channel Title</th>\n",
       "      <th>Channel Username</th>\n",
       "      <th>ID</th>\n",
       "      <th>Message</th>\n",
       "      <th>Date</th>\n",
       "      <th>Media Path</th>\n",
       "    </tr>\n",
       "  </thead>\n",
       "  <tbody>\n",
       "    <tr>\n",
       "      <th>0</th>\n",
       "      <td>CheMed</td>\n",
       "      <td>@CheMed123</td>\n",
       "      <td>97</td>\n",
       "      <td>⚠️Notice!\\nDear esteemed customers,\\nDue to fo...</td>\n",
       "      <td>2023-02-10 12:23:06+00:00</td>\n",
       "      <td>photos\\@CheMed123_97.jpg</td>\n",
       "    </tr>\n",
       "    <tr>\n",
       "      <th>1</th>\n",
       "      <td>CheMed</td>\n",
       "      <td>@CheMed123</td>\n",
       "      <td>96</td>\n",
       "      <td>Mela-One በውስጡ ሆርሞን ያለው ድንገተኛ ወሊድ መቆጣጠርያ ሲሆን ያለ...</td>\n",
       "      <td>2023-02-02 08:58:52+00:00</td>\n",
       "      <td>photos\\@CheMed123_96.jpg</td>\n",
       "    </tr>\n",
       "    <tr>\n",
       "      <th>2</th>\n",
       "      <td>CheMed</td>\n",
       "      <td>@CheMed123</td>\n",
       "      <td>95</td>\n",
       "      <td>አዚትሮማይሲን በሃኪም መድሃኒት ማዘዣ ከሚታዘዙ አንቲባዮቲኮች አንዱ ሲሆን...</td>\n",
       "      <td>2023-02-01 08:59:37+00:00</td>\n",
       "      <td>photos\\@CheMed123_95.jpg</td>\n",
       "    </tr>\n",
       "    <tr>\n",
       "      <th>3</th>\n",
       "      <td>CheMed</td>\n",
       "      <td>@CheMed123</td>\n",
       "      <td>94</td>\n",
       "      <td>Che-Med Trivia #3\\n\\nምግብና መጠጦች አንዳንድ መድሃኒቶች በደ...</td>\n",
       "      <td>2023-01-31 09:19:53+00:00</td>\n",
       "      <td>photos\\@CheMed123_94.jpg</td>\n",
       "    </tr>\n",
       "    <tr>\n",
       "      <th>4</th>\n",
       "      <td>CheMed</td>\n",
       "      <td>@CheMed123</td>\n",
       "      <td>93</td>\n",
       "      <td>Che-Med Trivia #2\\n\\nእንደ Ciprofloxacin, Doxycy...</td>\n",
       "      <td>2023-01-30 09:45:25+00:00</td>\n",
       "      <td>photos\\@CheMed123_93.jpg</td>\n",
       "    </tr>\n",
       "    <tr>\n",
       "      <th>...</th>\n",
       "      <td>...</td>\n",
       "      <td>...</td>\n",
       "      <td>...</td>\n",
       "      <td>...</td>\n",
       "      <td>...</td>\n",
       "      <td>...</td>\n",
       "    </tr>\n",
       "    <tr>\n",
       "      <th>1310</th>\n",
       "      <td>የጤና ወግ - የጤና መረጃ</td>\n",
       "      <td>@yetenaweg</td>\n",
       "      <td>1145</td>\n",
       "      <td>የዝንጀሮ ፈንጣጣ ምልክቶችን ያውቃሉ?</td>\n",
       "      <td>2024-08-19 16:19:25+00:00</td>\n",
       "      <td>photos\\@yetenaweg_1145.jpg</td>\n",
       "    </tr>\n",
       "    <tr>\n",
       "      <th>1318</th>\n",
       "      <td>የጤና ወግ - የጤና መረጃ</td>\n",
       "      <td>@yetenaweg</td>\n",
       "      <td>1135</td>\n",
       "      <td>🌍⚠️የዝንጀሮ ፈንጣጣ በሽታ አሁን አሳሳቢ የአለም የጤና ጉዳይ ነው! በፍ...</td>\n",
       "      <td>2024-08-19 15:57:00+00:00</td>\n",
       "      <td>photos\\@yetenaweg_1135.jpg</td>\n",
       "    </tr>\n",
       "    <tr>\n",
       "      <th>1319</th>\n",
       "      <td>የጤና ወግ - የጤና መረጃ</td>\n",
       "      <td>@yetenaweg</td>\n",
       "      <td>1134</td>\n",
       "      <td>ከጤና ጥበቃ ሚኒስቴር</td>\n",
       "      <td>2024-08-18 13:36:05+00:00</td>\n",
       "      <td>photos\\@yetenaweg_1134.jpg</td>\n",
       "    </tr>\n",
       "    <tr>\n",
       "      <th>1320</th>\n",
       "      <td>የጤና ወግ - የጤና መረጃ</td>\n",
       "      <td>@yetenaweg</td>\n",
       "      <td>1133</td>\n",
       "      <td>በኢትዮጵያ እስካሁን ድረስ በዝንጀሮ ፈንጣጣ (MPox) በሽታ የተያዘ ሰው...</td>\n",
       "      <td>2024-08-15 00:54:01+00:00</td>\n",
       "      <td>photos\\@yetenaweg_1133.jpg</td>\n",
       "    </tr>\n",
       "    <tr>\n",
       "      <th>1326</th>\n",
       "      <td>የጤና ወግ - የጤና መረጃ</td>\n",
       "      <td>@yetenaweg</td>\n",
       "      <td>1127</td>\n",
       "      <td>🌀የጤና ወግ በዚህ እሁድ የፊንጢጣ አካባቢ ህመም በሚል ርዕስ አዲስ ውይይ...</td>\n",
       "      <td>2024-08-05 16:40:39+00:00</td>\n",
       "      <td>photos\\@yetenaweg_1127.jpg</td>\n",
       "    </tr>\n",
       "  </tbody>\n",
       "</table>\n",
       "<p>1027 rows × 6 columns</p>\n",
       "</div>"
      ],
      "text/plain": [
       "         Channel Title Channel Username    ID  \\\n",
       "0               CheMed       @CheMed123    97   \n",
       "1               CheMed       @CheMed123    96   \n",
       "2               CheMed       @CheMed123    95   \n",
       "3               CheMed       @CheMed123    94   \n",
       "4               CheMed       @CheMed123    93   \n",
       "...                ...              ...   ...   \n",
       "1310  የጤና ወግ - የጤና መረጃ       @yetenaweg  1145   \n",
       "1318  የጤና ወግ - የጤና መረጃ       @yetenaweg  1135   \n",
       "1319  የጤና ወግ - የጤና መረጃ       @yetenaweg  1134   \n",
       "1320  የጤና ወግ - የጤና መረጃ       @yetenaweg  1133   \n",
       "1326  የጤና ወግ - የጤና መረጃ       @yetenaweg  1127   \n",
       "\n",
       "                                                Message  \\\n",
       "0     ⚠️Notice!\\nDear esteemed customers,\\nDue to fo...   \n",
       "1     Mela-One በውስጡ ሆርሞን ያለው ድንገተኛ ወሊድ መቆጣጠርያ ሲሆን ያለ...   \n",
       "2     አዚትሮማይሲን በሃኪም መድሃኒት ማዘዣ ከሚታዘዙ አንቲባዮቲኮች አንዱ ሲሆን...   \n",
       "3     Che-Med Trivia #3\\n\\nምግብና መጠጦች አንዳንድ መድሃኒቶች በደ...   \n",
       "4     Che-Med Trivia #2\\n\\nእንደ Ciprofloxacin, Doxycy...   \n",
       "...                                                 ...   \n",
       "1310                            የዝንጀሮ ፈንጣጣ ምልክቶችን ያውቃሉ?   \n",
       "1318  🌍⚠️የዝንጀሮ ፈንጣጣ በሽታ አሁን አሳሳቢ የአለም የጤና ጉዳይ ነው! በፍ...   \n",
       "1319                                      ከጤና ጥበቃ ሚኒስቴር   \n",
       "1320  በኢትዮጵያ እስካሁን ድረስ በዝንጀሮ ፈንጣጣ (MPox) በሽታ የተያዘ ሰው...   \n",
       "1326  🌀የጤና ወግ በዚህ እሁድ የፊንጢጣ አካባቢ ህመም በሚል ርዕስ አዲስ ውይይ...   \n",
       "\n",
       "                          Date                  Media Path  \n",
       "0    2023-02-10 12:23:06+00:00    photos\\@CheMed123_97.jpg  \n",
       "1    2023-02-02 08:58:52+00:00    photos\\@CheMed123_96.jpg  \n",
       "2    2023-02-01 08:59:37+00:00    photos\\@CheMed123_95.jpg  \n",
       "3    2023-01-31 09:19:53+00:00    photos\\@CheMed123_94.jpg  \n",
       "4    2023-01-30 09:45:25+00:00    photos\\@CheMed123_93.jpg  \n",
       "...                        ...                         ...  \n",
       "1310 2024-08-19 16:19:25+00:00  photos\\@yetenaweg_1145.jpg  \n",
       "1318 2024-08-19 15:57:00+00:00  photos\\@yetenaweg_1135.jpg  \n",
       "1319 2024-08-18 13:36:05+00:00  photos\\@yetenaweg_1134.jpg  \n",
       "1320 2024-08-15 00:54:01+00:00  photos\\@yetenaweg_1133.jpg  \n",
       "1326 2024-08-05 16:40:39+00:00  photos\\@yetenaweg_1127.jpg  \n",
       "\n",
       "[1027 rows x 6 columns]"
      ]
     },
     "execution_count": 79,
     "metadata": {},
     "output_type": "execute_result"
    }
   ],
   "source": [
    "df"
   ]
  },
  {
   "cell_type": "code",
   "execution_count": 80,
   "metadata": {},
   "outputs": [],
   "source": [
    "import re\n",
    "import pandas as pd\n",
    "import logging\n",
    "\n",
    "# Set up logging to write to a file\n",
    "logging.basicConfig(\n",
    "    filename='../logs/extraction.log',  # Path to the log file\n",
    "    level=logging.INFO,  # Set log level to INFO to capture all logs\n",
    "    format='%(asctime)s - %(levelname)s - %(message)s'  # Log format: timestamp, level, message\n",
    ")"
   ]
  },
  {
   "cell_type": "code",
   "execution_count": 81,
   "metadata": {},
   "outputs": [],
   "source": [
    "# Function to extract price\n",
    "def extract_price(text):\n",
    "    logging.info('Attempting to extract price from message: \"%s\"', text)\n",
    "    prices = re.findall(r'\\d+\\s*birr', text)\n",
    "    if prices:\n",
    "        logging.info(f\"Price found: {prices[0]}\")\n",
    "        return prices[0]\n",
    "    else:\n",
    "        logging.info(\"No price found.\")\n",
    "        return None\n",
    "\n",
    "# Extract Price \n",
    "df['Price'] = df['Message'].apply(extract_price)"
   ]
  },
  {
   "cell_type": "code",
   "execution_count": 82,
   "metadata": {},
   "outputs": [],
   "source": [
    "# Function to extract phone number\n",
    "def extract_phone(text):\n",
    "    logging.info('Attempting to extract phone number from message: \"%s\"', text)\n",
    "    phone_numbers = re.findall(r'09\\d{8}', text)\n",
    "    if phone_numbers:\n",
    "        logging.info(f\"Phone number found: {phone_numbers[0]}\")\n",
    "        return phone_numbers[0]\n",
    "    else:\n",
    "        logging.info(\"No phone number found.\")\n",
    "        return None\n",
    "\n",
    "# Extract Phone Numbers\n",
    "df['Phone Number'] = df['Message'].apply(extract_phone)"
   ]
  },
  {
   "cell_type": "code",
   "execution_count": 85,
   "metadata": {},
   "outputs": [],
   "source": [
    "# Function to extract Telegram handle\n",
    "def extract_telegram(message):\n",
    "    logging.info('Extracting Telegram handle from message: \"%s\"', message)\n",
    "    telegram_handle = re.findall(r'@\\w+|https://t.me/\\w+', message)\n",
    "    if telegram_handle:\n",
    "        logging.info(f\"Telegram handle found: {telegram_handle[0]}\")\n",
    "        return telegram_handle[0]\n",
    "    else:\n",
    "        logging.info(\"No Telegram handle found.\")\n",
    "        return None\n",
    "\n",
    "# Apply the function to extract Telegram handles\n",
    "df['Telegram Address'] = df['Message'].apply(extract_telegram)"
   ]
  },
  {
   "cell_type": "code",
   "execution_count": 87,
   "metadata": {},
   "outputs": [],
   "source": [
    "# Function to extract location/address\n",
    "def extract_location(message):\n",
    "    logging.info('Extracting location/address from message: \"%s\"', message)\n",
    "    location = re.search(r'(Address[:-]?.*)', message, re.IGNORECASE)\n",
    "    if location:\n",
    "        clean_location = location.group(0).replace('Address:-', '').replace('Adress:-', '').strip()\n",
    "        logging.info(f\"Location found: {clean_location}\")\n",
    "        return clean_location\n",
    "    else:\n",
    "        logging.info(\"No location found.\")\n",
    "        return None\n",
    "\n",
    "# Apply the function to extract location\n",
    "df['Location'] = df['Message'].apply(extract_location)"
   ]
  },
  {
   "cell_type": "code",
   "execution_count": 88,
   "metadata": {},
   "outputs": [],
   "source": [
    "# Function to remove emojis\n",
    "def remove_emojis(text):\n",
    "    logging.info('Removing emojis from message: \"%s\"', text)\n",
    "    emoji_pattern = re.compile(\n",
    "        \"[\"\n",
    "        u\"\\U0001F600-\\U0001F64F\"  # emoticons\n",
    "        u\"\\U0001F300-\\U0001F5FF\"  # symbols & pictographs\n",
    "        u\"\\U0001F680-\\U0001F6FF\"  # transport & map symbols\n",
    "        u\"\\U0001F1E0-\\U0001F1FF\"  # flags (iOS)\n",
    "        u\"\\U00002500-\\U00002BEF\"  # chinese characters\n",
    "        u\"\\U00002702-\\U000027B0\"\n",
    "        u\"\\U00002702-\\U000027B0\"\n",
    "        u\"\\U000024C2-\\U0001F251\"\n",
    "        \"]+\", flags=re.UNICODE)\n",
    "    cleaned_text = emoji_pattern.sub(r'', text)\n",
    "    logging.info('Emojis removed, cleaned message: \"%s\"', cleaned_text)\n",
    "    return cleaned_text\n",
    "\n",
    "# Apply the function to remove emojis\n",
    "df['Message'] = df['Message'].apply(remove_emojis)"
   ]
  },
  {
   "cell_type": "code",
   "execution_count": 90,
   "metadata": {},
   "outputs": [
    {
     "name": "stdout",
     "output_type": "stream",
     "text": [
      "                                                Message  \\\n",
      "0     Notice!\\nDear esteemed customers,\\nDue to four...   \n",
      "1     Mela-One በውስጡ ሆርሞን ያለው ድንገተኛ ወሊድ መቆጣጠርያ ሲሆን ያለ...   \n",
      "2     አዚትሮማይሲን በሃኪም መድሃኒት ማዘዣ ከሚታዘዙ አንቲባዮቲኮች አንዱ ሲሆን...   \n",
      "3     Che-Med Trivia #3\\n\\nምግብና መጠጦች አንዳንድ መድሃኒቶች በደ...   \n",
      "4     Che-Med Trivia #2\\n\\nእንደ Ciprofloxacin, Doxycy...   \n",
      "...                                                 ...   \n",
      "1310                            የዝንጀሮ ፈንጣጣ ምልክቶችን ያውቃሉ?   \n",
      "1318  የዝንጀሮ ፈንጣጣ በሽታ አሁን አሳሳቢ የአለም የጤና ጉዳይ ነው! በፍጥነት...   \n",
      "1319                                      ከጤና ጥበቃ ሚኒስቴር   \n",
      "1320  በኢትዮጵያ እስካሁን ድረስ በዝንጀሮ ፈንጣጣ (MPox) በሽታ የተያዘ ሰው...   \n",
      "1326  የጤና ወግ በዚህ እሁድ የፊንጢጣ አካባቢ ህመም በሚል ርዕስ አዲስ ውይይት...   \n",
      "\n",
      "            Telegram Address Location  \n",
      "0                       None     None  \n",
      "1                       None     None  \n",
      "2                       None     None  \n",
      "3                       None     None  \n",
      "4                       None     None  \n",
      "...                      ...      ...  \n",
      "1310                    None     None  \n",
      "1318                    None     None  \n",
      "1319                    None     None  \n",
      "1320      @FMoHealthEthiopia     None  \n",
      "1326  https://t.me/yetenaweg     None  \n",
      "\n",
      "[1027 rows x 3 columns]\n"
     ]
    }
   ],
   "source": [
    "# Display the DataFrame\n",
    "print(df[['Message', 'Telegram Address', 'Location']])"
   ]
  },
  {
   "cell_type": "code",
   "execution_count": 92,
   "metadata": {},
   "outputs": [],
   "source": [
    "# Save the preprocessed data to csv file\n",
    "df.to_csv('../data/preprocessed_tg_data.csv', index=False)"
   ]
  },
  {
   "cell_type": "code",
   "execution_count": 3,
   "metadata": {},
   "outputs": [
    {
     "name": "stderr",
     "output_type": "stream",
     "text": [
      "C:\\Users\\HP\\AppData\\Local\\Temp\\ipykernel_20300\\209081685.py:11: FutureWarning: DataFrame.applymap has been deprecated. Use DataFrame.map instead.\n",
      "  df = df.applymap(lambda x: x.encode('utf-8', 'ignore').decode('utf-8') if isinstance(x, str) else x)\n"
     ]
    }
   ],
   "source": [
    "import pandas as pd\n",
    "\n",
    "# Read the file with the original encoding\n",
    "df = pd.read_csv(\n",
    "    r'C:\\Users\\HP\\Documents\\10-Academy\\Kara-solution-WEEK7\\data\\preprocessed_tg_data.csv',\n",
    "    encoding='latin1',  # or use 'ISO-8859-1' which is similar\n",
    "    on_bad_lines='skip'  # Skip bad lines\n",
    ")\n",
    "\n",
    "# Optionally, clean the DataFrame to remove any problematic characters\n",
    "df = df.applymap(lambda x: x.encode('utf-8', 'ignore').decode('utf-8') if isinstance(x, str) else x)\n",
    "\n",
    "# Save it as UTF-8\n",
    "df.to_csv(\n",
    "    r'C:\\Users\\HP\\Documents\\10-Academy\\Kara-solution-WEEK7\\data\\preprocessed_tg_data_utf8.csv',\n",
    "    index=False,\n",
    "    encoding='utf-8'\n",
    ")\n"
   ]
  },
  {
   "cell_type": "code",
   "execution_count": null,
   "metadata": {},
   "outputs": [],
   "source": []
  }
 ],
 "metadata": {
  "kernelspec": {
   "display_name": ".venv",
   "language": "python",
   "name": "python3"
  },
  "language_info": {
   "codemirror_mode": {
    "name": "ipython",
    "version": 3
   },
   "file_extension": ".py",
   "mimetype": "text/x-python",
   "name": "python",
   "nbconvert_exporter": "python",
   "pygments_lexer": "ipython3",
   "version": "3.12.5"
  }
 },
 "nbformat": 4,
 "nbformat_minor": 2
}
