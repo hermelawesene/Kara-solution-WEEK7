{
  "nbformat": 4,
  "nbformat_minor": 0,
  "metadata": {
    "colab": {
      "provenance": []
    },
    "kernelspec": {
      "name": "python3",
      "display_name": "Python 3"
    },
    "language_info": {
      "name": "python"
    }
  },
  "cells": [
    {
      "cell_type": "code",
      "execution_count": 21,
      "metadata": {
        "colab": {
          "base_uri": "https://localhost:8080/"
        },
        "id": "mztSnQAQ5-fT",
        "outputId": "61928e25-7272-4859-b2f8-0d8fa963f57d"
      },
      "outputs": [
        {
          "output_type": "stream",
          "name": "stdout",
          "text": [
            "Cloning into 'yolov5'...\n",
            "remote: Enumerating objects: 16995, done.\u001b[K\n",
            "remote: Counting objects: 100% (190/190), done.\u001b[K\n",
            "remote: Compressing objects: 100% (130/130), done.\u001b[K\n",
            "remote: Total 16995 (delta 101), reused 119 (delta 60), pack-reused 16805 (from 1)\u001b[K\n",
            "Receiving objects: 100% (16995/16995), 15.72 MiB | 21.18 MiB/s, done.\n",
            "Resolving deltas: 100% (11639/11639), done.\n"
          ]
        }
      ],
      "source": [
        "!git clone https://github.com/ultralytics/yolov5.git"
      ]
    },
    {
      "cell_type": "code",
      "source": [
        "%cd yolov5/\n",
        "!pip install -r requirements.txt"
      ],
      "metadata": {
        "colab": {
          "base_uri": "https://localhost:8080/"
        },
        "id": "lDhSNeWC8JOd",
        "outputId": "c0c997f8-c55a-455a-cb2e-539204433e4c"
      },
      "execution_count": null,
      "outputs": [
        {
          "output_type": "stream",
          "name": "stdout",
          "text": [
            "/content/yolov5\n",
            "Collecting gitpython>=3.1.30 (from -r requirements.txt (line 5))\n",
            "  Downloading GitPython-3.1.43-py3-none-any.whl.metadata (13 kB)\n",
            "Requirement already satisfied: matplotlib>=3.3 in /usr/local/lib/python3.10/dist-packages (from -r requirements.txt (line 6)) (3.7.1)\n",
            "Requirement already satisfied: numpy>=1.23.5 in /usr/local/lib/python3.10/dist-packages (from -r requirements.txt (line 7)) (1.26.4)\n",
            "Requirement already satisfied: opencv-python>=4.1.1 in /usr/local/lib/python3.10/dist-packages (from -r requirements.txt (line 8)) (4.10.0.84)\n",
            "Requirement already satisfied: pillow>=10.3.0 in /usr/local/lib/python3.10/dist-packages (from -r requirements.txt (line 9)) (10.4.0)\n",
            "Requirement already satisfied: psutil in /usr/local/lib/python3.10/dist-packages (from -r requirements.txt (line 10)) (5.9.5)\n",
            "Requirement already satisfied: PyYAML>=5.3.1 in /usr/local/lib/python3.10/dist-packages (from -r requirements.txt (line 11)) (6.0.2)\n",
            "Requirement already satisfied: requests>=2.32.2 in /usr/local/lib/python3.10/dist-packages (from -r requirements.txt (line 12)) (2.32.3)\n",
            "Requirement already satisfied: scipy>=1.4.1 in /usr/local/lib/python3.10/dist-packages (from -r requirements.txt (line 13)) (1.13.1)\n",
            "Collecting thop>=0.1.1 (from -r requirements.txt (line 14))\n",
            "  Downloading thop-0.1.1.post2209072238-py3-none-any.whl.metadata (2.7 kB)\n",
            "Requirement already satisfied: torch>=1.8.0 in /usr/local/lib/python3.10/dist-packages (from -r requirements.txt (line 15)) (2.4.1+cu121)\n",
            "Requirement already satisfied: torchvision>=0.9.0 in /usr/local/lib/python3.10/dist-packages (from -r requirements.txt (line 16)) (0.19.1+cu121)\n",
            "Requirement already satisfied: tqdm>=4.66.3 in /usr/local/lib/python3.10/dist-packages (from -r requirements.txt (line 17)) (4.66.5)\n",
            "Collecting ultralytics>=8.2.34 (from -r requirements.txt (line 18))\n",
            "  Downloading ultralytics-8.3.13-py3-none-any.whl.metadata (34 kB)\n",
            "Requirement already satisfied: pandas>=1.1.4 in /usr/local/lib/python3.10/dist-packages (from -r requirements.txt (line 27)) (2.2.2)\n",
            "Requirement already satisfied: seaborn>=0.11.0 in /usr/local/lib/python3.10/dist-packages (from -r requirements.txt (line 28)) (0.13.2)\n",
            "Requirement already satisfied: setuptools>=70.0.0 in /usr/local/lib/python3.10/dist-packages (from -r requirements.txt (line 42)) (71.0.4)\n",
            "Collecting gitdb<5,>=4.0.1 (from gitpython>=3.1.30->-r requirements.txt (line 5))\n",
            "  Downloading gitdb-4.0.11-py3-none-any.whl.metadata (1.2 kB)\n",
            "Requirement already satisfied: contourpy>=1.0.1 in /usr/local/lib/python3.10/dist-packages (from matplotlib>=3.3->-r requirements.txt (line 6)) (1.3.0)\n",
            "Requirement already satisfied: cycler>=0.10 in /usr/local/lib/python3.10/dist-packages (from matplotlib>=3.3->-r requirements.txt (line 6)) (0.12.1)\n",
            "Requirement already satisfied: fonttools>=4.22.0 in /usr/local/lib/python3.10/dist-packages (from matplotlib>=3.3->-r requirements.txt (line 6)) (4.54.1)\n",
            "Requirement already satisfied: kiwisolver>=1.0.1 in /usr/local/lib/python3.10/dist-packages (from matplotlib>=3.3->-r requirements.txt (line 6)) (1.4.7)\n",
            "Requirement already satisfied: packaging>=20.0 in /usr/local/lib/python3.10/dist-packages (from matplotlib>=3.3->-r requirements.txt (line 6)) (24.1)\n",
            "Requirement already satisfied: pyparsing>=2.3.1 in /usr/local/lib/python3.10/dist-packages (from matplotlib>=3.3->-r requirements.txt (line 6)) (3.1.4)\n",
            "Requirement already satisfied: python-dateutil>=2.7 in /usr/local/lib/python3.10/dist-packages (from matplotlib>=3.3->-r requirements.txt (line 6)) (2.8.2)\n",
            "Requirement already satisfied: charset-normalizer<4,>=2 in /usr/local/lib/python3.10/dist-packages (from requests>=2.32.2->-r requirements.txt (line 12)) (3.4.0)\n",
            "Requirement already satisfied: idna<4,>=2.5 in /usr/local/lib/python3.10/dist-packages (from requests>=2.32.2->-r requirements.txt (line 12)) (3.10)\n",
            "Requirement already satisfied: urllib3<3,>=1.21.1 in /usr/local/lib/python3.10/dist-packages (from requests>=2.32.2->-r requirements.txt (line 12)) (2.2.3)\n",
            "Requirement already satisfied: certifi>=2017.4.17 in /usr/local/lib/python3.10/dist-packages (from requests>=2.32.2->-r requirements.txt (line 12)) (2024.8.30)\n",
            "Requirement already satisfied: filelock in /usr/local/lib/python3.10/dist-packages (from torch>=1.8.0->-r requirements.txt (line 15)) (3.16.1)\n",
            "Requirement already satisfied: typing-extensions>=4.8.0 in /usr/local/lib/python3.10/dist-packages (from torch>=1.8.0->-r requirements.txt (line 15)) (4.12.2)\n",
            "Requirement already satisfied: sympy in /usr/local/lib/python3.10/dist-packages (from torch>=1.8.0->-r requirements.txt (line 15)) (1.13.3)\n",
            "Requirement already satisfied: networkx in /usr/local/lib/python3.10/dist-packages (from torch>=1.8.0->-r requirements.txt (line 15)) (3.4)\n",
            "Requirement already satisfied: jinja2 in /usr/local/lib/python3.10/dist-packages (from torch>=1.8.0->-r requirements.txt (line 15)) (3.1.4)\n",
            "Requirement already satisfied: fsspec in /usr/local/lib/python3.10/dist-packages (from torch>=1.8.0->-r requirements.txt (line 15)) (2024.6.1)\n",
            "Requirement already satisfied: py-cpuinfo in /usr/local/lib/python3.10/dist-packages (from ultralytics>=8.2.34->-r requirements.txt (line 18)) (9.0.0)\n",
            "Collecting ultralytics-thop>=2.0.0 (from ultralytics>=8.2.34->-r requirements.txt (line 18))\n",
            "  Downloading ultralytics_thop-2.0.9-py3-none-any.whl.metadata (9.3 kB)\n",
            "Requirement already satisfied: pytz>=2020.1 in /usr/local/lib/python3.10/dist-packages (from pandas>=1.1.4->-r requirements.txt (line 27)) (2024.2)\n",
            "Requirement already satisfied: tzdata>=2022.7 in /usr/local/lib/python3.10/dist-packages (from pandas>=1.1.4->-r requirements.txt (line 27)) (2024.2)\n",
            "Collecting smmap<6,>=3.0.1 (from gitdb<5,>=4.0.1->gitpython>=3.1.30->-r requirements.txt (line 5))\n",
            "  Downloading smmap-5.0.1-py3-none-any.whl.metadata (4.3 kB)\n",
            "Requirement already satisfied: six>=1.5 in /usr/local/lib/python3.10/dist-packages (from python-dateutil>=2.7->matplotlib>=3.3->-r requirements.txt (line 6)) (1.16.0)\n",
            "Requirement already satisfied: MarkupSafe>=2.0 in /usr/local/lib/python3.10/dist-packages (from jinja2->torch>=1.8.0->-r requirements.txt (line 15)) (3.0.1)\n",
            "Requirement already satisfied: mpmath<1.4,>=1.1.0 in /usr/local/lib/python3.10/dist-packages (from sympy->torch>=1.8.0->-r requirements.txt (line 15)) (1.3.0)\n",
            "Downloading GitPython-3.1.43-py3-none-any.whl (207 kB)\n",
            "\u001b[2K   \u001b[90m━━━━━━━━━━━━━━━━━━━━━━━━━━━━━━━━━━━━━━━━\u001b[0m \u001b[32m207.3/207.3 kB\u001b[0m \u001b[31m7.2 MB/s\u001b[0m eta \u001b[36m0:00:00\u001b[0m\n",
            "\u001b[?25hDownloading thop-0.1.1.post2209072238-py3-none-any.whl (15 kB)\n",
            "Downloading ultralytics-8.3.13-py3-none-any.whl (870 kB)\n",
            "\u001b[2K   \u001b[90m━━━━━━━━━━━━━━━━━━━━━━━━━━━━━━━━━━━━━━━━\u001b[0m \u001b[32m870.5/870.5 kB\u001b[0m \u001b[31m27.3 MB/s\u001b[0m eta \u001b[36m0:00:00\u001b[0m\n",
            "\u001b[?25hDownloading gitdb-4.0.11-py3-none-any.whl (62 kB)\n",
            "\u001b[2K   \u001b[90m━━━━━━━━━━━━━━━━━━━━━━━━━━━━━━━━━━━━━━━━\u001b[0m \u001b[32m62.7/62.7 kB\u001b[0m \u001b[31m4.9 MB/s\u001b[0m eta \u001b[36m0:00:00\u001b[0m\n",
            "\u001b[?25hDownloading ultralytics_thop-2.0.9-py3-none-any.whl (26 kB)\n",
            "Downloading smmap-5.0.1-py3-none-any.whl (24 kB)\n",
            "Installing collected packages: smmap, gitdb, ultralytics-thop, thop, gitpython, ultralytics\n",
            "Successfully installed gitdb-4.0.11 gitpython-3.1.43 smmap-5.0.1 thop-0.1.1.post2209072238 ultralytics-8.3.13 ultralytics-thop-2.0.9\n"
          ]
        }
      ]
    },
    {
      "cell_type": "code",
      "source": [
        "import os\n",
        "\n",
        "# Define the path to your photos folder in Google Drive\n",
        "image_folder = '/content/drive/MyDrive/photos'  # Update this path if necessary\n",
        "\n",
        "# Check if the folder exists and list its contents\n",
        "if os.path.exists(image_folder):\n",
        "    print(f\"Contents of the folder '{image_folder}':\")\n",
        "\n",
        "    # List all files and directories in the specified folder\n",
        "    files = os.listdir(image_folder)\n",
        "\n",
        "    if files:\n",
        "        for file in files:\n",
        "            print(file)\n",
        "    else:\n",
        "        print(\"The folder is empty.\")\n",
        "else:\n",
        "    print(f\"The folder '{image_folder}' does not exist.\")"
      ],
      "metadata": {
        "colab": {
          "base_uri": "https://localhost:8080/"
        },
        "collapsed": true,
        "id": "Ysp0DDRdRh_j",
        "outputId": "2317251f-d655-4bfa-e75f-638f7c43ccfc"
      },
      "execution_count": 22,
      "outputs": [
        {
          "output_type": "stream",
          "name": "stdout",
          "text": [
            "Contents of the folder '/content/drive/MyDrive/photos':\n",
            "@CheMed123_62.mp4\n",
            "@CheMed123_26.jpg\n",
            "@CheMed123_25.jpg\n",
            "@CheMed123_23.jpg\n",
            "@CheMed123_22.jpg\n",
            "@CheMed123_21.jpg\n",
            "@CheMed123_20.jpg\n",
            "@CheMed123_2.jpg\n",
            "@CheMed123_17.jpg\n",
            "@CheMed123_18.jpg\n",
            "@CheMed123_19.jpg\n",
            "@CheMed123_15.jpg\n",
            "@CheMed123_13.jpg\n",
            "@CheMed123_14.jpg\n",
            "@CheMed123_11.jpg\n",
            "@CheMed123_10.jpg\n",
            "@DoctorsET_263.mp4\n",
            "@CheMed123_30.jpg\n",
            "@CheMed123_3.jpg\n",
            "@CheMed123_27.jpg\n",
            "@CheMed123_29.jpg\n",
            "@CheMed123_31.jpg\n",
            "@CheMed123_73.mp4\n",
            "@CheMed123_75.jpg\n",
            "@CheMed123_76.jpg\n",
            "@CheMed123_74.jpg\n",
            "@CheMed123_70.jpg\n",
            "@CheMed123_67.jpg\n",
            "@CheMed123_71.jpg\n",
            "@CheMed123_64.jpg\n",
            "@CheMed123_56.jpg\n",
            "@CheMed123_60.jpg\n",
            "@CheMed123_59.jpg\n",
            "@CheMed123_57.jpg\n",
            "@CheMed123_53.jpg\n",
            "@CheMed123_58.jpg\n",
            "@CheMed123_55.jpg\n",
            "@CheMed123_50.jpg\n",
            "@CheMed123_48.jpg\n",
            "@CheMed123_52.jpg\n",
            "@CheMed123_49.jpg\n",
            "@CheMed123_46.jpg\n",
            "@CheMed123_45.jpg\n",
            "@CheMed123_44.jpg\n",
            "@CheMed123_43.jpg\n",
            "@CheMed123_40.jpg\n",
            "@CheMed123_41.jpg\n",
            "@CheMed123_34.jpg\n",
            "@CheMed123_38.jpg\n",
            "@CheMed123_39.jpg\n",
            "@CheMed123_33.jpg\n",
            "@CheMed123_32.jpg\n",
            "@DoctorsET_304.jpg\n",
            "@DoctorsET_311.jpg\n",
            "@DoctorsET_292.jpg\n",
            "@DoctorsET_287.jpg\n",
            "@DoctorsET_294.jpg\n",
            "@DoctorsET_284.jpg\n",
            "@DoctorsET_283.jpg\n",
            "@CheMed123_89.mp4\n",
            "@DoctorsET_273.jpg\n",
            "@DoctorsET_269.jpg\n",
            "@DoctorsET_281.jpg\n",
            "@DoctorsET_282.jpg\n",
            "@DoctorsET_270.jpg\n",
            "@DoctorsET_272.jpg\n",
            "@DoctorsET_271.jpg\n",
            "@DoctorsET_274.jpg\n",
            "@DoctorsET_278.jpg\n",
            "@DoctorsET_268.jpg\n",
            "@DoctorsET_256.jpg\n",
            "@DoctorsET_259.jpg\n",
            "@DoctorsET_264.jpg\n",
            "@DoctorsET_267.jpg\n",
            "@DoctorsET_261.jpg\n",
            "@DoctorsET_260.jpg\n",
            "@DoctorsET_254.jpg\n",
            "@DoctorsET_258.jpg\n",
            "@DoctorsET_257.jpg\n",
            "@DoctorsET_253.jpg\n",
            "@DoctorsET_231.jpg\n",
            "@CheMed123_85.jpg\n",
            "@DoctorsET_237.jpg\n",
            "@CheMed123_82.jpg\n",
            "@DoctorsET_245.jpg\n",
            "@DoctorsET_236.jpg\n",
            "@DoctorsET_224.jpg\n",
            "@CheMed123_87.jpg\n",
            "@CheMed123_78.jpg\n",
            "@DoctorsET_241.jpg\n",
            "@CheMed123_86.jpg\n",
            "@CheMed123_9.jpg\n",
            "@DoctorsET_226.jpg\n",
            "@DoctorsET_230.jpg\n",
            "@CheMed123_79.jpg\n",
            "@CheMed123_81.jpg\n",
            "@CheMed123_88.jpg\n",
            "@CheMed123_96.jpg\n",
            "@CheMed123_94.jpg\n",
            "@CheMed123_91.jpg\n",
            "@CheMed123_90.jpg\n",
            "@CheMed123_92.jpg\n",
            "@CheMed123_80.jpg\n",
            "@CheMed123_97.jpg\n",
            "@DoctorsET_229.jpg\n",
            "@CheMed123_93.jpg\n",
            "@CheMed123_95.jpg\n",
            "@CheMed123_77.jpg\n",
            "@DoctorsET_249.jpg\n",
            "@DoctorsET_251.jpg\n",
            "@DoctorsET_250.jpg\n",
            "@DoctorsET_246.jpg\n",
            "@DoctorsET_233.jpg\n",
            "@DoctorsET_243.jpg\n",
            "@DoctorsET_244.jpg\n",
            "@DoctorsET_242.jpg\n",
            "@DoctorsET_238.jpg\n",
            "@DoctorsET_239.jpg\n",
            "@DoctorsET_423.jpg\n",
            "@DoctorsET_361.jpg\n",
            "@DoctorsET_351.jpg\n",
            "@DoctorsET_362.jpg\n",
            "@DoctorsET_424.jpg\n",
            "@DoctorsET_349.jpg\n",
            "@DoctorsET_367.jpg\n",
            "@DoctorsET_433.jpg\n",
            "@DoctorsET_429.jpg\n",
            "@DoctorsET_427.jpg\n",
            "@DoctorsET_425.jpg\n",
            "@DoctorsET_434.jpg\n",
            "@DoctorsET_380.jpg\n",
            "@DoctorsET_412.pdf\n",
            "@DoctorsET_357.jpg\n",
            "@DoctorsET_344.jpg\n",
            "@DoctorsET_301.jpg\n",
            "@DoctorsET_440.jpg\n",
            "@DoctorsET_375.jpg\n",
            "@DoctorsET_420.pdf\n",
            "@DoctorsET_438.jpg\n",
            "@DoctorsET_446.jpg\n",
            "@DoctorsET_445.jpg\n",
            "@DoctorsET_444.jpg\n",
            "@DoctorsET_435.pdf\n",
            "@DoctorsET_443.pdf\n",
            "@DoctorsET_436.pdf\n",
            "@DoctorsET_385.jpg\n",
            "@DoctorsET_387.jpg\n",
            "@DoctorsET_384.jpg\n",
            "@DoctorsET_383.jpg\n",
            "@DoctorsET_376.jpg\n",
            "@DoctorsET_371.jpg\n",
            "@DoctorsET_379.jpg\n",
            "@DoctorsET_370.jpg\n",
            "@DoctorsET_368.jpg\n",
            "@DoctorsET_369.jpg\n",
            "@DoctorsET_363.jpg\n",
            "@DoctorsET_360.jpg\n",
            "@DoctorsET_358.jpg\n",
            "@DoctorsET_364.jpg\n",
            "@DoctorsET_354.jpg\n",
            "@DoctorsET_352.jpg\n",
            "@DoctorsET_336.jpg\n",
            "@DoctorsET_353.jpg\n",
            "@DoctorsET_345.jpg\n",
            "@DoctorsET_343.jpg\n",
            "@DoctorsET_339.jpg\n",
            "@DoctorsET_340.jpg\n",
            "@DoctorsET_333.jpg\n",
            "@DoctorsET_332.jpg\n",
            "@DoctorsET_312.jpg\n",
            "@DoctorsET_302.jpg\n",
            "@DoctorsET_305.jpg\n",
            "@DoctorsET_555.jpg\n",
            "@DoctorsET_561.jpg\n",
            "@DoctorsET_560.jpg\n",
            "@DoctorsET_562.jpg\n",
            "@DoctorsET_554.jpg\n",
            "@DoctorsET_558.jpg\n",
            "@DoctorsET_557.jpg\n",
            "@DoctorsET_551.jpg\n",
            "@DoctorsET_553.jpg\n",
            "@DoctorsET_547.jpg\n",
            "@DoctorsET_537.jpg\n",
            "@DoctorsET_539.jpg\n",
            "@DoctorsET_533.jpg\n",
            "@DoctorsET_535.jpg\n",
            "@DoctorsET_543.jpg\n",
            "@DoctorsET_530.jpg\n",
            "@DoctorsET_527.jpg\n",
            "@DoctorsET_531.jpg\n",
            "@DoctorsET_532.jpg\n",
            "@DoctorsET_524.jpg\n",
            "@DoctorsET_525.jpg\n",
            "@DoctorsET_521.jpg\n",
            "@DoctorsET_526.jpg\n",
            "@DoctorsET_523.jpg\n",
            "@DoctorsET_522.jpg\n",
            "@DoctorsET_516.jpg\n",
            "@DoctorsET_520.jpg\n",
            "@DoctorsET_519.jpg\n",
            "@DoctorsET_517.jpg\n",
            "@DoctorsET_515.jpg\n",
            "@DoctorsET_506.jpg\n",
            "@DoctorsET_511.jpg\n",
            "@DoctorsET_513.jpg\n",
            "@DoctorsET_405.jpg\n",
            "@DoctorsET_448.jpg\n",
            "@DoctorsET_512.jpg\n",
            "@DoctorsET_504.jpg\n",
            "@DoctorsET_483.jpg\n",
            "@DoctorsET_485.jpg\n",
            "@DoctorsET_462.jpg\n",
            "@DoctorsET_464.jpg\n",
            "@DoctorsET_410.jpg\n",
            "@DoctorsET_459.jpg\n",
            "@DoctorsET_503.jpg\n",
            "@DoctorsET_416.jpg\n",
            "@DoctorsET_447.jpg\n",
            "@DoctorsET_460.jpg\n",
            "@DoctorsET_406.jpg\n",
            "@DoctorsET_465.jpg\n",
            "@DoctorsET_392.jpg\n",
            "@DoctorsET_398.jpg\n",
            "@DoctorsET_401.jpg\n",
            "@DoctorsET_480.jpg\n",
            "@DoctorsET_411.jpg\n",
            "@DoctorsET_400.jpg\n",
            "@DoctorsET_409.jpg\n",
            "@DoctorsET_467.jpg\n",
            "@DoctorsET_473.jpg\n",
            "@DoctorsET_455.jpg\n",
            "@DoctorsET_396.jpg\n",
            "@DoctorsET_393.jpg\n",
            "@DoctorsET_408.jpg\n",
            "@DoctorsET_403.jpg\n",
            "@DoctorsET_419.jpg\n",
            "@DoctorsET_421.jpg\n",
            "@DoctorsET_469.jpg\n",
            "@DoctorsET_463.jpg\n",
            "@DoctorsET_407.jpg\n",
            "@DoctorsET_450.pdf\n",
            "@DoctorsET_453.pdf\n",
            "@DoctorsET_498.jpg\n",
            "@DoctorsET_451.pdf\n",
            "@DoctorsET_470.jpg\n",
            "@DoctorsET_500.jpg\n",
            "@DoctorsET_441.pdf\n",
            "@DoctorsET_474.jpg\n",
            "@DoctorsET_456.jpg\n",
            "@DoctorsET_477.jpg\n",
            "@DoctorsET_394.jpg\n",
            "@DoctorsET_449.pdf\n",
            "@DoctorsET_457.jpg\n",
            "@DoctorsET_476.jpg\n",
            "@DoctorsET_479.jpg\n",
            "@DoctorsET_478.jpg\n",
            "@DoctorsET_502.jpg\n",
            "@DoctorsET_452.pdf\n",
            "@DoctorsET_493.jpg\n",
            "@DoctorsET_496.jpg\n",
            "@DoctorsET_487.jpg\n",
            "@DoctorsET_486.jpg\n",
            "@DoctorsET_489.jpg\n",
            "@DoctorsET_491.jpg\n",
            "@DoctorsET_659.jpg\n",
            "@DoctorsET_660.jpg\n",
            "@DoctorsET_657.jpg\n",
            "@DoctorsET_653.jpg\n",
            "@DoctorsET_654.jpg\n",
            "@DoctorsET_658.jpg\n",
            "@DoctorsET_652.jpg\n",
            "@DoctorsET_655.jpg\n",
            "@DoctorsET_656.jpg\n",
            "@DoctorsET_651.jpg\n",
            "@DoctorsET_648.jpg\n",
            "@DoctorsET_644.jpg\n",
            "@DoctorsET_650.jpg\n",
            "@DoctorsET_639.jpg\n",
            "@DoctorsET_647.jpg\n",
            "@DoctorsET_642.jpg\n",
            "@DoctorsET_643.jpg\n",
            "@DoctorsET_640.jpg\n",
            "@DoctorsET_637.jpg\n",
            "@DoctorsET_638.jpg\n",
            "@DoctorsET_635.jpg\n",
            "@DoctorsET_636.jpg\n",
            "@DoctorsET_631.jpg\n",
            "@DoctorsET_634.jpg\n",
            "@DoctorsET_632.jpg\n",
            "@DoctorsET_629.jpg\n",
            "@DoctorsET_633.jpg\n",
            "@DoctorsET_630.jpg\n",
            "@DoctorsET_627.jpg\n",
            "@DoctorsET_628.jpg\n",
            "@DoctorsET_626.jpg\n",
            "@DoctorsET_625.jpg\n",
            "@DoctorsET_621.jpg\n",
            "@DoctorsET_624.jpg\n",
            "@DoctorsET_623.jpg\n",
            "@DoctorsET_622.jpg\n",
            "@DoctorsET_620.jpg\n",
            "@DoctorsET_617.jpg\n",
            "@DoctorsET_619.jpg\n",
            "@DoctorsET_618.jpg\n",
            "@DoctorsET_613.jpg\n",
            "@DoctorsET_588.jpg\n",
            "@DoctorsET_599.jpg\n",
            "@DoctorsET_604.jpg\n",
            "@DoctorsET_568.jpg\n",
            "@DoctorsET_565.jpg\n",
            "@DoctorsET_603.jpg\n",
            "@DoctorsET_566.jpg\n",
            "@DoctorsET_582.jpg\n",
            "@DoctorsET_600.jpg\n",
            "@DoctorsET_575.jpg\n",
            "@DoctorsET_591.jpg\n",
            "@DoctorsET_595.jpg\n",
            "@DoctorsET_577.jpg\n",
            "@DoctorsET_571.jpg\n",
            "@DoctorsET_585.jpg\n",
            "@DoctorsET_563.jpg\n",
            "@DoctorsET_596.jpg\n",
            "@DoctorsET_572.jpg\n",
            "@DoctorsET_602.jpg\n",
            "@DoctorsET_590.jpg\n",
            "@DoctorsET_594.jpg\n",
            "@DoctorsET_616.jpg\n",
            "@DoctorsET_579.jpg\n",
            "@DoctorsET_589.jpg\n",
            "@DoctorsET_601.jpg\n",
            "@DoctorsET_583.jpg\n",
            "@DoctorsET_573.jpg\n",
            "@DoctorsET_592.jpg\n",
            "@DoctorsET_605.jpg\n",
            "@DoctorsET_597.jpg\n",
            "@DoctorsET_610.jpg\n",
            "@DoctorsET_615.jpg\n",
            "@DoctorsET_614.jpg\n",
            "@DoctorsET_611.jpg\n",
            "@DoctorsET_584.jpg\n",
            "@DoctorsET_587.jpg\n",
            "@DoctorsET_612.jpg\n",
            "@DoctorsET_609.jpg\n",
            "@DoctorsET_607.jpg\n",
            "@DoctorsET_716.jpg\n",
            "@DoctorsET_720.jpg\n",
            "@DoctorsET_718.jpg\n",
            "@DoctorsET_721.jpg\n",
            "@DoctorsET_723.jpg\n",
            "@DoctorsET_717.jpg\n",
            "@DoctorsET_719.jpg\n",
            "@DoctorsET_266.mp4\n",
            "@DoctorsET_715.jpg\n",
            "@DoctorsET_710.jpg\n",
            "@DoctorsET_714.jpg\n",
            "@DoctorsET_711.jpg\n",
            "@DoctorsET_708.jpg\n",
            "@DoctorsET_707.jpg\n",
            "@DoctorsET_712.jpg\n",
            "@DoctorsET_713.jpg\n",
            "@DoctorsET_709.jpg\n",
            "@DoctorsET_706.jpg\n",
            "@DoctorsET_700.jpg\n",
            "@DoctorsET_704.jpg\n",
            "@DoctorsET_703.jpg\n",
            "@DoctorsET_702.jpg\n",
            "@DoctorsET_698.jpg\n",
            "@DoctorsET_701.jpg\n",
            "@DoctorsET_697.jpg\n",
            "@DoctorsET_699.jpg\n",
            "@DoctorsET_696.jpg\n",
            "@DoctorsET_674.jpg\n",
            "@DoctorsET_694.jpg\n",
            "@DoctorsET_695.jpg\n",
            "@DoctorsET_670.jpg\n",
            "@DoctorsET_668.jpg\n",
            "@DoctorsET_667.jpg\n",
            "@DoctorsET_669.jpg\n",
            "@DoctorsET_680.jpg\n",
            "@DoctorsET_691.jpg\n",
            "@DoctorsET_693.jpg\n",
            "@DoctorsET_688.jpg\n",
            "@DoctorsET_689.jpg\n",
            "@DoctorsET_676.jpg\n",
            "@DoctorsET_662.jpg\n",
            "@DoctorsET_679.jpg\n",
            "@DoctorsET_678.jpg\n",
            "@DoctorsET_663.jpg\n",
            "@DoctorsET_673.jpg\n",
            "@DoctorsET_671.jpg\n",
            "@DoctorsET_665.jpg\n",
            "@DoctorsET_661.jpg\n",
            "@DoctorsET_666.jpg\n",
            "@DoctorsET_664.jpg\n",
            "@DoctorsET_672.jpg\n",
            "@DoctorsET_686.jpg\n",
            "@DoctorsET_687.jpg\n",
            "@DoctorsET_685.jpg\n",
            "@DoctorsET_675.jpg\n",
            "@DoctorsET_677.jpg\n",
            "@DoctorsET_684.jpg\n",
            "@DoctorsET_683.jpg\n",
            "@DoctorsET_681.jpg\n",
            "@DoctorsET_682.jpg\n",
            "@DoctorsET_790.jpg\n",
            "@DoctorsET_378.mp4\n",
            "@DoctorsET_796.jpg\n",
            "@DoctorsET_795.jpg\n",
            "@DoctorsET_792.jpg\n",
            "@DoctorsET_793.jpg\n",
            "@DoctorsET_791.jpg\n",
            "@DoctorsET_415.pdf\n",
            "@DoctorsET_787.jpg\n",
            "@DoctorsET_788.jpg\n",
            "@DoctorsET_786.jpg\n",
            "@DoctorsET_783.jpg\n",
            "@DoctorsET_785.jpg\n",
            "@DoctorsET_784.jpg\n",
            "@DoctorsET_778.jpg\n",
            "@DoctorsET_779.jpg\n",
            "@DoctorsET_780.jpg\n",
            "@DoctorsET_782.jpg\n",
            "@DoctorsET_781.jpg\n",
            "@DoctorsET_414.pdf\n",
            "@DoctorsET_777.jpg\n",
            "@DoctorsET_776.jpg\n",
            "@DoctorsET_774.jpg\n",
            "@DoctorsET_775.jpg\n",
            "@DoctorsET_773.jpg\n",
            "@DoctorsET_772.jpg\n",
            "@DoctorsET_771.jpg\n",
            "@DoctorsET_724.jpg\n",
            "@DoctorsET_768.jpg\n",
            "@DoctorsET_770.jpg\n",
            "@DoctorsET_769.jpg\n",
            "@DoctorsET_767.jpg\n",
            "@DoctorsET_765.jpg\n",
            "@DoctorsET_738.jpg\n",
            "@DoctorsET_722.jpg\n",
            "@DoctorsET_732.jpg\n",
            "@DoctorsET_766.jpg\n",
            "@DoctorsET_742.jpg\n",
            "@DoctorsET_764.jpg\n",
            "@DoctorsET_730.jpg\n",
            "@DoctorsET_725.jpg\n",
            "@DoctorsET_737.jpg\n",
            "@DoctorsET_726.jpg\n",
            "@DoctorsET_734.jpg\n",
            "@DoctorsET_750.jpg\n",
            "@DoctorsET_747.jpg\n",
            "@DoctorsET_745.jpg\n",
            "@DoctorsET_733.jpg\n",
            "@DoctorsET_763.jpg\n",
            "@DoctorsET_762.jpg\n",
            "@DoctorsET_744.jpg\n",
            "@DoctorsET_739.jpg\n",
            "@DoctorsET_413.pdf\n",
            "@DoctorsET_729.jpg\n",
            "@DoctorsET_746.jpg\n",
            "@DoctorsET_731.jpg\n",
            "@DoctorsET_760.jpg\n",
            "@DoctorsET_743.jpg\n",
            "@DoctorsET_740.jpg\n",
            "@DoctorsET_741.jpg\n",
            "@DoctorsET_728.jpg\n",
            "@DoctorsET_748.jpg\n",
            "@DoctorsET_736.jpg\n",
            "@DoctorsET_727.jpg\n",
            "@DoctorsET_759.jpg\n",
            "@DoctorsET_758.jpg\n",
            "@DoctorsET_761.jpg\n",
            "@DoctorsET_757.jpg\n",
            "@DoctorsET_756.jpg\n",
            "@DoctorsET_753.jpg\n",
            "@DoctorsET_755.jpg\n",
            "@DoctorsET_754.jpg\n",
            "@DoctorsET_751.jpg\n",
            "@lobelia4cosmetics_11880.jpg\n",
            "@lobelia4cosmetics_11881.jpg\n",
            "@lobelia4cosmetics_11879.jpg\n",
            "@lobelia4cosmetics_11876.jpg\n",
            "@lobelia4cosmetics_11875.jpg\n",
            "@DoctorsET_432.pdf\n",
            "@lobelia4cosmetics_11874.jpg\n",
            "@lobelia4cosmetics_11877.jpg\n",
            "@lobelia4cosmetics_11872.jpg\n",
            "@lobelia4cosmetics_11878.jpg\n",
            "@lobelia4cosmetics_11870.jpg\n",
            "@lobelia4cosmetics_11871.jpg\n",
            "@lobelia4cosmetics_11869.jpg\n",
            "@DoctorsET_860.jpg\n",
            "@DoctorsET_864.jpg\n",
            "@DoctorsET_863.jpg\n",
            "@DoctorsET_430.pdf\n",
            "@DoctorsET_859.jpg\n",
            "@DoctorsET_861.jpg\n",
            "@DoctorsET_862.jpg\n",
            "@lobelia4cosmetics_11868.jpg\n",
            "@DoctorsET_848.jpg\n",
            "@DoctorsET_847.jpg\n",
            "@DoctorsET_844.jpg\n",
            "@DoctorsET_426.pdf\n",
            "@DoctorsET_845.jpg\n",
            "@DoctorsET_846.jpg\n",
            "@DoctorsET_843.jpg\n",
            "@DoctorsET_842.jpg\n",
            "@DoctorsET_836.jpg\n",
            "@DoctorsET_841.jpg\n",
            "@DoctorsET_839.jpg\n",
            "@DoctorsET_835.jpg\n",
            "@DoctorsET_840.jpg\n",
            "@DoctorsET_834.jpg\n",
            "@DoctorsET_833.jpg\n",
            "@DoctorsET_832.jpg\n",
            "@DoctorsET_422.pdf\n",
            "@DoctorsET_831.jpg\n",
            "@DoctorsET_825.jpg\n",
            "@DoctorsET_826.jpg\n",
            "@DoctorsET_830.jpg\n",
            "@DoctorsET_829.jpg\n",
            "@DoctorsET_827.jpg\n",
            "@DoctorsET_828.jpg\n",
            "@DoctorsET_824.jpg\n",
            "@DoctorsET_822.jpg\n",
            "@DoctorsET_809.jpg\n",
            "@DoctorsET_807.jpg\n",
            "@DoctorsET_802.jpg\n",
            "@DoctorsET_811.jpg\n",
            "@DoctorsET_799.jpg\n",
            "@DoctorsET_805.jpg\n",
            "@DoctorsET_797.jpg\n",
            "@DoctorsET_798.jpg\n",
            "@DoctorsET_808.jpg\n",
            "@DoctorsET_804.jpg\n",
            "@DoctorsET_801.jpg\n",
            "@DoctorsET_800.jpg\n",
            "@DoctorsET_417.pdf\n",
            "@DoctorsET_823.jpg\n",
            "@DoctorsET_418.pdf\n",
            "@DoctorsET_794.jpg\n",
            "@DoctorsET_819.jpg\n",
            "@DoctorsET_821.jpg\n",
            "@DoctorsET_812.jpg\n",
            "@DoctorsET_813.jpg\n",
            "@DoctorsET_814.jpg\n",
            "@DoctorsET_820.jpg\n",
            "@DoctorsET_818.jpg\n",
            "@DoctorsET_810.jpg\n",
            "@lobelia4cosmetics_11946.jpg\n",
            "@lobelia4cosmetics_11930.jpg\n",
            "@lobelia4cosmetics_11945.jpg\n",
            "@DoctorsET_495.mp4\n",
            "@DoctorsET_471.mp4\n",
            "@lobelia4cosmetics_11943.jpg\n",
            "@lobelia4cosmetics_11942.jpg\n",
            "@lobelia4cosmetics_11944.jpg\n",
            "@lobelia4cosmetics_11938.jpg\n",
            "@lobelia4cosmetics_11941.jpg\n",
            "@DoctorsET_497.mp4\n",
            "@lobelia4cosmetics_11936.jpg\n",
            "@lobelia4cosmetics_11939.jpg\n",
            "@lobelia4cosmetics_11937.jpg\n",
            "@DoctorsET_466.mp4\n",
            "@lobelia4cosmetics_11935.jpg\n",
            "@lobelia4cosmetics_11934.jpg\n",
            "@lobelia4cosmetics_11932.jpg\n",
            "@lobelia4cosmetics_11933.jpg\n",
            "@lobelia4cosmetics_11929.jpg\n",
            "@lobelia4cosmetics_11926.jpg\n",
            "@lobelia4cosmetics_11927.jpg\n",
            "@lobelia4cosmetics_11928.jpg\n",
            "@lobelia4cosmetics_11925.jpg\n",
            "@lobelia4cosmetics_11914.jpg\n",
            "@lobelia4cosmetics_11924.jpg\n",
            "@lobelia4cosmetics_11920.jpg\n",
            "@lobelia4cosmetics_11893.jpg\n",
            "@lobelia4cosmetics_11923.jpg\n",
            "@lobelia4cosmetics_11922.jpg\n",
            "@lobelia4cosmetics_11921.jpg\n",
            "@lobelia4cosmetics_11919.jpg\n",
            "@lobelia4cosmetics_11918.jpg\n",
            "@lobelia4cosmetics_11916.jpg\n",
            "@lobelia4cosmetics_11915.jpg\n",
            "@lobelia4cosmetics_11917.jpg\n",
            "@lobelia4cosmetics_11913.jpg\n",
            "@lobelia4cosmetics_11910.jpg\n",
            "@lobelia4cosmetics_11911.jpg\n",
            "@lobelia4cosmetics_11887.jpg\n",
            "@lobelia4cosmetics_11898.jpg\n",
            "@lobelia4cosmetics_11884.jpg\n",
            "@lobelia4cosmetics_11909.jpg\n",
            "@lobelia4cosmetics_11882.jpg\n",
            "@lobelia4cosmetics_11873.jpg\n",
            "@lobelia4cosmetics_11890.jpg\n",
            "@lobelia4cosmetics_11900.jpg\n",
            "@lobelia4cosmetics_11892.jpg\n",
            "@lobelia4cosmetics_11889.jpg\n",
            "@lobelia4cosmetics_11891.jpg\n",
            "@lobelia4cosmetics_11897.jpg\n",
            "@lobelia4cosmetics_11908.jpg\n",
            "@lobelia4cosmetics_11907.jpg\n",
            "@lobelia4cosmetics_11906.jpg\n",
            "@DoctorsET_439.pdf\n",
            "@lobelia4cosmetics_11885.jpg\n",
            "@lobelia4cosmetics_11886.jpg\n",
            "@lobelia4cosmetics_11896.jpg\n",
            "@lobelia4cosmetics_11888.jpg\n",
            "@lobelia4cosmetics_11895.jpg\n",
            "@lobelia4cosmetics_11894.jpg\n",
            "@lobelia4cosmetics_11883.jpg\n",
            "@lobelia4cosmetics_11904.jpg\n",
            "@lobelia4cosmetics_11902.jpg\n",
            "@lobelia4cosmetics_11903.jpg\n",
            "@lobelia4cosmetics_11905.jpg\n",
            "@lobelia4cosmetics_11901.jpg\n",
            "@DoctorsET_549.mp4\n",
            "@lobelia4cosmetics_12017.jpg\n",
            "@lobelia4cosmetics_12021.jpg\n",
            "@lobelia4cosmetics_12020.jpg\n",
            "@lobelia4cosmetics_12015.jpg\n",
            "@lobelia4cosmetics_12016.jpg\n",
            "@lobelia4cosmetics_12014.jpg\n",
            "@lobelia4cosmetics_12011.jpg\n",
            "@lobelia4cosmetics_12012.jpg\n",
            "@lobelia4cosmetics_12010.jpg\n",
            "@lobelia4cosmetics_12013.jpg\n",
            "@lobelia4cosmetics_12009.jpg\n",
            "@lobelia4cosmetics_12005.jpg\n",
            "@lobelia4cosmetics_12008.jpg\n",
            "@lobelia4cosmetics_12007.jpg\n",
            "@lobelia4cosmetics_12006.jpg\n",
            "@DoctorsET_536.mp4\n",
            "@lobelia4cosmetics_12002.jpg\n",
            "@lobelia4cosmetics_11998.jpg\n",
            "@lobelia4cosmetics_12004.jpg\n",
            "@lobelia4cosmetics_12003.jpg\n",
            "@lobelia4cosmetics_12000.jpg\n",
            "@lobelia4cosmetics_11999.jpg\n",
            "@lobelia4cosmetics_11996.jpg\n",
            "@lobelia4cosmetics_11997.jpg\n",
            "@lobelia4cosmetics_11995.jpg\n",
            "@lobelia4cosmetics_11994.jpg\n",
            "@lobelia4cosmetics_11993.jpg\n",
            "@lobelia4cosmetics_11990.jpg\n",
            "@lobelia4cosmetics_11992.jpg\n",
            "@lobelia4cosmetics_11987.jpg\n",
            "@lobelia4cosmetics_11988.jpg\n",
            "@lobelia4cosmetics_11991.jpg\n",
            "@DoctorsET_518.mp4\n",
            "@lobelia4cosmetics_11989.jpg\n",
            "@lobelia4cosmetics_11986.jpg\n",
            "@lobelia4cosmetics_11984.jpg\n",
            "@lobelia4cosmetics_11983.jpg\n",
            "@lobelia4cosmetics_11985.jpg\n",
            "@lobelia4cosmetics_11982.jpg\n",
            "@lobelia4cosmetics_11978.jpg\n",
            "@lobelia4cosmetics_11981.jpg\n",
            "@lobelia4cosmetics_11975.jpg\n",
            "@lobelia4cosmetics_11980.jpg\n",
            "@lobelia4cosmetics_11979.jpg\n",
            "@lobelia4cosmetics_11977.jpg\n",
            "@DoctorsET_508.mp4\n",
            "@lobelia4cosmetics_11956.jpg\n",
            "@lobelia4cosmetics_11976.jpg\n",
            "@lobelia4cosmetics_11959.jpg\n",
            "@lobelia4cosmetics_11960.jpg\n",
            "@lobelia4cosmetics_11949.jpg\n",
            "@lobelia4cosmetics_11948.jpg\n",
            "@lobelia4cosmetics_11971.jpg\n",
            "@lobelia4cosmetics_11974.jpg\n",
            "@lobelia4cosmetics_11972.jpg\n",
            "@lobelia4cosmetics_11947.jpg\n",
            "@lobelia4cosmetics_11973.jpg\n",
            "@lobelia4cosmetics_11951.jpg\n",
            "@lobelia4cosmetics_11957.jpg\n",
            "@lobelia4cosmetics_11950.jpg\n",
            "@lobelia4cosmetics_11952.jpg\n",
            "@lobelia4cosmetics_11958.jpg\n",
            "@lobelia4cosmetics_11955.jpg\n",
            "@lobelia4cosmetics_11970.jpg\n",
            "@lobelia4cosmetics_11954.jpg\n",
            "@lobelia4cosmetics_11953.jpg\n",
            "@lobelia4cosmetics_11969.jpg\n",
            "@lobelia4cosmetics_11968.jpg\n",
            "@lobelia4cosmetics_11966.jpg\n",
            "@lobelia4cosmetics_11963.jpg\n",
            "@lobelia4cosmetics_11965.jpg\n",
            "@lobelia4cosmetics_11967.jpg\n",
            "@lobelia4cosmetics_11964.jpg\n",
            "@lobelia4cosmetics_11961.jpg\n",
            "@lobelia4cosmetics_12102.jpg\n",
            "@lobelia4cosmetics_12023.jpg\n",
            "@DoctorsET_578.mp4\n",
            "@lobelia4cosmetics_12101.jpg\n",
            "@lobelia4cosmetics_12104.jpg\n",
            "@lobelia4cosmetics_12103.jpg\n",
            "@lobelia4cosmetics_12098.jpg\n",
            "@lobelia4cosmetics_12097.jpg\n",
            "@lobelia4cosmetics_12099.jpg\n",
            "@DoctorsET_550.mp4\n",
            "@lobelia4cosmetics_12093.jpg\n",
            "@lobelia4cosmetics_12095.jpg\n",
            "@lobelia4cosmetics_12096.jpg\n",
            "@lobelia4cosmetics_12094.jpg\n",
            "@lobelia4cosmetics_12091.jpg\n",
            "@lobelia4cosmetics_12092.jpg\n",
            "@lobelia4cosmetics_12086.jpg\n",
            "@lobelia4cosmetics_12090.jpg\n",
            "@lobelia4cosmetics_12085.jpg\n",
            "@DoctorsET_576.mp4\n",
            "@lobelia4cosmetics_12087.jpg\n",
            "@lobelia4cosmetics_12088.jpg\n",
            "@lobelia4cosmetics_12082.jpg\n",
            "@lobelia4cosmetics_12084.jpg\n",
            "@lobelia4cosmetics_12080.jpg\n",
            "@lobelia4cosmetics_12081.jpg\n",
            "@lobelia4cosmetics_12079.jpg\n",
            "@lobelia4cosmetics_12076.jpg\n",
            "@lobelia4cosmetics_12077.jpg\n",
            "@lobelia4cosmetics_12078.jpg\n",
            "@DoctorsET_569.mp4\n",
            "@lobelia4cosmetics_12075.jpg\n",
            "@lobelia4cosmetics_12071.jpg\n",
            "@lobelia4cosmetics_12073.jpg\n",
            "@lobelia4cosmetics_12074.jpg\n",
            "@lobelia4cosmetics_12072.jpg\n",
            "@lobelia4cosmetics_12070.jpg\n",
            "@DoctorsET_559.mp4\n",
            "@lobelia4cosmetics_12067.jpg\n",
            "@lobelia4cosmetics_12065.jpg\n",
            "@lobelia4cosmetics_12068.jpg\n",
            "@lobelia4cosmetics_12066.jpg\n",
            "@lobelia4cosmetics_12069.jpg\n",
            "@lobelia4cosmetics_12062.jpg\n",
            "@lobelia4cosmetics_12063.jpg\n",
            "@lobelia4cosmetics_12064.jpg\n",
            "@lobelia4cosmetics_12061.jpg\n",
            "@lobelia4cosmetics_12060.jpg\n",
            "@lobelia4cosmetics_12059.jpg\n",
            "@lobelia4cosmetics_12055.jpg\n",
            "@lobelia4cosmetics_12057.jpg\n",
            "@lobelia4cosmetics_12058.jpg\n",
            "@lobelia4cosmetics_12056.jpg\n",
            "@lobelia4cosmetics_12050.jpg\n",
            "@lobelia4cosmetics_12054.jpg\n",
            "@lobelia4cosmetics_12051.jpg\n",
            "@lobelia4cosmetics_12053.jpg\n",
            "@lobelia4cosmetics_12052.jpg\n",
            "@lobelia4cosmetics_12049.jpg\n",
            "@lobelia4cosmetics_12036.jpg\n",
            "@lobelia4cosmetics_12031.jpg\n",
            "@lobelia4cosmetics_12019.jpg\n",
            "@lobelia4cosmetics_12048.jpg\n",
            "@lobelia4cosmetics_12034.jpg\n",
            "@lobelia4cosmetics_12032.jpg\n",
            "@lobelia4cosmetics_12035.jpg\n",
            "@lobelia4cosmetics_12045.jpg\n",
            "@lobelia4cosmetics_12027.jpg\n",
            "@lobelia4cosmetics_12047.jpg\n",
            "@lobelia4cosmetics_12029.jpg\n",
            "@lobelia4cosmetics_12028.jpg\n",
            "@lobelia4cosmetics_12033.jpg\n",
            "@lobelia4cosmetics_12025.jpg\n",
            "@lobelia4cosmetics_12030.jpg\n",
            "@lobelia4cosmetics_12026.jpg\n",
            "@lobelia4cosmetics_12024.jpg\n",
            "@lobelia4cosmetics_12018.jpg\n",
            "@lobelia4cosmetics_12046.jpg\n",
            "@lobelia4cosmetics_12038.jpg\n",
            "@lobelia4cosmetics_12042.jpg\n",
            "@lobelia4cosmetics_12041.jpg\n",
            "@lobelia4cosmetics_12044.jpg\n",
            "@lobelia4cosmetics_12043.jpg\n",
            "@lobelia4cosmetics_12040.jpg\n",
            "@lobelia4cosmetics_12039.jpg\n",
            "@lobelia4cosmetics_12037.jpg\n",
            "@lobelia4cosmetics_12188.jpg\n",
            "@lobelia4cosmetics_12189.jpg\n",
            "@lobelia4cosmetics_12190.jpg\n",
            "@DoctorsET_817.mp4\n",
            "@lobelia4cosmetics_12185.jpg\n",
            "@lobelia4cosmetics_12184.jpg\n",
            "@lobelia4cosmetics_12186.jpg\n",
            "@lobelia4cosmetics_12187.jpg\n",
            "@lobelia4cosmetics_12183.jpg\n",
            "@lobelia4cosmetics_12180.jpg\n",
            "@lobelia4cosmetics_12181.jpg\n",
            "@lobelia4cosmetics_12176.jpg\n",
            "@lobelia4cosmetics_12178.jpg\n",
            "@lobelia4cosmetics_12179.jpg\n",
            "@lobelia4cosmetics_12177.jpg\n",
            "@lobelia4cosmetics_12174.jpg\n",
            "@lobelia4cosmetics_12173.jpg\n",
            "@lobelia4cosmetics_12172.jpg\n",
            "@lobelia4cosmetics_12168.jpg\n",
            "@lobelia4cosmetics_12169.jpg\n",
            "@lobelia4cosmetics_12171.jpg\n",
            "@lobelia4cosmetics_12167.jpg\n",
            "@lobelia4cosmetics_12170.jpg\n",
            "@lobelia4cosmetics_12162.jpg\n",
            "@lobelia4cosmetics_12165.jpg\n",
            "@lobelia4cosmetics_12163.jpg\n",
            "@lobelia4cosmetics_12166.jpg\n",
            "@lobelia4cosmetics_12164.jpg\n",
            "@lobelia4cosmetics_12161.jpg\n",
            "@lobelia4cosmetics_12158.jpg\n",
            "@lobelia4cosmetics_12160.jpg\n",
            "@lobelia4cosmetics_12159.jpg\n",
            "@lobelia4cosmetics_12156.jpg\n",
            "@lobelia4cosmetics_12157.jpg\n",
            "@lobelia4cosmetics_12152.jpg\n",
            "@lobelia4cosmetics_12154.jpg\n",
            "@lobelia4cosmetics_12153.jpg\n",
            "@lobelia4cosmetics_12155.jpg\n",
            "@lobelia4cosmetics_12151.jpg\n",
            "@lobelia4cosmetics_12150.jpg\n",
            "@lobelia4cosmetics_12149.jpg\n",
            "@lobelia4cosmetics_12147.jpg\n",
            "@lobelia4cosmetics_12144.jpg\n",
            "@lobelia4cosmetics_12148.jpg\n",
            "@lobelia4cosmetics_12143.jpg\n",
            "@lobelia4cosmetics_12142.jpg\n",
            "@lobelia4cosmetics_12146.jpg\n",
            "@lobelia4cosmetics_12145.jpg\n",
            "@lobelia4cosmetics_12141.jpg\n",
            "@lobelia4cosmetics_12139.jpg\n",
            "@lobelia4cosmetics_12140.jpg\n",
            "@lobelia4cosmetics_12112.jpg\n",
            "@lobelia4cosmetics_12108.jpg\n",
            "@lobelia4cosmetics_12116.jpg\n",
            "@lobelia4cosmetics_12109.jpg\n",
            "@lobelia4cosmetics_12121.jpg\n",
            "@lobelia4cosmetics_12117.jpg\n",
            "@lobelia4cosmetics_12113.jpg\n",
            "@lobelia4cosmetics_12107.jpg\n",
            "@lobelia4cosmetics_12138.jpg\n",
            "@lobelia4cosmetics_12135.jpg\n",
            "@lobelia4cosmetics_12136.jpg\n",
            "@lobelia4cosmetics_12111.jpg\n",
            "@lobelia4cosmetics_12115.jpg\n",
            "@lobelia4cosmetics_12119.jpg\n",
            "@lobelia4cosmetics_12120.jpg\n",
            "@lobelia4cosmetics_12137.jpg\n",
            "@lobelia4cosmetics_12118.jpg\n",
            "@lobelia4cosmetics_12114.jpg\n",
            "@lobelia4cosmetics_12133.jpg\n",
            "@lobelia4cosmetics_12132.jpg\n",
            "@lobelia4cosmetics_12134.jpg\n",
            "@lobelia4cosmetics_12129.jpg\n",
            "@lobelia4cosmetics_12130.jpg\n",
            "@lobelia4cosmetics_12131.jpg\n",
            "@lobelia4cosmetics_12123.jpg\n",
            "@lobelia4cosmetics_12127.jpg\n",
            "@lobelia4cosmetics_12128.jpg\n",
            "@lobelia4cosmetics_12124.jpg\n",
            "@lobelia4cosmetics_12125.jpg\n",
            "@lobelia4cosmetics_12126.jpg\n",
            "@lobelia4cosmetics_12122.jpg\n",
            "@lobelia4cosmetics_12255.jpg\n",
            "@lobelia4cosmetics_12252.jpg\n",
            "@lobelia4cosmetics_12253.jpg\n",
            "@yetenaweg_1161.mp4\n",
            "@yetenaweg_1162.mp4\n",
            "@lobelia4cosmetics_12248.jpg\n",
            "@lobelia4cosmetics_12250.jpg\n",
            "@lobelia4cosmetics_12245.jpg\n",
            "@lobelia4cosmetics_12251.jpg\n",
            "@lobelia4cosmetics_12246.jpg\n",
            "@lobelia4cosmetics_12243.jpg\n",
            "@lobelia4cosmetics_12244.jpg\n",
            "@lobelia4cosmetics_12242.jpg\n",
            "@lobelia4cosmetics_12239.jpg\n",
            "@lobelia4cosmetics_12241.jpg\n",
            "@lobelia4cosmetics_12238.jpg\n",
            "@lobelia4cosmetics_12232.jpg\n",
            "@lobelia4cosmetics_12236.jpg\n",
            "@lobelia4cosmetics_12235.jpg\n",
            "@lobelia4cosmetics_12234.jpg\n",
            "@lobelia4cosmetics_12231.jpg\n",
            "@lobelia4cosmetics_12233.jpg\n",
            "@lobelia4cosmetics_12175.jpg\n",
            "@lobelia4cosmetics_12220.jpg\n",
            "@lobelia4cosmetics_12206.jpg\n",
            "@lobelia4cosmetics_12229.jpg\n",
            "@lobelia4cosmetics_12230.jpg\n",
            "@lobelia4cosmetics_12182.jpg\n",
            "@lobelia4cosmetics_12228.jpg\n",
            "@lobelia4cosmetics_12227.jpg\n",
            "@yetenaweg_1163.mp4\n",
            "@lobelia4cosmetics_12226.jpg\n",
            "@lobelia4cosmetics_12225.jpg\n",
            "@lobelia4cosmetics_12223.jpg\n",
            "@lobelia4cosmetics_12222.jpg\n",
            "@lobelia4cosmetics_12221.jpg\n",
            "@lobelia4cosmetics_12219.jpg\n",
            "@lobelia4cosmetics_12191.jpg\n",
            "@lobelia4cosmetics_12218.jpg\n",
            "@lobelia4cosmetics_12195.jpg\n",
            "@lobelia4cosmetics_12217.jpg\n",
            "@lobelia4cosmetics_12196.jpg\n",
            "@lobelia4cosmetics_12214.jpg\n",
            "@lobelia4cosmetics_12197.jpg\n",
            "@lobelia4cosmetics_12215.jpg\n",
            "@lobelia4cosmetics_12216.jpg\n",
            "@lobelia4cosmetics_12199.jpg\n",
            "@lobelia4cosmetics_12194.jpg\n",
            "@lobelia4cosmetics_12213.jpg\n",
            "@lobelia4cosmetics_12208.jpg\n",
            "@lobelia4cosmetics_12209.jpg\n",
            "@lobelia4cosmetics_12198.jpg\n",
            "@lobelia4cosmetics_12210.jpg\n",
            "@lobelia4cosmetics_12192.jpg\n",
            "@lobelia4cosmetics_12212.jpg\n",
            "@lobelia4cosmetics_12211.jpg\n",
            "@lobelia4cosmetics_12207.jpg\n",
            "@lobelia4cosmetics_12205.jpg\n",
            "@lobelia4cosmetics_12203.jpg\n",
            "@lobelia4cosmetics_12201.jpg\n",
            "@lobelia4cosmetics_12202.jpg\n",
            "@lobelia4cosmetics_12204.jpg\n",
            "@lobelia4cosmetics_12200.jpg\n",
            "@yetenaweg_1126.mpeg\n",
            "@lobelia4cosmetics_12313.jpg\n",
            "@lobelia4cosmetics_12315.jpg\n",
            "@lobelia4cosmetics_12316.jpg\n",
            "@lobelia4cosmetics_12312.jpg\n",
            "@lobelia4cosmetics_12311.jpg\n",
            "@lobelia4cosmetics_12314.jpg\n",
            "@lobelia4cosmetics_12307.jpg\n",
            "@lobelia4cosmetics_12310.jpg\n",
            "@lobelia4cosmetics_12308.jpg\n",
            "@lobelia4cosmetics_12306.jpg\n",
            "@lobelia4cosmetics_12309.jpg\n",
            "@lobelia4cosmetics_12303.jpg\n",
            "@lobelia4cosmetics_12305.jpg\n",
            "@lobelia4cosmetics_12302.jpg\n",
            "@lobelia4cosmetics_12304.jpg\n",
            "@lobelia4cosmetics_12299.jpg\n",
            "@lobelia4cosmetics_12298.jpg\n",
            "@lobelia4cosmetics_12301.jpg\n",
            "@lobelia4cosmetics_12300.jpg\n",
            "@lobelia4cosmetics_12296.jpg\n",
            "@lobelia4cosmetics_12297.jpg\n",
            "@lobelia4cosmetics_12267.jpg\n",
            "@lobelia4cosmetics_12293.jpg\n",
            "@lobelia4cosmetics_12295.jpg\n",
            "@lobelia4cosmetics_12289.jpg\n",
            "@lobelia4cosmetics_12294.jpg\n",
            "@lobelia4cosmetics_12291.jpg\n",
            "@lobelia4cosmetics_12290.jpg\n",
            "@lobelia4cosmetics_12292.jpg\n",
            "@lobelia4cosmetics_12288.jpg\n",
            "@lobelia4cosmetics_12285.jpg\n",
            "@lobelia4cosmetics_12287.jpg\n",
            "@lobelia4cosmetics_12284.jpg\n",
            "@lobelia4cosmetics_12283.jpg\n",
            "@lobelia4cosmetics_12286.jpg\n",
            "@lobelia4cosmetics_12282.jpg\n",
            "@lobelia4cosmetics_12278.jpg\n",
            "@lobelia4cosmetics_12281.jpg\n",
            "@lobelia4cosmetics_12280.jpg\n",
            "@lobelia4cosmetics_12279.jpg\n",
            "@lobelia4cosmetics_12277.jpg\n",
            "@lobelia4cosmetics_12275.jpg\n",
            "@lobelia4cosmetics_12276.jpg\n",
            "@lobelia4cosmetics_12273.jpg\n",
            "@lobelia4cosmetics_12272.jpg\n",
            "@lobelia4cosmetics_12274.jpg\n",
            "@lobelia4cosmetics_12269.jpg\n",
            "@lobelia4cosmetics_12270.jpg\n",
            "@lobelia4cosmetics_12271.jpg\n",
            "@lobelia4cosmetics_12254.jpg\n",
            "@lobelia4cosmetics_12257.jpg\n",
            "@lobelia4cosmetics_12259.jpg\n",
            "@lobelia4cosmetics_12258.jpg\n",
            "@lobelia4cosmetics_12266.jpg\n",
            "@lobelia4cosmetics_12262.jpg\n",
            "@lobelia4cosmetics_12240.jpg\n",
            "@lobelia4cosmetics_12264.jpg\n",
            "@lobelia4cosmetics_12265.jpg\n",
            "@lobelia4cosmetics_12260.jpg\n",
            "@lobelia4cosmetics_12261.jpg\n",
            "@lobelia4cosmetics_12263.jpg\n",
            "@lobelia4cosmetics_12391.jpg\n",
            "@lobelia4cosmetics_12388.jpg\n",
            "@lobelia4cosmetics_12390.jpg\n",
            "@lobelia4cosmetics_12386.jpg\n",
            "@lobelia4cosmetics_12385.jpg\n",
            "@lobelia4cosmetics_12387.jpg\n",
            "@lobelia4cosmetics_12384.jpg\n",
            "@lobelia4cosmetics_12389.jpg\n",
            "@lobelia4cosmetics_12377.jpg\n",
            "@lobelia4cosmetics_12382.jpg\n",
            "@lobelia4cosmetics_12383.jpg\n",
            "@lobelia4cosmetics_12378.jpg\n",
            "@lobelia4cosmetics_12379.jpg\n",
            "@lobelia4cosmetics_12381.jpg\n",
            "@lobelia4cosmetics_12375.jpg\n",
            "@lobelia4cosmetics_12376.jpg\n",
            "@lobelia4cosmetics_12380.jpg\n",
            "@lobelia4cosmetics_12374.jpg\n",
            "@lobelia4cosmetics_12371.jpg\n",
            "@lobelia4cosmetics_12373.jpg\n",
            "@lobelia4cosmetics_12372.jpg\n",
            "@lobelia4cosmetics_12370.jpg\n",
            "@lobelia4cosmetics_12367.jpg\n",
            "@lobelia4cosmetics_12368.jpg\n",
            "@lobelia4cosmetics_12369.jpg\n",
            "@lobelia4cosmetics_12363.jpg\n",
            "@lobelia4cosmetics_12366.jpg\n",
            "@lobelia4cosmetics_12365.jpg\n",
            "@lobelia4cosmetics_12364.jpg\n",
            "@lobelia4cosmetics_12362.jpg\n",
            "@lobelia4cosmetics_12360.jpg\n",
            "@lobelia4cosmetics_12361.jpg\n",
            "@lobelia4cosmetics_12356.jpg\n",
            "@lobelia4cosmetics_12359.jpg\n",
            "@lobelia4cosmetics_12357.jpg\n",
            "@lobelia4cosmetics_12358.jpg\n",
            "@lobelia4cosmetics_12352.jpg\n",
            "@lobelia4cosmetics_12355.jpg\n",
            "@lobelia4cosmetics_12354.jpg\n",
            "@lobelia4cosmetics_12350.jpg\n",
            "@lobelia4cosmetics_12351.jpg\n",
            "@lobelia4cosmetics_12347.jpg\n",
            "@lobelia4cosmetics_12349.jpg\n",
            "@lobelia4cosmetics_12346.jpg\n",
            "@lobelia4cosmetics_12345.jpg\n",
            "@lobelia4cosmetics_12348.jpg\n",
            "@lobelia4cosmetics_12344.jpg\n",
            "@lobelia4cosmetics_12342.jpg\n",
            "@lobelia4cosmetics_12341.jpg\n",
            "@lobelia4cosmetics_12343.jpg\n",
            "@lobelia4cosmetics_12340.jpg\n",
            "@lobelia4cosmetics_12339.jpg\n",
            "@lobelia4cosmetics_12338.jpg\n",
            "@lobelia4cosmetics_12268.jpg\n",
            "@lobelia4cosmetics_12335.jpg\n",
            "@lobelia4cosmetics_12336.jpg\n",
            "@lobelia4cosmetics_12333.jpg\n",
            "@lobelia4cosmetics_12332.jpg\n",
            "@lobelia4cosmetics_12330.jpg\n",
            "@lobelia4cosmetics_12334.jpg\n",
            "@lobelia4cosmetics_12331.jpg\n",
            "@lobelia4cosmetics_12329.jpg\n",
            "@lobelia4cosmetics_12328.jpg\n",
            "@lobelia4cosmetics_12319.jpg\n",
            "@lobelia4cosmetics_12326.jpg\n",
            "@lobelia4cosmetics_12327.jpg\n",
            "@lobelia4cosmetics_12323.jpg\n",
            "@lobelia4cosmetics_12322.jpg\n",
            "@lobelia4cosmetics_12325.jpg\n",
            "@lobelia4cosmetics_12321.jpg\n",
            "@lobelia4cosmetics_12324.jpg\n",
            "@lobelia4cosmetics_12320.jpg\n",
            "@lobelia4cosmetics_12318.jpg\n",
            "@lobelia4cosmetics_12317.jpg\n",
            "@lobelia4cosmetics_12474.jpg\n",
            "@lobelia4cosmetics_12471.jpg\n",
            "@lobelia4cosmetics_12475.jpg\n",
            "@lobelia4cosmetics_12476.jpg\n",
            "@lobelia4cosmetics_12470.jpg\n",
            "@lobelia4cosmetics_12473.jpg\n",
            "@lobelia4cosmetics_12468.jpg\n",
            "@lobelia4cosmetics_12467.jpg\n",
            "@lobelia4cosmetics_12469.jpg\n",
            "@lobelia4cosmetics_12464.jpg\n",
            "@lobelia4cosmetics_12466.jpg\n",
            "@lobelia4cosmetics_12460.jpg\n",
            "@lobelia4cosmetics_12462.jpg\n",
            "@lobelia4cosmetics_12465.jpg\n",
            "@lobelia4cosmetics_12463.jpg\n",
            "@lobelia4cosmetics_12461.jpg\n",
            "@lobelia4cosmetics_12456.jpg\n",
            "@lobelia4cosmetics_12458.jpg\n",
            "@lobelia4cosmetics_12459.jpg\n",
            "@lobelia4cosmetics_12457.jpg\n",
            "@lobelia4cosmetics_12454.jpg\n",
            "@lobelia4cosmetics_12455.jpg\n",
            "@lobelia4cosmetics_12453.jpg\n",
            "@lobelia4cosmetics_12452.jpg\n",
            "@lobelia4cosmetics_12451.jpg\n",
            "@lobelia4cosmetics_12449.jpg\n",
            "@lobelia4cosmetics_12450.jpg\n",
            "@lobelia4cosmetics_12448.jpg\n",
            "@lobelia4cosmetics_12442.jpg\n",
            "@lobelia4cosmetics_12447.jpg\n",
            "@lobelia4cosmetics_12446.jpg\n",
            "@lobelia4cosmetics_12444.jpg\n",
            "@lobelia4cosmetics_12445.jpg\n",
            "@lobelia4cosmetics_12443.jpg\n",
            "@lobelia4cosmetics_12439.jpg\n",
            "@lobelia4cosmetics_12440.jpg\n",
            "@lobelia4cosmetics_12441.jpg\n",
            "@lobelia4cosmetics_12436.jpg\n",
            "@lobelia4cosmetics_12434.jpg\n",
            "@lobelia4cosmetics_12437.jpg\n",
            "@lobelia4cosmetics_12438.jpg\n",
            "@lobelia4cosmetics_12435.jpg\n",
            "@lobelia4cosmetics_12433.jpg\n",
            "@lobelia4cosmetics_12432.jpg\n",
            "@lobelia4cosmetics_12430.jpg\n",
            "@lobelia4cosmetics_12429.jpg\n",
            "@lobelia4cosmetics_12431.jpg\n",
            "@lobelia4cosmetics_12428.jpg\n",
            "@lobelia4cosmetics_12427.jpg\n",
            "@lobelia4cosmetics_12425.jpg\n",
            "@lobelia4cosmetics_12421.jpg\n",
            "@lobelia4cosmetics_12426.jpg\n",
            "@lobelia4cosmetics_12424.jpg\n",
            "@lobelia4cosmetics_12423.jpg\n",
            "@lobelia4cosmetics_12420.jpg\n",
            "@lobelia4cosmetics_12419.jpg\n",
            "@lobelia4cosmetics_12418.jpg\n",
            "@lobelia4cosmetics_12417.jpg\n",
            "@lobelia4cosmetics_12414.jpg\n",
            "@lobelia4cosmetics_12413.jpg\n",
            "@lobelia4cosmetics_12416.jpg\n",
            "@lobelia4cosmetics_12415.jpg\n",
            "@lobelia4cosmetics_12412.jpg\n",
            "@lobelia4cosmetics_12410.jpg\n",
            "@lobelia4cosmetics_12408.jpg\n",
            "@lobelia4cosmetics_12411.jpg\n",
            "@lobelia4cosmetics_12409.jpg\n",
            "@lobelia4cosmetics_12405.jpg\n",
            "@lobelia4cosmetics_12403.jpg\n",
            "@lobelia4cosmetics_12402.jpg\n",
            "@lobelia4cosmetics_12404.jpg\n",
            "@lobelia4cosmetics_12406.jpg\n",
            "@lobelia4cosmetics_12407.jpg\n",
            "@lobelia4cosmetics_12400.jpg\n",
            "@lobelia4cosmetics_12399.jpg\n",
            "@lobelia4cosmetics_12401.jpg\n",
            "@lobelia4cosmetics_12395.jpg\n",
            "@lobelia4cosmetics_12396.jpg\n",
            "@lobelia4cosmetics_12397.jpg\n",
            "@lobelia4cosmetics_12394.jpg\n",
            "@lobelia4cosmetics_12398.jpg\n",
            "@lobelia4cosmetics_12393.jpg\n",
            "@lobelia4cosmetics_12392.jpg\n",
            "@yetenaweg_1152.jpg\n",
            "@yetenaweg_1127.jpg\n",
            "@lobelia4cosmetics_12484.jpg\n",
            "@lobelia4cosmetics_12481.jpg\n",
            "@yetenaweg_1135.jpg\n",
            "@lobelia4cosmetics_12483.jpg\n",
            "@lobelia4cosmetics_12478.jpg\n",
            "@lobelia4cosmetics_12477.jpg\n",
            "@lobelia4cosmetics_12479.jpg\n",
            "@lobelia4cosmetics_12487.jpg\n",
            "@lobelia4cosmetics_12472.jpg\n",
            "@lobelia4cosmetics_12482.jpg\n",
            "@yetenaweg_1177.jpg\n",
            "@yetenaweg_1169.jpg\n",
            "@yetenaweg_1171.jpg\n",
            "@yetenaweg_1178.jpg\n",
            "@yetenaweg_1176.jpg\n",
            "@yetenaweg_1168.jpg\n",
            "@yetenaweg_1175.jpg\n",
            "@yetenaweg_1172.jpg\n",
            "@yetenaweg_1165.jpg\n",
            "@yetenaweg_1166.jpg\n",
            "@yetenaweg_1167.jpg\n",
            "@yetenaweg_1164.jpg\n",
            "@yetenaweg_1160.jpg\n",
            "@yetenaweg_1159.jpg\n",
            "@yetenaweg_1155.jpg\n",
            "@yetenaweg_1158.jpg\n",
            "@yetenaweg_1154.jpg\n",
            "@yetenaweg_1157.jpg\n",
            "@yetenaweg_1156.jpg\n",
            "@yetenaweg_1151.jpg\n",
            "@yetenaweg_1153.jpg\n",
            "@yetenaweg_1150.jpg\n",
            "@yetenaweg_1149.jpg\n",
            "@yetenaweg_1147.jpg\n",
            "@yetenaweg_1148.jpg\n",
            "@yetenaweg_1141.jpg\n",
            "@yetenaweg_1146.jpg\n",
            "@yetenaweg_1142.jpg\n",
            "@yetenaweg_1145.jpg\n",
            "@yetenaweg_1138.jpg\n",
            "@yetenaweg_1140.jpg\n",
            "@yetenaweg_1139.jpg\n",
            "@yetenaweg_1136.jpg\n",
            "@yetenaweg_1137.jpg\n",
            "@lobelia4cosmetics_12488.jpg\n",
            "@yetenaweg_1134.jpg\n",
            "@yetenaweg_1133.jpg\n",
            "@yetenaweg_1128.jpg\n",
            "@lobelia4cosmetics_12489.jpg\n",
            "@lobelia4cosmetics_12485.jpg\n",
            "@lobelia4cosmetics_12486.jpg\n",
            "@lobelia4cosmetics_12480.jpg\n"
          ]
        }
      ]
    },
    {
      "cell_type": "code",
      "source": [
        "from google.colab import drive\n",
        "drive.mount('/content/drive')"
      ],
      "metadata": {
        "colab": {
          "base_uri": "https://localhost:8080/"
        },
        "id": "DBKBeCaUODvp",
        "outputId": "5eb89a2e-dc17-4871-f144-8b21ae607d53"
      },
      "execution_count": null,
      "outputs": [
        {
          "output_type": "stream",
          "name": "stdout",
          "text": [
            "Drive already mounted at /content/drive; to attempt to forcibly remount, call drive.mount(\"/content/drive\", force_remount=True).\n"
          ]
        }
      ]
    },
    {
      "cell_type": "code",
      "source": [
        "import torch\n",
        "import cv2\n",
        "import os\n",
        "\n",
        "# Load pre-trained YOLOv5 model\n",
        "model = torch.hub.load('ultralytics/yolov5', 'yolov5s')\n",
        "\n",
        "# Define paths\n",
        "image_folder = '/content/drive/MyDrive/photos'\n",
        "filtered_titles = ['@CheMed', '@lobelia4cosmetics']\n",
        "\n",
        "# Loop through the images in the folder and filter them\n",
        "for img_name in os.listdir(image_folder):\n",
        "    if any(title in img_name for title in filtered_titles) and img_name.lower().endswith(('.jpg', '.jpeg', '.png')):\n",
        "        img_path = os.path.join(image_folder, img_name)\n",
        "        img = cv2.imread(img_path)\n",
        "\n",
        "        # Run object detection and save results\n",
        "        results = model(img)\n",
        "        results.save(save_dir='detection_results/')\n"
      ],
      "metadata": {
        "id": "Boa3P4j68KHp",
        "colab": {
          "base_uri": "https://localhost:8080/"
        },
        "outputId": "5eb91561-7e7b-43cd-ca02-e05b2ef710e0",
        "collapsed": true
      },
      "execution_count": 20,
      "outputs": [
        {
          "output_type": "stream",
          "name": "stderr",
          "text": [
            "Using cache found in /root/.cache/torch/hub/ultralytics_yolov5_master\n",
            "YOLOv5 🚀 2024-10-16 Python-3.10.12 torch-2.4.1+cu121 CPU\n",
            "\n",
            "Fusing layers... \n",
            "YOLOv5s summary: 213 layers, 7225885 parameters, 0 gradients, 16.4 GFLOPs\n",
            "Adding AutoShape... \n",
            "/root/.cache/torch/hub/ultralytics_yolov5_master/models/common.py:892: FutureWarning: `torch.cuda.amp.autocast(args...)` is deprecated. Please use `torch.amp.autocast('cuda', args...)` instead.\n",
            "  with amp.autocast(autocast):\n",
            "Saved 1 image to \u001b[1mdetection_results2\u001b[0m\n",
            "/root/.cache/torch/hub/ultralytics_yolov5_master/models/common.py:892: FutureWarning: `torch.cuda.amp.autocast(args...)` is deprecated. Please use `torch.amp.autocast('cuda', args...)` instead.\n",
            "  with amp.autocast(autocast):\n",
            "Saved 1 image to \u001b[1mdetection_results3\u001b[0m\n",
            "/root/.cache/torch/hub/ultralytics_yolov5_master/models/common.py:892: FutureWarning: `torch.cuda.amp.autocast(args...)` is deprecated. Please use `torch.amp.autocast('cuda', args...)` instead.\n",
            "  with amp.autocast(autocast):\n",
            "Saved 1 image to \u001b[1mdetection_results4\u001b[0m\n",
            "/root/.cache/torch/hub/ultralytics_yolov5_master/models/common.py:892: FutureWarning: `torch.cuda.amp.autocast(args...)` is deprecated. Please use `torch.amp.autocast('cuda', args...)` instead.\n",
            "  with amp.autocast(autocast):\n",
            "Saved 1 image to \u001b[1mdetection_results5\u001b[0m\n",
            "/root/.cache/torch/hub/ultralytics_yolov5_master/models/common.py:892: FutureWarning: `torch.cuda.amp.autocast(args...)` is deprecated. Please use `torch.amp.autocast('cuda', args...)` instead.\n",
            "  with amp.autocast(autocast):\n",
            "Saved 1 image to \u001b[1mdetection_results6\u001b[0m\n",
            "/root/.cache/torch/hub/ultralytics_yolov5_master/models/common.py:892: FutureWarning: `torch.cuda.amp.autocast(args...)` is deprecated. Please use `torch.amp.autocast('cuda', args...)` instead.\n",
            "  with amp.autocast(autocast):\n",
            "Saved 1 image to \u001b[1mdetection_results7\u001b[0m\n",
            "/root/.cache/torch/hub/ultralytics_yolov5_master/models/common.py:892: FutureWarning: `torch.cuda.amp.autocast(args...)` is deprecated. Please use `torch.amp.autocast('cuda', args...)` instead.\n",
            "  with amp.autocast(autocast):\n",
            "Saved 1 image to \u001b[1mdetection_results8\u001b[0m\n",
            "/root/.cache/torch/hub/ultralytics_yolov5_master/models/common.py:892: FutureWarning: `torch.cuda.amp.autocast(args...)` is deprecated. Please use `torch.amp.autocast('cuda', args...)` instead.\n",
            "  with amp.autocast(autocast):\n",
            "Saved 1 image to \u001b[1mdetection_results9\u001b[0m\n",
            "/root/.cache/torch/hub/ultralytics_yolov5_master/models/common.py:892: FutureWarning: `torch.cuda.amp.autocast(args...)` is deprecated. Please use `torch.amp.autocast('cuda', args...)` instead.\n",
            "  with amp.autocast(autocast):\n",
            "Saved 1 image to \u001b[1mdetection_results10\u001b[0m\n",
            "/root/.cache/torch/hub/ultralytics_yolov5_master/models/common.py:892: FutureWarning: `torch.cuda.amp.autocast(args...)` is deprecated. Please use `torch.amp.autocast('cuda', args...)` instead.\n",
            "  with amp.autocast(autocast):\n",
            "Saved 1 image to \u001b[1mdetection_results11\u001b[0m\n",
            "/root/.cache/torch/hub/ultralytics_yolov5_master/models/common.py:892: FutureWarning: `torch.cuda.amp.autocast(args...)` is deprecated. Please use `torch.amp.autocast('cuda', args...)` instead.\n",
            "  with amp.autocast(autocast):\n",
            "Saved 1 image to \u001b[1mdetection_results12\u001b[0m\n",
            "/root/.cache/torch/hub/ultralytics_yolov5_master/models/common.py:892: FutureWarning: `torch.cuda.amp.autocast(args...)` is deprecated. Please use `torch.amp.autocast('cuda', args...)` instead.\n",
            "  with amp.autocast(autocast):\n",
            "Saved 1 image to \u001b[1mdetection_results13\u001b[0m\n",
            "/root/.cache/torch/hub/ultralytics_yolov5_master/models/common.py:892: FutureWarning: `torch.cuda.amp.autocast(args...)` is deprecated. Please use `torch.amp.autocast('cuda', args...)` instead.\n",
            "  with amp.autocast(autocast):\n",
            "Saved 1 image to \u001b[1mdetection_results14\u001b[0m\n",
            "/root/.cache/torch/hub/ultralytics_yolov5_master/models/common.py:892: FutureWarning: `torch.cuda.amp.autocast(args...)` is deprecated. Please use `torch.amp.autocast('cuda', args...)` instead.\n",
            "  with amp.autocast(autocast):\n",
            "Saved 1 image to \u001b[1mdetection_results15\u001b[0m\n",
            "/root/.cache/torch/hub/ultralytics_yolov5_master/models/common.py:892: FutureWarning: `torch.cuda.amp.autocast(args...)` is deprecated. Please use `torch.amp.autocast('cuda', args...)` instead.\n",
            "  with amp.autocast(autocast):\n",
            "Saved 1 image to \u001b[1mdetection_results16\u001b[0m\n",
            "/root/.cache/torch/hub/ultralytics_yolov5_master/models/common.py:892: FutureWarning: `torch.cuda.amp.autocast(args...)` is deprecated. Please use `torch.amp.autocast('cuda', args...)` instead.\n",
            "  with amp.autocast(autocast):\n",
            "Saved 1 image to \u001b[1mdetection_results17\u001b[0m\n",
            "/root/.cache/torch/hub/ultralytics_yolov5_master/models/common.py:892: FutureWarning: `torch.cuda.amp.autocast(args...)` is deprecated. Please use `torch.amp.autocast('cuda', args...)` instead.\n",
            "  with amp.autocast(autocast):\n",
            "Saved 1 image to \u001b[1mdetection_results18\u001b[0m\n",
            "/root/.cache/torch/hub/ultralytics_yolov5_master/models/common.py:892: FutureWarning: `torch.cuda.amp.autocast(args...)` is deprecated. Please use `torch.amp.autocast('cuda', args...)` instead.\n",
            "  with amp.autocast(autocast):\n",
            "Saved 1 image to \u001b[1mdetection_results19\u001b[0m\n",
            "/root/.cache/torch/hub/ultralytics_yolov5_master/models/common.py:892: FutureWarning: `torch.cuda.amp.autocast(args...)` is deprecated. Please use `torch.amp.autocast('cuda', args...)` instead.\n",
            "  with amp.autocast(autocast):\n",
            "Saved 1 image to \u001b[1mdetection_results20\u001b[0m\n",
            "/root/.cache/torch/hub/ultralytics_yolov5_master/models/common.py:892: FutureWarning: `torch.cuda.amp.autocast(args...)` is deprecated. Please use `torch.amp.autocast('cuda', args...)` instead.\n",
            "  with amp.autocast(autocast):\n",
            "Saved 1 image to \u001b[1mdetection_results21\u001b[0m\n",
            "/root/.cache/torch/hub/ultralytics_yolov5_master/models/common.py:892: FutureWarning: `torch.cuda.amp.autocast(args...)` is deprecated. Please use `torch.amp.autocast('cuda', args...)` instead.\n",
            "  with amp.autocast(autocast):\n",
            "Saved 1 image to \u001b[1mdetection_results22\u001b[0m\n",
            "/root/.cache/torch/hub/ultralytics_yolov5_master/models/common.py:892: FutureWarning: `torch.cuda.amp.autocast(args...)` is deprecated. Please use `torch.amp.autocast('cuda', args...)` instead.\n",
            "  with amp.autocast(autocast):\n",
            "Saved 1 image to \u001b[1mdetection_results23\u001b[0m\n",
            "/root/.cache/torch/hub/ultralytics_yolov5_master/models/common.py:892: FutureWarning: `torch.cuda.amp.autocast(args...)` is deprecated. Please use `torch.amp.autocast('cuda', args...)` instead.\n",
            "  with amp.autocast(autocast):\n",
            "Saved 1 image to \u001b[1mdetection_results24\u001b[0m\n",
            "/root/.cache/torch/hub/ultralytics_yolov5_master/models/common.py:892: FutureWarning: `torch.cuda.amp.autocast(args...)` is deprecated. Please use `torch.amp.autocast('cuda', args...)` instead.\n",
            "  with amp.autocast(autocast):\n",
            "Saved 1 image to \u001b[1mdetection_results25\u001b[0m\n",
            "/root/.cache/torch/hub/ultralytics_yolov5_master/models/common.py:892: FutureWarning: `torch.cuda.amp.autocast(args...)` is deprecated. Please use `torch.amp.autocast('cuda', args...)` instead.\n",
            "  with amp.autocast(autocast):\n",
            "Saved 1 image to \u001b[1mdetection_results26\u001b[0m\n",
            "/root/.cache/torch/hub/ultralytics_yolov5_master/models/common.py:892: FutureWarning: `torch.cuda.amp.autocast(args...)` is deprecated. Please use `torch.amp.autocast('cuda', args...)` instead.\n",
            "  with amp.autocast(autocast):\n",
            "Saved 1 image to \u001b[1mdetection_results27\u001b[0m\n",
            "/root/.cache/torch/hub/ultralytics_yolov5_master/models/common.py:892: FutureWarning: `torch.cuda.amp.autocast(args...)` is deprecated. Please use `torch.amp.autocast('cuda', args...)` instead.\n",
            "  with amp.autocast(autocast):\n",
            "Saved 1 image to \u001b[1mdetection_results28\u001b[0m\n",
            "/root/.cache/torch/hub/ultralytics_yolov5_master/models/common.py:892: FutureWarning: `torch.cuda.amp.autocast(args...)` is deprecated. Please use `torch.amp.autocast('cuda', args...)` instead.\n",
            "  with amp.autocast(autocast):\n",
            "Saved 1 image to \u001b[1mdetection_results29\u001b[0m\n",
            "/root/.cache/torch/hub/ultralytics_yolov5_master/models/common.py:892: FutureWarning: `torch.cuda.amp.autocast(args...)` is deprecated. Please use `torch.amp.autocast('cuda', args...)` instead.\n",
            "  with amp.autocast(autocast):\n",
            "Saved 1 image to \u001b[1mdetection_results30\u001b[0m\n",
            "/root/.cache/torch/hub/ultralytics_yolov5_master/models/common.py:892: FutureWarning: `torch.cuda.amp.autocast(args...)` is deprecated. Please use `torch.amp.autocast('cuda', args...)` instead.\n",
            "  with amp.autocast(autocast):\n",
            "Saved 1 image to \u001b[1mdetection_results31\u001b[0m\n",
            "/root/.cache/torch/hub/ultralytics_yolov5_master/models/common.py:892: FutureWarning: `torch.cuda.amp.autocast(args...)` is deprecated. Please use `torch.amp.autocast('cuda', args...)` instead.\n",
            "  with amp.autocast(autocast):\n",
            "Saved 1 image to \u001b[1mdetection_results32\u001b[0m\n",
            "/root/.cache/torch/hub/ultralytics_yolov5_master/models/common.py:892: FutureWarning: `torch.cuda.amp.autocast(args...)` is deprecated. Please use `torch.amp.autocast('cuda', args...)` instead.\n",
            "  with amp.autocast(autocast):\n",
            "Saved 1 image to \u001b[1mdetection_results33\u001b[0m\n",
            "/root/.cache/torch/hub/ultralytics_yolov5_master/models/common.py:892: FutureWarning: `torch.cuda.amp.autocast(args...)` is deprecated. Please use `torch.amp.autocast('cuda', args...)` instead.\n",
            "  with amp.autocast(autocast):\n",
            "Saved 1 image to \u001b[1mdetection_results34\u001b[0m\n",
            "/root/.cache/torch/hub/ultralytics_yolov5_master/models/common.py:892: FutureWarning: `torch.cuda.amp.autocast(args...)` is deprecated. Please use `torch.amp.autocast('cuda', args...)` instead.\n",
            "  with amp.autocast(autocast):\n",
            "Saved 1 image to \u001b[1mdetection_results35\u001b[0m\n",
            "/root/.cache/torch/hub/ultralytics_yolov5_master/models/common.py:892: FutureWarning: `torch.cuda.amp.autocast(args...)` is deprecated. Please use `torch.amp.autocast('cuda', args...)` instead.\n",
            "  with amp.autocast(autocast):\n",
            "Saved 1 image to \u001b[1mdetection_results36\u001b[0m\n",
            "/root/.cache/torch/hub/ultralytics_yolov5_master/models/common.py:892: FutureWarning: `torch.cuda.amp.autocast(args...)` is deprecated. Please use `torch.amp.autocast('cuda', args...)` instead.\n",
            "  with amp.autocast(autocast):\n",
            "Saved 1 image to \u001b[1mdetection_results37\u001b[0m\n",
            "/root/.cache/torch/hub/ultralytics_yolov5_master/models/common.py:892: FutureWarning: `torch.cuda.amp.autocast(args...)` is deprecated. Please use `torch.amp.autocast('cuda', args...)` instead.\n",
            "  with amp.autocast(autocast):\n",
            "Saved 1 image to \u001b[1mdetection_results38\u001b[0m\n",
            "/root/.cache/torch/hub/ultralytics_yolov5_master/models/common.py:892: FutureWarning: `torch.cuda.amp.autocast(args...)` is deprecated. Please use `torch.amp.autocast('cuda', args...)` instead.\n",
            "  with amp.autocast(autocast):\n",
            "Saved 1 image to \u001b[1mdetection_results39\u001b[0m\n",
            "/root/.cache/torch/hub/ultralytics_yolov5_master/models/common.py:892: FutureWarning: `torch.cuda.amp.autocast(args...)` is deprecated. Please use `torch.amp.autocast('cuda', args...)` instead.\n",
            "  with amp.autocast(autocast):\n",
            "Saved 1 image to \u001b[1mdetection_results40\u001b[0m\n",
            "/root/.cache/torch/hub/ultralytics_yolov5_master/models/common.py:892: FutureWarning: `torch.cuda.amp.autocast(args...)` is deprecated. Please use `torch.amp.autocast('cuda', args...)` instead.\n",
            "  with amp.autocast(autocast):\n",
            "Saved 1 image to \u001b[1mdetection_results41\u001b[0m\n",
            "/root/.cache/torch/hub/ultralytics_yolov5_master/models/common.py:892: FutureWarning: `torch.cuda.amp.autocast(args...)` is deprecated. Please use `torch.amp.autocast('cuda', args...)` instead.\n",
            "  with amp.autocast(autocast):\n",
            "Saved 1 image to \u001b[1mdetection_results42\u001b[0m\n",
            "/root/.cache/torch/hub/ultralytics_yolov5_master/models/common.py:892: FutureWarning: `torch.cuda.amp.autocast(args...)` is deprecated. Please use `torch.amp.autocast('cuda', args...)` instead.\n",
            "  with amp.autocast(autocast):\n",
            "Saved 1 image to \u001b[1mdetection_results43\u001b[0m\n",
            "/root/.cache/torch/hub/ultralytics_yolov5_master/models/common.py:892: FutureWarning: `torch.cuda.amp.autocast(args...)` is deprecated. Please use `torch.amp.autocast('cuda', args...)` instead.\n",
            "  with amp.autocast(autocast):\n",
            "Saved 1 image to \u001b[1mdetection_results44\u001b[0m\n",
            "/root/.cache/torch/hub/ultralytics_yolov5_master/models/common.py:892: FutureWarning: `torch.cuda.amp.autocast(args...)` is deprecated. Please use `torch.amp.autocast('cuda', args...)` instead.\n",
            "  with amp.autocast(autocast):\n",
            "Saved 1 image to \u001b[1mdetection_results45\u001b[0m\n",
            "/root/.cache/torch/hub/ultralytics_yolov5_master/models/common.py:892: FutureWarning: `torch.cuda.amp.autocast(args...)` is deprecated. Please use `torch.amp.autocast('cuda', args...)` instead.\n",
            "  with amp.autocast(autocast):\n",
            "Saved 1 image to \u001b[1mdetection_results46\u001b[0m\n",
            "/root/.cache/torch/hub/ultralytics_yolov5_master/models/common.py:892: FutureWarning: `torch.cuda.amp.autocast(args...)` is deprecated. Please use `torch.amp.autocast('cuda', args...)` instead.\n",
            "  with amp.autocast(autocast):\n",
            "Saved 1 image to \u001b[1mdetection_results47\u001b[0m\n",
            "/root/.cache/torch/hub/ultralytics_yolov5_master/models/common.py:892: FutureWarning: `torch.cuda.amp.autocast(args...)` is deprecated. Please use `torch.amp.autocast('cuda', args...)` instead.\n",
            "  with amp.autocast(autocast):\n",
            "Saved 1 image to \u001b[1mdetection_results48\u001b[0m\n",
            "/root/.cache/torch/hub/ultralytics_yolov5_master/models/common.py:892: FutureWarning: `torch.cuda.amp.autocast(args...)` is deprecated. Please use `torch.amp.autocast('cuda', args...)` instead.\n",
            "  with amp.autocast(autocast):\n",
            "Saved 1 image to \u001b[1mdetection_results49\u001b[0m\n",
            "/root/.cache/torch/hub/ultralytics_yolov5_master/models/common.py:892: FutureWarning: `torch.cuda.amp.autocast(args...)` is deprecated. Please use `torch.amp.autocast('cuda', args...)` instead.\n",
            "  with amp.autocast(autocast):\n",
            "Saved 1 image to \u001b[1mdetection_results50\u001b[0m\n",
            "/root/.cache/torch/hub/ultralytics_yolov5_master/models/common.py:892: FutureWarning: `torch.cuda.amp.autocast(args...)` is deprecated. Please use `torch.amp.autocast('cuda', args...)` instead.\n",
            "  with amp.autocast(autocast):\n",
            "Saved 1 image to \u001b[1mdetection_results51\u001b[0m\n",
            "/root/.cache/torch/hub/ultralytics_yolov5_master/models/common.py:892: FutureWarning: `torch.cuda.amp.autocast(args...)` is deprecated. Please use `torch.amp.autocast('cuda', args...)` instead.\n",
            "  with amp.autocast(autocast):\n",
            "Saved 1 image to \u001b[1mdetection_results52\u001b[0m\n",
            "/root/.cache/torch/hub/ultralytics_yolov5_master/models/common.py:892: FutureWarning: `torch.cuda.amp.autocast(args...)` is deprecated. Please use `torch.amp.autocast('cuda', args...)` instead.\n",
            "  with amp.autocast(autocast):\n",
            "Saved 1 image to \u001b[1mdetection_results53\u001b[0m\n",
            "/root/.cache/torch/hub/ultralytics_yolov5_master/models/common.py:892: FutureWarning: `torch.cuda.amp.autocast(args...)` is deprecated. Please use `torch.amp.autocast('cuda', args...)` instead.\n",
            "  with amp.autocast(autocast):\n",
            "Saved 1 image to \u001b[1mdetection_results54\u001b[0m\n",
            "/root/.cache/torch/hub/ultralytics_yolov5_master/models/common.py:892: FutureWarning: `torch.cuda.amp.autocast(args...)` is deprecated. Please use `torch.amp.autocast('cuda', args...)` instead.\n",
            "  with amp.autocast(autocast):\n",
            "Saved 1 image to \u001b[1mdetection_results55\u001b[0m\n",
            "/root/.cache/torch/hub/ultralytics_yolov5_master/models/common.py:892: FutureWarning: `torch.cuda.amp.autocast(args...)` is deprecated. Please use `torch.amp.autocast('cuda', args...)` instead.\n",
            "  with amp.autocast(autocast):\n",
            "Saved 1 image to \u001b[1mdetection_results56\u001b[0m\n",
            "/root/.cache/torch/hub/ultralytics_yolov5_master/models/common.py:892: FutureWarning: `torch.cuda.amp.autocast(args...)` is deprecated. Please use `torch.amp.autocast('cuda', args...)` instead.\n",
            "  with amp.autocast(autocast):\n",
            "Saved 1 image to \u001b[1mdetection_results57\u001b[0m\n",
            "/root/.cache/torch/hub/ultralytics_yolov5_master/models/common.py:892: FutureWarning: `torch.cuda.amp.autocast(args...)` is deprecated. Please use `torch.amp.autocast('cuda', args...)` instead.\n",
            "  with amp.autocast(autocast):\n",
            "Saved 1 image to \u001b[1mdetection_results58\u001b[0m\n",
            "/root/.cache/torch/hub/ultralytics_yolov5_master/models/common.py:892: FutureWarning: `torch.cuda.amp.autocast(args...)` is deprecated. Please use `torch.amp.autocast('cuda', args...)` instead.\n",
            "  with amp.autocast(autocast):\n",
            "Saved 1 image to \u001b[1mdetection_results59\u001b[0m\n",
            "/root/.cache/torch/hub/ultralytics_yolov5_master/models/common.py:892: FutureWarning: `torch.cuda.amp.autocast(args...)` is deprecated. Please use `torch.amp.autocast('cuda', args...)` instead.\n",
            "  with amp.autocast(autocast):\n",
            "Saved 1 image to \u001b[1mdetection_results60\u001b[0m\n",
            "/root/.cache/torch/hub/ultralytics_yolov5_master/models/common.py:892: FutureWarning: `torch.cuda.amp.autocast(args...)` is deprecated. Please use `torch.amp.autocast('cuda', args...)` instead.\n",
            "  with amp.autocast(autocast):\n",
            "Saved 1 image to \u001b[1mdetection_results61\u001b[0m\n",
            "/root/.cache/torch/hub/ultralytics_yolov5_master/models/common.py:892: FutureWarning: `torch.cuda.amp.autocast(args...)` is deprecated. Please use `torch.amp.autocast('cuda', args...)` instead.\n",
            "  with amp.autocast(autocast):\n",
            "Saved 1 image to \u001b[1mdetection_results62\u001b[0m\n",
            "/root/.cache/torch/hub/ultralytics_yolov5_master/models/common.py:892: FutureWarning: `torch.cuda.amp.autocast(args...)` is deprecated. Please use `torch.amp.autocast('cuda', args...)` instead.\n",
            "  with amp.autocast(autocast):\n",
            "Saved 1 image to \u001b[1mdetection_results63\u001b[0m\n",
            "/root/.cache/torch/hub/ultralytics_yolov5_master/models/common.py:892: FutureWarning: `torch.cuda.amp.autocast(args...)` is deprecated. Please use `torch.amp.autocast('cuda', args...)` instead.\n",
            "  with amp.autocast(autocast):\n",
            "Saved 1 image to \u001b[1mdetection_results64\u001b[0m\n",
            "/root/.cache/torch/hub/ultralytics_yolov5_master/models/common.py:892: FutureWarning: `torch.cuda.amp.autocast(args...)` is deprecated. Please use `torch.amp.autocast('cuda', args...)` instead.\n",
            "  with amp.autocast(autocast):\n",
            "Saved 1 image to \u001b[1mdetection_results65\u001b[0m\n",
            "/root/.cache/torch/hub/ultralytics_yolov5_master/models/common.py:892: FutureWarning: `torch.cuda.amp.autocast(args...)` is deprecated. Please use `torch.amp.autocast('cuda', args...)` instead.\n",
            "  with amp.autocast(autocast):\n",
            "Saved 1 image to \u001b[1mdetection_results66\u001b[0m\n",
            "/root/.cache/torch/hub/ultralytics_yolov5_master/models/common.py:892: FutureWarning: `torch.cuda.amp.autocast(args...)` is deprecated. Please use `torch.amp.autocast('cuda', args...)` instead.\n",
            "  with amp.autocast(autocast):\n",
            "Saved 1 image to \u001b[1mdetection_results67\u001b[0m\n",
            "/root/.cache/torch/hub/ultralytics_yolov5_master/models/common.py:892: FutureWarning: `torch.cuda.amp.autocast(args...)` is deprecated. Please use `torch.amp.autocast('cuda', args...)` instead.\n",
            "  with amp.autocast(autocast):\n",
            "Saved 1 image to \u001b[1mdetection_results68\u001b[0m\n",
            "/root/.cache/torch/hub/ultralytics_yolov5_master/models/common.py:892: FutureWarning: `torch.cuda.amp.autocast(args...)` is deprecated. Please use `torch.amp.autocast('cuda', args...)` instead.\n",
            "  with amp.autocast(autocast):\n",
            "Saved 1 image to \u001b[1mdetection_results69\u001b[0m\n",
            "/root/.cache/torch/hub/ultralytics_yolov5_master/models/common.py:892: FutureWarning: `torch.cuda.amp.autocast(args...)` is deprecated. Please use `torch.amp.autocast('cuda', args...)` instead.\n",
            "  with amp.autocast(autocast):\n",
            "Saved 1 image to \u001b[1mdetection_results70\u001b[0m\n",
            "/root/.cache/torch/hub/ultralytics_yolov5_master/models/common.py:892: FutureWarning: `torch.cuda.amp.autocast(args...)` is deprecated. Please use `torch.amp.autocast('cuda', args...)` instead.\n",
            "  with amp.autocast(autocast):\n",
            "Saved 1 image to \u001b[1mdetection_results71\u001b[0m\n",
            "/root/.cache/torch/hub/ultralytics_yolov5_master/models/common.py:892: FutureWarning: `torch.cuda.amp.autocast(args...)` is deprecated. Please use `torch.amp.autocast('cuda', args...)` instead.\n",
            "  with amp.autocast(autocast):\n",
            "Saved 1 image to \u001b[1mdetection_results72\u001b[0m\n",
            "/root/.cache/torch/hub/ultralytics_yolov5_master/models/common.py:892: FutureWarning: `torch.cuda.amp.autocast(args...)` is deprecated. Please use `torch.amp.autocast('cuda', args...)` instead.\n",
            "  with amp.autocast(autocast):\n",
            "Saved 1 image to \u001b[1mdetection_results73\u001b[0m\n",
            "/root/.cache/torch/hub/ultralytics_yolov5_master/models/common.py:892: FutureWarning: `torch.cuda.amp.autocast(args...)` is deprecated. Please use `torch.amp.autocast('cuda', args...)` instead.\n",
            "  with amp.autocast(autocast):\n",
            "Saved 1 image to \u001b[1mdetection_results74\u001b[0m\n",
            "/root/.cache/torch/hub/ultralytics_yolov5_master/models/common.py:892: FutureWarning: `torch.cuda.amp.autocast(args...)` is deprecated. Please use `torch.amp.autocast('cuda', args...)` instead.\n",
            "  with amp.autocast(autocast):\n",
            "Saved 1 image to \u001b[1mdetection_results75\u001b[0m\n",
            "/root/.cache/torch/hub/ultralytics_yolov5_master/models/common.py:892: FutureWarning: `torch.cuda.amp.autocast(args...)` is deprecated. Please use `torch.amp.autocast('cuda', args...)` instead.\n",
            "  with amp.autocast(autocast):\n",
            "Saved 1 image to \u001b[1mdetection_results76\u001b[0m\n",
            "/root/.cache/torch/hub/ultralytics_yolov5_master/models/common.py:892: FutureWarning: `torch.cuda.amp.autocast(args...)` is deprecated. Please use `torch.amp.autocast('cuda', args...)` instead.\n",
            "  with amp.autocast(autocast):\n",
            "Saved 1 image to \u001b[1mdetection_results77\u001b[0m\n",
            "/root/.cache/torch/hub/ultralytics_yolov5_master/models/common.py:892: FutureWarning: `torch.cuda.amp.autocast(args...)` is deprecated. Please use `torch.amp.autocast('cuda', args...)` instead.\n",
            "  with amp.autocast(autocast):\n",
            "Saved 1 image to \u001b[1mdetection_results78\u001b[0m\n",
            "/root/.cache/torch/hub/ultralytics_yolov5_master/models/common.py:892: FutureWarning: `torch.cuda.amp.autocast(args...)` is deprecated. Please use `torch.amp.autocast('cuda', args...)` instead.\n",
            "  with amp.autocast(autocast):\n",
            "Saved 1 image to \u001b[1mdetection_results79\u001b[0m\n",
            "/root/.cache/torch/hub/ultralytics_yolov5_master/models/common.py:892: FutureWarning: `torch.cuda.amp.autocast(args...)` is deprecated. Please use `torch.amp.autocast('cuda', args...)` instead.\n",
            "  with amp.autocast(autocast):\n",
            "Saved 1 image to \u001b[1mdetection_results80\u001b[0m\n",
            "/root/.cache/torch/hub/ultralytics_yolov5_master/models/common.py:892: FutureWarning: `torch.cuda.amp.autocast(args...)` is deprecated. Please use `torch.amp.autocast('cuda', args...)` instead.\n",
            "  with amp.autocast(autocast):\n",
            "Saved 1 image to \u001b[1mdetection_results81\u001b[0m\n",
            "/root/.cache/torch/hub/ultralytics_yolov5_master/models/common.py:892: FutureWarning: `torch.cuda.amp.autocast(args...)` is deprecated. Please use `torch.amp.autocast('cuda', args...)` instead.\n",
            "  with amp.autocast(autocast):\n",
            "Saved 1 image to \u001b[1mdetection_results82\u001b[0m\n",
            "/root/.cache/torch/hub/ultralytics_yolov5_master/models/common.py:892: FutureWarning: `torch.cuda.amp.autocast(args...)` is deprecated. Please use `torch.amp.autocast('cuda', args...)` instead.\n",
            "  with amp.autocast(autocast):\n",
            "Saved 1 image to \u001b[1mdetection_results83\u001b[0m\n",
            "/root/.cache/torch/hub/ultralytics_yolov5_master/models/common.py:892: FutureWarning: `torch.cuda.amp.autocast(args...)` is deprecated. Please use `torch.amp.autocast('cuda', args...)` instead.\n",
            "  with amp.autocast(autocast):\n",
            "Saved 1 image to \u001b[1mdetection_results84\u001b[0m\n",
            "/root/.cache/torch/hub/ultralytics_yolov5_master/models/common.py:892: FutureWarning: `torch.cuda.amp.autocast(args...)` is deprecated. Please use `torch.amp.autocast('cuda', args...)` instead.\n",
            "  with amp.autocast(autocast):\n",
            "Saved 1 image to \u001b[1mdetection_results85\u001b[0m\n",
            "/root/.cache/torch/hub/ultralytics_yolov5_master/models/common.py:892: FutureWarning: `torch.cuda.amp.autocast(args...)` is deprecated. Please use `torch.amp.autocast('cuda', args...)` instead.\n",
            "  with amp.autocast(autocast):\n",
            "Saved 1 image to \u001b[1mdetection_results86\u001b[0m\n",
            "/root/.cache/torch/hub/ultralytics_yolov5_master/models/common.py:892: FutureWarning: `torch.cuda.amp.autocast(args...)` is deprecated. Please use `torch.amp.autocast('cuda', args...)` instead.\n",
            "  with amp.autocast(autocast):\n",
            "Saved 1 image to \u001b[1mdetection_results87\u001b[0m\n",
            "/root/.cache/torch/hub/ultralytics_yolov5_master/models/common.py:892: FutureWarning: `torch.cuda.amp.autocast(args...)` is deprecated. Please use `torch.amp.autocast('cuda', args...)` instead.\n",
            "  with amp.autocast(autocast):\n",
            "Saved 1 image to \u001b[1mdetection_results88\u001b[0m\n",
            "/root/.cache/torch/hub/ultralytics_yolov5_master/models/common.py:892: FutureWarning: `torch.cuda.amp.autocast(args...)` is deprecated. Please use `torch.amp.autocast('cuda', args...)` instead.\n",
            "  with amp.autocast(autocast):\n",
            "Saved 1 image to \u001b[1mdetection_results89\u001b[0m\n",
            "/root/.cache/torch/hub/ultralytics_yolov5_master/models/common.py:892: FutureWarning: `torch.cuda.amp.autocast(args...)` is deprecated. Please use `torch.amp.autocast('cuda', args...)` instead.\n",
            "  with amp.autocast(autocast):\n",
            "Saved 1 image to \u001b[1mdetection_results90\u001b[0m\n",
            "/root/.cache/torch/hub/ultralytics_yolov5_master/models/common.py:892: FutureWarning: `torch.cuda.amp.autocast(args...)` is deprecated. Please use `torch.amp.autocast('cuda', args...)` instead.\n",
            "  with amp.autocast(autocast):\n",
            "Saved 1 image to \u001b[1mdetection_results91\u001b[0m\n",
            "/root/.cache/torch/hub/ultralytics_yolov5_master/models/common.py:892: FutureWarning: `torch.cuda.amp.autocast(args...)` is deprecated. Please use `torch.amp.autocast('cuda', args...)` instead.\n",
            "  with amp.autocast(autocast):\n",
            "Saved 1 image to \u001b[1mdetection_results92\u001b[0m\n",
            "/root/.cache/torch/hub/ultralytics_yolov5_master/models/common.py:892: FutureWarning: `torch.cuda.amp.autocast(args...)` is deprecated. Please use `torch.amp.autocast('cuda', args...)` instead.\n",
            "  with amp.autocast(autocast):\n",
            "Saved 1 image to \u001b[1mdetection_results93\u001b[0m\n",
            "/root/.cache/torch/hub/ultralytics_yolov5_master/models/common.py:892: FutureWarning: `torch.cuda.amp.autocast(args...)` is deprecated. Please use `torch.amp.autocast('cuda', args...)` instead.\n",
            "  with amp.autocast(autocast):\n",
            "Saved 1 image to \u001b[1mdetection_results94\u001b[0m\n",
            "/root/.cache/torch/hub/ultralytics_yolov5_master/models/common.py:892: FutureWarning: `torch.cuda.amp.autocast(args...)` is deprecated. Please use `torch.amp.autocast('cuda', args...)` instead.\n",
            "  with amp.autocast(autocast):\n",
            "Saved 1 image to \u001b[1mdetection_results95\u001b[0m\n",
            "/root/.cache/torch/hub/ultralytics_yolov5_master/models/common.py:892: FutureWarning: `torch.cuda.amp.autocast(args...)` is deprecated. Please use `torch.amp.autocast('cuda', args...)` instead.\n",
            "  with amp.autocast(autocast):\n",
            "Saved 1 image to \u001b[1mdetection_results96\u001b[0m\n",
            "/root/.cache/torch/hub/ultralytics_yolov5_master/models/common.py:892: FutureWarning: `torch.cuda.amp.autocast(args...)` is deprecated. Please use `torch.amp.autocast('cuda', args...)` instead.\n",
            "  with amp.autocast(autocast):\n",
            "Saved 1 image to \u001b[1mdetection_results97\u001b[0m\n",
            "/root/.cache/torch/hub/ultralytics_yolov5_master/models/common.py:892: FutureWarning: `torch.cuda.amp.autocast(args...)` is deprecated. Please use `torch.amp.autocast('cuda', args...)` instead.\n",
            "  with amp.autocast(autocast):\n",
            "Saved 1 image to \u001b[1mdetection_results98\u001b[0m\n",
            "/root/.cache/torch/hub/ultralytics_yolov5_master/models/common.py:892: FutureWarning: `torch.cuda.amp.autocast(args...)` is deprecated. Please use `torch.amp.autocast('cuda', args...)` instead.\n",
            "  with amp.autocast(autocast):\n",
            "Saved 1 image to \u001b[1mdetection_results99\u001b[0m\n",
            "/root/.cache/torch/hub/ultralytics_yolov5_master/models/common.py:892: FutureWarning: `torch.cuda.amp.autocast(args...)` is deprecated. Please use `torch.amp.autocast('cuda', args...)` instead.\n",
            "  with amp.autocast(autocast):\n",
            "Saved 1 image to \u001b[1mdetection_results100\u001b[0m\n",
            "/root/.cache/torch/hub/ultralytics_yolov5_master/models/common.py:892: FutureWarning: `torch.cuda.amp.autocast(args...)` is deprecated. Please use `torch.amp.autocast('cuda', args...)` instead.\n",
            "  with amp.autocast(autocast):\n",
            "Saved 1 image to \u001b[1mdetection_results101\u001b[0m\n",
            "/root/.cache/torch/hub/ultralytics_yolov5_master/models/common.py:892: FutureWarning: `torch.cuda.amp.autocast(args...)` is deprecated. Please use `torch.amp.autocast('cuda', args...)` instead.\n",
            "  with amp.autocast(autocast):\n",
            "Saved 1 image to \u001b[1mdetection_results102\u001b[0m\n",
            "/root/.cache/torch/hub/ultralytics_yolov5_master/models/common.py:892: FutureWarning: `torch.cuda.amp.autocast(args...)` is deprecated. Please use `torch.amp.autocast('cuda', args...)` instead.\n",
            "  with amp.autocast(autocast):\n",
            "Saved 1 image to \u001b[1mdetection_results103\u001b[0m\n",
            "/root/.cache/torch/hub/ultralytics_yolov5_master/models/common.py:892: FutureWarning: `torch.cuda.amp.autocast(args...)` is deprecated. Please use `torch.amp.autocast('cuda', args...)` instead.\n",
            "  with amp.autocast(autocast):\n",
            "Saved 1 image to \u001b[1mdetection_results104\u001b[0m\n",
            "/root/.cache/torch/hub/ultralytics_yolov5_master/models/common.py:892: FutureWarning: `torch.cuda.amp.autocast(args...)` is deprecated. Please use `torch.amp.autocast('cuda', args...)` instead.\n",
            "  with amp.autocast(autocast):\n",
            "Saved 1 image to \u001b[1mdetection_results105\u001b[0m\n",
            "/root/.cache/torch/hub/ultralytics_yolov5_master/models/common.py:892: FutureWarning: `torch.cuda.amp.autocast(args...)` is deprecated. Please use `torch.amp.autocast('cuda', args...)` instead.\n",
            "  with amp.autocast(autocast):\n",
            "Saved 1 image to \u001b[1mdetection_results106\u001b[0m\n",
            "/root/.cache/torch/hub/ultralytics_yolov5_master/models/common.py:892: FutureWarning: `torch.cuda.amp.autocast(args...)` is deprecated. Please use `torch.amp.autocast('cuda', args...)` instead.\n",
            "  with amp.autocast(autocast):\n",
            "Saved 1 image to \u001b[1mdetection_results107\u001b[0m\n",
            "/root/.cache/torch/hub/ultralytics_yolov5_master/models/common.py:892: FutureWarning: `torch.cuda.amp.autocast(args...)` is deprecated. Please use `torch.amp.autocast('cuda', args...)` instead.\n",
            "  with amp.autocast(autocast):\n",
            "Saved 1 image to \u001b[1mdetection_results108\u001b[0m\n",
            "/root/.cache/torch/hub/ultralytics_yolov5_master/models/common.py:892: FutureWarning: `torch.cuda.amp.autocast(args...)` is deprecated. Please use `torch.amp.autocast('cuda', args...)` instead.\n",
            "  with amp.autocast(autocast):\n",
            "Saved 1 image to \u001b[1mdetection_results109\u001b[0m\n",
            "/root/.cache/torch/hub/ultralytics_yolov5_master/models/common.py:892: FutureWarning: `torch.cuda.amp.autocast(args...)` is deprecated. Please use `torch.amp.autocast('cuda', args...)` instead.\n",
            "  with amp.autocast(autocast):\n",
            "Saved 1 image to \u001b[1mdetection_results110\u001b[0m\n",
            "/root/.cache/torch/hub/ultralytics_yolov5_master/models/common.py:892: FutureWarning: `torch.cuda.amp.autocast(args...)` is deprecated. Please use `torch.amp.autocast('cuda', args...)` instead.\n",
            "  with amp.autocast(autocast):\n",
            "Saved 1 image to \u001b[1mdetection_results111\u001b[0m\n",
            "/root/.cache/torch/hub/ultralytics_yolov5_master/models/common.py:892: FutureWarning: `torch.cuda.amp.autocast(args...)` is deprecated. Please use `torch.amp.autocast('cuda', args...)` instead.\n",
            "  with amp.autocast(autocast):\n",
            "Saved 1 image to \u001b[1mdetection_results112\u001b[0m\n",
            "/root/.cache/torch/hub/ultralytics_yolov5_master/models/common.py:892: FutureWarning: `torch.cuda.amp.autocast(args...)` is deprecated. Please use `torch.amp.autocast('cuda', args...)` instead.\n",
            "  with amp.autocast(autocast):\n",
            "Saved 1 image to \u001b[1mdetection_results113\u001b[0m\n",
            "/root/.cache/torch/hub/ultralytics_yolov5_master/models/common.py:892: FutureWarning: `torch.cuda.amp.autocast(args...)` is deprecated. Please use `torch.amp.autocast('cuda', args...)` instead.\n",
            "  with amp.autocast(autocast):\n",
            "Saved 1 image to \u001b[1mdetection_results114\u001b[0m\n",
            "/root/.cache/torch/hub/ultralytics_yolov5_master/models/common.py:892: FutureWarning: `torch.cuda.amp.autocast(args...)` is deprecated. Please use `torch.amp.autocast('cuda', args...)` instead.\n",
            "  with amp.autocast(autocast):\n",
            "Saved 1 image to \u001b[1mdetection_results115\u001b[0m\n",
            "/root/.cache/torch/hub/ultralytics_yolov5_master/models/common.py:892: FutureWarning: `torch.cuda.amp.autocast(args...)` is deprecated. Please use `torch.amp.autocast('cuda', args...)` instead.\n",
            "  with amp.autocast(autocast):\n",
            "Saved 1 image to \u001b[1mdetection_results116\u001b[0m\n",
            "/root/.cache/torch/hub/ultralytics_yolov5_master/models/common.py:892: FutureWarning: `torch.cuda.amp.autocast(args...)` is deprecated. Please use `torch.amp.autocast('cuda', args...)` instead.\n",
            "  with amp.autocast(autocast):\n",
            "Saved 1 image to \u001b[1mdetection_results117\u001b[0m\n",
            "/root/.cache/torch/hub/ultralytics_yolov5_master/models/common.py:892: FutureWarning: `torch.cuda.amp.autocast(args...)` is deprecated. Please use `torch.amp.autocast('cuda', args...)` instead.\n",
            "  with amp.autocast(autocast):\n",
            "Saved 1 image to \u001b[1mdetection_results118\u001b[0m\n",
            "/root/.cache/torch/hub/ultralytics_yolov5_master/models/common.py:892: FutureWarning: `torch.cuda.amp.autocast(args...)` is deprecated. Please use `torch.amp.autocast('cuda', args...)` instead.\n",
            "  with amp.autocast(autocast):\n",
            "Saved 1 image to \u001b[1mdetection_results119\u001b[0m\n",
            "/root/.cache/torch/hub/ultralytics_yolov5_master/models/common.py:892: FutureWarning: `torch.cuda.amp.autocast(args...)` is deprecated. Please use `torch.amp.autocast('cuda', args...)` instead.\n",
            "  with amp.autocast(autocast):\n",
            "Saved 1 image to \u001b[1mdetection_results120\u001b[0m\n",
            "/root/.cache/torch/hub/ultralytics_yolov5_master/models/common.py:892: FutureWarning: `torch.cuda.amp.autocast(args...)` is deprecated. Please use `torch.amp.autocast('cuda', args...)` instead.\n",
            "  with amp.autocast(autocast):\n",
            "Saved 1 image to \u001b[1mdetection_results121\u001b[0m\n",
            "/root/.cache/torch/hub/ultralytics_yolov5_master/models/common.py:892: FutureWarning: `torch.cuda.amp.autocast(args...)` is deprecated. Please use `torch.amp.autocast('cuda', args...)` instead.\n",
            "  with amp.autocast(autocast):\n",
            "Saved 1 image to \u001b[1mdetection_results122\u001b[0m\n",
            "/root/.cache/torch/hub/ultralytics_yolov5_master/models/common.py:892: FutureWarning: `torch.cuda.amp.autocast(args...)` is deprecated. Please use `torch.amp.autocast('cuda', args...)` instead.\n",
            "  with amp.autocast(autocast):\n",
            "Saved 1 image to \u001b[1mdetection_results123\u001b[0m\n",
            "/root/.cache/torch/hub/ultralytics_yolov5_master/models/common.py:892: FutureWarning: `torch.cuda.amp.autocast(args...)` is deprecated. Please use `torch.amp.autocast('cuda', args...)` instead.\n",
            "  with amp.autocast(autocast):\n",
            "Saved 1 image to \u001b[1mdetection_results124\u001b[0m\n",
            "/root/.cache/torch/hub/ultralytics_yolov5_master/models/common.py:892: FutureWarning: `torch.cuda.amp.autocast(args...)` is deprecated. Please use `torch.amp.autocast('cuda', args...)` instead.\n",
            "  with amp.autocast(autocast):\n",
            "Saved 1 image to \u001b[1mdetection_results125\u001b[0m\n",
            "/root/.cache/torch/hub/ultralytics_yolov5_master/models/common.py:892: FutureWarning: `torch.cuda.amp.autocast(args...)` is deprecated. Please use `torch.amp.autocast('cuda', args...)` instead.\n",
            "  with amp.autocast(autocast):\n",
            "Saved 1 image to \u001b[1mdetection_results126\u001b[0m\n",
            "/root/.cache/torch/hub/ultralytics_yolov5_master/models/common.py:892: FutureWarning: `torch.cuda.amp.autocast(args...)` is deprecated. Please use `torch.amp.autocast('cuda', args...)` instead.\n",
            "  with amp.autocast(autocast):\n",
            "Saved 1 image to \u001b[1mdetection_results127\u001b[0m\n",
            "/root/.cache/torch/hub/ultralytics_yolov5_master/models/common.py:892: FutureWarning: `torch.cuda.amp.autocast(args...)` is deprecated. Please use `torch.amp.autocast('cuda', args...)` instead.\n",
            "  with amp.autocast(autocast):\n",
            "Saved 1 image to \u001b[1mdetection_results128\u001b[0m\n",
            "/root/.cache/torch/hub/ultralytics_yolov5_master/models/common.py:892: FutureWarning: `torch.cuda.amp.autocast(args...)` is deprecated. Please use `torch.amp.autocast('cuda', args...)` instead.\n",
            "  with amp.autocast(autocast):\n",
            "Saved 1 image to \u001b[1mdetection_results129\u001b[0m\n",
            "/root/.cache/torch/hub/ultralytics_yolov5_master/models/common.py:892: FutureWarning: `torch.cuda.amp.autocast(args...)` is deprecated. Please use `torch.amp.autocast('cuda', args...)` instead.\n",
            "  with amp.autocast(autocast):\n",
            "Saved 1 image to \u001b[1mdetection_results130\u001b[0m\n",
            "/root/.cache/torch/hub/ultralytics_yolov5_master/models/common.py:892: FutureWarning: `torch.cuda.amp.autocast(args...)` is deprecated. Please use `torch.amp.autocast('cuda', args...)` instead.\n",
            "  with amp.autocast(autocast):\n",
            "Saved 1 image to \u001b[1mdetection_results131\u001b[0m\n",
            "/root/.cache/torch/hub/ultralytics_yolov5_master/models/common.py:892: FutureWarning: `torch.cuda.amp.autocast(args...)` is deprecated. Please use `torch.amp.autocast('cuda', args...)` instead.\n",
            "  with amp.autocast(autocast):\n",
            "Saved 1 image to \u001b[1mdetection_results132\u001b[0m\n",
            "/root/.cache/torch/hub/ultralytics_yolov5_master/models/common.py:892: FutureWarning: `torch.cuda.amp.autocast(args...)` is deprecated. Please use `torch.amp.autocast('cuda', args...)` instead.\n",
            "  with amp.autocast(autocast):\n",
            "Saved 1 image to \u001b[1mdetection_results133\u001b[0m\n",
            "/root/.cache/torch/hub/ultralytics_yolov5_master/models/common.py:892: FutureWarning: `torch.cuda.amp.autocast(args...)` is deprecated. Please use `torch.amp.autocast('cuda', args...)` instead.\n",
            "  with amp.autocast(autocast):\n",
            "Saved 1 image to \u001b[1mdetection_results134\u001b[0m\n",
            "/root/.cache/torch/hub/ultralytics_yolov5_master/models/common.py:892: FutureWarning: `torch.cuda.amp.autocast(args...)` is deprecated. Please use `torch.amp.autocast('cuda', args...)` instead.\n",
            "  with amp.autocast(autocast):\n",
            "Saved 1 image to \u001b[1mdetection_results135\u001b[0m\n",
            "/root/.cache/torch/hub/ultralytics_yolov5_master/models/common.py:892: FutureWarning: `torch.cuda.amp.autocast(args...)` is deprecated. Please use `torch.amp.autocast('cuda', args...)` instead.\n",
            "  with amp.autocast(autocast):\n",
            "Saved 1 image to \u001b[1mdetection_results136\u001b[0m\n",
            "/root/.cache/torch/hub/ultralytics_yolov5_master/models/common.py:892: FutureWarning: `torch.cuda.amp.autocast(args...)` is deprecated. Please use `torch.amp.autocast('cuda', args...)` instead.\n",
            "  with amp.autocast(autocast):\n",
            "Saved 1 image to \u001b[1mdetection_results137\u001b[0m\n",
            "/root/.cache/torch/hub/ultralytics_yolov5_master/models/common.py:892: FutureWarning: `torch.cuda.amp.autocast(args...)` is deprecated. Please use `torch.amp.autocast('cuda', args...)` instead.\n",
            "  with amp.autocast(autocast):\n",
            "Saved 1 image to \u001b[1mdetection_results138\u001b[0m\n",
            "/root/.cache/torch/hub/ultralytics_yolov5_master/models/common.py:892: FutureWarning: `torch.cuda.amp.autocast(args...)` is deprecated. Please use `torch.amp.autocast('cuda', args...)` instead.\n",
            "  with amp.autocast(autocast):\n",
            "Saved 1 image to \u001b[1mdetection_results139\u001b[0m\n",
            "/root/.cache/torch/hub/ultralytics_yolov5_master/models/common.py:892: FutureWarning: `torch.cuda.amp.autocast(args...)` is deprecated. Please use `torch.amp.autocast('cuda', args...)` instead.\n",
            "  with amp.autocast(autocast):\n",
            "Saved 1 image to \u001b[1mdetection_results140\u001b[0m\n",
            "/root/.cache/torch/hub/ultralytics_yolov5_master/models/common.py:892: FutureWarning: `torch.cuda.amp.autocast(args...)` is deprecated. Please use `torch.amp.autocast('cuda', args...)` instead.\n",
            "  with amp.autocast(autocast):\n",
            "Saved 1 image to \u001b[1mdetection_results141\u001b[0m\n",
            "/root/.cache/torch/hub/ultralytics_yolov5_master/models/common.py:892: FutureWarning: `torch.cuda.amp.autocast(args...)` is deprecated. Please use `torch.amp.autocast('cuda', args...)` instead.\n",
            "  with amp.autocast(autocast):\n",
            "Saved 1 image to \u001b[1mdetection_results142\u001b[0m\n",
            "/root/.cache/torch/hub/ultralytics_yolov5_master/models/common.py:892: FutureWarning: `torch.cuda.amp.autocast(args...)` is deprecated. Please use `torch.amp.autocast('cuda', args...)` instead.\n",
            "  with amp.autocast(autocast):\n",
            "Saved 1 image to \u001b[1mdetection_results143\u001b[0m\n",
            "/root/.cache/torch/hub/ultralytics_yolov5_master/models/common.py:892: FutureWarning: `torch.cuda.amp.autocast(args...)` is deprecated. Please use `torch.amp.autocast('cuda', args...)` instead.\n",
            "  with amp.autocast(autocast):\n",
            "Saved 1 image to \u001b[1mdetection_results144\u001b[0m\n",
            "/root/.cache/torch/hub/ultralytics_yolov5_master/models/common.py:892: FutureWarning: `torch.cuda.amp.autocast(args...)` is deprecated. Please use `torch.amp.autocast('cuda', args...)` instead.\n",
            "  with amp.autocast(autocast):\n",
            "Saved 1 image to \u001b[1mdetection_results145\u001b[0m\n",
            "/root/.cache/torch/hub/ultralytics_yolov5_master/models/common.py:892: FutureWarning: `torch.cuda.amp.autocast(args...)` is deprecated. Please use `torch.amp.autocast('cuda', args...)` instead.\n",
            "  with amp.autocast(autocast):\n",
            "Saved 1 image to \u001b[1mdetection_results146\u001b[0m\n",
            "/root/.cache/torch/hub/ultralytics_yolov5_master/models/common.py:892: FutureWarning: `torch.cuda.amp.autocast(args...)` is deprecated. Please use `torch.amp.autocast('cuda', args...)` instead.\n",
            "  with amp.autocast(autocast):\n",
            "Saved 1 image to \u001b[1mdetection_results147\u001b[0m\n",
            "/root/.cache/torch/hub/ultralytics_yolov5_master/models/common.py:892: FutureWarning: `torch.cuda.amp.autocast(args...)` is deprecated. Please use `torch.amp.autocast('cuda', args...)` instead.\n",
            "  with amp.autocast(autocast):\n",
            "Saved 1 image to \u001b[1mdetection_results148\u001b[0m\n",
            "/root/.cache/torch/hub/ultralytics_yolov5_master/models/common.py:892: FutureWarning: `torch.cuda.amp.autocast(args...)` is deprecated. Please use `torch.amp.autocast('cuda', args...)` instead.\n",
            "  with amp.autocast(autocast):\n",
            "Saved 1 image to \u001b[1mdetection_results149\u001b[0m\n",
            "/root/.cache/torch/hub/ultralytics_yolov5_master/models/common.py:892: FutureWarning: `torch.cuda.amp.autocast(args...)` is deprecated. Please use `torch.amp.autocast('cuda', args...)` instead.\n",
            "  with amp.autocast(autocast):\n",
            "Saved 1 image to \u001b[1mdetection_results150\u001b[0m\n",
            "/root/.cache/torch/hub/ultralytics_yolov5_master/models/common.py:892: FutureWarning: `torch.cuda.amp.autocast(args...)` is deprecated. Please use `torch.amp.autocast('cuda', args...)` instead.\n",
            "  with amp.autocast(autocast):\n",
            "Saved 1 image to \u001b[1mdetection_results151\u001b[0m\n",
            "/root/.cache/torch/hub/ultralytics_yolov5_master/models/common.py:892: FutureWarning: `torch.cuda.amp.autocast(args...)` is deprecated. Please use `torch.amp.autocast('cuda', args...)` instead.\n",
            "  with amp.autocast(autocast):\n",
            "Saved 1 image to \u001b[1mdetection_results152\u001b[0m\n",
            "/root/.cache/torch/hub/ultralytics_yolov5_master/models/common.py:892: FutureWarning: `torch.cuda.amp.autocast(args...)` is deprecated. Please use `torch.amp.autocast('cuda', args...)` instead.\n",
            "  with amp.autocast(autocast):\n",
            "Saved 1 image to \u001b[1mdetection_results153\u001b[0m\n",
            "/root/.cache/torch/hub/ultralytics_yolov5_master/models/common.py:892: FutureWarning: `torch.cuda.amp.autocast(args...)` is deprecated. Please use `torch.amp.autocast('cuda', args...)` instead.\n",
            "  with amp.autocast(autocast):\n",
            "Saved 1 image to \u001b[1mdetection_results154\u001b[0m\n",
            "/root/.cache/torch/hub/ultralytics_yolov5_master/models/common.py:892: FutureWarning: `torch.cuda.amp.autocast(args...)` is deprecated. Please use `torch.amp.autocast('cuda', args...)` instead.\n",
            "  with amp.autocast(autocast):\n",
            "Saved 1 image to \u001b[1mdetection_results155\u001b[0m\n",
            "/root/.cache/torch/hub/ultralytics_yolov5_master/models/common.py:892: FutureWarning: `torch.cuda.amp.autocast(args...)` is deprecated. Please use `torch.amp.autocast('cuda', args...)` instead.\n",
            "  with amp.autocast(autocast):\n",
            "Saved 1 image to \u001b[1mdetection_results156\u001b[0m\n",
            "/root/.cache/torch/hub/ultralytics_yolov5_master/models/common.py:892: FutureWarning: `torch.cuda.amp.autocast(args...)` is deprecated. Please use `torch.amp.autocast('cuda', args...)` instead.\n",
            "  with amp.autocast(autocast):\n",
            "Saved 1 image to \u001b[1mdetection_results157\u001b[0m\n",
            "/root/.cache/torch/hub/ultralytics_yolov5_master/models/common.py:892: FutureWarning: `torch.cuda.amp.autocast(args...)` is deprecated. Please use `torch.amp.autocast('cuda', args...)` instead.\n",
            "  with amp.autocast(autocast):\n",
            "Saved 1 image to \u001b[1mdetection_results158\u001b[0m\n",
            "/root/.cache/torch/hub/ultralytics_yolov5_master/models/common.py:892: FutureWarning: `torch.cuda.amp.autocast(args...)` is deprecated. Please use `torch.amp.autocast('cuda', args...)` instead.\n",
            "  with amp.autocast(autocast):\n",
            "Saved 1 image to \u001b[1mdetection_results159\u001b[0m\n",
            "/root/.cache/torch/hub/ultralytics_yolov5_master/models/common.py:892: FutureWarning: `torch.cuda.amp.autocast(args...)` is deprecated. Please use `torch.amp.autocast('cuda', args...)` instead.\n",
            "  with amp.autocast(autocast):\n",
            "Saved 1 image to \u001b[1mdetection_results160\u001b[0m\n",
            "/root/.cache/torch/hub/ultralytics_yolov5_master/models/common.py:892: FutureWarning: `torch.cuda.amp.autocast(args...)` is deprecated. Please use `torch.amp.autocast('cuda', args...)` instead.\n",
            "  with amp.autocast(autocast):\n",
            "Saved 1 image to \u001b[1mdetection_results161\u001b[0m\n",
            "/root/.cache/torch/hub/ultralytics_yolov5_master/models/common.py:892: FutureWarning: `torch.cuda.amp.autocast(args...)` is deprecated. Please use `torch.amp.autocast('cuda', args...)` instead.\n",
            "  with amp.autocast(autocast):\n",
            "Saved 1 image to \u001b[1mdetection_results162\u001b[0m\n",
            "/root/.cache/torch/hub/ultralytics_yolov5_master/models/common.py:892: FutureWarning: `torch.cuda.amp.autocast(args...)` is deprecated. Please use `torch.amp.autocast('cuda', args...)` instead.\n",
            "  with amp.autocast(autocast):\n",
            "Saved 1 image to \u001b[1mdetection_results163\u001b[0m\n",
            "/root/.cache/torch/hub/ultralytics_yolov5_master/models/common.py:892: FutureWarning: `torch.cuda.amp.autocast(args...)` is deprecated. Please use `torch.amp.autocast('cuda', args...)` instead.\n",
            "  with amp.autocast(autocast):\n",
            "Saved 1 image to \u001b[1mdetection_results164\u001b[0m\n",
            "/root/.cache/torch/hub/ultralytics_yolov5_master/models/common.py:892: FutureWarning: `torch.cuda.amp.autocast(args...)` is deprecated. Please use `torch.amp.autocast('cuda', args...)` instead.\n",
            "  with amp.autocast(autocast):\n",
            "Saved 1 image to \u001b[1mdetection_results165\u001b[0m\n",
            "/root/.cache/torch/hub/ultralytics_yolov5_master/models/common.py:892: FutureWarning: `torch.cuda.amp.autocast(args...)` is deprecated. Please use `torch.amp.autocast('cuda', args...)` instead.\n",
            "  with amp.autocast(autocast):\n",
            "Saved 1 image to \u001b[1mdetection_results166\u001b[0m\n",
            "/root/.cache/torch/hub/ultralytics_yolov5_master/models/common.py:892: FutureWarning: `torch.cuda.amp.autocast(args...)` is deprecated. Please use `torch.amp.autocast('cuda', args...)` instead.\n",
            "  with amp.autocast(autocast):\n",
            "Saved 1 image to \u001b[1mdetection_results167\u001b[0m\n",
            "/root/.cache/torch/hub/ultralytics_yolov5_master/models/common.py:892: FutureWarning: `torch.cuda.amp.autocast(args...)` is deprecated. Please use `torch.amp.autocast('cuda', args...)` instead.\n",
            "  with amp.autocast(autocast):\n",
            "Saved 1 image to \u001b[1mdetection_results168\u001b[0m\n",
            "/root/.cache/torch/hub/ultralytics_yolov5_master/models/common.py:892: FutureWarning: `torch.cuda.amp.autocast(args...)` is deprecated. Please use `torch.amp.autocast('cuda', args...)` instead.\n",
            "  with amp.autocast(autocast):\n",
            "Saved 1 image to \u001b[1mdetection_results169\u001b[0m\n",
            "/root/.cache/torch/hub/ultralytics_yolov5_master/models/common.py:892: FutureWarning: `torch.cuda.amp.autocast(args...)` is deprecated. Please use `torch.amp.autocast('cuda', args...)` instead.\n",
            "  with amp.autocast(autocast):\n",
            "Saved 1 image to \u001b[1mdetection_results170\u001b[0m\n",
            "/root/.cache/torch/hub/ultralytics_yolov5_master/models/common.py:892: FutureWarning: `torch.cuda.amp.autocast(args...)` is deprecated. Please use `torch.amp.autocast('cuda', args...)` instead.\n",
            "  with amp.autocast(autocast):\n",
            "Saved 1 image to \u001b[1mdetection_results171\u001b[0m\n",
            "/root/.cache/torch/hub/ultralytics_yolov5_master/models/common.py:892: FutureWarning: `torch.cuda.amp.autocast(args...)` is deprecated. Please use `torch.amp.autocast('cuda', args...)` instead.\n",
            "  with amp.autocast(autocast):\n",
            "Saved 1 image to \u001b[1mdetection_results172\u001b[0m\n",
            "/root/.cache/torch/hub/ultralytics_yolov5_master/models/common.py:892: FutureWarning: `torch.cuda.amp.autocast(args...)` is deprecated. Please use `torch.amp.autocast('cuda', args...)` instead.\n",
            "  with amp.autocast(autocast):\n",
            "Saved 1 image to \u001b[1mdetection_results173\u001b[0m\n",
            "/root/.cache/torch/hub/ultralytics_yolov5_master/models/common.py:892: FutureWarning: `torch.cuda.amp.autocast(args...)` is deprecated. Please use `torch.amp.autocast('cuda', args...)` instead.\n",
            "  with amp.autocast(autocast):\n",
            "Saved 1 image to \u001b[1mdetection_results174\u001b[0m\n",
            "/root/.cache/torch/hub/ultralytics_yolov5_master/models/common.py:892: FutureWarning: `torch.cuda.amp.autocast(args...)` is deprecated. Please use `torch.amp.autocast('cuda', args...)` instead.\n",
            "  with amp.autocast(autocast):\n",
            "Saved 1 image to \u001b[1mdetection_results175\u001b[0m\n",
            "/root/.cache/torch/hub/ultralytics_yolov5_master/models/common.py:892: FutureWarning: `torch.cuda.amp.autocast(args...)` is deprecated. Please use `torch.amp.autocast('cuda', args...)` instead.\n",
            "  with amp.autocast(autocast):\n",
            "Saved 1 image to \u001b[1mdetection_results176\u001b[0m\n",
            "/root/.cache/torch/hub/ultralytics_yolov5_master/models/common.py:892: FutureWarning: `torch.cuda.amp.autocast(args...)` is deprecated. Please use `torch.amp.autocast('cuda', args...)` instead.\n",
            "  with amp.autocast(autocast):\n",
            "Saved 1 image to \u001b[1mdetection_results177\u001b[0m\n",
            "/root/.cache/torch/hub/ultralytics_yolov5_master/models/common.py:892: FutureWarning: `torch.cuda.amp.autocast(args...)` is deprecated. Please use `torch.amp.autocast('cuda', args...)` instead.\n",
            "  with amp.autocast(autocast):\n",
            "Saved 1 image to \u001b[1mdetection_results178\u001b[0m\n",
            "/root/.cache/torch/hub/ultralytics_yolov5_master/models/common.py:892: FutureWarning: `torch.cuda.amp.autocast(args...)` is deprecated. Please use `torch.amp.autocast('cuda', args...)` instead.\n",
            "  with amp.autocast(autocast):\n",
            "Saved 1 image to \u001b[1mdetection_results179\u001b[0m\n",
            "/root/.cache/torch/hub/ultralytics_yolov5_master/models/common.py:892: FutureWarning: `torch.cuda.amp.autocast(args...)` is deprecated. Please use `torch.amp.autocast('cuda', args...)` instead.\n",
            "  with amp.autocast(autocast):\n",
            "Saved 1 image to \u001b[1mdetection_results180\u001b[0m\n",
            "/root/.cache/torch/hub/ultralytics_yolov5_master/models/common.py:892: FutureWarning: `torch.cuda.amp.autocast(args...)` is deprecated. Please use `torch.amp.autocast('cuda', args...)` instead.\n",
            "  with amp.autocast(autocast):\n",
            "Saved 1 image to \u001b[1mdetection_results181\u001b[0m\n",
            "/root/.cache/torch/hub/ultralytics_yolov5_master/models/common.py:892: FutureWarning: `torch.cuda.amp.autocast(args...)` is deprecated. Please use `torch.amp.autocast('cuda', args...)` instead.\n",
            "  with amp.autocast(autocast):\n",
            "Saved 1 image to \u001b[1mdetection_results182\u001b[0m\n",
            "/root/.cache/torch/hub/ultralytics_yolov5_master/models/common.py:892: FutureWarning: `torch.cuda.amp.autocast(args...)` is deprecated. Please use `torch.amp.autocast('cuda', args...)` instead.\n",
            "  with amp.autocast(autocast):\n",
            "Saved 1 image to \u001b[1mdetection_results183\u001b[0m\n",
            "/root/.cache/torch/hub/ultralytics_yolov5_master/models/common.py:892: FutureWarning: `torch.cuda.amp.autocast(args...)` is deprecated. Please use `torch.amp.autocast('cuda', args...)` instead.\n",
            "  with amp.autocast(autocast):\n",
            "Saved 1 image to \u001b[1mdetection_results184\u001b[0m\n",
            "/root/.cache/torch/hub/ultralytics_yolov5_master/models/common.py:892: FutureWarning: `torch.cuda.amp.autocast(args...)` is deprecated. Please use `torch.amp.autocast('cuda', args...)` instead.\n",
            "  with amp.autocast(autocast):\n",
            "Saved 1 image to \u001b[1mdetection_results185\u001b[0m\n",
            "/root/.cache/torch/hub/ultralytics_yolov5_master/models/common.py:892: FutureWarning: `torch.cuda.amp.autocast(args...)` is deprecated. Please use `torch.amp.autocast('cuda', args...)` instead.\n",
            "  with amp.autocast(autocast):\n",
            "Saved 1 image to \u001b[1mdetection_results186\u001b[0m\n",
            "/root/.cache/torch/hub/ultralytics_yolov5_master/models/common.py:892: FutureWarning: `torch.cuda.amp.autocast(args...)` is deprecated. Please use `torch.amp.autocast('cuda', args...)` instead.\n",
            "  with amp.autocast(autocast):\n",
            "Saved 1 image to \u001b[1mdetection_results187\u001b[0m\n",
            "/root/.cache/torch/hub/ultralytics_yolov5_master/models/common.py:892: FutureWarning: `torch.cuda.amp.autocast(args...)` is deprecated. Please use `torch.amp.autocast('cuda', args...)` instead.\n",
            "  with amp.autocast(autocast):\n",
            "Saved 1 image to \u001b[1mdetection_results188\u001b[0m\n",
            "/root/.cache/torch/hub/ultralytics_yolov5_master/models/common.py:892: FutureWarning: `torch.cuda.amp.autocast(args...)` is deprecated. Please use `torch.amp.autocast('cuda', args...)` instead.\n",
            "  with amp.autocast(autocast):\n",
            "Saved 1 image to \u001b[1mdetection_results189\u001b[0m\n",
            "/root/.cache/torch/hub/ultralytics_yolov5_master/models/common.py:892: FutureWarning: `torch.cuda.amp.autocast(args...)` is deprecated. Please use `torch.amp.autocast('cuda', args...)` instead.\n",
            "  with amp.autocast(autocast):\n",
            "Saved 1 image to \u001b[1mdetection_results190\u001b[0m\n",
            "/root/.cache/torch/hub/ultralytics_yolov5_master/models/common.py:892: FutureWarning: `torch.cuda.amp.autocast(args...)` is deprecated. Please use `torch.amp.autocast('cuda', args...)` instead.\n",
            "  with amp.autocast(autocast):\n",
            "Saved 1 image to \u001b[1mdetection_results191\u001b[0m\n",
            "/root/.cache/torch/hub/ultralytics_yolov5_master/models/common.py:892: FutureWarning: `torch.cuda.amp.autocast(args...)` is deprecated. Please use `torch.amp.autocast('cuda', args...)` instead.\n",
            "  with amp.autocast(autocast):\n",
            "Saved 1 image to \u001b[1mdetection_results192\u001b[0m\n",
            "/root/.cache/torch/hub/ultralytics_yolov5_master/models/common.py:892: FutureWarning: `torch.cuda.amp.autocast(args...)` is deprecated. Please use `torch.amp.autocast('cuda', args...)` instead.\n",
            "  with amp.autocast(autocast):\n",
            "Saved 1 image to \u001b[1mdetection_results193\u001b[0m\n",
            "/root/.cache/torch/hub/ultralytics_yolov5_master/models/common.py:892: FutureWarning: `torch.cuda.amp.autocast(args...)` is deprecated. Please use `torch.amp.autocast('cuda', args...)` instead.\n",
            "  with amp.autocast(autocast):\n",
            "Saved 1 image to \u001b[1mdetection_results194\u001b[0m\n",
            "/root/.cache/torch/hub/ultralytics_yolov5_master/models/common.py:892: FutureWarning: `torch.cuda.amp.autocast(args...)` is deprecated. Please use `torch.amp.autocast('cuda', args...)` instead.\n",
            "  with amp.autocast(autocast):\n",
            "Saved 1 image to \u001b[1mdetection_results195\u001b[0m\n",
            "/root/.cache/torch/hub/ultralytics_yolov5_master/models/common.py:892: FutureWarning: `torch.cuda.amp.autocast(args...)` is deprecated. Please use `torch.amp.autocast('cuda', args...)` instead.\n",
            "  with amp.autocast(autocast):\n",
            "Saved 1 image to \u001b[1mdetection_results196\u001b[0m\n",
            "/root/.cache/torch/hub/ultralytics_yolov5_master/models/common.py:892: FutureWarning: `torch.cuda.amp.autocast(args...)` is deprecated. Please use `torch.amp.autocast('cuda', args...)` instead.\n",
            "  with amp.autocast(autocast):\n",
            "Saved 1 image to \u001b[1mdetection_results197\u001b[0m\n",
            "/root/.cache/torch/hub/ultralytics_yolov5_master/models/common.py:892: FutureWarning: `torch.cuda.amp.autocast(args...)` is deprecated. Please use `torch.amp.autocast('cuda', args...)` instead.\n",
            "  with amp.autocast(autocast):\n",
            "Saved 1 image to \u001b[1mdetection_results198\u001b[0m\n",
            "/root/.cache/torch/hub/ultralytics_yolov5_master/models/common.py:892: FutureWarning: `torch.cuda.amp.autocast(args...)` is deprecated. Please use `torch.amp.autocast('cuda', args...)` instead.\n",
            "  with amp.autocast(autocast):\n",
            "Saved 1 image to \u001b[1mdetection_results199\u001b[0m\n",
            "/root/.cache/torch/hub/ultralytics_yolov5_master/models/common.py:892: FutureWarning: `torch.cuda.amp.autocast(args...)` is deprecated. Please use `torch.amp.autocast('cuda', args...)` instead.\n",
            "  with amp.autocast(autocast):\n",
            "Saved 1 image to \u001b[1mdetection_results200\u001b[0m\n",
            "/root/.cache/torch/hub/ultralytics_yolov5_master/models/common.py:892: FutureWarning: `torch.cuda.amp.autocast(args...)` is deprecated. Please use `torch.amp.autocast('cuda', args...)` instead.\n",
            "  with amp.autocast(autocast):\n",
            "Saved 1 image to \u001b[1mdetection_results201\u001b[0m\n",
            "/root/.cache/torch/hub/ultralytics_yolov5_master/models/common.py:892: FutureWarning: `torch.cuda.amp.autocast(args...)` is deprecated. Please use `torch.amp.autocast('cuda', args...)` instead.\n",
            "  with amp.autocast(autocast):\n",
            "Saved 1 image to \u001b[1mdetection_results202\u001b[0m\n",
            "/root/.cache/torch/hub/ultralytics_yolov5_master/models/common.py:892: FutureWarning: `torch.cuda.amp.autocast(args...)` is deprecated. Please use `torch.amp.autocast('cuda', args...)` instead.\n",
            "  with amp.autocast(autocast):\n",
            "Saved 1 image to \u001b[1mdetection_results203\u001b[0m\n",
            "/root/.cache/torch/hub/ultralytics_yolov5_master/models/common.py:892: FutureWarning: `torch.cuda.amp.autocast(args...)` is deprecated. Please use `torch.amp.autocast('cuda', args...)` instead.\n",
            "  with amp.autocast(autocast):\n",
            "Saved 1 image to \u001b[1mdetection_results204\u001b[0m\n",
            "/root/.cache/torch/hub/ultralytics_yolov5_master/models/common.py:892: FutureWarning: `torch.cuda.amp.autocast(args...)` is deprecated. Please use `torch.amp.autocast('cuda', args...)` instead.\n",
            "  with amp.autocast(autocast):\n",
            "Saved 1 image to \u001b[1mdetection_results205\u001b[0m\n",
            "/root/.cache/torch/hub/ultralytics_yolov5_master/models/common.py:892: FutureWarning: `torch.cuda.amp.autocast(args...)` is deprecated. Please use `torch.amp.autocast('cuda', args...)` instead.\n",
            "  with amp.autocast(autocast):\n",
            "Saved 1 image to \u001b[1mdetection_results206\u001b[0m\n",
            "/root/.cache/torch/hub/ultralytics_yolov5_master/models/common.py:892: FutureWarning: `torch.cuda.amp.autocast(args...)` is deprecated. Please use `torch.amp.autocast('cuda', args...)` instead.\n",
            "  with amp.autocast(autocast):\n",
            "Saved 1 image to \u001b[1mdetection_results207\u001b[0m\n",
            "/root/.cache/torch/hub/ultralytics_yolov5_master/models/common.py:892: FutureWarning: `torch.cuda.amp.autocast(args...)` is deprecated. Please use `torch.amp.autocast('cuda', args...)` instead.\n",
            "  with amp.autocast(autocast):\n",
            "Saved 1 image to \u001b[1mdetection_results208\u001b[0m\n",
            "/root/.cache/torch/hub/ultralytics_yolov5_master/models/common.py:892: FutureWarning: `torch.cuda.amp.autocast(args...)` is deprecated. Please use `torch.amp.autocast('cuda', args...)` instead.\n",
            "  with amp.autocast(autocast):\n",
            "Saved 1 image to \u001b[1mdetection_results209\u001b[0m\n",
            "/root/.cache/torch/hub/ultralytics_yolov5_master/models/common.py:892: FutureWarning: `torch.cuda.amp.autocast(args...)` is deprecated. Please use `torch.amp.autocast('cuda', args...)` instead.\n",
            "  with amp.autocast(autocast):\n",
            "Saved 1 image to \u001b[1mdetection_results210\u001b[0m\n",
            "/root/.cache/torch/hub/ultralytics_yolov5_master/models/common.py:892: FutureWarning: `torch.cuda.amp.autocast(args...)` is deprecated. Please use `torch.amp.autocast('cuda', args...)` instead.\n",
            "  with amp.autocast(autocast):\n",
            "Saved 1 image to \u001b[1mdetection_results211\u001b[0m\n",
            "/root/.cache/torch/hub/ultralytics_yolov5_master/models/common.py:892: FutureWarning: `torch.cuda.amp.autocast(args...)` is deprecated. Please use `torch.amp.autocast('cuda', args...)` instead.\n",
            "  with amp.autocast(autocast):\n",
            "Saved 1 image to \u001b[1mdetection_results212\u001b[0m\n",
            "/root/.cache/torch/hub/ultralytics_yolov5_master/models/common.py:892: FutureWarning: `torch.cuda.amp.autocast(args...)` is deprecated. Please use `torch.amp.autocast('cuda', args...)` instead.\n",
            "  with amp.autocast(autocast):\n",
            "Saved 1 image to \u001b[1mdetection_results213\u001b[0m\n",
            "/root/.cache/torch/hub/ultralytics_yolov5_master/models/common.py:892: FutureWarning: `torch.cuda.amp.autocast(args...)` is deprecated. Please use `torch.amp.autocast('cuda', args...)` instead.\n",
            "  with amp.autocast(autocast):\n",
            "Saved 1 image to \u001b[1mdetection_results214\u001b[0m\n",
            "/root/.cache/torch/hub/ultralytics_yolov5_master/models/common.py:892: FutureWarning: `torch.cuda.amp.autocast(args...)` is deprecated. Please use `torch.amp.autocast('cuda', args...)` instead.\n",
            "  with amp.autocast(autocast):\n",
            "Saved 1 image to \u001b[1mdetection_results215\u001b[0m\n",
            "/root/.cache/torch/hub/ultralytics_yolov5_master/models/common.py:892: FutureWarning: `torch.cuda.amp.autocast(args...)` is deprecated. Please use `torch.amp.autocast('cuda', args...)` instead.\n",
            "  with amp.autocast(autocast):\n",
            "Saved 1 image to \u001b[1mdetection_results216\u001b[0m\n",
            "/root/.cache/torch/hub/ultralytics_yolov5_master/models/common.py:892: FutureWarning: `torch.cuda.amp.autocast(args...)` is deprecated. Please use `torch.amp.autocast('cuda', args...)` instead.\n",
            "  with amp.autocast(autocast):\n",
            "Saved 1 image to \u001b[1mdetection_results217\u001b[0m\n",
            "/root/.cache/torch/hub/ultralytics_yolov5_master/models/common.py:892: FutureWarning: `torch.cuda.amp.autocast(args...)` is deprecated. Please use `torch.amp.autocast('cuda', args...)` instead.\n",
            "  with amp.autocast(autocast):\n",
            "Saved 1 image to \u001b[1mdetection_results218\u001b[0m\n",
            "/root/.cache/torch/hub/ultralytics_yolov5_master/models/common.py:892: FutureWarning: `torch.cuda.amp.autocast(args...)` is deprecated. Please use `torch.amp.autocast('cuda', args...)` instead.\n",
            "  with amp.autocast(autocast):\n",
            "Saved 1 image to \u001b[1mdetection_results219\u001b[0m\n",
            "/root/.cache/torch/hub/ultralytics_yolov5_master/models/common.py:892: FutureWarning: `torch.cuda.amp.autocast(args...)` is deprecated. Please use `torch.amp.autocast('cuda', args...)` instead.\n",
            "  with amp.autocast(autocast):\n",
            "Saved 1 image to \u001b[1mdetection_results220\u001b[0m\n",
            "/root/.cache/torch/hub/ultralytics_yolov5_master/models/common.py:892: FutureWarning: `torch.cuda.amp.autocast(args...)` is deprecated. Please use `torch.amp.autocast('cuda', args...)` instead.\n",
            "  with amp.autocast(autocast):\n",
            "Saved 1 image to \u001b[1mdetection_results221\u001b[0m\n",
            "/root/.cache/torch/hub/ultralytics_yolov5_master/models/common.py:892: FutureWarning: `torch.cuda.amp.autocast(args...)` is deprecated. Please use `torch.amp.autocast('cuda', args...)` instead.\n",
            "  with amp.autocast(autocast):\n",
            "Saved 1 image to \u001b[1mdetection_results222\u001b[0m\n",
            "/root/.cache/torch/hub/ultralytics_yolov5_master/models/common.py:892: FutureWarning: `torch.cuda.amp.autocast(args...)` is deprecated. Please use `torch.amp.autocast('cuda', args...)` instead.\n",
            "  with amp.autocast(autocast):\n",
            "Saved 1 image to \u001b[1mdetection_results223\u001b[0m\n",
            "/root/.cache/torch/hub/ultralytics_yolov5_master/models/common.py:892: FutureWarning: `torch.cuda.amp.autocast(args...)` is deprecated. Please use `torch.amp.autocast('cuda', args...)` instead.\n",
            "  with amp.autocast(autocast):\n",
            "Saved 1 image to \u001b[1mdetection_results224\u001b[0m\n",
            "/root/.cache/torch/hub/ultralytics_yolov5_master/models/common.py:892: FutureWarning: `torch.cuda.amp.autocast(args...)` is deprecated. Please use `torch.amp.autocast('cuda', args...)` instead.\n",
            "  with amp.autocast(autocast):\n",
            "Saved 1 image to \u001b[1mdetection_results225\u001b[0m\n",
            "/root/.cache/torch/hub/ultralytics_yolov5_master/models/common.py:892: FutureWarning: `torch.cuda.amp.autocast(args...)` is deprecated. Please use `torch.amp.autocast('cuda', args...)` instead.\n",
            "  with amp.autocast(autocast):\n",
            "Saved 1 image to \u001b[1mdetection_results226\u001b[0m\n",
            "/root/.cache/torch/hub/ultralytics_yolov5_master/models/common.py:892: FutureWarning: `torch.cuda.amp.autocast(args...)` is deprecated. Please use `torch.amp.autocast('cuda', args...)` instead.\n",
            "  with amp.autocast(autocast):\n",
            "Saved 1 image to \u001b[1mdetection_results227\u001b[0m\n",
            "/root/.cache/torch/hub/ultralytics_yolov5_master/models/common.py:892: FutureWarning: `torch.cuda.amp.autocast(args...)` is deprecated. Please use `torch.amp.autocast('cuda', args...)` instead.\n",
            "  with amp.autocast(autocast):\n",
            "Saved 1 image to \u001b[1mdetection_results228\u001b[0m\n",
            "/root/.cache/torch/hub/ultralytics_yolov5_master/models/common.py:892: FutureWarning: `torch.cuda.amp.autocast(args...)` is deprecated. Please use `torch.amp.autocast('cuda', args...)` instead.\n",
            "  with amp.autocast(autocast):\n",
            "Saved 1 image to \u001b[1mdetection_results229\u001b[0m\n",
            "/root/.cache/torch/hub/ultralytics_yolov5_master/models/common.py:892: FutureWarning: `torch.cuda.amp.autocast(args...)` is deprecated. Please use `torch.amp.autocast('cuda', args...)` instead.\n",
            "  with amp.autocast(autocast):\n",
            "Saved 1 image to \u001b[1mdetection_results230\u001b[0m\n",
            "/root/.cache/torch/hub/ultralytics_yolov5_master/models/common.py:892: FutureWarning: `torch.cuda.amp.autocast(args...)` is deprecated. Please use `torch.amp.autocast('cuda', args...)` instead.\n",
            "  with amp.autocast(autocast):\n",
            "Saved 1 image to \u001b[1mdetection_results231\u001b[0m\n",
            "/root/.cache/torch/hub/ultralytics_yolov5_master/models/common.py:892: FutureWarning: `torch.cuda.amp.autocast(args...)` is deprecated. Please use `torch.amp.autocast('cuda', args...)` instead.\n",
            "  with amp.autocast(autocast):\n",
            "Saved 1 image to \u001b[1mdetection_results232\u001b[0m\n",
            "/root/.cache/torch/hub/ultralytics_yolov5_master/models/common.py:892: FutureWarning: `torch.cuda.amp.autocast(args...)` is deprecated. Please use `torch.amp.autocast('cuda', args...)` instead.\n",
            "  with amp.autocast(autocast):\n",
            "Saved 1 image to \u001b[1mdetection_results233\u001b[0m\n",
            "/root/.cache/torch/hub/ultralytics_yolov5_master/models/common.py:892: FutureWarning: `torch.cuda.amp.autocast(args...)` is deprecated. Please use `torch.amp.autocast('cuda', args...)` instead.\n",
            "  with amp.autocast(autocast):\n",
            "Saved 1 image to \u001b[1mdetection_results234\u001b[0m\n",
            "/root/.cache/torch/hub/ultralytics_yolov5_master/models/common.py:892: FutureWarning: `torch.cuda.amp.autocast(args...)` is deprecated. Please use `torch.amp.autocast('cuda', args...)` instead.\n",
            "  with amp.autocast(autocast):\n",
            "Saved 1 image to \u001b[1mdetection_results235\u001b[0m\n",
            "/root/.cache/torch/hub/ultralytics_yolov5_master/models/common.py:892: FutureWarning: `torch.cuda.amp.autocast(args...)` is deprecated. Please use `torch.amp.autocast('cuda', args...)` instead.\n",
            "  with amp.autocast(autocast):\n",
            "Saved 1 image to \u001b[1mdetection_results236\u001b[0m\n",
            "/root/.cache/torch/hub/ultralytics_yolov5_master/models/common.py:892: FutureWarning: `torch.cuda.amp.autocast(args...)` is deprecated. Please use `torch.amp.autocast('cuda', args...)` instead.\n",
            "  with amp.autocast(autocast):\n",
            "Saved 1 image to \u001b[1mdetection_results237\u001b[0m\n",
            "/root/.cache/torch/hub/ultralytics_yolov5_master/models/common.py:892: FutureWarning: `torch.cuda.amp.autocast(args...)` is deprecated. Please use `torch.amp.autocast('cuda', args...)` instead.\n",
            "  with amp.autocast(autocast):\n",
            "Saved 1 image to \u001b[1mdetection_results238\u001b[0m\n",
            "/root/.cache/torch/hub/ultralytics_yolov5_master/models/common.py:892: FutureWarning: `torch.cuda.amp.autocast(args...)` is deprecated. Please use `torch.amp.autocast('cuda', args...)` instead.\n",
            "  with amp.autocast(autocast):\n",
            "Saved 1 image to \u001b[1mdetection_results239\u001b[0m\n",
            "/root/.cache/torch/hub/ultralytics_yolov5_master/models/common.py:892: FutureWarning: `torch.cuda.amp.autocast(args...)` is deprecated. Please use `torch.amp.autocast('cuda', args...)` instead.\n",
            "  with amp.autocast(autocast):\n",
            "Saved 1 image to \u001b[1mdetection_results240\u001b[0m\n",
            "/root/.cache/torch/hub/ultralytics_yolov5_master/models/common.py:892: FutureWarning: `torch.cuda.amp.autocast(args...)` is deprecated. Please use `torch.amp.autocast('cuda', args...)` instead.\n",
            "  with amp.autocast(autocast):\n",
            "Saved 1 image to \u001b[1mdetection_results241\u001b[0m\n",
            "/root/.cache/torch/hub/ultralytics_yolov5_master/models/common.py:892: FutureWarning: `torch.cuda.amp.autocast(args...)` is deprecated. Please use `torch.amp.autocast('cuda', args...)` instead.\n",
            "  with amp.autocast(autocast):\n",
            "Saved 1 image to \u001b[1mdetection_results242\u001b[0m\n",
            "/root/.cache/torch/hub/ultralytics_yolov5_master/models/common.py:892: FutureWarning: `torch.cuda.amp.autocast(args...)` is deprecated. Please use `torch.amp.autocast('cuda', args...)` instead.\n",
            "  with amp.autocast(autocast):\n",
            "Saved 1 image to \u001b[1mdetection_results243\u001b[0m\n",
            "/root/.cache/torch/hub/ultralytics_yolov5_master/models/common.py:892: FutureWarning: `torch.cuda.amp.autocast(args...)` is deprecated. Please use `torch.amp.autocast('cuda', args...)` instead.\n",
            "  with amp.autocast(autocast):\n",
            "Saved 1 image to \u001b[1mdetection_results244\u001b[0m\n",
            "/root/.cache/torch/hub/ultralytics_yolov5_master/models/common.py:892: FutureWarning: `torch.cuda.amp.autocast(args...)` is deprecated. Please use `torch.amp.autocast('cuda', args...)` instead.\n",
            "  with amp.autocast(autocast):\n",
            "Saved 1 image to \u001b[1mdetection_results245\u001b[0m\n",
            "/root/.cache/torch/hub/ultralytics_yolov5_master/models/common.py:892: FutureWarning: `torch.cuda.amp.autocast(args...)` is deprecated. Please use `torch.amp.autocast('cuda', args...)` instead.\n",
            "  with amp.autocast(autocast):\n",
            "Saved 1 image to \u001b[1mdetection_results246\u001b[0m\n",
            "/root/.cache/torch/hub/ultralytics_yolov5_master/models/common.py:892: FutureWarning: `torch.cuda.amp.autocast(args...)` is deprecated. Please use `torch.amp.autocast('cuda', args...)` instead.\n",
            "  with amp.autocast(autocast):\n",
            "Saved 1 image to \u001b[1mdetection_results247\u001b[0m\n",
            "/root/.cache/torch/hub/ultralytics_yolov5_master/models/common.py:892: FutureWarning: `torch.cuda.amp.autocast(args...)` is deprecated. Please use `torch.amp.autocast('cuda', args...)` instead.\n",
            "  with amp.autocast(autocast):\n",
            "Saved 1 image to \u001b[1mdetection_results248\u001b[0m\n",
            "/root/.cache/torch/hub/ultralytics_yolov5_master/models/common.py:892: FutureWarning: `torch.cuda.amp.autocast(args...)` is deprecated. Please use `torch.amp.autocast('cuda', args...)` instead.\n",
            "  with amp.autocast(autocast):\n",
            "Saved 1 image to \u001b[1mdetection_results249\u001b[0m\n",
            "/root/.cache/torch/hub/ultralytics_yolov5_master/models/common.py:892: FutureWarning: `torch.cuda.amp.autocast(args...)` is deprecated. Please use `torch.amp.autocast('cuda', args...)` instead.\n",
            "  with amp.autocast(autocast):\n",
            "Saved 1 image to \u001b[1mdetection_results250\u001b[0m\n",
            "/root/.cache/torch/hub/ultralytics_yolov5_master/models/common.py:892: FutureWarning: `torch.cuda.amp.autocast(args...)` is deprecated. Please use `torch.amp.autocast('cuda', args...)` instead.\n",
            "  with amp.autocast(autocast):\n",
            "Saved 1 image to \u001b[1mdetection_results251\u001b[0m\n",
            "/root/.cache/torch/hub/ultralytics_yolov5_master/models/common.py:892: FutureWarning: `torch.cuda.amp.autocast(args...)` is deprecated. Please use `torch.amp.autocast('cuda', args...)` instead.\n",
            "  with amp.autocast(autocast):\n",
            "Saved 1 image to \u001b[1mdetection_results252\u001b[0m\n",
            "/root/.cache/torch/hub/ultralytics_yolov5_master/models/common.py:892: FutureWarning: `torch.cuda.amp.autocast(args...)` is deprecated. Please use `torch.amp.autocast('cuda', args...)` instead.\n",
            "  with amp.autocast(autocast):\n",
            "Saved 1 image to \u001b[1mdetection_results253\u001b[0m\n",
            "/root/.cache/torch/hub/ultralytics_yolov5_master/models/common.py:892: FutureWarning: `torch.cuda.amp.autocast(args...)` is deprecated. Please use `torch.amp.autocast('cuda', args...)` instead.\n",
            "  with amp.autocast(autocast):\n",
            "Saved 1 image to \u001b[1mdetection_results254\u001b[0m\n",
            "/root/.cache/torch/hub/ultralytics_yolov5_master/models/common.py:892: FutureWarning: `torch.cuda.amp.autocast(args...)` is deprecated. Please use `torch.amp.autocast('cuda', args...)` instead.\n",
            "  with amp.autocast(autocast):\n",
            "Saved 1 image to \u001b[1mdetection_results255\u001b[0m\n",
            "/root/.cache/torch/hub/ultralytics_yolov5_master/models/common.py:892: FutureWarning: `torch.cuda.amp.autocast(args...)` is deprecated. Please use `torch.amp.autocast('cuda', args...)` instead.\n",
            "  with amp.autocast(autocast):\n",
            "Saved 1 image to \u001b[1mdetection_results256\u001b[0m\n",
            "/root/.cache/torch/hub/ultralytics_yolov5_master/models/common.py:892: FutureWarning: `torch.cuda.amp.autocast(args...)` is deprecated. Please use `torch.amp.autocast('cuda', args...)` instead.\n",
            "  with amp.autocast(autocast):\n",
            "Saved 1 image to \u001b[1mdetection_results257\u001b[0m\n",
            "/root/.cache/torch/hub/ultralytics_yolov5_master/models/common.py:892: FutureWarning: `torch.cuda.amp.autocast(args...)` is deprecated. Please use `torch.amp.autocast('cuda', args...)` instead.\n",
            "  with amp.autocast(autocast):\n",
            "Saved 1 image to \u001b[1mdetection_results258\u001b[0m\n",
            "/root/.cache/torch/hub/ultralytics_yolov5_master/models/common.py:892: FutureWarning: `torch.cuda.amp.autocast(args...)` is deprecated. Please use `torch.amp.autocast('cuda', args...)` instead.\n",
            "  with amp.autocast(autocast):\n",
            "Saved 1 image to \u001b[1mdetection_results259\u001b[0m\n",
            "/root/.cache/torch/hub/ultralytics_yolov5_master/models/common.py:892: FutureWarning: `torch.cuda.amp.autocast(args...)` is deprecated. Please use `torch.amp.autocast('cuda', args...)` instead.\n",
            "  with amp.autocast(autocast):\n",
            "Saved 1 image to \u001b[1mdetection_results260\u001b[0m\n",
            "/root/.cache/torch/hub/ultralytics_yolov5_master/models/common.py:892: FutureWarning: `torch.cuda.amp.autocast(args...)` is deprecated. Please use `torch.amp.autocast('cuda', args...)` instead.\n",
            "  with amp.autocast(autocast):\n",
            "Saved 1 image to \u001b[1mdetection_results261\u001b[0m\n",
            "/root/.cache/torch/hub/ultralytics_yolov5_master/models/common.py:892: FutureWarning: `torch.cuda.amp.autocast(args...)` is deprecated. Please use `torch.amp.autocast('cuda', args...)` instead.\n",
            "  with amp.autocast(autocast):\n",
            "Saved 1 image to \u001b[1mdetection_results262\u001b[0m\n",
            "/root/.cache/torch/hub/ultralytics_yolov5_master/models/common.py:892: FutureWarning: `torch.cuda.amp.autocast(args...)` is deprecated. Please use `torch.amp.autocast('cuda', args...)` instead.\n",
            "  with amp.autocast(autocast):\n",
            "Saved 1 image to \u001b[1mdetection_results263\u001b[0m\n",
            "/root/.cache/torch/hub/ultralytics_yolov5_master/models/common.py:892: FutureWarning: `torch.cuda.amp.autocast(args...)` is deprecated. Please use `torch.amp.autocast('cuda', args...)` instead.\n",
            "  with amp.autocast(autocast):\n",
            "Saved 1 image to \u001b[1mdetection_results264\u001b[0m\n",
            "/root/.cache/torch/hub/ultralytics_yolov5_master/models/common.py:892: FutureWarning: `torch.cuda.amp.autocast(args...)` is deprecated. Please use `torch.amp.autocast('cuda', args...)` instead.\n",
            "  with amp.autocast(autocast):\n",
            "Saved 1 image to \u001b[1mdetection_results265\u001b[0m\n",
            "/root/.cache/torch/hub/ultralytics_yolov5_master/models/common.py:892: FutureWarning: `torch.cuda.amp.autocast(args...)` is deprecated. Please use `torch.amp.autocast('cuda', args...)` instead.\n",
            "  with amp.autocast(autocast):\n",
            "Saved 1 image to \u001b[1mdetection_results266\u001b[0m\n",
            "/root/.cache/torch/hub/ultralytics_yolov5_master/models/common.py:892: FutureWarning: `torch.cuda.amp.autocast(args...)` is deprecated. Please use `torch.amp.autocast('cuda', args...)` instead.\n",
            "  with amp.autocast(autocast):\n",
            "Saved 1 image to \u001b[1mdetection_results267\u001b[0m\n",
            "/root/.cache/torch/hub/ultralytics_yolov5_master/models/common.py:892: FutureWarning: `torch.cuda.amp.autocast(args...)` is deprecated. Please use `torch.amp.autocast('cuda', args...)` instead.\n",
            "  with amp.autocast(autocast):\n",
            "Saved 1 image to \u001b[1mdetection_results268\u001b[0m\n",
            "/root/.cache/torch/hub/ultralytics_yolov5_master/models/common.py:892: FutureWarning: `torch.cuda.amp.autocast(args...)` is deprecated. Please use `torch.amp.autocast('cuda', args...)` instead.\n",
            "  with amp.autocast(autocast):\n",
            "Saved 1 image to \u001b[1mdetection_results269\u001b[0m\n",
            "/root/.cache/torch/hub/ultralytics_yolov5_master/models/common.py:892: FutureWarning: `torch.cuda.amp.autocast(args...)` is deprecated. Please use `torch.amp.autocast('cuda', args...)` instead.\n",
            "  with amp.autocast(autocast):\n",
            "Saved 1 image to \u001b[1mdetection_results270\u001b[0m\n",
            "/root/.cache/torch/hub/ultralytics_yolov5_master/models/common.py:892: FutureWarning: `torch.cuda.amp.autocast(args...)` is deprecated. Please use `torch.amp.autocast('cuda', args...)` instead.\n",
            "  with amp.autocast(autocast):\n",
            "Saved 1 image to \u001b[1mdetection_results271\u001b[0m\n",
            "/root/.cache/torch/hub/ultralytics_yolov5_master/models/common.py:892: FutureWarning: `torch.cuda.amp.autocast(args...)` is deprecated. Please use `torch.amp.autocast('cuda', args...)` instead.\n",
            "  with amp.autocast(autocast):\n",
            "Saved 1 image to \u001b[1mdetection_results272\u001b[0m\n",
            "/root/.cache/torch/hub/ultralytics_yolov5_master/models/common.py:892: FutureWarning: `torch.cuda.amp.autocast(args...)` is deprecated. Please use `torch.amp.autocast('cuda', args...)` instead.\n",
            "  with amp.autocast(autocast):\n",
            "Saved 1 image to \u001b[1mdetection_results273\u001b[0m\n",
            "/root/.cache/torch/hub/ultralytics_yolov5_master/models/common.py:892: FutureWarning: `torch.cuda.amp.autocast(args...)` is deprecated. Please use `torch.amp.autocast('cuda', args...)` instead.\n",
            "  with amp.autocast(autocast):\n",
            "Saved 1 image to \u001b[1mdetection_results274\u001b[0m\n",
            "/root/.cache/torch/hub/ultralytics_yolov5_master/models/common.py:892: FutureWarning: `torch.cuda.amp.autocast(args...)` is deprecated. Please use `torch.amp.autocast('cuda', args...)` instead.\n",
            "  with amp.autocast(autocast):\n",
            "Saved 1 image to \u001b[1mdetection_results275\u001b[0m\n",
            "/root/.cache/torch/hub/ultralytics_yolov5_master/models/common.py:892: FutureWarning: `torch.cuda.amp.autocast(args...)` is deprecated. Please use `torch.amp.autocast('cuda', args...)` instead.\n",
            "  with amp.autocast(autocast):\n",
            "Saved 1 image to \u001b[1mdetection_results276\u001b[0m\n",
            "/root/.cache/torch/hub/ultralytics_yolov5_master/models/common.py:892: FutureWarning: `torch.cuda.amp.autocast(args...)` is deprecated. Please use `torch.amp.autocast('cuda', args...)` instead.\n",
            "  with amp.autocast(autocast):\n",
            "Saved 1 image to \u001b[1mdetection_results277\u001b[0m\n",
            "/root/.cache/torch/hub/ultralytics_yolov5_master/models/common.py:892: FutureWarning: `torch.cuda.amp.autocast(args...)` is deprecated. Please use `torch.amp.autocast('cuda', args...)` instead.\n",
            "  with amp.autocast(autocast):\n",
            "Saved 1 image to \u001b[1mdetection_results278\u001b[0m\n",
            "/root/.cache/torch/hub/ultralytics_yolov5_master/models/common.py:892: FutureWarning: `torch.cuda.amp.autocast(args...)` is deprecated. Please use `torch.amp.autocast('cuda', args...)` instead.\n",
            "  with amp.autocast(autocast):\n",
            "Saved 1 image to \u001b[1mdetection_results279\u001b[0m\n",
            "/root/.cache/torch/hub/ultralytics_yolov5_master/models/common.py:892: FutureWarning: `torch.cuda.amp.autocast(args...)` is deprecated. Please use `torch.amp.autocast('cuda', args...)` instead.\n",
            "  with amp.autocast(autocast):\n",
            "Saved 1 image to \u001b[1mdetection_results280\u001b[0m\n",
            "/root/.cache/torch/hub/ultralytics_yolov5_master/models/common.py:892: FutureWarning: `torch.cuda.amp.autocast(args...)` is deprecated. Please use `torch.amp.autocast('cuda', args...)` instead.\n",
            "  with amp.autocast(autocast):\n",
            "Saved 1 image to \u001b[1mdetection_results281\u001b[0m\n",
            "/root/.cache/torch/hub/ultralytics_yolov5_master/models/common.py:892: FutureWarning: `torch.cuda.amp.autocast(args...)` is deprecated. Please use `torch.amp.autocast('cuda', args...)` instead.\n",
            "  with amp.autocast(autocast):\n",
            "Saved 1 image to \u001b[1mdetection_results282\u001b[0m\n",
            "/root/.cache/torch/hub/ultralytics_yolov5_master/models/common.py:892: FutureWarning: `torch.cuda.amp.autocast(args...)` is deprecated. Please use `torch.amp.autocast('cuda', args...)` instead.\n",
            "  with amp.autocast(autocast):\n",
            "Saved 1 image to \u001b[1mdetection_results283\u001b[0m\n",
            "/root/.cache/torch/hub/ultralytics_yolov5_master/models/common.py:892: FutureWarning: `torch.cuda.amp.autocast(args...)` is deprecated. Please use `torch.amp.autocast('cuda', args...)` instead.\n",
            "  with amp.autocast(autocast):\n",
            "Saved 1 image to \u001b[1mdetection_results284\u001b[0m\n",
            "/root/.cache/torch/hub/ultralytics_yolov5_master/models/common.py:892: FutureWarning: `torch.cuda.amp.autocast(args...)` is deprecated. Please use `torch.amp.autocast('cuda', args...)` instead.\n",
            "  with amp.autocast(autocast):\n",
            "Saved 1 image to \u001b[1mdetection_results285\u001b[0m\n",
            "/root/.cache/torch/hub/ultralytics_yolov5_master/models/common.py:892: FutureWarning: `torch.cuda.amp.autocast(args...)` is deprecated. Please use `torch.amp.autocast('cuda', args...)` instead.\n",
            "  with amp.autocast(autocast):\n",
            "Saved 1 image to \u001b[1mdetection_results286\u001b[0m\n",
            "/root/.cache/torch/hub/ultralytics_yolov5_master/models/common.py:892: FutureWarning: `torch.cuda.amp.autocast(args...)` is deprecated. Please use `torch.amp.autocast('cuda', args...)` instead.\n",
            "  with amp.autocast(autocast):\n",
            "Saved 1 image to \u001b[1mdetection_results287\u001b[0m\n",
            "/root/.cache/torch/hub/ultralytics_yolov5_master/models/common.py:892: FutureWarning: `torch.cuda.amp.autocast(args...)` is deprecated. Please use `torch.amp.autocast('cuda', args...)` instead.\n",
            "  with amp.autocast(autocast):\n",
            "Saved 1 image to \u001b[1mdetection_results288\u001b[0m\n",
            "/root/.cache/torch/hub/ultralytics_yolov5_master/models/common.py:892: FutureWarning: `torch.cuda.amp.autocast(args...)` is deprecated. Please use `torch.amp.autocast('cuda', args...)` instead.\n",
            "  with amp.autocast(autocast):\n",
            "Saved 1 image to \u001b[1mdetection_results289\u001b[0m\n",
            "/root/.cache/torch/hub/ultralytics_yolov5_master/models/common.py:892: FutureWarning: `torch.cuda.amp.autocast(args...)` is deprecated. Please use `torch.amp.autocast('cuda', args...)` instead.\n",
            "  with amp.autocast(autocast):\n",
            "Saved 1 image to \u001b[1mdetection_results290\u001b[0m\n",
            "/root/.cache/torch/hub/ultralytics_yolov5_master/models/common.py:892: FutureWarning: `torch.cuda.amp.autocast(args...)` is deprecated. Please use `torch.amp.autocast('cuda', args...)` instead.\n",
            "  with amp.autocast(autocast):\n",
            "Saved 1 image to \u001b[1mdetection_results291\u001b[0m\n",
            "/root/.cache/torch/hub/ultralytics_yolov5_master/models/common.py:892: FutureWarning: `torch.cuda.amp.autocast(args...)` is deprecated. Please use `torch.amp.autocast('cuda', args...)` instead.\n",
            "  with amp.autocast(autocast):\n",
            "Saved 1 image to \u001b[1mdetection_results292\u001b[0m\n",
            "/root/.cache/torch/hub/ultralytics_yolov5_master/models/common.py:892: FutureWarning: `torch.cuda.amp.autocast(args...)` is deprecated. Please use `torch.amp.autocast('cuda', args...)` instead.\n",
            "  with amp.autocast(autocast):\n",
            "Saved 1 image to \u001b[1mdetection_results293\u001b[0m\n",
            "/root/.cache/torch/hub/ultralytics_yolov5_master/models/common.py:892: FutureWarning: `torch.cuda.amp.autocast(args...)` is deprecated. Please use `torch.amp.autocast('cuda', args...)` instead.\n",
            "  with amp.autocast(autocast):\n",
            "Saved 1 image to \u001b[1mdetection_results294\u001b[0m\n",
            "/root/.cache/torch/hub/ultralytics_yolov5_master/models/common.py:892: FutureWarning: `torch.cuda.amp.autocast(args...)` is deprecated. Please use `torch.amp.autocast('cuda', args...)` instead.\n",
            "  with amp.autocast(autocast):\n",
            "Saved 1 image to \u001b[1mdetection_results295\u001b[0m\n",
            "/root/.cache/torch/hub/ultralytics_yolov5_master/models/common.py:892: FutureWarning: `torch.cuda.amp.autocast(args...)` is deprecated. Please use `torch.amp.autocast('cuda', args...)` instead.\n",
            "  with amp.autocast(autocast):\n",
            "Saved 1 image to \u001b[1mdetection_results296\u001b[0m\n",
            "/root/.cache/torch/hub/ultralytics_yolov5_master/models/common.py:892: FutureWarning: `torch.cuda.amp.autocast(args...)` is deprecated. Please use `torch.amp.autocast('cuda', args...)` instead.\n",
            "  with amp.autocast(autocast):\n",
            "Saved 1 image to \u001b[1mdetection_results297\u001b[0m\n",
            "/root/.cache/torch/hub/ultralytics_yolov5_master/models/common.py:892: FutureWarning: `torch.cuda.amp.autocast(args...)` is deprecated. Please use `torch.amp.autocast('cuda', args...)` instead.\n",
            "  with amp.autocast(autocast):\n",
            "Saved 1 image to \u001b[1mdetection_results298\u001b[0m\n",
            "/root/.cache/torch/hub/ultralytics_yolov5_master/models/common.py:892: FutureWarning: `torch.cuda.amp.autocast(args...)` is deprecated. Please use `torch.amp.autocast('cuda', args...)` instead.\n",
            "  with amp.autocast(autocast):\n",
            "Saved 1 image to \u001b[1mdetection_results299\u001b[0m\n",
            "/root/.cache/torch/hub/ultralytics_yolov5_master/models/common.py:892: FutureWarning: `torch.cuda.amp.autocast(args...)` is deprecated. Please use `torch.amp.autocast('cuda', args...)` instead.\n",
            "  with amp.autocast(autocast):\n",
            "Saved 1 image to \u001b[1mdetection_results300\u001b[0m\n",
            "/root/.cache/torch/hub/ultralytics_yolov5_master/models/common.py:892: FutureWarning: `torch.cuda.amp.autocast(args...)` is deprecated. Please use `torch.amp.autocast('cuda', args...)` instead.\n",
            "  with amp.autocast(autocast):\n",
            "Saved 1 image to \u001b[1mdetection_results301\u001b[0m\n",
            "/root/.cache/torch/hub/ultralytics_yolov5_master/models/common.py:892: FutureWarning: `torch.cuda.amp.autocast(args...)` is deprecated. Please use `torch.amp.autocast('cuda', args...)` instead.\n",
            "  with amp.autocast(autocast):\n",
            "Saved 1 image to \u001b[1mdetection_results302\u001b[0m\n",
            "/root/.cache/torch/hub/ultralytics_yolov5_master/models/common.py:892: FutureWarning: `torch.cuda.amp.autocast(args...)` is deprecated. Please use `torch.amp.autocast('cuda', args...)` instead.\n",
            "  with amp.autocast(autocast):\n",
            "Saved 1 image to \u001b[1mdetection_results303\u001b[0m\n",
            "/root/.cache/torch/hub/ultralytics_yolov5_master/models/common.py:892: FutureWarning: `torch.cuda.amp.autocast(args...)` is deprecated. Please use `torch.amp.autocast('cuda', args...)` instead.\n",
            "  with amp.autocast(autocast):\n",
            "Saved 1 image to \u001b[1mdetection_results304\u001b[0m\n",
            "/root/.cache/torch/hub/ultralytics_yolov5_master/models/common.py:892: FutureWarning: `torch.cuda.amp.autocast(args...)` is deprecated. Please use `torch.amp.autocast('cuda', args...)` instead.\n",
            "  with amp.autocast(autocast):\n",
            "Saved 1 image to \u001b[1mdetection_results305\u001b[0m\n",
            "/root/.cache/torch/hub/ultralytics_yolov5_master/models/common.py:892: FutureWarning: `torch.cuda.amp.autocast(args...)` is deprecated. Please use `torch.amp.autocast('cuda', args...)` instead.\n",
            "  with amp.autocast(autocast):\n",
            "Saved 1 image to \u001b[1mdetection_results306\u001b[0m\n",
            "/root/.cache/torch/hub/ultralytics_yolov5_master/models/common.py:892: FutureWarning: `torch.cuda.amp.autocast(args...)` is deprecated. Please use `torch.amp.autocast('cuda', args...)` instead.\n",
            "  with amp.autocast(autocast):\n",
            "Saved 1 image to \u001b[1mdetection_results307\u001b[0m\n",
            "/root/.cache/torch/hub/ultralytics_yolov5_master/models/common.py:892: FutureWarning: `torch.cuda.amp.autocast(args...)` is deprecated. Please use `torch.amp.autocast('cuda', args...)` instead.\n",
            "  with amp.autocast(autocast):\n",
            "Saved 1 image to \u001b[1mdetection_results308\u001b[0m\n",
            "/root/.cache/torch/hub/ultralytics_yolov5_master/models/common.py:892: FutureWarning: `torch.cuda.amp.autocast(args...)` is deprecated. Please use `torch.amp.autocast('cuda', args...)` instead.\n",
            "  with amp.autocast(autocast):\n",
            "Saved 1 image to \u001b[1mdetection_results309\u001b[0m\n",
            "/root/.cache/torch/hub/ultralytics_yolov5_master/models/common.py:892: FutureWarning: `torch.cuda.amp.autocast(args...)` is deprecated. Please use `torch.amp.autocast('cuda', args...)` instead.\n",
            "  with amp.autocast(autocast):\n",
            "Saved 1 image to \u001b[1mdetection_results310\u001b[0m\n",
            "/root/.cache/torch/hub/ultralytics_yolov5_master/models/common.py:892: FutureWarning: `torch.cuda.amp.autocast(args...)` is deprecated. Please use `torch.amp.autocast('cuda', args...)` instead.\n",
            "  with amp.autocast(autocast):\n",
            "Saved 1 image to \u001b[1mdetection_results311\u001b[0m\n",
            "/root/.cache/torch/hub/ultralytics_yolov5_master/models/common.py:892: FutureWarning: `torch.cuda.amp.autocast(args...)` is deprecated. Please use `torch.amp.autocast('cuda', args...)` instead.\n",
            "  with amp.autocast(autocast):\n",
            "Saved 1 image to \u001b[1mdetection_results312\u001b[0m\n",
            "/root/.cache/torch/hub/ultralytics_yolov5_master/models/common.py:892: FutureWarning: `torch.cuda.amp.autocast(args...)` is deprecated. Please use `torch.amp.autocast('cuda', args...)` instead.\n",
            "  with amp.autocast(autocast):\n",
            "Saved 1 image to \u001b[1mdetection_results313\u001b[0m\n",
            "/root/.cache/torch/hub/ultralytics_yolov5_master/models/common.py:892: FutureWarning: `torch.cuda.amp.autocast(args...)` is deprecated. Please use `torch.amp.autocast('cuda', args...)` instead.\n",
            "  with amp.autocast(autocast):\n",
            "Saved 1 image to \u001b[1mdetection_results314\u001b[0m\n",
            "/root/.cache/torch/hub/ultralytics_yolov5_master/models/common.py:892: FutureWarning: `torch.cuda.amp.autocast(args...)` is deprecated. Please use `torch.amp.autocast('cuda', args...)` instead.\n",
            "  with amp.autocast(autocast):\n",
            "Saved 1 image to \u001b[1mdetection_results315\u001b[0m\n",
            "/root/.cache/torch/hub/ultralytics_yolov5_master/models/common.py:892: FutureWarning: `torch.cuda.amp.autocast(args...)` is deprecated. Please use `torch.amp.autocast('cuda', args...)` instead.\n",
            "  with amp.autocast(autocast):\n",
            "Saved 1 image to \u001b[1mdetection_results316\u001b[0m\n",
            "/root/.cache/torch/hub/ultralytics_yolov5_master/models/common.py:892: FutureWarning: `torch.cuda.amp.autocast(args...)` is deprecated. Please use `torch.amp.autocast('cuda', args...)` instead.\n",
            "  with amp.autocast(autocast):\n",
            "Saved 1 image to \u001b[1mdetection_results317\u001b[0m\n",
            "/root/.cache/torch/hub/ultralytics_yolov5_master/models/common.py:892: FutureWarning: `torch.cuda.amp.autocast(args...)` is deprecated. Please use `torch.amp.autocast('cuda', args...)` instead.\n",
            "  with amp.autocast(autocast):\n",
            "Saved 1 image to \u001b[1mdetection_results318\u001b[0m\n",
            "/root/.cache/torch/hub/ultralytics_yolov5_master/models/common.py:892: FutureWarning: `torch.cuda.amp.autocast(args...)` is deprecated. Please use `torch.amp.autocast('cuda', args...)` instead.\n",
            "  with amp.autocast(autocast):\n",
            "Saved 1 image to \u001b[1mdetection_results319\u001b[0m\n",
            "/root/.cache/torch/hub/ultralytics_yolov5_master/models/common.py:892: FutureWarning: `torch.cuda.amp.autocast(args...)` is deprecated. Please use `torch.amp.autocast('cuda', args...)` instead.\n",
            "  with amp.autocast(autocast):\n",
            "Saved 1 image to \u001b[1mdetection_results320\u001b[0m\n",
            "/root/.cache/torch/hub/ultralytics_yolov5_master/models/common.py:892: FutureWarning: `torch.cuda.amp.autocast(args...)` is deprecated. Please use `torch.amp.autocast('cuda', args...)` instead.\n",
            "  with amp.autocast(autocast):\n",
            "Saved 1 image to \u001b[1mdetection_results321\u001b[0m\n",
            "/root/.cache/torch/hub/ultralytics_yolov5_master/models/common.py:892: FutureWarning: `torch.cuda.amp.autocast(args...)` is deprecated. Please use `torch.amp.autocast('cuda', args...)` instead.\n",
            "  with amp.autocast(autocast):\n",
            "Saved 1 image to \u001b[1mdetection_results322\u001b[0m\n",
            "/root/.cache/torch/hub/ultralytics_yolov5_master/models/common.py:892: FutureWarning: `torch.cuda.amp.autocast(args...)` is deprecated. Please use `torch.amp.autocast('cuda', args...)` instead.\n",
            "  with amp.autocast(autocast):\n",
            "Saved 1 image to \u001b[1mdetection_results323\u001b[0m\n",
            "/root/.cache/torch/hub/ultralytics_yolov5_master/models/common.py:892: FutureWarning: `torch.cuda.amp.autocast(args...)` is deprecated. Please use `torch.amp.autocast('cuda', args...)` instead.\n",
            "  with amp.autocast(autocast):\n",
            "Saved 1 image to \u001b[1mdetection_results324\u001b[0m\n",
            "/root/.cache/torch/hub/ultralytics_yolov5_master/models/common.py:892: FutureWarning: `torch.cuda.amp.autocast(args...)` is deprecated. Please use `torch.amp.autocast('cuda', args...)` instead.\n",
            "  with amp.autocast(autocast):\n",
            "Saved 1 image to \u001b[1mdetection_results325\u001b[0m\n",
            "/root/.cache/torch/hub/ultralytics_yolov5_master/models/common.py:892: FutureWarning: `torch.cuda.amp.autocast(args...)` is deprecated. Please use `torch.amp.autocast('cuda', args...)` instead.\n",
            "  with amp.autocast(autocast):\n",
            "Saved 1 image to \u001b[1mdetection_results326\u001b[0m\n",
            "/root/.cache/torch/hub/ultralytics_yolov5_master/models/common.py:892: FutureWarning: `torch.cuda.amp.autocast(args...)` is deprecated. Please use `torch.amp.autocast('cuda', args...)` instead.\n",
            "  with amp.autocast(autocast):\n",
            "Saved 1 image to \u001b[1mdetection_results327\u001b[0m\n",
            "/root/.cache/torch/hub/ultralytics_yolov5_master/models/common.py:892: FutureWarning: `torch.cuda.amp.autocast(args...)` is deprecated. Please use `torch.amp.autocast('cuda', args...)` instead.\n",
            "  with amp.autocast(autocast):\n",
            "Saved 1 image to \u001b[1mdetection_results328\u001b[0m\n",
            "/root/.cache/torch/hub/ultralytics_yolov5_master/models/common.py:892: FutureWarning: `torch.cuda.amp.autocast(args...)` is deprecated. Please use `torch.amp.autocast('cuda', args...)` instead.\n",
            "  with amp.autocast(autocast):\n",
            "Saved 1 image to \u001b[1mdetection_results329\u001b[0m\n",
            "/root/.cache/torch/hub/ultralytics_yolov5_master/models/common.py:892: FutureWarning: `torch.cuda.amp.autocast(args...)` is deprecated. Please use `torch.amp.autocast('cuda', args...)` instead.\n",
            "  with amp.autocast(autocast):\n",
            "Saved 1 image to \u001b[1mdetection_results330\u001b[0m\n",
            "/root/.cache/torch/hub/ultralytics_yolov5_master/models/common.py:892: FutureWarning: `torch.cuda.amp.autocast(args...)` is deprecated. Please use `torch.amp.autocast('cuda', args...)` instead.\n",
            "  with amp.autocast(autocast):\n",
            "Saved 1 image to \u001b[1mdetection_results331\u001b[0m\n",
            "/root/.cache/torch/hub/ultralytics_yolov5_master/models/common.py:892: FutureWarning: `torch.cuda.amp.autocast(args...)` is deprecated. Please use `torch.amp.autocast('cuda', args...)` instead.\n",
            "  with amp.autocast(autocast):\n",
            "Saved 1 image to \u001b[1mdetection_results332\u001b[0m\n",
            "/root/.cache/torch/hub/ultralytics_yolov5_master/models/common.py:892: FutureWarning: `torch.cuda.amp.autocast(args...)` is deprecated. Please use `torch.amp.autocast('cuda', args...)` instead.\n",
            "  with amp.autocast(autocast):\n",
            "Saved 1 image to \u001b[1mdetection_results333\u001b[0m\n",
            "/root/.cache/torch/hub/ultralytics_yolov5_master/models/common.py:892: FutureWarning: `torch.cuda.amp.autocast(args...)` is deprecated. Please use `torch.amp.autocast('cuda', args...)` instead.\n",
            "  with amp.autocast(autocast):\n",
            "Saved 1 image to \u001b[1mdetection_results334\u001b[0m\n",
            "/root/.cache/torch/hub/ultralytics_yolov5_master/models/common.py:892: FutureWarning: `torch.cuda.amp.autocast(args...)` is deprecated. Please use `torch.amp.autocast('cuda', args...)` instead.\n",
            "  with amp.autocast(autocast):\n",
            "Saved 1 image to \u001b[1mdetection_results335\u001b[0m\n",
            "/root/.cache/torch/hub/ultralytics_yolov5_master/models/common.py:892: FutureWarning: `torch.cuda.amp.autocast(args...)` is deprecated. Please use `torch.amp.autocast('cuda', args...)` instead.\n",
            "  with amp.autocast(autocast):\n",
            "Saved 1 image to \u001b[1mdetection_results336\u001b[0m\n",
            "/root/.cache/torch/hub/ultralytics_yolov5_master/models/common.py:892: FutureWarning: `torch.cuda.amp.autocast(args...)` is deprecated. Please use `torch.amp.autocast('cuda', args...)` instead.\n",
            "  with amp.autocast(autocast):\n",
            "Saved 1 image to \u001b[1mdetection_results337\u001b[0m\n",
            "/root/.cache/torch/hub/ultralytics_yolov5_master/models/common.py:892: FutureWarning: `torch.cuda.amp.autocast(args...)` is deprecated. Please use `torch.amp.autocast('cuda', args...)` instead.\n",
            "  with amp.autocast(autocast):\n",
            "Saved 1 image to \u001b[1mdetection_results338\u001b[0m\n",
            "/root/.cache/torch/hub/ultralytics_yolov5_master/models/common.py:892: FutureWarning: `torch.cuda.amp.autocast(args...)` is deprecated. Please use `torch.amp.autocast('cuda', args...)` instead.\n",
            "  with amp.autocast(autocast):\n",
            "Saved 1 image to \u001b[1mdetection_results339\u001b[0m\n",
            "/root/.cache/torch/hub/ultralytics_yolov5_master/models/common.py:892: FutureWarning: `torch.cuda.amp.autocast(args...)` is deprecated. Please use `torch.amp.autocast('cuda', args...)` instead.\n",
            "  with amp.autocast(autocast):\n",
            "Saved 1 image to \u001b[1mdetection_results340\u001b[0m\n",
            "/root/.cache/torch/hub/ultralytics_yolov5_master/models/common.py:892: FutureWarning: `torch.cuda.amp.autocast(args...)` is deprecated. Please use `torch.amp.autocast('cuda', args...)` instead.\n",
            "  with amp.autocast(autocast):\n",
            "Saved 1 image to \u001b[1mdetection_results341\u001b[0m\n",
            "/root/.cache/torch/hub/ultralytics_yolov5_master/models/common.py:892: FutureWarning: `torch.cuda.amp.autocast(args...)` is deprecated. Please use `torch.amp.autocast('cuda', args...)` instead.\n",
            "  with amp.autocast(autocast):\n",
            "Saved 1 image to \u001b[1mdetection_results342\u001b[0m\n",
            "/root/.cache/torch/hub/ultralytics_yolov5_master/models/common.py:892: FutureWarning: `torch.cuda.amp.autocast(args...)` is deprecated. Please use `torch.amp.autocast('cuda', args...)` instead.\n",
            "  with amp.autocast(autocast):\n",
            "Saved 1 image to \u001b[1mdetection_results343\u001b[0m\n",
            "/root/.cache/torch/hub/ultralytics_yolov5_master/models/common.py:892: FutureWarning: `torch.cuda.amp.autocast(args...)` is deprecated. Please use `torch.amp.autocast('cuda', args...)` instead.\n",
            "  with amp.autocast(autocast):\n",
            "Saved 1 image to \u001b[1mdetection_results344\u001b[0m\n",
            "/root/.cache/torch/hub/ultralytics_yolov5_master/models/common.py:892: FutureWarning: `torch.cuda.amp.autocast(args...)` is deprecated. Please use `torch.amp.autocast('cuda', args...)` instead.\n",
            "  with amp.autocast(autocast):\n",
            "Saved 1 image to \u001b[1mdetection_results345\u001b[0m\n",
            "/root/.cache/torch/hub/ultralytics_yolov5_master/models/common.py:892: FutureWarning: `torch.cuda.amp.autocast(args...)` is deprecated. Please use `torch.amp.autocast('cuda', args...)` instead.\n",
            "  with amp.autocast(autocast):\n",
            "Saved 1 image to \u001b[1mdetection_results346\u001b[0m\n",
            "/root/.cache/torch/hub/ultralytics_yolov5_master/models/common.py:892: FutureWarning: `torch.cuda.amp.autocast(args...)` is deprecated. Please use `torch.amp.autocast('cuda', args...)` instead.\n",
            "  with amp.autocast(autocast):\n",
            "Saved 1 image to \u001b[1mdetection_results347\u001b[0m\n",
            "/root/.cache/torch/hub/ultralytics_yolov5_master/models/common.py:892: FutureWarning: `torch.cuda.amp.autocast(args...)` is deprecated. Please use `torch.amp.autocast('cuda', args...)` instead.\n",
            "  with amp.autocast(autocast):\n",
            "Saved 1 image to \u001b[1mdetection_results348\u001b[0m\n",
            "/root/.cache/torch/hub/ultralytics_yolov5_master/models/common.py:892: FutureWarning: `torch.cuda.amp.autocast(args...)` is deprecated. Please use `torch.amp.autocast('cuda', args...)` instead.\n",
            "  with amp.autocast(autocast):\n",
            "Saved 1 image to \u001b[1mdetection_results349\u001b[0m\n",
            "/root/.cache/torch/hub/ultralytics_yolov5_master/models/common.py:892: FutureWarning: `torch.cuda.amp.autocast(args...)` is deprecated. Please use `torch.amp.autocast('cuda', args...)` instead.\n",
            "  with amp.autocast(autocast):\n",
            "Saved 1 image to \u001b[1mdetection_results350\u001b[0m\n",
            "/root/.cache/torch/hub/ultralytics_yolov5_master/models/common.py:892: FutureWarning: `torch.cuda.amp.autocast(args...)` is deprecated. Please use `torch.amp.autocast('cuda', args...)` instead.\n",
            "  with amp.autocast(autocast):\n",
            "Saved 1 image to \u001b[1mdetection_results351\u001b[0m\n",
            "/root/.cache/torch/hub/ultralytics_yolov5_master/models/common.py:892: FutureWarning: `torch.cuda.amp.autocast(args...)` is deprecated. Please use `torch.amp.autocast('cuda', args...)` instead.\n",
            "  with amp.autocast(autocast):\n",
            "Saved 1 image to \u001b[1mdetection_results352\u001b[0m\n",
            "/root/.cache/torch/hub/ultralytics_yolov5_master/models/common.py:892: FutureWarning: `torch.cuda.amp.autocast(args...)` is deprecated. Please use `torch.amp.autocast('cuda', args...)` instead.\n",
            "  with amp.autocast(autocast):\n",
            "Saved 1 image to \u001b[1mdetection_results353\u001b[0m\n",
            "/root/.cache/torch/hub/ultralytics_yolov5_master/models/common.py:892: FutureWarning: `torch.cuda.amp.autocast(args...)` is deprecated. Please use `torch.amp.autocast('cuda', args...)` instead.\n",
            "  with amp.autocast(autocast):\n",
            "Saved 1 image to \u001b[1mdetection_results354\u001b[0m\n",
            "/root/.cache/torch/hub/ultralytics_yolov5_master/models/common.py:892: FutureWarning: `torch.cuda.amp.autocast(args...)` is deprecated. Please use `torch.amp.autocast('cuda', args...)` instead.\n",
            "  with amp.autocast(autocast):\n",
            "Saved 1 image to \u001b[1mdetection_results355\u001b[0m\n",
            "/root/.cache/torch/hub/ultralytics_yolov5_master/models/common.py:892: FutureWarning: `torch.cuda.amp.autocast(args...)` is deprecated. Please use `torch.amp.autocast('cuda', args...)` instead.\n",
            "  with amp.autocast(autocast):\n",
            "Saved 1 image to \u001b[1mdetection_results356\u001b[0m\n",
            "/root/.cache/torch/hub/ultralytics_yolov5_master/models/common.py:892: FutureWarning: `torch.cuda.amp.autocast(args...)` is deprecated. Please use `torch.amp.autocast('cuda', args...)` instead.\n",
            "  with amp.autocast(autocast):\n",
            "Saved 1 image to \u001b[1mdetection_results357\u001b[0m\n",
            "/root/.cache/torch/hub/ultralytics_yolov5_master/models/common.py:892: FutureWarning: `torch.cuda.amp.autocast(args...)` is deprecated. Please use `torch.amp.autocast('cuda', args...)` instead.\n",
            "  with amp.autocast(autocast):\n",
            "Saved 1 image to \u001b[1mdetection_results358\u001b[0m\n",
            "/root/.cache/torch/hub/ultralytics_yolov5_master/models/common.py:892: FutureWarning: `torch.cuda.amp.autocast(args...)` is deprecated. Please use `torch.amp.autocast('cuda', args...)` instead.\n",
            "  with amp.autocast(autocast):\n",
            "Saved 1 image to \u001b[1mdetection_results359\u001b[0m\n",
            "/root/.cache/torch/hub/ultralytics_yolov5_master/models/common.py:892: FutureWarning: `torch.cuda.amp.autocast(args...)` is deprecated. Please use `torch.amp.autocast('cuda', args...)` instead.\n",
            "  with amp.autocast(autocast):\n",
            "Saved 1 image to \u001b[1mdetection_results360\u001b[0m\n",
            "/root/.cache/torch/hub/ultralytics_yolov5_master/models/common.py:892: FutureWarning: `torch.cuda.amp.autocast(args...)` is deprecated. Please use `torch.amp.autocast('cuda', args...)` instead.\n",
            "  with amp.autocast(autocast):\n",
            "Saved 1 image to \u001b[1mdetection_results361\u001b[0m\n",
            "/root/.cache/torch/hub/ultralytics_yolov5_master/models/common.py:892: FutureWarning: `torch.cuda.amp.autocast(args...)` is deprecated. Please use `torch.amp.autocast('cuda', args...)` instead.\n",
            "  with amp.autocast(autocast):\n",
            "Saved 1 image to \u001b[1mdetection_results362\u001b[0m\n",
            "/root/.cache/torch/hub/ultralytics_yolov5_master/models/common.py:892: FutureWarning: `torch.cuda.amp.autocast(args...)` is deprecated. Please use `torch.amp.autocast('cuda', args...)` instead.\n",
            "  with amp.autocast(autocast):\n",
            "Saved 1 image to \u001b[1mdetection_results363\u001b[0m\n",
            "/root/.cache/torch/hub/ultralytics_yolov5_master/models/common.py:892: FutureWarning: `torch.cuda.amp.autocast(args...)` is deprecated. Please use `torch.amp.autocast('cuda', args...)` instead.\n",
            "  with amp.autocast(autocast):\n",
            "Saved 1 image to \u001b[1mdetection_results364\u001b[0m\n",
            "/root/.cache/torch/hub/ultralytics_yolov5_master/models/common.py:892: FutureWarning: `torch.cuda.amp.autocast(args...)` is deprecated. Please use `torch.amp.autocast('cuda', args...)` instead.\n",
            "  with amp.autocast(autocast):\n",
            "Saved 1 image to \u001b[1mdetection_results365\u001b[0m\n",
            "/root/.cache/torch/hub/ultralytics_yolov5_master/models/common.py:892: FutureWarning: `torch.cuda.amp.autocast(args...)` is deprecated. Please use `torch.amp.autocast('cuda', args...)` instead.\n",
            "  with amp.autocast(autocast):\n",
            "Saved 1 image to \u001b[1mdetection_results366\u001b[0m\n",
            "/root/.cache/torch/hub/ultralytics_yolov5_master/models/common.py:892: FutureWarning: `torch.cuda.amp.autocast(args...)` is deprecated. Please use `torch.amp.autocast('cuda', args...)` instead.\n",
            "  with amp.autocast(autocast):\n",
            "Saved 1 image to \u001b[1mdetection_results367\u001b[0m\n",
            "/root/.cache/torch/hub/ultralytics_yolov5_master/models/common.py:892: FutureWarning: `torch.cuda.amp.autocast(args...)` is deprecated. Please use `torch.amp.autocast('cuda', args...)` instead.\n",
            "  with amp.autocast(autocast):\n",
            "Saved 1 image to \u001b[1mdetection_results368\u001b[0m\n",
            "/root/.cache/torch/hub/ultralytics_yolov5_master/models/common.py:892: FutureWarning: `torch.cuda.amp.autocast(args...)` is deprecated. Please use `torch.amp.autocast('cuda', args...)` instead.\n",
            "  with amp.autocast(autocast):\n",
            "Saved 1 image to \u001b[1mdetection_results369\u001b[0m\n",
            "/root/.cache/torch/hub/ultralytics_yolov5_master/models/common.py:892: FutureWarning: `torch.cuda.amp.autocast(args...)` is deprecated. Please use `torch.amp.autocast('cuda', args...)` instead.\n",
            "  with amp.autocast(autocast):\n",
            "Saved 1 image to \u001b[1mdetection_results370\u001b[0m\n",
            "/root/.cache/torch/hub/ultralytics_yolov5_master/models/common.py:892: FutureWarning: `torch.cuda.amp.autocast(args...)` is deprecated. Please use `torch.amp.autocast('cuda', args...)` instead.\n",
            "  with amp.autocast(autocast):\n",
            "Saved 1 image to \u001b[1mdetection_results371\u001b[0m\n",
            "/root/.cache/torch/hub/ultralytics_yolov5_master/models/common.py:892: FutureWarning: `torch.cuda.amp.autocast(args...)` is deprecated. Please use `torch.amp.autocast('cuda', args...)` instead.\n",
            "  with amp.autocast(autocast):\n",
            "Saved 1 image to \u001b[1mdetection_results372\u001b[0m\n",
            "/root/.cache/torch/hub/ultralytics_yolov5_master/models/common.py:892: FutureWarning: `torch.cuda.amp.autocast(args...)` is deprecated. Please use `torch.amp.autocast('cuda', args...)` instead.\n",
            "  with amp.autocast(autocast):\n",
            "Saved 1 image to \u001b[1mdetection_results373\u001b[0m\n",
            "/root/.cache/torch/hub/ultralytics_yolov5_master/models/common.py:892: FutureWarning: `torch.cuda.amp.autocast(args...)` is deprecated. Please use `torch.amp.autocast('cuda', args...)` instead.\n",
            "  with amp.autocast(autocast):\n",
            "Saved 1 image to \u001b[1mdetection_results374\u001b[0m\n",
            "/root/.cache/torch/hub/ultralytics_yolov5_master/models/common.py:892: FutureWarning: `torch.cuda.amp.autocast(args...)` is deprecated. Please use `torch.amp.autocast('cuda', args...)` instead.\n",
            "  with amp.autocast(autocast):\n",
            "Saved 1 image to \u001b[1mdetection_results375\u001b[0m\n",
            "/root/.cache/torch/hub/ultralytics_yolov5_master/models/common.py:892: FutureWarning: `torch.cuda.amp.autocast(args...)` is deprecated. Please use `torch.amp.autocast('cuda', args...)` instead.\n",
            "  with amp.autocast(autocast):\n",
            "Saved 1 image to \u001b[1mdetection_results376\u001b[0m\n",
            "/root/.cache/torch/hub/ultralytics_yolov5_master/models/common.py:892: FutureWarning: `torch.cuda.amp.autocast(args...)` is deprecated. Please use `torch.amp.autocast('cuda', args...)` instead.\n",
            "  with amp.autocast(autocast):\n",
            "Saved 1 image to \u001b[1mdetection_results377\u001b[0m\n",
            "/root/.cache/torch/hub/ultralytics_yolov5_master/models/common.py:892: FutureWarning: `torch.cuda.amp.autocast(args...)` is deprecated. Please use `torch.amp.autocast('cuda', args...)` instead.\n",
            "  with amp.autocast(autocast):\n",
            "Saved 1 image to \u001b[1mdetection_results378\u001b[0m\n",
            "/root/.cache/torch/hub/ultralytics_yolov5_master/models/common.py:892: FutureWarning: `torch.cuda.amp.autocast(args...)` is deprecated. Please use `torch.amp.autocast('cuda', args...)` instead.\n",
            "  with amp.autocast(autocast):\n",
            "Saved 1 image to \u001b[1mdetection_results379\u001b[0m\n",
            "/root/.cache/torch/hub/ultralytics_yolov5_master/models/common.py:892: FutureWarning: `torch.cuda.amp.autocast(args...)` is deprecated. Please use `torch.amp.autocast('cuda', args...)` instead.\n",
            "  with amp.autocast(autocast):\n",
            "Saved 1 image to \u001b[1mdetection_results380\u001b[0m\n",
            "/root/.cache/torch/hub/ultralytics_yolov5_master/models/common.py:892: FutureWarning: `torch.cuda.amp.autocast(args...)` is deprecated. Please use `torch.amp.autocast('cuda', args...)` instead.\n",
            "  with amp.autocast(autocast):\n",
            "Saved 1 image to \u001b[1mdetection_results381\u001b[0m\n",
            "/root/.cache/torch/hub/ultralytics_yolov5_master/models/common.py:892: FutureWarning: `torch.cuda.amp.autocast(args...)` is deprecated. Please use `torch.amp.autocast('cuda', args...)` instead.\n",
            "  with amp.autocast(autocast):\n",
            "Saved 1 image to \u001b[1mdetection_results382\u001b[0m\n",
            "/root/.cache/torch/hub/ultralytics_yolov5_master/models/common.py:892: FutureWarning: `torch.cuda.amp.autocast(args...)` is deprecated. Please use `torch.amp.autocast('cuda', args...)` instead.\n",
            "  with amp.autocast(autocast):\n",
            "Saved 1 image to \u001b[1mdetection_results383\u001b[0m\n",
            "/root/.cache/torch/hub/ultralytics_yolov5_master/models/common.py:892: FutureWarning: `torch.cuda.amp.autocast(args...)` is deprecated. Please use `torch.amp.autocast('cuda', args...)` instead.\n",
            "  with amp.autocast(autocast):\n",
            "Saved 1 image to \u001b[1mdetection_results384\u001b[0m\n",
            "/root/.cache/torch/hub/ultralytics_yolov5_master/models/common.py:892: FutureWarning: `torch.cuda.amp.autocast(args...)` is deprecated. Please use `torch.amp.autocast('cuda', args...)` instead.\n",
            "  with amp.autocast(autocast):\n",
            "Saved 1 image to \u001b[1mdetection_results385\u001b[0m\n",
            "/root/.cache/torch/hub/ultralytics_yolov5_master/models/common.py:892: FutureWarning: `torch.cuda.amp.autocast(args...)` is deprecated. Please use `torch.amp.autocast('cuda', args...)` instead.\n",
            "  with amp.autocast(autocast):\n",
            "Saved 1 image to \u001b[1mdetection_results386\u001b[0m\n",
            "/root/.cache/torch/hub/ultralytics_yolov5_master/models/common.py:892: FutureWarning: `torch.cuda.amp.autocast(args...)` is deprecated. Please use `torch.amp.autocast('cuda', args...)` instead.\n",
            "  with amp.autocast(autocast):\n",
            "Saved 1 image to \u001b[1mdetection_results387\u001b[0m\n",
            "/root/.cache/torch/hub/ultralytics_yolov5_master/models/common.py:892: FutureWarning: `torch.cuda.amp.autocast(args...)` is deprecated. Please use `torch.amp.autocast('cuda', args...)` instead.\n",
            "  with amp.autocast(autocast):\n",
            "Saved 1 image to \u001b[1mdetection_results388\u001b[0m\n",
            "/root/.cache/torch/hub/ultralytics_yolov5_master/models/common.py:892: FutureWarning: `torch.cuda.amp.autocast(args...)` is deprecated. Please use `torch.amp.autocast('cuda', args...)` instead.\n",
            "  with amp.autocast(autocast):\n",
            "Saved 1 image to \u001b[1mdetection_results389\u001b[0m\n",
            "/root/.cache/torch/hub/ultralytics_yolov5_master/models/common.py:892: FutureWarning: `torch.cuda.amp.autocast(args...)` is deprecated. Please use `torch.amp.autocast('cuda', args...)` instead.\n",
            "  with amp.autocast(autocast):\n",
            "Saved 1 image to \u001b[1mdetection_results390\u001b[0m\n",
            "/root/.cache/torch/hub/ultralytics_yolov5_master/models/common.py:892: FutureWarning: `torch.cuda.amp.autocast(args...)` is deprecated. Please use `torch.amp.autocast('cuda', args...)` instead.\n",
            "  with amp.autocast(autocast):\n",
            "Saved 1 image to \u001b[1mdetection_results391\u001b[0m\n",
            "/root/.cache/torch/hub/ultralytics_yolov5_master/models/common.py:892: FutureWarning: `torch.cuda.amp.autocast(args...)` is deprecated. Please use `torch.amp.autocast('cuda', args...)` instead.\n",
            "  with amp.autocast(autocast):\n",
            "Saved 1 image to \u001b[1mdetection_results392\u001b[0m\n",
            "/root/.cache/torch/hub/ultralytics_yolov5_master/models/common.py:892: FutureWarning: `torch.cuda.amp.autocast(args...)` is deprecated. Please use `torch.amp.autocast('cuda', args...)` instead.\n",
            "  with amp.autocast(autocast):\n",
            "Saved 1 image to \u001b[1mdetection_results393\u001b[0m\n",
            "/root/.cache/torch/hub/ultralytics_yolov5_master/models/common.py:892: FutureWarning: `torch.cuda.amp.autocast(args...)` is deprecated. Please use `torch.amp.autocast('cuda', args...)` instead.\n",
            "  with amp.autocast(autocast):\n",
            "Saved 1 image to \u001b[1mdetection_results394\u001b[0m\n",
            "/root/.cache/torch/hub/ultralytics_yolov5_master/models/common.py:892: FutureWarning: `torch.cuda.amp.autocast(args...)` is deprecated. Please use `torch.amp.autocast('cuda', args...)` instead.\n",
            "  with amp.autocast(autocast):\n",
            "Saved 1 image to \u001b[1mdetection_results395\u001b[0m\n",
            "/root/.cache/torch/hub/ultralytics_yolov5_master/models/common.py:892: FutureWarning: `torch.cuda.amp.autocast(args...)` is deprecated. Please use `torch.amp.autocast('cuda', args...)` instead.\n",
            "  with amp.autocast(autocast):\n",
            "Saved 1 image to \u001b[1mdetection_results396\u001b[0m\n",
            "/root/.cache/torch/hub/ultralytics_yolov5_master/models/common.py:892: FutureWarning: `torch.cuda.amp.autocast(args...)` is deprecated. Please use `torch.amp.autocast('cuda', args...)` instead.\n",
            "  with amp.autocast(autocast):\n",
            "Saved 1 image to \u001b[1mdetection_results397\u001b[0m\n",
            "/root/.cache/torch/hub/ultralytics_yolov5_master/models/common.py:892: FutureWarning: `torch.cuda.amp.autocast(args...)` is deprecated. Please use `torch.amp.autocast('cuda', args...)` instead.\n",
            "  with amp.autocast(autocast):\n",
            "Saved 1 image to \u001b[1mdetection_results398\u001b[0m\n",
            "/root/.cache/torch/hub/ultralytics_yolov5_master/models/common.py:892: FutureWarning: `torch.cuda.amp.autocast(args...)` is deprecated. Please use `torch.amp.autocast('cuda', args...)` instead.\n",
            "  with amp.autocast(autocast):\n",
            "Saved 1 image to \u001b[1mdetection_results399\u001b[0m\n",
            "/root/.cache/torch/hub/ultralytics_yolov5_master/models/common.py:892: FutureWarning: `torch.cuda.amp.autocast(args...)` is deprecated. Please use `torch.amp.autocast('cuda', args...)` instead.\n",
            "  with amp.autocast(autocast):\n",
            "Saved 1 image to \u001b[1mdetection_results400\u001b[0m\n",
            "/root/.cache/torch/hub/ultralytics_yolov5_master/models/common.py:892: FutureWarning: `torch.cuda.amp.autocast(args...)` is deprecated. Please use `torch.amp.autocast('cuda', args...)` instead.\n",
            "  with amp.autocast(autocast):\n",
            "Saved 1 image to \u001b[1mdetection_results401\u001b[0m\n",
            "/root/.cache/torch/hub/ultralytics_yolov5_master/models/common.py:892: FutureWarning: `torch.cuda.amp.autocast(args...)` is deprecated. Please use `torch.amp.autocast('cuda', args...)` instead.\n",
            "  with amp.autocast(autocast):\n",
            "Saved 1 image to \u001b[1mdetection_results402\u001b[0m\n",
            "/root/.cache/torch/hub/ultralytics_yolov5_master/models/common.py:892: FutureWarning: `torch.cuda.amp.autocast(args...)` is deprecated. Please use `torch.amp.autocast('cuda', args...)` instead.\n",
            "  with amp.autocast(autocast):\n",
            "Saved 1 image to \u001b[1mdetection_results403\u001b[0m\n",
            "/root/.cache/torch/hub/ultralytics_yolov5_master/models/common.py:892: FutureWarning: `torch.cuda.amp.autocast(args...)` is deprecated. Please use `torch.amp.autocast('cuda', args...)` instead.\n",
            "  with amp.autocast(autocast):\n",
            "Saved 1 image to \u001b[1mdetection_results404\u001b[0m\n",
            "/root/.cache/torch/hub/ultralytics_yolov5_master/models/common.py:892: FutureWarning: `torch.cuda.amp.autocast(args...)` is deprecated. Please use `torch.amp.autocast('cuda', args...)` instead.\n",
            "  with amp.autocast(autocast):\n",
            "Saved 1 image to \u001b[1mdetection_results405\u001b[0m\n",
            "/root/.cache/torch/hub/ultralytics_yolov5_master/models/common.py:892: FutureWarning: `torch.cuda.amp.autocast(args...)` is deprecated. Please use `torch.amp.autocast('cuda', args...)` instead.\n",
            "  with amp.autocast(autocast):\n",
            "Saved 1 image to \u001b[1mdetection_results406\u001b[0m\n",
            "/root/.cache/torch/hub/ultralytics_yolov5_master/models/common.py:892: FutureWarning: `torch.cuda.amp.autocast(args...)` is deprecated. Please use `torch.amp.autocast('cuda', args...)` instead.\n",
            "  with amp.autocast(autocast):\n",
            "Saved 1 image to \u001b[1mdetection_results407\u001b[0m\n",
            "/root/.cache/torch/hub/ultralytics_yolov5_master/models/common.py:892: FutureWarning: `torch.cuda.amp.autocast(args...)` is deprecated. Please use `torch.amp.autocast('cuda', args...)` instead.\n",
            "  with amp.autocast(autocast):\n",
            "Saved 1 image to \u001b[1mdetection_results408\u001b[0m\n",
            "/root/.cache/torch/hub/ultralytics_yolov5_master/models/common.py:892: FutureWarning: `torch.cuda.amp.autocast(args...)` is deprecated. Please use `torch.amp.autocast('cuda', args...)` instead.\n",
            "  with amp.autocast(autocast):\n",
            "Saved 1 image to \u001b[1mdetection_results409\u001b[0m\n",
            "/root/.cache/torch/hub/ultralytics_yolov5_master/models/common.py:892: FutureWarning: `torch.cuda.amp.autocast(args...)` is deprecated. Please use `torch.amp.autocast('cuda', args...)` instead.\n",
            "  with amp.autocast(autocast):\n",
            "Saved 1 image to \u001b[1mdetection_results410\u001b[0m\n",
            "/root/.cache/torch/hub/ultralytics_yolov5_master/models/common.py:892: FutureWarning: `torch.cuda.amp.autocast(args...)` is deprecated. Please use `torch.amp.autocast('cuda', args...)` instead.\n",
            "  with amp.autocast(autocast):\n",
            "Saved 1 image to \u001b[1mdetection_results411\u001b[0m\n",
            "/root/.cache/torch/hub/ultralytics_yolov5_master/models/common.py:892: FutureWarning: `torch.cuda.amp.autocast(args...)` is deprecated. Please use `torch.amp.autocast('cuda', args...)` instead.\n",
            "  with amp.autocast(autocast):\n",
            "Saved 1 image to \u001b[1mdetection_results412\u001b[0m\n",
            "/root/.cache/torch/hub/ultralytics_yolov5_master/models/common.py:892: FutureWarning: `torch.cuda.amp.autocast(args...)` is deprecated. Please use `torch.amp.autocast('cuda', args...)` instead.\n",
            "  with amp.autocast(autocast):\n",
            "Saved 1 image to \u001b[1mdetection_results413\u001b[0m\n",
            "/root/.cache/torch/hub/ultralytics_yolov5_master/models/common.py:892: FutureWarning: `torch.cuda.amp.autocast(args...)` is deprecated. Please use `torch.amp.autocast('cuda', args...)` instead.\n",
            "  with amp.autocast(autocast):\n",
            "Saved 1 image to \u001b[1mdetection_results414\u001b[0m\n",
            "/root/.cache/torch/hub/ultralytics_yolov5_master/models/common.py:892: FutureWarning: `torch.cuda.amp.autocast(args...)` is deprecated. Please use `torch.amp.autocast('cuda', args...)` instead.\n",
            "  with amp.autocast(autocast):\n",
            "Saved 1 image to \u001b[1mdetection_results415\u001b[0m\n",
            "/root/.cache/torch/hub/ultralytics_yolov5_master/models/common.py:892: FutureWarning: `torch.cuda.amp.autocast(args...)` is deprecated. Please use `torch.amp.autocast('cuda', args...)` instead.\n",
            "  with amp.autocast(autocast):\n",
            "Saved 1 image to \u001b[1mdetection_results416\u001b[0m\n",
            "/root/.cache/torch/hub/ultralytics_yolov5_master/models/common.py:892: FutureWarning: `torch.cuda.amp.autocast(args...)` is deprecated. Please use `torch.amp.autocast('cuda', args...)` instead.\n",
            "  with amp.autocast(autocast):\n",
            "Saved 1 image to \u001b[1mdetection_results417\u001b[0m\n",
            "/root/.cache/torch/hub/ultralytics_yolov5_master/models/common.py:892: FutureWarning: `torch.cuda.amp.autocast(args...)` is deprecated. Please use `torch.amp.autocast('cuda', args...)` instead.\n",
            "  with amp.autocast(autocast):\n",
            "Saved 1 image to \u001b[1mdetection_results418\u001b[0m\n",
            "/root/.cache/torch/hub/ultralytics_yolov5_master/models/common.py:892: FutureWarning: `torch.cuda.amp.autocast(args...)` is deprecated. Please use `torch.amp.autocast('cuda', args...)` instead.\n",
            "  with amp.autocast(autocast):\n",
            "Saved 1 image to \u001b[1mdetection_results419\u001b[0m\n",
            "/root/.cache/torch/hub/ultralytics_yolov5_master/models/common.py:892: FutureWarning: `torch.cuda.amp.autocast(args...)` is deprecated. Please use `torch.amp.autocast('cuda', args...)` instead.\n",
            "  with amp.autocast(autocast):\n",
            "Saved 1 image to \u001b[1mdetection_results420\u001b[0m\n",
            "/root/.cache/torch/hub/ultralytics_yolov5_master/models/common.py:892: FutureWarning: `torch.cuda.amp.autocast(args...)` is deprecated. Please use `torch.amp.autocast('cuda', args...)` instead.\n",
            "  with amp.autocast(autocast):\n",
            "Saved 1 image to \u001b[1mdetection_results421\u001b[0m\n",
            "/root/.cache/torch/hub/ultralytics_yolov5_master/models/common.py:892: FutureWarning: `torch.cuda.amp.autocast(args...)` is deprecated. Please use `torch.amp.autocast('cuda', args...)` instead.\n",
            "  with amp.autocast(autocast):\n",
            "Saved 1 image to \u001b[1mdetection_results422\u001b[0m\n",
            "/root/.cache/torch/hub/ultralytics_yolov5_master/models/common.py:892: FutureWarning: `torch.cuda.amp.autocast(args...)` is deprecated. Please use `torch.amp.autocast('cuda', args...)` instead.\n",
            "  with amp.autocast(autocast):\n",
            "Saved 1 image to \u001b[1mdetection_results423\u001b[0m\n",
            "/root/.cache/torch/hub/ultralytics_yolov5_master/models/common.py:892: FutureWarning: `torch.cuda.amp.autocast(args...)` is deprecated. Please use `torch.amp.autocast('cuda', args...)` instead.\n",
            "  with amp.autocast(autocast):\n",
            "Saved 1 image to \u001b[1mdetection_results424\u001b[0m\n",
            "/root/.cache/torch/hub/ultralytics_yolov5_master/models/common.py:892: FutureWarning: `torch.cuda.amp.autocast(args...)` is deprecated. Please use `torch.amp.autocast('cuda', args...)` instead.\n",
            "  with amp.autocast(autocast):\n",
            "Saved 1 image to \u001b[1mdetection_results425\u001b[0m\n",
            "/root/.cache/torch/hub/ultralytics_yolov5_master/models/common.py:892: FutureWarning: `torch.cuda.amp.autocast(args...)` is deprecated. Please use `torch.amp.autocast('cuda', args...)` instead.\n",
            "  with amp.autocast(autocast):\n",
            "Saved 1 image to \u001b[1mdetection_results426\u001b[0m\n",
            "/root/.cache/torch/hub/ultralytics_yolov5_master/models/common.py:892: FutureWarning: `torch.cuda.amp.autocast(args...)` is deprecated. Please use `torch.amp.autocast('cuda', args...)` instead.\n",
            "  with amp.autocast(autocast):\n",
            "Saved 1 image to \u001b[1mdetection_results427\u001b[0m\n",
            "/root/.cache/torch/hub/ultralytics_yolov5_master/models/common.py:892: FutureWarning: `torch.cuda.amp.autocast(args...)` is deprecated. Please use `torch.amp.autocast('cuda', args...)` instead.\n",
            "  with amp.autocast(autocast):\n",
            "Saved 1 image to \u001b[1mdetection_results428\u001b[0m\n",
            "/root/.cache/torch/hub/ultralytics_yolov5_master/models/common.py:892: FutureWarning: `torch.cuda.amp.autocast(args...)` is deprecated. Please use `torch.amp.autocast('cuda', args...)` instead.\n",
            "  with amp.autocast(autocast):\n",
            "Saved 1 image to \u001b[1mdetection_results429\u001b[0m\n",
            "/root/.cache/torch/hub/ultralytics_yolov5_master/models/common.py:892: FutureWarning: `torch.cuda.amp.autocast(args...)` is deprecated. Please use `torch.amp.autocast('cuda', args...)` instead.\n",
            "  with amp.autocast(autocast):\n",
            "Saved 1 image to \u001b[1mdetection_results430\u001b[0m\n",
            "/root/.cache/torch/hub/ultralytics_yolov5_master/models/common.py:892: FutureWarning: `torch.cuda.amp.autocast(args...)` is deprecated. Please use `torch.amp.autocast('cuda', args...)` instead.\n",
            "  with amp.autocast(autocast):\n",
            "Saved 1 image to \u001b[1mdetection_results431\u001b[0m\n",
            "/root/.cache/torch/hub/ultralytics_yolov5_master/models/common.py:892: FutureWarning: `torch.cuda.amp.autocast(args...)` is deprecated. Please use `torch.amp.autocast('cuda', args...)` instead.\n",
            "  with amp.autocast(autocast):\n",
            "Saved 1 image to \u001b[1mdetection_results432\u001b[0m\n",
            "/root/.cache/torch/hub/ultralytics_yolov5_master/models/common.py:892: FutureWarning: `torch.cuda.amp.autocast(args...)` is deprecated. Please use `torch.amp.autocast('cuda', args...)` instead.\n",
            "  with amp.autocast(autocast):\n",
            "Saved 1 image to \u001b[1mdetection_results433\u001b[0m\n",
            "/root/.cache/torch/hub/ultralytics_yolov5_master/models/common.py:892: FutureWarning: `torch.cuda.amp.autocast(args...)` is deprecated. Please use `torch.amp.autocast('cuda', args...)` instead.\n",
            "  with amp.autocast(autocast):\n",
            "Saved 1 image to \u001b[1mdetection_results434\u001b[0m\n",
            "/root/.cache/torch/hub/ultralytics_yolov5_master/models/common.py:892: FutureWarning: `torch.cuda.amp.autocast(args...)` is deprecated. Please use `torch.amp.autocast('cuda', args...)` instead.\n",
            "  with amp.autocast(autocast):\n",
            "Saved 1 image to \u001b[1mdetection_results435\u001b[0m\n",
            "/root/.cache/torch/hub/ultralytics_yolov5_master/models/common.py:892: FutureWarning: `torch.cuda.amp.autocast(args...)` is deprecated. Please use `torch.amp.autocast('cuda', args...)` instead.\n",
            "  with amp.autocast(autocast):\n",
            "Saved 1 image to \u001b[1mdetection_results436\u001b[0m\n",
            "/root/.cache/torch/hub/ultralytics_yolov5_master/models/common.py:892: FutureWarning: `torch.cuda.amp.autocast(args...)` is deprecated. Please use `torch.amp.autocast('cuda', args...)` instead.\n",
            "  with amp.autocast(autocast):\n",
            "Saved 1 image to \u001b[1mdetection_results437\u001b[0m\n",
            "/root/.cache/torch/hub/ultralytics_yolov5_master/models/common.py:892: FutureWarning: `torch.cuda.amp.autocast(args...)` is deprecated. Please use `torch.amp.autocast('cuda', args...)` instead.\n",
            "  with amp.autocast(autocast):\n",
            "Saved 1 image to \u001b[1mdetection_results438\u001b[0m\n",
            "/root/.cache/torch/hub/ultralytics_yolov5_master/models/common.py:892: FutureWarning: `torch.cuda.amp.autocast(args...)` is deprecated. Please use `torch.amp.autocast('cuda', args...)` instead.\n",
            "  with amp.autocast(autocast):\n",
            "Saved 1 image to \u001b[1mdetection_results439\u001b[0m\n",
            "/root/.cache/torch/hub/ultralytics_yolov5_master/models/common.py:892: FutureWarning: `torch.cuda.amp.autocast(args...)` is deprecated. Please use `torch.amp.autocast('cuda', args...)` instead.\n",
            "  with amp.autocast(autocast):\n",
            "Saved 1 image to \u001b[1mdetection_results440\u001b[0m\n",
            "/root/.cache/torch/hub/ultralytics_yolov5_master/models/common.py:892: FutureWarning: `torch.cuda.amp.autocast(args...)` is deprecated. Please use `torch.amp.autocast('cuda', args...)` instead.\n",
            "  with amp.autocast(autocast):\n",
            "Saved 1 image to \u001b[1mdetection_results441\u001b[0m\n",
            "/root/.cache/torch/hub/ultralytics_yolov5_master/models/common.py:892: FutureWarning: `torch.cuda.amp.autocast(args...)` is deprecated. Please use `torch.amp.autocast('cuda', args...)` instead.\n",
            "  with amp.autocast(autocast):\n",
            "Saved 1 image to \u001b[1mdetection_results442\u001b[0m\n",
            "/root/.cache/torch/hub/ultralytics_yolov5_master/models/common.py:892: FutureWarning: `torch.cuda.amp.autocast(args...)` is deprecated. Please use `torch.amp.autocast('cuda', args...)` instead.\n",
            "  with amp.autocast(autocast):\n",
            "Saved 1 image to \u001b[1mdetection_results443\u001b[0m\n",
            "/root/.cache/torch/hub/ultralytics_yolov5_master/models/common.py:892: FutureWarning: `torch.cuda.amp.autocast(args...)` is deprecated. Please use `torch.amp.autocast('cuda', args...)` instead.\n",
            "  with amp.autocast(autocast):\n",
            "Saved 1 image to \u001b[1mdetection_results444\u001b[0m\n",
            "/root/.cache/torch/hub/ultralytics_yolov5_master/models/common.py:892: FutureWarning: `torch.cuda.amp.autocast(args...)` is deprecated. Please use `torch.amp.autocast('cuda', args...)` instead.\n",
            "  with amp.autocast(autocast):\n",
            "Saved 1 image to \u001b[1mdetection_results445\u001b[0m\n",
            "/root/.cache/torch/hub/ultralytics_yolov5_master/models/common.py:892: FutureWarning: `torch.cuda.amp.autocast(args...)` is deprecated. Please use `torch.amp.autocast('cuda', args...)` instead.\n",
            "  with amp.autocast(autocast):\n",
            "Saved 1 image to \u001b[1mdetection_results446\u001b[0m\n",
            "/root/.cache/torch/hub/ultralytics_yolov5_master/models/common.py:892: FutureWarning: `torch.cuda.amp.autocast(args...)` is deprecated. Please use `torch.amp.autocast('cuda', args...)` instead.\n",
            "  with amp.autocast(autocast):\n",
            "Saved 1 image to \u001b[1mdetection_results447\u001b[0m\n",
            "/root/.cache/torch/hub/ultralytics_yolov5_master/models/common.py:892: FutureWarning: `torch.cuda.amp.autocast(args...)` is deprecated. Please use `torch.amp.autocast('cuda', args...)` instead.\n",
            "  with amp.autocast(autocast):\n",
            "Saved 1 image to \u001b[1mdetection_results448\u001b[0m\n",
            "/root/.cache/torch/hub/ultralytics_yolov5_master/models/common.py:892: FutureWarning: `torch.cuda.amp.autocast(args...)` is deprecated. Please use `torch.amp.autocast('cuda', args...)` instead.\n",
            "  with amp.autocast(autocast):\n",
            "Saved 1 image to \u001b[1mdetection_results449\u001b[0m\n",
            "/root/.cache/torch/hub/ultralytics_yolov5_master/models/common.py:892: FutureWarning: `torch.cuda.amp.autocast(args...)` is deprecated. Please use `torch.amp.autocast('cuda', args...)` instead.\n",
            "  with amp.autocast(autocast):\n",
            "Saved 1 image to \u001b[1mdetection_results450\u001b[0m\n",
            "/root/.cache/torch/hub/ultralytics_yolov5_master/models/common.py:892: FutureWarning: `torch.cuda.amp.autocast(args...)` is deprecated. Please use `torch.amp.autocast('cuda', args...)` instead.\n",
            "  with amp.autocast(autocast):\n",
            "Saved 1 image to \u001b[1mdetection_results451\u001b[0m\n",
            "/root/.cache/torch/hub/ultralytics_yolov5_master/models/common.py:892: FutureWarning: `torch.cuda.amp.autocast(args...)` is deprecated. Please use `torch.amp.autocast('cuda', args...)` instead.\n",
            "  with amp.autocast(autocast):\n",
            "Saved 1 image to \u001b[1mdetection_results452\u001b[0m\n",
            "/root/.cache/torch/hub/ultralytics_yolov5_master/models/common.py:892: FutureWarning: `torch.cuda.amp.autocast(args...)` is deprecated. Please use `torch.amp.autocast('cuda', args...)` instead.\n",
            "  with amp.autocast(autocast):\n",
            "Saved 1 image to \u001b[1mdetection_results453\u001b[0m\n",
            "/root/.cache/torch/hub/ultralytics_yolov5_master/models/common.py:892: FutureWarning: `torch.cuda.amp.autocast(args...)` is deprecated. Please use `torch.amp.autocast('cuda', args...)` instead.\n",
            "  with amp.autocast(autocast):\n",
            "Saved 1 image to \u001b[1mdetection_results454\u001b[0m\n",
            "/root/.cache/torch/hub/ultralytics_yolov5_master/models/common.py:892: FutureWarning: `torch.cuda.amp.autocast(args...)` is deprecated. Please use `torch.amp.autocast('cuda', args...)` instead.\n",
            "  with amp.autocast(autocast):\n",
            "Saved 1 image to \u001b[1mdetection_results455\u001b[0m\n",
            "/root/.cache/torch/hub/ultralytics_yolov5_master/models/common.py:892: FutureWarning: `torch.cuda.amp.autocast(args...)` is deprecated. Please use `torch.amp.autocast('cuda', args...)` instead.\n",
            "  with amp.autocast(autocast):\n",
            "Saved 1 image to \u001b[1mdetection_results456\u001b[0m\n",
            "/root/.cache/torch/hub/ultralytics_yolov5_master/models/common.py:892: FutureWarning: `torch.cuda.amp.autocast(args...)` is deprecated. Please use `torch.amp.autocast('cuda', args...)` instead.\n",
            "  with amp.autocast(autocast):\n",
            "Saved 1 image to \u001b[1mdetection_results457\u001b[0m\n",
            "/root/.cache/torch/hub/ultralytics_yolov5_master/models/common.py:892: FutureWarning: `torch.cuda.amp.autocast(args...)` is deprecated. Please use `torch.amp.autocast('cuda', args...)` instead.\n",
            "  with amp.autocast(autocast):\n",
            "Saved 1 image to \u001b[1mdetection_results458\u001b[0m\n",
            "/root/.cache/torch/hub/ultralytics_yolov5_master/models/common.py:892: FutureWarning: `torch.cuda.amp.autocast(args...)` is deprecated. Please use `torch.amp.autocast('cuda', args...)` instead.\n",
            "  with amp.autocast(autocast):\n",
            "Saved 1 image to \u001b[1mdetection_results459\u001b[0m\n",
            "/root/.cache/torch/hub/ultralytics_yolov5_master/models/common.py:892: FutureWarning: `torch.cuda.amp.autocast(args...)` is deprecated. Please use `torch.amp.autocast('cuda', args...)` instead.\n",
            "  with amp.autocast(autocast):\n",
            "Saved 1 image to \u001b[1mdetection_results460\u001b[0m\n",
            "/root/.cache/torch/hub/ultralytics_yolov5_master/models/common.py:892: FutureWarning: `torch.cuda.amp.autocast(args...)` is deprecated. Please use `torch.amp.autocast('cuda', args...)` instead.\n",
            "  with amp.autocast(autocast):\n",
            "Saved 1 image to \u001b[1mdetection_results461\u001b[0m\n",
            "/root/.cache/torch/hub/ultralytics_yolov5_master/models/common.py:892: FutureWarning: `torch.cuda.amp.autocast(args...)` is deprecated. Please use `torch.amp.autocast('cuda', args...)` instead.\n",
            "  with amp.autocast(autocast):\n",
            "Saved 1 image to \u001b[1mdetection_results462\u001b[0m\n",
            "/root/.cache/torch/hub/ultralytics_yolov5_master/models/common.py:892: FutureWarning: `torch.cuda.amp.autocast(args...)` is deprecated. Please use `torch.amp.autocast('cuda', args...)` instead.\n",
            "  with amp.autocast(autocast):\n",
            "Saved 1 image to \u001b[1mdetection_results463\u001b[0m\n",
            "/root/.cache/torch/hub/ultralytics_yolov5_master/models/common.py:892: FutureWarning: `torch.cuda.amp.autocast(args...)` is deprecated. Please use `torch.amp.autocast('cuda', args...)` instead.\n",
            "  with amp.autocast(autocast):\n",
            "Saved 1 image to \u001b[1mdetection_results464\u001b[0m\n",
            "/root/.cache/torch/hub/ultralytics_yolov5_master/models/common.py:892: FutureWarning: `torch.cuda.amp.autocast(args...)` is deprecated. Please use `torch.amp.autocast('cuda', args...)` instead.\n",
            "  with amp.autocast(autocast):\n",
            "Saved 1 image to \u001b[1mdetection_results465\u001b[0m\n",
            "/root/.cache/torch/hub/ultralytics_yolov5_master/models/common.py:892: FutureWarning: `torch.cuda.amp.autocast(args...)` is deprecated. Please use `torch.amp.autocast('cuda', args...)` instead.\n",
            "  with amp.autocast(autocast):\n",
            "Saved 1 image to \u001b[1mdetection_results466\u001b[0m\n",
            "/root/.cache/torch/hub/ultralytics_yolov5_master/models/common.py:892: FutureWarning: `torch.cuda.amp.autocast(args...)` is deprecated. Please use `torch.amp.autocast('cuda', args...)` instead.\n",
            "  with amp.autocast(autocast):\n",
            "Saved 1 image to \u001b[1mdetection_results467\u001b[0m\n",
            "/root/.cache/torch/hub/ultralytics_yolov5_master/models/common.py:892: FutureWarning: `torch.cuda.amp.autocast(args...)` is deprecated. Please use `torch.amp.autocast('cuda', args...)` instead.\n",
            "  with amp.autocast(autocast):\n",
            "Saved 1 image to \u001b[1mdetection_results468\u001b[0m\n",
            "/root/.cache/torch/hub/ultralytics_yolov5_master/models/common.py:892: FutureWarning: `torch.cuda.amp.autocast(args...)` is deprecated. Please use `torch.amp.autocast('cuda', args...)` instead.\n",
            "  with amp.autocast(autocast):\n",
            "Saved 1 image to \u001b[1mdetection_results469\u001b[0m\n",
            "/root/.cache/torch/hub/ultralytics_yolov5_master/models/common.py:892: FutureWarning: `torch.cuda.amp.autocast(args...)` is deprecated. Please use `torch.amp.autocast('cuda', args...)` instead.\n",
            "  with amp.autocast(autocast):\n",
            "Saved 1 image to \u001b[1mdetection_results470\u001b[0m\n",
            "/root/.cache/torch/hub/ultralytics_yolov5_master/models/common.py:892: FutureWarning: `torch.cuda.amp.autocast(args...)` is deprecated. Please use `torch.amp.autocast('cuda', args...)` instead.\n",
            "  with amp.autocast(autocast):\n",
            "Saved 1 image to \u001b[1mdetection_results471\u001b[0m\n",
            "/root/.cache/torch/hub/ultralytics_yolov5_master/models/common.py:892: FutureWarning: `torch.cuda.amp.autocast(args...)` is deprecated. Please use `torch.amp.autocast('cuda', args...)` instead.\n",
            "  with amp.autocast(autocast):\n",
            "Saved 1 image to \u001b[1mdetection_results472\u001b[0m\n",
            "/root/.cache/torch/hub/ultralytics_yolov5_master/models/common.py:892: FutureWarning: `torch.cuda.amp.autocast(args...)` is deprecated. Please use `torch.amp.autocast('cuda', args...)` instead.\n",
            "  with amp.autocast(autocast):\n",
            "Saved 1 image to \u001b[1mdetection_results473\u001b[0m\n",
            "/root/.cache/torch/hub/ultralytics_yolov5_master/models/common.py:892: FutureWarning: `torch.cuda.amp.autocast(args...)` is deprecated. Please use `torch.amp.autocast('cuda', args...)` instead.\n",
            "  with amp.autocast(autocast):\n",
            "Saved 1 image to \u001b[1mdetection_results474\u001b[0m\n",
            "/root/.cache/torch/hub/ultralytics_yolov5_master/models/common.py:892: FutureWarning: `torch.cuda.amp.autocast(args...)` is deprecated. Please use `torch.amp.autocast('cuda', args...)` instead.\n",
            "  with amp.autocast(autocast):\n",
            "Saved 1 image to \u001b[1mdetection_results475\u001b[0m\n",
            "/root/.cache/torch/hub/ultralytics_yolov5_master/models/common.py:892: FutureWarning: `torch.cuda.amp.autocast(args...)` is deprecated. Please use `torch.amp.autocast('cuda', args...)` instead.\n",
            "  with amp.autocast(autocast):\n",
            "Saved 1 image to \u001b[1mdetection_results476\u001b[0m\n",
            "/root/.cache/torch/hub/ultralytics_yolov5_master/models/common.py:892: FutureWarning: `torch.cuda.amp.autocast(args...)` is deprecated. Please use `torch.amp.autocast('cuda', args...)` instead.\n",
            "  with amp.autocast(autocast):\n",
            "Saved 1 image to \u001b[1mdetection_results477\u001b[0m\n",
            "/root/.cache/torch/hub/ultralytics_yolov5_master/models/common.py:892: FutureWarning: `torch.cuda.amp.autocast(args...)` is deprecated. Please use `torch.amp.autocast('cuda', args...)` instead.\n",
            "  with amp.autocast(autocast):\n",
            "Saved 1 image to \u001b[1mdetection_results478\u001b[0m\n",
            "/root/.cache/torch/hub/ultralytics_yolov5_master/models/common.py:892: FutureWarning: `torch.cuda.amp.autocast(args...)` is deprecated. Please use `torch.amp.autocast('cuda', args...)` instead.\n",
            "  with amp.autocast(autocast):\n",
            "Saved 1 image to \u001b[1mdetection_results479\u001b[0m\n",
            "/root/.cache/torch/hub/ultralytics_yolov5_master/models/common.py:892: FutureWarning: `torch.cuda.amp.autocast(args...)` is deprecated. Please use `torch.amp.autocast('cuda', args...)` instead.\n",
            "  with amp.autocast(autocast):\n",
            "Saved 1 image to \u001b[1mdetection_results480\u001b[0m\n",
            "/root/.cache/torch/hub/ultralytics_yolov5_master/models/common.py:892: FutureWarning: `torch.cuda.amp.autocast(args...)` is deprecated. Please use `torch.amp.autocast('cuda', args...)` instead.\n",
            "  with amp.autocast(autocast):\n",
            "Saved 1 image to \u001b[1mdetection_results481\u001b[0m\n",
            "/root/.cache/torch/hub/ultralytics_yolov5_master/models/common.py:892: FutureWarning: `torch.cuda.amp.autocast(args...)` is deprecated. Please use `torch.amp.autocast('cuda', args...)` instead.\n",
            "  with amp.autocast(autocast):\n",
            "Saved 1 image to \u001b[1mdetection_results482\u001b[0m\n",
            "/root/.cache/torch/hub/ultralytics_yolov5_master/models/common.py:892: FutureWarning: `torch.cuda.amp.autocast(args...)` is deprecated. Please use `torch.amp.autocast('cuda', args...)` instead.\n",
            "  with amp.autocast(autocast):\n",
            "Saved 1 image to \u001b[1mdetection_results483\u001b[0m\n",
            "/root/.cache/torch/hub/ultralytics_yolov5_master/models/common.py:892: FutureWarning: `torch.cuda.amp.autocast(args...)` is deprecated. Please use `torch.amp.autocast('cuda', args...)` instead.\n",
            "  with amp.autocast(autocast):\n",
            "Saved 1 image to \u001b[1mdetection_results484\u001b[0m\n",
            "/root/.cache/torch/hub/ultralytics_yolov5_master/models/common.py:892: FutureWarning: `torch.cuda.amp.autocast(args...)` is deprecated. Please use `torch.amp.autocast('cuda', args...)` instead.\n",
            "  with amp.autocast(autocast):\n",
            "Saved 1 image to \u001b[1mdetection_results485\u001b[0m\n",
            "/root/.cache/torch/hub/ultralytics_yolov5_master/models/common.py:892: FutureWarning: `torch.cuda.amp.autocast(args...)` is deprecated. Please use `torch.amp.autocast('cuda', args...)` instead.\n",
            "  with amp.autocast(autocast):\n",
            "Saved 1 image to \u001b[1mdetection_results486\u001b[0m\n",
            "/root/.cache/torch/hub/ultralytics_yolov5_master/models/common.py:892: FutureWarning: `torch.cuda.amp.autocast(args...)` is deprecated. Please use `torch.amp.autocast('cuda', args...)` instead.\n",
            "  with amp.autocast(autocast):\n",
            "Saved 1 image to \u001b[1mdetection_results487\u001b[0m\n",
            "/root/.cache/torch/hub/ultralytics_yolov5_master/models/common.py:892: FutureWarning: `torch.cuda.amp.autocast(args...)` is deprecated. Please use `torch.amp.autocast('cuda', args...)` instead.\n",
            "  with amp.autocast(autocast):\n",
            "Saved 1 image to \u001b[1mdetection_results488\u001b[0m\n",
            "/root/.cache/torch/hub/ultralytics_yolov5_master/models/common.py:892: FutureWarning: `torch.cuda.amp.autocast(args...)` is deprecated. Please use `torch.amp.autocast('cuda', args...)` instead.\n",
            "  with amp.autocast(autocast):\n",
            "Saved 1 image to \u001b[1mdetection_results489\u001b[0m\n",
            "/root/.cache/torch/hub/ultralytics_yolov5_master/models/common.py:892: FutureWarning: `torch.cuda.amp.autocast(args...)` is deprecated. Please use `torch.amp.autocast('cuda', args...)` instead.\n",
            "  with amp.autocast(autocast):\n",
            "Saved 1 image to \u001b[1mdetection_results490\u001b[0m\n",
            "/root/.cache/torch/hub/ultralytics_yolov5_master/models/common.py:892: FutureWarning: `torch.cuda.amp.autocast(args...)` is deprecated. Please use `torch.amp.autocast('cuda', args...)` instead.\n",
            "  with amp.autocast(autocast):\n",
            "Saved 1 image to \u001b[1mdetection_results491\u001b[0m\n",
            "/root/.cache/torch/hub/ultralytics_yolov5_master/models/common.py:892: FutureWarning: `torch.cuda.amp.autocast(args...)` is deprecated. Please use `torch.amp.autocast('cuda', args...)` instead.\n",
            "  with amp.autocast(autocast):\n",
            "Saved 1 image to \u001b[1mdetection_results492\u001b[0m\n",
            "/root/.cache/torch/hub/ultralytics_yolov5_master/models/common.py:892: FutureWarning: `torch.cuda.amp.autocast(args...)` is deprecated. Please use `torch.amp.autocast('cuda', args...)` instead.\n",
            "  with amp.autocast(autocast):\n",
            "Saved 1 image to \u001b[1mdetection_results493\u001b[0m\n",
            "/root/.cache/torch/hub/ultralytics_yolov5_master/models/common.py:892: FutureWarning: `torch.cuda.amp.autocast(args...)` is deprecated. Please use `torch.amp.autocast('cuda', args...)` instead.\n",
            "  with amp.autocast(autocast):\n",
            "Saved 1 image to \u001b[1mdetection_results494\u001b[0m\n",
            "/root/.cache/torch/hub/ultralytics_yolov5_master/models/common.py:892: FutureWarning: `torch.cuda.amp.autocast(args...)` is deprecated. Please use `torch.amp.autocast('cuda', args...)` instead.\n",
            "  with amp.autocast(autocast):\n",
            "Saved 1 image to \u001b[1mdetection_results495\u001b[0m\n",
            "/root/.cache/torch/hub/ultralytics_yolov5_master/models/common.py:892: FutureWarning: `torch.cuda.amp.autocast(args...)` is deprecated. Please use `torch.amp.autocast('cuda', args...)` instead.\n",
            "  with amp.autocast(autocast):\n",
            "Saved 1 image to \u001b[1mdetection_results496\u001b[0m\n",
            "/root/.cache/torch/hub/ultralytics_yolov5_master/models/common.py:892: FutureWarning: `torch.cuda.amp.autocast(args...)` is deprecated. Please use `torch.amp.autocast('cuda', args...)` instead.\n",
            "  with amp.autocast(autocast):\n",
            "Saved 1 image to \u001b[1mdetection_results497\u001b[0m\n",
            "/root/.cache/torch/hub/ultralytics_yolov5_master/models/common.py:892: FutureWarning: `torch.cuda.amp.autocast(args...)` is deprecated. Please use `torch.amp.autocast('cuda', args...)` instead.\n",
            "  with amp.autocast(autocast):\n",
            "Saved 1 image to \u001b[1mdetection_results498\u001b[0m\n",
            "/root/.cache/torch/hub/ultralytics_yolov5_master/models/common.py:892: FutureWarning: `torch.cuda.amp.autocast(args...)` is deprecated. Please use `torch.amp.autocast('cuda', args...)` instead.\n",
            "  with amp.autocast(autocast):\n",
            "Saved 1 image to \u001b[1mdetection_results499\u001b[0m\n",
            "/root/.cache/torch/hub/ultralytics_yolov5_master/models/common.py:892: FutureWarning: `torch.cuda.amp.autocast(args...)` is deprecated. Please use `torch.amp.autocast('cuda', args...)` instead.\n",
            "  with amp.autocast(autocast):\n",
            "Saved 1 image to \u001b[1mdetection_results500\u001b[0m\n",
            "/root/.cache/torch/hub/ultralytics_yolov5_master/models/common.py:892: FutureWarning: `torch.cuda.amp.autocast(args...)` is deprecated. Please use `torch.amp.autocast('cuda', args...)` instead.\n",
            "  with amp.autocast(autocast):\n",
            "Saved 1 image to \u001b[1mdetection_results501\u001b[0m\n",
            "/root/.cache/torch/hub/ultralytics_yolov5_master/models/common.py:892: FutureWarning: `torch.cuda.amp.autocast(args...)` is deprecated. Please use `torch.amp.autocast('cuda', args...)` instead.\n",
            "  with amp.autocast(autocast):\n",
            "Saved 1 image to \u001b[1mdetection_results502\u001b[0m\n",
            "/root/.cache/torch/hub/ultralytics_yolov5_master/models/common.py:892: FutureWarning: `torch.cuda.amp.autocast(args...)` is deprecated. Please use `torch.amp.autocast('cuda', args...)` instead.\n",
            "  with amp.autocast(autocast):\n",
            "Saved 1 image to \u001b[1mdetection_results503\u001b[0m\n",
            "/root/.cache/torch/hub/ultralytics_yolov5_master/models/common.py:892: FutureWarning: `torch.cuda.amp.autocast(args...)` is deprecated. Please use `torch.amp.autocast('cuda', args...)` instead.\n",
            "  with amp.autocast(autocast):\n",
            "Saved 1 image to \u001b[1mdetection_results504\u001b[0m\n",
            "/root/.cache/torch/hub/ultralytics_yolov5_master/models/common.py:892: FutureWarning: `torch.cuda.amp.autocast(args...)` is deprecated. Please use `torch.amp.autocast('cuda', args...)` instead.\n",
            "  with amp.autocast(autocast):\n",
            "Saved 1 image to \u001b[1mdetection_results505\u001b[0m\n",
            "/root/.cache/torch/hub/ultralytics_yolov5_master/models/common.py:892: FutureWarning: `torch.cuda.amp.autocast(args...)` is deprecated. Please use `torch.amp.autocast('cuda', args...)` instead.\n",
            "  with amp.autocast(autocast):\n",
            "Saved 1 image to \u001b[1mdetection_results506\u001b[0m\n",
            "/root/.cache/torch/hub/ultralytics_yolov5_master/models/common.py:892: FutureWarning: `torch.cuda.amp.autocast(args...)` is deprecated. Please use `torch.amp.autocast('cuda', args...)` instead.\n",
            "  with amp.autocast(autocast):\n",
            "Saved 1 image to \u001b[1mdetection_results507\u001b[0m\n",
            "/root/.cache/torch/hub/ultralytics_yolov5_master/models/common.py:892: FutureWarning: `torch.cuda.amp.autocast(args...)` is deprecated. Please use `torch.amp.autocast('cuda', args...)` instead.\n",
            "  with amp.autocast(autocast):\n",
            "Saved 1 image to \u001b[1mdetection_results508\u001b[0m\n",
            "/root/.cache/torch/hub/ultralytics_yolov5_master/models/common.py:892: FutureWarning: `torch.cuda.amp.autocast(args...)` is deprecated. Please use `torch.amp.autocast('cuda', args...)` instead.\n",
            "  with amp.autocast(autocast):\n",
            "Saved 1 image to \u001b[1mdetection_results509\u001b[0m\n",
            "/root/.cache/torch/hub/ultralytics_yolov5_master/models/common.py:892: FutureWarning: `torch.cuda.amp.autocast(args...)` is deprecated. Please use `torch.amp.autocast('cuda', args...)` instead.\n",
            "  with amp.autocast(autocast):\n",
            "Saved 1 image to \u001b[1mdetection_results510\u001b[0m\n",
            "/root/.cache/torch/hub/ultralytics_yolov5_master/models/common.py:892: FutureWarning: `torch.cuda.amp.autocast(args...)` is deprecated. Please use `torch.amp.autocast('cuda', args...)` instead.\n",
            "  with amp.autocast(autocast):\n",
            "Saved 1 image to \u001b[1mdetection_results511\u001b[0m\n",
            "/root/.cache/torch/hub/ultralytics_yolov5_master/models/common.py:892: FutureWarning: `torch.cuda.amp.autocast(args...)` is deprecated. Please use `torch.amp.autocast('cuda', args...)` instead.\n",
            "  with amp.autocast(autocast):\n",
            "Saved 1 image to \u001b[1mdetection_results512\u001b[0m\n",
            "/root/.cache/torch/hub/ultralytics_yolov5_master/models/common.py:892: FutureWarning: `torch.cuda.amp.autocast(args...)` is deprecated. Please use `torch.amp.autocast('cuda', args...)` instead.\n",
            "  with amp.autocast(autocast):\n",
            "Saved 1 image to \u001b[1mdetection_results513\u001b[0m\n",
            "/root/.cache/torch/hub/ultralytics_yolov5_master/models/common.py:892: FutureWarning: `torch.cuda.amp.autocast(args...)` is deprecated. Please use `torch.amp.autocast('cuda', args...)` instead.\n",
            "  with amp.autocast(autocast):\n",
            "Saved 1 image to \u001b[1mdetection_results514\u001b[0m\n",
            "/root/.cache/torch/hub/ultralytics_yolov5_master/models/common.py:892: FutureWarning: `torch.cuda.amp.autocast(args...)` is deprecated. Please use `torch.amp.autocast('cuda', args...)` instead.\n",
            "  with amp.autocast(autocast):\n",
            "Saved 1 image to \u001b[1mdetection_results515\u001b[0m\n",
            "/root/.cache/torch/hub/ultralytics_yolov5_master/models/common.py:892: FutureWarning: `torch.cuda.amp.autocast(args...)` is deprecated. Please use `torch.amp.autocast('cuda', args...)` instead.\n",
            "  with amp.autocast(autocast):\n",
            "Saved 1 image to \u001b[1mdetection_results516\u001b[0m\n",
            "/root/.cache/torch/hub/ultralytics_yolov5_master/models/common.py:892: FutureWarning: `torch.cuda.amp.autocast(args...)` is deprecated. Please use `torch.amp.autocast('cuda', args...)` instead.\n",
            "  with amp.autocast(autocast):\n",
            "Saved 1 image to \u001b[1mdetection_results517\u001b[0m\n",
            "/root/.cache/torch/hub/ultralytics_yolov5_master/models/common.py:892: FutureWarning: `torch.cuda.amp.autocast(args...)` is deprecated. Please use `torch.amp.autocast('cuda', args...)` instead.\n",
            "  with amp.autocast(autocast):\n",
            "Saved 1 image to \u001b[1mdetection_results518\u001b[0m\n",
            "/root/.cache/torch/hub/ultralytics_yolov5_master/models/common.py:892: FutureWarning: `torch.cuda.amp.autocast(args...)` is deprecated. Please use `torch.amp.autocast('cuda', args...)` instead.\n",
            "  with amp.autocast(autocast):\n",
            "Saved 1 image to \u001b[1mdetection_results519\u001b[0m\n",
            "/root/.cache/torch/hub/ultralytics_yolov5_master/models/common.py:892: FutureWarning: `torch.cuda.amp.autocast(args...)` is deprecated. Please use `torch.amp.autocast('cuda', args...)` instead.\n",
            "  with amp.autocast(autocast):\n",
            "Saved 1 image to \u001b[1mdetection_results520\u001b[0m\n",
            "/root/.cache/torch/hub/ultralytics_yolov5_master/models/common.py:892: FutureWarning: `torch.cuda.amp.autocast(args...)` is deprecated. Please use `torch.amp.autocast('cuda', args...)` instead.\n",
            "  with amp.autocast(autocast):\n",
            "Saved 1 image to \u001b[1mdetection_results521\u001b[0m\n",
            "/root/.cache/torch/hub/ultralytics_yolov5_master/models/common.py:892: FutureWarning: `torch.cuda.amp.autocast(args...)` is deprecated. Please use `torch.amp.autocast('cuda', args...)` instead.\n",
            "  with amp.autocast(autocast):\n",
            "Saved 1 image to \u001b[1mdetection_results522\u001b[0m\n",
            "/root/.cache/torch/hub/ultralytics_yolov5_master/models/common.py:892: FutureWarning: `torch.cuda.amp.autocast(args...)` is deprecated. Please use `torch.amp.autocast('cuda', args...)` instead.\n",
            "  with amp.autocast(autocast):\n",
            "Saved 1 image to \u001b[1mdetection_results523\u001b[0m\n",
            "/root/.cache/torch/hub/ultralytics_yolov5_master/models/common.py:892: FutureWarning: `torch.cuda.amp.autocast(args...)` is deprecated. Please use `torch.amp.autocast('cuda', args...)` instead.\n",
            "  with amp.autocast(autocast):\n",
            "Saved 1 image to \u001b[1mdetection_results524\u001b[0m\n",
            "/root/.cache/torch/hub/ultralytics_yolov5_master/models/common.py:892: FutureWarning: `torch.cuda.amp.autocast(args...)` is deprecated. Please use `torch.amp.autocast('cuda', args...)` instead.\n",
            "  with amp.autocast(autocast):\n",
            "Saved 1 image to \u001b[1mdetection_results525\u001b[0m\n",
            "/root/.cache/torch/hub/ultralytics_yolov5_master/models/common.py:892: FutureWarning: `torch.cuda.amp.autocast(args...)` is deprecated. Please use `torch.amp.autocast('cuda', args...)` instead.\n",
            "  with amp.autocast(autocast):\n",
            "Saved 1 image to \u001b[1mdetection_results526\u001b[0m\n",
            "/root/.cache/torch/hub/ultralytics_yolov5_master/models/common.py:892: FutureWarning: `torch.cuda.amp.autocast(args...)` is deprecated. Please use `torch.amp.autocast('cuda', args...)` instead.\n",
            "  with amp.autocast(autocast):\n",
            "Saved 1 image to \u001b[1mdetection_results527\u001b[0m\n",
            "/root/.cache/torch/hub/ultralytics_yolov5_master/models/common.py:892: FutureWarning: `torch.cuda.amp.autocast(args...)` is deprecated. Please use `torch.amp.autocast('cuda', args...)` instead.\n",
            "  with amp.autocast(autocast):\n",
            "Saved 1 image to \u001b[1mdetection_results528\u001b[0m\n",
            "/root/.cache/torch/hub/ultralytics_yolov5_master/models/common.py:892: FutureWarning: `torch.cuda.amp.autocast(args...)` is deprecated. Please use `torch.amp.autocast('cuda', args...)` instead.\n",
            "  with amp.autocast(autocast):\n",
            "Saved 1 image to \u001b[1mdetection_results529\u001b[0m\n",
            "/root/.cache/torch/hub/ultralytics_yolov5_master/models/common.py:892: FutureWarning: `torch.cuda.amp.autocast(args...)` is deprecated. Please use `torch.amp.autocast('cuda', args...)` instead.\n",
            "  with amp.autocast(autocast):\n",
            "Saved 1 image to \u001b[1mdetection_results530\u001b[0m\n",
            "/root/.cache/torch/hub/ultralytics_yolov5_master/models/common.py:892: FutureWarning: `torch.cuda.amp.autocast(args...)` is deprecated. Please use `torch.amp.autocast('cuda', args...)` instead.\n",
            "  with amp.autocast(autocast):\n",
            "Saved 1 image to \u001b[1mdetection_results531\u001b[0m\n",
            "/root/.cache/torch/hub/ultralytics_yolov5_master/models/common.py:892: FutureWarning: `torch.cuda.amp.autocast(args...)` is deprecated. Please use `torch.amp.autocast('cuda', args...)` instead.\n",
            "  with amp.autocast(autocast):\n",
            "Saved 1 image to \u001b[1mdetection_results532\u001b[0m\n",
            "/root/.cache/torch/hub/ultralytics_yolov5_master/models/common.py:892: FutureWarning: `torch.cuda.amp.autocast(args...)` is deprecated. Please use `torch.amp.autocast('cuda', args...)` instead.\n",
            "  with amp.autocast(autocast):\n",
            "Saved 1 image to \u001b[1mdetection_results533\u001b[0m\n",
            "/root/.cache/torch/hub/ultralytics_yolov5_master/models/common.py:892: FutureWarning: `torch.cuda.amp.autocast(args...)` is deprecated. Please use `torch.amp.autocast('cuda', args...)` instead.\n",
            "  with amp.autocast(autocast):\n",
            "Saved 1 image to \u001b[1mdetection_results534\u001b[0m\n",
            "/root/.cache/torch/hub/ultralytics_yolov5_master/models/common.py:892: FutureWarning: `torch.cuda.amp.autocast(args...)` is deprecated. Please use `torch.amp.autocast('cuda', args...)` instead.\n",
            "  with amp.autocast(autocast):\n",
            "Saved 1 image to \u001b[1mdetection_results535\u001b[0m\n",
            "/root/.cache/torch/hub/ultralytics_yolov5_master/models/common.py:892: FutureWarning: `torch.cuda.amp.autocast(args...)` is deprecated. Please use `torch.amp.autocast('cuda', args...)` instead.\n",
            "  with amp.autocast(autocast):\n",
            "Saved 1 image to \u001b[1mdetection_results536\u001b[0m\n",
            "/root/.cache/torch/hub/ultralytics_yolov5_master/models/common.py:892: FutureWarning: `torch.cuda.amp.autocast(args...)` is deprecated. Please use `torch.amp.autocast('cuda', args...)` instead.\n",
            "  with amp.autocast(autocast):\n",
            "Saved 1 image to \u001b[1mdetection_results537\u001b[0m\n",
            "/root/.cache/torch/hub/ultralytics_yolov5_master/models/common.py:892: FutureWarning: `torch.cuda.amp.autocast(args...)` is deprecated. Please use `torch.amp.autocast('cuda', args...)` instead.\n",
            "  with amp.autocast(autocast):\n",
            "Saved 1 image to \u001b[1mdetection_results538\u001b[0m\n",
            "/root/.cache/torch/hub/ultralytics_yolov5_master/models/common.py:892: FutureWarning: `torch.cuda.amp.autocast(args...)` is deprecated. Please use `torch.amp.autocast('cuda', args...)` instead.\n",
            "  with amp.autocast(autocast):\n",
            "Saved 1 image to \u001b[1mdetection_results539\u001b[0m\n",
            "/root/.cache/torch/hub/ultralytics_yolov5_master/models/common.py:892: FutureWarning: `torch.cuda.amp.autocast(args...)` is deprecated. Please use `torch.amp.autocast('cuda', args...)` instead.\n",
            "  with amp.autocast(autocast):\n",
            "Saved 1 image to \u001b[1mdetection_results540\u001b[0m\n",
            "/root/.cache/torch/hub/ultralytics_yolov5_master/models/common.py:892: FutureWarning: `torch.cuda.amp.autocast(args...)` is deprecated. Please use `torch.amp.autocast('cuda', args...)` instead.\n",
            "  with amp.autocast(autocast):\n",
            "Saved 1 image to \u001b[1mdetection_results541\u001b[0m\n",
            "/root/.cache/torch/hub/ultralytics_yolov5_master/models/common.py:892: FutureWarning: `torch.cuda.amp.autocast(args...)` is deprecated. Please use `torch.amp.autocast('cuda', args...)` instead.\n",
            "  with amp.autocast(autocast):\n",
            "Saved 1 image to \u001b[1mdetection_results542\u001b[0m\n",
            "/root/.cache/torch/hub/ultralytics_yolov5_master/models/common.py:892: FutureWarning: `torch.cuda.amp.autocast(args...)` is deprecated. Please use `torch.amp.autocast('cuda', args...)` instead.\n",
            "  with amp.autocast(autocast):\n",
            "Saved 1 image to \u001b[1mdetection_results543\u001b[0m\n",
            "/root/.cache/torch/hub/ultralytics_yolov5_master/models/common.py:892: FutureWarning: `torch.cuda.amp.autocast(args...)` is deprecated. Please use `torch.amp.autocast('cuda', args...)` instead.\n",
            "  with amp.autocast(autocast):\n",
            "Saved 1 image to \u001b[1mdetection_results544\u001b[0m\n",
            "/root/.cache/torch/hub/ultralytics_yolov5_master/models/common.py:892: FutureWarning: `torch.cuda.amp.autocast(args...)` is deprecated. Please use `torch.amp.autocast('cuda', args...)` instead.\n",
            "  with amp.autocast(autocast):\n",
            "Saved 1 image to \u001b[1mdetection_results545\u001b[0m\n",
            "/root/.cache/torch/hub/ultralytics_yolov5_master/models/common.py:892: FutureWarning: `torch.cuda.amp.autocast(args...)` is deprecated. Please use `torch.amp.autocast('cuda', args...)` instead.\n",
            "  with amp.autocast(autocast):\n",
            "Saved 1 image to \u001b[1mdetection_results546\u001b[0m\n",
            "/root/.cache/torch/hub/ultralytics_yolov5_master/models/common.py:892: FutureWarning: `torch.cuda.amp.autocast(args...)` is deprecated. Please use `torch.amp.autocast('cuda', args...)` instead.\n",
            "  with amp.autocast(autocast):\n",
            "Saved 1 image to \u001b[1mdetection_results547\u001b[0m\n",
            "/root/.cache/torch/hub/ultralytics_yolov5_master/models/common.py:892: FutureWarning: `torch.cuda.amp.autocast(args...)` is deprecated. Please use `torch.amp.autocast('cuda', args...)` instead.\n",
            "  with amp.autocast(autocast):\n",
            "Saved 1 image to \u001b[1mdetection_results548\u001b[0m\n",
            "/root/.cache/torch/hub/ultralytics_yolov5_master/models/common.py:892: FutureWarning: `torch.cuda.amp.autocast(args...)` is deprecated. Please use `torch.amp.autocast('cuda', args...)` instead.\n",
            "  with amp.autocast(autocast):\n",
            "Saved 1 image to \u001b[1mdetection_results549\u001b[0m\n",
            "/root/.cache/torch/hub/ultralytics_yolov5_master/models/common.py:892: FutureWarning: `torch.cuda.amp.autocast(args...)` is deprecated. Please use `torch.amp.autocast('cuda', args...)` instead.\n",
            "  with amp.autocast(autocast):\n",
            "Saved 1 image to \u001b[1mdetection_results550\u001b[0m\n",
            "/root/.cache/torch/hub/ultralytics_yolov5_master/models/common.py:892: FutureWarning: `torch.cuda.amp.autocast(args...)` is deprecated. Please use `torch.amp.autocast('cuda', args...)` instead.\n",
            "  with amp.autocast(autocast):\n",
            "Saved 1 image to \u001b[1mdetection_results551\u001b[0m\n",
            "/root/.cache/torch/hub/ultralytics_yolov5_master/models/common.py:892: FutureWarning: `torch.cuda.amp.autocast(args...)` is deprecated. Please use `torch.amp.autocast('cuda', args...)` instead.\n",
            "  with amp.autocast(autocast):\n",
            "Saved 1 image to \u001b[1mdetection_results552\u001b[0m\n",
            "/root/.cache/torch/hub/ultralytics_yolov5_master/models/common.py:892: FutureWarning: `torch.cuda.amp.autocast(args...)` is deprecated. Please use `torch.amp.autocast('cuda', args...)` instead.\n",
            "  with amp.autocast(autocast):\n",
            "Saved 1 image to \u001b[1mdetection_results553\u001b[0m\n",
            "/root/.cache/torch/hub/ultralytics_yolov5_master/models/common.py:892: FutureWarning: `torch.cuda.amp.autocast(args...)` is deprecated. Please use `torch.amp.autocast('cuda', args...)` instead.\n",
            "  with amp.autocast(autocast):\n",
            "Saved 1 image to \u001b[1mdetection_results554\u001b[0m\n",
            "/root/.cache/torch/hub/ultralytics_yolov5_master/models/common.py:892: FutureWarning: `torch.cuda.amp.autocast(args...)` is deprecated. Please use `torch.amp.autocast('cuda', args...)` instead.\n",
            "  with amp.autocast(autocast):\n",
            "Saved 1 image to \u001b[1mdetection_results555\u001b[0m\n",
            "/root/.cache/torch/hub/ultralytics_yolov5_master/models/common.py:892: FutureWarning: `torch.cuda.amp.autocast(args...)` is deprecated. Please use `torch.amp.autocast('cuda', args...)` instead.\n",
            "  with amp.autocast(autocast):\n",
            "Saved 1 image to \u001b[1mdetection_results556\u001b[0m\n",
            "/root/.cache/torch/hub/ultralytics_yolov5_master/models/common.py:892: FutureWarning: `torch.cuda.amp.autocast(args...)` is deprecated. Please use `torch.amp.autocast('cuda', args...)` instead.\n",
            "  with amp.autocast(autocast):\n",
            "Saved 1 image to \u001b[1mdetection_results557\u001b[0m\n",
            "/root/.cache/torch/hub/ultralytics_yolov5_master/models/common.py:892: FutureWarning: `torch.cuda.amp.autocast(args...)` is deprecated. Please use `torch.amp.autocast('cuda', args...)` instead.\n",
            "  with amp.autocast(autocast):\n",
            "Saved 1 image to \u001b[1mdetection_results558\u001b[0m\n",
            "/root/.cache/torch/hub/ultralytics_yolov5_master/models/common.py:892: FutureWarning: `torch.cuda.amp.autocast(args...)` is deprecated. Please use `torch.amp.autocast('cuda', args...)` instead.\n",
            "  with amp.autocast(autocast):\n",
            "Saved 1 image to \u001b[1mdetection_results559\u001b[0m\n",
            "/root/.cache/torch/hub/ultralytics_yolov5_master/models/common.py:892: FutureWarning: `torch.cuda.amp.autocast(args...)` is deprecated. Please use `torch.amp.autocast('cuda', args...)` instead.\n",
            "  with amp.autocast(autocast):\n",
            "Saved 1 image to \u001b[1mdetection_results560\u001b[0m\n",
            "/root/.cache/torch/hub/ultralytics_yolov5_master/models/common.py:892: FutureWarning: `torch.cuda.amp.autocast(args...)` is deprecated. Please use `torch.amp.autocast('cuda', args...)` instead.\n",
            "  with amp.autocast(autocast):\n",
            "Saved 1 image to \u001b[1mdetection_results561\u001b[0m\n",
            "/root/.cache/torch/hub/ultralytics_yolov5_master/models/common.py:892: FutureWarning: `torch.cuda.amp.autocast(args...)` is deprecated. Please use `torch.amp.autocast('cuda', args...)` instead.\n",
            "  with amp.autocast(autocast):\n",
            "Saved 1 image to \u001b[1mdetection_results562\u001b[0m\n",
            "/root/.cache/torch/hub/ultralytics_yolov5_master/models/common.py:892: FutureWarning: `torch.cuda.amp.autocast(args...)` is deprecated. Please use `torch.amp.autocast('cuda', args...)` instead.\n",
            "  with amp.autocast(autocast):\n",
            "Saved 1 image to \u001b[1mdetection_results563\u001b[0m\n",
            "/root/.cache/torch/hub/ultralytics_yolov5_master/models/common.py:892: FutureWarning: `torch.cuda.amp.autocast(args...)` is deprecated. Please use `torch.amp.autocast('cuda', args...)` instead.\n",
            "  with amp.autocast(autocast):\n",
            "Saved 1 image to \u001b[1mdetection_results564\u001b[0m\n",
            "/root/.cache/torch/hub/ultralytics_yolov5_master/models/common.py:892: FutureWarning: `torch.cuda.amp.autocast(args...)` is deprecated. Please use `torch.amp.autocast('cuda', args...)` instead.\n",
            "  with amp.autocast(autocast):\n",
            "Saved 1 image to \u001b[1mdetection_results565\u001b[0m\n",
            "/root/.cache/torch/hub/ultralytics_yolov5_master/models/common.py:892: FutureWarning: `torch.cuda.amp.autocast(args...)` is deprecated. Please use `torch.amp.autocast('cuda', args...)` instead.\n",
            "  with amp.autocast(autocast):\n",
            "Saved 1 image to \u001b[1mdetection_results566\u001b[0m\n",
            "/root/.cache/torch/hub/ultralytics_yolov5_master/models/common.py:892: FutureWarning: `torch.cuda.amp.autocast(args...)` is deprecated. Please use `torch.amp.autocast('cuda', args...)` instead.\n",
            "  with amp.autocast(autocast):\n",
            "Saved 1 image to \u001b[1mdetection_results567\u001b[0m\n",
            "/root/.cache/torch/hub/ultralytics_yolov5_master/models/common.py:892: FutureWarning: `torch.cuda.amp.autocast(args...)` is deprecated. Please use `torch.amp.autocast('cuda', args...)` instead.\n",
            "  with amp.autocast(autocast):\n",
            "Saved 1 image to \u001b[1mdetection_results568\u001b[0m\n",
            "/root/.cache/torch/hub/ultralytics_yolov5_master/models/common.py:892: FutureWarning: `torch.cuda.amp.autocast(args...)` is deprecated. Please use `torch.amp.autocast('cuda', args...)` instead.\n",
            "  with amp.autocast(autocast):\n",
            "Saved 1 image to \u001b[1mdetection_results569\u001b[0m\n",
            "/root/.cache/torch/hub/ultralytics_yolov5_master/models/common.py:892: FutureWarning: `torch.cuda.amp.autocast(args...)` is deprecated. Please use `torch.amp.autocast('cuda', args...)` instead.\n",
            "  with amp.autocast(autocast):\n",
            "Saved 1 image to \u001b[1mdetection_results570\u001b[0m\n",
            "/root/.cache/torch/hub/ultralytics_yolov5_master/models/common.py:892: FutureWarning: `torch.cuda.amp.autocast(args...)` is deprecated. Please use `torch.amp.autocast('cuda', args...)` instead.\n",
            "  with amp.autocast(autocast):\n",
            "Saved 1 image to \u001b[1mdetection_results571\u001b[0m\n",
            "/root/.cache/torch/hub/ultralytics_yolov5_master/models/common.py:892: FutureWarning: `torch.cuda.amp.autocast(args...)` is deprecated. Please use `torch.amp.autocast('cuda', args...)` instead.\n",
            "  with amp.autocast(autocast):\n",
            "Saved 1 image to \u001b[1mdetection_results572\u001b[0m\n",
            "/root/.cache/torch/hub/ultralytics_yolov5_master/models/common.py:892: FutureWarning: `torch.cuda.amp.autocast(args...)` is deprecated. Please use `torch.amp.autocast('cuda', args...)` instead.\n",
            "  with amp.autocast(autocast):\n",
            "Saved 1 image to \u001b[1mdetection_results573\u001b[0m\n",
            "/root/.cache/torch/hub/ultralytics_yolov5_master/models/common.py:892: FutureWarning: `torch.cuda.amp.autocast(args...)` is deprecated. Please use `torch.amp.autocast('cuda', args...)` instead.\n",
            "  with amp.autocast(autocast):\n",
            "Saved 1 image to \u001b[1mdetection_results574\u001b[0m\n",
            "/root/.cache/torch/hub/ultralytics_yolov5_master/models/common.py:892: FutureWarning: `torch.cuda.amp.autocast(args...)` is deprecated. Please use `torch.amp.autocast('cuda', args...)` instead.\n",
            "  with amp.autocast(autocast):\n",
            "Saved 1 image to \u001b[1mdetection_results575\u001b[0m\n",
            "/root/.cache/torch/hub/ultralytics_yolov5_master/models/common.py:892: FutureWarning: `torch.cuda.amp.autocast(args...)` is deprecated. Please use `torch.amp.autocast('cuda', args...)` instead.\n",
            "  with amp.autocast(autocast):\n",
            "Saved 1 image to \u001b[1mdetection_results576\u001b[0m\n",
            "/root/.cache/torch/hub/ultralytics_yolov5_master/models/common.py:892: FutureWarning: `torch.cuda.amp.autocast(args...)` is deprecated. Please use `torch.amp.autocast('cuda', args...)` instead.\n",
            "  with amp.autocast(autocast):\n",
            "Saved 1 image to \u001b[1mdetection_results577\u001b[0m\n",
            "/root/.cache/torch/hub/ultralytics_yolov5_master/models/common.py:892: FutureWarning: `torch.cuda.amp.autocast(args...)` is deprecated. Please use `torch.amp.autocast('cuda', args...)` instead.\n",
            "  with amp.autocast(autocast):\n",
            "Saved 1 image to \u001b[1mdetection_results578\u001b[0m\n",
            "/root/.cache/torch/hub/ultralytics_yolov5_master/models/common.py:892: FutureWarning: `torch.cuda.amp.autocast(args...)` is deprecated. Please use `torch.amp.autocast('cuda', args...)` instead.\n",
            "  with amp.autocast(autocast):\n",
            "Saved 1 image to \u001b[1mdetection_results579\u001b[0m\n",
            "/root/.cache/torch/hub/ultralytics_yolov5_master/models/common.py:892: FutureWarning: `torch.cuda.amp.autocast(args...)` is deprecated. Please use `torch.amp.autocast('cuda', args...)` instead.\n",
            "  with amp.autocast(autocast):\n",
            "Saved 1 image to \u001b[1mdetection_results580\u001b[0m\n",
            "/root/.cache/torch/hub/ultralytics_yolov5_master/models/common.py:892: FutureWarning: `torch.cuda.amp.autocast(args...)` is deprecated. Please use `torch.amp.autocast('cuda', args...)` instead.\n",
            "  with amp.autocast(autocast):\n",
            "Saved 1 image to \u001b[1mdetection_results581\u001b[0m\n",
            "/root/.cache/torch/hub/ultralytics_yolov5_master/models/common.py:892: FutureWarning: `torch.cuda.amp.autocast(args...)` is deprecated. Please use `torch.amp.autocast('cuda', args...)` instead.\n",
            "  with amp.autocast(autocast):\n",
            "Saved 1 image to \u001b[1mdetection_results582\u001b[0m\n",
            "/root/.cache/torch/hub/ultralytics_yolov5_master/models/common.py:892: FutureWarning: `torch.cuda.amp.autocast(args...)` is deprecated. Please use `torch.amp.autocast('cuda', args...)` instead.\n",
            "  with amp.autocast(autocast):\n",
            "Saved 1 image to \u001b[1mdetection_results583\u001b[0m\n",
            "/root/.cache/torch/hub/ultralytics_yolov5_master/models/common.py:892: FutureWarning: `torch.cuda.amp.autocast(args...)` is deprecated. Please use `torch.amp.autocast('cuda', args...)` instead.\n",
            "  with amp.autocast(autocast):\n",
            "Saved 1 image to \u001b[1mdetection_results584\u001b[0m\n",
            "/root/.cache/torch/hub/ultralytics_yolov5_master/models/common.py:892: FutureWarning: `torch.cuda.amp.autocast(args...)` is deprecated. Please use `torch.amp.autocast('cuda', args...)` instead.\n",
            "  with amp.autocast(autocast):\n",
            "Saved 1 image to \u001b[1mdetection_results585\u001b[0m\n",
            "/root/.cache/torch/hub/ultralytics_yolov5_master/models/common.py:892: FutureWarning: `torch.cuda.amp.autocast(args...)` is deprecated. Please use `torch.amp.autocast('cuda', args...)` instead.\n",
            "  with amp.autocast(autocast):\n",
            "Saved 1 image to \u001b[1mdetection_results586\u001b[0m\n",
            "/root/.cache/torch/hub/ultralytics_yolov5_master/models/common.py:892: FutureWarning: `torch.cuda.amp.autocast(args...)` is deprecated. Please use `torch.amp.autocast('cuda', args...)` instead.\n",
            "  with amp.autocast(autocast):\n",
            "Saved 1 image to \u001b[1mdetection_results587\u001b[0m\n",
            "/root/.cache/torch/hub/ultralytics_yolov5_master/models/common.py:892: FutureWarning: `torch.cuda.amp.autocast(args...)` is deprecated. Please use `torch.amp.autocast('cuda', args...)` instead.\n",
            "  with amp.autocast(autocast):\n",
            "Saved 1 image to \u001b[1mdetection_results588\u001b[0m\n",
            "/root/.cache/torch/hub/ultralytics_yolov5_master/models/common.py:892: FutureWarning: `torch.cuda.amp.autocast(args...)` is deprecated. Please use `torch.amp.autocast('cuda', args...)` instead.\n",
            "  with amp.autocast(autocast):\n",
            "Saved 1 image to \u001b[1mdetection_results589\u001b[0m\n",
            "/root/.cache/torch/hub/ultralytics_yolov5_master/models/common.py:892: FutureWarning: `torch.cuda.amp.autocast(args...)` is deprecated. Please use `torch.amp.autocast('cuda', args...)` instead.\n",
            "  with amp.autocast(autocast):\n",
            "Saved 1 image to \u001b[1mdetection_results590\u001b[0m\n",
            "/root/.cache/torch/hub/ultralytics_yolov5_master/models/common.py:892: FutureWarning: `torch.cuda.amp.autocast(args...)` is deprecated. Please use `torch.amp.autocast('cuda', args...)` instead.\n",
            "  with amp.autocast(autocast):\n",
            "Saved 1 image to \u001b[1mdetection_results591\u001b[0m\n",
            "/root/.cache/torch/hub/ultralytics_yolov5_master/models/common.py:892: FutureWarning: `torch.cuda.amp.autocast(args...)` is deprecated. Please use `torch.amp.autocast('cuda', args...)` instead.\n",
            "  with amp.autocast(autocast):\n",
            "Saved 1 image to \u001b[1mdetection_results592\u001b[0m\n",
            "/root/.cache/torch/hub/ultralytics_yolov5_master/models/common.py:892: FutureWarning: `torch.cuda.amp.autocast(args...)` is deprecated. Please use `torch.amp.autocast('cuda', args...)` instead.\n",
            "  with amp.autocast(autocast):\n",
            "Saved 1 image to \u001b[1mdetection_results593\u001b[0m\n",
            "/root/.cache/torch/hub/ultralytics_yolov5_master/models/common.py:892: FutureWarning: `torch.cuda.amp.autocast(args...)` is deprecated. Please use `torch.amp.autocast('cuda', args...)` instead.\n",
            "  with amp.autocast(autocast):\n",
            "Saved 1 image to \u001b[1mdetection_results594\u001b[0m\n",
            "/root/.cache/torch/hub/ultralytics_yolov5_master/models/common.py:892: FutureWarning: `torch.cuda.amp.autocast(args...)` is deprecated. Please use `torch.amp.autocast('cuda', args...)` instead.\n",
            "  with amp.autocast(autocast):\n",
            "Saved 1 image to \u001b[1mdetection_results595\u001b[0m\n",
            "/root/.cache/torch/hub/ultralytics_yolov5_master/models/common.py:892: FutureWarning: `torch.cuda.amp.autocast(args...)` is deprecated. Please use `torch.amp.autocast('cuda', args...)` instead.\n",
            "  with amp.autocast(autocast):\n",
            "Saved 1 image to \u001b[1mdetection_results596\u001b[0m\n",
            "/root/.cache/torch/hub/ultralytics_yolov5_master/models/common.py:892: FutureWarning: `torch.cuda.amp.autocast(args...)` is deprecated. Please use `torch.amp.autocast('cuda', args...)` instead.\n",
            "  with amp.autocast(autocast):\n",
            "Saved 1 image to \u001b[1mdetection_results597\u001b[0m\n",
            "/root/.cache/torch/hub/ultralytics_yolov5_master/models/common.py:892: FutureWarning: `torch.cuda.amp.autocast(args...)` is deprecated. Please use `torch.amp.autocast('cuda', args...)` instead.\n",
            "  with amp.autocast(autocast):\n",
            "Saved 1 image to \u001b[1mdetection_results598\u001b[0m\n",
            "/root/.cache/torch/hub/ultralytics_yolov5_master/models/common.py:892: FutureWarning: `torch.cuda.amp.autocast(args...)` is deprecated. Please use `torch.amp.autocast('cuda', args...)` instead.\n",
            "  with amp.autocast(autocast):\n",
            "Saved 1 image to \u001b[1mdetection_results599\u001b[0m\n",
            "/root/.cache/torch/hub/ultralytics_yolov5_master/models/common.py:892: FutureWarning: `torch.cuda.amp.autocast(args...)` is deprecated. Please use `torch.amp.autocast('cuda', args...)` instead.\n",
            "  with amp.autocast(autocast):\n",
            "Saved 1 image to \u001b[1mdetection_results600\u001b[0m\n",
            "/root/.cache/torch/hub/ultralytics_yolov5_master/models/common.py:892: FutureWarning: `torch.cuda.amp.autocast(args...)` is deprecated. Please use `torch.amp.autocast('cuda', args...)` instead.\n",
            "  with amp.autocast(autocast):\n",
            "Saved 1 image to \u001b[1mdetection_results601\u001b[0m\n",
            "/root/.cache/torch/hub/ultralytics_yolov5_master/models/common.py:892: FutureWarning: `torch.cuda.amp.autocast(args...)` is deprecated. Please use `torch.amp.autocast('cuda', args...)` instead.\n",
            "  with amp.autocast(autocast):\n",
            "Saved 1 image to \u001b[1mdetection_results602\u001b[0m\n",
            "/root/.cache/torch/hub/ultralytics_yolov5_master/models/common.py:892: FutureWarning: `torch.cuda.amp.autocast(args...)` is deprecated. Please use `torch.amp.autocast('cuda', args...)` instead.\n",
            "  with amp.autocast(autocast):\n",
            "Saved 1 image to \u001b[1mdetection_results603\u001b[0m\n",
            "/root/.cache/torch/hub/ultralytics_yolov5_master/models/common.py:892: FutureWarning: `torch.cuda.amp.autocast(args...)` is deprecated. Please use `torch.amp.autocast('cuda', args...)` instead.\n",
            "  with amp.autocast(autocast):\n",
            "Saved 1 image to \u001b[1mdetection_results604\u001b[0m\n",
            "/root/.cache/torch/hub/ultralytics_yolov5_master/models/common.py:892: FutureWarning: `torch.cuda.amp.autocast(args...)` is deprecated. Please use `torch.amp.autocast('cuda', args...)` instead.\n",
            "  with amp.autocast(autocast):\n",
            "Saved 1 image to \u001b[1mdetection_results605\u001b[0m\n",
            "/root/.cache/torch/hub/ultralytics_yolov5_master/models/common.py:892: FutureWarning: `torch.cuda.amp.autocast(args...)` is deprecated. Please use `torch.amp.autocast('cuda', args...)` instead.\n",
            "  with amp.autocast(autocast):\n",
            "Saved 1 image to \u001b[1mdetection_results606\u001b[0m\n",
            "/root/.cache/torch/hub/ultralytics_yolov5_master/models/common.py:892: FutureWarning: `torch.cuda.amp.autocast(args...)` is deprecated. Please use `torch.amp.autocast('cuda', args...)` instead.\n",
            "  with amp.autocast(autocast):\n",
            "Saved 1 image to \u001b[1mdetection_results607\u001b[0m\n",
            "/root/.cache/torch/hub/ultralytics_yolov5_master/models/common.py:892: FutureWarning: `torch.cuda.amp.autocast(args...)` is deprecated. Please use `torch.amp.autocast('cuda', args...)` instead.\n",
            "  with amp.autocast(autocast):\n",
            "Saved 1 image to \u001b[1mdetection_results608\u001b[0m\n",
            "/root/.cache/torch/hub/ultralytics_yolov5_master/models/common.py:892: FutureWarning: `torch.cuda.amp.autocast(args...)` is deprecated. Please use `torch.amp.autocast('cuda', args...)` instead.\n",
            "  with amp.autocast(autocast):\n",
            "Saved 1 image to \u001b[1mdetection_results609\u001b[0m\n",
            "/root/.cache/torch/hub/ultralytics_yolov5_master/models/common.py:892: FutureWarning: `torch.cuda.amp.autocast(args...)` is deprecated. Please use `torch.amp.autocast('cuda', args...)` instead.\n",
            "  with amp.autocast(autocast):\n",
            "Saved 1 image to \u001b[1mdetection_results610\u001b[0m\n",
            "/root/.cache/torch/hub/ultralytics_yolov5_master/models/common.py:892: FutureWarning: `torch.cuda.amp.autocast(args...)` is deprecated. Please use `torch.amp.autocast('cuda', args...)` instead.\n",
            "  with amp.autocast(autocast):\n",
            "Saved 1 image to \u001b[1mdetection_results611\u001b[0m\n",
            "/root/.cache/torch/hub/ultralytics_yolov5_master/models/common.py:892: FutureWarning: `torch.cuda.amp.autocast(args...)` is deprecated. Please use `torch.amp.autocast('cuda', args...)` instead.\n",
            "  with amp.autocast(autocast):\n",
            "Saved 1 image to \u001b[1mdetection_results612\u001b[0m\n",
            "/root/.cache/torch/hub/ultralytics_yolov5_master/models/common.py:892: FutureWarning: `torch.cuda.amp.autocast(args...)` is deprecated. Please use `torch.amp.autocast('cuda', args...)` instead.\n",
            "  with amp.autocast(autocast):\n",
            "Saved 1 image to \u001b[1mdetection_results613\u001b[0m\n",
            "/root/.cache/torch/hub/ultralytics_yolov5_master/models/common.py:892: FutureWarning: `torch.cuda.amp.autocast(args...)` is deprecated. Please use `torch.amp.autocast('cuda', args...)` instead.\n",
            "  with amp.autocast(autocast):\n",
            "Saved 1 image to \u001b[1mdetection_results614\u001b[0m\n",
            "/root/.cache/torch/hub/ultralytics_yolov5_master/models/common.py:892: FutureWarning: `torch.cuda.amp.autocast(args...)` is deprecated. Please use `torch.amp.autocast('cuda', args...)` instead.\n",
            "  with amp.autocast(autocast):\n",
            "Saved 1 image to \u001b[1mdetection_results615\u001b[0m\n",
            "/root/.cache/torch/hub/ultralytics_yolov5_master/models/common.py:892: FutureWarning: `torch.cuda.amp.autocast(args...)` is deprecated. Please use `torch.amp.autocast('cuda', args...)` instead.\n",
            "  with amp.autocast(autocast):\n",
            "Saved 1 image to \u001b[1mdetection_results616\u001b[0m\n",
            "/root/.cache/torch/hub/ultralytics_yolov5_master/models/common.py:892: FutureWarning: `torch.cuda.amp.autocast(args...)` is deprecated. Please use `torch.amp.autocast('cuda', args...)` instead.\n",
            "  with amp.autocast(autocast):\n",
            "Saved 1 image to \u001b[1mdetection_results617\u001b[0m\n",
            "/root/.cache/torch/hub/ultralytics_yolov5_master/models/common.py:892: FutureWarning: `torch.cuda.amp.autocast(args...)` is deprecated. Please use `torch.amp.autocast('cuda', args...)` instead.\n",
            "  with amp.autocast(autocast):\n",
            "Saved 1 image to \u001b[1mdetection_results618\u001b[0m\n",
            "/root/.cache/torch/hub/ultralytics_yolov5_master/models/common.py:892: FutureWarning: `torch.cuda.amp.autocast(args...)` is deprecated. Please use `torch.amp.autocast('cuda', args...)` instead.\n",
            "  with amp.autocast(autocast):\n",
            "Saved 1 image to \u001b[1mdetection_results619\u001b[0m\n",
            "/root/.cache/torch/hub/ultralytics_yolov5_master/models/common.py:892: FutureWarning: `torch.cuda.amp.autocast(args...)` is deprecated. Please use `torch.amp.autocast('cuda', args...)` instead.\n",
            "  with amp.autocast(autocast):\n",
            "Saved 1 image to \u001b[1mdetection_results620\u001b[0m\n",
            "/root/.cache/torch/hub/ultralytics_yolov5_master/models/common.py:892: FutureWarning: `torch.cuda.amp.autocast(args...)` is deprecated. Please use `torch.amp.autocast('cuda', args...)` instead.\n",
            "  with amp.autocast(autocast):\n",
            "Saved 1 image to \u001b[1mdetection_results621\u001b[0m\n",
            "/root/.cache/torch/hub/ultralytics_yolov5_master/models/common.py:892: FutureWarning: `torch.cuda.amp.autocast(args...)` is deprecated. Please use `torch.amp.autocast('cuda', args...)` instead.\n",
            "  with amp.autocast(autocast):\n",
            "Saved 1 image to \u001b[1mdetection_results622\u001b[0m\n",
            "/root/.cache/torch/hub/ultralytics_yolov5_master/models/common.py:892: FutureWarning: `torch.cuda.amp.autocast(args...)` is deprecated. Please use `torch.amp.autocast('cuda', args...)` instead.\n",
            "  with amp.autocast(autocast):\n",
            "Saved 1 image to \u001b[1mdetection_results623\u001b[0m\n",
            "/root/.cache/torch/hub/ultralytics_yolov5_master/models/common.py:892: FutureWarning: `torch.cuda.amp.autocast(args...)` is deprecated. Please use `torch.amp.autocast('cuda', args...)` instead.\n",
            "  with amp.autocast(autocast):\n",
            "Saved 1 image to \u001b[1mdetection_results624\u001b[0m\n",
            "/root/.cache/torch/hub/ultralytics_yolov5_master/models/common.py:892: FutureWarning: `torch.cuda.amp.autocast(args...)` is deprecated. Please use `torch.amp.autocast('cuda', args...)` instead.\n",
            "  with amp.autocast(autocast):\n",
            "Saved 1 image to \u001b[1mdetection_results625\u001b[0m\n",
            "/root/.cache/torch/hub/ultralytics_yolov5_master/models/common.py:892: FutureWarning: `torch.cuda.amp.autocast(args...)` is deprecated. Please use `torch.amp.autocast('cuda', args...)` instead.\n",
            "  with amp.autocast(autocast):\n",
            "Saved 1 image to \u001b[1mdetection_results626\u001b[0m\n",
            "/root/.cache/torch/hub/ultralytics_yolov5_master/models/common.py:892: FutureWarning: `torch.cuda.amp.autocast(args...)` is deprecated. Please use `torch.amp.autocast('cuda', args...)` instead.\n",
            "  with amp.autocast(autocast):\n",
            "Saved 1 image to \u001b[1mdetection_results627\u001b[0m\n",
            "/root/.cache/torch/hub/ultralytics_yolov5_master/models/common.py:892: FutureWarning: `torch.cuda.amp.autocast(args...)` is deprecated. Please use `torch.amp.autocast('cuda', args...)` instead.\n",
            "  with amp.autocast(autocast):\n",
            "Saved 1 image to \u001b[1mdetection_results628\u001b[0m\n",
            "/root/.cache/torch/hub/ultralytics_yolov5_master/models/common.py:892: FutureWarning: `torch.cuda.amp.autocast(args...)` is deprecated. Please use `torch.amp.autocast('cuda', args...)` instead.\n",
            "  with amp.autocast(autocast):\n",
            "Saved 1 image to \u001b[1mdetection_results629\u001b[0m\n",
            "/root/.cache/torch/hub/ultralytics_yolov5_master/models/common.py:892: FutureWarning: `torch.cuda.amp.autocast(args...)` is deprecated. Please use `torch.amp.autocast('cuda', args...)` instead.\n",
            "  with amp.autocast(autocast):\n",
            "Saved 1 image to \u001b[1mdetection_results630\u001b[0m\n",
            "/root/.cache/torch/hub/ultralytics_yolov5_master/models/common.py:892: FutureWarning: `torch.cuda.amp.autocast(args...)` is deprecated. Please use `torch.amp.autocast('cuda', args...)` instead.\n",
            "  with amp.autocast(autocast):\n",
            "Saved 1 image to \u001b[1mdetection_results631\u001b[0m\n",
            "/root/.cache/torch/hub/ultralytics_yolov5_master/models/common.py:892: FutureWarning: `torch.cuda.amp.autocast(args...)` is deprecated. Please use `torch.amp.autocast('cuda', args...)` instead.\n",
            "  with amp.autocast(autocast):\n",
            "Saved 1 image to \u001b[1mdetection_results632\u001b[0m\n",
            "/root/.cache/torch/hub/ultralytics_yolov5_master/models/common.py:892: FutureWarning: `torch.cuda.amp.autocast(args...)` is deprecated. Please use `torch.amp.autocast('cuda', args...)` instead.\n",
            "  with amp.autocast(autocast):\n",
            "Saved 1 image to \u001b[1mdetection_results633\u001b[0m\n",
            "/root/.cache/torch/hub/ultralytics_yolov5_master/models/common.py:892: FutureWarning: `torch.cuda.amp.autocast(args...)` is deprecated. Please use `torch.amp.autocast('cuda', args...)` instead.\n",
            "  with amp.autocast(autocast):\n",
            "Saved 1 image to \u001b[1mdetection_results634\u001b[0m\n",
            "/root/.cache/torch/hub/ultralytics_yolov5_master/models/common.py:892: FutureWarning: `torch.cuda.amp.autocast(args...)` is deprecated. Please use `torch.amp.autocast('cuda', args...)` instead.\n",
            "  with amp.autocast(autocast):\n",
            "Saved 1 image to \u001b[1mdetection_results635\u001b[0m\n",
            "/root/.cache/torch/hub/ultralytics_yolov5_master/models/common.py:892: FutureWarning: `torch.cuda.amp.autocast(args...)` is deprecated. Please use `torch.amp.autocast('cuda', args...)` instead.\n",
            "  with amp.autocast(autocast):\n",
            "Saved 1 image to \u001b[1mdetection_results636\u001b[0m\n",
            "/root/.cache/torch/hub/ultralytics_yolov5_master/models/common.py:892: FutureWarning: `torch.cuda.amp.autocast(args...)` is deprecated. Please use `torch.amp.autocast('cuda', args...)` instead.\n",
            "  with amp.autocast(autocast):\n",
            "Saved 1 image to \u001b[1mdetection_results637\u001b[0m\n",
            "/root/.cache/torch/hub/ultralytics_yolov5_master/models/common.py:892: FutureWarning: `torch.cuda.amp.autocast(args...)` is deprecated. Please use `torch.amp.autocast('cuda', args...)` instead.\n",
            "  with amp.autocast(autocast):\n",
            "Saved 1 image to \u001b[1mdetection_results638\u001b[0m\n",
            "/root/.cache/torch/hub/ultralytics_yolov5_master/models/common.py:892: FutureWarning: `torch.cuda.amp.autocast(args...)` is deprecated. Please use `torch.amp.autocast('cuda', args...)` instead.\n",
            "  with amp.autocast(autocast):\n",
            "Saved 1 image to \u001b[1mdetection_results639\u001b[0m\n",
            "/root/.cache/torch/hub/ultralytics_yolov5_master/models/common.py:892: FutureWarning: `torch.cuda.amp.autocast(args...)` is deprecated. Please use `torch.amp.autocast('cuda', args...)` instead.\n",
            "  with amp.autocast(autocast):\n",
            "Saved 1 image to \u001b[1mdetection_results640\u001b[0m\n",
            "/root/.cache/torch/hub/ultralytics_yolov5_master/models/common.py:892: FutureWarning: `torch.cuda.amp.autocast(args...)` is deprecated. Please use `torch.amp.autocast('cuda', args...)` instead.\n",
            "  with amp.autocast(autocast):\n",
            "Saved 1 image to \u001b[1mdetection_results641\u001b[0m\n",
            "/root/.cache/torch/hub/ultralytics_yolov5_master/models/common.py:892: FutureWarning: `torch.cuda.amp.autocast(args...)` is deprecated. Please use `torch.amp.autocast('cuda', args...)` instead.\n",
            "  with amp.autocast(autocast):\n",
            "Saved 1 image to \u001b[1mdetection_results642\u001b[0m\n",
            "/root/.cache/torch/hub/ultralytics_yolov5_master/models/common.py:892: FutureWarning: `torch.cuda.amp.autocast(args...)` is deprecated. Please use `torch.amp.autocast('cuda', args...)` instead.\n",
            "  with amp.autocast(autocast):\n",
            "Saved 1 image to \u001b[1mdetection_results643\u001b[0m\n",
            "/root/.cache/torch/hub/ultralytics_yolov5_master/models/common.py:892: FutureWarning: `torch.cuda.amp.autocast(args...)` is deprecated. Please use `torch.amp.autocast('cuda', args...)` instead.\n",
            "  with amp.autocast(autocast):\n",
            "Saved 1 image to \u001b[1mdetection_results644\u001b[0m\n",
            "/root/.cache/torch/hub/ultralytics_yolov5_master/models/common.py:892: FutureWarning: `torch.cuda.amp.autocast(args...)` is deprecated. Please use `torch.amp.autocast('cuda', args...)` instead.\n",
            "  with amp.autocast(autocast):\n",
            "Saved 1 image to \u001b[1mdetection_results645\u001b[0m\n",
            "/root/.cache/torch/hub/ultralytics_yolov5_master/models/common.py:892: FutureWarning: `torch.cuda.amp.autocast(args...)` is deprecated. Please use `torch.amp.autocast('cuda', args...)` instead.\n",
            "  with amp.autocast(autocast):\n",
            "Saved 1 image to \u001b[1mdetection_results646\u001b[0m\n",
            "/root/.cache/torch/hub/ultralytics_yolov5_master/models/common.py:892: FutureWarning: `torch.cuda.amp.autocast(args...)` is deprecated. Please use `torch.amp.autocast('cuda', args...)` instead.\n",
            "  with amp.autocast(autocast):\n",
            "Saved 1 image to \u001b[1mdetection_results647\u001b[0m\n",
            "/root/.cache/torch/hub/ultralytics_yolov5_master/models/common.py:892: FutureWarning: `torch.cuda.amp.autocast(args...)` is deprecated. Please use `torch.amp.autocast('cuda', args...)` instead.\n",
            "  with amp.autocast(autocast):\n",
            "Saved 1 image to \u001b[1mdetection_results648\u001b[0m\n",
            "/root/.cache/torch/hub/ultralytics_yolov5_master/models/common.py:892: FutureWarning: `torch.cuda.amp.autocast(args...)` is deprecated. Please use `torch.amp.autocast('cuda', args...)` instead.\n",
            "  with amp.autocast(autocast):\n",
            "Saved 1 image to \u001b[1mdetection_results649\u001b[0m\n",
            "/root/.cache/torch/hub/ultralytics_yolov5_master/models/common.py:892: FutureWarning: `torch.cuda.amp.autocast(args...)` is deprecated. Please use `torch.amp.autocast('cuda', args...)` instead.\n",
            "  with amp.autocast(autocast):\n",
            "Saved 1 image to \u001b[1mdetection_results650\u001b[0m\n",
            "/root/.cache/torch/hub/ultralytics_yolov5_master/models/common.py:892: FutureWarning: `torch.cuda.amp.autocast(args...)` is deprecated. Please use `torch.amp.autocast('cuda', args...)` instead.\n",
            "  with amp.autocast(autocast):\n",
            "Saved 1 image to \u001b[1mdetection_results651\u001b[0m\n",
            "/root/.cache/torch/hub/ultralytics_yolov5_master/models/common.py:892: FutureWarning: `torch.cuda.amp.autocast(args...)` is deprecated. Please use `torch.amp.autocast('cuda', args...)` instead.\n",
            "  with amp.autocast(autocast):\n",
            "Saved 1 image to \u001b[1mdetection_results652\u001b[0m\n",
            "/root/.cache/torch/hub/ultralytics_yolov5_master/models/common.py:892: FutureWarning: `torch.cuda.amp.autocast(args...)` is deprecated. Please use `torch.amp.autocast('cuda', args...)` instead.\n",
            "  with amp.autocast(autocast):\n",
            "Saved 1 image to \u001b[1mdetection_results653\u001b[0m\n",
            "/root/.cache/torch/hub/ultralytics_yolov5_master/models/common.py:892: FutureWarning: `torch.cuda.amp.autocast(args...)` is deprecated. Please use `torch.amp.autocast('cuda', args...)` instead.\n",
            "  with amp.autocast(autocast):\n",
            "Saved 1 image to \u001b[1mdetection_results654\u001b[0m\n",
            "/root/.cache/torch/hub/ultralytics_yolov5_master/models/common.py:892: FutureWarning: `torch.cuda.amp.autocast(args...)` is deprecated. Please use `torch.amp.autocast('cuda', args...)` instead.\n",
            "  with amp.autocast(autocast):\n",
            "Saved 1 image to \u001b[1mdetection_results655\u001b[0m\n",
            "/root/.cache/torch/hub/ultralytics_yolov5_master/models/common.py:892: FutureWarning: `torch.cuda.amp.autocast(args...)` is deprecated. Please use `torch.amp.autocast('cuda', args...)` instead.\n",
            "  with amp.autocast(autocast):\n",
            "Saved 1 image to \u001b[1mdetection_results656\u001b[0m\n",
            "/root/.cache/torch/hub/ultralytics_yolov5_master/models/common.py:892: FutureWarning: `torch.cuda.amp.autocast(args...)` is deprecated. Please use `torch.amp.autocast('cuda', args...)` instead.\n",
            "  with amp.autocast(autocast):\n",
            "Saved 1 image to \u001b[1mdetection_results657\u001b[0m\n",
            "/root/.cache/torch/hub/ultralytics_yolov5_master/models/common.py:892: FutureWarning: `torch.cuda.amp.autocast(args...)` is deprecated. Please use `torch.amp.autocast('cuda', args...)` instead.\n",
            "  with amp.autocast(autocast):\n",
            "Saved 1 image to \u001b[1mdetection_results658\u001b[0m\n",
            "/root/.cache/torch/hub/ultralytics_yolov5_master/models/common.py:892: FutureWarning: `torch.cuda.amp.autocast(args...)` is deprecated. Please use `torch.amp.autocast('cuda', args...)` instead.\n",
            "  with amp.autocast(autocast):\n",
            "Saved 1 image to \u001b[1mdetection_results659\u001b[0m\n",
            "/root/.cache/torch/hub/ultralytics_yolov5_master/models/common.py:892: FutureWarning: `torch.cuda.amp.autocast(args...)` is deprecated. Please use `torch.amp.autocast('cuda', args...)` instead.\n",
            "  with amp.autocast(autocast):\n",
            "Saved 1 image to \u001b[1mdetection_results660\u001b[0m\n",
            "/root/.cache/torch/hub/ultralytics_yolov5_master/models/common.py:892: FutureWarning: `torch.cuda.amp.autocast(args...)` is deprecated. Please use `torch.amp.autocast('cuda', args...)` instead.\n",
            "  with amp.autocast(autocast):\n",
            "Saved 1 image to \u001b[1mdetection_results661\u001b[0m\n",
            "/root/.cache/torch/hub/ultralytics_yolov5_master/models/common.py:892: FutureWarning: `torch.cuda.amp.autocast(args...)` is deprecated. Please use `torch.amp.autocast('cuda', args...)` instead.\n",
            "  with amp.autocast(autocast):\n",
            "Saved 1 image to \u001b[1mdetection_results662\u001b[0m\n",
            "/root/.cache/torch/hub/ultralytics_yolov5_master/models/common.py:892: FutureWarning: `torch.cuda.amp.autocast(args...)` is deprecated. Please use `torch.amp.autocast('cuda', args...)` instead.\n",
            "  with amp.autocast(autocast):\n",
            "Saved 1 image to \u001b[1mdetection_results663\u001b[0m\n",
            "/root/.cache/torch/hub/ultralytics_yolov5_master/models/common.py:892: FutureWarning: `torch.cuda.amp.autocast(args...)` is deprecated. Please use `torch.amp.autocast('cuda', args...)` instead.\n",
            "  with amp.autocast(autocast):\n",
            "Saved 1 image to \u001b[1mdetection_results664\u001b[0m\n",
            "/root/.cache/torch/hub/ultralytics_yolov5_master/models/common.py:892: FutureWarning: `torch.cuda.amp.autocast(args...)` is deprecated. Please use `torch.amp.autocast('cuda', args...)` instead.\n",
            "  with amp.autocast(autocast):\n",
            "Saved 1 image to \u001b[1mdetection_results665\u001b[0m\n",
            "/root/.cache/torch/hub/ultralytics_yolov5_master/models/common.py:892: FutureWarning: `torch.cuda.amp.autocast(args...)` is deprecated. Please use `torch.amp.autocast('cuda', args...)` instead.\n",
            "  with amp.autocast(autocast):\n",
            "Saved 1 image to \u001b[1mdetection_results666\u001b[0m\n",
            "/root/.cache/torch/hub/ultralytics_yolov5_master/models/common.py:892: FutureWarning: `torch.cuda.amp.autocast(args...)` is deprecated. Please use `torch.amp.autocast('cuda', args...)` instead.\n",
            "  with amp.autocast(autocast):\n",
            "Saved 1 image to \u001b[1mdetection_results667\u001b[0m\n",
            "/root/.cache/torch/hub/ultralytics_yolov5_master/models/common.py:892: FutureWarning: `torch.cuda.amp.autocast(args...)` is deprecated. Please use `torch.amp.autocast('cuda', args...)` instead.\n",
            "  with amp.autocast(autocast):\n",
            "Saved 1 image to \u001b[1mdetection_results668\u001b[0m\n",
            "/root/.cache/torch/hub/ultralytics_yolov5_master/models/common.py:892: FutureWarning: `torch.cuda.amp.autocast(args...)` is deprecated. Please use `torch.amp.autocast('cuda', args...)` instead.\n",
            "  with amp.autocast(autocast):\n",
            "Saved 1 image to \u001b[1mdetection_results669\u001b[0m\n"
          ]
        }
      ]
    },
    {
      "cell_type": "code",
      "source": [
        "import pandas as pd\n",
        "import os\n",
        "\n",
        "# Process results to extract bounding box, class labels, and confidence scores\n",
        "for img_name in os.listdir(image_folder):\n",
        "    img_path = os.path.join(image_folder, img_name)\n",
        "\n",
        "    # Filter for images only\n",
        "    if any(title in img_name for title in filtered_titles) and img_name.lower().endswith(('.jpg', '.jpeg', '.png')):\n",
        "        # Run object detection\n",
        "        results = model(img_path)\n",
        "\n",
        "        # Extract data from results\n",
        "        detections = results.pandas().xyxy[0]  # Pandas dataframe of detection results\n",
        "        print(f\"Detections for {img_name}:\")\n",
        "        print(detections[['name', 'confidence', 'xmin', 'ymin', 'xmax', 'ymax']])\n",
        "\n",
        "        # Save detections to CSV file\n",
        "        output_path = f'detection_results/{img_name}_detections.csv'\n",
        "        os.makedirs(os.path.dirname(output_path), exist_ok=True)  # Create folder if it doesn't exist\n",
        "        detections[['name', 'confidence', 'xmin', 'ymin', 'xmax', 'ymax']].to_csv(output_path, index=False)\n"
      ],
      "metadata": {
        "id": "l-3v2RtcOWVA",
        "colab": {
          "base_uri": "https://localhost:8080/"
        },
        "collapsed": true,
        "outputId": "c68d8a0e-11a2-4590-ae7d-0c7e6b6352c5"
      },
      "execution_count": 24,
      "outputs": [
        {
          "output_type": "stream",
          "name": "stderr",
          "text": [
            "/root/.cache/torch/hub/ultralytics_yolov5_master/models/common.py:892: FutureWarning: `torch.cuda.amp.autocast(args...)` is deprecated. Please use `torch.amp.autocast('cuda', args...)` instead.\n",
            "  with amp.autocast(autocast):\n"
          ]
        },
        {
          "output_type": "stream",
          "name": "stdout",
          "text": [
            "Detections for @CheMed123_26.jpg:\n",
            "  name  confidence       xmin       ymin         xmax        ymax\n",
            "0  cup    0.403796  735.14856  17.689301  1278.567749  730.019043\n"
          ]
        },
        {
          "output_type": "stream",
          "name": "stderr",
          "text": [
            "/root/.cache/torch/hub/ultralytics_yolov5_master/models/common.py:892: FutureWarning: `torch.cuda.amp.autocast(args...)` is deprecated. Please use `torch.amp.autocast('cuda', args...)` instead.\n",
            "  with amp.autocast(autocast):\n"
          ]
        },
        {
          "output_type": "stream",
          "name": "stdout",
          "text": [
            "Detections for @CheMed123_25.jpg:\n",
            "         name  confidence        xmin        ymin        xmax        ymax\n",
            "0  cell phone    0.544860  478.626678  147.828323  779.066895  624.797974\n",
            "1      person    0.537234  304.829895  505.348389  845.117188  782.692078\n"
          ]
        },
        {
          "output_type": "stream",
          "name": "stderr",
          "text": [
            "/root/.cache/torch/hub/ultralytics_yolov5_master/models/common.py:892: FutureWarning: `torch.cuda.amp.autocast(args...)` is deprecated. Please use `torch.amp.autocast('cuda', args...)` instead.\n",
            "  with amp.autocast(autocast):\n"
          ]
        },
        {
          "output_type": "stream",
          "name": "stdout",
          "text": [
            "Detections for @CheMed123_23.jpg:\n",
            "Empty DataFrame\n",
            "Columns: [name, confidence, xmin, ymin, xmax, ymax]\n",
            "Index: []\n"
          ]
        },
        {
          "output_type": "stream",
          "name": "stderr",
          "text": [
            "/root/.cache/torch/hub/ultralytics_yolov5_master/models/common.py:892: FutureWarning: `torch.cuda.amp.autocast(args...)` is deprecated. Please use `torch.amp.autocast('cuda', args...)` instead.\n",
            "  with amp.autocast(autocast):\n"
          ]
        },
        {
          "output_type": "stream",
          "name": "stdout",
          "text": [
            "Detections for @CheMed123_22.jpg:\n",
            "         name  confidence        xmin       ymin        xmax        ymax\n",
            "0  cell phone    0.699048  137.839218  143.14830  588.139648  631.168518\n",
            "1  cell phone    0.362618  268.356079   78.36895  814.016052  418.983185\n"
          ]
        },
        {
          "output_type": "stream",
          "name": "stderr",
          "text": [
            "/root/.cache/torch/hub/ultralytics_yolov5_master/models/common.py:892: FutureWarning: `torch.cuda.amp.autocast(args...)` is deprecated. Please use `torch.amp.autocast('cuda', args...)` instead.\n",
            "  with amp.autocast(autocast):\n"
          ]
        },
        {
          "output_type": "stream",
          "name": "stdout",
          "text": [
            "Detections for @CheMed123_21.jpg:\n",
            "Empty DataFrame\n",
            "Columns: [name, confidence, xmin, ymin, xmax, ymax]\n",
            "Index: []\n"
          ]
        },
        {
          "output_type": "stream",
          "name": "stderr",
          "text": [
            "/root/.cache/torch/hub/ultralytics_yolov5_master/models/common.py:892: FutureWarning: `torch.cuda.amp.autocast(args...)` is deprecated. Please use `torch.amp.autocast('cuda', args...)` instead.\n",
            "  with amp.autocast(autocast):\n"
          ]
        },
        {
          "output_type": "stream",
          "name": "stdout",
          "text": [
            "Detections for @CheMed123_20.jpg:\n",
            "     name  confidence         xmin        ymin         xmax        ymax\n",
            "0  person    0.911893    48.459930  387.686127   570.671875  861.487183\n",
            "1  person    0.844647   676.221741  432.538910  1181.538818  883.707886\n",
            "2  person    0.400058  1177.549805   79.024963  1280.000000  852.001770\n",
            "3   chair    0.367656   666.536926  701.023315   710.996521  839.201050\n",
            "4    book    0.271121   730.939331  750.106934   975.868896  951.085815\n"
          ]
        },
        {
          "output_type": "stream",
          "name": "stderr",
          "text": [
            "/root/.cache/torch/hub/ultralytics_yolov5_master/models/common.py:892: FutureWarning: `torch.cuda.amp.autocast(args...)` is deprecated. Please use `torch.amp.autocast('cuda', args...)` instead.\n",
            "  with amp.autocast(autocast):\n"
          ]
        },
        {
          "output_type": "stream",
          "name": "stdout",
          "text": [
            "Detections for @CheMed123_2.jpg:\n",
            "           name  confidence        xmin        ymin        xmax        ymax\n",
            "0   sports ball    0.710505  694.012634  609.407288  734.429260  653.712036\n",
            "1   sports ball    0.620711  766.988098  611.424561  825.211365  649.699829\n",
            "2   sports ball    0.586021  643.525940  652.717712  689.127014  695.868713\n",
            "3   sports ball    0.547289  209.136932  650.624512  251.018906  694.556396\n",
            "4   sports ball    0.490784  743.804871  591.904785  813.706604  647.603882\n",
            "5   sports ball    0.416993  329.069611  689.729492  386.574677  737.580627\n",
            "6   sports ball    0.398481  703.601929  579.642822  746.053589  615.825500\n",
            "7   sports ball    0.376453  619.433472  621.368713  667.976318  665.665466\n",
            "8   sports ball    0.327824  147.370407  615.531250  188.888885  655.962708\n",
            "9   sports ball    0.267824   85.710304  585.987061  376.057434  688.476379\n",
            "10  sports ball    0.260299  148.874191  595.541992  206.224777  642.190613\n"
          ]
        },
        {
          "output_type": "stream",
          "name": "stderr",
          "text": [
            "/root/.cache/torch/hub/ultralytics_yolov5_master/models/common.py:892: FutureWarning: `torch.cuda.amp.autocast(args...)` is deprecated. Please use `torch.amp.autocast('cuda', args...)` instead.\n",
            "  with amp.autocast(autocast):\n"
          ]
        },
        {
          "output_type": "stream",
          "name": "stdout",
          "text": [
            "Detections for @CheMed123_17.jpg:\n",
            "           name  confidence        xmin        ymin        xmax        ymax\n",
            "0        bottle    0.672029  575.376160  379.736237  607.631653  462.848053\n",
            "1        bottle    0.439900  610.259399  513.444336  638.639160  603.277832\n",
            "2        bottle    0.435741  505.977051  451.349731  543.120117  547.671692\n",
            "3        bottle    0.371445  601.943726  391.876038  631.979004  451.938904\n",
            "4        bottle    0.361403  547.623047  389.812592  579.016602  458.514374\n",
            "5        bottle    0.343432  398.157349  505.850006  442.131653  612.285461\n",
            "6  refrigerator    0.304975  295.614899   46.999237  743.975830  894.479980\n",
            "7        bottle    0.280754  434.181122  537.079407  482.200409  626.185242\n",
            "8        bottle    0.268915  400.906281  287.018677  442.939301  370.329895\n",
            "9        bottle    0.258231  503.724731  588.707214  536.258911  673.066833\n"
          ]
        },
        {
          "output_type": "stream",
          "name": "stderr",
          "text": [
            "/root/.cache/torch/hub/ultralytics_yolov5_master/models/common.py:892: FutureWarning: `torch.cuda.amp.autocast(args...)` is deprecated. Please use `torch.amp.autocast('cuda', args...)` instead.\n",
            "  with amp.autocast(autocast):\n"
          ]
        },
        {
          "output_type": "stream",
          "name": "stdout",
          "text": [
            "Detections for @CheMed123_18.jpg:\n",
            "Empty DataFrame\n",
            "Columns: [name, confidence, xmin, ymin, xmax, ymax]\n",
            "Index: []\n"
          ]
        },
        {
          "output_type": "stream",
          "name": "stderr",
          "text": [
            "/root/.cache/torch/hub/ultralytics_yolov5_master/models/common.py:892: FutureWarning: `torch.cuda.amp.autocast(args...)` is deprecated. Please use `torch.amp.autocast('cuda', args...)` instead.\n",
            "  with amp.autocast(autocast):\n"
          ]
        },
        {
          "output_type": "stream",
          "name": "stdout",
          "text": [
            "Detections for @CheMed123_19.jpg:\n",
            "     name  confidence         xmin        ymin         xmax        ymax\n",
            "0  person    0.911893    48.459930  387.686127   570.671875  861.487183\n",
            "1  person    0.844647   676.221741  432.538910  1181.538818  883.707886\n",
            "2  person    0.400058  1177.549805   79.024963  1280.000000  852.001770\n",
            "3   chair    0.367656   666.536926  701.023315   710.996521  839.201050\n",
            "4    book    0.271121   730.939331  750.106934   975.868896  951.085815\n"
          ]
        },
        {
          "output_type": "stream",
          "name": "stderr",
          "text": [
            "/root/.cache/torch/hub/ultralytics_yolov5_master/models/common.py:892: FutureWarning: `torch.cuda.amp.autocast(args...)` is deprecated. Please use `torch.amp.autocast('cuda', args...)` instead.\n",
            "  with amp.autocast(autocast):\n"
          ]
        },
        {
          "output_type": "stream",
          "name": "stdout",
          "text": [
            "Detections for @CheMed123_15.jpg:\n",
            "Empty DataFrame\n",
            "Columns: [name, confidence, xmin, ymin, xmax, ymax]\n",
            "Index: []\n"
          ]
        },
        {
          "output_type": "stream",
          "name": "stderr",
          "text": [
            "/root/.cache/torch/hub/ultralytics_yolov5_master/models/common.py:892: FutureWarning: `torch.cuda.amp.autocast(args...)` is deprecated. Please use `torch.amp.autocast('cuda', args...)` instead.\n",
            "  with amp.autocast(autocast):\n"
          ]
        },
        {
          "output_type": "stream",
          "name": "stdout",
          "text": [
            "Detections for @CheMed123_13.jpg:\n",
            "          name  confidence        xmin        ymin        xmax        ymax\n",
            "0  sports ball    0.729679  318.366425  394.813049  382.800201  462.255859\n",
            "1  sports ball    0.684086  739.459167  544.979797  807.581970  615.879944\n",
            "2          cup    0.677431  738.390198  542.634155  807.933777  616.783691\n",
            "3  sports ball    0.511538  668.202393  589.573730  730.860596  657.322266\n",
            "4  sports ball    0.450490  231.458694  473.585510  299.499542  536.707520\n",
            "5       carrot    0.433006  484.612061  559.840820  578.427979  645.527222\n",
            "6  sports ball    0.272150  588.231140  584.226318  703.440735  702.941772\n",
            "7          cup    0.255106  773.672363  623.518127  842.302246  695.905701\n"
          ]
        },
        {
          "output_type": "stream",
          "name": "stderr",
          "text": [
            "/root/.cache/torch/hub/ultralytics_yolov5_master/models/common.py:892: FutureWarning: `torch.cuda.amp.autocast(args...)` is deprecated. Please use `torch.amp.autocast('cuda', args...)` instead.\n",
            "  with amp.autocast(autocast):\n"
          ]
        },
        {
          "output_type": "stream",
          "name": "stdout",
          "text": [
            "Detections for @CheMed123_14.jpg:\n",
            "Empty DataFrame\n",
            "Columns: [name, confidence, xmin, ymin, xmax, ymax]\n",
            "Index: []\n"
          ]
        },
        {
          "output_type": "stream",
          "name": "stderr",
          "text": [
            "/root/.cache/torch/hub/ultralytics_yolov5_master/models/common.py:892: FutureWarning: `torch.cuda.amp.autocast(args...)` is deprecated. Please use `torch.amp.autocast('cuda', args...)` instead.\n",
            "  with amp.autocast(autocast):\n"
          ]
        },
        {
          "output_type": "stream",
          "name": "stdout",
          "text": [
            "Detections for @CheMed123_11.jpg:\n",
            "Empty DataFrame\n",
            "Columns: [name, confidence, xmin, ymin, xmax, ymax]\n",
            "Index: []\n"
          ]
        },
        {
          "output_type": "stream",
          "name": "stderr",
          "text": [
            "/root/.cache/torch/hub/ultralytics_yolov5_master/models/common.py:892: FutureWarning: `torch.cuda.amp.autocast(args...)` is deprecated. Please use `torch.amp.autocast('cuda', args...)` instead.\n",
            "  with amp.autocast(autocast):\n"
          ]
        },
        {
          "output_type": "stream",
          "name": "stdout",
          "text": [
            "Detections for @CheMed123_10.jpg:\n",
            "Empty DataFrame\n",
            "Columns: [name, confidence, xmin, ymin, xmax, ymax]\n",
            "Index: []\n"
          ]
        },
        {
          "output_type": "stream",
          "name": "stderr",
          "text": [
            "/root/.cache/torch/hub/ultralytics_yolov5_master/models/common.py:892: FutureWarning: `torch.cuda.amp.autocast(args...)` is deprecated. Please use `torch.amp.autocast('cuda', args...)` instead.\n",
            "  with amp.autocast(autocast):\n"
          ]
        },
        {
          "output_type": "stream",
          "name": "stdout",
          "text": [
            "Detections for @CheMed123_30.jpg:\n",
            "     name  confidence        xmin        ymin        xmax        ymax\n",
            "0  person    0.317212  169.306610  116.599838  432.009827  777.963013\n",
            "1   clock    0.259582  605.912415  156.497681  877.153259  449.297699\n"
          ]
        },
        {
          "output_type": "stream",
          "name": "stderr",
          "text": [
            "/root/.cache/torch/hub/ultralytics_yolov5_master/models/common.py:892: FutureWarning: `torch.cuda.amp.autocast(args...)` is deprecated. Please use `torch.amp.autocast('cuda', args...)` instead.\n",
            "  with amp.autocast(autocast):\n"
          ]
        },
        {
          "output_type": "stream",
          "name": "stdout",
          "text": [
            "Detections for @CheMed123_3.jpg:\n",
            "Empty DataFrame\n",
            "Columns: [name, confidence, xmin, ymin, xmax, ymax]\n",
            "Index: []\n"
          ]
        },
        {
          "output_type": "stream",
          "name": "stderr",
          "text": [
            "/root/.cache/torch/hub/ultralytics_yolov5_master/models/common.py:892: FutureWarning: `torch.cuda.amp.autocast(args...)` is deprecated. Please use `torch.amp.autocast('cuda', args...)` instead.\n",
            "  with amp.autocast(autocast):\n"
          ]
        },
        {
          "output_type": "stream",
          "name": "stdout",
          "text": [
            "Detections for @CheMed123_27.jpg:\n",
            "Empty DataFrame\n",
            "Columns: [name, confidence, xmin, ymin, xmax, ymax]\n",
            "Index: []\n"
          ]
        },
        {
          "output_type": "stream",
          "name": "stderr",
          "text": [
            "/root/.cache/torch/hub/ultralytics_yolov5_master/models/common.py:892: FutureWarning: `torch.cuda.amp.autocast(args...)` is deprecated. Please use `torch.amp.autocast('cuda', args...)` instead.\n",
            "  with amp.autocast(autocast):\n"
          ]
        },
        {
          "output_type": "stream",
          "name": "stdout",
          "text": [
            "Detections for @CheMed123_29.jpg:\n",
            "         name  confidence        xmin        ymin        xmax         ymax\n",
            "0      person    0.647587    2.849976   47.043793  424.473602   960.228882\n",
            "1     frisbee    0.641223  476.081573  835.859253  693.897156  1063.279541\n",
            "2  motorcycle    0.421332  385.928467  492.768860  618.449463  1006.350281\n"
          ]
        },
        {
          "output_type": "stream",
          "name": "stderr",
          "text": [
            "/root/.cache/torch/hub/ultralytics_yolov5_master/models/common.py:892: FutureWarning: `torch.cuda.amp.autocast(args...)` is deprecated. Please use `torch.amp.autocast('cuda', args...)` instead.\n",
            "  with amp.autocast(autocast):\n"
          ]
        },
        {
          "output_type": "stream",
          "name": "stdout",
          "text": [
            "Detections for @CheMed123_31.jpg:\n",
            "           name  confidence        xmin        ymin        xmax        ymax\n",
            "0        bottle    0.665458  575.391968  379.651978  607.572876  462.765808\n",
            "1        bottle    0.441411  505.947754  451.101440  543.062988  547.977295\n",
            "2        bottle    0.440981  610.182312  513.144470  638.696594  603.373596\n",
            "3        bottle    0.372860  601.915100  391.862762  631.961853  452.176117\n",
            "4        bottle    0.356146  547.596924  389.668182  579.092896  457.973175\n",
            "5        bottle    0.352985  398.049896  505.606171  442.209076  612.510132\n",
            "6  refrigerator    0.301540  294.992371   47.041321  743.797913  892.147522\n",
            "7        bottle    0.280549  434.289215  537.001404  482.314056  625.838440\n",
            "8        bottle    0.277430  400.934601  287.164368  442.911407  370.231873\n",
            "9        bottle    0.261580  503.835449  588.662292  536.245483  673.241028\n"
          ]
        },
        {
          "output_type": "stream",
          "name": "stderr",
          "text": [
            "/root/.cache/torch/hub/ultralytics_yolov5_master/models/common.py:892: FutureWarning: `torch.cuda.amp.autocast(args...)` is deprecated. Please use `torch.amp.autocast('cuda', args...)` instead.\n",
            "  with amp.autocast(autocast):\n"
          ]
        },
        {
          "output_type": "stream",
          "name": "stdout",
          "text": [
            "Detections for @CheMed123_75.jpg:\n",
            "     name  confidence        xmin        ymin    xmax         ymax\n",
            "0  person    0.687105  620.908936  400.859985  1080.0  1075.027466\n"
          ]
        },
        {
          "output_type": "stream",
          "name": "stderr",
          "text": [
            "/root/.cache/torch/hub/ultralytics_yolov5_master/models/common.py:892: FutureWarning: `torch.cuda.amp.autocast(args...)` is deprecated. Please use `torch.amp.autocast('cuda', args...)` instead.\n",
            "  with amp.autocast(autocast):\n"
          ]
        },
        {
          "output_type": "stream",
          "name": "stdout",
          "text": [
            "Detections for @CheMed123_76.jpg:\n",
            "     name  confidence        xmin         ymin        xmax         ymax\n",
            "0  person    0.642818  117.061096   231.401794  571.779480  1260.427490\n",
            "1   mouse    0.334384  565.132324  1199.600586  640.591553  1273.587402\n"
          ]
        },
        {
          "output_type": "stream",
          "name": "stderr",
          "text": [
            "/root/.cache/torch/hub/ultralytics_yolov5_master/models/common.py:892: FutureWarning: `torch.cuda.amp.autocast(args...)` is deprecated. Please use `torch.amp.autocast('cuda', args...)` instead.\n",
            "  with amp.autocast(autocast):\n"
          ]
        },
        {
          "output_type": "stream",
          "name": "stdout",
          "text": [
            "Detections for @CheMed123_74.jpg:\n",
            "Empty DataFrame\n",
            "Columns: [name, confidence, xmin, ymin, xmax, ymax]\n",
            "Index: []\n"
          ]
        },
        {
          "output_type": "stream",
          "name": "stderr",
          "text": [
            "/root/.cache/torch/hub/ultralytics_yolov5_master/models/common.py:892: FutureWarning: `torch.cuda.amp.autocast(args...)` is deprecated. Please use `torch.amp.autocast('cuda', args...)` instead.\n",
            "  with amp.autocast(autocast):\n"
          ]
        },
        {
          "output_type": "stream",
          "name": "stdout",
          "text": [
            "Detections for @CheMed123_70.jpg:\n",
            "           name  confidence        xmin        ymin        xmax         ymax\n",
            "0  potted plant    0.882313  477.862366  531.666687  720.000000   900.623230\n",
            "1        person    0.761417  236.276840  166.251968  534.769165  1049.031860\n",
            "2            tv    0.463562  267.204956  155.471313  519.955627   324.422180\n",
            "3  potted plant    0.445947   60.263969  452.089081  166.497269   674.924988\n"
          ]
        },
        {
          "output_type": "stream",
          "name": "stderr",
          "text": [
            "/root/.cache/torch/hub/ultralytics_yolov5_master/models/common.py:892: FutureWarning: `torch.cuda.amp.autocast(args...)` is deprecated. Please use `torch.amp.autocast('cuda', args...)` instead.\n",
            "  with amp.autocast(autocast):\n"
          ]
        },
        {
          "output_type": "stream",
          "name": "stdout",
          "text": [
            "Detections for @CheMed123_67.jpg:\n",
            "        name  confidence       xmin        ymin        xmax         ymax\n",
            "0  stop sign    0.859066  75.144173  833.502502  240.192261  1060.079224\n",
            "Detections for @CheMed123_71.jpg:\n",
            "          name  confidence        xmin        ymin        xmax         ymax\n",
            "0       person    0.935870  165.937332  345.299133  405.706909  1068.729004\n",
            "1       person    0.827497   24.779991  444.099670   91.710861   587.616516\n",
            "2  sports ball    0.264205  494.891266  660.977539  566.365723   729.155884\n"
          ]
        },
        {
          "output_type": "stream",
          "name": "stderr",
          "text": [
            "/root/.cache/torch/hub/ultralytics_yolov5_master/models/common.py:892: FutureWarning: `torch.cuda.amp.autocast(args...)` is deprecated. Please use `torch.amp.autocast('cuda', args...)` instead.\n",
            "  with amp.autocast(autocast):\n",
            "/root/.cache/torch/hub/ultralytics_yolov5_master/models/common.py:892: FutureWarning: `torch.cuda.amp.autocast(args...)` is deprecated. Please use `torch.amp.autocast('cuda', args...)` instead.\n",
            "  with amp.autocast(autocast):\n"
          ]
        },
        {
          "output_type": "stream",
          "name": "stdout",
          "text": [
            "Detections for @CheMed123_64.jpg:\n",
            "     name  confidence        xmin        ymin         xmax         ymax\n",
            "0  person    0.349511   17.395391  603.690247  1071.736816  1075.442749\n",
            "1   clock    0.256418  868.830444  690.241455   990.769409   885.409851\n"
          ]
        },
        {
          "output_type": "stream",
          "name": "stderr",
          "text": [
            "/root/.cache/torch/hub/ultralytics_yolov5_master/models/common.py:892: FutureWarning: `torch.cuda.amp.autocast(args...)` is deprecated. Please use `torch.amp.autocast('cuda', args...)` instead.\n",
            "  with amp.autocast(autocast):\n"
          ]
        },
        {
          "output_type": "stream",
          "name": "stdout",
          "text": [
            "Detections for @CheMed123_56.jpg:\n",
            "     name  confidence        xmin       ymin         xmax         ymax\n",
            "0  person    0.700148  360.629852  302.31369  1277.049683  1263.976807\n"
          ]
        },
        {
          "output_type": "stream",
          "name": "stderr",
          "text": [
            "/root/.cache/torch/hub/ultralytics_yolov5_master/models/common.py:892: FutureWarning: `torch.cuda.amp.autocast(args...)` is deprecated. Please use `torch.amp.autocast('cuda', args...)` instead.\n",
            "  with amp.autocast(autocast):\n"
          ]
        },
        {
          "output_type": "stream",
          "name": "stdout",
          "text": [
            "Detections for @CheMed123_60.jpg:\n",
            "Empty DataFrame\n",
            "Columns: [name, confidence, xmin, ymin, xmax, ymax]\n",
            "Index: []\n"
          ]
        },
        {
          "output_type": "stream",
          "name": "stderr",
          "text": [
            "/root/.cache/torch/hub/ultralytics_yolov5_master/models/common.py:892: FutureWarning: `torch.cuda.amp.autocast(args...)` is deprecated. Please use `torch.amp.autocast('cuda', args...)` instead.\n",
            "  with amp.autocast(autocast):\n"
          ]
        },
        {
          "output_type": "stream",
          "name": "stdout",
          "text": [
            "Detections for @CheMed123_59.jpg:\n",
            "     name  confidence       xmin        ymin        xmax        ymax\n",
            "0  bottle    0.402012  46.036556  178.295929  454.469727  893.836121\n"
          ]
        },
        {
          "output_type": "stream",
          "name": "stderr",
          "text": [
            "/root/.cache/torch/hub/ultralytics_yolov5_master/models/common.py:892: FutureWarning: `torch.cuda.amp.autocast(args...)` is deprecated. Please use `torch.amp.autocast('cuda', args...)` instead.\n",
            "  with amp.autocast(autocast):\n"
          ]
        },
        {
          "output_type": "stream",
          "name": "stdout",
          "text": [
            "Detections for @CheMed123_57.jpg:\n",
            "           name  confidence         xmin        ymin         xmax        ymax\n",
            "0        person    0.908387   562.244263  159.780121   688.158936  567.600220\n",
            "1  potted plant    0.863812  1164.740601  197.673187  1280.000000  469.627350\n",
            "2  potted plant    0.827519   844.928162  209.835831   922.003845  320.935120\n",
            "3  potted plant    0.781672   802.552917  311.051178   846.451477  391.736359\n",
            "4  potted plant    0.613922   700.967224  308.676422   728.773499  349.239960\n",
            "5  potted plant    0.378822  1136.036255    7.695206  1204.340454  227.947403\n"
          ]
        },
        {
          "output_type": "stream",
          "name": "stderr",
          "text": [
            "/root/.cache/torch/hub/ultralytics_yolov5_master/models/common.py:892: FutureWarning: `torch.cuda.amp.autocast(args...)` is deprecated. Please use `torch.amp.autocast('cuda', args...)` instead.\n",
            "  with amp.autocast(autocast):\n"
          ]
        },
        {
          "output_type": "stream",
          "name": "stdout",
          "text": [
            "Detections for @CheMed123_53.jpg:\n",
            "Empty DataFrame\n",
            "Columns: [name, confidence, xmin, ymin, xmax, ymax]\n",
            "Index: []\n"
          ]
        },
        {
          "output_type": "stream",
          "name": "stderr",
          "text": [
            "/root/.cache/torch/hub/ultralytics_yolov5_master/models/common.py:892: FutureWarning: `torch.cuda.amp.autocast(args...)` is deprecated. Please use `torch.amp.autocast('cuda', args...)` instead.\n",
            "  with amp.autocast(autocast):\n"
          ]
        },
        {
          "output_type": "stream",
          "name": "stdout",
          "text": [
            "Detections for @CheMed123_58.jpg:\n",
            "           name  confidence        xmin        ymin        xmax        ymax\n",
            "0   sports ball    0.700745  693.775513  609.432373  734.635742  653.518738\n",
            "1   sports ball    0.615900  766.118347  611.078857  825.758362  649.003235\n",
            "2   sports ball    0.584152  643.458496  652.628601  688.964050  695.828064\n",
            "3   sports ball    0.572899  208.967056  650.584412  251.172150  694.486206\n",
            "4   sports ball    0.501158  743.877441  591.112305  812.663086  647.527710\n",
            "5   sports ball    0.450718  703.478027  579.782471  746.118408  615.723572\n",
            "6   sports ball    0.445139  329.025024  689.776550  386.841736  737.629089\n",
            "7   sports ball    0.354355  619.335083  621.338928  668.030762  665.835999\n",
            "8   sports ball    0.345908  147.242844  615.598633  188.790344  655.920410\n",
            "9   sports ball    0.259906  798.638245  660.724060  839.886902  714.300842\n",
            "10  sports ball    0.259793   85.212387  584.888489  376.978210  689.132080\n",
            "11  sports ball    0.258465  148.712204  596.089661  204.920914  645.048767\n"
          ]
        },
        {
          "output_type": "stream",
          "name": "stderr",
          "text": [
            "/root/.cache/torch/hub/ultralytics_yolov5_master/models/common.py:892: FutureWarning: `torch.cuda.amp.autocast(args...)` is deprecated. Please use `torch.amp.autocast('cuda', args...)` instead.\n",
            "  with amp.autocast(autocast):\n"
          ]
        },
        {
          "output_type": "stream",
          "name": "stdout",
          "text": [
            "Detections for @CheMed123_55.jpg:\n",
            "        name  confidence        xmin        ymin        xmax       ymax\n",
            "0  stop sign    0.871988  807.468201  732.123108  989.196838  982.43689\n"
          ]
        },
        {
          "output_type": "stream",
          "name": "stderr",
          "text": [
            "/root/.cache/torch/hub/ultralytics_yolov5_master/models/common.py:892: FutureWarning: `torch.cuda.amp.autocast(args...)` is deprecated. Please use `torch.amp.autocast('cuda', args...)` instead.\n",
            "  with amp.autocast(autocast):\n"
          ]
        },
        {
          "output_type": "stream",
          "name": "stdout",
          "text": [
            "Detections for @CheMed123_50.jpg:\n",
            "Empty DataFrame\n",
            "Columns: [name, confidence, xmin, ymin, xmax, ymax]\n",
            "Index: []\n"
          ]
        },
        {
          "output_type": "stream",
          "name": "stderr",
          "text": [
            "/root/.cache/torch/hub/ultralytics_yolov5_master/models/common.py:892: FutureWarning: `torch.cuda.amp.autocast(args...)` is deprecated. Please use `torch.amp.autocast('cuda', args...)` instead.\n",
            "  with amp.autocast(autocast):\n"
          ]
        },
        {
          "output_type": "stream",
          "name": "stdout",
          "text": [
            "Detections for @CheMed123_48.jpg:\n",
            "    name  confidence        xmin        ymin         xmax    ymax\n",
            "0  clock     0.31656  702.061279  777.950684  1075.537476  1080.0\n"
          ]
        },
        {
          "output_type": "stream",
          "name": "stderr",
          "text": [
            "/root/.cache/torch/hub/ultralytics_yolov5_master/models/common.py:892: FutureWarning: `torch.cuda.amp.autocast(args...)` is deprecated. Please use `torch.amp.autocast('cuda', args...)` instead.\n",
            "  with amp.autocast(autocast):\n"
          ]
        },
        {
          "output_type": "stream",
          "name": "stdout",
          "text": [
            "Detections for @CheMed123_52.jpg:\n",
            "     name  confidence        xmin        ymin         xmax        ymax\n",
            "0   horse    0.842116  578.661682  425.176575   789.260010  797.940186\n",
            "1  person    0.734826  574.026428  382.565643   663.294922  505.033295\n",
            "2  person    0.732303  791.175049  420.734283   984.532471  819.085754\n",
            "3  person    0.497806  950.849182  392.506409  1079.821411  815.187927\n"
          ]
        },
        {
          "output_type": "stream",
          "name": "stderr",
          "text": [
            "/root/.cache/torch/hub/ultralytics_yolov5_master/models/common.py:892: FutureWarning: `torch.cuda.amp.autocast(args...)` is deprecated. Please use `torch.amp.autocast('cuda', args...)` instead.\n",
            "  with amp.autocast(autocast):\n"
          ]
        },
        {
          "output_type": "stream",
          "name": "stdout",
          "text": [
            "Detections for @CheMed123_49.jpg:\n",
            "      name  confidence        xmin        ymin        xmax        ymax\n",
            "0  frisbee    0.379167  153.351486  683.958801  228.932617  722.011414\n",
            "1     kite    0.302911  248.671829  447.498962  304.334259  488.551941\n"
          ]
        },
        {
          "output_type": "stream",
          "name": "stderr",
          "text": [
            "/root/.cache/torch/hub/ultralytics_yolov5_master/models/common.py:892: FutureWarning: `torch.cuda.amp.autocast(args...)` is deprecated. Please use `torch.amp.autocast('cuda', args...)` instead.\n",
            "  with amp.autocast(autocast):\n"
          ]
        },
        {
          "output_type": "stream",
          "name": "stdout",
          "text": [
            "Detections for @CheMed123_46.jpg:\n",
            "     name  confidence        xmin        ymin         xmax        ymax\n",
            "0  person    0.755703  486.471527  374.990967   926.684570  904.546326\n",
            "1  person    0.672372  990.955139  560.924438  1034.293701  746.384521\n"
          ]
        },
        {
          "output_type": "stream",
          "name": "stderr",
          "text": [
            "/root/.cache/torch/hub/ultralytics_yolov5_master/models/common.py:892: FutureWarning: `torch.cuda.amp.autocast(args...)` is deprecated. Please use `torch.amp.autocast('cuda', args...)` instead.\n",
            "  with amp.autocast(autocast):\n"
          ]
        },
        {
          "output_type": "stream",
          "name": "stdout",
          "text": [
            "Detections for @CheMed123_45.jpg:\n",
            "         name  confidence        xmin        ymin       xmax        ymax\n",
            "0  toothbrush    0.323845  362.874542  770.962585  507.75592  917.678223\n"
          ]
        },
        {
          "output_type": "stream",
          "name": "stderr",
          "text": [
            "/root/.cache/torch/hub/ultralytics_yolov5_master/models/common.py:892: FutureWarning: `torch.cuda.amp.autocast(args...)` is deprecated. Please use `torch.amp.autocast('cuda', args...)` instead.\n",
            "  with amp.autocast(autocast):\n"
          ]
        },
        {
          "output_type": "stream",
          "name": "stdout",
          "text": [
            "Detections for @CheMed123_44.jpg:\n",
            "         name  confidence        xmin        ymin        xmax        ymax\n",
            "0  cell phone    0.949343  487.050171   63.640076  892.791870  551.565552\n",
            "1      person    0.593474    2.163910  170.928802  887.647339  715.433960\n"
          ]
        },
        {
          "output_type": "stream",
          "name": "stderr",
          "text": [
            "/root/.cache/torch/hub/ultralytics_yolov5_master/models/common.py:892: FutureWarning: `torch.cuda.amp.autocast(args...)` is deprecated. Please use `torch.amp.autocast('cuda', args...)` instead.\n",
            "  with amp.autocast(autocast):\n"
          ]
        },
        {
          "output_type": "stream",
          "name": "stdout",
          "text": [
            "Detections for @CheMed123_43.jpg:\n",
            "         name  confidence        xmin        ymin         xmax         ymax\n",
            "0      person    0.635143  166.470428   36.243553  1049.637573   892.279907\n",
            "1  cell phone    0.354549    0.578688  820.162048    54.687889   893.537659\n",
            "2    keyboard    0.301942    0.573564  909.286987   248.729507  1079.387695\n"
          ]
        },
        {
          "output_type": "stream",
          "name": "stderr",
          "text": [
            "/root/.cache/torch/hub/ultralytics_yolov5_master/models/common.py:892: FutureWarning: `torch.cuda.amp.autocast(args...)` is deprecated. Please use `torch.amp.autocast('cuda', args...)` instead.\n",
            "  with amp.autocast(autocast):\n"
          ]
        },
        {
          "output_type": "stream",
          "name": "stdout",
          "text": [
            "Detections for @CheMed123_40.jpg:\n",
            "     name  confidence         xmin        ymin         xmax        ymax\n",
            "0  person    0.712878   182.988098  261.666870   328.040710  473.162323\n",
            "1  person    0.691099   296.987427  282.218170   526.765137  521.840454\n",
            "2  person    0.658300   440.816650  233.042999   622.448914  517.981628\n",
            "3  person    0.612891   588.387146  239.422531   780.542236  520.879395\n",
            "4  person    0.532881   739.540527  235.811691   918.298706  519.592896\n",
            "5  person    0.473599  1140.471924  182.707764  1199.637329  622.793091\n",
            "6  person    0.415015   684.122986  244.182663   827.155457  518.646240\n"
          ]
        },
        {
          "output_type": "stream",
          "name": "stderr",
          "text": [
            "/root/.cache/torch/hub/ultralytics_yolov5_master/models/common.py:892: FutureWarning: `torch.cuda.amp.autocast(args...)` is deprecated. Please use `torch.amp.autocast('cuda', args...)` instead.\n",
            "  with amp.autocast(autocast):\n"
          ]
        },
        {
          "output_type": "stream",
          "name": "stdout",
          "text": [
            "Detections for @CheMed123_41.jpg:\n",
            "     name  confidence        xmin        ymin        xmax        ymax\n",
            "0  person    0.621874  260.894165  680.079773  376.994507  872.113037\n",
            "1  remote    0.458933  876.191650  229.441086  972.462524  479.480804\n"
          ]
        },
        {
          "output_type": "stream",
          "name": "stderr",
          "text": [
            "/root/.cache/torch/hub/ultralytics_yolov5_master/models/common.py:892: FutureWarning: `torch.cuda.amp.autocast(args...)` is deprecated. Please use `torch.amp.autocast('cuda', args...)` instead.\n",
            "  with amp.autocast(autocast):\n"
          ]
        },
        {
          "output_type": "stream",
          "name": "stdout",
          "text": [
            "Detections for @CheMed123_34.jpg:\n",
            "Empty DataFrame\n",
            "Columns: [name, confidence, xmin, ymin, xmax, ymax]\n",
            "Index: []\n"
          ]
        },
        {
          "output_type": "stream",
          "name": "stderr",
          "text": [
            "/root/.cache/torch/hub/ultralytics_yolov5_master/models/common.py:892: FutureWarning: `torch.cuda.amp.autocast(args...)` is deprecated. Please use `torch.amp.autocast('cuda', args...)` instead.\n",
            "  with amp.autocast(autocast):\n"
          ]
        },
        {
          "output_type": "stream",
          "name": "stdout",
          "text": [
            "Detections for @CheMed123_38.jpg:\n",
            "           name  confidence       xmin        ymin        xmax        ymax\n",
            "0  baseball bat    0.341462  52.848667  134.661865  548.361572  442.428284\n",
            "1  baseball bat    0.280544  84.102348  251.078308  591.642517  540.854675\n"
          ]
        },
        {
          "output_type": "stream",
          "name": "stderr",
          "text": [
            "/root/.cache/torch/hub/ultralytics_yolov5_master/models/common.py:892: FutureWarning: `torch.cuda.amp.autocast(args...)` is deprecated. Please use `torch.amp.autocast('cuda', args...)` instead.\n",
            "  with amp.autocast(autocast):\n"
          ]
        },
        {
          "output_type": "stream",
          "name": "stdout",
          "text": [
            "Detections for @CheMed123_39.jpg:\n",
            "    name  confidence        xmin        ymin        xmax        ymax\n",
            "0  mouse    0.880747  145.529709  171.890564  320.155945  301.116394\n",
            "1  mouse    0.823763  471.925476  483.348938  673.408997  619.613586\n",
            "2  mouse    0.792537  256.898132  372.917297  401.679993  537.010132\n",
            "3  mouse    0.781964    0.694695  331.120941  213.252533  418.961334\n",
            "4  mouse    0.721326  256.759186  249.690277  436.443939  389.598969\n",
            "5  mouse    0.430206  476.323364  297.543427  674.307495  423.586395\n",
            "6  mouse    0.332342  631.800842  576.111389  799.573792  639.660828\n",
            "7  mouse    0.280579  442.572937  148.927078  589.975037  293.880859\n"
          ]
        },
        {
          "output_type": "stream",
          "name": "stderr",
          "text": [
            "/root/.cache/torch/hub/ultralytics_yolov5_master/models/common.py:892: FutureWarning: `torch.cuda.amp.autocast(args...)` is deprecated. Please use `torch.amp.autocast('cuda', args...)` instead.\n",
            "  with amp.autocast(autocast):\n"
          ]
        },
        {
          "output_type": "stream",
          "name": "stdout",
          "text": [
            "Detections for @CheMed123_33.jpg:\n",
            "     name  confidence        xmin        ymin         xmax        ymax\n",
            "0  orange    0.747139  746.607422  605.353821   975.325195  791.458435\n",
            "1  orange    0.729751  923.388916  641.624146  1173.970215  896.289062\n",
            "2  orange    0.566171  766.631104  751.949585  1009.750854  911.534302\n"
          ]
        },
        {
          "output_type": "stream",
          "name": "stderr",
          "text": [
            "/root/.cache/torch/hub/ultralytics_yolov5_master/models/common.py:892: FutureWarning: `torch.cuda.amp.autocast(args...)` is deprecated. Please use `torch.amp.autocast('cuda', args...)` instead.\n",
            "  with amp.autocast(autocast):\n"
          ]
        },
        {
          "output_type": "stream",
          "name": "stdout",
          "text": [
            "Detections for @CheMed123_32.jpg:\n",
            "Empty DataFrame\n",
            "Columns: [name, confidence, xmin, ymin, xmax, ymax]\n",
            "Index: []\n"
          ]
        },
        {
          "output_type": "stream",
          "name": "stderr",
          "text": [
            "/root/.cache/torch/hub/ultralytics_yolov5_master/models/common.py:892: FutureWarning: `torch.cuda.amp.autocast(args...)` is deprecated. Please use `torch.amp.autocast('cuda', args...)` instead.\n",
            "  with amp.autocast(autocast):\n"
          ]
        },
        {
          "output_type": "stream",
          "name": "stdout",
          "text": [
            "Detections for @CheMed123_85.jpg:\n",
            "Empty DataFrame\n",
            "Columns: [name, confidence, xmin, ymin, xmax, ymax]\n",
            "Index: []\n"
          ]
        },
        {
          "output_type": "stream",
          "name": "stderr",
          "text": [
            "/root/.cache/torch/hub/ultralytics_yolov5_master/models/common.py:892: FutureWarning: `torch.cuda.amp.autocast(args...)` is deprecated. Please use `torch.amp.autocast('cuda', args...)` instead.\n",
            "  with amp.autocast(autocast):\n"
          ]
        },
        {
          "output_type": "stream",
          "name": "stdout",
          "text": [
            "Detections for @CheMed123_82.jpg:\n",
            "     name  confidence        xmin        ymin        xmax         ymax\n",
            "0  bottle    0.850647  624.342041  472.777985  772.203064   768.879211\n",
            "1  bottle    0.721185  452.722229  415.359619  631.302673   770.639771\n",
            "2   mouse    0.708951  790.306641  928.572388  891.078552  1036.070435\n",
            "3  bottle    0.681430  297.477844  470.888367  461.179810   768.742615\n"
          ]
        },
        {
          "output_type": "stream",
          "name": "stderr",
          "text": [
            "/root/.cache/torch/hub/ultralytics_yolov5_master/models/common.py:892: FutureWarning: `torch.cuda.amp.autocast(args...)` is deprecated. Please use `torch.amp.autocast('cuda', args...)` instead.\n",
            "  with amp.autocast(autocast):\n"
          ]
        },
        {
          "output_type": "stream",
          "name": "stdout",
          "text": [
            "Detections for @CheMed123_87.jpg:\n",
            "Empty DataFrame\n",
            "Columns: [name, confidence, xmin, ymin, xmax, ymax]\n",
            "Index: []\n"
          ]
        },
        {
          "output_type": "stream",
          "name": "stderr",
          "text": [
            "/root/.cache/torch/hub/ultralytics_yolov5_master/models/common.py:892: FutureWarning: `torch.cuda.amp.autocast(args...)` is deprecated. Please use `torch.amp.autocast('cuda', args...)` instead.\n",
            "  with amp.autocast(autocast):\n"
          ]
        },
        {
          "output_type": "stream",
          "name": "stdout",
          "text": [
            "Detections for @CheMed123_78.jpg:\n",
            "     name  confidence        xmin        ymin        xmax         ymax\n",
            "0  person    0.493987  435.715515  753.895752  888.537903  1126.438721\n",
            "1  person    0.453557    0.000000  672.866943  529.124146  1266.897461\n",
            "2  banana    0.284955  124.345276  620.070435  684.988098   836.760254\n"
          ]
        },
        {
          "output_type": "stream",
          "name": "stderr",
          "text": [
            "/root/.cache/torch/hub/ultralytics_yolov5_master/models/common.py:892: FutureWarning: `torch.cuda.amp.autocast(args...)` is deprecated. Please use `torch.amp.autocast('cuda', args...)` instead.\n",
            "  with amp.autocast(autocast):\n"
          ]
        },
        {
          "output_type": "stream",
          "name": "stdout",
          "text": [
            "Detections for @CheMed123_86.jpg:\n",
            "      name  confidence        xmin        ymin        xmax         ymax\n",
            "0   person    0.779729    8.308059  226.292389  615.876343  1058.259766\n",
            "1  frisbee    0.708577  486.446747  402.847565  556.982605   451.421234\n",
            "2  frisbee    0.589798  542.288269  375.238251  626.522156   412.670532\n"
          ]
        },
        {
          "output_type": "stream",
          "name": "stderr",
          "text": [
            "/root/.cache/torch/hub/ultralytics_yolov5_master/models/common.py:892: FutureWarning: `torch.cuda.amp.autocast(args...)` is deprecated. Please use `torch.amp.autocast('cuda', args...)` instead.\n",
            "  with amp.autocast(autocast):\n"
          ]
        },
        {
          "output_type": "stream",
          "name": "stdout",
          "text": [
            "Detections for @CheMed123_9.jpg:\n",
            "           name  confidence        xmin        ymin        xmax        ymax\n",
            "0   sports ball    0.710505  694.012634  609.407288  734.429260  653.712036\n",
            "1   sports ball    0.620711  766.988098  611.424561  825.211365  649.699829\n",
            "2   sports ball    0.586021  643.525940  652.717712  689.127014  695.868713\n",
            "3   sports ball    0.547289  209.136932  650.624512  251.018906  694.556396\n",
            "4   sports ball    0.490784  743.804871  591.904785  813.706604  647.603882\n",
            "5   sports ball    0.416993  329.069611  689.729492  386.574677  737.580627\n",
            "6   sports ball    0.398481  703.601929  579.642822  746.053589  615.825500\n",
            "7   sports ball    0.376453  619.433472  621.368713  667.976318  665.665466\n",
            "8   sports ball    0.327824  147.370407  615.531250  188.888885  655.962708\n",
            "9   sports ball    0.267824   85.710304  585.987061  376.057434  688.476379\n",
            "10  sports ball    0.260299  148.874191  595.541992  206.224777  642.190613\n"
          ]
        },
        {
          "output_type": "stream",
          "name": "stderr",
          "text": [
            "/root/.cache/torch/hub/ultralytics_yolov5_master/models/common.py:892: FutureWarning: `torch.cuda.amp.autocast(args...)` is deprecated. Please use `torch.amp.autocast('cuda', args...)` instead.\n",
            "  with amp.autocast(autocast):\n"
          ]
        },
        {
          "output_type": "stream",
          "name": "stdout",
          "text": [
            "Detections for @CheMed123_79.jpg:\n",
            "Empty DataFrame\n",
            "Columns: [name, confidence, xmin, ymin, xmax, ymax]\n",
            "Index: []\n"
          ]
        },
        {
          "output_type": "stream",
          "name": "stderr",
          "text": [
            "/root/.cache/torch/hub/ultralytics_yolov5_master/models/common.py:892: FutureWarning: `torch.cuda.amp.autocast(args...)` is deprecated. Please use `torch.amp.autocast('cuda', args...)` instead.\n",
            "  with amp.autocast(autocast):\n"
          ]
        },
        {
          "output_type": "stream",
          "name": "stdout",
          "text": [
            "Detections for @CheMed123_81.jpg:\n",
            "     name  confidence        xmin        ymin         xmax         ymax\n",
            "0  bottle    0.883030   52.782005  632.653809   244.495514  1005.424927\n",
            "1  bottle    0.805417  876.136292  634.039368  1035.726562   999.975891\n",
            "2  bottle    0.732167  235.435837  607.006531   449.435303  1023.957275\n",
            "3  bottle    0.655022  668.461426  605.055298   883.860657  1034.039551\n",
            "4  bottle    0.483795  440.888214  556.652100   677.931580  1028.940186\n"
          ]
        },
        {
          "output_type": "stream",
          "name": "stderr",
          "text": [
            "/root/.cache/torch/hub/ultralytics_yolov5_master/models/common.py:892: FutureWarning: `torch.cuda.amp.autocast(args...)` is deprecated. Please use `torch.amp.autocast('cuda', args...)` instead.\n",
            "  with amp.autocast(autocast):\n"
          ]
        },
        {
          "output_type": "stream",
          "name": "stdout",
          "text": [
            "Detections for @CheMed123_88.jpg:\n",
            "Empty DataFrame\n",
            "Columns: [name, confidence, xmin, ymin, xmax, ymax]\n",
            "Index: []\n"
          ]
        },
        {
          "output_type": "stream",
          "name": "stderr",
          "text": [
            "/root/.cache/torch/hub/ultralytics_yolov5_master/models/common.py:892: FutureWarning: `torch.cuda.amp.autocast(args...)` is deprecated. Please use `torch.amp.autocast('cuda', args...)` instead.\n",
            "  with amp.autocast(autocast):\n"
          ]
        },
        {
          "output_type": "stream",
          "name": "stdout",
          "text": [
            "Detections for @CheMed123_96.jpg:\n",
            "          name  confidence        xmin        ymin        xmax        ymax\n",
            "0  sports ball    0.444291  493.251343  653.647766  593.686401  753.449036\n",
            "1  sports ball    0.286898  744.791748  617.177612  817.133850  690.650818\n"
          ]
        },
        {
          "output_type": "stream",
          "name": "stderr",
          "text": [
            "/root/.cache/torch/hub/ultralytics_yolov5_master/models/common.py:892: FutureWarning: `torch.cuda.amp.autocast(args...)` is deprecated. Please use `torch.amp.autocast('cuda', args...)` instead.\n",
            "  with amp.autocast(autocast):\n"
          ]
        },
        {
          "output_type": "stream",
          "name": "stdout",
          "text": [
            "Detections for @CheMed123_94.jpg:\n",
            "       name  confidence        xmin        ymin         xmax        ymax\n",
            "0    person    0.825858    3.580620  628.583008   384.760559  858.655762\n",
            "1      vase    0.625055  863.911499  550.352844  1017.108765  830.961487\n",
            "2      vase    0.324282  703.359680  549.509033   855.550720  827.657532\n",
            "3       cup    0.303570  705.120850  549.043030   855.619080  829.848022\n",
            "4  sandwich    0.296158  513.746582  590.963257   727.928894  855.626465\n"
          ]
        },
        {
          "output_type": "stream",
          "name": "stderr",
          "text": [
            "/root/.cache/torch/hub/ultralytics_yolov5_master/models/common.py:892: FutureWarning: `torch.cuda.amp.autocast(args...)` is deprecated. Please use `torch.amp.autocast('cuda', args...)` instead.\n",
            "  with amp.autocast(autocast):\n"
          ]
        },
        {
          "output_type": "stream",
          "name": "stdout",
          "text": [
            "Detections for @CheMed123_91.jpg:\n",
            "Empty DataFrame\n",
            "Columns: [name, confidence, xmin, ymin, xmax, ymax]\n",
            "Index: []\n"
          ]
        },
        {
          "output_type": "stream",
          "name": "stderr",
          "text": [
            "/root/.cache/torch/hub/ultralytics_yolov5_master/models/common.py:892: FutureWarning: `torch.cuda.amp.autocast(args...)` is deprecated. Please use `torch.amp.autocast('cuda', args...)` instead.\n",
            "  with amp.autocast(autocast):\n"
          ]
        },
        {
          "output_type": "stream",
          "name": "stdout",
          "text": [
            "Detections for @CheMed123_90.jpg:\n",
            "Empty DataFrame\n",
            "Columns: [name, confidence, xmin, ymin, xmax, ymax]\n",
            "Index: []\n"
          ]
        },
        {
          "output_type": "stream",
          "name": "stderr",
          "text": [
            "/root/.cache/torch/hub/ultralytics_yolov5_master/models/common.py:892: FutureWarning: `torch.cuda.amp.autocast(args...)` is deprecated. Please use `torch.amp.autocast('cuda', args...)` instead.\n",
            "  with amp.autocast(autocast):\n"
          ]
        },
        {
          "output_type": "stream",
          "name": "stdout",
          "text": [
            "Detections for @CheMed123_92.jpg:\n",
            "     name  confidence        xmin        ymin    xmax        ymax\n",
            "0  person    0.485531  213.323685  627.671143  1080.0  816.667358\n"
          ]
        },
        {
          "output_type": "stream",
          "name": "stderr",
          "text": [
            "/root/.cache/torch/hub/ultralytics_yolov5_master/models/common.py:892: FutureWarning: `torch.cuda.amp.autocast(args...)` is deprecated. Please use `torch.amp.autocast('cuda', args...)` instead.\n",
            "  with amp.autocast(autocast):\n"
          ]
        },
        {
          "output_type": "stream",
          "name": "stdout",
          "text": [
            "Detections for @CheMed123_80.jpg:\n",
            "     name  confidence        xmin        ymin        xmax         ymax\n",
            "0  person    0.931793   57.743671  159.574768  541.424988  1010.032471\n",
            "1   chair    0.574028  682.734802  477.382904  718.535583   599.568420\n",
            "2  bottle    0.398462   15.017085   28.399479  143.520691   301.522797\n"
          ]
        },
        {
          "output_type": "stream",
          "name": "stderr",
          "text": [
            "/root/.cache/torch/hub/ultralytics_yolov5_master/models/common.py:892: FutureWarning: `torch.cuda.amp.autocast(args...)` is deprecated. Please use `torch.amp.autocast('cuda', args...)` instead.\n",
            "  with amp.autocast(autocast):\n"
          ]
        },
        {
          "output_type": "stream",
          "name": "stdout",
          "text": [
            "Detections for @CheMed123_97.jpg:\n",
            "Empty DataFrame\n",
            "Columns: [name, confidence, xmin, ymin, xmax, ymax]\n",
            "Index: []\n"
          ]
        },
        {
          "output_type": "stream",
          "name": "stderr",
          "text": [
            "/root/.cache/torch/hub/ultralytics_yolov5_master/models/common.py:892: FutureWarning: `torch.cuda.amp.autocast(args...)` is deprecated. Please use `torch.amp.autocast('cuda', args...)` instead.\n",
            "  with amp.autocast(autocast):\n"
          ]
        },
        {
          "output_type": "stream",
          "name": "stdout",
          "text": [
            "Detections for @CheMed123_93.jpg:\n",
            "     name  confidence       xmin        ymin        xmax         ymax\n",
            "0  person    0.901873  10.941327  269.161316  605.887085  1074.935059\n"
          ]
        },
        {
          "output_type": "stream",
          "name": "stderr",
          "text": [
            "/root/.cache/torch/hub/ultralytics_yolov5_master/models/common.py:892: FutureWarning: `torch.cuda.amp.autocast(args...)` is deprecated. Please use `torch.amp.autocast('cuda', args...)` instead.\n",
            "  with amp.autocast(autocast):\n"
          ]
        },
        {
          "output_type": "stream",
          "name": "stdout",
          "text": [
            "Detections for @CheMed123_95.jpg:\n",
            "          name  confidence        xmin        ymin        xmax         ymax\n",
            "0       person    0.679588   14.011019  248.227219  759.978271  1074.444092\n",
            "1  sports ball    0.340785  980.610229  281.514038  996.515991   295.527161\n"
          ]
        },
        {
          "output_type": "stream",
          "name": "stderr",
          "text": [
            "/root/.cache/torch/hub/ultralytics_yolov5_master/models/common.py:892: FutureWarning: `torch.cuda.amp.autocast(args...)` is deprecated. Please use `torch.amp.autocast('cuda', args...)` instead.\n",
            "  with amp.autocast(autocast):\n"
          ]
        },
        {
          "output_type": "stream",
          "name": "stdout",
          "text": [
            "Detections for @CheMed123_77.jpg:\n",
            "     name  confidence        xmin        ymin        xmax        ymax\n",
            "0  bottle    0.876813  757.923401  348.089874  943.922729  777.668030\n",
            "1  bottle    0.846279   81.945137  278.331696  335.765442  843.713867\n",
            "2  bottle    0.813187  537.084778  305.660095  766.430603  803.282227\n",
            "3  bottle    0.724369  326.038239  318.640320  549.855408  825.639526\n",
            "4  bottle    0.404155  539.142822  327.206879  758.244629  474.325195\n"
          ]
        },
        {
          "output_type": "stream",
          "name": "stderr",
          "text": [
            "/root/.cache/torch/hub/ultralytics_yolov5_master/models/common.py:892: FutureWarning: `torch.cuda.amp.autocast(args...)` is deprecated. Please use `torch.amp.autocast('cuda', args...)` instead.\n",
            "  with amp.autocast(autocast):\n"
          ]
        },
        {
          "output_type": "stream",
          "name": "stdout",
          "text": [
            "Detections for @lobelia4cosmetics_11880.jpg:\n",
            "   name  confidence        xmin        ymin       xmax         ymax\n",
            "0  book    0.500795  277.916931   87.626343  654.78125  1195.686523\n",
            "1  book    0.336661  633.134155  187.437653  962.87439  1184.869263\n"
          ]
        },
        {
          "output_type": "stream",
          "name": "stderr",
          "text": [
            "/root/.cache/torch/hub/ultralytics_yolov5_master/models/common.py:892: FutureWarning: `torch.cuda.amp.autocast(args...)` is deprecated. Please use `torch.amp.autocast('cuda', args...)` instead.\n",
            "  with amp.autocast(autocast):\n"
          ]
        },
        {
          "output_type": "stream",
          "name": "stdout",
          "text": [
            "Detections for @lobelia4cosmetics_11881.jpg:\n",
            "Empty DataFrame\n",
            "Columns: [name, confidence, xmin, ymin, xmax, ymax]\n",
            "Index: []\n"
          ]
        },
        {
          "output_type": "stream",
          "name": "stderr",
          "text": [
            "/root/.cache/torch/hub/ultralytics_yolov5_master/models/common.py:892: FutureWarning: `torch.cuda.amp.autocast(args...)` is deprecated. Please use `torch.amp.autocast('cuda', args...)` instead.\n",
            "  with amp.autocast(autocast):\n"
          ]
        },
        {
          "output_type": "stream",
          "name": "stdout",
          "text": [
            "Detections for @lobelia4cosmetics_11879.jpg:\n",
            "Empty DataFrame\n",
            "Columns: [name, confidence, xmin, ymin, xmax, ymax]\n",
            "Index: []\n"
          ]
        },
        {
          "output_type": "stream",
          "name": "stderr",
          "text": [
            "/root/.cache/torch/hub/ultralytics_yolov5_master/models/common.py:892: FutureWarning: `torch.cuda.amp.autocast(args...)` is deprecated. Please use `torch.amp.autocast('cuda', args...)` instead.\n",
            "  with amp.autocast(autocast):\n"
          ]
        },
        {
          "output_type": "stream",
          "name": "stdout",
          "text": [
            "Detections for @lobelia4cosmetics_11876.jpg:\n",
            "Empty DataFrame\n",
            "Columns: [name, confidence, xmin, ymin, xmax, ymax]\n",
            "Index: []\n"
          ]
        },
        {
          "output_type": "stream",
          "name": "stderr",
          "text": [
            "/root/.cache/torch/hub/ultralytics_yolov5_master/models/common.py:892: FutureWarning: `torch.cuda.amp.autocast(args...)` is deprecated. Please use `torch.amp.autocast('cuda', args...)` instead.\n",
            "  with amp.autocast(autocast):\n"
          ]
        },
        {
          "output_type": "stream",
          "name": "stdout",
          "text": [
            "Detections for @lobelia4cosmetics_11875.jpg:\n",
            "Empty DataFrame\n",
            "Columns: [name, confidence, xmin, ymin, xmax, ymax]\n",
            "Index: []\n"
          ]
        },
        {
          "output_type": "stream",
          "name": "stderr",
          "text": [
            "/root/.cache/torch/hub/ultralytics_yolov5_master/models/common.py:892: FutureWarning: `torch.cuda.amp.autocast(args...)` is deprecated. Please use `torch.amp.autocast('cuda', args...)` instead.\n",
            "  with amp.autocast(autocast):\n"
          ]
        },
        {
          "output_type": "stream",
          "name": "stdout",
          "text": [
            "Detections for @lobelia4cosmetics_11874.jpg:\n",
            "Empty DataFrame\n",
            "Columns: [name, confidence, xmin, ymin, xmax, ymax]\n",
            "Index: []\n"
          ]
        },
        {
          "output_type": "stream",
          "name": "stderr",
          "text": [
            "/root/.cache/torch/hub/ultralytics_yolov5_master/models/common.py:892: FutureWarning: `torch.cuda.amp.autocast(args...)` is deprecated. Please use `torch.amp.autocast('cuda', args...)` instead.\n",
            "  with amp.autocast(autocast):\n"
          ]
        },
        {
          "output_type": "stream",
          "name": "stdout",
          "text": [
            "Detections for @lobelia4cosmetics_11877.jpg:\n",
            "Empty DataFrame\n",
            "Columns: [name, confidence, xmin, ymin, xmax, ymax]\n",
            "Index: []\n"
          ]
        },
        {
          "output_type": "stream",
          "name": "stderr",
          "text": [
            "/root/.cache/torch/hub/ultralytics_yolov5_master/models/common.py:892: FutureWarning: `torch.cuda.amp.autocast(args...)` is deprecated. Please use `torch.amp.autocast('cuda', args...)` instead.\n",
            "  with amp.autocast(autocast):\n"
          ]
        },
        {
          "output_type": "stream",
          "name": "stdout",
          "text": [
            "Detections for @lobelia4cosmetics_11872.jpg:\n",
            "Empty DataFrame\n",
            "Columns: [name, confidence, xmin, ymin, xmax, ymax]\n",
            "Index: []\n"
          ]
        },
        {
          "output_type": "stream",
          "name": "stderr",
          "text": [
            "/root/.cache/torch/hub/ultralytics_yolov5_master/models/common.py:892: FutureWarning: `torch.cuda.amp.autocast(args...)` is deprecated. Please use `torch.amp.autocast('cuda', args...)` instead.\n",
            "  with amp.autocast(autocast):\n"
          ]
        },
        {
          "output_type": "stream",
          "name": "stdout",
          "text": [
            "Detections for @lobelia4cosmetics_11878.jpg:\n",
            "   name  confidence        xmin        ymin        xmax         ymax\n",
            "0  book    0.686839  677.356995  193.655151  901.248474  1236.047729\n",
            "1  book    0.422487  352.294891  137.549438  700.416504  1256.707031\n"
          ]
        },
        {
          "output_type": "stream",
          "name": "stderr",
          "text": [
            "/root/.cache/torch/hub/ultralytics_yolov5_master/models/common.py:892: FutureWarning: `torch.cuda.amp.autocast(args...)` is deprecated. Please use `torch.amp.autocast('cuda', args...)` instead.\n",
            "  with amp.autocast(autocast):\n"
          ]
        },
        {
          "output_type": "stream",
          "name": "stdout",
          "text": [
            "Detections for @lobelia4cosmetics_11870.jpg:\n",
            "Empty DataFrame\n",
            "Columns: [name, confidence, xmin, ymin, xmax, ymax]\n",
            "Index: []\n"
          ]
        },
        {
          "output_type": "stream",
          "name": "stderr",
          "text": [
            "/root/.cache/torch/hub/ultralytics_yolov5_master/models/common.py:892: FutureWarning: `torch.cuda.amp.autocast(args...)` is deprecated. Please use `torch.amp.autocast('cuda', args...)` instead.\n",
            "  with amp.autocast(autocast):\n"
          ]
        },
        {
          "output_type": "stream",
          "name": "stdout",
          "text": [
            "Detections for @lobelia4cosmetics_11871.jpg:\n",
            "Empty DataFrame\n",
            "Columns: [name, confidence, xmin, ymin, xmax, ymax]\n",
            "Index: []\n"
          ]
        },
        {
          "output_type": "stream",
          "name": "stderr",
          "text": [
            "/root/.cache/torch/hub/ultralytics_yolov5_master/models/common.py:892: FutureWarning: `torch.cuda.amp.autocast(args...)` is deprecated. Please use `torch.amp.autocast('cuda', args...)` instead.\n",
            "  with amp.autocast(autocast):\n"
          ]
        },
        {
          "output_type": "stream",
          "name": "stdout",
          "text": [
            "Detections for @lobelia4cosmetics_11869.jpg:\n",
            "   name  confidence        xmin        ymin        xmax        ymax\n",
            "0  bowl    0.758214  140.742126  185.970306  275.191772  299.847687\n"
          ]
        },
        {
          "output_type": "stream",
          "name": "stderr",
          "text": [
            "/root/.cache/torch/hub/ultralytics_yolov5_master/models/common.py:892: FutureWarning: `torch.cuda.amp.autocast(args...)` is deprecated. Please use `torch.amp.autocast('cuda', args...)` instead.\n",
            "  with amp.autocast(autocast):\n"
          ]
        },
        {
          "output_type": "stream",
          "name": "stdout",
          "text": [
            "Detections for @lobelia4cosmetics_11868.jpg:\n",
            "Empty DataFrame\n",
            "Columns: [name, confidence, xmin, ymin, xmax, ymax]\n",
            "Index: []\n"
          ]
        },
        {
          "output_type": "stream",
          "name": "stderr",
          "text": [
            "/root/.cache/torch/hub/ultralytics_yolov5_master/models/common.py:892: FutureWarning: `torch.cuda.amp.autocast(args...)` is deprecated. Please use `torch.amp.autocast('cuda', args...)` instead.\n",
            "  with amp.autocast(autocast):\n"
          ]
        },
        {
          "output_type": "stream",
          "name": "stdout",
          "text": [
            "Detections for @lobelia4cosmetics_11946.jpg:\n",
            "Empty DataFrame\n",
            "Columns: [name, confidence, xmin, ymin, xmax, ymax]\n",
            "Index: []\n"
          ]
        },
        {
          "output_type": "stream",
          "name": "stderr",
          "text": [
            "/root/.cache/torch/hub/ultralytics_yolov5_master/models/common.py:892: FutureWarning: `torch.cuda.amp.autocast(args...)` is deprecated. Please use `torch.amp.autocast('cuda', args...)` instead.\n",
            "  with amp.autocast(autocast):\n"
          ]
        },
        {
          "output_type": "stream",
          "name": "stdout",
          "text": [
            "Detections for @lobelia4cosmetics_11930.jpg:\n",
            "  name  confidence        xmin        ymin        xmax         ymax\n",
            "0  cup    0.789148  360.245972  782.216064  641.896912  1073.364258\n"
          ]
        },
        {
          "output_type": "stream",
          "name": "stderr",
          "text": [
            "/root/.cache/torch/hub/ultralytics_yolov5_master/models/common.py:892: FutureWarning: `torch.cuda.amp.autocast(args...)` is deprecated. Please use `torch.amp.autocast('cuda', args...)` instead.\n",
            "  with amp.autocast(autocast):\n"
          ]
        },
        {
          "output_type": "stream",
          "name": "stdout",
          "text": [
            "Detections for @lobelia4cosmetics_11945.jpg:\n",
            "Empty DataFrame\n",
            "Columns: [name, confidence, xmin, ymin, xmax, ymax]\n",
            "Index: []\n"
          ]
        },
        {
          "output_type": "stream",
          "name": "stderr",
          "text": [
            "/root/.cache/torch/hub/ultralytics_yolov5_master/models/common.py:892: FutureWarning: `torch.cuda.amp.autocast(args...)` is deprecated. Please use `torch.amp.autocast('cuda', args...)` instead.\n",
            "  with amp.autocast(autocast):\n"
          ]
        },
        {
          "output_type": "stream",
          "name": "stdout",
          "text": [
            "Detections for @lobelia4cosmetics_11943.jpg:\n",
            "Empty DataFrame\n",
            "Columns: [name, confidence, xmin, ymin, xmax, ymax]\n",
            "Index: []\n"
          ]
        },
        {
          "output_type": "stream",
          "name": "stderr",
          "text": [
            "/root/.cache/torch/hub/ultralytics_yolov5_master/models/common.py:892: FutureWarning: `torch.cuda.amp.autocast(args...)` is deprecated. Please use `torch.amp.autocast('cuda', args...)` instead.\n",
            "  with amp.autocast(autocast):\n"
          ]
        },
        {
          "output_type": "stream",
          "name": "stdout",
          "text": [
            "Detections for @lobelia4cosmetics_11942.jpg:\n",
            "        name  confidence        xmin       ymin        xmax        ymax\n",
            "0  stop sign    0.457502  260.943817  167.32074  301.444611  228.760498\n"
          ]
        },
        {
          "output_type": "stream",
          "name": "stderr",
          "text": [
            "/root/.cache/torch/hub/ultralytics_yolov5_master/models/common.py:892: FutureWarning: `torch.cuda.amp.autocast(args...)` is deprecated. Please use `torch.amp.autocast('cuda', args...)` instead.\n",
            "  with amp.autocast(autocast):\n"
          ]
        },
        {
          "output_type": "stream",
          "name": "stdout",
          "text": [
            "Detections for @lobelia4cosmetics_11944.jpg:\n",
            "Empty DataFrame\n",
            "Columns: [name, confidence, xmin, ymin, xmax, ymax]\n",
            "Index: []\n"
          ]
        },
        {
          "output_type": "stream",
          "name": "stderr",
          "text": [
            "/root/.cache/torch/hub/ultralytics_yolov5_master/models/common.py:892: FutureWarning: `torch.cuda.amp.autocast(args...)` is deprecated. Please use `torch.amp.autocast('cuda', args...)` instead.\n",
            "  with amp.autocast(autocast):\n"
          ]
        },
        {
          "output_type": "stream",
          "name": "stdout",
          "text": [
            "Detections for @lobelia4cosmetics_11938.jpg:\n",
            "  name  confidence        xmin        ymin        xmax         ymax\n",
            "0  cup    0.789148  360.245972  782.216064  641.896912  1073.364258\n"
          ]
        },
        {
          "output_type": "stream",
          "name": "stderr",
          "text": [
            "/root/.cache/torch/hub/ultralytics_yolov5_master/models/common.py:892: FutureWarning: `torch.cuda.amp.autocast(args...)` is deprecated. Please use `torch.amp.autocast('cuda', args...)` instead.\n",
            "  with amp.autocast(autocast):\n"
          ]
        },
        {
          "output_type": "stream",
          "name": "stdout",
          "text": [
            "Detections for @lobelia4cosmetics_11941.jpg:\n",
            "Empty DataFrame\n",
            "Columns: [name, confidence, xmin, ymin, xmax, ymax]\n",
            "Index: []\n"
          ]
        },
        {
          "output_type": "stream",
          "name": "stderr",
          "text": [
            "/root/.cache/torch/hub/ultralytics_yolov5_master/models/common.py:892: FutureWarning: `torch.cuda.amp.autocast(args...)` is deprecated. Please use `torch.amp.autocast('cuda', args...)` instead.\n",
            "  with amp.autocast(autocast):\n"
          ]
        },
        {
          "output_type": "stream",
          "name": "stdout",
          "text": [
            "Detections for @lobelia4cosmetics_11936.jpg:\n",
            "Empty DataFrame\n",
            "Columns: [name, confidence, xmin, ymin, xmax, ymax]\n",
            "Index: []\n"
          ]
        },
        {
          "output_type": "stream",
          "name": "stderr",
          "text": [
            "/root/.cache/torch/hub/ultralytics_yolov5_master/models/common.py:892: FutureWarning: `torch.cuda.amp.autocast(args...)` is deprecated. Please use `torch.amp.autocast('cuda', args...)` instead.\n",
            "  with amp.autocast(autocast):\n"
          ]
        },
        {
          "output_type": "stream",
          "name": "stdout",
          "text": [
            "Detections for @lobelia4cosmetics_11939.jpg:\n",
            "     name  confidence       xmin        ymin        xmax        ymax\n",
            "0  person    0.526795  71.351341  271.467834  201.004105  451.916229\n",
            "1  person    0.271554  70.582901  270.818848  133.516663  421.879883\n"
          ]
        },
        {
          "output_type": "stream",
          "name": "stderr",
          "text": [
            "/root/.cache/torch/hub/ultralytics_yolov5_master/models/common.py:892: FutureWarning: `torch.cuda.amp.autocast(args...)` is deprecated. Please use `torch.amp.autocast('cuda', args...)` instead.\n",
            "  with amp.autocast(autocast):\n"
          ]
        },
        {
          "output_type": "stream",
          "name": "stdout",
          "text": [
            "Detections for @lobelia4cosmetics_11937.jpg:\n",
            "Empty DataFrame\n",
            "Columns: [name, confidence, xmin, ymin, xmax, ymax]\n",
            "Index: []\n"
          ]
        },
        {
          "output_type": "stream",
          "name": "stderr",
          "text": [
            "/root/.cache/torch/hub/ultralytics_yolov5_master/models/common.py:892: FutureWarning: `torch.cuda.amp.autocast(args...)` is deprecated. Please use `torch.amp.autocast('cuda', args...)` instead.\n",
            "  with amp.autocast(autocast):\n"
          ]
        },
        {
          "output_type": "stream",
          "name": "stdout",
          "text": [
            "Detections for @lobelia4cosmetics_11935.jpg:\n",
            "Empty DataFrame\n",
            "Columns: [name, confidence, xmin, ymin, xmax, ymax]\n",
            "Index: []\n"
          ]
        },
        {
          "output_type": "stream",
          "name": "stderr",
          "text": [
            "/root/.cache/torch/hub/ultralytics_yolov5_master/models/common.py:892: FutureWarning: `torch.cuda.amp.autocast(args...)` is deprecated. Please use `torch.amp.autocast('cuda', args...)` instead.\n",
            "  with amp.autocast(autocast):\n"
          ]
        },
        {
          "output_type": "stream",
          "name": "stdout",
          "text": [
            "Detections for @lobelia4cosmetics_11934.jpg:\n",
            "Empty DataFrame\n",
            "Columns: [name, confidence, xmin, ymin, xmax, ymax]\n",
            "Index: []\n"
          ]
        },
        {
          "output_type": "stream",
          "name": "stderr",
          "text": [
            "/root/.cache/torch/hub/ultralytics_yolov5_master/models/common.py:892: FutureWarning: `torch.cuda.amp.autocast(args...)` is deprecated. Please use `torch.amp.autocast('cuda', args...)` instead.\n",
            "  with amp.autocast(autocast):\n"
          ]
        },
        {
          "output_type": "stream",
          "name": "stdout",
          "text": [
            "Detections for @lobelia4cosmetics_11932.jpg:\n",
            "     name  confidence       xmin        ymin        xmax        ymax\n",
            "0  person    0.526795  71.351341  271.467834  201.004105  451.916229\n",
            "1  person    0.271554  70.582901  270.818848  133.516663  421.879883\n"
          ]
        },
        {
          "output_type": "stream",
          "name": "stderr",
          "text": [
            "/root/.cache/torch/hub/ultralytics_yolov5_master/models/common.py:892: FutureWarning: `torch.cuda.amp.autocast(args...)` is deprecated. Please use `torch.amp.autocast('cuda', args...)` instead.\n",
            "  with amp.autocast(autocast):\n"
          ]
        },
        {
          "output_type": "stream",
          "name": "stdout",
          "text": [
            "Detections for @lobelia4cosmetics_11933.jpg:\n",
            "Empty DataFrame\n",
            "Columns: [name, confidence, xmin, ymin, xmax, ymax]\n",
            "Index: []\n"
          ]
        },
        {
          "output_type": "stream",
          "name": "stderr",
          "text": [
            "/root/.cache/torch/hub/ultralytics_yolov5_master/models/common.py:892: FutureWarning: `torch.cuda.amp.autocast(args...)` is deprecated. Please use `torch.amp.autocast('cuda', args...)` instead.\n",
            "  with amp.autocast(autocast):\n"
          ]
        },
        {
          "output_type": "stream",
          "name": "stdout",
          "text": [
            "Detections for @lobelia4cosmetics_11929.jpg:\n",
            "Empty DataFrame\n",
            "Columns: [name, confidence, xmin, ymin, xmax, ymax]\n",
            "Index: []\n"
          ]
        },
        {
          "output_type": "stream",
          "name": "stderr",
          "text": [
            "/root/.cache/torch/hub/ultralytics_yolov5_master/models/common.py:892: FutureWarning: `torch.cuda.amp.autocast(args...)` is deprecated. Please use `torch.amp.autocast('cuda', args...)` instead.\n",
            "  with amp.autocast(autocast):\n"
          ]
        },
        {
          "output_type": "stream",
          "name": "stdout",
          "text": [
            "Detections for @lobelia4cosmetics_11926.jpg:\n",
            "     name  confidence        xmin       ymin        xmax         ymax\n",
            "0  bottle    0.302834  345.213257  27.171362  849.627319  1115.989014\n"
          ]
        },
        {
          "output_type": "stream",
          "name": "stderr",
          "text": [
            "/root/.cache/torch/hub/ultralytics_yolov5_master/models/common.py:892: FutureWarning: `torch.cuda.amp.autocast(args...)` is deprecated. Please use `torch.amp.autocast('cuda', args...)` instead.\n",
            "  with amp.autocast(autocast):\n"
          ]
        },
        {
          "output_type": "stream",
          "name": "stdout",
          "text": [
            "Detections for @lobelia4cosmetics_11927.jpg:\n",
            "Empty DataFrame\n",
            "Columns: [name, confidence, xmin, ymin, xmax, ymax]\n",
            "Index: []\n"
          ]
        },
        {
          "output_type": "stream",
          "name": "stderr",
          "text": [
            "/root/.cache/torch/hub/ultralytics_yolov5_master/models/common.py:892: FutureWarning: `torch.cuda.amp.autocast(args...)` is deprecated. Please use `torch.amp.autocast('cuda', args...)` instead.\n",
            "  with amp.autocast(autocast):\n"
          ]
        },
        {
          "output_type": "stream",
          "name": "stdout",
          "text": [
            "Detections for @lobelia4cosmetics_11928.jpg:\n",
            "Empty DataFrame\n",
            "Columns: [name, confidence, xmin, ymin, xmax, ymax]\n",
            "Index: []\n"
          ]
        },
        {
          "output_type": "stream",
          "name": "stderr",
          "text": [
            "/root/.cache/torch/hub/ultralytics_yolov5_master/models/common.py:892: FutureWarning: `torch.cuda.amp.autocast(args...)` is deprecated. Please use `torch.amp.autocast('cuda', args...)` instead.\n",
            "  with amp.autocast(autocast):\n"
          ]
        },
        {
          "output_type": "stream",
          "name": "stdout",
          "text": [
            "Detections for @lobelia4cosmetics_11925.jpg:\n",
            "Empty DataFrame\n",
            "Columns: [name, confidence, xmin, ymin, xmax, ymax]\n",
            "Index: []\n"
          ]
        },
        {
          "output_type": "stream",
          "name": "stderr",
          "text": [
            "/root/.cache/torch/hub/ultralytics_yolov5_master/models/common.py:892: FutureWarning: `torch.cuda.amp.autocast(args...)` is deprecated. Please use `torch.amp.autocast('cuda', args...)` instead.\n",
            "  with amp.autocast(autocast):\n"
          ]
        },
        {
          "output_type": "stream",
          "name": "stdout",
          "text": [
            "Detections for @lobelia4cosmetics_11914.jpg:\n",
            "     name  confidence        xmin        ymin        xmax        ymax\n",
            "0  person    0.892511  432.249756  421.728455  764.422974  903.556335\n"
          ]
        },
        {
          "output_type": "stream",
          "name": "stderr",
          "text": [
            "/root/.cache/torch/hub/ultralytics_yolov5_master/models/common.py:892: FutureWarning: `torch.cuda.amp.autocast(args...)` is deprecated. Please use `torch.amp.autocast('cuda', args...)` instead.\n",
            "  with amp.autocast(autocast):\n"
          ]
        },
        {
          "output_type": "stream",
          "name": "stdout",
          "text": [
            "Detections for @lobelia4cosmetics_11924.jpg:\n",
            "     name  confidence        xmin        ymin        xmax        ymax\n",
            "0  orange    0.377693  708.816406  438.498993  836.305786  518.246704\n",
            "1  orange    0.377175  288.880432  315.707275  462.019684  399.253693\n",
            "2  orange    0.338240  163.517136  337.105133  335.829010  406.659210\n",
            "3  orange    0.255887  806.214600  404.197449  983.961060  505.069977\n"
          ]
        },
        {
          "output_type": "stream",
          "name": "stderr",
          "text": [
            "/root/.cache/torch/hub/ultralytics_yolov5_master/models/common.py:892: FutureWarning: `torch.cuda.amp.autocast(args...)` is deprecated. Please use `torch.amp.autocast('cuda', args...)` instead.\n",
            "  with amp.autocast(autocast):\n"
          ]
        },
        {
          "output_type": "stream",
          "name": "stdout",
          "text": [
            "Detections for @lobelia4cosmetics_11920.jpg:\n",
            "Empty DataFrame\n",
            "Columns: [name, confidence, xmin, ymin, xmax, ymax]\n",
            "Index: []\n"
          ]
        },
        {
          "output_type": "stream",
          "name": "stderr",
          "text": [
            "/root/.cache/torch/hub/ultralytics_yolov5_master/models/common.py:892: FutureWarning: `torch.cuda.amp.autocast(args...)` is deprecated. Please use `torch.amp.autocast('cuda', args...)` instead.\n",
            "  with amp.autocast(autocast):\n"
          ]
        },
        {
          "output_type": "stream",
          "name": "stdout",
          "text": [
            "Detections for @lobelia4cosmetics_11893.jpg:\n",
            "Empty DataFrame\n",
            "Columns: [name, confidence, xmin, ymin, xmax, ymax]\n",
            "Index: []\n"
          ]
        },
        {
          "output_type": "stream",
          "name": "stderr",
          "text": [
            "/root/.cache/torch/hub/ultralytics_yolov5_master/models/common.py:892: FutureWarning: `torch.cuda.amp.autocast(args...)` is deprecated. Please use `torch.amp.autocast('cuda', args...)` instead.\n",
            "  with amp.autocast(autocast):\n"
          ]
        },
        {
          "output_type": "stream",
          "name": "stdout",
          "text": [
            "Detections for @lobelia4cosmetics_11923.jpg:\n",
            "Empty DataFrame\n",
            "Columns: [name, confidence, xmin, ymin, xmax, ymax]\n",
            "Index: []\n"
          ]
        },
        {
          "output_type": "stream",
          "name": "stderr",
          "text": [
            "/root/.cache/torch/hub/ultralytics_yolov5_master/models/common.py:892: FutureWarning: `torch.cuda.amp.autocast(args...)` is deprecated. Please use `torch.amp.autocast('cuda', args...)` instead.\n",
            "  with amp.autocast(autocast):\n"
          ]
        },
        {
          "output_type": "stream",
          "name": "stdout",
          "text": [
            "Detections for @lobelia4cosmetics_11922.jpg:\n",
            "Empty DataFrame\n",
            "Columns: [name, confidence, xmin, ymin, xmax, ymax]\n",
            "Index: []\n"
          ]
        },
        {
          "output_type": "stream",
          "name": "stderr",
          "text": [
            "/root/.cache/torch/hub/ultralytics_yolov5_master/models/common.py:892: FutureWarning: `torch.cuda.amp.autocast(args...)` is deprecated. Please use `torch.amp.autocast('cuda', args...)` instead.\n",
            "  with amp.autocast(autocast):\n"
          ]
        },
        {
          "output_type": "stream",
          "name": "stdout",
          "text": [
            "Detections for @lobelia4cosmetics_11921.jpg:\n",
            "Empty DataFrame\n",
            "Columns: [name, confidence, xmin, ymin, xmax, ymax]\n",
            "Index: []\n"
          ]
        },
        {
          "output_type": "stream",
          "name": "stderr",
          "text": [
            "/root/.cache/torch/hub/ultralytics_yolov5_master/models/common.py:892: FutureWarning: `torch.cuda.amp.autocast(args...)` is deprecated. Please use `torch.amp.autocast('cuda', args...)` instead.\n",
            "  with amp.autocast(autocast):\n"
          ]
        },
        {
          "output_type": "stream",
          "name": "stdout",
          "text": [
            "Detections for @lobelia4cosmetics_11919.jpg:\n",
            "     name  confidence        xmin        ymin        xmax        ymax\n",
            "0  person    0.837816  239.710205  600.867188  376.743317  748.357544\n",
            "1  person    0.783029  350.394745  557.036804  450.975250  739.511719\n",
            "2  person    0.647013  600.788635  674.330017  675.920471  815.240356\n",
            "3  person    0.585273  429.727112  549.247009  537.696838  852.276733\n",
            "4  person    0.580514  558.670532  704.565674  631.774536  838.042358\n",
            "5  bottle    0.552930  538.359314  306.540588  790.365112  858.194519\n",
            "6  person    0.397496  545.091919  674.166870  583.348511  789.676514\n",
            "7  person    0.301429  543.741455  681.182068  603.988403  830.842163\n"
          ]
        },
        {
          "output_type": "stream",
          "name": "stderr",
          "text": [
            "/root/.cache/torch/hub/ultralytics_yolov5_master/models/common.py:892: FutureWarning: `torch.cuda.amp.autocast(args...)` is deprecated. Please use `torch.amp.autocast('cuda', args...)` instead.\n",
            "  with amp.autocast(autocast):\n"
          ]
        },
        {
          "output_type": "stream",
          "name": "stdout",
          "text": [
            "Detections for @lobelia4cosmetics_11918.jpg:\n",
            "     name  confidence        xmin        ymin        xmax         ymax\n",
            "0  bottle    0.442316  627.069946  268.439514  945.952393  1198.739502\n"
          ]
        },
        {
          "output_type": "stream",
          "name": "stderr",
          "text": [
            "/root/.cache/torch/hub/ultralytics_yolov5_master/models/common.py:892: FutureWarning: `torch.cuda.amp.autocast(args...)` is deprecated. Please use `torch.amp.autocast('cuda', args...)` instead.\n",
            "  with amp.autocast(autocast):\n"
          ]
        },
        {
          "output_type": "stream",
          "name": "stdout",
          "text": [
            "Detections for @lobelia4cosmetics_11916.jpg:\n",
            "     name  confidence        xmin        ymin        xmax         ymax\n",
            "0  bottle    0.332959  320.581512  224.795502  637.528076  1200.781372\n"
          ]
        },
        {
          "output_type": "stream",
          "name": "stderr",
          "text": [
            "/root/.cache/torch/hub/ultralytics_yolov5_master/models/common.py:892: FutureWarning: `torch.cuda.amp.autocast(args...)` is deprecated. Please use `torch.amp.autocast('cuda', args...)` instead.\n",
            "  with amp.autocast(autocast):\n"
          ]
        },
        {
          "output_type": "stream",
          "name": "stdout",
          "text": [
            "Detections for @lobelia4cosmetics_11915.jpg:\n",
            "     name  confidence        xmin        ymin        xmax         ymax\n",
            "0    book    0.575717  254.181519  912.326172  782.529419  1020.054077\n",
            "1  person    0.330362  591.487854  481.116455  765.717163   928.665039\n"
          ]
        },
        {
          "output_type": "stream",
          "name": "stderr",
          "text": [
            "/root/.cache/torch/hub/ultralytics_yolov5_master/models/common.py:892: FutureWarning: `torch.cuda.amp.autocast(args...)` is deprecated. Please use `torch.amp.autocast('cuda', args...)` instead.\n",
            "  with amp.autocast(autocast):\n"
          ]
        },
        {
          "output_type": "stream",
          "name": "stdout",
          "text": [
            "Detections for @lobelia4cosmetics_11917.jpg:\n",
            "Empty DataFrame\n",
            "Columns: [name, confidence, xmin, ymin, xmax, ymax]\n",
            "Index: []\n"
          ]
        },
        {
          "output_type": "stream",
          "name": "stderr",
          "text": [
            "/root/.cache/torch/hub/ultralytics_yolov5_master/models/common.py:892: FutureWarning: `torch.cuda.amp.autocast(args...)` is deprecated. Please use `torch.amp.autocast('cuda', args...)` instead.\n",
            "  with amp.autocast(autocast):\n"
          ]
        },
        {
          "output_type": "stream",
          "name": "stdout",
          "text": [
            "Detections for @lobelia4cosmetics_11913.jpg:\n",
            "       name  confidence        xmin        ymin        xmax        ymax\n",
            "0    bottle    0.703980  103.481583   86.276588  219.125595  282.193298\n",
            "1    bottle    0.642987  236.607651  132.268799  274.609070  263.386505\n",
            "2    bottle    0.582703  208.692337  117.738754  249.569199  273.389404\n",
            "3    bottle    0.520170  262.937042  143.529648  302.185272  257.115112\n",
            "4    toilet    0.473945   22.772903  149.851379   57.972977  257.208496\n",
            "5    toilet    0.350603   35.411686  143.183853   80.003510  262.056885\n",
            "6  suitcase    0.274276   73.666656  110.276161  107.559769  268.121399\n"
          ]
        },
        {
          "output_type": "stream",
          "name": "stderr",
          "text": [
            "/root/.cache/torch/hub/ultralytics_yolov5_master/models/common.py:892: FutureWarning: `torch.cuda.amp.autocast(args...)` is deprecated. Please use `torch.amp.autocast('cuda', args...)` instead.\n",
            "  with amp.autocast(autocast):\n"
          ]
        },
        {
          "output_type": "stream",
          "name": "stdout",
          "text": [
            "Detections for @lobelia4cosmetics_11910.jpg:\n",
            "Empty DataFrame\n",
            "Columns: [name, confidence, xmin, ymin, xmax, ymax]\n",
            "Index: []\n"
          ]
        },
        {
          "output_type": "stream",
          "name": "stderr",
          "text": [
            "/root/.cache/torch/hub/ultralytics_yolov5_master/models/common.py:892: FutureWarning: `torch.cuda.amp.autocast(args...)` is deprecated. Please use `torch.amp.autocast('cuda', args...)` instead.\n",
            "  with amp.autocast(autocast):\n"
          ]
        },
        {
          "output_type": "stream",
          "name": "stdout",
          "text": [
            "Detections for @lobelia4cosmetics_11911.jpg:\n",
            "  name  confidence        xmin        ymin        xmax         ymax\n",
            "0  cup    0.789148  360.245972  782.216064  641.896912  1073.364258\n"
          ]
        },
        {
          "output_type": "stream",
          "name": "stderr",
          "text": [
            "/root/.cache/torch/hub/ultralytics_yolov5_master/models/common.py:892: FutureWarning: `torch.cuda.amp.autocast(args...)` is deprecated. Please use `torch.amp.autocast('cuda', args...)` instead.\n",
            "  with amp.autocast(autocast):\n"
          ]
        },
        {
          "output_type": "stream",
          "name": "stdout",
          "text": [
            "Detections for @lobelia4cosmetics_11887.jpg:\n",
            "           name  confidence        xmin        ymin        xmax        ymax\n",
            "0        bottle    0.428630  456.905365  198.558517  682.092651  743.703552\n",
            "1        bottle    0.335330  178.539627  239.647293  373.393646  718.351379\n",
            "2  refrigerator    0.328699   31.581835   45.389477  380.216492  733.392578\n"
          ]
        },
        {
          "output_type": "stream",
          "name": "stderr",
          "text": [
            "/root/.cache/torch/hub/ultralytics_yolov5_master/models/common.py:892: FutureWarning: `torch.cuda.amp.autocast(args...)` is deprecated. Please use `torch.amp.autocast('cuda', args...)` instead.\n",
            "  with amp.autocast(autocast):\n"
          ]
        },
        {
          "output_type": "stream",
          "name": "stdout",
          "text": [
            "Detections for @lobelia4cosmetics_11898.jpg:\n",
            "Empty DataFrame\n",
            "Columns: [name, confidence, xmin, ymin, xmax, ymax]\n",
            "Index: []\n"
          ]
        },
        {
          "output_type": "stream",
          "name": "stderr",
          "text": [
            "/root/.cache/torch/hub/ultralytics_yolov5_master/models/common.py:892: FutureWarning: `torch.cuda.amp.autocast(args...)` is deprecated. Please use `torch.amp.autocast('cuda', args...)` instead.\n",
            "  with amp.autocast(autocast):\n"
          ]
        },
        {
          "output_type": "stream",
          "name": "stdout",
          "text": [
            "Detections for @lobelia4cosmetics_11884.jpg:\n",
            "Empty DataFrame\n",
            "Columns: [name, confidence, xmin, ymin, xmax, ymax]\n",
            "Index: []\n"
          ]
        },
        {
          "output_type": "stream",
          "name": "stderr",
          "text": [
            "/root/.cache/torch/hub/ultralytics_yolov5_master/models/common.py:892: FutureWarning: `torch.cuda.amp.autocast(args...)` is deprecated. Please use `torch.amp.autocast('cuda', args...)` instead.\n",
            "  with amp.autocast(autocast):\n"
          ]
        },
        {
          "output_type": "stream",
          "name": "stdout",
          "text": [
            "Detections for @lobelia4cosmetics_11909.jpg:\n",
            "   name  confidence        xmin        ymin        xmax        ymax\n",
            "0  bowl    0.758214  140.742126  185.970306  275.191772  299.847687\n"
          ]
        },
        {
          "output_type": "stream",
          "name": "stderr",
          "text": [
            "/root/.cache/torch/hub/ultralytics_yolov5_master/models/common.py:892: FutureWarning: `torch.cuda.amp.autocast(args...)` is deprecated. Please use `torch.amp.autocast('cuda', args...)` instead.\n",
            "  with amp.autocast(autocast):\n"
          ]
        },
        {
          "output_type": "stream",
          "name": "stdout",
          "text": [
            "Detections for @lobelia4cosmetics_11882.jpg:\n",
            "   name  confidence       xmin       ymin       xmax        ymax\n",
            "0  book    0.257414  48.608097  34.479431  786.64978  982.758728\n"
          ]
        },
        {
          "output_type": "stream",
          "name": "stderr",
          "text": [
            "/root/.cache/torch/hub/ultralytics_yolov5_master/models/common.py:892: FutureWarning: `torch.cuda.amp.autocast(args...)` is deprecated. Please use `torch.amp.autocast('cuda', args...)` instead.\n",
            "  with amp.autocast(autocast):\n"
          ]
        },
        {
          "output_type": "stream",
          "name": "stdout",
          "text": [
            "Detections for @lobelia4cosmetics_11873.jpg:\n",
            "Empty DataFrame\n",
            "Columns: [name, confidence, xmin, ymin, xmax, ymax]\n",
            "Index: []\n"
          ]
        },
        {
          "output_type": "stream",
          "name": "stderr",
          "text": [
            "/root/.cache/torch/hub/ultralytics_yolov5_master/models/common.py:892: FutureWarning: `torch.cuda.amp.autocast(args...)` is deprecated. Please use `torch.amp.autocast('cuda', args...)` instead.\n",
            "  with amp.autocast(autocast):\n"
          ]
        },
        {
          "output_type": "stream",
          "name": "stdout",
          "text": [
            "Detections for @lobelia4cosmetics_11890.jpg:\n",
            "Empty DataFrame\n",
            "Columns: [name, confidence, xmin, ymin, xmax, ymax]\n",
            "Index: []\n"
          ]
        },
        {
          "output_type": "stream",
          "name": "stderr",
          "text": [
            "/root/.cache/torch/hub/ultralytics_yolov5_master/models/common.py:892: FutureWarning: `torch.cuda.amp.autocast(args...)` is deprecated. Please use `torch.amp.autocast('cuda', args...)` instead.\n",
            "  with amp.autocast(autocast):\n"
          ]
        },
        {
          "output_type": "stream",
          "name": "stdout",
          "text": [
            "Detections for @lobelia4cosmetics_11900.jpg:\n",
            "     name  confidence        xmin        ymin        xmax         ymax\n",
            "0  banana    0.291535  369.624725  971.445618  480.051727  1161.541992\n"
          ]
        },
        {
          "output_type": "stream",
          "name": "stderr",
          "text": [
            "/root/.cache/torch/hub/ultralytics_yolov5_master/models/common.py:892: FutureWarning: `torch.cuda.amp.autocast(args...)` is deprecated. Please use `torch.amp.autocast('cuda', args...)` instead.\n",
            "  with amp.autocast(autocast):\n"
          ]
        },
        {
          "output_type": "stream",
          "name": "stdout",
          "text": [
            "Detections for @lobelia4cosmetics_11892.jpg:\n",
            "Empty DataFrame\n",
            "Columns: [name, confidence, xmin, ymin, xmax, ymax]\n",
            "Index: []\n"
          ]
        },
        {
          "output_type": "stream",
          "name": "stderr",
          "text": [
            "/root/.cache/torch/hub/ultralytics_yolov5_master/models/common.py:892: FutureWarning: `torch.cuda.amp.autocast(args...)` is deprecated. Please use `torch.amp.autocast('cuda', args...)` instead.\n",
            "  with amp.autocast(autocast):\n"
          ]
        },
        {
          "output_type": "stream",
          "name": "stdout",
          "text": [
            "Detections for @lobelia4cosmetics_11889.jpg:\n",
            "Empty DataFrame\n",
            "Columns: [name, confidence, xmin, ymin, xmax, ymax]\n",
            "Index: []\n"
          ]
        },
        {
          "output_type": "stream",
          "name": "stderr",
          "text": [
            "/root/.cache/torch/hub/ultralytics_yolov5_master/models/common.py:892: FutureWarning: `torch.cuda.amp.autocast(args...)` is deprecated. Please use `torch.amp.autocast('cuda', args...)` instead.\n",
            "  with amp.autocast(autocast):\n"
          ]
        },
        {
          "output_type": "stream",
          "name": "stdout",
          "text": [
            "Detections for @lobelia4cosmetics_11891.jpg:\n",
            "Empty DataFrame\n",
            "Columns: [name, confidence, xmin, ymin, xmax, ymax]\n",
            "Index: []\n"
          ]
        },
        {
          "output_type": "stream",
          "name": "stderr",
          "text": [
            "/root/.cache/torch/hub/ultralytics_yolov5_master/models/common.py:892: FutureWarning: `torch.cuda.amp.autocast(args...)` is deprecated. Please use `torch.amp.autocast('cuda', args...)` instead.\n",
            "  with amp.autocast(autocast):\n"
          ]
        },
        {
          "output_type": "stream",
          "name": "stdout",
          "text": [
            "Detections for @lobelia4cosmetics_11897.jpg:\n",
            "     name  confidence        xmin        ymin        xmax         ymax\n",
            "0  person    0.854438  386.629089  569.150818  798.967346  1072.493408\n"
          ]
        },
        {
          "output_type": "stream",
          "name": "stderr",
          "text": [
            "/root/.cache/torch/hub/ultralytics_yolov5_master/models/common.py:892: FutureWarning: `torch.cuda.amp.autocast(args...)` is deprecated. Please use `torch.amp.autocast('cuda', args...)` instead.\n",
            "  with amp.autocast(autocast):\n"
          ]
        },
        {
          "output_type": "stream",
          "name": "stdout",
          "text": [
            "Detections for @lobelia4cosmetics_11908.jpg:\n",
            "Empty DataFrame\n",
            "Columns: [name, confidence, xmin, ymin, xmax, ymax]\n",
            "Index: []\n"
          ]
        },
        {
          "output_type": "stream",
          "name": "stderr",
          "text": [
            "/root/.cache/torch/hub/ultralytics_yolov5_master/models/common.py:892: FutureWarning: `torch.cuda.amp.autocast(args...)` is deprecated. Please use `torch.amp.autocast('cuda', args...)` instead.\n",
            "  with amp.autocast(autocast):\n"
          ]
        },
        {
          "output_type": "stream",
          "name": "stdout",
          "text": [
            "Detections for @lobelia4cosmetics_11907.jpg:\n",
            "     name  confidence        xmin        ymin        xmax        ymax\n",
            "0  orange    0.377693  708.816406  438.498993  836.305786  518.246704\n",
            "1  orange    0.377175  288.880432  315.707275  462.019684  399.253693\n",
            "2  orange    0.338240  163.517136  337.105133  335.829010  406.659210\n",
            "3  orange    0.255887  806.214600  404.197449  983.961060  505.069977\n"
          ]
        },
        {
          "output_type": "stream",
          "name": "stderr",
          "text": [
            "/root/.cache/torch/hub/ultralytics_yolov5_master/models/common.py:892: FutureWarning: `torch.cuda.amp.autocast(args...)` is deprecated. Please use `torch.amp.autocast('cuda', args...)` instead.\n",
            "  with amp.autocast(autocast):\n"
          ]
        },
        {
          "output_type": "stream",
          "name": "stdout",
          "text": [
            "Detections for @lobelia4cosmetics_11906.jpg:\n",
            "Empty DataFrame\n",
            "Columns: [name, confidence, xmin, ymin, xmax, ymax]\n",
            "Index: []\n"
          ]
        },
        {
          "output_type": "stream",
          "name": "stderr",
          "text": [
            "/root/.cache/torch/hub/ultralytics_yolov5_master/models/common.py:892: FutureWarning: `torch.cuda.amp.autocast(args...)` is deprecated. Please use `torch.amp.autocast('cuda', args...)` instead.\n",
            "  with amp.autocast(autocast):\n"
          ]
        },
        {
          "output_type": "stream",
          "name": "stdout",
          "text": [
            "Detections for @lobelia4cosmetics_11885.jpg:\n",
            "     name  confidence        xmin        ymin        xmax        ymax\n",
            "0  bottle    0.691132  437.221832  150.159393  629.909119  767.852295\n"
          ]
        },
        {
          "output_type": "stream",
          "name": "stderr",
          "text": [
            "/root/.cache/torch/hub/ultralytics_yolov5_master/models/common.py:892: FutureWarning: `torch.cuda.amp.autocast(args...)` is deprecated. Please use `torch.amp.autocast('cuda', args...)` instead.\n",
            "  with amp.autocast(autocast):\n"
          ]
        },
        {
          "output_type": "stream",
          "name": "stdout",
          "text": [
            "Detections for @lobelia4cosmetics_11886.jpg:\n",
            "     name  confidence        xmin        ymin        xmax         ymax\n",
            "0  bottle    0.804046  648.372742  458.769928  882.586121  1030.527466\n",
            "1  bottle    0.549835  464.503174  464.395630  652.965576   979.204224\n"
          ]
        },
        {
          "output_type": "stream",
          "name": "stderr",
          "text": [
            "/root/.cache/torch/hub/ultralytics_yolov5_master/models/common.py:892: FutureWarning: `torch.cuda.amp.autocast(args...)` is deprecated. Please use `torch.amp.autocast('cuda', args...)` instead.\n",
            "  with amp.autocast(autocast):\n"
          ]
        },
        {
          "output_type": "stream",
          "name": "stdout",
          "text": [
            "Detections for @lobelia4cosmetics_11896.jpg:\n",
            "Empty DataFrame\n",
            "Columns: [name, confidence, xmin, ymin, xmax, ymax]\n",
            "Index: []\n"
          ]
        },
        {
          "output_type": "stream",
          "name": "stderr",
          "text": [
            "/root/.cache/torch/hub/ultralytics_yolov5_master/models/common.py:892: FutureWarning: `torch.cuda.amp.autocast(args...)` is deprecated. Please use `torch.amp.autocast('cuda', args...)` instead.\n",
            "  with amp.autocast(autocast):\n"
          ]
        },
        {
          "output_type": "stream",
          "name": "stdout",
          "text": [
            "Detections for @lobelia4cosmetics_11888.jpg:\n",
            "Empty DataFrame\n",
            "Columns: [name, confidence, xmin, ymin, xmax, ymax]\n",
            "Index: []\n"
          ]
        },
        {
          "output_type": "stream",
          "name": "stderr",
          "text": [
            "/root/.cache/torch/hub/ultralytics_yolov5_master/models/common.py:892: FutureWarning: `torch.cuda.amp.autocast(args...)` is deprecated. Please use `torch.amp.autocast('cuda', args...)` instead.\n",
            "  with amp.autocast(autocast):\n"
          ]
        },
        {
          "output_type": "stream",
          "name": "stdout",
          "text": [
            "Detections for @lobelia4cosmetics_11895.jpg:\n",
            "Empty DataFrame\n",
            "Columns: [name, confidence, xmin, ymin, xmax, ymax]\n",
            "Index: []\n"
          ]
        },
        {
          "output_type": "stream",
          "name": "stderr",
          "text": [
            "/root/.cache/torch/hub/ultralytics_yolov5_master/models/common.py:892: FutureWarning: `torch.cuda.amp.autocast(args...)` is deprecated. Please use `torch.amp.autocast('cuda', args...)` instead.\n",
            "  with amp.autocast(autocast):\n"
          ]
        },
        {
          "output_type": "stream",
          "name": "stdout",
          "text": [
            "Detections for @lobelia4cosmetics_11894.jpg:\n",
            "Empty DataFrame\n",
            "Columns: [name, confidence, xmin, ymin, xmax, ymax]\n",
            "Index: []\n"
          ]
        },
        {
          "output_type": "stream",
          "name": "stderr",
          "text": [
            "/root/.cache/torch/hub/ultralytics_yolov5_master/models/common.py:892: FutureWarning: `torch.cuda.amp.autocast(args...)` is deprecated. Please use `torch.amp.autocast('cuda', args...)` instead.\n",
            "  with amp.autocast(autocast):\n"
          ]
        },
        {
          "output_type": "stream",
          "name": "stdout",
          "text": [
            "Detections for @lobelia4cosmetics_11883.jpg:\n",
            "Empty DataFrame\n",
            "Columns: [name, confidence, xmin, ymin, xmax, ymax]\n",
            "Index: []\n"
          ]
        },
        {
          "output_type": "stream",
          "name": "stderr",
          "text": [
            "/root/.cache/torch/hub/ultralytics_yolov5_master/models/common.py:892: FutureWarning: `torch.cuda.amp.autocast(args...)` is deprecated. Please use `torch.amp.autocast('cuda', args...)` instead.\n",
            "  with amp.autocast(autocast):\n"
          ]
        },
        {
          "output_type": "stream",
          "name": "stdout",
          "text": [
            "Detections for @lobelia4cosmetics_11904.jpg:\n",
            "Empty DataFrame\n",
            "Columns: [name, confidence, xmin, ymin, xmax, ymax]\n",
            "Index: []\n"
          ]
        },
        {
          "output_type": "stream",
          "name": "stderr",
          "text": [
            "/root/.cache/torch/hub/ultralytics_yolov5_master/models/common.py:892: FutureWarning: `torch.cuda.amp.autocast(args...)` is deprecated. Please use `torch.amp.autocast('cuda', args...)` instead.\n",
            "  with amp.autocast(autocast):\n"
          ]
        },
        {
          "output_type": "stream",
          "name": "stdout",
          "text": [
            "Detections for @lobelia4cosmetics_11902.jpg:\n",
            "Empty DataFrame\n",
            "Columns: [name, confidence, xmin, ymin, xmax, ymax]\n",
            "Index: []\n"
          ]
        },
        {
          "output_type": "stream",
          "name": "stderr",
          "text": [
            "/root/.cache/torch/hub/ultralytics_yolov5_master/models/common.py:892: FutureWarning: `torch.cuda.amp.autocast(args...)` is deprecated. Please use `torch.amp.autocast('cuda', args...)` instead.\n",
            "  with amp.autocast(autocast):\n"
          ]
        },
        {
          "output_type": "stream",
          "name": "stdout",
          "text": [
            "Detections for @lobelia4cosmetics_11903.jpg:\n",
            "  name  confidence       xmin        ymin        xmax        ymax\n",
            "0  cup    0.646768  71.777611  245.878174  149.468277  308.447205\n"
          ]
        },
        {
          "output_type": "stream",
          "name": "stderr",
          "text": [
            "/root/.cache/torch/hub/ultralytics_yolov5_master/models/common.py:892: FutureWarning: `torch.cuda.amp.autocast(args...)` is deprecated. Please use `torch.amp.autocast('cuda', args...)` instead.\n",
            "  with amp.autocast(autocast):\n"
          ]
        },
        {
          "output_type": "stream",
          "name": "stdout",
          "text": [
            "Detections for @lobelia4cosmetics_11905.jpg:\n",
            "Empty DataFrame\n",
            "Columns: [name, confidence, xmin, ymin, xmax, ymax]\n",
            "Index: []\n"
          ]
        },
        {
          "output_type": "stream",
          "name": "stderr",
          "text": [
            "/root/.cache/torch/hub/ultralytics_yolov5_master/models/common.py:892: FutureWarning: `torch.cuda.amp.autocast(args...)` is deprecated. Please use `torch.amp.autocast('cuda', args...)` instead.\n",
            "  with amp.autocast(autocast):\n"
          ]
        },
        {
          "output_type": "stream",
          "name": "stdout",
          "text": [
            "Detections for @lobelia4cosmetics_11901.jpg:\n",
            "Empty DataFrame\n",
            "Columns: [name, confidence, xmin, ymin, xmax, ymax]\n",
            "Index: []\n"
          ]
        },
        {
          "output_type": "stream",
          "name": "stderr",
          "text": [
            "/root/.cache/torch/hub/ultralytics_yolov5_master/models/common.py:892: FutureWarning: `torch.cuda.amp.autocast(args...)` is deprecated. Please use `torch.amp.autocast('cuda', args...)` instead.\n",
            "  with amp.autocast(autocast):\n"
          ]
        },
        {
          "output_type": "stream",
          "name": "stdout",
          "text": [
            "Detections for @lobelia4cosmetics_12017.jpg:\n",
            "    name  confidence        xmin        ymin        xmax         ymax\n",
            "0  clock    0.653354  297.035736  174.852615  875.716736   759.952576\n",
            "1  donut    0.390350  404.631073  923.974426  492.100800  1016.315857\n",
            "2  donut    0.312811  616.030823  964.383850  712.616760  1078.172852\n",
            "3   fork    0.258616  755.290771  796.080139  999.244934  1011.520569\n"
          ]
        },
        {
          "output_type": "stream",
          "name": "stderr",
          "text": [
            "/root/.cache/torch/hub/ultralytics_yolov5_master/models/common.py:892: FutureWarning: `torch.cuda.amp.autocast(args...)` is deprecated. Please use `torch.amp.autocast('cuda', args...)` instead.\n",
            "  with amp.autocast(autocast):\n"
          ]
        },
        {
          "output_type": "stream",
          "name": "stdout",
          "text": [
            "Detections for @lobelia4cosmetics_12021.jpg:\n",
            "     name  confidence       xmin        ymin        xmax        ymax\n",
            "0  person    0.526795  71.351341  271.467834  201.004105  451.916229\n",
            "1  person    0.271554  70.582901  270.818848  133.516663  421.879883\n"
          ]
        },
        {
          "output_type": "stream",
          "name": "stderr",
          "text": [
            "/root/.cache/torch/hub/ultralytics_yolov5_master/models/common.py:892: FutureWarning: `torch.cuda.amp.autocast(args...)` is deprecated. Please use `torch.amp.autocast('cuda', args...)` instead.\n",
            "  with amp.autocast(autocast):\n"
          ]
        },
        {
          "output_type": "stream",
          "name": "stdout",
          "text": [
            "Detections for @lobelia4cosmetics_12020.jpg:\n",
            "Empty DataFrame\n",
            "Columns: [name, confidence, xmin, ymin, xmax, ymax]\n",
            "Index: []\n"
          ]
        },
        {
          "output_type": "stream",
          "name": "stderr",
          "text": [
            "/root/.cache/torch/hub/ultralytics_yolov5_master/models/common.py:892: FutureWarning: `torch.cuda.amp.autocast(args...)` is deprecated. Please use `torch.amp.autocast('cuda', args...)` instead.\n",
            "  with amp.autocast(autocast):\n"
          ]
        },
        {
          "output_type": "stream",
          "name": "stdout",
          "text": [
            "Detections for @lobelia4cosmetics_12015.jpg:\n",
            "Empty DataFrame\n",
            "Columns: [name, confidence, xmin, ymin, xmax, ymax]\n",
            "Index: []\n"
          ]
        },
        {
          "output_type": "stream",
          "name": "stderr",
          "text": [
            "/root/.cache/torch/hub/ultralytics_yolov5_master/models/common.py:892: FutureWarning: `torch.cuda.amp.autocast(args...)` is deprecated. Please use `torch.amp.autocast('cuda', args...)` instead.\n",
            "  with amp.autocast(autocast):\n"
          ]
        },
        {
          "output_type": "stream",
          "name": "stdout",
          "text": [
            "Detections for @lobelia4cosmetics_12016.jpg:\n",
            "Empty DataFrame\n",
            "Columns: [name, confidence, xmin, ymin, xmax, ymax]\n",
            "Index: []\n"
          ]
        },
        {
          "output_type": "stream",
          "name": "stderr",
          "text": [
            "/root/.cache/torch/hub/ultralytics_yolov5_master/models/common.py:892: FutureWarning: `torch.cuda.amp.autocast(args...)` is deprecated. Please use `torch.amp.autocast('cuda', args...)` instead.\n",
            "  with amp.autocast(autocast):\n"
          ]
        },
        {
          "output_type": "stream",
          "name": "stdout",
          "text": [
            "Detections for @lobelia4cosmetics_12014.jpg:\n",
            "Empty DataFrame\n",
            "Columns: [name, confidence, xmin, ymin, xmax, ymax]\n",
            "Index: []\n"
          ]
        },
        {
          "output_type": "stream",
          "name": "stderr",
          "text": [
            "/root/.cache/torch/hub/ultralytics_yolov5_master/models/common.py:892: FutureWarning: `torch.cuda.amp.autocast(args...)` is deprecated. Please use `torch.amp.autocast('cuda', args...)` instead.\n",
            "  with amp.autocast(autocast):\n"
          ]
        },
        {
          "output_type": "stream",
          "name": "stdout",
          "text": [
            "Detections for @lobelia4cosmetics_12011.jpg:\n",
            "Empty DataFrame\n",
            "Columns: [name, confidence, xmin, ymin, xmax, ymax]\n",
            "Index: []\n"
          ]
        },
        {
          "output_type": "stream",
          "name": "stderr",
          "text": [
            "/root/.cache/torch/hub/ultralytics_yolov5_master/models/common.py:892: FutureWarning: `torch.cuda.amp.autocast(args...)` is deprecated. Please use `torch.amp.autocast('cuda', args...)` instead.\n",
            "  with amp.autocast(autocast):\n"
          ]
        },
        {
          "output_type": "stream",
          "name": "stdout",
          "text": [
            "Detections for @lobelia4cosmetics_12012.jpg:\n",
            "      name  confidence        xmin        ymin         xmax        ymax\n",
            "0   orange    0.651067  139.897293  684.383362   274.718567  804.117371\n",
            "1    apple    0.593479  655.135925  846.802246   794.083069  986.809326\n",
            "2   orange    0.545961  462.394470  858.953247   607.903625  987.843994\n",
            "3   orange    0.508990  862.904846  685.561829   956.835754  800.884216\n",
            "4    apple    0.448015  323.679260  675.132507   388.085510  795.548767\n",
            "5    apple    0.401160  274.801392  636.340576   382.211548  774.034546\n",
            "6   orange    0.388854  386.991943  777.662292   456.453735  931.241028\n",
            "7    apple    0.360422  994.938843  666.499146  1142.079956  800.434448\n",
            "8   orange    0.352959  322.453949  679.394897   387.999481  797.897217\n",
            "9    apple    0.317702  385.638336  756.306580   458.495087  928.018860\n",
            "10  orange    0.296467   68.922997  595.958496   132.852188  758.495361\n"
          ]
        },
        {
          "output_type": "stream",
          "name": "stderr",
          "text": [
            "/root/.cache/torch/hub/ultralytics_yolov5_master/models/common.py:892: FutureWarning: `torch.cuda.amp.autocast(args...)` is deprecated. Please use `torch.amp.autocast('cuda', args...)` instead.\n",
            "  with amp.autocast(autocast):\n"
          ]
        },
        {
          "output_type": "stream",
          "name": "stdout",
          "text": [
            "Detections for @lobelia4cosmetics_12010.jpg:\n",
            "Empty DataFrame\n",
            "Columns: [name, confidence, xmin, ymin, xmax, ymax]\n",
            "Index: []\n"
          ]
        },
        {
          "output_type": "stream",
          "name": "stderr",
          "text": [
            "/root/.cache/torch/hub/ultralytics_yolov5_master/models/common.py:892: FutureWarning: `torch.cuda.amp.autocast(args...)` is deprecated. Please use `torch.amp.autocast('cuda', args...)` instead.\n",
            "  with amp.autocast(autocast):\n"
          ]
        },
        {
          "output_type": "stream",
          "name": "stdout",
          "text": [
            "Detections for @lobelia4cosmetics_12013.jpg:\n",
            "     name  confidence        xmin        ymin        xmax        ymax\n",
            "0  orange    0.377693  708.816406  438.498993  836.305786  518.246704\n",
            "1  orange    0.377175  288.880432  315.707275  462.019684  399.253693\n",
            "2  orange    0.338240  163.517136  337.105133  335.829010  406.659210\n",
            "3  orange    0.255887  806.214600  404.197449  983.961060  505.069977\n"
          ]
        },
        {
          "output_type": "stream",
          "name": "stderr",
          "text": [
            "/root/.cache/torch/hub/ultralytics_yolov5_master/models/common.py:892: FutureWarning: `torch.cuda.amp.autocast(args...)` is deprecated. Please use `torch.amp.autocast('cuda', args...)` instead.\n",
            "  with amp.autocast(autocast):\n"
          ]
        },
        {
          "output_type": "stream",
          "name": "stdout",
          "text": [
            "Detections for @lobelia4cosmetics_12009.jpg:\n",
            "     name  confidence        xmin        ymin        xmax        ymax\n",
            "0  person    0.892511  432.249756  421.728455  764.422974  903.556335\n"
          ]
        },
        {
          "output_type": "stream",
          "name": "stderr",
          "text": [
            "/root/.cache/torch/hub/ultralytics_yolov5_master/models/common.py:892: FutureWarning: `torch.cuda.amp.autocast(args...)` is deprecated. Please use `torch.amp.autocast('cuda', args...)` instead.\n",
            "  with amp.autocast(autocast):\n"
          ]
        },
        {
          "output_type": "stream",
          "name": "stdout",
          "text": [
            "Detections for @lobelia4cosmetics_12005.jpg:\n",
            "Empty DataFrame\n",
            "Columns: [name, confidence, xmin, ymin, xmax, ymax]\n",
            "Index: []\n"
          ]
        },
        {
          "output_type": "stream",
          "name": "stderr",
          "text": [
            "/root/.cache/torch/hub/ultralytics_yolov5_master/models/common.py:892: FutureWarning: `torch.cuda.amp.autocast(args...)` is deprecated. Please use `torch.amp.autocast('cuda', args...)` instead.\n",
            "  with amp.autocast(autocast):\n"
          ]
        },
        {
          "output_type": "stream",
          "name": "stdout",
          "text": [
            "Detections for @lobelia4cosmetics_12008.jpg:\n",
            "Empty DataFrame\n",
            "Columns: [name, confidence, xmin, ymin, xmax, ymax]\n",
            "Index: []\n"
          ]
        },
        {
          "output_type": "stream",
          "name": "stderr",
          "text": [
            "/root/.cache/torch/hub/ultralytics_yolov5_master/models/common.py:892: FutureWarning: `torch.cuda.amp.autocast(args...)` is deprecated. Please use `torch.amp.autocast('cuda', args...)` instead.\n",
            "  with amp.autocast(autocast):\n"
          ]
        },
        {
          "output_type": "stream",
          "name": "stdout",
          "text": [
            "Detections for @lobelia4cosmetics_12007.jpg:\n",
            "   name  confidence        xmin        ymin        xmax        ymax\n",
            "0  bowl    0.758214  140.742126  185.970306  275.191772  299.847687\n"
          ]
        },
        {
          "output_type": "stream",
          "name": "stderr",
          "text": [
            "/root/.cache/torch/hub/ultralytics_yolov5_master/models/common.py:892: FutureWarning: `torch.cuda.amp.autocast(args...)` is deprecated. Please use `torch.amp.autocast('cuda', args...)` instead.\n",
            "  with amp.autocast(autocast):\n"
          ]
        },
        {
          "output_type": "stream",
          "name": "stdout",
          "text": [
            "Detections for @lobelia4cosmetics_12006.jpg:\n",
            "     name  confidence        xmin       ymin        xmax         ymax\n",
            "0  bottle    0.302834  345.213257  27.171362  849.627319  1115.989014\n"
          ]
        },
        {
          "output_type": "stream",
          "name": "stderr",
          "text": [
            "/root/.cache/torch/hub/ultralytics_yolov5_master/models/common.py:892: FutureWarning: `torch.cuda.amp.autocast(args...)` is deprecated. Please use `torch.amp.autocast('cuda', args...)` instead.\n",
            "  with amp.autocast(autocast):\n"
          ]
        },
        {
          "output_type": "stream",
          "name": "stdout",
          "text": [
            "Detections for @lobelia4cosmetics_12002.jpg:\n",
            "     name  confidence        xmin        ymin        xmax         ymax\n",
            "0  person    0.854438  386.629089  569.150818  798.967346  1072.493408\n"
          ]
        },
        {
          "output_type": "stream",
          "name": "stderr",
          "text": [
            "/root/.cache/torch/hub/ultralytics_yolov5_master/models/common.py:892: FutureWarning: `torch.cuda.amp.autocast(args...)` is deprecated. Please use `torch.amp.autocast('cuda', args...)` instead.\n",
            "  with amp.autocast(autocast):\n"
          ]
        },
        {
          "output_type": "stream",
          "name": "stdout",
          "text": [
            "Detections for @lobelia4cosmetics_11998.jpg:\n",
            "Empty DataFrame\n",
            "Columns: [name, confidence, xmin, ymin, xmax, ymax]\n",
            "Index: []\n"
          ]
        },
        {
          "output_type": "stream",
          "name": "stderr",
          "text": [
            "/root/.cache/torch/hub/ultralytics_yolov5_master/models/common.py:892: FutureWarning: `torch.cuda.amp.autocast(args...)` is deprecated. Please use `torch.amp.autocast('cuda', args...)` instead.\n",
            "  with amp.autocast(autocast):\n"
          ]
        },
        {
          "output_type": "stream",
          "name": "stdout",
          "text": [
            "Detections for @lobelia4cosmetics_12004.jpg:\n",
            "Empty DataFrame\n",
            "Columns: [name, confidence, xmin, ymin, xmax, ymax]\n",
            "Index: []\n"
          ]
        },
        {
          "output_type": "stream",
          "name": "stderr",
          "text": [
            "/root/.cache/torch/hub/ultralytics_yolov5_master/models/common.py:892: FutureWarning: `torch.cuda.amp.autocast(args...)` is deprecated. Please use `torch.amp.autocast('cuda', args...)` instead.\n",
            "  with amp.autocast(autocast):\n"
          ]
        },
        {
          "output_type": "stream",
          "name": "stdout",
          "text": [
            "Detections for @lobelia4cosmetics_12003.jpg:\n",
            "     name  confidence        xmin       ymin        xmax         ymax\n",
            "0  bottle    0.421528  565.431885  156.89032  929.445435  1261.609375\n"
          ]
        },
        {
          "output_type": "stream",
          "name": "stderr",
          "text": [
            "/root/.cache/torch/hub/ultralytics_yolov5_master/models/common.py:892: FutureWarning: `torch.cuda.amp.autocast(args...)` is deprecated. Please use `torch.amp.autocast('cuda', args...)` instead.\n",
            "  with amp.autocast(autocast):\n"
          ]
        },
        {
          "output_type": "stream",
          "name": "stdout",
          "text": [
            "Detections for @lobelia4cosmetics_12000.jpg:\n",
            "     name  confidence       xmin        ymin        xmax        ymax\n",
            "0  person    0.526795  71.351341  271.467834  201.004105  451.916229\n",
            "1  person    0.271554  70.582901  270.818848  133.516663  421.879883\n"
          ]
        },
        {
          "output_type": "stream",
          "name": "stderr",
          "text": [
            "/root/.cache/torch/hub/ultralytics_yolov5_master/models/common.py:892: FutureWarning: `torch.cuda.amp.autocast(args...)` is deprecated. Please use `torch.amp.autocast('cuda', args...)` instead.\n",
            "  with amp.autocast(autocast):\n"
          ]
        },
        {
          "output_type": "stream",
          "name": "stdout",
          "text": [
            "Detections for @lobelia4cosmetics_11999.jpg:\n",
            "Empty DataFrame\n",
            "Columns: [name, confidence, xmin, ymin, xmax, ymax]\n",
            "Index: []\n"
          ]
        },
        {
          "output_type": "stream",
          "name": "stderr",
          "text": [
            "/root/.cache/torch/hub/ultralytics_yolov5_master/models/common.py:892: FutureWarning: `torch.cuda.amp.autocast(args...)` is deprecated. Please use `torch.amp.autocast('cuda', args...)` instead.\n",
            "  with amp.autocast(autocast):\n"
          ]
        },
        {
          "output_type": "stream",
          "name": "stdout",
          "text": [
            "Detections for @lobelia4cosmetics_11996.jpg:\n",
            "Empty DataFrame\n",
            "Columns: [name, confidence, xmin, ymin, xmax, ymax]\n",
            "Index: []\n"
          ]
        },
        {
          "output_type": "stream",
          "name": "stderr",
          "text": [
            "/root/.cache/torch/hub/ultralytics_yolov5_master/models/common.py:892: FutureWarning: `torch.cuda.amp.autocast(args...)` is deprecated. Please use `torch.amp.autocast('cuda', args...)` instead.\n",
            "  with amp.autocast(autocast):\n"
          ]
        },
        {
          "output_type": "stream",
          "name": "stdout",
          "text": [
            "Detections for @lobelia4cosmetics_11997.jpg:\n",
            "Empty DataFrame\n",
            "Columns: [name, confidence, xmin, ymin, xmax, ymax]\n",
            "Index: []\n"
          ]
        },
        {
          "output_type": "stream",
          "name": "stderr",
          "text": [
            "/root/.cache/torch/hub/ultralytics_yolov5_master/models/common.py:892: FutureWarning: `torch.cuda.amp.autocast(args...)` is deprecated. Please use `torch.amp.autocast('cuda', args...)` instead.\n",
            "  with amp.autocast(autocast):\n"
          ]
        },
        {
          "output_type": "stream",
          "name": "stdout",
          "text": [
            "Detections for @lobelia4cosmetics_11995.jpg:\n",
            "  name  confidence       xmin        ymin        xmax        ymax\n",
            "0  cup    0.646768  71.777611  245.878174  149.468277  308.447205\n"
          ]
        },
        {
          "output_type": "stream",
          "name": "stderr",
          "text": [
            "/root/.cache/torch/hub/ultralytics_yolov5_master/models/common.py:892: FutureWarning: `torch.cuda.amp.autocast(args...)` is deprecated. Please use `torch.amp.autocast('cuda', args...)` instead.\n",
            "  with amp.autocast(autocast):\n"
          ]
        },
        {
          "output_type": "stream",
          "name": "stdout",
          "text": [
            "Detections for @lobelia4cosmetics_11994.jpg:\n",
            "Empty DataFrame\n",
            "Columns: [name, confidence, xmin, ymin, xmax, ymax]\n",
            "Index: []\n"
          ]
        },
        {
          "output_type": "stream",
          "name": "stderr",
          "text": [
            "/root/.cache/torch/hub/ultralytics_yolov5_master/models/common.py:892: FutureWarning: `torch.cuda.amp.autocast(args...)` is deprecated. Please use `torch.amp.autocast('cuda', args...)` instead.\n",
            "  with amp.autocast(autocast):\n"
          ]
        },
        {
          "output_type": "stream",
          "name": "stdout",
          "text": [
            "Detections for @lobelia4cosmetics_11993.jpg:\n",
            "Empty DataFrame\n",
            "Columns: [name, confidence, xmin, ymin, xmax, ymax]\n",
            "Index: []\n"
          ]
        },
        {
          "output_type": "stream",
          "name": "stderr",
          "text": [
            "/root/.cache/torch/hub/ultralytics_yolov5_master/models/common.py:892: FutureWarning: `torch.cuda.amp.autocast(args...)` is deprecated. Please use `torch.amp.autocast('cuda', args...)` instead.\n",
            "  with amp.autocast(autocast):\n"
          ]
        },
        {
          "output_type": "stream",
          "name": "stdout",
          "text": [
            "Detections for @lobelia4cosmetics_11990.jpg:\n",
            "Empty DataFrame\n",
            "Columns: [name, confidence, xmin, ymin, xmax, ymax]\n",
            "Index: []\n"
          ]
        },
        {
          "output_type": "stream",
          "name": "stderr",
          "text": [
            "/root/.cache/torch/hub/ultralytics_yolov5_master/models/common.py:892: FutureWarning: `torch.cuda.amp.autocast(args...)` is deprecated. Please use `torch.amp.autocast('cuda', args...)` instead.\n",
            "  with amp.autocast(autocast):\n"
          ]
        },
        {
          "output_type": "stream",
          "name": "stdout",
          "text": [
            "Detections for @lobelia4cosmetics_11992.jpg:\n",
            "     name  confidence        xmin        ymin        xmax         ymax\n",
            "0  banana    0.291535  369.624725  971.445618  480.051727  1161.541992\n"
          ]
        },
        {
          "output_type": "stream",
          "name": "stderr",
          "text": [
            "/root/.cache/torch/hub/ultralytics_yolov5_master/models/common.py:892: FutureWarning: `torch.cuda.amp.autocast(args...)` is deprecated. Please use `torch.amp.autocast('cuda', args...)` instead.\n",
            "  with amp.autocast(autocast):\n"
          ]
        },
        {
          "output_type": "stream",
          "name": "stdout",
          "text": [
            "Detections for @lobelia4cosmetics_11987.jpg:\n",
            "Empty DataFrame\n",
            "Columns: [name, confidence, xmin, ymin, xmax, ymax]\n",
            "Index: []\n"
          ]
        },
        {
          "output_type": "stream",
          "name": "stderr",
          "text": [
            "/root/.cache/torch/hub/ultralytics_yolov5_master/models/common.py:892: FutureWarning: `torch.cuda.amp.autocast(args...)` is deprecated. Please use `torch.amp.autocast('cuda', args...)` instead.\n",
            "  with amp.autocast(autocast):\n"
          ]
        },
        {
          "output_type": "stream",
          "name": "stdout",
          "text": [
            "Detections for @lobelia4cosmetics_11988.jpg:\n",
            "Empty DataFrame\n",
            "Columns: [name, confidence, xmin, ymin, xmax, ymax]\n",
            "Index: []\n"
          ]
        },
        {
          "output_type": "stream",
          "name": "stderr",
          "text": [
            "/root/.cache/torch/hub/ultralytics_yolov5_master/models/common.py:892: FutureWarning: `torch.cuda.amp.autocast(args...)` is deprecated. Please use `torch.amp.autocast('cuda', args...)` instead.\n",
            "  with amp.autocast(autocast):\n"
          ]
        },
        {
          "output_type": "stream",
          "name": "stdout",
          "text": [
            "Detections for @lobelia4cosmetics_11991.jpg:\n",
            "Empty DataFrame\n",
            "Columns: [name, confidence, xmin, ymin, xmax, ymax]\n",
            "Index: []\n"
          ]
        },
        {
          "output_type": "stream",
          "name": "stderr",
          "text": [
            "/root/.cache/torch/hub/ultralytics_yolov5_master/models/common.py:892: FutureWarning: `torch.cuda.amp.autocast(args...)` is deprecated. Please use `torch.amp.autocast('cuda', args...)` instead.\n",
            "  with amp.autocast(autocast):\n"
          ]
        },
        {
          "output_type": "stream",
          "name": "stdout",
          "text": [
            "Detections for @lobelia4cosmetics_11989.jpg:\n",
            "Empty DataFrame\n",
            "Columns: [name, confidence, xmin, ymin, xmax, ymax]\n",
            "Index: []\n"
          ]
        },
        {
          "output_type": "stream",
          "name": "stderr",
          "text": [
            "/root/.cache/torch/hub/ultralytics_yolov5_master/models/common.py:892: FutureWarning: `torch.cuda.amp.autocast(args...)` is deprecated. Please use `torch.amp.autocast('cuda', args...)` instead.\n",
            "  with amp.autocast(autocast):\n"
          ]
        },
        {
          "output_type": "stream",
          "name": "stdout",
          "text": [
            "Detections for @lobelia4cosmetics_11986.jpg:\n",
            "Empty DataFrame\n",
            "Columns: [name, confidence, xmin, ymin, xmax, ymax]\n",
            "Index: []\n"
          ]
        },
        {
          "output_type": "stream",
          "name": "stderr",
          "text": [
            "/root/.cache/torch/hub/ultralytics_yolov5_master/models/common.py:892: FutureWarning: `torch.cuda.amp.autocast(args...)` is deprecated. Please use `torch.amp.autocast('cuda', args...)` instead.\n",
            "  with amp.autocast(autocast):\n"
          ]
        },
        {
          "output_type": "stream",
          "name": "stdout",
          "text": [
            "Detections for @lobelia4cosmetics_11984.jpg:\n",
            "     name  confidence        xmin        ymin        xmax        ymax\n",
            "0  person    0.861932  649.881348  564.329102  956.756958  946.794189\n"
          ]
        },
        {
          "output_type": "stream",
          "name": "stderr",
          "text": [
            "/root/.cache/torch/hub/ultralytics_yolov5_master/models/common.py:892: FutureWarning: `torch.cuda.amp.autocast(args...)` is deprecated. Please use `torch.amp.autocast('cuda', args...)` instead.\n",
            "  with amp.autocast(autocast):\n"
          ]
        },
        {
          "output_type": "stream",
          "name": "stdout",
          "text": [
            "Detections for @lobelia4cosmetics_11983.jpg:\n",
            "Empty DataFrame\n",
            "Columns: [name, confidence, xmin, ymin, xmax, ymax]\n",
            "Index: []\n"
          ]
        },
        {
          "output_type": "stream",
          "name": "stderr",
          "text": [
            "/root/.cache/torch/hub/ultralytics_yolov5_master/models/common.py:892: FutureWarning: `torch.cuda.amp.autocast(args...)` is deprecated. Please use `torch.amp.autocast('cuda', args...)` instead.\n",
            "  with amp.autocast(autocast):\n"
          ]
        },
        {
          "output_type": "stream",
          "name": "stdout",
          "text": [
            "Detections for @lobelia4cosmetics_11985.jpg:\n",
            "Empty DataFrame\n",
            "Columns: [name, confidence, xmin, ymin, xmax, ymax]\n",
            "Index: []\n"
          ]
        },
        {
          "output_type": "stream",
          "name": "stderr",
          "text": [
            "/root/.cache/torch/hub/ultralytics_yolov5_master/models/common.py:892: FutureWarning: `torch.cuda.amp.autocast(args...)` is deprecated. Please use `torch.amp.autocast('cuda', args...)` instead.\n",
            "  with amp.autocast(autocast):\n"
          ]
        },
        {
          "output_type": "stream",
          "name": "stdout",
          "text": [
            "Detections for @lobelia4cosmetics_11982.jpg:\n",
            "Empty DataFrame\n",
            "Columns: [name, confidence, xmin, ymin, xmax, ymax]\n",
            "Index: []\n"
          ]
        },
        {
          "output_type": "stream",
          "name": "stderr",
          "text": [
            "/root/.cache/torch/hub/ultralytics_yolov5_master/models/common.py:892: FutureWarning: `torch.cuda.amp.autocast(args...)` is deprecated. Please use `torch.amp.autocast('cuda', args...)` instead.\n",
            "  with amp.autocast(autocast):\n"
          ]
        },
        {
          "output_type": "stream",
          "name": "stdout",
          "text": [
            "Detections for @lobelia4cosmetics_11978.jpg:\n",
            "Empty DataFrame\n",
            "Columns: [name, confidence, xmin, ymin, xmax, ymax]\n",
            "Index: []\n"
          ]
        },
        {
          "output_type": "stream",
          "name": "stderr",
          "text": [
            "/root/.cache/torch/hub/ultralytics_yolov5_master/models/common.py:892: FutureWarning: `torch.cuda.amp.autocast(args...)` is deprecated. Please use `torch.amp.autocast('cuda', args...)` instead.\n",
            "  with amp.autocast(autocast):\n"
          ]
        },
        {
          "output_type": "stream",
          "name": "stdout",
          "text": [
            "Detections for @lobelia4cosmetics_11981.jpg:\n",
            "Empty DataFrame\n",
            "Columns: [name, confidence, xmin, ymin, xmax, ymax]\n",
            "Index: []\n"
          ]
        },
        {
          "output_type": "stream",
          "name": "stderr",
          "text": [
            "/root/.cache/torch/hub/ultralytics_yolov5_master/models/common.py:892: FutureWarning: `torch.cuda.amp.autocast(args...)` is deprecated. Please use `torch.amp.autocast('cuda', args...)` instead.\n",
            "  with amp.autocast(autocast):\n"
          ]
        },
        {
          "output_type": "stream",
          "name": "stdout",
          "text": [
            "Detections for @lobelia4cosmetics_11975.jpg:\n",
            "Empty DataFrame\n",
            "Columns: [name, confidence, xmin, ymin, xmax, ymax]\n",
            "Index: []\n"
          ]
        },
        {
          "output_type": "stream",
          "name": "stderr",
          "text": [
            "/root/.cache/torch/hub/ultralytics_yolov5_master/models/common.py:892: FutureWarning: `torch.cuda.amp.autocast(args...)` is deprecated. Please use `torch.amp.autocast('cuda', args...)` instead.\n",
            "  with amp.autocast(autocast):\n"
          ]
        },
        {
          "output_type": "stream",
          "name": "stdout",
          "text": [
            "Detections for @lobelia4cosmetics_11980.jpg:\n",
            "Empty DataFrame\n",
            "Columns: [name, confidence, xmin, ymin, xmax, ymax]\n",
            "Index: []\n"
          ]
        },
        {
          "output_type": "stream",
          "name": "stderr",
          "text": [
            "/root/.cache/torch/hub/ultralytics_yolov5_master/models/common.py:892: FutureWarning: `torch.cuda.amp.autocast(args...)` is deprecated. Please use `torch.amp.autocast('cuda', args...)` instead.\n",
            "  with amp.autocast(autocast):\n"
          ]
        },
        {
          "output_type": "stream",
          "name": "stdout",
          "text": [
            "Detections for @lobelia4cosmetics_11979.jpg:\n",
            "Empty DataFrame\n",
            "Columns: [name, confidence, xmin, ymin, xmax, ymax]\n",
            "Index: []\n"
          ]
        },
        {
          "output_type": "stream",
          "name": "stderr",
          "text": [
            "/root/.cache/torch/hub/ultralytics_yolov5_master/models/common.py:892: FutureWarning: `torch.cuda.amp.autocast(args...)` is deprecated. Please use `torch.amp.autocast('cuda', args...)` instead.\n",
            "  with amp.autocast(autocast):\n"
          ]
        },
        {
          "output_type": "stream",
          "name": "stdout",
          "text": [
            "Detections for @lobelia4cosmetics_11977.jpg:\n",
            "Empty DataFrame\n",
            "Columns: [name, confidence, xmin, ymin, xmax, ymax]\n",
            "Index: []\n"
          ]
        },
        {
          "output_type": "stream",
          "name": "stderr",
          "text": [
            "/root/.cache/torch/hub/ultralytics_yolov5_master/models/common.py:892: FutureWarning: `torch.cuda.amp.autocast(args...)` is deprecated. Please use `torch.amp.autocast('cuda', args...)` instead.\n",
            "  with amp.autocast(autocast):\n"
          ]
        },
        {
          "output_type": "stream",
          "name": "stdout",
          "text": [
            "Detections for @lobelia4cosmetics_11956.jpg:\n",
            "Empty DataFrame\n",
            "Columns: [name, confidence, xmin, ymin, xmax, ymax]\n",
            "Index: []\n"
          ]
        },
        {
          "output_type": "stream",
          "name": "stderr",
          "text": [
            "/root/.cache/torch/hub/ultralytics_yolov5_master/models/common.py:892: FutureWarning: `torch.cuda.amp.autocast(args...)` is deprecated. Please use `torch.amp.autocast('cuda', args...)` instead.\n",
            "  with amp.autocast(autocast):\n"
          ]
        },
        {
          "output_type": "stream",
          "name": "stdout",
          "text": [
            "Detections for @lobelia4cosmetics_11976.jpg:\n",
            "Empty DataFrame\n",
            "Columns: [name, confidence, xmin, ymin, xmax, ymax]\n",
            "Index: []\n"
          ]
        },
        {
          "output_type": "stream",
          "name": "stderr",
          "text": [
            "/root/.cache/torch/hub/ultralytics_yolov5_master/models/common.py:892: FutureWarning: `torch.cuda.amp.autocast(args...)` is deprecated. Please use `torch.amp.autocast('cuda', args...)` instead.\n",
            "  with amp.autocast(autocast):\n"
          ]
        },
        {
          "output_type": "stream",
          "name": "stdout",
          "text": [
            "Detections for @lobelia4cosmetics_11959.jpg:\n",
            "Empty DataFrame\n",
            "Columns: [name, confidence, xmin, ymin, xmax, ymax]\n",
            "Index: []\n"
          ]
        },
        {
          "output_type": "stream",
          "name": "stderr",
          "text": [
            "/root/.cache/torch/hub/ultralytics_yolov5_master/models/common.py:892: FutureWarning: `torch.cuda.amp.autocast(args...)` is deprecated. Please use `torch.amp.autocast('cuda', args...)` instead.\n",
            "  with amp.autocast(autocast):\n"
          ]
        },
        {
          "output_type": "stream",
          "name": "stdout",
          "text": [
            "Detections for @lobelia4cosmetics_11960.jpg:\n",
            "Empty DataFrame\n",
            "Columns: [name, confidence, xmin, ymin, xmax, ymax]\n",
            "Index: []\n"
          ]
        },
        {
          "output_type": "stream",
          "name": "stderr",
          "text": [
            "/root/.cache/torch/hub/ultralytics_yolov5_master/models/common.py:892: FutureWarning: `torch.cuda.amp.autocast(args...)` is deprecated. Please use `torch.amp.autocast('cuda', args...)` instead.\n",
            "  with amp.autocast(autocast):\n"
          ]
        },
        {
          "output_type": "stream",
          "name": "stdout",
          "text": [
            "Detections for @lobelia4cosmetics_11949.jpg:\n",
            "Empty DataFrame\n",
            "Columns: [name, confidence, xmin, ymin, xmax, ymax]\n",
            "Index: []\n"
          ]
        },
        {
          "output_type": "stream",
          "name": "stderr",
          "text": [
            "/root/.cache/torch/hub/ultralytics_yolov5_master/models/common.py:892: FutureWarning: `torch.cuda.amp.autocast(args...)` is deprecated. Please use `torch.amp.autocast('cuda', args...)` instead.\n",
            "  with amp.autocast(autocast):\n"
          ]
        },
        {
          "output_type": "stream",
          "name": "stdout",
          "text": [
            "Detections for @lobelia4cosmetics_11948.jpg:\n",
            "     name  confidence        xmin       ymin        xmax         ymax\n",
            "0  bottle    0.302834  345.213257  27.171362  849.627319  1115.989014\n"
          ]
        },
        {
          "output_type": "stream",
          "name": "stderr",
          "text": [
            "/root/.cache/torch/hub/ultralytics_yolov5_master/models/common.py:892: FutureWarning: `torch.cuda.amp.autocast(args...)` is deprecated. Please use `torch.amp.autocast('cuda', args...)` instead.\n",
            "  with amp.autocast(autocast):\n"
          ]
        },
        {
          "output_type": "stream",
          "name": "stdout",
          "text": [
            "Detections for @lobelia4cosmetics_11971.jpg:\n",
            "Empty DataFrame\n",
            "Columns: [name, confidence, xmin, ymin, xmax, ymax]\n",
            "Index: []\n"
          ]
        },
        {
          "output_type": "stream",
          "name": "stderr",
          "text": [
            "/root/.cache/torch/hub/ultralytics_yolov5_master/models/common.py:892: FutureWarning: `torch.cuda.amp.autocast(args...)` is deprecated. Please use `torch.amp.autocast('cuda', args...)` instead.\n",
            "  with amp.autocast(autocast):\n"
          ]
        },
        {
          "output_type": "stream",
          "name": "stdout",
          "text": [
            "Detections for @lobelia4cosmetics_11974.jpg:\n",
            "Empty DataFrame\n",
            "Columns: [name, confidence, xmin, ymin, xmax, ymax]\n",
            "Index: []\n"
          ]
        },
        {
          "output_type": "stream",
          "name": "stderr",
          "text": [
            "/root/.cache/torch/hub/ultralytics_yolov5_master/models/common.py:892: FutureWarning: `torch.cuda.amp.autocast(args...)` is deprecated. Please use `torch.amp.autocast('cuda', args...)` instead.\n",
            "  with amp.autocast(autocast):\n"
          ]
        },
        {
          "output_type": "stream",
          "name": "stdout",
          "text": [
            "Detections for @lobelia4cosmetics_11972.jpg:\n",
            "Empty DataFrame\n",
            "Columns: [name, confidence, xmin, ymin, xmax, ymax]\n",
            "Index: []\n"
          ]
        },
        {
          "output_type": "stream",
          "name": "stderr",
          "text": [
            "/root/.cache/torch/hub/ultralytics_yolov5_master/models/common.py:892: FutureWarning: `torch.cuda.amp.autocast(args...)` is deprecated. Please use `torch.amp.autocast('cuda', args...)` instead.\n",
            "  with amp.autocast(autocast):\n"
          ]
        },
        {
          "output_type": "stream",
          "name": "stdout",
          "text": [
            "Detections for @lobelia4cosmetics_11947.jpg:\n",
            "     name  confidence        xmin        ymin        xmax        ymax\n",
            "0  person    0.892511  432.249756  421.728455  764.422974  903.556335\n"
          ]
        },
        {
          "output_type": "stream",
          "name": "stderr",
          "text": [
            "/root/.cache/torch/hub/ultralytics_yolov5_master/models/common.py:892: FutureWarning: `torch.cuda.amp.autocast(args...)` is deprecated. Please use `torch.amp.autocast('cuda', args...)` instead.\n",
            "  with amp.autocast(autocast):\n"
          ]
        },
        {
          "output_type": "stream",
          "name": "stdout",
          "text": [
            "Detections for @lobelia4cosmetics_11973.jpg:\n",
            "Empty DataFrame\n",
            "Columns: [name, confidence, xmin, ymin, xmax, ymax]\n",
            "Index: []\n"
          ]
        },
        {
          "output_type": "stream",
          "name": "stderr",
          "text": [
            "/root/.cache/torch/hub/ultralytics_yolov5_master/models/common.py:892: FutureWarning: `torch.cuda.amp.autocast(args...)` is deprecated. Please use `torch.amp.autocast('cuda', args...)` instead.\n",
            "  with amp.autocast(autocast):\n"
          ]
        },
        {
          "output_type": "stream",
          "name": "stdout",
          "text": [
            "Detections for @lobelia4cosmetics_11951.jpg:\n",
            "Empty DataFrame\n",
            "Columns: [name, confidence, xmin, ymin, xmax, ymax]\n",
            "Index: []\n"
          ]
        },
        {
          "output_type": "stream",
          "name": "stderr",
          "text": [
            "/root/.cache/torch/hub/ultralytics_yolov5_master/models/common.py:892: FutureWarning: `torch.cuda.amp.autocast(args...)` is deprecated. Please use `torch.amp.autocast('cuda', args...)` instead.\n",
            "  with amp.autocast(autocast):\n"
          ]
        },
        {
          "output_type": "stream",
          "name": "stdout",
          "text": [
            "Detections for @lobelia4cosmetics_11957.jpg:\n",
            "Empty DataFrame\n",
            "Columns: [name, confidence, xmin, ymin, xmax, ymax]\n",
            "Index: []\n"
          ]
        },
        {
          "output_type": "stream",
          "name": "stderr",
          "text": [
            "/root/.cache/torch/hub/ultralytics_yolov5_master/models/common.py:892: FutureWarning: `torch.cuda.amp.autocast(args...)` is deprecated. Please use `torch.amp.autocast('cuda', args...)` instead.\n",
            "  with amp.autocast(autocast):\n"
          ]
        },
        {
          "output_type": "stream",
          "name": "stdout",
          "text": [
            "Detections for @lobelia4cosmetics_11950.jpg:\n",
            "     name  confidence        xmin        ymin        xmax         ymax\n",
            "0  person    0.854438  386.629089  569.150818  798.967346  1072.493408\n"
          ]
        },
        {
          "output_type": "stream",
          "name": "stderr",
          "text": [
            "/root/.cache/torch/hub/ultralytics_yolov5_master/models/common.py:892: FutureWarning: `torch.cuda.amp.autocast(args...)` is deprecated. Please use `torch.amp.autocast('cuda', args...)` instead.\n",
            "  with amp.autocast(autocast):\n"
          ]
        },
        {
          "output_type": "stream",
          "name": "stdout",
          "text": [
            "Detections for @lobelia4cosmetics_11952.jpg:\n",
            "     name  confidence        xmin        ymin        xmax        ymax\n",
            "0  orange    0.377693  708.816406  438.498993  836.305786  518.246704\n",
            "1  orange    0.377175  288.880432  315.707275  462.019684  399.253693\n",
            "2  orange    0.338240  163.517136  337.105133  335.829010  406.659210\n",
            "3  orange    0.255887  806.214600  404.197449  983.961060  505.069977\n"
          ]
        },
        {
          "output_type": "stream",
          "name": "stderr",
          "text": [
            "/root/.cache/torch/hub/ultralytics_yolov5_master/models/common.py:892: FutureWarning: `torch.cuda.amp.autocast(args...)` is deprecated. Please use `torch.amp.autocast('cuda', args...)` instead.\n",
            "  with amp.autocast(autocast):\n"
          ]
        },
        {
          "output_type": "stream",
          "name": "stdout",
          "text": [
            "Detections for @lobelia4cosmetics_11958.jpg:\n",
            "Empty DataFrame\n",
            "Columns: [name, confidence, xmin, ymin, xmax, ymax]\n",
            "Index: []\n"
          ]
        },
        {
          "output_type": "stream",
          "name": "stderr",
          "text": [
            "/root/.cache/torch/hub/ultralytics_yolov5_master/models/common.py:892: FutureWarning: `torch.cuda.amp.autocast(args...)` is deprecated. Please use `torch.amp.autocast('cuda', args...)` instead.\n",
            "  with amp.autocast(autocast):\n"
          ]
        },
        {
          "output_type": "stream",
          "name": "stdout",
          "text": [
            "Detections for @lobelia4cosmetics_11955.jpg:\n",
            "     name  confidence       xmin  ymin        xmax        ymax\n",
            "0  bottle    0.434455  160.30101   0.0  351.007507  496.128174\n"
          ]
        },
        {
          "output_type": "stream",
          "name": "stderr",
          "text": [
            "/root/.cache/torch/hub/ultralytics_yolov5_master/models/common.py:892: FutureWarning: `torch.cuda.amp.autocast(args...)` is deprecated. Please use `torch.amp.autocast('cuda', args...)` instead.\n",
            "  with amp.autocast(autocast):\n"
          ]
        },
        {
          "output_type": "stream",
          "name": "stdout",
          "text": [
            "Detections for @lobelia4cosmetics_11970.jpg:\n",
            "Empty DataFrame\n",
            "Columns: [name, confidence, xmin, ymin, xmax, ymax]\n",
            "Index: []\n"
          ]
        },
        {
          "output_type": "stream",
          "name": "stderr",
          "text": [
            "/root/.cache/torch/hub/ultralytics_yolov5_master/models/common.py:892: FutureWarning: `torch.cuda.amp.autocast(args...)` is deprecated. Please use `torch.amp.autocast('cuda', args...)` instead.\n",
            "  with amp.autocast(autocast):\n"
          ]
        },
        {
          "output_type": "stream",
          "name": "stdout",
          "text": [
            "Detections for @lobelia4cosmetics_11954.jpg:\n",
            "Empty DataFrame\n",
            "Columns: [name, confidence, xmin, ymin, xmax, ymax]\n",
            "Index: []\n"
          ]
        },
        {
          "output_type": "stream",
          "name": "stderr",
          "text": [
            "/root/.cache/torch/hub/ultralytics_yolov5_master/models/common.py:892: FutureWarning: `torch.cuda.amp.autocast(args...)` is deprecated. Please use `torch.amp.autocast('cuda', args...)` instead.\n",
            "  with amp.autocast(autocast):\n"
          ]
        },
        {
          "output_type": "stream",
          "name": "stdout",
          "text": [
            "Detections for @lobelia4cosmetics_11953.jpg:\n",
            "Empty DataFrame\n",
            "Columns: [name, confidence, xmin, ymin, xmax, ymax]\n",
            "Index: []\n"
          ]
        },
        {
          "output_type": "stream",
          "name": "stderr",
          "text": [
            "/root/.cache/torch/hub/ultralytics_yolov5_master/models/common.py:892: FutureWarning: `torch.cuda.amp.autocast(args...)` is deprecated. Please use `torch.amp.autocast('cuda', args...)` instead.\n",
            "  with amp.autocast(autocast):\n"
          ]
        },
        {
          "output_type": "stream",
          "name": "stdout",
          "text": [
            "Detections for @lobelia4cosmetics_11969.jpg:\n",
            "     name  confidence        xmin        ymin        xmax        ymax\n",
            "0  banana    0.321508  833.838074  428.316528  923.337952  526.941895\n",
            "1   donut    0.268656  504.534119  675.769714  586.381958  745.471985\n"
          ]
        },
        {
          "output_type": "stream",
          "name": "stderr",
          "text": [
            "/root/.cache/torch/hub/ultralytics_yolov5_master/models/common.py:892: FutureWarning: `torch.cuda.amp.autocast(args...)` is deprecated. Please use `torch.amp.autocast('cuda', args...)` instead.\n",
            "  with amp.autocast(autocast):\n"
          ]
        },
        {
          "output_type": "stream",
          "name": "stdout",
          "text": [
            "Detections for @lobelia4cosmetics_11968.jpg:\n",
            "    name  confidence        xmin        ymin        xmax         ymax\n",
            "0  clock    0.653354  297.035736  174.852615  875.716736   759.952576\n",
            "1  donut    0.390350  404.631073  923.974426  492.100800  1016.315857\n",
            "2  donut    0.312811  616.030823  964.383850  712.616760  1078.172852\n",
            "3   fork    0.258616  755.290771  796.080139  999.244934  1011.520569\n"
          ]
        },
        {
          "output_type": "stream",
          "name": "stderr",
          "text": [
            "/root/.cache/torch/hub/ultralytics_yolov5_master/models/common.py:892: FutureWarning: `torch.cuda.amp.autocast(args...)` is deprecated. Please use `torch.amp.autocast('cuda', args...)` instead.\n",
            "  with amp.autocast(autocast):\n"
          ]
        },
        {
          "output_type": "stream",
          "name": "stdout",
          "text": [
            "Detections for @lobelia4cosmetics_11966.jpg:\n",
            "Empty DataFrame\n",
            "Columns: [name, confidence, xmin, ymin, xmax, ymax]\n",
            "Index: []\n"
          ]
        },
        {
          "output_type": "stream",
          "name": "stderr",
          "text": [
            "/root/.cache/torch/hub/ultralytics_yolov5_master/models/common.py:892: FutureWarning: `torch.cuda.amp.autocast(args...)` is deprecated. Please use `torch.amp.autocast('cuda', args...)` instead.\n",
            "  with amp.autocast(autocast):\n"
          ]
        },
        {
          "output_type": "stream",
          "name": "stdout",
          "text": [
            "Detections for @lobelia4cosmetics_11963.jpg:\n",
            "Empty DataFrame\n",
            "Columns: [name, confidence, xmin, ymin, xmax, ymax]\n",
            "Index: []\n"
          ]
        },
        {
          "output_type": "stream",
          "name": "stderr",
          "text": [
            "/root/.cache/torch/hub/ultralytics_yolov5_master/models/common.py:892: FutureWarning: `torch.cuda.amp.autocast(args...)` is deprecated. Please use `torch.amp.autocast('cuda', args...)` instead.\n",
            "  with amp.autocast(autocast):\n"
          ]
        },
        {
          "output_type": "stream",
          "name": "stdout",
          "text": [
            "Detections for @lobelia4cosmetics_11965.jpg:\n",
            "Empty DataFrame\n",
            "Columns: [name, confidence, xmin, ymin, xmax, ymax]\n",
            "Index: []\n"
          ]
        },
        {
          "output_type": "stream",
          "name": "stderr",
          "text": [
            "/root/.cache/torch/hub/ultralytics_yolov5_master/models/common.py:892: FutureWarning: `torch.cuda.amp.autocast(args...)` is deprecated. Please use `torch.amp.autocast('cuda', args...)` instead.\n",
            "  with amp.autocast(autocast):\n"
          ]
        },
        {
          "output_type": "stream",
          "name": "stdout",
          "text": [
            "Detections for @lobelia4cosmetics_11967.jpg:\n",
            "     name  confidence        xmin        ymin        xmax        ymax\n",
            "0  person    0.542076  316.487823  259.227722  515.913269  582.338013\n"
          ]
        },
        {
          "output_type": "stream",
          "name": "stderr",
          "text": [
            "/root/.cache/torch/hub/ultralytics_yolov5_master/models/common.py:892: FutureWarning: `torch.cuda.amp.autocast(args...)` is deprecated. Please use `torch.amp.autocast('cuda', args...)` instead.\n",
            "  with amp.autocast(autocast):\n"
          ]
        },
        {
          "output_type": "stream",
          "name": "stdout",
          "text": [
            "Detections for @lobelia4cosmetics_11964.jpg:\n",
            "        name  confidence        xmin       ymin        xmax        ymax\n",
            "0  stop sign    0.457502  260.943817  167.32074  301.444611  228.760498\n"
          ]
        },
        {
          "output_type": "stream",
          "name": "stderr",
          "text": [
            "/root/.cache/torch/hub/ultralytics_yolov5_master/models/common.py:892: FutureWarning: `torch.cuda.amp.autocast(args...)` is deprecated. Please use `torch.amp.autocast('cuda', args...)` instead.\n",
            "  with amp.autocast(autocast):\n"
          ]
        },
        {
          "output_type": "stream",
          "name": "stdout",
          "text": [
            "Detections for @lobelia4cosmetics_11961.jpg:\n",
            "     name  confidence        xmin       ymin        xmax         ymax\n",
            "0  bottle    0.421528  565.431885  156.89032  929.445435  1261.609375\n"
          ]
        },
        {
          "output_type": "stream",
          "name": "stderr",
          "text": [
            "/root/.cache/torch/hub/ultralytics_yolov5_master/models/common.py:892: FutureWarning: `torch.cuda.amp.autocast(args...)` is deprecated. Please use `torch.amp.autocast('cuda', args...)` instead.\n",
            "  with amp.autocast(autocast):\n"
          ]
        },
        {
          "output_type": "stream",
          "name": "stdout",
          "text": [
            "Detections for @lobelia4cosmetics_12102.jpg:\n",
            "     name  confidence        xmin        ymin        xmax         ymax\n",
            "0  person    0.854438  386.629089  569.150818  798.967346  1072.493408\n"
          ]
        },
        {
          "output_type": "stream",
          "name": "stderr",
          "text": [
            "/root/.cache/torch/hub/ultralytics_yolov5_master/models/common.py:892: FutureWarning: `torch.cuda.amp.autocast(args...)` is deprecated. Please use `torch.amp.autocast('cuda', args...)` instead.\n",
            "  with amp.autocast(autocast):\n"
          ]
        },
        {
          "output_type": "stream",
          "name": "stdout",
          "text": [
            "Detections for @lobelia4cosmetics_12023.jpg:\n",
            "     name  confidence        xmin        ymin        xmax         ymax\n",
            "0  person    0.854438  386.629089  569.150818  798.967346  1072.493408\n"
          ]
        },
        {
          "output_type": "stream",
          "name": "stderr",
          "text": [
            "/root/.cache/torch/hub/ultralytics_yolov5_master/models/common.py:892: FutureWarning: `torch.cuda.amp.autocast(args...)` is deprecated. Please use `torch.amp.autocast('cuda', args...)` instead.\n",
            "  with amp.autocast(autocast):\n"
          ]
        },
        {
          "output_type": "stream",
          "name": "stdout",
          "text": [
            "Detections for @lobelia4cosmetics_12101.jpg:\n",
            "     name  confidence       xmin        ymin        xmax        ymax\n",
            "0  person    0.526795  71.351341  271.467834  201.004105  451.916229\n",
            "1  person    0.271554  70.582901  270.818848  133.516663  421.879883\n"
          ]
        },
        {
          "output_type": "stream",
          "name": "stderr",
          "text": [
            "/root/.cache/torch/hub/ultralytics_yolov5_master/models/common.py:892: FutureWarning: `torch.cuda.amp.autocast(args...)` is deprecated. Please use `torch.amp.autocast('cuda', args...)` instead.\n",
            "  with amp.autocast(autocast):\n"
          ]
        },
        {
          "output_type": "stream",
          "name": "stdout",
          "text": [
            "Detections for @lobelia4cosmetics_12104.jpg:\n",
            "Empty DataFrame\n",
            "Columns: [name, confidence, xmin, ymin, xmax, ymax]\n",
            "Index: []\n"
          ]
        },
        {
          "output_type": "stream",
          "name": "stderr",
          "text": [
            "/root/.cache/torch/hub/ultralytics_yolov5_master/models/common.py:892: FutureWarning: `torch.cuda.amp.autocast(args...)` is deprecated. Please use `torch.amp.autocast('cuda', args...)` instead.\n",
            "  with amp.autocast(autocast):\n"
          ]
        },
        {
          "output_type": "stream",
          "name": "stdout",
          "text": [
            "Detections for @lobelia4cosmetics_12103.jpg:\n",
            "Empty DataFrame\n",
            "Columns: [name, confidence, xmin, ymin, xmax, ymax]\n",
            "Index: []\n"
          ]
        },
        {
          "output_type": "stream",
          "name": "stderr",
          "text": [
            "/root/.cache/torch/hub/ultralytics_yolov5_master/models/common.py:892: FutureWarning: `torch.cuda.amp.autocast(args...)` is deprecated. Please use `torch.amp.autocast('cuda', args...)` instead.\n",
            "  with amp.autocast(autocast):\n"
          ]
        },
        {
          "output_type": "stream",
          "name": "stdout",
          "text": [
            "Detections for @lobelia4cosmetics_12098.jpg:\n",
            "     name  confidence       xmin  ymin        xmax        ymax\n",
            "0  bottle    0.434455  160.30101   0.0  351.007507  496.128174\n"
          ]
        },
        {
          "output_type": "stream",
          "name": "stderr",
          "text": [
            "/root/.cache/torch/hub/ultralytics_yolov5_master/models/common.py:892: FutureWarning: `torch.cuda.amp.autocast(args...)` is deprecated. Please use `torch.amp.autocast('cuda', args...)` instead.\n",
            "  with amp.autocast(autocast):\n"
          ]
        },
        {
          "output_type": "stream",
          "name": "stdout",
          "text": [
            "Detections for @lobelia4cosmetics_12097.jpg:\n",
            "       name  confidence        xmin        ymin        xmax        ymax\n",
            "0    bottle    0.703980  103.481583   86.276588  219.125595  282.193298\n",
            "1    bottle    0.642987  236.607651  132.268799  274.609070  263.386505\n",
            "2    bottle    0.582703  208.692337  117.738754  249.569199  273.389404\n",
            "3    bottle    0.520170  262.937042  143.529648  302.185272  257.115112\n",
            "4    toilet    0.473945   22.772903  149.851379   57.972977  257.208496\n",
            "5    toilet    0.350603   35.411686  143.183853   80.003510  262.056885\n",
            "6  suitcase    0.274276   73.666656  110.276161  107.559769  268.121399\n"
          ]
        },
        {
          "output_type": "stream",
          "name": "stderr",
          "text": [
            "/root/.cache/torch/hub/ultralytics_yolov5_master/models/common.py:892: FutureWarning: `torch.cuda.amp.autocast(args...)` is deprecated. Please use `torch.amp.autocast('cuda', args...)` instead.\n",
            "  with amp.autocast(autocast):\n"
          ]
        },
        {
          "output_type": "stream",
          "name": "stdout",
          "text": [
            "Detections for @lobelia4cosmetics_12099.jpg:\n",
            "     name  confidence        xmin       ymin        xmax         ymax\n",
            "0  bottle    0.421528  565.431885  156.89032  929.445435  1261.609375\n"
          ]
        },
        {
          "output_type": "stream",
          "name": "stderr",
          "text": [
            "/root/.cache/torch/hub/ultralytics_yolov5_master/models/common.py:892: FutureWarning: `torch.cuda.amp.autocast(args...)` is deprecated. Please use `torch.amp.autocast('cuda', args...)` instead.\n",
            "  with amp.autocast(autocast):\n"
          ]
        },
        {
          "output_type": "stream",
          "name": "stdout",
          "text": [
            "Detections for @lobelia4cosmetics_12093.jpg:\n",
            "Empty DataFrame\n",
            "Columns: [name, confidence, xmin, ymin, xmax, ymax]\n",
            "Index: []\n"
          ]
        },
        {
          "output_type": "stream",
          "name": "stderr",
          "text": [
            "/root/.cache/torch/hub/ultralytics_yolov5_master/models/common.py:892: FutureWarning: `torch.cuda.amp.autocast(args...)` is deprecated. Please use `torch.amp.autocast('cuda', args...)` instead.\n",
            "  with amp.autocast(autocast):\n"
          ]
        },
        {
          "output_type": "stream",
          "name": "stdout",
          "text": [
            "Detections for @lobelia4cosmetics_12095.jpg:\n",
            "     name  confidence        xmin        ymin        xmax        ymax\n",
            "0  person    0.542076  316.487823  259.227722  515.913269  582.338013\n"
          ]
        },
        {
          "output_type": "stream",
          "name": "stderr",
          "text": [
            "/root/.cache/torch/hub/ultralytics_yolov5_master/models/common.py:892: FutureWarning: `torch.cuda.amp.autocast(args...)` is deprecated. Please use `torch.amp.autocast('cuda', args...)` instead.\n",
            "  with amp.autocast(autocast):\n"
          ]
        },
        {
          "output_type": "stream",
          "name": "stdout",
          "text": [
            "Detections for @lobelia4cosmetics_12096.jpg:\n",
            "            name  confidence        xmin        ymin        xmax         ymax\n",
            "0  parking meter    0.420197  296.751068  132.006226  968.405151  1143.936646\n",
            "1            cup    0.279941  297.346558  130.160706  971.870728  1168.945801\n"
          ]
        },
        {
          "output_type": "stream",
          "name": "stderr",
          "text": [
            "/root/.cache/torch/hub/ultralytics_yolov5_master/models/common.py:892: FutureWarning: `torch.cuda.amp.autocast(args...)` is deprecated. Please use `torch.amp.autocast('cuda', args...)` instead.\n",
            "  with amp.autocast(autocast):\n"
          ]
        },
        {
          "output_type": "stream",
          "name": "stdout",
          "text": [
            "Detections for @lobelia4cosmetics_12094.jpg:\n",
            "  name  confidence       xmin        ymin        xmax        ymax\n",
            "0  cup    0.646768  71.777611  245.878174  149.468277  308.447205\n"
          ]
        },
        {
          "output_type": "stream",
          "name": "stderr",
          "text": [
            "/root/.cache/torch/hub/ultralytics_yolov5_master/models/common.py:892: FutureWarning: `torch.cuda.amp.autocast(args...)` is deprecated. Please use `torch.amp.autocast('cuda', args...)` instead.\n",
            "  with amp.autocast(autocast):\n"
          ]
        },
        {
          "output_type": "stream",
          "name": "stdout",
          "text": [
            "Detections for @lobelia4cosmetics_12091.jpg:\n",
            "Empty DataFrame\n",
            "Columns: [name, confidence, xmin, ymin, xmax, ymax]\n",
            "Index: []\n"
          ]
        },
        {
          "output_type": "stream",
          "name": "stderr",
          "text": [
            "/root/.cache/torch/hub/ultralytics_yolov5_master/models/common.py:892: FutureWarning: `torch.cuda.amp.autocast(args...)` is deprecated. Please use `torch.amp.autocast('cuda', args...)` instead.\n",
            "  with amp.autocast(autocast):\n"
          ]
        },
        {
          "output_type": "stream",
          "name": "stdout",
          "text": [
            "Detections for @lobelia4cosmetics_12092.jpg:\n",
            "Empty DataFrame\n",
            "Columns: [name, confidence, xmin, ymin, xmax, ymax]\n",
            "Index: []\n"
          ]
        },
        {
          "output_type": "stream",
          "name": "stderr",
          "text": [
            "/root/.cache/torch/hub/ultralytics_yolov5_master/models/common.py:892: FutureWarning: `torch.cuda.amp.autocast(args...)` is deprecated. Please use `torch.amp.autocast('cuda', args...)` instead.\n",
            "  with amp.autocast(autocast):\n"
          ]
        },
        {
          "output_type": "stream",
          "name": "stdout",
          "text": [
            "Detections for @lobelia4cosmetics_12086.jpg:\n",
            "Empty DataFrame\n",
            "Columns: [name, confidence, xmin, ymin, xmax, ymax]\n",
            "Index: []\n"
          ]
        },
        {
          "output_type": "stream",
          "name": "stderr",
          "text": [
            "/root/.cache/torch/hub/ultralytics_yolov5_master/models/common.py:892: FutureWarning: `torch.cuda.amp.autocast(args...)` is deprecated. Please use `torch.amp.autocast('cuda', args...)` instead.\n",
            "  with amp.autocast(autocast):\n"
          ]
        },
        {
          "output_type": "stream",
          "name": "stdout",
          "text": [
            "Detections for @lobelia4cosmetics_12090.jpg:\n",
            "Empty DataFrame\n",
            "Columns: [name, confidence, xmin, ymin, xmax, ymax]\n",
            "Index: []\n"
          ]
        },
        {
          "output_type": "stream",
          "name": "stderr",
          "text": [
            "/root/.cache/torch/hub/ultralytics_yolov5_master/models/common.py:892: FutureWarning: `torch.cuda.amp.autocast(args...)` is deprecated. Please use `torch.amp.autocast('cuda', args...)` instead.\n",
            "  with amp.autocast(autocast):\n"
          ]
        },
        {
          "output_type": "stream",
          "name": "stdout",
          "text": [
            "Detections for @lobelia4cosmetics_12085.jpg:\n",
            "     name  confidence        xmin        ymin        xmax         ymax\n",
            "0  person    0.854438  386.629089  569.150818  798.967346  1072.493408\n"
          ]
        },
        {
          "output_type": "stream",
          "name": "stderr",
          "text": [
            "/root/.cache/torch/hub/ultralytics_yolov5_master/models/common.py:892: FutureWarning: `torch.cuda.amp.autocast(args...)` is deprecated. Please use `torch.amp.autocast('cuda', args...)` instead.\n",
            "  with amp.autocast(autocast):\n"
          ]
        },
        {
          "output_type": "stream",
          "name": "stdout",
          "text": [
            "Detections for @lobelia4cosmetics_12087.jpg:\n",
            "Empty DataFrame\n",
            "Columns: [name, confidence, xmin, ymin, xmax, ymax]\n",
            "Index: []\n"
          ]
        },
        {
          "output_type": "stream",
          "name": "stderr",
          "text": [
            "/root/.cache/torch/hub/ultralytics_yolov5_master/models/common.py:892: FutureWarning: `torch.cuda.amp.autocast(args...)` is deprecated. Please use `torch.amp.autocast('cuda', args...)` instead.\n",
            "  with amp.autocast(autocast):\n"
          ]
        },
        {
          "output_type": "stream",
          "name": "stdout",
          "text": [
            "Detections for @lobelia4cosmetics_12088.jpg:\n",
            "Empty DataFrame\n",
            "Columns: [name, confidence, xmin, ymin, xmax, ymax]\n",
            "Index: []\n"
          ]
        },
        {
          "output_type": "stream",
          "name": "stderr",
          "text": [
            "/root/.cache/torch/hub/ultralytics_yolov5_master/models/common.py:892: FutureWarning: `torch.cuda.amp.autocast(args...)` is deprecated. Please use `torch.amp.autocast('cuda', args...)` instead.\n",
            "  with amp.autocast(autocast):\n"
          ]
        },
        {
          "output_type": "stream",
          "name": "stdout",
          "text": [
            "Detections for @lobelia4cosmetics_12082.jpg:\n",
            "Empty DataFrame\n",
            "Columns: [name, confidence, xmin, ymin, xmax, ymax]\n",
            "Index: []\n"
          ]
        },
        {
          "output_type": "stream",
          "name": "stderr",
          "text": [
            "/root/.cache/torch/hub/ultralytics_yolov5_master/models/common.py:892: FutureWarning: `torch.cuda.amp.autocast(args...)` is deprecated. Please use `torch.amp.autocast('cuda', args...)` instead.\n",
            "  with amp.autocast(autocast):\n"
          ]
        },
        {
          "output_type": "stream",
          "name": "stdout",
          "text": [
            "Detections for @lobelia4cosmetics_12084.jpg:\n",
            "     name  confidence       xmin        ymin        xmax        ymax\n",
            "0  person    0.526795  71.351341  271.467834  201.004105  451.916229\n",
            "1  person    0.271554  70.582901  270.818848  133.516663  421.879883\n"
          ]
        },
        {
          "output_type": "stream",
          "name": "stderr",
          "text": [
            "/root/.cache/torch/hub/ultralytics_yolov5_master/models/common.py:892: FutureWarning: `torch.cuda.amp.autocast(args...)` is deprecated. Please use `torch.amp.autocast('cuda', args...)` instead.\n",
            "  with amp.autocast(autocast):\n"
          ]
        },
        {
          "output_type": "stream",
          "name": "stdout",
          "text": [
            "Detections for @lobelia4cosmetics_12080.jpg:\n",
            "    name  confidence        xmin        ymin        xmax         ymax\n",
            "0  clock    0.653354  297.035736  174.852615  875.716736   759.952576\n",
            "1  donut    0.390350  404.631073  923.974426  492.100800  1016.315857\n",
            "2  donut    0.312811  616.030823  964.383850  712.616760  1078.172852\n",
            "3   fork    0.258616  755.290771  796.080139  999.244934  1011.520569\n"
          ]
        },
        {
          "output_type": "stream",
          "name": "stderr",
          "text": [
            "/root/.cache/torch/hub/ultralytics_yolov5_master/models/common.py:892: FutureWarning: `torch.cuda.amp.autocast(args...)` is deprecated. Please use `torch.amp.autocast('cuda', args...)` instead.\n",
            "  with amp.autocast(autocast):\n"
          ]
        },
        {
          "output_type": "stream",
          "name": "stdout",
          "text": [
            "Detections for @lobelia4cosmetics_12081.jpg:\n",
            "     name  confidence        xmin        ymin        xmax        ymax\n",
            "0  banana    0.321508  833.838074  428.316528  923.337952  526.941895\n",
            "1   donut    0.268656  504.534119  675.769714  586.381958  745.471985\n"
          ]
        },
        {
          "output_type": "stream",
          "name": "stderr",
          "text": [
            "/root/.cache/torch/hub/ultralytics_yolov5_master/models/common.py:892: FutureWarning: `torch.cuda.amp.autocast(args...)` is deprecated. Please use `torch.amp.autocast('cuda', args...)` instead.\n",
            "  with amp.autocast(autocast):\n"
          ]
        },
        {
          "output_type": "stream",
          "name": "stdout",
          "text": [
            "Detections for @lobelia4cosmetics_12079.jpg:\n",
            "Empty DataFrame\n",
            "Columns: [name, confidence, xmin, ymin, xmax, ymax]\n",
            "Index: []\n"
          ]
        },
        {
          "output_type": "stream",
          "name": "stderr",
          "text": [
            "/root/.cache/torch/hub/ultralytics_yolov5_master/models/common.py:892: FutureWarning: `torch.cuda.amp.autocast(args...)` is deprecated. Please use `torch.amp.autocast('cuda', args...)` instead.\n",
            "  with amp.autocast(autocast):\n"
          ]
        },
        {
          "output_type": "stream",
          "name": "stdout",
          "text": [
            "Detections for @lobelia4cosmetics_12076.jpg:\n",
            "Empty DataFrame\n",
            "Columns: [name, confidence, xmin, ymin, xmax, ymax]\n",
            "Index: []\n"
          ]
        },
        {
          "output_type": "stream",
          "name": "stderr",
          "text": [
            "/root/.cache/torch/hub/ultralytics_yolov5_master/models/common.py:892: FutureWarning: `torch.cuda.amp.autocast(args...)` is deprecated. Please use `torch.amp.autocast('cuda', args...)` instead.\n",
            "  with amp.autocast(autocast):\n"
          ]
        },
        {
          "output_type": "stream",
          "name": "stdout",
          "text": [
            "Detections for @lobelia4cosmetics_12077.jpg:\n",
            "Empty DataFrame\n",
            "Columns: [name, confidence, xmin, ymin, xmax, ymax]\n",
            "Index: []\n"
          ]
        },
        {
          "output_type": "stream",
          "name": "stderr",
          "text": [
            "/root/.cache/torch/hub/ultralytics_yolov5_master/models/common.py:892: FutureWarning: `torch.cuda.amp.autocast(args...)` is deprecated. Please use `torch.amp.autocast('cuda', args...)` instead.\n",
            "  with amp.autocast(autocast):\n"
          ]
        },
        {
          "output_type": "stream",
          "name": "stdout",
          "text": [
            "Detections for @lobelia4cosmetics_12078.jpg:\n",
            "Empty DataFrame\n",
            "Columns: [name, confidence, xmin, ymin, xmax, ymax]\n",
            "Index: []\n"
          ]
        },
        {
          "output_type": "stream",
          "name": "stderr",
          "text": [
            "/root/.cache/torch/hub/ultralytics_yolov5_master/models/common.py:892: FutureWarning: `torch.cuda.amp.autocast(args...)` is deprecated. Please use `torch.amp.autocast('cuda', args...)` instead.\n",
            "  with amp.autocast(autocast):\n"
          ]
        },
        {
          "output_type": "stream",
          "name": "stdout",
          "text": [
            "Detections for @lobelia4cosmetics_12075.jpg:\n",
            "     name  confidence        xmin        ymin        xmax        ymax\n",
            "0  person    0.542076  316.487823  259.227722  515.913269  582.338013\n"
          ]
        },
        {
          "output_type": "stream",
          "name": "stderr",
          "text": [
            "/root/.cache/torch/hub/ultralytics_yolov5_master/models/common.py:892: FutureWarning: `torch.cuda.amp.autocast(args...)` is deprecated. Please use `torch.amp.autocast('cuda', args...)` instead.\n",
            "  with amp.autocast(autocast):\n"
          ]
        },
        {
          "output_type": "stream",
          "name": "stdout",
          "text": [
            "Detections for @lobelia4cosmetics_12071.jpg:\n",
            "Empty DataFrame\n",
            "Columns: [name, confidence, xmin, ymin, xmax, ymax]\n",
            "Index: []\n"
          ]
        },
        {
          "output_type": "stream",
          "name": "stderr",
          "text": [
            "/root/.cache/torch/hub/ultralytics_yolov5_master/models/common.py:892: FutureWarning: `torch.cuda.amp.autocast(args...)` is deprecated. Please use `torch.amp.autocast('cuda', args...)` instead.\n",
            "  with amp.autocast(autocast):\n"
          ]
        },
        {
          "output_type": "stream",
          "name": "stdout",
          "text": [
            "Detections for @lobelia4cosmetics_12073.jpg:\n",
            "     name  confidence        xmin        ymin        xmax        ymax\n",
            "0  person    0.837816  239.710205  600.867188  376.743317  748.357544\n",
            "1  person    0.783029  350.394745  557.036804  450.975250  739.511719\n",
            "2  person    0.647013  600.788635  674.330017  675.920471  815.240356\n",
            "3  person    0.585273  429.727112  549.247009  537.696838  852.276733\n",
            "4  person    0.580514  558.670532  704.565674  631.774536  838.042358\n",
            "5  bottle    0.552930  538.359314  306.540588  790.365112  858.194519\n",
            "6  person    0.397496  545.091919  674.166870  583.348511  789.676514\n",
            "7  person    0.301429  543.741455  681.182068  603.988403  830.842163\n"
          ]
        },
        {
          "output_type": "stream",
          "name": "stderr",
          "text": [
            "/root/.cache/torch/hub/ultralytics_yolov5_master/models/common.py:892: FutureWarning: `torch.cuda.amp.autocast(args...)` is deprecated. Please use `torch.amp.autocast('cuda', args...)` instead.\n",
            "  with amp.autocast(autocast):\n"
          ]
        },
        {
          "output_type": "stream",
          "name": "stdout",
          "text": [
            "Detections for @lobelia4cosmetics_12074.jpg:\n",
            "Empty DataFrame\n",
            "Columns: [name, confidence, xmin, ymin, xmax, ymax]\n",
            "Index: []\n"
          ]
        },
        {
          "output_type": "stream",
          "name": "stderr",
          "text": [
            "/root/.cache/torch/hub/ultralytics_yolov5_master/models/common.py:892: FutureWarning: `torch.cuda.amp.autocast(args...)` is deprecated. Please use `torch.amp.autocast('cuda', args...)` instead.\n",
            "  with amp.autocast(autocast):\n"
          ]
        },
        {
          "output_type": "stream",
          "name": "stdout",
          "text": [
            "Detections for @lobelia4cosmetics_12072.jpg:\n",
            "     name  confidence        xmin        ymin        xmax         ymax\n",
            "0  bottle    0.442316  627.069946  268.439514  945.952393  1198.739502\n"
          ]
        },
        {
          "output_type": "stream",
          "name": "stderr",
          "text": [
            "/root/.cache/torch/hub/ultralytics_yolov5_master/models/common.py:892: FutureWarning: `torch.cuda.amp.autocast(args...)` is deprecated. Please use `torch.amp.autocast('cuda', args...)` instead.\n",
            "  with amp.autocast(autocast):\n"
          ]
        },
        {
          "output_type": "stream",
          "name": "stdout",
          "text": [
            "Detections for @lobelia4cosmetics_12070.jpg:\n",
            "     name  confidence        xmin        ymin        xmax         ymax\n",
            "0  bottle    0.332959  320.581512  224.795502  637.528076  1200.781372\n"
          ]
        },
        {
          "output_type": "stream",
          "name": "stderr",
          "text": [
            "/root/.cache/torch/hub/ultralytics_yolov5_master/models/common.py:892: FutureWarning: `torch.cuda.amp.autocast(args...)` is deprecated. Please use `torch.amp.autocast('cuda', args...)` instead.\n",
            "  with amp.autocast(autocast):\n"
          ]
        },
        {
          "output_type": "stream",
          "name": "stdout",
          "text": [
            "Detections for @lobelia4cosmetics_12067.jpg:\n",
            "Empty DataFrame\n",
            "Columns: [name, confidence, xmin, ymin, xmax, ymax]\n",
            "Index: []\n"
          ]
        },
        {
          "output_type": "stream",
          "name": "stderr",
          "text": [
            "/root/.cache/torch/hub/ultralytics_yolov5_master/models/common.py:892: FutureWarning: `torch.cuda.amp.autocast(args...)` is deprecated. Please use `torch.amp.autocast('cuda', args...)` instead.\n",
            "  with amp.autocast(autocast):\n"
          ]
        },
        {
          "output_type": "stream",
          "name": "stdout",
          "text": [
            "Detections for @lobelia4cosmetics_12065.jpg:\n",
            "Empty DataFrame\n",
            "Columns: [name, confidence, xmin, ymin, xmax, ymax]\n",
            "Index: []\n"
          ]
        },
        {
          "output_type": "stream",
          "name": "stderr",
          "text": [
            "/root/.cache/torch/hub/ultralytics_yolov5_master/models/common.py:892: FutureWarning: `torch.cuda.amp.autocast(args...)` is deprecated. Please use `torch.amp.autocast('cuda', args...)` instead.\n",
            "  with amp.autocast(autocast):\n"
          ]
        },
        {
          "output_type": "stream",
          "name": "stdout",
          "text": [
            "Detections for @lobelia4cosmetics_12068.jpg:\n",
            "Empty DataFrame\n",
            "Columns: [name, confidence, xmin, ymin, xmax, ymax]\n",
            "Index: []\n"
          ]
        },
        {
          "output_type": "stream",
          "name": "stderr",
          "text": [
            "/root/.cache/torch/hub/ultralytics_yolov5_master/models/common.py:892: FutureWarning: `torch.cuda.amp.autocast(args...)` is deprecated. Please use `torch.amp.autocast('cuda', args...)` instead.\n",
            "  with amp.autocast(autocast):\n"
          ]
        },
        {
          "output_type": "stream",
          "name": "stdout",
          "text": [
            "Detections for @lobelia4cosmetics_12066.jpg:\n",
            "Empty DataFrame\n",
            "Columns: [name, confidence, xmin, ymin, xmax, ymax]\n",
            "Index: []\n"
          ]
        },
        {
          "output_type": "stream",
          "name": "stderr",
          "text": [
            "/root/.cache/torch/hub/ultralytics_yolov5_master/models/common.py:892: FutureWarning: `torch.cuda.amp.autocast(args...)` is deprecated. Please use `torch.amp.autocast('cuda', args...)` instead.\n",
            "  with amp.autocast(autocast):\n"
          ]
        },
        {
          "output_type": "stream",
          "name": "stdout",
          "text": [
            "Detections for @lobelia4cosmetics_12069.jpg:\n",
            "Empty DataFrame\n",
            "Columns: [name, confidence, xmin, ymin, xmax, ymax]\n",
            "Index: []\n"
          ]
        },
        {
          "output_type": "stream",
          "name": "stderr",
          "text": [
            "/root/.cache/torch/hub/ultralytics_yolov5_master/models/common.py:892: FutureWarning: `torch.cuda.amp.autocast(args...)` is deprecated. Please use `torch.amp.autocast('cuda', args...)` instead.\n",
            "  with amp.autocast(autocast):\n"
          ]
        },
        {
          "output_type": "stream",
          "name": "stdout",
          "text": [
            "Detections for @lobelia4cosmetics_12062.jpg:\n",
            "Empty DataFrame\n",
            "Columns: [name, confidence, xmin, ymin, xmax, ymax]\n",
            "Index: []\n"
          ]
        },
        {
          "output_type": "stream",
          "name": "stderr",
          "text": [
            "/root/.cache/torch/hub/ultralytics_yolov5_master/models/common.py:892: FutureWarning: `torch.cuda.amp.autocast(args...)` is deprecated. Please use `torch.amp.autocast('cuda', args...)` instead.\n",
            "  with amp.autocast(autocast):\n"
          ]
        },
        {
          "output_type": "stream",
          "name": "stdout",
          "text": [
            "Detections for @lobelia4cosmetics_12063.jpg:\n",
            "Empty DataFrame\n",
            "Columns: [name, confidence, xmin, ymin, xmax, ymax]\n",
            "Index: []\n"
          ]
        },
        {
          "output_type": "stream",
          "name": "stderr",
          "text": [
            "/root/.cache/torch/hub/ultralytics_yolov5_master/models/common.py:892: FutureWarning: `torch.cuda.amp.autocast(args...)` is deprecated. Please use `torch.amp.autocast('cuda', args...)` instead.\n",
            "  with amp.autocast(autocast):\n"
          ]
        },
        {
          "output_type": "stream",
          "name": "stdout",
          "text": [
            "Detections for @lobelia4cosmetics_12064.jpg:\n",
            "Empty DataFrame\n",
            "Columns: [name, confidence, xmin, ymin, xmax, ymax]\n",
            "Index: []\n"
          ]
        },
        {
          "output_type": "stream",
          "name": "stderr",
          "text": [
            "/root/.cache/torch/hub/ultralytics_yolov5_master/models/common.py:892: FutureWarning: `torch.cuda.amp.autocast(args...)` is deprecated. Please use `torch.amp.autocast('cuda', args...)` instead.\n",
            "  with amp.autocast(autocast):\n"
          ]
        },
        {
          "output_type": "stream",
          "name": "stdout",
          "text": [
            "Detections for @lobelia4cosmetics_12061.jpg:\n",
            "Empty DataFrame\n",
            "Columns: [name, confidence, xmin, ymin, xmax, ymax]\n",
            "Index: []\n"
          ]
        },
        {
          "output_type": "stream",
          "name": "stderr",
          "text": [
            "/root/.cache/torch/hub/ultralytics_yolov5_master/models/common.py:892: FutureWarning: `torch.cuda.amp.autocast(args...)` is deprecated. Please use `torch.amp.autocast('cuda', args...)` instead.\n",
            "  with amp.autocast(autocast):\n"
          ]
        },
        {
          "output_type": "stream",
          "name": "stdout",
          "text": [
            "Detections for @lobelia4cosmetics_12060.jpg:\n",
            "     name  confidence        xmin       ymin        xmax         ymax\n",
            "0  bottle    0.421528  565.431885  156.89032  929.445435  1261.609375\n"
          ]
        },
        {
          "output_type": "stream",
          "name": "stderr",
          "text": [
            "/root/.cache/torch/hub/ultralytics_yolov5_master/models/common.py:892: FutureWarning: `torch.cuda.amp.autocast(args...)` is deprecated. Please use `torch.amp.autocast('cuda', args...)` instead.\n",
            "  with amp.autocast(autocast):\n"
          ]
        },
        {
          "output_type": "stream",
          "name": "stdout",
          "text": [
            "Detections for @lobelia4cosmetics_12059.jpg:\n",
            "     name  confidence       xmin  ymin        xmax        ymax\n",
            "0  bottle    0.434455  160.30101   0.0  351.007507  496.128174\n"
          ]
        },
        {
          "output_type": "stream",
          "name": "stderr",
          "text": [
            "/root/.cache/torch/hub/ultralytics_yolov5_master/models/common.py:892: FutureWarning: `torch.cuda.amp.autocast(args...)` is deprecated. Please use `torch.amp.autocast('cuda', args...)` instead.\n",
            "  with amp.autocast(autocast):\n"
          ]
        },
        {
          "output_type": "stream",
          "name": "stdout",
          "text": [
            "Detections for @lobelia4cosmetics_12055.jpg:\n",
            "     name  confidence        xmin        ymin        xmax         ymax\n",
            "0  person    0.854438  386.629089  569.150818  798.967346  1072.493408\n"
          ]
        },
        {
          "output_type": "stream",
          "name": "stderr",
          "text": [
            "/root/.cache/torch/hub/ultralytics_yolov5_master/models/common.py:892: FutureWarning: `torch.cuda.amp.autocast(args...)` is deprecated. Please use `torch.amp.autocast('cuda', args...)` instead.\n",
            "  with amp.autocast(autocast):\n"
          ]
        },
        {
          "output_type": "stream",
          "name": "stdout",
          "text": [
            "Detections for @lobelia4cosmetics_12057.jpg:\n",
            "            name  confidence        xmin        ymin        xmax         ymax\n",
            "0  parking meter    0.420197  296.751068  132.006226  968.405151  1143.936646\n",
            "1            cup    0.279941  297.346558  130.160706  971.870728  1168.945801\n"
          ]
        },
        {
          "output_type": "stream",
          "name": "stderr",
          "text": [
            "/root/.cache/torch/hub/ultralytics_yolov5_master/models/common.py:892: FutureWarning: `torch.cuda.amp.autocast(args...)` is deprecated. Please use `torch.amp.autocast('cuda', args...)` instead.\n",
            "  with amp.autocast(autocast):\n"
          ]
        },
        {
          "output_type": "stream",
          "name": "stdout",
          "text": [
            "Detections for @lobelia4cosmetics_12058.jpg:\n",
            "       name  confidence        xmin        ymin        xmax        ymax\n",
            "0    bottle    0.703980  103.481583   86.276588  219.125595  282.193298\n",
            "1    bottle    0.642987  236.607651  132.268799  274.609070  263.386505\n",
            "2    bottle    0.582703  208.692337  117.738754  249.569199  273.389404\n",
            "3    bottle    0.520170  262.937042  143.529648  302.185272  257.115112\n",
            "4    toilet    0.473945   22.772903  149.851379   57.972977  257.208496\n",
            "5    toilet    0.350603   35.411686  143.183853   80.003510  262.056885\n",
            "6  suitcase    0.274276   73.666656  110.276161  107.559769  268.121399\n"
          ]
        },
        {
          "output_type": "stream",
          "name": "stderr",
          "text": [
            "/root/.cache/torch/hub/ultralytics_yolov5_master/models/common.py:892: FutureWarning: `torch.cuda.amp.autocast(args...)` is deprecated. Please use `torch.amp.autocast('cuda', args...)` instead.\n",
            "  with amp.autocast(autocast):\n"
          ]
        },
        {
          "output_type": "stream",
          "name": "stdout",
          "text": [
            "Detections for @lobelia4cosmetics_12056.jpg:\n",
            "     name  confidence        xmin        ymin        xmax        ymax\n",
            "0  person    0.542076  316.487823  259.227722  515.913269  582.338013\n"
          ]
        },
        {
          "output_type": "stream",
          "name": "stderr",
          "text": [
            "/root/.cache/torch/hub/ultralytics_yolov5_master/models/common.py:892: FutureWarning: `torch.cuda.amp.autocast(args...)` is deprecated. Please use `torch.amp.autocast('cuda', args...)` instead.\n",
            "  with amp.autocast(autocast):\n"
          ]
        },
        {
          "output_type": "stream",
          "name": "stdout",
          "text": [
            "Detections for @lobelia4cosmetics_12050.jpg:\n",
            "     name  confidence        xmin       ymin        xmax         ymax\n",
            "0  bottle    0.302834  345.213257  27.171362  849.627319  1115.989014\n"
          ]
        },
        {
          "output_type": "stream",
          "name": "stderr",
          "text": [
            "/root/.cache/torch/hub/ultralytics_yolov5_master/models/common.py:892: FutureWarning: `torch.cuda.amp.autocast(args...)` is deprecated. Please use `torch.amp.autocast('cuda', args...)` instead.\n",
            "  with amp.autocast(autocast):\n"
          ]
        },
        {
          "output_type": "stream",
          "name": "stdout",
          "text": [
            "Detections for @lobelia4cosmetics_12054.jpg:\n",
            "     name  confidence       xmin        ymin        xmax        ymax\n",
            "0  person    0.526795  71.351341  271.467834  201.004105  451.916229\n",
            "1  person    0.271554  70.582901  270.818848  133.516663  421.879883\n"
          ]
        },
        {
          "output_type": "stream",
          "name": "stderr",
          "text": [
            "/root/.cache/torch/hub/ultralytics_yolov5_master/models/common.py:892: FutureWarning: `torch.cuda.amp.autocast(args...)` is deprecated. Please use `torch.amp.autocast('cuda', args...)` instead.\n",
            "  with amp.autocast(autocast):\n"
          ]
        },
        {
          "output_type": "stream",
          "name": "stdout",
          "text": [
            "Detections for @lobelia4cosmetics_12051.jpg:\n",
            "Empty DataFrame\n",
            "Columns: [name, confidence, xmin, ymin, xmax, ymax]\n",
            "Index: []\n"
          ]
        },
        {
          "output_type": "stream",
          "name": "stderr",
          "text": [
            "/root/.cache/torch/hub/ultralytics_yolov5_master/models/common.py:892: FutureWarning: `torch.cuda.amp.autocast(args...)` is deprecated. Please use `torch.amp.autocast('cuda', args...)` instead.\n",
            "  with amp.autocast(autocast):\n"
          ]
        },
        {
          "output_type": "stream",
          "name": "stdout",
          "text": [
            "Detections for @lobelia4cosmetics_12053.jpg:\n",
            "  name  confidence       xmin        ymin        xmax        ymax\n",
            "0  cup    0.646768  71.777611  245.878174  149.468277  308.447205\n"
          ]
        },
        {
          "output_type": "stream",
          "name": "stderr",
          "text": [
            "/root/.cache/torch/hub/ultralytics_yolov5_master/models/common.py:892: FutureWarning: `torch.cuda.amp.autocast(args...)` is deprecated. Please use `torch.amp.autocast('cuda', args...)` instead.\n",
            "  with amp.autocast(autocast):\n"
          ]
        },
        {
          "output_type": "stream",
          "name": "stdout",
          "text": [
            "Detections for @lobelia4cosmetics_12052.jpg:\n",
            "Empty DataFrame\n",
            "Columns: [name, confidence, xmin, ymin, xmax, ymax]\n",
            "Index: []\n"
          ]
        },
        {
          "output_type": "stream",
          "name": "stderr",
          "text": [
            "/root/.cache/torch/hub/ultralytics_yolov5_master/models/common.py:892: FutureWarning: `torch.cuda.amp.autocast(args...)` is deprecated. Please use `torch.amp.autocast('cuda', args...)` instead.\n",
            "  with amp.autocast(autocast):\n"
          ]
        },
        {
          "output_type": "stream",
          "name": "stdout",
          "text": [
            "Detections for @lobelia4cosmetics_12049.jpg:\n",
            "Empty DataFrame\n",
            "Columns: [name, confidence, xmin, ymin, xmax, ymax]\n",
            "Index: []\n"
          ]
        },
        {
          "output_type": "stream",
          "name": "stderr",
          "text": [
            "/root/.cache/torch/hub/ultralytics_yolov5_master/models/common.py:892: FutureWarning: `torch.cuda.amp.autocast(args...)` is deprecated. Please use `torch.amp.autocast('cuda', args...)` instead.\n",
            "  with amp.autocast(autocast):\n"
          ]
        },
        {
          "output_type": "stream",
          "name": "stdout",
          "text": [
            "Detections for @lobelia4cosmetics_12036.jpg:\n",
            "   name  confidence        xmin        ymin        xmax        ymax\n",
            "0  bowl    0.758214  140.742126  185.970306  275.191772  299.847687\n"
          ]
        },
        {
          "output_type": "stream",
          "name": "stderr",
          "text": [
            "/root/.cache/torch/hub/ultralytics_yolov5_master/models/common.py:892: FutureWarning: `torch.cuda.amp.autocast(args...)` is deprecated. Please use `torch.amp.autocast('cuda', args...)` instead.\n",
            "  with amp.autocast(autocast):\n"
          ]
        },
        {
          "output_type": "stream",
          "name": "stdout",
          "text": [
            "Detections for @lobelia4cosmetics_12031.jpg:\n",
            "  name  confidence      xmin        ymin        xmax        ymax\n",
            "0  cup     0.31478  5.207787  249.310028  301.134003  793.937805\n"
          ]
        },
        {
          "output_type": "stream",
          "name": "stderr",
          "text": [
            "/root/.cache/torch/hub/ultralytics_yolov5_master/models/common.py:892: FutureWarning: `torch.cuda.amp.autocast(args...)` is deprecated. Please use `torch.amp.autocast('cuda', args...)` instead.\n",
            "  with amp.autocast(autocast):\n"
          ]
        },
        {
          "output_type": "stream",
          "name": "stdout",
          "text": [
            "Detections for @lobelia4cosmetics_12019.jpg:\n",
            "Empty DataFrame\n",
            "Columns: [name, confidence, xmin, ymin, xmax, ymax]\n",
            "Index: []\n"
          ]
        },
        {
          "output_type": "stream",
          "name": "stderr",
          "text": [
            "/root/.cache/torch/hub/ultralytics_yolov5_master/models/common.py:892: FutureWarning: `torch.cuda.amp.autocast(args...)` is deprecated. Please use `torch.amp.autocast('cuda', args...)` instead.\n",
            "  with amp.autocast(autocast):\n"
          ]
        },
        {
          "output_type": "stream",
          "name": "stdout",
          "text": [
            "Detections for @lobelia4cosmetics_12048.jpg:\n",
            "Empty DataFrame\n",
            "Columns: [name, confidence, xmin, ymin, xmax, ymax]\n",
            "Index: []\n"
          ]
        },
        {
          "output_type": "stream",
          "name": "stderr",
          "text": [
            "/root/.cache/torch/hub/ultralytics_yolov5_master/models/common.py:892: FutureWarning: `torch.cuda.amp.autocast(args...)` is deprecated. Please use `torch.amp.autocast('cuda', args...)` instead.\n",
            "  with amp.autocast(autocast):\n"
          ]
        },
        {
          "output_type": "stream",
          "name": "stdout",
          "text": [
            "Detections for @lobelia4cosmetics_12034.jpg:\n",
            "Empty DataFrame\n",
            "Columns: [name, confidence, xmin, ymin, xmax, ymax]\n",
            "Index: []\n"
          ]
        },
        {
          "output_type": "stream",
          "name": "stderr",
          "text": [
            "/root/.cache/torch/hub/ultralytics_yolov5_master/models/common.py:892: FutureWarning: `torch.cuda.amp.autocast(args...)` is deprecated. Please use `torch.amp.autocast('cuda', args...)` instead.\n",
            "  with amp.autocast(autocast):\n"
          ]
        },
        {
          "output_type": "stream",
          "name": "stdout",
          "text": [
            "Detections for @lobelia4cosmetics_12032.jpg:\n",
            "Empty DataFrame\n",
            "Columns: [name, confidence, xmin, ymin, xmax, ymax]\n",
            "Index: []\n"
          ]
        },
        {
          "output_type": "stream",
          "name": "stderr",
          "text": [
            "/root/.cache/torch/hub/ultralytics_yolov5_master/models/common.py:892: FutureWarning: `torch.cuda.amp.autocast(args...)` is deprecated. Please use `torch.amp.autocast('cuda', args...)` instead.\n",
            "  with amp.autocast(autocast):\n"
          ]
        },
        {
          "output_type": "stream",
          "name": "stdout",
          "text": [
            "Detections for @lobelia4cosmetics_12035.jpg:\n",
            "     name  confidence        xmin        ymin        xmax        ymax\n",
            "0  person    0.542076  316.487823  259.227722  515.913269  582.338013\n"
          ]
        },
        {
          "output_type": "stream",
          "name": "stderr",
          "text": [
            "/root/.cache/torch/hub/ultralytics_yolov5_master/models/common.py:892: FutureWarning: `torch.cuda.amp.autocast(args...)` is deprecated. Please use `torch.amp.autocast('cuda', args...)` instead.\n",
            "  with amp.autocast(autocast):\n"
          ]
        },
        {
          "output_type": "stream",
          "name": "stdout",
          "text": [
            "Detections for @lobelia4cosmetics_12045.jpg:\n",
            "Empty DataFrame\n",
            "Columns: [name, confidence, xmin, ymin, xmax, ymax]\n",
            "Index: []\n"
          ]
        },
        {
          "output_type": "stream",
          "name": "stderr",
          "text": [
            "/root/.cache/torch/hub/ultralytics_yolov5_master/models/common.py:892: FutureWarning: `torch.cuda.amp.autocast(args...)` is deprecated. Please use `torch.amp.autocast('cuda', args...)` instead.\n",
            "  with amp.autocast(autocast):\n"
          ]
        },
        {
          "output_type": "stream",
          "name": "stdout",
          "text": [
            "Detections for @lobelia4cosmetics_12027.jpg:\n",
            "Empty DataFrame\n",
            "Columns: [name, confidence, xmin, ymin, xmax, ymax]\n",
            "Index: []\n"
          ]
        },
        {
          "output_type": "stream",
          "name": "stderr",
          "text": [
            "/root/.cache/torch/hub/ultralytics_yolov5_master/models/common.py:892: FutureWarning: `torch.cuda.amp.autocast(args...)` is deprecated. Please use `torch.amp.autocast('cuda', args...)` instead.\n",
            "  with amp.autocast(autocast):\n"
          ]
        },
        {
          "output_type": "stream",
          "name": "stdout",
          "text": [
            "Detections for @lobelia4cosmetics_12047.jpg:\n",
            "Empty DataFrame\n",
            "Columns: [name, confidence, xmin, ymin, xmax, ymax]\n",
            "Index: []\n"
          ]
        },
        {
          "output_type": "stream",
          "name": "stderr",
          "text": [
            "/root/.cache/torch/hub/ultralytics_yolov5_master/models/common.py:892: FutureWarning: `torch.cuda.amp.autocast(args...)` is deprecated. Please use `torch.amp.autocast('cuda', args...)` instead.\n",
            "  with amp.autocast(autocast):\n"
          ]
        },
        {
          "output_type": "stream",
          "name": "stdout",
          "text": [
            "Detections for @lobelia4cosmetics_12029.jpg:\n",
            "Empty DataFrame\n",
            "Columns: [name, confidence, xmin, ymin, xmax, ymax]\n",
            "Index: []\n"
          ]
        },
        {
          "output_type": "stream",
          "name": "stderr",
          "text": [
            "/root/.cache/torch/hub/ultralytics_yolov5_master/models/common.py:892: FutureWarning: `torch.cuda.amp.autocast(args...)` is deprecated. Please use `torch.amp.autocast('cuda', args...)` instead.\n",
            "  with amp.autocast(autocast):\n"
          ]
        },
        {
          "output_type": "stream",
          "name": "stdout",
          "text": [
            "Detections for @lobelia4cosmetics_12028.jpg:\n",
            "    name  confidence        xmin        ymin        xmax         ymax\n",
            "0  knife      0.4199  530.664124  818.453064  946.696716  1087.866943\n"
          ]
        },
        {
          "output_type": "stream",
          "name": "stderr",
          "text": [
            "/root/.cache/torch/hub/ultralytics_yolov5_master/models/common.py:892: FutureWarning: `torch.cuda.amp.autocast(args...)` is deprecated. Please use `torch.amp.autocast('cuda', args...)` instead.\n",
            "  with amp.autocast(autocast):\n"
          ]
        },
        {
          "output_type": "stream",
          "name": "stdout",
          "text": [
            "Detections for @lobelia4cosmetics_12033.jpg:\n",
            "Empty DataFrame\n",
            "Columns: [name, confidence, xmin, ymin, xmax, ymax]\n",
            "Index: []\n"
          ]
        },
        {
          "output_type": "stream",
          "name": "stderr",
          "text": [
            "/root/.cache/torch/hub/ultralytics_yolov5_master/models/common.py:892: FutureWarning: `torch.cuda.amp.autocast(args...)` is deprecated. Please use `torch.amp.autocast('cuda', args...)` instead.\n",
            "  with amp.autocast(autocast):\n"
          ]
        },
        {
          "output_type": "stream",
          "name": "stdout",
          "text": [
            "Detections for @lobelia4cosmetics_12025.jpg:\n",
            "Empty DataFrame\n",
            "Columns: [name, confidence, xmin, ymin, xmax, ymax]\n",
            "Index: []\n"
          ]
        },
        {
          "output_type": "stream",
          "name": "stderr",
          "text": [
            "/root/.cache/torch/hub/ultralytics_yolov5_master/models/common.py:892: FutureWarning: `torch.cuda.amp.autocast(args...)` is deprecated. Please use `torch.amp.autocast('cuda', args...)` instead.\n",
            "  with amp.autocast(autocast):\n"
          ]
        },
        {
          "output_type": "stream",
          "name": "stdout",
          "text": [
            "Detections for @lobelia4cosmetics_12030.jpg:\n",
            "     name  confidence       xmin       ymin        xmax        ymax\n",
            "0  bottle    0.410455  143.24614  27.125282  406.199921  782.417725\n"
          ]
        },
        {
          "output_type": "stream",
          "name": "stderr",
          "text": [
            "/root/.cache/torch/hub/ultralytics_yolov5_master/models/common.py:892: FutureWarning: `torch.cuda.amp.autocast(args...)` is deprecated. Please use `torch.amp.autocast('cuda', args...)` instead.\n",
            "  with amp.autocast(autocast):\n"
          ]
        },
        {
          "output_type": "stream",
          "name": "stdout",
          "text": [
            "Detections for @lobelia4cosmetics_12026.jpg:\n",
            "Empty DataFrame\n",
            "Columns: [name, confidence, xmin, ymin, xmax, ymax]\n",
            "Index: []\n"
          ]
        },
        {
          "output_type": "stream",
          "name": "stderr",
          "text": [
            "/root/.cache/torch/hub/ultralytics_yolov5_master/models/common.py:892: FutureWarning: `torch.cuda.amp.autocast(args...)` is deprecated. Please use `torch.amp.autocast('cuda', args...)` instead.\n",
            "  with amp.autocast(autocast):\n"
          ]
        },
        {
          "output_type": "stream",
          "name": "stdout",
          "text": [
            "Detections for @lobelia4cosmetics_12024.jpg:\n",
            "Empty DataFrame\n",
            "Columns: [name, confidence, xmin, ymin, xmax, ymax]\n",
            "Index: []\n"
          ]
        },
        {
          "output_type": "stream",
          "name": "stderr",
          "text": [
            "/root/.cache/torch/hub/ultralytics_yolov5_master/models/common.py:892: FutureWarning: `torch.cuda.amp.autocast(args...)` is deprecated. Please use `torch.amp.autocast('cuda', args...)` instead.\n",
            "  with amp.autocast(autocast):\n"
          ]
        },
        {
          "output_type": "stream",
          "name": "stdout",
          "text": [
            "Detections for @lobelia4cosmetics_12018.jpg:\n",
            "     name  confidence        xmin        ymin        xmax        ymax\n",
            "0  banana    0.321508  833.838074  428.316528  923.337952  526.941895\n",
            "1   donut    0.268656  504.534119  675.769714  586.381958  745.471985\n"
          ]
        },
        {
          "output_type": "stream",
          "name": "stderr",
          "text": [
            "/root/.cache/torch/hub/ultralytics_yolov5_master/models/common.py:892: FutureWarning: `torch.cuda.amp.autocast(args...)` is deprecated. Please use `torch.amp.autocast('cuda', args...)` instead.\n",
            "  with amp.autocast(autocast):\n"
          ]
        },
        {
          "output_type": "stream",
          "name": "stdout",
          "text": [
            "Detections for @lobelia4cosmetics_12046.jpg:\n",
            "     name  confidence        xmin        ymin        xmax        ymax\n",
            "0  orange    0.377693  708.816406  438.498993  836.305786  518.246704\n",
            "1  orange    0.377175  288.880432  315.707275  462.019684  399.253693\n",
            "2  orange    0.338240  163.517136  337.105133  335.829010  406.659210\n",
            "3  orange    0.255887  806.214600  404.197449  983.961060  505.069977\n"
          ]
        },
        {
          "output_type": "stream",
          "name": "stderr",
          "text": [
            "/root/.cache/torch/hub/ultralytics_yolov5_master/models/common.py:892: FutureWarning: `torch.cuda.amp.autocast(args...)` is deprecated. Please use `torch.amp.autocast('cuda', args...)` instead.\n",
            "  with amp.autocast(autocast):\n"
          ]
        },
        {
          "output_type": "stream",
          "name": "stdout",
          "text": [
            "Detections for @lobelia4cosmetics_12038.jpg:\n",
            "Empty DataFrame\n",
            "Columns: [name, confidence, xmin, ymin, xmax, ymax]\n",
            "Index: []\n"
          ]
        },
        {
          "output_type": "stream",
          "name": "stderr",
          "text": [
            "/root/.cache/torch/hub/ultralytics_yolov5_master/models/common.py:892: FutureWarning: `torch.cuda.amp.autocast(args...)` is deprecated. Please use `torch.amp.autocast('cuda', args...)` instead.\n",
            "  with amp.autocast(autocast):\n"
          ]
        },
        {
          "output_type": "stream",
          "name": "stdout",
          "text": [
            "Detections for @lobelia4cosmetics_12042.jpg:\n",
            "          name  confidence        xmin        ymin        xmax        ymax\n",
            "0  sports ball    0.625586  384.410065  193.624405  415.876343  225.863098\n"
          ]
        },
        {
          "output_type": "stream",
          "name": "stderr",
          "text": [
            "/root/.cache/torch/hub/ultralytics_yolov5_master/models/common.py:892: FutureWarning: `torch.cuda.amp.autocast(args...)` is deprecated. Please use `torch.amp.autocast('cuda', args...)` instead.\n",
            "  with amp.autocast(autocast):\n"
          ]
        },
        {
          "output_type": "stream",
          "name": "stdout",
          "text": [
            "Detections for @lobelia4cosmetics_12041.jpg:\n",
            "Empty DataFrame\n",
            "Columns: [name, confidence, xmin, ymin, xmax, ymax]\n",
            "Index: []\n"
          ]
        },
        {
          "output_type": "stream",
          "name": "stderr",
          "text": [
            "/root/.cache/torch/hub/ultralytics_yolov5_master/models/common.py:892: FutureWarning: `torch.cuda.amp.autocast(args...)` is deprecated. Please use `torch.amp.autocast('cuda', args...)` instead.\n",
            "  with amp.autocast(autocast):\n"
          ]
        },
        {
          "output_type": "stream",
          "name": "stdout",
          "text": [
            "Detections for @lobelia4cosmetics_12044.jpg:\n",
            "Empty DataFrame\n",
            "Columns: [name, confidence, xmin, ymin, xmax, ymax]\n",
            "Index: []\n"
          ]
        },
        {
          "output_type": "stream",
          "name": "stderr",
          "text": [
            "/root/.cache/torch/hub/ultralytics_yolov5_master/models/common.py:892: FutureWarning: `torch.cuda.amp.autocast(args...)` is deprecated. Please use `torch.amp.autocast('cuda', args...)` instead.\n",
            "  with amp.autocast(autocast):\n"
          ]
        },
        {
          "output_type": "stream",
          "name": "stdout",
          "text": [
            "Detections for @lobelia4cosmetics_12043.jpg:\n",
            "    name  confidence        xmin        ymin        xmax         ymax\n",
            "0  knife      0.4199  530.664124  818.453064  946.696716  1087.866943\n"
          ]
        },
        {
          "output_type": "stream",
          "name": "stderr",
          "text": [
            "/root/.cache/torch/hub/ultralytics_yolov5_master/models/common.py:892: FutureWarning: `torch.cuda.amp.autocast(args...)` is deprecated. Please use `torch.amp.autocast('cuda', args...)` instead.\n",
            "  with amp.autocast(autocast):\n"
          ]
        },
        {
          "output_type": "stream",
          "name": "stdout",
          "text": [
            "Detections for @lobelia4cosmetics_12040.jpg:\n",
            "  name  confidence        xmin       ymin        xmax         ymax\n",
            "0  cup    0.336665  454.390381  753.37915  727.698547  1064.120239\n"
          ]
        },
        {
          "output_type": "stream",
          "name": "stderr",
          "text": [
            "/root/.cache/torch/hub/ultralytics_yolov5_master/models/common.py:892: FutureWarning: `torch.cuda.amp.autocast(args...)` is deprecated. Please use `torch.amp.autocast('cuda', args...)` instead.\n",
            "  with amp.autocast(autocast):\n"
          ]
        },
        {
          "output_type": "stream",
          "name": "stdout",
          "text": [
            "Detections for @lobelia4cosmetics_12039.jpg:\n",
            "Empty DataFrame\n",
            "Columns: [name, confidence, xmin, ymin, xmax, ymax]\n",
            "Index: []\n"
          ]
        },
        {
          "output_type": "stream",
          "name": "stderr",
          "text": [
            "/root/.cache/torch/hub/ultralytics_yolov5_master/models/common.py:892: FutureWarning: `torch.cuda.amp.autocast(args...)` is deprecated. Please use `torch.amp.autocast('cuda', args...)` instead.\n",
            "  with amp.autocast(autocast):\n"
          ]
        },
        {
          "output_type": "stream",
          "name": "stdout",
          "text": [
            "Detections for @lobelia4cosmetics_12037.jpg:\n",
            "Empty DataFrame\n",
            "Columns: [name, confidence, xmin, ymin, xmax, ymax]\n",
            "Index: []\n"
          ]
        },
        {
          "output_type": "stream",
          "name": "stderr",
          "text": [
            "/root/.cache/torch/hub/ultralytics_yolov5_master/models/common.py:892: FutureWarning: `torch.cuda.amp.autocast(args...)` is deprecated. Please use `torch.amp.autocast('cuda', args...)` instead.\n",
            "  with amp.autocast(autocast):\n"
          ]
        },
        {
          "output_type": "stream",
          "name": "stdout",
          "text": [
            "Detections for @lobelia4cosmetics_12188.jpg:\n",
            "Empty DataFrame\n",
            "Columns: [name, confidence, xmin, ymin, xmax, ymax]\n",
            "Index: []\n"
          ]
        },
        {
          "output_type": "stream",
          "name": "stderr",
          "text": [
            "/root/.cache/torch/hub/ultralytics_yolov5_master/models/common.py:892: FutureWarning: `torch.cuda.amp.autocast(args...)` is deprecated. Please use `torch.amp.autocast('cuda', args...)` instead.\n",
            "  with amp.autocast(autocast):\n"
          ]
        },
        {
          "output_type": "stream",
          "name": "stdout",
          "text": [
            "Detections for @lobelia4cosmetics_12189.jpg:\n",
            "Empty DataFrame\n",
            "Columns: [name, confidence, xmin, ymin, xmax, ymax]\n",
            "Index: []\n"
          ]
        },
        {
          "output_type": "stream",
          "name": "stderr",
          "text": [
            "/root/.cache/torch/hub/ultralytics_yolov5_master/models/common.py:892: FutureWarning: `torch.cuda.amp.autocast(args...)` is deprecated. Please use `torch.amp.autocast('cuda', args...)` instead.\n",
            "  with amp.autocast(autocast):\n"
          ]
        },
        {
          "output_type": "stream",
          "name": "stdout",
          "text": [
            "Detections for @lobelia4cosmetics_12190.jpg:\n",
            "Empty DataFrame\n",
            "Columns: [name, confidence, xmin, ymin, xmax, ymax]\n",
            "Index: []\n"
          ]
        },
        {
          "output_type": "stream",
          "name": "stderr",
          "text": [
            "/root/.cache/torch/hub/ultralytics_yolov5_master/models/common.py:892: FutureWarning: `torch.cuda.amp.autocast(args...)` is deprecated. Please use `torch.amp.autocast('cuda', args...)` instead.\n",
            "  with amp.autocast(autocast):\n"
          ]
        },
        {
          "output_type": "stream",
          "name": "stdout",
          "text": [
            "Detections for @lobelia4cosmetics_12185.jpg:\n",
            "Empty DataFrame\n",
            "Columns: [name, confidence, xmin, ymin, xmax, ymax]\n",
            "Index: []\n"
          ]
        },
        {
          "output_type": "stream",
          "name": "stderr",
          "text": [
            "/root/.cache/torch/hub/ultralytics_yolov5_master/models/common.py:892: FutureWarning: `torch.cuda.amp.autocast(args...)` is deprecated. Please use `torch.amp.autocast('cuda', args...)` instead.\n",
            "  with amp.autocast(autocast):\n"
          ]
        },
        {
          "output_type": "stream",
          "name": "stdout",
          "text": [
            "Detections for @lobelia4cosmetics_12184.jpg:\n",
            "Empty DataFrame\n",
            "Columns: [name, confidence, xmin, ymin, xmax, ymax]\n",
            "Index: []\n"
          ]
        },
        {
          "output_type": "stream",
          "name": "stderr",
          "text": [
            "/root/.cache/torch/hub/ultralytics_yolov5_master/models/common.py:892: FutureWarning: `torch.cuda.amp.autocast(args...)` is deprecated. Please use `torch.amp.autocast('cuda', args...)` instead.\n",
            "  with amp.autocast(autocast):\n"
          ]
        },
        {
          "output_type": "stream",
          "name": "stdout",
          "text": [
            "Detections for @lobelia4cosmetics_12186.jpg:\n",
            "Empty DataFrame\n",
            "Columns: [name, confidence, xmin, ymin, xmax, ymax]\n",
            "Index: []\n"
          ]
        },
        {
          "output_type": "stream",
          "name": "stderr",
          "text": [
            "/root/.cache/torch/hub/ultralytics_yolov5_master/models/common.py:892: FutureWarning: `torch.cuda.amp.autocast(args...)` is deprecated. Please use `torch.amp.autocast('cuda', args...)` instead.\n",
            "  with amp.autocast(autocast):\n"
          ]
        },
        {
          "output_type": "stream",
          "name": "stdout",
          "text": [
            "Detections for @lobelia4cosmetics_12187.jpg:\n",
            "Empty DataFrame\n",
            "Columns: [name, confidence, xmin, ymin, xmax, ymax]\n",
            "Index: []\n"
          ]
        },
        {
          "output_type": "stream",
          "name": "stderr",
          "text": [
            "/root/.cache/torch/hub/ultralytics_yolov5_master/models/common.py:892: FutureWarning: `torch.cuda.amp.autocast(args...)` is deprecated. Please use `torch.amp.autocast('cuda', args...)` instead.\n",
            "  with amp.autocast(autocast):\n"
          ]
        },
        {
          "output_type": "stream",
          "name": "stdout",
          "text": [
            "Detections for @lobelia4cosmetics_12183.jpg:\n",
            "Empty DataFrame\n",
            "Columns: [name, confidence, xmin, ymin, xmax, ymax]\n",
            "Index: []\n"
          ]
        },
        {
          "output_type": "stream",
          "name": "stderr",
          "text": [
            "/root/.cache/torch/hub/ultralytics_yolov5_master/models/common.py:892: FutureWarning: `torch.cuda.amp.autocast(args...)` is deprecated. Please use `torch.amp.autocast('cuda', args...)` instead.\n",
            "  with amp.autocast(autocast):\n"
          ]
        },
        {
          "output_type": "stream",
          "name": "stdout",
          "text": [
            "Detections for @lobelia4cosmetics_12180.jpg:\n",
            "Empty DataFrame\n",
            "Columns: [name, confidence, xmin, ymin, xmax, ymax]\n",
            "Index: []\n"
          ]
        },
        {
          "output_type": "stream",
          "name": "stderr",
          "text": [
            "/root/.cache/torch/hub/ultralytics_yolov5_master/models/common.py:892: FutureWarning: `torch.cuda.amp.autocast(args...)` is deprecated. Please use `torch.amp.autocast('cuda', args...)` instead.\n",
            "  with amp.autocast(autocast):\n"
          ]
        },
        {
          "output_type": "stream",
          "name": "stdout",
          "text": [
            "Detections for @lobelia4cosmetics_12181.jpg:\n",
            "     name  confidence       xmin       ymin        xmax        ymax\n",
            "0  bottle    0.410455  143.24614  27.125282  406.199921  782.417725\n"
          ]
        },
        {
          "output_type": "stream",
          "name": "stderr",
          "text": [
            "/root/.cache/torch/hub/ultralytics_yolov5_master/models/common.py:892: FutureWarning: `torch.cuda.amp.autocast(args...)` is deprecated. Please use `torch.amp.autocast('cuda', args...)` instead.\n",
            "  with amp.autocast(autocast):\n"
          ]
        },
        {
          "output_type": "stream",
          "name": "stdout",
          "text": [
            "Detections for @lobelia4cosmetics_12176.jpg:\n",
            "Empty DataFrame\n",
            "Columns: [name, confidence, xmin, ymin, xmax, ymax]\n",
            "Index: []\n"
          ]
        },
        {
          "output_type": "stream",
          "name": "stderr",
          "text": [
            "/root/.cache/torch/hub/ultralytics_yolov5_master/models/common.py:892: FutureWarning: `torch.cuda.amp.autocast(args...)` is deprecated. Please use `torch.amp.autocast('cuda', args...)` instead.\n",
            "  with amp.autocast(autocast):\n"
          ]
        },
        {
          "output_type": "stream",
          "name": "stdout",
          "text": [
            "Detections for @lobelia4cosmetics_12178.jpg:\n",
            "Empty DataFrame\n",
            "Columns: [name, confidence, xmin, ymin, xmax, ymax]\n",
            "Index: []\n"
          ]
        },
        {
          "output_type": "stream",
          "name": "stderr",
          "text": [
            "/root/.cache/torch/hub/ultralytics_yolov5_master/models/common.py:892: FutureWarning: `torch.cuda.amp.autocast(args...)` is deprecated. Please use `torch.amp.autocast('cuda', args...)` instead.\n",
            "  with amp.autocast(autocast):\n"
          ]
        },
        {
          "output_type": "stream",
          "name": "stdout",
          "text": [
            "Detections for @lobelia4cosmetics_12179.jpg:\n",
            "Empty DataFrame\n",
            "Columns: [name, confidence, xmin, ymin, xmax, ymax]\n",
            "Index: []\n"
          ]
        },
        {
          "output_type": "stream",
          "name": "stderr",
          "text": [
            "/root/.cache/torch/hub/ultralytics_yolov5_master/models/common.py:892: FutureWarning: `torch.cuda.amp.autocast(args...)` is deprecated. Please use `torch.amp.autocast('cuda', args...)` instead.\n",
            "  with amp.autocast(autocast):\n"
          ]
        },
        {
          "output_type": "stream",
          "name": "stdout",
          "text": [
            "Detections for @lobelia4cosmetics_12177.jpg:\n",
            "Empty DataFrame\n",
            "Columns: [name, confidence, xmin, ymin, xmax, ymax]\n",
            "Index: []\n"
          ]
        },
        {
          "output_type": "stream",
          "name": "stderr",
          "text": [
            "/root/.cache/torch/hub/ultralytics_yolov5_master/models/common.py:892: FutureWarning: `torch.cuda.amp.autocast(args...)` is deprecated. Please use `torch.amp.autocast('cuda', args...)` instead.\n",
            "  with amp.autocast(autocast):\n"
          ]
        },
        {
          "output_type": "stream",
          "name": "stdout",
          "text": [
            "Detections for @lobelia4cosmetics_12174.jpg:\n",
            "     name  confidence        xmin       ymin        xmax         ymax\n",
            "0  bottle    0.421528  565.431885  156.89032  929.445435  1261.609375\n"
          ]
        },
        {
          "output_type": "stream",
          "name": "stderr",
          "text": [
            "/root/.cache/torch/hub/ultralytics_yolov5_master/models/common.py:892: FutureWarning: `torch.cuda.amp.autocast(args...)` is deprecated. Please use `torch.amp.autocast('cuda', args...)` instead.\n",
            "  with amp.autocast(autocast):\n"
          ]
        },
        {
          "output_type": "stream",
          "name": "stdout",
          "text": [
            "Detections for @lobelia4cosmetics_12173.jpg:\n",
            "Empty DataFrame\n",
            "Columns: [name, confidence, xmin, ymin, xmax, ymax]\n",
            "Index: []\n"
          ]
        },
        {
          "output_type": "stream",
          "name": "stderr",
          "text": [
            "/root/.cache/torch/hub/ultralytics_yolov5_master/models/common.py:892: FutureWarning: `torch.cuda.amp.autocast(args...)` is deprecated. Please use `torch.amp.autocast('cuda', args...)` instead.\n",
            "  with amp.autocast(autocast):\n"
          ]
        },
        {
          "output_type": "stream",
          "name": "stdout",
          "text": [
            "Detections for @lobelia4cosmetics_12172.jpg:\n",
            "Empty DataFrame\n",
            "Columns: [name, confidence, xmin, ymin, xmax, ymax]\n",
            "Index: []\n"
          ]
        },
        {
          "output_type": "stream",
          "name": "stderr",
          "text": [
            "/root/.cache/torch/hub/ultralytics_yolov5_master/models/common.py:892: FutureWarning: `torch.cuda.amp.autocast(args...)` is deprecated. Please use `torch.amp.autocast('cuda', args...)` instead.\n",
            "  with amp.autocast(autocast):\n"
          ]
        },
        {
          "output_type": "stream",
          "name": "stdout",
          "text": [
            "Detections for @lobelia4cosmetics_12168.jpg:\n",
            "     name  confidence        xmin        ymin        xmax         ymax\n",
            "0  bottle    0.501196  657.153503  313.082123  952.058777  1231.495972\n",
            "1  bottle    0.355328  446.191406  312.021698  628.322998  1193.137207\n"
          ]
        },
        {
          "output_type": "stream",
          "name": "stderr",
          "text": [
            "/root/.cache/torch/hub/ultralytics_yolov5_master/models/common.py:892: FutureWarning: `torch.cuda.amp.autocast(args...)` is deprecated. Please use `torch.amp.autocast('cuda', args...)` instead.\n",
            "  with amp.autocast(autocast):\n"
          ]
        },
        {
          "output_type": "stream",
          "name": "stdout",
          "text": [
            "Detections for @lobelia4cosmetics_12169.jpg:\n",
            "Empty DataFrame\n",
            "Columns: [name, confidence, xmin, ymin, xmax, ymax]\n",
            "Index: []\n"
          ]
        },
        {
          "output_type": "stream",
          "name": "stderr",
          "text": [
            "/root/.cache/torch/hub/ultralytics_yolov5_master/models/common.py:892: FutureWarning: `torch.cuda.amp.autocast(args...)` is deprecated. Please use `torch.amp.autocast('cuda', args...)` instead.\n",
            "  with amp.autocast(autocast):\n"
          ]
        },
        {
          "output_type": "stream",
          "name": "stdout",
          "text": [
            "Detections for @lobelia4cosmetics_12171.jpg:\n",
            "   name  confidence        xmin        ymin        xmax        ymax\n",
            "0  bowl    0.758214  140.742126  185.970306  275.191772  299.847687\n"
          ]
        },
        {
          "output_type": "stream",
          "name": "stderr",
          "text": [
            "/root/.cache/torch/hub/ultralytics_yolov5_master/models/common.py:892: FutureWarning: `torch.cuda.amp.autocast(args...)` is deprecated. Please use `torch.amp.autocast('cuda', args...)` instead.\n",
            "  with amp.autocast(autocast):\n"
          ]
        },
        {
          "output_type": "stream",
          "name": "stdout",
          "text": [
            "Detections for @lobelia4cosmetics_12167.jpg:\n",
            "Empty DataFrame\n",
            "Columns: [name, confidence, xmin, ymin, xmax, ymax]\n",
            "Index: []\n"
          ]
        },
        {
          "output_type": "stream",
          "name": "stderr",
          "text": [
            "/root/.cache/torch/hub/ultralytics_yolov5_master/models/common.py:892: FutureWarning: `torch.cuda.amp.autocast(args...)` is deprecated. Please use `torch.amp.autocast('cuda', args...)` instead.\n",
            "  with amp.autocast(autocast):\n"
          ]
        },
        {
          "output_type": "stream",
          "name": "stdout",
          "text": [
            "Detections for @lobelia4cosmetics_12170.jpg:\n",
            "Empty DataFrame\n",
            "Columns: [name, confidence, xmin, ymin, xmax, ymax]\n",
            "Index: []\n"
          ]
        },
        {
          "output_type": "stream",
          "name": "stderr",
          "text": [
            "/root/.cache/torch/hub/ultralytics_yolov5_master/models/common.py:892: FutureWarning: `torch.cuda.amp.autocast(args...)` is deprecated. Please use `torch.amp.autocast('cuda', args...)` instead.\n",
            "  with amp.autocast(autocast):\n"
          ]
        },
        {
          "output_type": "stream",
          "name": "stdout",
          "text": [
            "Detections for @lobelia4cosmetics_12162.jpg:\n",
            "Empty DataFrame\n",
            "Columns: [name, confidence, xmin, ymin, xmax, ymax]\n",
            "Index: []\n"
          ]
        },
        {
          "output_type": "stream",
          "name": "stderr",
          "text": [
            "/root/.cache/torch/hub/ultralytics_yolov5_master/models/common.py:892: FutureWarning: `torch.cuda.amp.autocast(args...)` is deprecated. Please use `torch.amp.autocast('cuda', args...)` instead.\n",
            "  with amp.autocast(autocast):\n"
          ]
        },
        {
          "output_type": "stream",
          "name": "stdout",
          "text": [
            "Detections for @lobelia4cosmetics_12165.jpg:\n",
            "Empty DataFrame\n",
            "Columns: [name, confidence, xmin, ymin, xmax, ymax]\n",
            "Index: []\n"
          ]
        },
        {
          "output_type": "stream",
          "name": "stderr",
          "text": [
            "/root/.cache/torch/hub/ultralytics_yolov5_master/models/common.py:892: FutureWarning: `torch.cuda.amp.autocast(args...)` is deprecated. Please use `torch.amp.autocast('cuda', args...)` instead.\n",
            "  with amp.autocast(autocast):\n"
          ]
        },
        {
          "output_type": "stream",
          "name": "stdout",
          "text": [
            "Detections for @lobelia4cosmetics_12163.jpg:\n",
            "Empty DataFrame\n",
            "Columns: [name, confidence, xmin, ymin, xmax, ymax]\n",
            "Index: []\n"
          ]
        },
        {
          "output_type": "stream",
          "name": "stderr",
          "text": [
            "/root/.cache/torch/hub/ultralytics_yolov5_master/models/common.py:892: FutureWarning: `torch.cuda.amp.autocast(args...)` is deprecated. Please use `torch.amp.autocast('cuda', args...)` instead.\n",
            "  with amp.autocast(autocast):\n"
          ]
        },
        {
          "output_type": "stream",
          "name": "stdout",
          "text": [
            "Detections for @lobelia4cosmetics_12166.jpg:\n",
            "Empty DataFrame\n",
            "Columns: [name, confidence, xmin, ymin, xmax, ymax]\n",
            "Index: []\n"
          ]
        },
        {
          "output_type": "stream",
          "name": "stderr",
          "text": [
            "/root/.cache/torch/hub/ultralytics_yolov5_master/models/common.py:892: FutureWarning: `torch.cuda.amp.autocast(args...)` is deprecated. Please use `torch.amp.autocast('cuda', args...)` instead.\n",
            "  with amp.autocast(autocast):\n"
          ]
        },
        {
          "output_type": "stream",
          "name": "stdout",
          "text": [
            "Detections for @lobelia4cosmetics_12164.jpg:\n",
            "Empty DataFrame\n",
            "Columns: [name, confidence, xmin, ymin, xmax, ymax]\n",
            "Index: []\n"
          ]
        },
        {
          "output_type": "stream",
          "name": "stderr",
          "text": [
            "/root/.cache/torch/hub/ultralytics_yolov5_master/models/common.py:892: FutureWarning: `torch.cuda.amp.autocast(args...)` is deprecated. Please use `torch.amp.autocast('cuda', args...)` instead.\n",
            "  with amp.autocast(autocast):\n"
          ]
        },
        {
          "output_type": "stream",
          "name": "stdout",
          "text": [
            "Detections for @lobelia4cosmetics_12161.jpg:\n",
            "Empty DataFrame\n",
            "Columns: [name, confidence, xmin, ymin, xmax, ymax]\n",
            "Index: []\n"
          ]
        },
        {
          "output_type": "stream",
          "name": "stderr",
          "text": [
            "/root/.cache/torch/hub/ultralytics_yolov5_master/models/common.py:892: FutureWarning: `torch.cuda.amp.autocast(args...)` is deprecated. Please use `torch.amp.autocast('cuda', args...)` instead.\n",
            "  with amp.autocast(autocast):\n"
          ]
        },
        {
          "output_type": "stream",
          "name": "stdout",
          "text": [
            "Detections for @lobelia4cosmetics_12158.jpg:\n",
            "Empty DataFrame\n",
            "Columns: [name, confidence, xmin, ymin, xmax, ymax]\n",
            "Index: []\n"
          ]
        },
        {
          "output_type": "stream",
          "name": "stderr",
          "text": [
            "/root/.cache/torch/hub/ultralytics_yolov5_master/models/common.py:892: FutureWarning: `torch.cuda.amp.autocast(args...)` is deprecated. Please use `torch.amp.autocast('cuda', args...)` instead.\n",
            "  with amp.autocast(autocast):\n"
          ]
        },
        {
          "output_type": "stream",
          "name": "stdout",
          "text": [
            "Detections for @lobelia4cosmetics_12160.jpg:\n",
            "Empty DataFrame\n",
            "Columns: [name, confidence, xmin, ymin, xmax, ymax]\n",
            "Index: []\n"
          ]
        },
        {
          "output_type": "stream",
          "name": "stderr",
          "text": [
            "/root/.cache/torch/hub/ultralytics_yolov5_master/models/common.py:892: FutureWarning: `torch.cuda.amp.autocast(args...)` is deprecated. Please use `torch.amp.autocast('cuda', args...)` instead.\n",
            "  with amp.autocast(autocast):\n"
          ]
        },
        {
          "output_type": "stream",
          "name": "stdout",
          "text": [
            "Detections for @lobelia4cosmetics_12159.jpg:\n",
            "Empty DataFrame\n",
            "Columns: [name, confidence, xmin, ymin, xmax, ymax]\n",
            "Index: []\n"
          ]
        },
        {
          "output_type": "stream",
          "name": "stderr",
          "text": [
            "/root/.cache/torch/hub/ultralytics_yolov5_master/models/common.py:892: FutureWarning: `torch.cuda.amp.autocast(args...)` is deprecated. Please use `torch.amp.autocast('cuda', args...)` instead.\n",
            "  with amp.autocast(autocast):\n"
          ]
        },
        {
          "output_type": "stream",
          "name": "stdout",
          "text": [
            "Detections for @lobelia4cosmetics_12156.jpg:\n",
            "Empty DataFrame\n",
            "Columns: [name, confidence, xmin, ymin, xmax, ymax]\n",
            "Index: []\n"
          ]
        },
        {
          "output_type": "stream",
          "name": "stderr",
          "text": [
            "/root/.cache/torch/hub/ultralytics_yolov5_master/models/common.py:892: FutureWarning: `torch.cuda.amp.autocast(args...)` is deprecated. Please use `torch.amp.autocast('cuda', args...)` instead.\n",
            "  with amp.autocast(autocast):\n"
          ]
        },
        {
          "output_type": "stream",
          "name": "stdout",
          "text": [
            "Detections for @lobelia4cosmetics_12157.jpg:\n",
            "Empty DataFrame\n",
            "Columns: [name, confidence, xmin, ymin, xmax, ymax]\n",
            "Index: []\n"
          ]
        },
        {
          "output_type": "stream",
          "name": "stderr",
          "text": [
            "/root/.cache/torch/hub/ultralytics_yolov5_master/models/common.py:892: FutureWarning: `torch.cuda.amp.autocast(args...)` is deprecated. Please use `torch.amp.autocast('cuda', args...)` instead.\n",
            "  with amp.autocast(autocast):\n"
          ]
        },
        {
          "output_type": "stream",
          "name": "stdout",
          "text": [
            "Detections for @lobelia4cosmetics_12152.jpg:\n",
            "Empty DataFrame\n",
            "Columns: [name, confidence, xmin, ymin, xmax, ymax]\n",
            "Index: []\n"
          ]
        },
        {
          "output_type": "stream",
          "name": "stderr",
          "text": [
            "/root/.cache/torch/hub/ultralytics_yolov5_master/models/common.py:892: FutureWarning: `torch.cuda.amp.autocast(args...)` is deprecated. Please use `torch.amp.autocast('cuda', args...)` instead.\n",
            "  with amp.autocast(autocast):\n"
          ]
        },
        {
          "output_type": "stream",
          "name": "stdout",
          "text": [
            "Detections for @lobelia4cosmetics_12154.jpg:\n",
            "       name  confidence        xmin        ymin        xmax        ymax\n",
            "0    bottle    0.703980  103.481583   86.276588  219.125595  282.193298\n",
            "1    bottle    0.642987  236.607651  132.268799  274.609070  263.386505\n",
            "2    bottle    0.582703  208.692337  117.738754  249.569199  273.389404\n",
            "3    bottle    0.520170  262.937042  143.529648  302.185272  257.115112\n",
            "4    toilet    0.473945   22.772903  149.851379   57.972977  257.208496\n",
            "5    toilet    0.350603   35.411686  143.183853   80.003510  262.056885\n",
            "6  suitcase    0.274276   73.666656  110.276161  107.559769  268.121399\n"
          ]
        },
        {
          "output_type": "stream",
          "name": "stderr",
          "text": [
            "/root/.cache/torch/hub/ultralytics_yolov5_master/models/common.py:892: FutureWarning: `torch.cuda.amp.autocast(args...)` is deprecated. Please use `torch.amp.autocast('cuda', args...)` instead.\n",
            "  with amp.autocast(autocast):\n"
          ]
        },
        {
          "output_type": "stream",
          "name": "stdout",
          "text": [
            "Detections for @lobelia4cosmetics_12153.jpg:\n",
            "Empty DataFrame\n",
            "Columns: [name, confidence, xmin, ymin, xmax, ymax]\n",
            "Index: []\n"
          ]
        },
        {
          "output_type": "stream",
          "name": "stderr",
          "text": [
            "/root/.cache/torch/hub/ultralytics_yolov5_master/models/common.py:892: FutureWarning: `torch.cuda.amp.autocast(args...)` is deprecated. Please use `torch.amp.autocast('cuda', args...)` instead.\n",
            "  with amp.autocast(autocast):\n"
          ]
        },
        {
          "output_type": "stream",
          "name": "stdout",
          "text": [
            "Detections for @lobelia4cosmetics_12155.jpg:\n",
            "Empty DataFrame\n",
            "Columns: [name, confidence, xmin, ymin, xmax, ymax]\n",
            "Index: []\n"
          ]
        },
        {
          "output_type": "stream",
          "name": "stderr",
          "text": [
            "/root/.cache/torch/hub/ultralytics_yolov5_master/models/common.py:892: FutureWarning: `torch.cuda.amp.autocast(args...)` is deprecated. Please use `torch.amp.autocast('cuda', args...)` instead.\n",
            "  with amp.autocast(autocast):\n"
          ]
        },
        {
          "output_type": "stream",
          "name": "stdout",
          "text": [
            "Detections for @lobelia4cosmetics_12151.jpg:\n",
            "Empty DataFrame\n",
            "Columns: [name, confidence, xmin, ymin, xmax, ymax]\n",
            "Index: []\n"
          ]
        },
        {
          "output_type": "stream",
          "name": "stderr",
          "text": [
            "/root/.cache/torch/hub/ultralytics_yolov5_master/models/common.py:892: FutureWarning: `torch.cuda.amp.autocast(args...)` is deprecated. Please use `torch.amp.autocast('cuda', args...)` instead.\n",
            "  with amp.autocast(autocast):\n"
          ]
        },
        {
          "output_type": "stream",
          "name": "stdout",
          "text": [
            "Detections for @lobelia4cosmetics_12150.jpg:\n",
            "Empty DataFrame\n",
            "Columns: [name, confidence, xmin, ymin, xmax, ymax]\n",
            "Index: []\n"
          ]
        },
        {
          "output_type": "stream",
          "name": "stderr",
          "text": [
            "/root/.cache/torch/hub/ultralytics_yolov5_master/models/common.py:892: FutureWarning: `torch.cuda.amp.autocast(args...)` is deprecated. Please use `torch.amp.autocast('cuda', args...)` instead.\n",
            "  with amp.autocast(autocast):\n"
          ]
        },
        {
          "output_type": "stream",
          "name": "stdout",
          "text": [
            "Detections for @lobelia4cosmetics_12149.jpg:\n",
            "Empty DataFrame\n",
            "Columns: [name, confidence, xmin, ymin, xmax, ymax]\n",
            "Index: []\n"
          ]
        },
        {
          "output_type": "stream",
          "name": "stderr",
          "text": [
            "/root/.cache/torch/hub/ultralytics_yolov5_master/models/common.py:892: FutureWarning: `torch.cuda.amp.autocast(args...)` is deprecated. Please use `torch.amp.autocast('cuda', args...)` instead.\n",
            "  with amp.autocast(autocast):\n"
          ]
        },
        {
          "output_type": "stream",
          "name": "stdout",
          "text": [
            "Detections for @lobelia4cosmetics_12147.jpg:\n",
            "Empty DataFrame\n",
            "Columns: [name, confidence, xmin, ymin, xmax, ymax]\n",
            "Index: []\n"
          ]
        },
        {
          "output_type": "stream",
          "name": "stderr",
          "text": [
            "/root/.cache/torch/hub/ultralytics_yolov5_master/models/common.py:892: FutureWarning: `torch.cuda.amp.autocast(args...)` is deprecated. Please use `torch.amp.autocast('cuda', args...)` instead.\n",
            "  with amp.autocast(autocast):\n"
          ]
        },
        {
          "output_type": "stream",
          "name": "stdout",
          "text": [
            "Detections for @lobelia4cosmetics_12144.jpg:\n",
            "     name  confidence        xmin        ymin        xmax         ymax\n",
            "0    book    0.575717  254.181519  912.326172  782.529419  1020.054077\n",
            "1  person    0.330362  591.487854  481.116455  765.717163   928.665039\n"
          ]
        },
        {
          "output_type": "stream",
          "name": "stderr",
          "text": [
            "/root/.cache/torch/hub/ultralytics_yolov5_master/models/common.py:892: FutureWarning: `torch.cuda.amp.autocast(args...)` is deprecated. Please use `torch.amp.autocast('cuda', args...)` instead.\n",
            "  with amp.autocast(autocast):\n"
          ]
        },
        {
          "output_type": "stream",
          "name": "stdout",
          "text": [
            "Detections for @lobelia4cosmetics_12148.jpg:\n",
            "Empty DataFrame\n",
            "Columns: [name, confidence, xmin, ymin, xmax, ymax]\n",
            "Index: []\n"
          ]
        },
        {
          "output_type": "stream",
          "name": "stderr",
          "text": [
            "/root/.cache/torch/hub/ultralytics_yolov5_master/models/common.py:892: FutureWarning: `torch.cuda.amp.autocast(args...)` is deprecated. Please use `torch.amp.autocast('cuda', args...)` instead.\n",
            "  with amp.autocast(autocast):\n"
          ]
        },
        {
          "output_type": "stream",
          "name": "stdout",
          "text": [
            "Detections for @lobelia4cosmetics_12143.jpg:\n",
            "     name  confidence        xmin        ymin        xmax        ymax\n",
            "0  person    0.892511  432.249756  421.728455  764.422974  903.556335\n"
          ]
        },
        {
          "output_type": "stream",
          "name": "stderr",
          "text": [
            "/root/.cache/torch/hub/ultralytics_yolov5_master/models/common.py:892: FutureWarning: `torch.cuda.amp.autocast(args...)` is deprecated. Please use `torch.amp.autocast('cuda', args...)` instead.\n",
            "  with amp.autocast(autocast):\n"
          ]
        },
        {
          "output_type": "stream",
          "name": "stdout",
          "text": [
            "Detections for @lobelia4cosmetics_12142.jpg:\n",
            "Empty DataFrame\n",
            "Columns: [name, confidence, xmin, ymin, xmax, ymax]\n",
            "Index: []\n"
          ]
        },
        {
          "output_type": "stream",
          "name": "stderr",
          "text": [
            "/root/.cache/torch/hub/ultralytics_yolov5_master/models/common.py:892: FutureWarning: `torch.cuda.amp.autocast(args...)` is deprecated. Please use `torch.amp.autocast('cuda', args...)` instead.\n",
            "  with amp.autocast(autocast):\n"
          ]
        },
        {
          "output_type": "stream",
          "name": "stdout",
          "text": [
            "Detections for @lobelia4cosmetics_12146.jpg:\n",
            "Empty DataFrame\n",
            "Columns: [name, confidence, xmin, ymin, xmax, ymax]\n",
            "Index: []\n"
          ]
        },
        {
          "output_type": "stream",
          "name": "stderr",
          "text": [
            "/root/.cache/torch/hub/ultralytics_yolov5_master/models/common.py:892: FutureWarning: `torch.cuda.amp.autocast(args...)` is deprecated. Please use `torch.amp.autocast('cuda', args...)` instead.\n",
            "  with amp.autocast(autocast):\n"
          ]
        },
        {
          "output_type": "stream",
          "name": "stdout",
          "text": [
            "Detections for @lobelia4cosmetics_12145.jpg:\n",
            "     name  confidence        xmin        ymin        xmax        ymax\n",
            "0  orange    0.377693  708.816406  438.498993  836.305786  518.246704\n",
            "1  orange    0.377175  288.880432  315.707275  462.019684  399.253693\n",
            "2  orange    0.338240  163.517136  337.105133  335.829010  406.659210\n",
            "3  orange    0.255887  806.214600  404.197449  983.961060  505.069977\n"
          ]
        },
        {
          "output_type": "stream",
          "name": "stderr",
          "text": [
            "/root/.cache/torch/hub/ultralytics_yolov5_master/models/common.py:892: FutureWarning: `torch.cuda.amp.autocast(args...)` is deprecated. Please use `torch.amp.autocast('cuda', args...)` instead.\n",
            "  with amp.autocast(autocast):\n"
          ]
        },
        {
          "output_type": "stream",
          "name": "stdout",
          "text": [
            "Detections for @lobelia4cosmetics_12141.jpg:\n",
            "Empty DataFrame\n",
            "Columns: [name, confidence, xmin, ymin, xmax, ymax]\n",
            "Index: []\n"
          ]
        },
        {
          "output_type": "stream",
          "name": "stderr",
          "text": [
            "/root/.cache/torch/hub/ultralytics_yolov5_master/models/common.py:892: FutureWarning: `torch.cuda.amp.autocast(args...)` is deprecated. Please use `torch.amp.autocast('cuda', args...)` instead.\n",
            "  with amp.autocast(autocast):\n"
          ]
        },
        {
          "output_type": "stream",
          "name": "stdout",
          "text": [
            "Detections for @lobelia4cosmetics_12139.jpg:\n",
            "     name  confidence        xmin        ymin        xmax         ymax\n",
            "0  bottle    0.442316  627.069946  268.439514  945.952393  1198.739502\n"
          ]
        },
        {
          "output_type": "stream",
          "name": "stderr",
          "text": [
            "/root/.cache/torch/hub/ultralytics_yolov5_master/models/common.py:892: FutureWarning: `torch.cuda.amp.autocast(args...)` is deprecated. Please use `torch.amp.autocast('cuda', args...)` instead.\n",
            "  with amp.autocast(autocast):\n"
          ]
        },
        {
          "output_type": "stream",
          "name": "stdout",
          "text": [
            "Detections for @lobelia4cosmetics_12140.jpg:\n",
            "     name  confidence        xmin        ymin        xmax        ymax\n",
            "0  person    0.837816  239.710205  600.867188  376.743317  748.357544\n",
            "1  person    0.783029  350.394745  557.036804  450.975250  739.511719\n",
            "2  person    0.647013  600.788635  674.330017  675.920471  815.240356\n",
            "3  person    0.585273  429.727112  549.247009  537.696838  852.276733\n",
            "4  person    0.580514  558.670532  704.565674  631.774536  838.042358\n",
            "5  bottle    0.552930  538.359314  306.540588  790.365112  858.194519\n",
            "6  person    0.397496  545.091919  674.166870  583.348511  789.676514\n",
            "7  person    0.301429  543.741455  681.182068  603.988403  830.842163\n"
          ]
        },
        {
          "output_type": "stream",
          "name": "stderr",
          "text": [
            "/root/.cache/torch/hub/ultralytics_yolov5_master/models/common.py:892: FutureWarning: `torch.cuda.amp.autocast(args...)` is deprecated. Please use `torch.amp.autocast('cuda', args...)` instead.\n",
            "  with amp.autocast(autocast):\n"
          ]
        },
        {
          "output_type": "stream",
          "name": "stdout",
          "text": [
            "Detections for @lobelia4cosmetics_12112.jpg:\n",
            "     name  confidence        xmin        ymin        xmax         ymax\n",
            "0  person    0.854438  386.629089  569.150818  798.967346  1072.493408\n"
          ]
        },
        {
          "output_type": "stream",
          "name": "stderr",
          "text": [
            "/root/.cache/torch/hub/ultralytics_yolov5_master/models/common.py:892: FutureWarning: `torch.cuda.amp.autocast(args...)` is deprecated. Please use `torch.amp.autocast('cuda', args...)` instead.\n",
            "  with amp.autocast(autocast):\n"
          ]
        },
        {
          "output_type": "stream",
          "name": "stdout",
          "text": [
            "Detections for @lobelia4cosmetics_12108.jpg:\n",
            "    name  confidence        xmin        ymin        xmax         ymax\n",
            "0  clock    0.653354  297.035736  174.852615  875.716736   759.952576\n",
            "1  donut    0.390350  404.631073  923.974426  492.100800  1016.315857\n",
            "2  donut    0.312811  616.030823  964.383850  712.616760  1078.172852\n",
            "3   fork    0.258616  755.290771  796.080139  999.244934  1011.520569\n"
          ]
        },
        {
          "output_type": "stream",
          "name": "stderr",
          "text": [
            "/root/.cache/torch/hub/ultralytics_yolov5_master/models/common.py:892: FutureWarning: `torch.cuda.amp.autocast(args...)` is deprecated. Please use `torch.amp.autocast('cuda', args...)` instead.\n",
            "  with amp.autocast(autocast):\n"
          ]
        },
        {
          "output_type": "stream",
          "name": "stdout",
          "text": [
            "Detections for @lobelia4cosmetics_12116.jpg:\n",
            "Empty DataFrame\n",
            "Columns: [name, confidence, xmin, ymin, xmax, ymax]\n",
            "Index: []\n"
          ]
        },
        {
          "output_type": "stream",
          "name": "stderr",
          "text": [
            "/root/.cache/torch/hub/ultralytics_yolov5_master/models/common.py:892: FutureWarning: `torch.cuda.amp.autocast(args...)` is deprecated. Please use `torch.amp.autocast('cuda', args...)` instead.\n",
            "  with amp.autocast(autocast):\n"
          ]
        },
        {
          "output_type": "stream",
          "name": "stdout",
          "text": [
            "Detections for @lobelia4cosmetics_12109.jpg:\n",
            "     name  confidence        xmin        ymin        xmax        ymax\n",
            "0  banana    0.321508  833.838074  428.316528  923.337952  526.941895\n",
            "1   donut    0.268656  504.534119  675.769714  586.381958  745.471985\n"
          ]
        },
        {
          "output_type": "stream",
          "name": "stderr",
          "text": [
            "/root/.cache/torch/hub/ultralytics_yolov5_master/models/common.py:892: FutureWarning: `torch.cuda.amp.autocast(args...)` is deprecated. Please use `torch.amp.autocast('cuda', args...)` instead.\n",
            "  with amp.autocast(autocast):\n"
          ]
        },
        {
          "output_type": "stream",
          "name": "stdout",
          "text": [
            "Detections for @lobelia4cosmetics_12121.jpg:\n",
            "     name  confidence        xmin       ymin        xmax         ymax\n",
            "0  bottle    0.302834  345.213257  27.171362  849.627319  1115.989014\n"
          ]
        },
        {
          "output_type": "stream",
          "name": "stderr",
          "text": [
            "/root/.cache/torch/hub/ultralytics_yolov5_master/models/common.py:892: FutureWarning: `torch.cuda.amp.autocast(args...)` is deprecated. Please use `torch.amp.autocast('cuda', args...)` instead.\n",
            "  with amp.autocast(autocast):\n"
          ]
        },
        {
          "output_type": "stream",
          "name": "stdout",
          "text": [
            "Detections for @lobelia4cosmetics_12117.jpg:\n",
            "     name  confidence        xmin        ymin        xmax        ymax\n",
            "0  orange    0.377693  708.816406  438.498993  836.305786  518.246704\n",
            "1  orange    0.377175  288.880432  315.707275  462.019684  399.253693\n",
            "2  orange    0.338240  163.517136  337.105133  335.829010  406.659210\n",
            "3  orange    0.255887  806.214600  404.197449  983.961060  505.069977\n"
          ]
        },
        {
          "output_type": "stream",
          "name": "stderr",
          "text": [
            "/root/.cache/torch/hub/ultralytics_yolov5_master/models/common.py:892: FutureWarning: `torch.cuda.amp.autocast(args...)` is deprecated. Please use `torch.amp.autocast('cuda', args...)` instead.\n",
            "  with amp.autocast(autocast):\n"
          ]
        },
        {
          "output_type": "stream",
          "name": "stdout",
          "text": [
            "Detections for @lobelia4cosmetics_12113.jpg:\n",
            "Empty DataFrame\n",
            "Columns: [name, confidence, xmin, ymin, xmax, ymax]\n",
            "Index: []\n"
          ]
        },
        {
          "output_type": "stream",
          "name": "stderr",
          "text": [
            "/root/.cache/torch/hub/ultralytics_yolov5_master/models/common.py:892: FutureWarning: `torch.cuda.amp.autocast(args...)` is deprecated. Please use `torch.amp.autocast('cuda', args...)` instead.\n",
            "  with amp.autocast(autocast):\n"
          ]
        },
        {
          "output_type": "stream",
          "name": "stdout",
          "text": [
            "Detections for @lobelia4cosmetics_12107.jpg:\n",
            "Empty DataFrame\n",
            "Columns: [name, confidence, xmin, ymin, xmax, ymax]\n",
            "Index: []\n"
          ]
        },
        {
          "output_type": "stream",
          "name": "stderr",
          "text": [
            "/root/.cache/torch/hub/ultralytics_yolov5_master/models/common.py:892: FutureWarning: `torch.cuda.amp.autocast(args...)` is deprecated. Please use `torch.amp.autocast('cuda', args...)` instead.\n",
            "  with amp.autocast(autocast):\n"
          ]
        },
        {
          "output_type": "stream",
          "name": "stdout",
          "text": [
            "Detections for @lobelia4cosmetics_12138.jpg:\n",
            "Empty DataFrame\n",
            "Columns: [name, confidence, xmin, ymin, xmax, ymax]\n",
            "Index: []\n"
          ]
        },
        {
          "output_type": "stream",
          "name": "stderr",
          "text": [
            "/root/.cache/torch/hub/ultralytics_yolov5_master/models/common.py:892: FutureWarning: `torch.cuda.amp.autocast(args...)` is deprecated. Please use `torch.amp.autocast('cuda', args...)` instead.\n",
            "  with amp.autocast(autocast):\n"
          ]
        },
        {
          "output_type": "stream",
          "name": "stdout",
          "text": [
            "Detections for @lobelia4cosmetics_12135.jpg:\n",
            "Empty DataFrame\n",
            "Columns: [name, confidence, xmin, ymin, xmax, ymax]\n",
            "Index: []\n"
          ]
        },
        {
          "output_type": "stream",
          "name": "stderr",
          "text": [
            "/root/.cache/torch/hub/ultralytics_yolov5_master/models/common.py:892: FutureWarning: `torch.cuda.amp.autocast(args...)` is deprecated. Please use `torch.amp.autocast('cuda', args...)` instead.\n",
            "  with amp.autocast(autocast):\n"
          ]
        },
        {
          "output_type": "stream",
          "name": "stdout",
          "text": [
            "Detections for @lobelia4cosmetics_12136.jpg:\n",
            "Empty DataFrame\n",
            "Columns: [name, confidence, xmin, ymin, xmax, ymax]\n",
            "Index: []\n"
          ]
        },
        {
          "output_type": "stream",
          "name": "stderr",
          "text": [
            "/root/.cache/torch/hub/ultralytics_yolov5_master/models/common.py:892: FutureWarning: `torch.cuda.amp.autocast(args...)` is deprecated. Please use `torch.amp.autocast('cuda', args...)` instead.\n",
            "  with amp.autocast(autocast):\n"
          ]
        },
        {
          "output_type": "stream",
          "name": "stdout",
          "text": [
            "Detections for @lobelia4cosmetics_12111.jpg:\n",
            "     name  confidence       xmin        ymin        xmax        ymax\n",
            "0  person    0.526795  71.351341  271.467834  201.004105  451.916229\n",
            "1  person    0.271554  70.582901  270.818848  133.516663  421.879883\n"
          ]
        },
        {
          "output_type": "stream",
          "name": "stderr",
          "text": [
            "/root/.cache/torch/hub/ultralytics_yolov5_master/models/common.py:892: FutureWarning: `torch.cuda.amp.autocast(args...)` is deprecated. Please use `torch.amp.autocast('cuda', args...)` instead.\n",
            "  with amp.autocast(autocast):\n"
          ]
        },
        {
          "output_type": "stream",
          "name": "stdout",
          "text": [
            "Detections for @lobelia4cosmetics_12115.jpg:\n",
            "     name  confidence        xmin        ymin        xmax        ymax\n",
            "0  person    0.542076  316.487823  259.227722  515.913269  582.338013\n"
          ]
        },
        {
          "output_type": "stream",
          "name": "stderr",
          "text": [
            "/root/.cache/torch/hub/ultralytics_yolov5_master/models/common.py:892: FutureWarning: `torch.cuda.amp.autocast(args...)` is deprecated. Please use `torch.amp.autocast('cuda', args...)` instead.\n",
            "  with amp.autocast(autocast):\n"
          ]
        },
        {
          "output_type": "stream",
          "name": "stdout",
          "text": [
            "Detections for @lobelia4cosmetics_12119.jpg:\n",
            "Empty DataFrame\n",
            "Columns: [name, confidence, xmin, ymin, xmax, ymax]\n",
            "Index: []\n"
          ]
        },
        {
          "output_type": "stream",
          "name": "stderr",
          "text": [
            "/root/.cache/torch/hub/ultralytics_yolov5_master/models/common.py:892: FutureWarning: `torch.cuda.amp.autocast(args...)` is deprecated. Please use `torch.amp.autocast('cuda', args...)` instead.\n",
            "  with amp.autocast(autocast):\n"
          ]
        },
        {
          "output_type": "stream",
          "name": "stdout",
          "text": [
            "Detections for @lobelia4cosmetics_12120.jpg:\n",
            "Empty DataFrame\n",
            "Columns: [name, confidence, xmin, ymin, xmax, ymax]\n",
            "Index: []\n"
          ]
        },
        {
          "output_type": "stream",
          "name": "stderr",
          "text": [
            "/root/.cache/torch/hub/ultralytics_yolov5_master/models/common.py:892: FutureWarning: `torch.cuda.amp.autocast(args...)` is deprecated. Please use `torch.amp.autocast('cuda', args...)` instead.\n",
            "  with amp.autocast(autocast):\n"
          ]
        },
        {
          "output_type": "stream",
          "name": "stdout",
          "text": [
            "Detections for @lobelia4cosmetics_12137.jpg:\n",
            "     name  confidence        xmin        ymin        xmax         ymax\n",
            "0  bottle    0.332959  320.581512  224.795502  637.528076  1200.781372\n"
          ]
        },
        {
          "output_type": "stream",
          "name": "stderr",
          "text": [
            "/root/.cache/torch/hub/ultralytics_yolov5_master/models/common.py:892: FutureWarning: `torch.cuda.amp.autocast(args...)` is deprecated. Please use `torch.amp.autocast('cuda', args...)` instead.\n",
            "  with amp.autocast(autocast):\n"
          ]
        },
        {
          "output_type": "stream",
          "name": "stdout",
          "text": [
            "Detections for @lobelia4cosmetics_12118.jpg:\n",
            "Empty DataFrame\n",
            "Columns: [name, confidence, xmin, ymin, xmax, ymax]\n",
            "Index: []\n"
          ]
        },
        {
          "output_type": "stream",
          "name": "stderr",
          "text": [
            "/root/.cache/torch/hub/ultralytics_yolov5_master/models/common.py:892: FutureWarning: `torch.cuda.amp.autocast(args...)` is deprecated. Please use `torch.amp.autocast('cuda', args...)` instead.\n",
            "  with amp.autocast(autocast):\n"
          ]
        },
        {
          "output_type": "stream",
          "name": "stdout",
          "text": [
            "Detections for @lobelia4cosmetics_12114.jpg:\n",
            "Empty DataFrame\n",
            "Columns: [name, confidence, xmin, ymin, xmax, ymax]\n",
            "Index: []\n"
          ]
        },
        {
          "output_type": "stream",
          "name": "stderr",
          "text": [
            "/root/.cache/torch/hub/ultralytics_yolov5_master/models/common.py:892: FutureWarning: `torch.cuda.amp.autocast(args...)` is deprecated. Please use `torch.amp.autocast('cuda', args...)` instead.\n",
            "  with amp.autocast(autocast):\n"
          ]
        },
        {
          "output_type": "stream",
          "name": "stdout",
          "text": [
            "Detections for @lobelia4cosmetics_12133.jpg:\n",
            "Empty DataFrame\n",
            "Columns: [name, confidence, xmin, ymin, xmax, ymax]\n",
            "Index: []\n"
          ]
        },
        {
          "output_type": "stream",
          "name": "stderr",
          "text": [
            "/root/.cache/torch/hub/ultralytics_yolov5_master/models/common.py:892: FutureWarning: `torch.cuda.amp.autocast(args...)` is deprecated. Please use `torch.amp.autocast('cuda', args...)` instead.\n",
            "  with amp.autocast(autocast):\n"
          ]
        },
        {
          "output_type": "stream",
          "name": "stdout",
          "text": [
            "Detections for @lobelia4cosmetics_12132.jpg:\n",
            "    name  confidence        xmin        ymin        xmax         ymax\n",
            "0  knife      0.4199  530.664124  818.453064  946.696716  1087.866943\n"
          ]
        },
        {
          "output_type": "stream",
          "name": "stderr",
          "text": [
            "/root/.cache/torch/hub/ultralytics_yolov5_master/models/common.py:892: FutureWarning: `torch.cuda.amp.autocast(args...)` is deprecated. Please use `torch.amp.autocast('cuda', args...)` instead.\n",
            "  with amp.autocast(autocast):\n"
          ]
        },
        {
          "output_type": "stream",
          "name": "stdout",
          "text": [
            "Detections for @lobelia4cosmetics_12134.jpg:\n",
            "Empty DataFrame\n",
            "Columns: [name, confidence, xmin, ymin, xmax, ymax]\n",
            "Index: []\n"
          ]
        },
        {
          "output_type": "stream",
          "name": "stderr",
          "text": [
            "/root/.cache/torch/hub/ultralytics_yolov5_master/models/common.py:892: FutureWarning: `torch.cuda.amp.autocast(args...)` is deprecated. Please use `torch.amp.autocast('cuda', args...)` instead.\n",
            "  with amp.autocast(autocast):\n"
          ]
        },
        {
          "output_type": "stream",
          "name": "stdout",
          "text": [
            "Detections for @lobelia4cosmetics_12129.jpg:\n",
            "Empty DataFrame\n",
            "Columns: [name, confidence, xmin, ymin, xmax, ymax]\n",
            "Index: []\n"
          ]
        },
        {
          "output_type": "stream",
          "name": "stderr",
          "text": [
            "/root/.cache/torch/hub/ultralytics_yolov5_master/models/common.py:892: FutureWarning: `torch.cuda.amp.autocast(args...)` is deprecated. Please use `torch.amp.autocast('cuda', args...)` instead.\n",
            "  with amp.autocast(autocast):\n"
          ]
        },
        {
          "output_type": "stream",
          "name": "stdout",
          "text": [
            "Detections for @lobelia4cosmetics_12130.jpg:\n",
            "Empty DataFrame\n",
            "Columns: [name, confidence, xmin, ymin, xmax, ymax]\n",
            "Index: []\n"
          ]
        },
        {
          "output_type": "stream",
          "name": "stderr",
          "text": [
            "/root/.cache/torch/hub/ultralytics_yolov5_master/models/common.py:892: FutureWarning: `torch.cuda.amp.autocast(args...)` is deprecated. Please use `torch.amp.autocast('cuda', args...)` instead.\n",
            "  with amp.autocast(autocast):\n"
          ]
        },
        {
          "output_type": "stream",
          "name": "stdout",
          "text": [
            "Detections for @lobelia4cosmetics_12131.jpg:\n",
            "Empty DataFrame\n",
            "Columns: [name, confidence, xmin, ymin, xmax, ymax]\n",
            "Index: []\n"
          ]
        },
        {
          "output_type": "stream",
          "name": "stderr",
          "text": [
            "/root/.cache/torch/hub/ultralytics_yolov5_master/models/common.py:892: FutureWarning: `torch.cuda.amp.autocast(args...)` is deprecated. Please use `torch.amp.autocast('cuda', args...)` instead.\n",
            "  with amp.autocast(autocast):\n"
          ]
        },
        {
          "output_type": "stream",
          "name": "stdout",
          "text": [
            "Detections for @lobelia4cosmetics_12123.jpg:\n",
            "Empty DataFrame\n",
            "Columns: [name, confidence, xmin, ymin, xmax, ymax]\n",
            "Index: []\n"
          ]
        },
        {
          "output_type": "stream",
          "name": "stderr",
          "text": [
            "/root/.cache/torch/hub/ultralytics_yolov5_master/models/common.py:892: FutureWarning: `torch.cuda.amp.autocast(args...)` is deprecated. Please use `torch.amp.autocast('cuda', args...)` instead.\n",
            "  with amp.autocast(autocast):\n"
          ]
        },
        {
          "output_type": "stream",
          "name": "stdout",
          "text": [
            "Detections for @lobelia4cosmetics_12127.jpg:\n",
            "Empty DataFrame\n",
            "Columns: [name, confidence, xmin, ymin, xmax, ymax]\n",
            "Index: []\n"
          ]
        },
        {
          "output_type": "stream",
          "name": "stderr",
          "text": [
            "/root/.cache/torch/hub/ultralytics_yolov5_master/models/common.py:892: FutureWarning: `torch.cuda.amp.autocast(args...)` is deprecated. Please use `torch.amp.autocast('cuda', args...)` instead.\n",
            "  with amp.autocast(autocast):\n"
          ]
        },
        {
          "output_type": "stream",
          "name": "stdout",
          "text": [
            "Detections for @lobelia4cosmetics_12128.jpg:\n",
            "Empty DataFrame\n",
            "Columns: [name, confidence, xmin, ymin, xmax, ymax]\n",
            "Index: []\n"
          ]
        },
        {
          "output_type": "stream",
          "name": "stderr",
          "text": [
            "/root/.cache/torch/hub/ultralytics_yolov5_master/models/common.py:892: FutureWarning: `torch.cuda.amp.autocast(args...)` is deprecated. Please use `torch.amp.autocast('cuda', args...)` instead.\n",
            "  with amp.autocast(autocast):\n"
          ]
        },
        {
          "output_type": "stream",
          "name": "stdout",
          "text": [
            "Detections for @lobelia4cosmetics_12124.jpg:\n",
            "Empty DataFrame\n",
            "Columns: [name, confidence, xmin, ymin, xmax, ymax]\n",
            "Index: []\n"
          ]
        },
        {
          "output_type": "stream",
          "name": "stderr",
          "text": [
            "/root/.cache/torch/hub/ultralytics_yolov5_master/models/common.py:892: FutureWarning: `torch.cuda.amp.autocast(args...)` is deprecated. Please use `torch.amp.autocast('cuda', args...)` instead.\n",
            "  with amp.autocast(autocast):\n"
          ]
        },
        {
          "output_type": "stream",
          "name": "stdout",
          "text": [
            "Detections for @lobelia4cosmetics_12125.jpg:\n",
            "Empty DataFrame\n",
            "Columns: [name, confidence, xmin, ymin, xmax, ymax]\n",
            "Index: []\n"
          ]
        },
        {
          "output_type": "stream",
          "name": "stderr",
          "text": [
            "/root/.cache/torch/hub/ultralytics_yolov5_master/models/common.py:892: FutureWarning: `torch.cuda.amp.autocast(args...)` is deprecated. Please use `torch.amp.autocast('cuda', args...)` instead.\n",
            "  with amp.autocast(autocast):\n"
          ]
        },
        {
          "output_type": "stream",
          "name": "stdout",
          "text": [
            "Detections for @lobelia4cosmetics_12126.jpg:\n",
            "Empty DataFrame\n",
            "Columns: [name, confidence, xmin, ymin, xmax, ymax]\n",
            "Index: []\n"
          ]
        },
        {
          "output_type": "stream",
          "name": "stderr",
          "text": [
            "/root/.cache/torch/hub/ultralytics_yolov5_master/models/common.py:892: FutureWarning: `torch.cuda.amp.autocast(args...)` is deprecated. Please use `torch.amp.autocast('cuda', args...)` instead.\n",
            "  with amp.autocast(autocast):\n"
          ]
        },
        {
          "output_type": "stream",
          "name": "stdout",
          "text": [
            "Detections for @lobelia4cosmetics_12122.jpg:\n",
            "Empty DataFrame\n",
            "Columns: [name, confidence, xmin, ymin, xmax, ymax]\n",
            "Index: []\n"
          ]
        },
        {
          "output_type": "stream",
          "name": "stderr",
          "text": [
            "/root/.cache/torch/hub/ultralytics_yolov5_master/models/common.py:892: FutureWarning: `torch.cuda.amp.autocast(args...)` is deprecated. Please use `torch.amp.autocast('cuda', args...)` instead.\n",
            "  with amp.autocast(autocast):\n"
          ]
        },
        {
          "output_type": "stream",
          "name": "stdout",
          "text": [
            "Detections for @lobelia4cosmetics_12255.jpg:\n",
            "     name  confidence       xmin        ymin        xmax        ymax\n",
            "0  person    0.526795  71.351341  271.467834  201.004105  451.916229\n",
            "1  person    0.271554  70.582901  270.818848  133.516663  421.879883\n"
          ]
        },
        {
          "output_type": "stream",
          "name": "stderr",
          "text": [
            "/root/.cache/torch/hub/ultralytics_yolov5_master/models/common.py:892: FutureWarning: `torch.cuda.amp.autocast(args...)` is deprecated. Please use `torch.amp.autocast('cuda', args...)` instead.\n",
            "  with amp.autocast(autocast):\n"
          ]
        },
        {
          "output_type": "stream",
          "name": "stdout",
          "text": [
            "Detections for @lobelia4cosmetics_12252.jpg:\n",
            "Empty DataFrame\n",
            "Columns: [name, confidence, xmin, ymin, xmax, ymax]\n",
            "Index: []\n"
          ]
        },
        {
          "output_type": "stream",
          "name": "stderr",
          "text": [
            "/root/.cache/torch/hub/ultralytics_yolov5_master/models/common.py:892: FutureWarning: `torch.cuda.amp.autocast(args...)` is deprecated. Please use `torch.amp.autocast('cuda', args...)` instead.\n",
            "  with amp.autocast(autocast):\n"
          ]
        },
        {
          "output_type": "stream",
          "name": "stdout",
          "text": [
            "Detections for @lobelia4cosmetics_12253.jpg:\n",
            "  name  confidence       xmin        ymin        xmax        ymax\n",
            "0  cup    0.646768  71.777611  245.878174  149.468277  308.447205\n"
          ]
        },
        {
          "output_type": "stream",
          "name": "stderr",
          "text": [
            "/root/.cache/torch/hub/ultralytics_yolov5_master/models/common.py:892: FutureWarning: `torch.cuda.amp.autocast(args...)` is deprecated. Please use `torch.amp.autocast('cuda', args...)` instead.\n",
            "  with amp.autocast(autocast):\n"
          ]
        },
        {
          "output_type": "stream",
          "name": "stdout",
          "text": [
            "Detections for @lobelia4cosmetics_12248.jpg:\n",
            "Empty DataFrame\n",
            "Columns: [name, confidence, xmin, ymin, xmax, ymax]\n",
            "Index: []\n"
          ]
        },
        {
          "output_type": "stream",
          "name": "stderr",
          "text": [
            "/root/.cache/torch/hub/ultralytics_yolov5_master/models/common.py:892: FutureWarning: `torch.cuda.amp.autocast(args...)` is deprecated. Please use `torch.amp.autocast('cuda', args...)` instead.\n",
            "  with amp.autocast(autocast):\n"
          ]
        },
        {
          "output_type": "stream",
          "name": "stdout",
          "text": [
            "Detections for @lobelia4cosmetics_12250.jpg:\n",
            "   name  confidence        xmin       ymin        xmax        ymax\n",
            "0  vase    0.411163  244.189636  63.217407  566.351562  528.152344\n"
          ]
        },
        {
          "output_type": "stream",
          "name": "stderr",
          "text": [
            "/root/.cache/torch/hub/ultralytics_yolov5_master/models/common.py:892: FutureWarning: `torch.cuda.amp.autocast(args...)` is deprecated. Please use `torch.amp.autocast('cuda', args...)` instead.\n",
            "  with amp.autocast(autocast):\n"
          ]
        },
        {
          "output_type": "stream",
          "name": "stdout",
          "text": [
            "Detections for @lobelia4cosmetics_12245.jpg:\n",
            "     name  confidence        xmin        ymin        xmax         ymax\n",
            "0  bottle    0.442316  627.069946  268.439514  945.952393  1198.739502\n"
          ]
        },
        {
          "output_type": "stream",
          "name": "stderr",
          "text": [
            "/root/.cache/torch/hub/ultralytics_yolov5_master/models/common.py:892: FutureWarning: `torch.cuda.amp.autocast(args...)` is deprecated. Please use `torch.amp.autocast('cuda', args...)` instead.\n",
            "  with amp.autocast(autocast):\n"
          ]
        },
        {
          "output_type": "stream",
          "name": "stdout",
          "text": [
            "Detections for @lobelia4cosmetics_12251.jpg:\n",
            "Empty DataFrame\n",
            "Columns: [name, confidence, xmin, ymin, xmax, ymax]\n",
            "Index: []\n"
          ]
        },
        {
          "output_type": "stream",
          "name": "stderr",
          "text": [
            "/root/.cache/torch/hub/ultralytics_yolov5_master/models/common.py:892: FutureWarning: `torch.cuda.amp.autocast(args...)` is deprecated. Please use `torch.amp.autocast('cuda', args...)` instead.\n",
            "  with amp.autocast(autocast):\n"
          ]
        },
        {
          "output_type": "stream",
          "name": "stdout",
          "text": [
            "Detections for @lobelia4cosmetics_12246.jpg:\n",
            "     name  confidence        xmin        ymin        xmax        ymax\n",
            "0  person    0.837816  239.710205  600.867188  376.743317  748.357544\n",
            "1  person    0.783029  350.394745  557.036804  450.975250  739.511719\n",
            "2  person    0.647013  600.788635  674.330017  675.920471  815.240356\n",
            "3  person    0.585273  429.727112  549.247009  537.696838  852.276733\n",
            "4  person    0.580514  558.670532  704.565674  631.774536  838.042358\n",
            "5  bottle    0.552930  538.359314  306.540588  790.365112  858.194519\n",
            "6  person    0.397496  545.091919  674.166870  583.348511  789.676514\n",
            "7  person    0.301429  543.741455  681.182068  603.988403  830.842163\n"
          ]
        },
        {
          "output_type": "stream",
          "name": "stderr",
          "text": [
            "/root/.cache/torch/hub/ultralytics_yolov5_master/models/common.py:892: FutureWarning: `torch.cuda.amp.autocast(args...)` is deprecated. Please use `torch.amp.autocast('cuda', args...)` instead.\n",
            "  with amp.autocast(autocast):\n"
          ]
        },
        {
          "output_type": "stream",
          "name": "stdout",
          "text": [
            "Detections for @lobelia4cosmetics_12243.jpg:\n",
            "     name  confidence        xmin        ymin        xmax         ymax\n",
            "0  bottle    0.332959  320.581512  224.795502  637.528076  1200.781372\n"
          ]
        },
        {
          "output_type": "stream",
          "name": "stderr",
          "text": [
            "/root/.cache/torch/hub/ultralytics_yolov5_master/models/common.py:892: FutureWarning: `torch.cuda.amp.autocast(args...)` is deprecated. Please use `torch.amp.autocast('cuda', args...)` instead.\n",
            "  with amp.autocast(autocast):\n"
          ]
        },
        {
          "output_type": "stream",
          "name": "stdout",
          "text": [
            "Detections for @lobelia4cosmetics_12244.jpg:\n",
            "Empty DataFrame\n",
            "Columns: [name, confidence, xmin, ymin, xmax, ymax]\n",
            "Index: []\n"
          ]
        },
        {
          "output_type": "stream",
          "name": "stderr",
          "text": [
            "/root/.cache/torch/hub/ultralytics_yolov5_master/models/common.py:892: FutureWarning: `torch.cuda.amp.autocast(args...)` is deprecated. Please use `torch.amp.autocast('cuda', args...)` instead.\n",
            "  with amp.autocast(autocast):\n"
          ]
        },
        {
          "output_type": "stream",
          "name": "stdout",
          "text": [
            "Detections for @lobelia4cosmetics_12242.jpg:\n",
            "Empty DataFrame\n",
            "Columns: [name, confidence, xmin, ymin, xmax, ymax]\n",
            "Index: []\n"
          ]
        },
        {
          "output_type": "stream",
          "name": "stderr",
          "text": [
            "/root/.cache/torch/hub/ultralytics_yolov5_master/models/common.py:892: FutureWarning: `torch.cuda.amp.autocast(args...)` is deprecated. Please use `torch.amp.autocast('cuda', args...)` instead.\n",
            "  with amp.autocast(autocast):\n"
          ]
        },
        {
          "output_type": "stream",
          "name": "stdout",
          "text": [
            "Detections for @lobelia4cosmetics_12239.jpg:\n",
            "     name  confidence        xmin        ymin        xmax         ymax\n",
            "0  person    0.854438  386.629089  569.150818  798.967346  1072.493408\n"
          ]
        },
        {
          "output_type": "stream",
          "name": "stderr",
          "text": [
            "/root/.cache/torch/hub/ultralytics_yolov5_master/models/common.py:892: FutureWarning: `torch.cuda.amp.autocast(args...)` is deprecated. Please use `torch.amp.autocast('cuda', args...)` instead.\n",
            "  with amp.autocast(autocast):\n"
          ]
        },
        {
          "output_type": "stream",
          "name": "stdout",
          "text": [
            "Detections for @lobelia4cosmetics_12241.jpg:\n",
            "Empty DataFrame\n",
            "Columns: [name, confidence, xmin, ymin, xmax, ymax]\n",
            "Index: []\n"
          ]
        },
        {
          "output_type": "stream",
          "name": "stderr",
          "text": [
            "/root/.cache/torch/hub/ultralytics_yolov5_master/models/common.py:892: FutureWarning: `torch.cuda.amp.autocast(args...)` is deprecated. Please use `torch.amp.autocast('cuda', args...)` instead.\n",
            "  with amp.autocast(autocast):\n"
          ]
        },
        {
          "output_type": "stream",
          "name": "stdout",
          "text": [
            "Detections for @lobelia4cosmetics_12238.jpg:\n",
            "     name  confidence       xmin        ymin        xmax        ymax\n",
            "0  person    0.526795  71.351341  271.467834  201.004105  451.916229\n",
            "1  person    0.271554  70.582901  270.818848  133.516663  421.879883\n"
          ]
        },
        {
          "output_type": "stream",
          "name": "stderr",
          "text": [
            "/root/.cache/torch/hub/ultralytics_yolov5_master/models/common.py:892: FutureWarning: `torch.cuda.amp.autocast(args...)` is deprecated. Please use `torch.amp.autocast('cuda', args...)` instead.\n",
            "  with amp.autocast(autocast):\n"
          ]
        },
        {
          "output_type": "stream",
          "name": "stdout",
          "text": [
            "Detections for @lobelia4cosmetics_12232.jpg:\n",
            "Empty DataFrame\n",
            "Columns: [name, confidence, xmin, ymin, xmax, ymax]\n",
            "Index: []\n"
          ]
        },
        {
          "output_type": "stream",
          "name": "stderr",
          "text": [
            "/root/.cache/torch/hub/ultralytics_yolov5_master/models/common.py:892: FutureWarning: `torch.cuda.amp.autocast(args...)` is deprecated. Please use `torch.amp.autocast('cuda', args...)` instead.\n",
            "  with amp.autocast(autocast):\n"
          ]
        },
        {
          "output_type": "stream",
          "name": "stdout",
          "text": [
            "Detections for @lobelia4cosmetics_12236.jpg:\n",
            "  name  confidence       xmin        ymin        xmax        ymax\n",
            "0  cup    0.646768  71.777611  245.878174  149.468277  308.447205\n"
          ]
        },
        {
          "output_type": "stream",
          "name": "stderr",
          "text": [
            "/root/.cache/torch/hub/ultralytics_yolov5_master/models/common.py:892: FutureWarning: `torch.cuda.amp.autocast(args...)` is deprecated. Please use `torch.amp.autocast('cuda', args...)` instead.\n",
            "  with amp.autocast(autocast):\n"
          ]
        },
        {
          "output_type": "stream",
          "name": "stdout",
          "text": [
            "Detections for @lobelia4cosmetics_12235.jpg:\n",
            "Empty DataFrame\n",
            "Columns: [name, confidence, xmin, ymin, xmax, ymax]\n",
            "Index: []\n"
          ]
        },
        {
          "output_type": "stream",
          "name": "stderr",
          "text": [
            "/root/.cache/torch/hub/ultralytics_yolov5_master/models/common.py:892: FutureWarning: `torch.cuda.amp.autocast(args...)` is deprecated. Please use `torch.amp.autocast('cuda', args...)` instead.\n",
            "  with amp.autocast(autocast):\n"
          ]
        },
        {
          "output_type": "stream",
          "name": "stdout",
          "text": [
            "Detections for @lobelia4cosmetics_12234.jpg:\n",
            "Empty DataFrame\n",
            "Columns: [name, confidence, xmin, ymin, xmax, ymax]\n",
            "Index: []\n"
          ]
        },
        {
          "output_type": "stream",
          "name": "stderr",
          "text": [
            "/root/.cache/torch/hub/ultralytics_yolov5_master/models/common.py:892: FutureWarning: `torch.cuda.amp.autocast(args...)` is deprecated. Please use `torch.amp.autocast('cuda', args...)` instead.\n",
            "  with amp.autocast(autocast):\n"
          ]
        },
        {
          "output_type": "stream",
          "name": "stdout",
          "text": [
            "Detections for @lobelia4cosmetics_12231.jpg:\n",
            "Empty DataFrame\n",
            "Columns: [name, confidence, xmin, ymin, xmax, ymax]\n",
            "Index: []\n"
          ]
        },
        {
          "output_type": "stream",
          "name": "stderr",
          "text": [
            "/root/.cache/torch/hub/ultralytics_yolov5_master/models/common.py:892: FutureWarning: `torch.cuda.amp.autocast(args...)` is deprecated. Please use `torch.amp.autocast('cuda', args...)` instead.\n",
            "  with amp.autocast(autocast):\n"
          ]
        },
        {
          "output_type": "stream",
          "name": "stdout",
          "text": [
            "Detections for @lobelia4cosmetics_12233.jpg:\n",
            "Empty DataFrame\n",
            "Columns: [name, confidence, xmin, ymin, xmax, ymax]\n",
            "Index: []\n"
          ]
        },
        {
          "output_type": "stream",
          "name": "stderr",
          "text": [
            "/root/.cache/torch/hub/ultralytics_yolov5_master/models/common.py:892: FutureWarning: `torch.cuda.amp.autocast(args...)` is deprecated. Please use `torch.amp.autocast('cuda', args...)` instead.\n",
            "  with amp.autocast(autocast):\n"
          ]
        },
        {
          "output_type": "stream",
          "name": "stdout",
          "text": [
            "Detections for @lobelia4cosmetics_12175.jpg:\n",
            "Empty DataFrame\n",
            "Columns: [name, confidence, xmin, ymin, xmax, ymax]\n",
            "Index: []\n"
          ]
        },
        {
          "output_type": "stream",
          "name": "stderr",
          "text": [
            "/root/.cache/torch/hub/ultralytics_yolov5_master/models/common.py:892: FutureWarning: `torch.cuda.amp.autocast(args...)` is deprecated. Please use `torch.amp.autocast('cuda', args...)` instead.\n",
            "  with amp.autocast(autocast):\n"
          ]
        },
        {
          "output_type": "stream",
          "name": "stdout",
          "text": [
            "Detections for @lobelia4cosmetics_12220.jpg:\n",
            "     name  confidence        xmin      ymin        xmax        ymax\n",
            "0  bottle     0.29258  349.462494  84.01532  677.192017  931.666016\n"
          ]
        },
        {
          "output_type": "stream",
          "name": "stderr",
          "text": [
            "/root/.cache/torch/hub/ultralytics_yolov5_master/models/common.py:892: FutureWarning: `torch.cuda.amp.autocast(args...)` is deprecated. Please use `torch.amp.autocast('cuda', args...)` instead.\n",
            "  with amp.autocast(autocast):\n"
          ]
        },
        {
          "output_type": "stream",
          "name": "stdout",
          "text": [
            "Detections for @lobelia4cosmetics_12206.jpg:\n",
            "Empty DataFrame\n",
            "Columns: [name, confidence, xmin, ymin, xmax, ymax]\n",
            "Index: []\n"
          ]
        },
        {
          "output_type": "stream",
          "name": "stderr",
          "text": [
            "/root/.cache/torch/hub/ultralytics_yolov5_master/models/common.py:892: FutureWarning: `torch.cuda.amp.autocast(args...)` is deprecated. Please use `torch.amp.autocast('cuda', args...)` instead.\n",
            "  with amp.autocast(autocast):\n"
          ]
        },
        {
          "output_type": "stream",
          "name": "stdout",
          "text": [
            "Detections for @lobelia4cosmetics_12229.jpg:\n",
            "Empty DataFrame\n",
            "Columns: [name, confidence, xmin, ymin, xmax, ymax]\n",
            "Index: []\n"
          ]
        },
        {
          "output_type": "stream",
          "name": "stderr",
          "text": [
            "/root/.cache/torch/hub/ultralytics_yolov5_master/models/common.py:892: FutureWarning: `torch.cuda.amp.autocast(args...)` is deprecated. Please use `torch.amp.autocast('cuda', args...)` instead.\n",
            "  with amp.autocast(autocast):\n"
          ]
        },
        {
          "output_type": "stream",
          "name": "stdout",
          "text": [
            "Detections for @lobelia4cosmetics_12230.jpg:\n",
            "   name  confidence        xmin        ymin        xmax       ymax\n",
            "0  bowl    0.674333  143.382202  512.383362  663.486145  971.22052\n"
          ]
        },
        {
          "output_type": "stream",
          "name": "stderr",
          "text": [
            "/root/.cache/torch/hub/ultralytics_yolov5_master/models/common.py:892: FutureWarning: `torch.cuda.amp.autocast(args...)` is deprecated. Please use `torch.amp.autocast('cuda', args...)` instead.\n",
            "  with amp.autocast(autocast):\n"
          ]
        },
        {
          "output_type": "stream",
          "name": "stdout",
          "text": [
            "Detections for @lobelia4cosmetics_12182.jpg:\n",
            "     name  confidence        xmin        ymin        xmax        ymax\n",
            "0  person    0.542076  316.487823  259.227722  515.913269  582.338013\n"
          ]
        },
        {
          "output_type": "stream",
          "name": "stderr",
          "text": [
            "/root/.cache/torch/hub/ultralytics_yolov5_master/models/common.py:892: FutureWarning: `torch.cuda.amp.autocast(args...)` is deprecated. Please use `torch.amp.autocast('cuda', args...)` instead.\n",
            "  with amp.autocast(autocast):\n"
          ]
        },
        {
          "output_type": "stream",
          "name": "stdout",
          "text": [
            "Detections for @lobelia4cosmetics_12228.jpg:\n",
            "Empty DataFrame\n",
            "Columns: [name, confidence, xmin, ymin, xmax, ymax]\n",
            "Index: []\n"
          ]
        },
        {
          "output_type": "stream",
          "name": "stderr",
          "text": [
            "/root/.cache/torch/hub/ultralytics_yolov5_master/models/common.py:892: FutureWarning: `torch.cuda.amp.autocast(args...)` is deprecated. Please use `torch.amp.autocast('cuda', args...)` instead.\n",
            "  with amp.autocast(autocast):\n"
          ]
        },
        {
          "output_type": "stream",
          "name": "stdout",
          "text": [
            "Detections for @lobelia4cosmetics_12227.jpg:\n",
            "Empty DataFrame\n",
            "Columns: [name, confidence, xmin, ymin, xmax, ymax]\n",
            "Index: []\n"
          ]
        },
        {
          "output_type": "stream",
          "name": "stderr",
          "text": [
            "/root/.cache/torch/hub/ultralytics_yolov5_master/models/common.py:892: FutureWarning: `torch.cuda.amp.autocast(args...)` is deprecated. Please use `torch.amp.autocast('cuda', args...)` instead.\n",
            "  with amp.autocast(autocast):\n"
          ]
        },
        {
          "output_type": "stream",
          "name": "stdout",
          "text": [
            "Detections for @lobelia4cosmetics_12226.jpg:\n",
            "Empty DataFrame\n",
            "Columns: [name, confidence, xmin, ymin, xmax, ymax]\n",
            "Index: []\n"
          ]
        },
        {
          "output_type": "stream",
          "name": "stderr",
          "text": [
            "/root/.cache/torch/hub/ultralytics_yolov5_master/models/common.py:892: FutureWarning: `torch.cuda.amp.autocast(args...)` is deprecated. Please use `torch.amp.autocast('cuda', args...)` instead.\n",
            "  with amp.autocast(autocast):\n"
          ]
        },
        {
          "output_type": "stream",
          "name": "stdout",
          "text": [
            "Detections for @lobelia4cosmetics_12225.jpg:\n",
            "   name  confidence        xmin       ymin        xmax       ymax\n",
            "0  vase    0.292412  168.964172  53.658703  333.268677  490.41272\n"
          ]
        },
        {
          "output_type": "stream",
          "name": "stderr",
          "text": [
            "/root/.cache/torch/hub/ultralytics_yolov5_master/models/common.py:892: FutureWarning: `torch.cuda.amp.autocast(args...)` is deprecated. Please use `torch.amp.autocast('cuda', args...)` instead.\n",
            "  with amp.autocast(autocast):\n"
          ]
        },
        {
          "output_type": "stream",
          "name": "stdout",
          "text": [
            "Detections for @lobelia4cosmetics_12223.jpg:\n",
            "     name  confidence        xmin        ymin        xmax        ymax\n",
            "0    bowl    0.402802  253.954697  577.395630  773.615356  992.039612\n",
            "1  banana    0.394988  411.241547  714.862244  610.666504  812.792786\n",
            "2  person    0.347361  299.261932   28.593136  712.929443  520.661438\n",
            "3  banana    0.290594  592.595093  791.921631  635.678162  824.548340\n"
          ]
        },
        {
          "output_type": "stream",
          "name": "stderr",
          "text": [
            "/root/.cache/torch/hub/ultralytics_yolov5_master/models/common.py:892: FutureWarning: `torch.cuda.amp.autocast(args...)` is deprecated. Please use `torch.amp.autocast('cuda', args...)` instead.\n",
            "  with amp.autocast(autocast):\n"
          ]
        },
        {
          "output_type": "stream",
          "name": "stdout",
          "text": [
            "Detections for @lobelia4cosmetics_12222.jpg:\n",
            "Empty DataFrame\n",
            "Columns: [name, confidence, xmin, ymin, xmax, ymax]\n",
            "Index: []\n"
          ]
        },
        {
          "output_type": "stream",
          "name": "stderr",
          "text": [
            "/root/.cache/torch/hub/ultralytics_yolov5_master/models/common.py:892: FutureWarning: `torch.cuda.amp.autocast(args...)` is deprecated. Please use `torch.amp.autocast('cuda', args...)` instead.\n",
            "  with amp.autocast(autocast):\n"
          ]
        },
        {
          "output_type": "stream",
          "name": "stdout",
          "text": [
            "Detections for @lobelia4cosmetics_12221.jpg:\n",
            "Empty DataFrame\n",
            "Columns: [name, confidence, xmin, ymin, xmax, ymax]\n",
            "Index: []\n"
          ]
        },
        {
          "output_type": "stream",
          "name": "stderr",
          "text": [
            "/root/.cache/torch/hub/ultralytics_yolov5_master/models/common.py:892: FutureWarning: `torch.cuda.amp.autocast(args...)` is deprecated. Please use `torch.amp.autocast('cuda', args...)` instead.\n",
            "  with amp.autocast(autocast):\n"
          ]
        },
        {
          "output_type": "stream",
          "name": "stdout",
          "text": [
            "Detections for @lobelia4cosmetics_12219.jpg:\n",
            "Empty DataFrame\n",
            "Columns: [name, confidence, xmin, ymin, xmax, ymax]\n",
            "Index: []\n"
          ]
        },
        {
          "output_type": "stream",
          "name": "stderr",
          "text": [
            "/root/.cache/torch/hub/ultralytics_yolov5_master/models/common.py:892: FutureWarning: `torch.cuda.amp.autocast(args...)` is deprecated. Please use `torch.amp.autocast('cuda', args...)` instead.\n",
            "  with amp.autocast(autocast):\n"
          ]
        },
        {
          "output_type": "stream",
          "name": "stdout",
          "text": [
            "Detections for @lobelia4cosmetics_12191.jpg:\n",
            "Empty DataFrame\n",
            "Columns: [name, confidence, xmin, ymin, xmax, ymax]\n",
            "Index: []\n"
          ]
        },
        {
          "output_type": "stream",
          "name": "stderr",
          "text": [
            "/root/.cache/torch/hub/ultralytics_yolov5_master/models/common.py:892: FutureWarning: `torch.cuda.amp.autocast(args...)` is deprecated. Please use `torch.amp.autocast('cuda', args...)` instead.\n",
            "  with amp.autocast(autocast):\n"
          ]
        },
        {
          "output_type": "stream",
          "name": "stdout",
          "text": [
            "Detections for @lobelia4cosmetics_12218.jpg:\n",
            "  name  confidence       xmin        ymin        xmax        ymax\n",
            "0  cup    0.646768  71.777611  245.878174  149.468277  308.447205\n"
          ]
        },
        {
          "output_type": "stream",
          "name": "stderr",
          "text": [
            "/root/.cache/torch/hub/ultralytics_yolov5_master/models/common.py:892: FutureWarning: `torch.cuda.amp.autocast(args...)` is deprecated. Please use `torch.amp.autocast('cuda', args...)` instead.\n",
            "  with amp.autocast(autocast):\n"
          ]
        },
        {
          "output_type": "stream",
          "name": "stdout",
          "text": [
            "Detections for @lobelia4cosmetics_12195.jpg:\n",
            "     name  confidence        xmin        ymin        xmax         ymax\n",
            "0  person    0.854438  386.629089  569.150818  798.967346  1072.493408\n"
          ]
        },
        {
          "output_type": "stream",
          "name": "stderr",
          "text": [
            "/root/.cache/torch/hub/ultralytics_yolov5_master/models/common.py:892: FutureWarning: `torch.cuda.amp.autocast(args...)` is deprecated. Please use `torch.amp.autocast('cuda', args...)` instead.\n",
            "  with amp.autocast(autocast):\n"
          ]
        },
        {
          "output_type": "stream",
          "name": "stdout",
          "text": [
            "Detections for @lobelia4cosmetics_12217.jpg:\n",
            "Empty DataFrame\n",
            "Columns: [name, confidence, xmin, ymin, xmax, ymax]\n",
            "Index: []\n"
          ]
        },
        {
          "output_type": "stream",
          "name": "stderr",
          "text": [
            "/root/.cache/torch/hub/ultralytics_yolov5_master/models/common.py:892: FutureWarning: `torch.cuda.amp.autocast(args...)` is deprecated. Please use `torch.amp.autocast('cuda', args...)` instead.\n",
            "  with amp.autocast(autocast):\n"
          ]
        },
        {
          "output_type": "stream",
          "name": "stdout",
          "text": [
            "Detections for @lobelia4cosmetics_12196.jpg:\n",
            "Empty DataFrame\n",
            "Columns: [name, confidence, xmin, ymin, xmax, ymax]\n",
            "Index: []\n"
          ]
        },
        {
          "output_type": "stream",
          "name": "stderr",
          "text": [
            "/root/.cache/torch/hub/ultralytics_yolov5_master/models/common.py:892: FutureWarning: `torch.cuda.amp.autocast(args...)` is deprecated. Please use `torch.amp.autocast('cuda', args...)` instead.\n",
            "  with amp.autocast(autocast):\n"
          ]
        },
        {
          "output_type": "stream",
          "name": "stdout",
          "text": [
            "Detections for @lobelia4cosmetics_12214.jpg:\n",
            "Empty DataFrame\n",
            "Columns: [name, confidence, xmin, ymin, xmax, ymax]\n",
            "Index: []\n"
          ]
        },
        {
          "output_type": "stream",
          "name": "stderr",
          "text": [
            "/root/.cache/torch/hub/ultralytics_yolov5_master/models/common.py:892: FutureWarning: `torch.cuda.amp.autocast(args...)` is deprecated. Please use `torch.amp.autocast('cuda', args...)` instead.\n",
            "  with amp.autocast(autocast):\n"
          ]
        },
        {
          "output_type": "stream",
          "name": "stdout",
          "text": [
            "Detections for @lobelia4cosmetics_12197.jpg:\n",
            "Empty DataFrame\n",
            "Columns: [name, confidence, xmin, ymin, xmax, ymax]\n",
            "Index: []\n"
          ]
        },
        {
          "output_type": "stream",
          "name": "stderr",
          "text": [
            "/root/.cache/torch/hub/ultralytics_yolov5_master/models/common.py:892: FutureWarning: `torch.cuda.amp.autocast(args...)` is deprecated. Please use `torch.amp.autocast('cuda', args...)` instead.\n",
            "  with amp.autocast(autocast):\n"
          ]
        },
        {
          "output_type": "stream",
          "name": "stdout",
          "text": [
            "Detections for @lobelia4cosmetics_12215.jpg:\n",
            "Empty DataFrame\n",
            "Columns: [name, confidence, xmin, ymin, xmax, ymax]\n",
            "Index: []\n"
          ]
        },
        {
          "output_type": "stream",
          "name": "stderr",
          "text": [
            "/root/.cache/torch/hub/ultralytics_yolov5_master/models/common.py:892: FutureWarning: `torch.cuda.amp.autocast(args...)` is deprecated. Please use `torch.amp.autocast('cuda', args...)` instead.\n",
            "  with amp.autocast(autocast):\n"
          ]
        },
        {
          "output_type": "stream",
          "name": "stdout",
          "text": [
            "Detections for @lobelia4cosmetics_12216.jpg:\n",
            "Empty DataFrame\n",
            "Columns: [name, confidence, xmin, ymin, xmax, ymax]\n",
            "Index: []\n"
          ]
        },
        {
          "output_type": "stream",
          "name": "stderr",
          "text": [
            "/root/.cache/torch/hub/ultralytics_yolov5_master/models/common.py:892: FutureWarning: `torch.cuda.amp.autocast(args...)` is deprecated. Please use `torch.amp.autocast('cuda', args...)` instead.\n",
            "  with amp.autocast(autocast):\n"
          ]
        },
        {
          "output_type": "stream",
          "name": "stdout",
          "text": [
            "Detections for @lobelia4cosmetics_12199.jpg:\n",
            "     name  confidence        xmin        ymin        xmax        ymax\n",
            "0   apple    0.740422  164.373459  222.582733  217.831314  268.771423\n",
            "1  orange    0.679597   31.733824  222.962326   72.019745  262.075500\n",
            "2  orange    0.580406   68.954041  226.413055  118.610298  275.608551\n"
          ]
        },
        {
          "output_type": "stream",
          "name": "stderr",
          "text": [
            "/root/.cache/torch/hub/ultralytics_yolov5_master/models/common.py:892: FutureWarning: `torch.cuda.amp.autocast(args...)` is deprecated. Please use `torch.amp.autocast('cuda', args...)` instead.\n",
            "  with amp.autocast(autocast):\n"
          ]
        },
        {
          "output_type": "stream",
          "name": "stdout",
          "text": [
            "Detections for @lobelia4cosmetics_12194.jpg:\n",
            "     name  confidence       xmin        ymin        xmax        ymax\n",
            "0  person    0.526795  71.351341  271.467834  201.004105  451.916229\n",
            "1  person    0.271554  70.582901  270.818848  133.516663  421.879883\n"
          ]
        },
        {
          "output_type": "stream",
          "name": "stderr",
          "text": [
            "/root/.cache/torch/hub/ultralytics_yolov5_master/models/common.py:892: FutureWarning: `torch.cuda.amp.autocast(args...)` is deprecated. Please use `torch.amp.autocast('cuda', args...)` instead.\n",
            "  with amp.autocast(autocast):\n"
          ]
        },
        {
          "output_type": "stream",
          "name": "stdout",
          "text": [
            "Detections for @lobelia4cosmetics_12213.jpg:\n",
            "     name  confidence        xmin        ymin        xmax        ymax\n",
            "0  banana    0.321508  833.838074  428.316528  923.337952  526.941895\n",
            "1   donut    0.268656  504.534119  675.769714  586.381958  745.471985\n"
          ]
        },
        {
          "output_type": "stream",
          "name": "stderr",
          "text": [
            "/root/.cache/torch/hub/ultralytics_yolov5_master/models/common.py:892: FutureWarning: `torch.cuda.amp.autocast(args...)` is deprecated. Please use `torch.amp.autocast('cuda', args...)` instead.\n",
            "  with amp.autocast(autocast):\n"
          ]
        },
        {
          "output_type": "stream",
          "name": "stdout",
          "text": [
            "Detections for @lobelia4cosmetics_12208.jpg:\n",
            "Empty DataFrame\n",
            "Columns: [name, confidence, xmin, ymin, xmax, ymax]\n",
            "Index: []\n"
          ]
        },
        {
          "output_type": "stream",
          "name": "stderr",
          "text": [
            "/root/.cache/torch/hub/ultralytics_yolov5_master/models/common.py:892: FutureWarning: `torch.cuda.amp.autocast(args...)` is deprecated. Please use `torch.amp.autocast('cuda', args...)` instead.\n",
            "  with amp.autocast(autocast):\n"
          ]
        },
        {
          "output_type": "stream",
          "name": "stdout",
          "text": [
            "Detections for @lobelia4cosmetics_12209.jpg:\n",
            "Empty DataFrame\n",
            "Columns: [name, confidence, xmin, ymin, xmax, ymax]\n",
            "Index: []\n"
          ]
        },
        {
          "output_type": "stream",
          "name": "stderr",
          "text": [
            "/root/.cache/torch/hub/ultralytics_yolov5_master/models/common.py:892: FutureWarning: `torch.cuda.amp.autocast(args...)` is deprecated. Please use `torch.amp.autocast('cuda', args...)` instead.\n",
            "  with amp.autocast(autocast):\n"
          ]
        },
        {
          "output_type": "stream",
          "name": "stdout",
          "text": [
            "Detections for @lobelia4cosmetics_12198.jpg:\n",
            "Empty DataFrame\n",
            "Columns: [name, confidence, xmin, ymin, xmax, ymax]\n",
            "Index: []\n"
          ]
        },
        {
          "output_type": "stream",
          "name": "stderr",
          "text": [
            "/root/.cache/torch/hub/ultralytics_yolov5_master/models/common.py:892: FutureWarning: `torch.cuda.amp.autocast(args...)` is deprecated. Please use `torch.amp.autocast('cuda', args...)` instead.\n",
            "  with amp.autocast(autocast):\n"
          ]
        },
        {
          "output_type": "stream",
          "name": "stdout",
          "text": [
            "Detections for @lobelia4cosmetics_12210.jpg:\n",
            "     name  confidence        xmin        ymin        xmax        ymax\n",
            "0  orange    0.377693  708.816406  438.498993  836.305786  518.246704\n",
            "1  orange    0.377175  288.880432  315.707275  462.019684  399.253693\n",
            "2  orange    0.338240  163.517136  337.105133  335.829010  406.659210\n",
            "3  orange    0.255887  806.214600  404.197449  983.961060  505.069977\n"
          ]
        },
        {
          "output_type": "stream",
          "name": "stderr",
          "text": [
            "/root/.cache/torch/hub/ultralytics_yolov5_master/models/common.py:892: FutureWarning: `torch.cuda.amp.autocast(args...)` is deprecated. Please use `torch.amp.autocast('cuda', args...)` instead.\n",
            "  with amp.autocast(autocast):\n"
          ]
        },
        {
          "output_type": "stream",
          "name": "stdout",
          "text": [
            "Detections for @lobelia4cosmetics_12192.jpg:\n",
            "  name  confidence       xmin        ymin        xmax        ymax\n",
            "0  cup    0.646768  71.777611  245.878174  149.468277  308.447205\n"
          ]
        },
        {
          "output_type": "stream",
          "name": "stderr",
          "text": [
            "/root/.cache/torch/hub/ultralytics_yolov5_master/models/common.py:892: FutureWarning: `torch.cuda.amp.autocast(args...)` is deprecated. Please use `torch.amp.autocast('cuda', args...)` instead.\n",
            "  with amp.autocast(autocast):\n"
          ]
        },
        {
          "output_type": "stream",
          "name": "stdout",
          "text": [
            "Detections for @lobelia4cosmetics_12212.jpg:\n",
            "    name  confidence        xmin        ymin        xmax         ymax\n",
            "0  clock    0.653354  297.035736  174.852615  875.716736   759.952576\n",
            "1  donut    0.390350  404.631073  923.974426  492.100800  1016.315857\n",
            "2  donut    0.312811  616.030823  964.383850  712.616760  1078.172852\n",
            "3   fork    0.258616  755.290771  796.080139  999.244934  1011.520569\n"
          ]
        },
        {
          "output_type": "stream",
          "name": "stderr",
          "text": [
            "/root/.cache/torch/hub/ultralytics_yolov5_master/models/common.py:892: FutureWarning: `torch.cuda.amp.autocast(args...)` is deprecated. Please use `torch.amp.autocast('cuda', args...)` instead.\n",
            "  with amp.autocast(autocast):\n"
          ]
        },
        {
          "output_type": "stream",
          "name": "stdout",
          "text": [
            "Detections for @lobelia4cosmetics_12211.jpg:\n",
            "     name  confidence       xmin  ymin        xmax        ymax\n",
            "0  bottle    0.434455  160.30101   0.0  351.007507  496.128174\n"
          ]
        },
        {
          "output_type": "stream",
          "name": "stderr",
          "text": [
            "/root/.cache/torch/hub/ultralytics_yolov5_master/models/common.py:892: FutureWarning: `torch.cuda.amp.autocast(args...)` is deprecated. Please use `torch.amp.autocast('cuda', args...)` instead.\n",
            "  with amp.autocast(autocast):\n"
          ]
        },
        {
          "output_type": "stream",
          "name": "stdout",
          "text": [
            "Detections for @lobelia4cosmetics_12207.jpg:\n",
            "Empty DataFrame\n",
            "Columns: [name, confidence, xmin, ymin, xmax, ymax]\n",
            "Index: []\n"
          ]
        },
        {
          "output_type": "stream",
          "name": "stderr",
          "text": [
            "/root/.cache/torch/hub/ultralytics_yolov5_master/models/common.py:892: FutureWarning: `torch.cuda.amp.autocast(args...)` is deprecated. Please use `torch.amp.autocast('cuda', args...)` instead.\n",
            "  with amp.autocast(autocast):\n"
          ]
        },
        {
          "output_type": "stream",
          "name": "stdout",
          "text": [
            "Detections for @lobelia4cosmetics_12205.jpg:\n",
            "      name  confidence        xmin        ymin         xmax        ymax\n",
            "0   orange    0.651067  139.897293  684.383362   274.718567  804.117371\n",
            "1    apple    0.593479  655.135925  846.802246   794.083069  986.809326\n",
            "2   orange    0.545961  462.394470  858.953247   607.903625  987.843994\n",
            "3   orange    0.508990  862.904846  685.561829   956.835754  800.884216\n",
            "4    apple    0.448015  323.679260  675.132507   388.085510  795.548767\n",
            "5    apple    0.401160  274.801392  636.340576   382.211548  774.034546\n",
            "6   orange    0.388854  386.991943  777.662292   456.453735  931.241028\n",
            "7    apple    0.360422  994.938843  666.499146  1142.079956  800.434448\n",
            "8   orange    0.352959  322.453949  679.394897   387.999481  797.897217\n",
            "9    apple    0.317702  385.638336  756.306580   458.495087  928.018860\n",
            "10  orange    0.296467   68.922997  595.958496   132.852188  758.495361\n"
          ]
        },
        {
          "output_type": "stream",
          "name": "stderr",
          "text": [
            "/root/.cache/torch/hub/ultralytics_yolov5_master/models/common.py:892: FutureWarning: `torch.cuda.amp.autocast(args...)` is deprecated. Please use `torch.amp.autocast('cuda', args...)` instead.\n",
            "  with amp.autocast(autocast):\n"
          ]
        },
        {
          "output_type": "stream",
          "name": "stdout",
          "text": [
            "Detections for @lobelia4cosmetics_12203.jpg:\n",
            "       name  confidence        xmin        ymin        xmax        ymax\n",
            "0    bottle    0.703980  103.481583   86.276588  219.125595  282.193298\n",
            "1    bottle    0.642987  236.607651  132.268799  274.609070  263.386505\n",
            "2    bottle    0.582703  208.692337  117.738754  249.569199  273.389404\n",
            "3    bottle    0.520170  262.937042  143.529648  302.185272  257.115112\n",
            "4    toilet    0.473945   22.772903  149.851379   57.972977  257.208496\n",
            "5    toilet    0.350603   35.411686  143.183853   80.003510  262.056885\n",
            "6  suitcase    0.274276   73.666656  110.276161  107.559769  268.121399\n"
          ]
        },
        {
          "output_type": "stream",
          "name": "stderr",
          "text": [
            "/root/.cache/torch/hub/ultralytics_yolov5_master/models/common.py:892: FutureWarning: `torch.cuda.amp.autocast(args...)` is deprecated. Please use `torch.amp.autocast('cuda', args...)` instead.\n",
            "  with amp.autocast(autocast):\n"
          ]
        },
        {
          "output_type": "stream",
          "name": "stdout",
          "text": [
            "Detections for @lobelia4cosmetics_12201.jpg:\n",
            "Empty DataFrame\n",
            "Columns: [name, confidence, xmin, ymin, xmax, ymax]\n",
            "Index: []\n"
          ]
        },
        {
          "output_type": "stream",
          "name": "stderr",
          "text": [
            "/root/.cache/torch/hub/ultralytics_yolov5_master/models/common.py:892: FutureWarning: `torch.cuda.amp.autocast(args...)` is deprecated. Please use `torch.amp.autocast('cuda', args...)` instead.\n",
            "  with amp.autocast(autocast):\n"
          ]
        },
        {
          "output_type": "stream",
          "name": "stdout",
          "text": [
            "Detections for @lobelia4cosmetics_12202.jpg:\n",
            "Empty DataFrame\n",
            "Columns: [name, confidence, xmin, ymin, xmax, ymax]\n",
            "Index: []\n"
          ]
        },
        {
          "output_type": "stream",
          "name": "stderr",
          "text": [
            "/root/.cache/torch/hub/ultralytics_yolov5_master/models/common.py:892: FutureWarning: `torch.cuda.amp.autocast(args...)` is deprecated. Please use `torch.amp.autocast('cuda', args...)` instead.\n",
            "  with amp.autocast(autocast):\n"
          ]
        },
        {
          "output_type": "stream",
          "name": "stdout",
          "text": [
            "Detections for @lobelia4cosmetics_12204.jpg:\n",
            "Empty DataFrame\n",
            "Columns: [name, confidence, xmin, ymin, xmax, ymax]\n",
            "Index: []\n"
          ]
        },
        {
          "output_type": "stream",
          "name": "stderr",
          "text": [
            "/root/.cache/torch/hub/ultralytics_yolov5_master/models/common.py:892: FutureWarning: `torch.cuda.amp.autocast(args...)` is deprecated. Please use `torch.amp.autocast('cuda', args...)` instead.\n",
            "  with amp.autocast(autocast):\n"
          ]
        },
        {
          "output_type": "stream",
          "name": "stdout",
          "text": [
            "Detections for @lobelia4cosmetics_12200.jpg:\n",
            "Empty DataFrame\n",
            "Columns: [name, confidence, xmin, ymin, xmax, ymax]\n",
            "Index: []\n"
          ]
        },
        {
          "output_type": "stream",
          "name": "stderr",
          "text": [
            "/root/.cache/torch/hub/ultralytics_yolov5_master/models/common.py:892: FutureWarning: `torch.cuda.amp.autocast(args...)` is deprecated. Please use `torch.amp.autocast('cuda', args...)` instead.\n",
            "  with amp.autocast(autocast):\n"
          ]
        },
        {
          "output_type": "stream",
          "name": "stdout",
          "text": [
            "Detections for @lobelia4cosmetics_12313.jpg:\n",
            "   name  confidence        xmin        ymin        xmax         ymax\n",
            "0  book    0.482332  365.499969  378.548462  844.715637  1174.012207\n"
          ]
        },
        {
          "output_type": "stream",
          "name": "stderr",
          "text": [
            "/root/.cache/torch/hub/ultralytics_yolov5_master/models/common.py:892: FutureWarning: `torch.cuda.amp.autocast(args...)` is deprecated. Please use `torch.amp.autocast('cuda', args...)` instead.\n",
            "  with amp.autocast(autocast):\n"
          ]
        },
        {
          "output_type": "stream",
          "name": "stdout",
          "text": [
            "Detections for @lobelia4cosmetics_12315.jpg:\n",
            "  name  confidence        xmin       ymin        xmax         ymax\n",
            "0  cup    0.336665  454.390381  753.37915  727.698547  1064.120239\n"
          ]
        },
        {
          "output_type": "stream",
          "name": "stderr",
          "text": [
            "/root/.cache/torch/hub/ultralytics_yolov5_master/models/common.py:892: FutureWarning: `torch.cuda.amp.autocast(args...)` is deprecated. Please use `torch.amp.autocast('cuda', args...)` instead.\n",
            "  with amp.autocast(autocast):\n"
          ]
        },
        {
          "output_type": "stream",
          "name": "stdout",
          "text": [
            "Detections for @lobelia4cosmetics_12316.jpg:\n",
            "Empty DataFrame\n",
            "Columns: [name, confidence, xmin, ymin, xmax, ymax]\n",
            "Index: []\n"
          ]
        },
        {
          "output_type": "stream",
          "name": "stderr",
          "text": [
            "/root/.cache/torch/hub/ultralytics_yolov5_master/models/common.py:892: FutureWarning: `torch.cuda.amp.autocast(args...)` is deprecated. Please use `torch.amp.autocast('cuda', args...)` instead.\n",
            "  with amp.autocast(autocast):\n"
          ]
        },
        {
          "output_type": "stream",
          "name": "stdout",
          "text": [
            "Detections for @lobelia4cosmetics_12312.jpg:\n",
            "     name  confidence        xmin        ymin        xmax        ymax\n",
            "0  person    0.861932  649.881348  564.329102  956.756958  946.794189\n"
          ]
        },
        {
          "output_type": "stream",
          "name": "stderr",
          "text": [
            "/root/.cache/torch/hub/ultralytics_yolov5_master/models/common.py:892: FutureWarning: `torch.cuda.amp.autocast(args...)` is deprecated. Please use `torch.amp.autocast('cuda', args...)` instead.\n",
            "  with amp.autocast(autocast):\n"
          ]
        },
        {
          "output_type": "stream",
          "name": "stdout",
          "text": [
            "Detections for @lobelia4cosmetics_12311.jpg:\n",
            "Empty DataFrame\n",
            "Columns: [name, confidence, xmin, ymin, xmax, ymax]\n",
            "Index: []\n"
          ]
        },
        {
          "output_type": "stream",
          "name": "stderr",
          "text": [
            "/root/.cache/torch/hub/ultralytics_yolov5_master/models/common.py:892: FutureWarning: `torch.cuda.amp.autocast(args...)` is deprecated. Please use `torch.amp.autocast('cuda', args...)` instead.\n",
            "  with amp.autocast(autocast):\n"
          ]
        },
        {
          "output_type": "stream",
          "name": "stdout",
          "text": [
            "Detections for @lobelia4cosmetics_12314.jpg:\n",
            "           name  confidence        xmin        ymin        xmax        ymax\n",
            "0        bottle    0.428630  456.905365  198.558517  682.092651  743.703552\n",
            "1        bottle    0.335330  178.539627  239.647293  373.393646  718.351379\n",
            "2  refrigerator    0.328699   31.581835   45.389477  380.216492  733.392578\n"
          ]
        },
        {
          "output_type": "stream",
          "name": "stderr",
          "text": [
            "/root/.cache/torch/hub/ultralytics_yolov5_master/models/common.py:892: FutureWarning: `torch.cuda.amp.autocast(args...)` is deprecated. Please use `torch.amp.autocast('cuda', args...)` instead.\n",
            "  with amp.autocast(autocast):\n"
          ]
        },
        {
          "output_type": "stream",
          "name": "stdout",
          "text": [
            "Detections for @lobelia4cosmetics_12307.jpg:\n",
            "Empty DataFrame\n",
            "Columns: [name, confidence, xmin, ymin, xmax, ymax]\n",
            "Index: []\n"
          ]
        },
        {
          "output_type": "stream",
          "name": "stderr",
          "text": [
            "/root/.cache/torch/hub/ultralytics_yolov5_master/models/common.py:892: FutureWarning: `torch.cuda.amp.autocast(args...)` is deprecated. Please use `torch.amp.autocast('cuda', args...)` instead.\n",
            "  with amp.autocast(autocast):\n"
          ]
        },
        {
          "output_type": "stream",
          "name": "stdout",
          "text": [
            "Detections for @lobelia4cosmetics_12310.jpg:\n",
            "Empty DataFrame\n",
            "Columns: [name, confidence, xmin, ymin, xmax, ymax]\n",
            "Index: []\n"
          ]
        },
        {
          "output_type": "stream",
          "name": "stderr",
          "text": [
            "/root/.cache/torch/hub/ultralytics_yolov5_master/models/common.py:892: FutureWarning: `torch.cuda.amp.autocast(args...)` is deprecated. Please use `torch.amp.autocast('cuda', args...)` instead.\n",
            "  with amp.autocast(autocast):\n"
          ]
        },
        {
          "output_type": "stream",
          "name": "stdout",
          "text": [
            "Detections for @lobelia4cosmetics_12308.jpg:\n",
            "Empty DataFrame\n",
            "Columns: [name, confidence, xmin, ymin, xmax, ymax]\n",
            "Index: []\n"
          ]
        },
        {
          "output_type": "stream",
          "name": "stderr",
          "text": [
            "/root/.cache/torch/hub/ultralytics_yolov5_master/models/common.py:892: FutureWarning: `torch.cuda.amp.autocast(args...)` is deprecated. Please use `torch.amp.autocast('cuda', args...)` instead.\n",
            "  with amp.autocast(autocast):\n"
          ]
        },
        {
          "output_type": "stream",
          "name": "stdout",
          "text": [
            "Detections for @lobelia4cosmetics_12306.jpg:\n",
            "Empty DataFrame\n",
            "Columns: [name, confidence, xmin, ymin, xmax, ymax]\n",
            "Index: []\n"
          ]
        },
        {
          "output_type": "stream",
          "name": "stderr",
          "text": [
            "/root/.cache/torch/hub/ultralytics_yolov5_master/models/common.py:892: FutureWarning: `torch.cuda.amp.autocast(args...)` is deprecated. Please use `torch.amp.autocast('cuda', args...)` instead.\n",
            "  with amp.autocast(autocast):\n"
          ]
        },
        {
          "output_type": "stream",
          "name": "stdout",
          "text": [
            "Detections for @lobelia4cosmetics_12309.jpg:\n",
            "Empty DataFrame\n",
            "Columns: [name, confidence, xmin, ymin, xmax, ymax]\n",
            "Index: []\n"
          ]
        },
        {
          "output_type": "stream",
          "name": "stderr",
          "text": [
            "/root/.cache/torch/hub/ultralytics_yolov5_master/models/common.py:892: FutureWarning: `torch.cuda.amp.autocast(args...)` is deprecated. Please use `torch.amp.autocast('cuda', args...)` instead.\n",
            "  with amp.autocast(autocast):\n"
          ]
        },
        {
          "output_type": "stream",
          "name": "stdout",
          "text": [
            "Detections for @lobelia4cosmetics_12303.jpg:\n",
            "Empty DataFrame\n",
            "Columns: [name, confidence, xmin, ymin, xmax, ymax]\n",
            "Index: []\n"
          ]
        },
        {
          "output_type": "stream",
          "name": "stderr",
          "text": [
            "/root/.cache/torch/hub/ultralytics_yolov5_master/models/common.py:892: FutureWarning: `torch.cuda.amp.autocast(args...)` is deprecated. Please use `torch.amp.autocast('cuda', args...)` instead.\n",
            "  with amp.autocast(autocast):\n"
          ]
        },
        {
          "output_type": "stream",
          "name": "stdout",
          "text": [
            "Detections for @lobelia4cosmetics_12305.jpg:\n",
            "Empty DataFrame\n",
            "Columns: [name, confidence, xmin, ymin, xmax, ymax]\n",
            "Index: []\n"
          ]
        },
        {
          "output_type": "stream",
          "name": "stderr",
          "text": [
            "/root/.cache/torch/hub/ultralytics_yolov5_master/models/common.py:892: FutureWarning: `torch.cuda.amp.autocast(args...)` is deprecated. Please use `torch.amp.autocast('cuda', args...)` instead.\n",
            "  with amp.autocast(autocast):\n"
          ]
        },
        {
          "output_type": "stream",
          "name": "stdout",
          "text": [
            "Detections for @lobelia4cosmetics_12302.jpg:\n",
            "Empty DataFrame\n",
            "Columns: [name, confidence, xmin, ymin, xmax, ymax]\n",
            "Index: []\n"
          ]
        },
        {
          "output_type": "stream",
          "name": "stderr",
          "text": [
            "/root/.cache/torch/hub/ultralytics_yolov5_master/models/common.py:892: FutureWarning: `torch.cuda.amp.autocast(args...)` is deprecated. Please use `torch.amp.autocast('cuda', args...)` instead.\n",
            "  with amp.autocast(autocast):\n"
          ]
        },
        {
          "output_type": "stream",
          "name": "stdout",
          "text": [
            "Detections for @lobelia4cosmetics_12304.jpg:\n",
            "Empty DataFrame\n",
            "Columns: [name, confidence, xmin, ymin, xmax, ymax]\n",
            "Index: []\n"
          ]
        },
        {
          "output_type": "stream",
          "name": "stderr",
          "text": [
            "/root/.cache/torch/hub/ultralytics_yolov5_master/models/common.py:892: FutureWarning: `torch.cuda.amp.autocast(args...)` is deprecated. Please use `torch.amp.autocast('cuda', args...)` instead.\n",
            "  with amp.autocast(autocast):\n"
          ]
        },
        {
          "output_type": "stream",
          "name": "stdout",
          "text": [
            "Detections for @lobelia4cosmetics_12299.jpg:\n",
            "Empty DataFrame\n",
            "Columns: [name, confidence, xmin, ymin, xmax, ymax]\n",
            "Index: []\n"
          ]
        },
        {
          "output_type": "stream",
          "name": "stderr",
          "text": [
            "/root/.cache/torch/hub/ultralytics_yolov5_master/models/common.py:892: FutureWarning: `torch.cuda.amp.autocast(args...)` is deprecated. Please use `torch.amp.autocast('cuda', args...)` instead.\n",
            "  with amp.autocast(autocast):\n"
          ]
        },
        {
          "output_type": "stream",
          "name": "stdout",
          "text": [
            "Detections for @lobelia4cosmetics_12298.jpg:\n",
            "Empty DataFrame\n",
            "Columns: [name, confidence, xmin, ymin, xmax, ymax]\n",
            "Index: []\n"
          ]
        },
        {
          "output_type": "stream",
          "name": "stderr",
          "text": [
            "/root/.cache/torch/hub/ultralytics_yolov5_master/models/common.py:892: FutureWarning: `torch.cuda.amp.autocast(args...)` is deprecated. Please use `torch.amp.autocast('cuda', args...)` instead.\n",
            "  with amp.autocast(autocast):\n"
          ]
        },
        {
          "output_type": "stream",
          "name": "stdout",
          "text": [
            "Detections for @lobelia4cosmetics_12301.jpg:\n",
            "Empty DataFrame\n",
            "Columns: [name, confidence, xmin, ymin, xmax, ymax]\n",
            "Index: []\n"
          ]
        },
        {
          "output_type": "stream",
          "name": "stderr",
          "text": [
            "/root/.cache/torch/hub/ultralytics_yolov5_master/models/common.py:892: FutureWarning: `torch.cuda.amp.autocast(args...)` is deprecated. Please use `torch.amp.autocast('cuda', args...)` instead.\n",
            "  with amp.autocast(autocast):\n"
          ]
        },
        {
          "output_type": "stream",
          "name": "stdout",
          "text": [
            "Detections for @lobelia4cosmetics_12300.jpg:\n",
            "Empty DataFrame\n",
            "Columns: [name, confidence, xmin, ymin, xmax, ymax]\n",
            "Index: []\n"
          ]
        },
        {
          "output_type": "stream",
          "name": "stderr",
          "text": [
            "/root/.cache/torch/hub/ultralytics_yolov5_master/models/common.py:892: FutureWarning: `torch.cuda.amp.autocast(args...)` is deprecated. Please use `torch.amp.autocast('cuda', args...)` instead.\n",
            "  with amp.autocast(autocast):\n"
          ]
        },
        {
          "output_type": "stream",
          "name": "stdout",
          "text": [
            "Detections for @lobelia4cosmetics_12296.jpg:\n",
            "   name  confidence        xmin        ymin        xmax       ymax\n",
            "0  bowl    0.674333  143.382202  512.383362  663.486145  971.22052\n"
          ]
        },
        {
          "output_type": "stream",
          "name": "stderr",
          "text": [
            "/root/.cache/torch/hub/ultralytics_yolov5_master/models/common.py:892: FutureWarning: `torch.cuda.amp.autocast(args...)` is deprecated. Please use `torch.amp.autocast('cuda', args...)` instead.\n",
            "  with amp.autocast(autocast):\n"
          ]
        },
        {
          "output_type": "stream",
          "name": "stdout",
          "text": [
            "Detections for @lobelia4cosmetics_12297.jpg:\n",
            "Empty DataFrame\n",
            "Columns: [name, confidence, xmin, ymin, xmax, ymax]\n",
            "Index: []\n"
          ]
        },
        {
          "output_type": "stream",
          "name": "stderr",
          "text": [
            "/root/.cache/torch/hub/ultralytics_yolov5_master/models/common.py:892: FutureWarning: `torch.cuda.amp.autocast(args...)` is deprecated. Please use `torch.amp.autocast('cuda', args...)` instead.\n",
            "  with amp.autocast(autocast):\n"
          ]
        },
        {
          "output_type": "stream",
          "name": "stdout",
          "text": [
            "Detections for @lobelia4cosmetics_12267.jpg:\n",
            "     name  confidence        xmin        ymin        xmax        ymax\n",
            "0  orange    0.377693  708.816406  438.498993  836.305786  518.246704\n",
            "1  orange    0.377175  288.880432  315.707275  462.019684  399.253693\n",
            "2  orange    0.338240  163.517136  337.105133  335.829010  406.659210\n",
            "3  orange    0.255887  806.214600  404.197449  983.961060  505.069977\n"
          ]
        },
        {
          "output_type": "stream",
          "name": "stderr",
          "text": [
            "/root/.cache/torch/hub/ultralytics_yolov5_master/models/common.py:892: FutureWarning: `torch.cuda.amp.autocast(args...)` is deprecated. Please use `torch.amp.autocast('cuda', args...)` instead.\n",
            "  with amp.autocast(autocast):\n"
          ]
        },
        {
          "output_type": "stream",
          "name": "stdout",
          "text": [
            "Detections for @lobelia4cosmetics_12293.jpg:\n",
            "Empty DataFrame\n",
            "Columns: [name, confidence, xmin, ymin, xmax, ymax]\n",
            "Index: []\n"
          ]
        },
        {
          "output_type": "stream",
          "name": "stderr",
          "text": [
            "/root/.cache/torch/hub/ultralytics_yolov5_master/models/common.py:892: FutureWarning: `torch.cuda.amp.autocast(args...)` is deprecated. Please use `torch.amp.autocast('cuda', args...)` instead.\n",
            "  with amp.autocast(autocast):\n"
          ]
        },
        {
          "output_type": "stream",
          "name": "stdout",
          "text": [
            "Detections for @lobelia4cosmetics_12295.jpg:\n",
            "Empty DataFrame\n",
            "Columns: [name, confidence, xmin, ymin, xmax, ymax]\n",
            "Index: []\n"
          ]
        },
        {
          "output_type": "stream",
          "name": "stderr",
          "text": [
            "/root/.cache/torch/hub/ultralytics_yolov5_master/models/common.py:892: FutureWarning: `torch.cuda.amp.autocast(args...)` is deprecated. Please use `torch.amp.autocast('cuda', args...)` instead.\n",
            "  with amp.autocast(autocast):\n"
          ]
        },
        {
          "output_type": "stream",
          "name": "stdout",
          "text": [
            "Detections for @lobelia4cosmetics_12289.jpg:\n",
            "Empty DataFrame\n",
            "Columns: [name, confidence, xmin, ymin, xmax, ymax]\n",
            "Index: []\n"
          ]
        },
        {
          "output_type": "stream",
          "name": "stderr",
          "text": [
            "/root/.cache/torch/hub/ultralytics_yolov5_master/models/common.py:892: FutureWarning: `torch.cuda.amp.autocast(args...)` is deprecated. Please use `torch.amp.autocast('cuda', args...)` instead.\n",
            "  with amp.autocast(autocast):\n"
          ]
        },
        {
          "output_type": "stream",
          "name": "stdout",
          "text": [
            "Detections for @lobelia4cosmetics_12294.jpg:\n",
            "  name  confidence       xmin        ymin        xmax        ymax\n",
            "0  cup    0.646768  71.777611  245.878174  149.468277  308.447205\n"
          ]
        },
        {
          "output_type": "stream",
          "name": "stderr",
          "text": [
            "/root/.cache/torch/hub/ultralytics_yolov5_master/models/common.py:892: FutureWarning: `torch.cuda.amp.autocast(args...)` is deprecated. Please use `torch.amp.autocast('cuda', args...)` instead.\n",
            "  with amp.autocast(autocast):\n"
          ]
        },
        {
          "output_type": "stream",
          "name": "stdout",
          "text": [
            "Detections for @lobelia4cosmetics_12291.jpg:\n",
            "Empty DataFrame\n",
            "Columns: [name, confidence, xmin, ymin, xmax, ymax]\n",
            "Index: []\n"
          ]
        },
        {
          "output_type": "stream",
          "name": "stderr",
          "text": [
            "/root/.cache/torch/hub/ultralytics_yolov5_master/models/common.py:892: FutureWarning: `torch.cuda.amp.autocast(args...)` is deprecated. Please use `torch.amp.autocast('cuda', args...)` instead.\n",
            "  with amp.autocast(autocast):\n"
          ]
        },
        {
          "output_type": "stream",
          "name": "stdout",
          "text": [
            "Detections for @lobelia4cosmetics_12290.jpg:\n",
            "Empty DataFrame\n",
            "Columns: [name, confidence, xmin, ymin, xmax, ymax]\n",
            "Index: []\n"
          ]
        },
        {
          "output_type": "stream",
          "name": "stderr",
          "text": [
            "/root/.cache/torch/hub/ultralytics_yolov5_master/models/common.py:892: FutureWarning: `torch.cuda.amp.autocast(args...)` is deprecated. Please use `torch.amp.autocast('cuda', args...)` instead.\n",
            "  with amp.autocast(autocast):\n"
          ]
        },
        {
          "output_type": "stream",
          "name": "stdout",
          "text": [
            "Detections for @lobelia4cosmetics_12292.jpg:\n",
            "Empty DataFrame\n",
            "Columns: [name, confidence, xmin, ymin, xmax, ymax]\n",
            "Index: []\n"
          ]
        },
        {
          "output_type": "stream",
          "name": "stderr",
          "text": [
            "/root/.cache/torch/hub/ultralytics_yolov5_master/models/common.py:892: FutureWarning: `torch.cuda.amp.autocast(args...)` is deprecated. Please use `torch.amp.autocast('cuda', args...)` instead.\n",
            "  with amp.autocast(autocast):\n"
          ]
        },
        {
          "output_type": "stream",
          "name": "stdout",
          "text": [
            "Detections for @lobelia4cosmetics_12288.jpg:\n",
            "Empty DataFrame\n",
            "Columns: [name, confidence, xmin, ymin, xmax, ymax]\n",
            "Index: []\n"
          ]
        },
        {
          "output_type": "stream",
          "name": "stderr",
          "text": [
            "/root/.cache/torch/hub/ultralytics_yolov5_master/models/common.py:892: FutureWarning: `torch.cuda.amp.autocast(args...)` is deprecated. Please use `torch.amp.autocast('cuda', args...)` instead.\n",
            "  with amp.autocast(autocast):\n"
          ]
        },
        {
          "output_type": "stream",
          "name": "stdout",
          "text": [
            "Detections for @lobelia4cosmetics_12285.jpg:\n",
            "Empty DataFrame\n",
            "Columns: [name, confidence, xmin, ymin, xmax, ymax]\n",
            "Index: []\n"
          ]
        },
        {
          "output_type": "stream",
          "name": "stderr",
          "text": [
            "/root/.cache/torch/hub/ultralytics_yolov5_master/models/common.py:892: FutureWarning: `torch.cuda.amp.autocast(args...)` is deprecated. Please use `torch.amp.autocast('cuda', args...)` instead.\n",
            "  with amp.autocast(autocast):\n"
          ]
        },
        {
          "output_type": "stream",
          "name": "stdout",
          "text": [
            "Detections for @lobelia4cosmetics_12287.jpg:\n",
            "   name  confidence        xmin       ymin        xmax       ymax\n",
            "0  vase    0.292412  168.964172  53.658703  333.268677  490.41272\n"
          ]
        },
        {
          "output_type": "stream",
          "name": "stderr",
          "text": [
            "/root/.cache/torch/hub/ultralytics_yolov5_master/models/common.py:892: FutureWarning: `torch.cuda.amp.autocast(args...)` is deprecated. Please use `torch.amp.autocast('cuda', args...)` instead.\n",
            "  with amp.autocast(autocast):\n"
          ]
        },
        {
          "output_type": "stream",
          "name": "stdout",
          "text": [
            "Detections for @lobelia4cosmetics_12284.jpg:\n",
            "     name  confidence        xmin      ymin        xmax        ymax\n",
            "0  bottle     0.29258  349.462494  84.01532  677.192017  931.666016\n"
          ]
        },
        {
          "output_type": "stream",
          "name": "stderr",
          "text": [
            "/root/.cache/torch/hub/ultralytics_yolov5_master/models/common.py:892: FutureWarning: `torch.cuda.amp.autocast(args...)` is deprecated. Please use `torch.amp.autocast('cuda', args...)` instead.\n",
            "  with amp.autocast(autocast):\n"
          ]
        },
        {
          "output_type": "stream",
          "name": "stdout",
          "text": [
            "Detections for @lobelia4cosmetics_12283.jpg:\n",
            "Empty DataFrame\n",
            "Columns: [name, confidence, xmin, ymin, xmax, ymax]\n",
            "Index: []\n"
          ]
        },
        {
          "output_type": "stream",
          "name": "stderr",
          "text": [
            "/root/.cache/torch/hub/ultralytics_yolov5_master/models/common.py:892: FutureWarning: `torch.cuda.amp.autocast(args...)` is deprecated. Please use `torch.amp.autocast('cuda', args...)` instead.\n",
            "  with amp.autocast(autocast):\n"
          ]
        },
        {
          "output_type": "stream",
          "name": "stdout",
          "text": [
            "Detections for @lobelia4cosmetics_12286.jpg:\n",
            "     name  confidence        xmin        ymin        xmax        ymax\n",
            "0    bowl    0.402802  253.954697  577.395630  773.615356  992.039612\n",
            "1  banana    0.394988  411.241547  714.862244  610.666504  812.792786\n",
            "2  person    0.347361  299.261932   28.593136  712.929443  520.661438\n",
            "3  banana    0.290594  592.595093  791.921631  635.678162  824.548340\n"
          ]
        },
        {
          "output_type": "stream",
          "name": "stderr",
          "text": [
            "/root/.cache/torch/hub/ultralytics_yolov5_master/models/common.py:892: FutureWarning: `torch.cuda.amp.autocast(args...)` is deprecated. Please use `torch.amp.autocast('cuda', args...)` instead.\n",
            "  with amp.autocast(autocast):\n"
          ]
        },
        {
          "output_type": "stream",
          "name": "stdout",
          "text": [
            "Detections for @lobelia4cosmetics_12282.jpg:\n",
            "Empty DataFrame\n",
            "Columns: [name, confidence, xmin, ymin, xmax, ymax]\n",
            "Index: []\n"
          ]
        },
        {
          "output_type": "stream",
          "name": "stderr",
          "text": [
            "/root/.cache/torch/hub/ultralytics_yolov5_master/models/common.py:892: FutureWarning: `torch.cuda.amp.autocast(args...)` is deprecated. Please use `torch.amp.autocast('cuda', args...)` instead.\n",
            "  with amp.autocast(autocast):\n"
          ]
        },
        {
          "output_type": "stream",
          "name": "stdout",
          "text": [
            "Detections for @lobelia4cosmetics_12278.jpg:\n",
            "     name  confidence        xmin        ymin        xmax         ymax\n",
            "0  person    0.854438  386.629089  569.150818  798.967346  1072.493408\n"
          ]
        },
        {
          "output_type": "stream",
          "name": "stderr",
          "text": [
            "/root/.cache/torch/hub/ultralytics_yolov5_master/models/common.py:892: FutureWarning: `torch.cuda.amp.autocast(args...)` is deprecated. Please use `torch.amp.autocast('cuda', args...)` instead.\n",
            "  with amp.autocast(autocast):\n"
          ]
        },
        {
          "output_type": "stream",
          "name": "stdout",
          "text": [
            "Detections for @lobelia4cosmetics_12281.jpg:\n",
            "Empty DataFrame\n",
            "Columns: [name, confidence, xmin, ymin, xmax, ymax]\n",
            "Index: []\n"
          ]
        },
        {
          "output_type": "stream",
          "name": "stderr",
          "text": [
            "/root/.cache/torch/hub/ultralytics_yolov5_master/models/common.py:892: FutureWarning: `torch.cuda.amp.autocast(args...)` is deprecated. Please use `torch.amp.autocast('cuda', args...)` instead.\n",
            "  with amp.autocast(autocast):\n"
          ]
        },
        {
          "output_type": "stream",
          "name": "stdout",
          "text": [
            "Detections for @lobelia4cosmetics_12280.jpg:\n",
            "     name  confidence       xmin  ymin        xmax        ymax\n",
            "0  bottle    0.434455  160.30101   0.0  351.007507  496.128174\n"
          ]
        },
        {
          "output_type": "stream",
          "name": "stderr",
          "text": [
            "/root/.cache/torch/hub/ultralytics_yolov5_master/models/common.py:892: FutureWarning: `torch.cuda.amp.autocast(args...)` is deprecated. Please use `torch.amp.autocast('cuda', args...)` instead.\n",
            "  with amp.autocast(autocast):\n"
          ]
        },
        {
          "output_type": "stream",
          "name": "stdout",
          "text": [
            "Detections for @lobelia4cosmetics_12279.jpg:\n",
            "     name  confidence       xmin        ymin        xmax        ymax\n",
            "0  person    0.526795  71.351341  271.467834  201.004105  451.916229\n",
            "1  person    0.271554  70.582901  270.818848  133.516663  421.879883\n"
          ]
        },
        {
          "output_type": "stream",
          "name": "stderr",
          "text": [
            "/root/.cache/torch/hub/ultralytics_yolov5_master/models/common.py:892: FutureWarning: `torch.cuda.amp.autocast(args...)` is deprecated. Please use `torch.amp.autocast('cuda', args...)` instead.\n",
            "  with amp.autocast(autocast):\n"
          ]
        },
        {
          "output_type": "stream",
          "name": "stdout",
          "text": [
            "Detections for @lobelia4cosmetics_12277.jpg:\n",
            "  name  confidence        xmin        ymin        xmax         ymax\n",
            "0  cup    0.789148  360.245972  782.216064  641.896912  1073.364258\n"
          ]
        },
        {
          "output_type": "stream",
          "name": "stderr",
          "text": [
            "/root/.cache/torch/hub/ultralytics_yolov5_master/models/common.py:892: FutureWarning: `torch.cuda.amp.autocast(args...)` is deprecated. Please use `torch.amp.autocast('cuda', args...)` instead.\n",
            "  with amp.autocast(autocast):\n"
          ]
        },
        {
          "output_type": "stream",
          "name": "stdout",
          "text": [
            "Detections for @lobelia4cosmetics_12275.jpg:\n",
            "Empty DataFrame\n",
            "Columns: [name, confidence, xmin, ymin, xmax, ymax]\n",
            "Index: []\n"
          ]
        },
        {
          "output_type": "stream",
          "name": "stderr",
          "text": [
            "/root/.cache/torch/hub/ultralytics_yolov5_master/models/common.py:892: FutureWarning: `torch.cuda.amp.autocast(args...)` is deprecated. Please use `torch.amp.autocast('cuda', args...)` instead.\n",
            "  with amp.autocast(autocast):\n"
          ]
        },
        {
          "output_type": "stream",
          "name": "stdout",
          "text": [
            "Detections for @lobelia4cosmetics_12276.jpg:\n",
            "Empty DataFrame\n",
            "Columns: [name, confidence, xmin, ymin, xmax, ymax]\n",
            "Index: []\n"
          ]
        },
        {
          "output_type": "stream",
          "name": "stderr",
          "text": [
            "/root/.cache/torch/hub/ultralytics_yolov5_master/models/common.py:892: FutureWarning: `torch.cuda.amp.autocast(args...)` is deprecated. Please use `torch.amp.autocast('cuda', args...)` instead.\n",
            "  with amp.autocast(autocast):\n"
          ]
        },
        {
          "output_type": "stream",
          "name": "stdout",
          "text": [
            "Detections for @lobelia4cosmetics_12273.jpg:\n",
            "     name  confidence        xmin        ymin        xmax        ymax\n",
            "0  person    0.542076  316.487823  259.227722  515.913269  582.338013\n"
          ]
        },
        {
          "output_type": "stream",
          "name": "stderr",
          "text": [
            "/root/.cache/torch/hub/ultralytics_yolov5_master/models/common.py:892: FutureWarning: `torch.cuda.amp.autocast(args...)` is deprecated. Please use `torch.amp.autocast('cuda', args...)` instead.\n",
            "  with amp.autocast(autocast):\n"
          ]
        },
        {
          "output_type": "stream",
          "name": "stdout",
          "text": [
            "Detections for @lobelia4cosmetics_12272.jpg:\n",
            "     name  confidence        xmin        ymin        xmax        ymax\n",
            "0  person    0.892511  432.249756  421.728455  764.422974  903.556335\n"
          ]
        },
        {
          "output_type": "stream",
          "name": "stderr",
          "text": [
            "/root/.cache/torch/hub/ultralytics_yolov5_master/models/common.py:892: FutureWarning: `torch.cuda.amp.autocast(args...)` is deprecated. Please use `torch.amp.autocast('cuda', args...)` instead.\n",
            "  with amp.autocast(autocast):\n"
          ]
        },
        {
          "output_type": "stream",
          "name": "stdout",
          "text": [
            "Detections for @lobelia4cosmetics_12274.jpg:\n",
            "            name  confidence        xmin        ymin        xmax         ymax\n",
            "0  parking meter    0.420197  296.751068  132.006226  968.405151  1143.936646\n",
            "1            cup    0.279941  297.346558  130.160706  971.870728  1168.945801\n"
          ]
        },
        {
          "output_type": "stream",
          "name": "stderr",
          "text": [
            "/root/.cache/torch/hub/ultralytics_yolov5_master/models/common.py:892: FutureWarning: `torch.cuda.amp.autocast(args...)` is deprecated. Please use `torch.amp.autocast('cuda', args...)` instead.\n",
            "  with amp.autocast(autocast):\n"
          ]
        },
        {
          "output_type": "stream",
          "name": "stdout",
          "text": [
            "Detections for @lobelia4cosmetics_12269.jpg:\n",
            "  name  confidence      xmin        ymin        xmax        ymax\n",
            "0  cup     0.31478  5.207787  249.310028  301.134003  793.937805\n"
          ]
        },
        {
          "output_type": "stream",
          "name": "stderr",
          "text": [
            "/root/.cache/torch/hub/ultralytics_yolov5_master/models/common.py:892: FutureWarning: `torch.cuda.amp.autocast(args...)` is deprecated. Please use `torch.amp.autocast('cuda', args...)` instead.\n",
            "  with amp.autocast(autocast):\n"
          ]
        },
        {
          "output_type": "stream",
          "name": "stdout",
          "text": [
            "Detections for @lobelia4cosmetics_12270.jpg:\n",
            "Empty DataFrame\n",
            "Columns: [name, confidence, xmin, ymin, xmax, ymax]\n",
            "Index: []\n"
          ]
        },
        {
          "output_type": "stream",
          "name": "stderr",
          "text": [
            "/root/.cache/torch/hub/ultralytics_yolov5_master/models/common.py:892: FutureWarning: `torch.cuda.amp.autocast(args...)` is deprecated. Please use `torch.amp.autocast('cuda', args...)` instead.\n",
            "  with amp.autocast(autocast):\n"
          ]
        },
        {
          "output_type": "stream",
          "name": "stdout",
          "text": [
            "Detections for @lobelia4cosmetics_12271.jpg:\n",
            "       name  confidence        xmin        ymin        xmax        ymax\n",
            "0    bottle    0.703980  103.481583   86.276588  219.125595  282.193298\n",
            "1    bottle    0.642987  236.607651  132.268799  274.609070  263.386505\n",
            "2    bottle    0.582703  208.692337  117.738754  249.569199  273.389404\n",
            "3    bottle    0.520170  262.937042  143.529648  302.185272  257.115112\n",
            "4    toilet    0.473945   22.772903  149.851379   57.972977  257.208496\n",
            "5    toilet    0.350603   35.411686  143.183853   80.003510  262.056885\n",
            "6  suitcase    0.274276   73.666656  110.276161  107.559769  268.121399\n"
          ]
        },
        {
          "output_type": "stream",
          "name": "stderr",
          "text": [
            "/root/.cache/torch/hub/ultralytics_yolov5_master/models/common.py:892: FutureWarning: `torch.cuda.amp.autocast(args...)` is deprecated. Please use `torch.amp.autocast('cuda', args...)` instead.\n",
            "  with amp.autocast(autocast):\n"
          ]
        },
        {
          "output_type": "stream",
          "name": "stdout",
          "text": [
            "Detections for @lobelia4cosmetics_12254.jpg:\n",
            "Empty DataFrame\n",
            "Columns: [name, confidence, xmin, ymin, xmax, ymax]\n",
            "Index: []\n"
          ]
        },
        {
          "output_type": "stream",
          "name": "stderr",
          "text": [
            "/root/.cache/torch/hub/ultralytics_yolov5_master/models/common.py:892: FutureWarning: `torch.cuda.amp.autocast(args...)` is deprecated. Please use `torch.amp.autocast('cuda', args...)` instead.\n",
            "  with amp.autocast(autocast):\n"
          ]
        },
        {
          "output_type": "stream",
          "name": "stdout",
          "text": [
            "Detections for @lobelia4cosmetics_12257.jpg:\n",
            "     name  confidence        xmin        ymin        xmax         ymax\n",
            "0  person    0.854438  386.629089  569.150818  798.967346  1072.493408\n"
          ]
        },
        {
          "output_type": "stream",
          "name": "stderr",
          "text": [
            "/root/.cache/torch/hub/ultralytics_yolov5_master/models/common.py:892: FutureWarning: `torch.cuda.amp.autocast(args...)` is deprecated. Please use `torch.amp.autocast('cuda', args...)` instead.\n",
            "  with amp.autocast(autocast):\n"
          ]
        },
        {
          "output_type": "stream",
          "name": "stdout",
          "text": [
            "Detections for @lobelia4cosmetics_12259.jpg:\n",
            "Empty DataFrame\n",
            "Columns: [name, confidence, xmin, ymin, xmax, ymax]\n",
            "Index: []\n"
          ]
        },
        {
          "output_type": "stream",
          "name": "stderr",
          "text": [
            "/root/.cache/torch/hub/ultralytics_yolov5_master/models/common.py:892: FutureWarning: `torch.cuda.amp.autocast(args...)` is deprecated. Please use `torch.amp.autocast('cuda', args...)` instead.\n",
            "  with amp.autocast(autocast):\n"
          ]
        },
        {
          "output_type": "stream",
          "name": "stdout",
          "text": [
            "Detections for @lobelia4cosmetics_12258.jpg:\n",
            "Empty DataFrame\n",
            "Columns: [name, confidence, xmin, ymin, xmax, ymax]\n",
            "Index: []\n"
          ]
        },
        {
          "output_type": "stream",
          "name": "stderr",
          "text": [
            "/root/.cache/torch/hub/ultralytics_yolov5_master/models/common.py:892: FutureWarning: `torch.cuda.amp.autocast(args...)` is deprecated. Please use `torch.amp.autocast('cuda', args...)` instead.\n",
            "  with amp.autocast(autocast):\n"
          ]
        },
        {
          "output_type": "stream",
          "name": "stdout",
          "text": [
            "Detections for @lobelia4cosmetics_12266.jpg:\n",
            "Empty DataFrame\n",
            "Columns: [name, confidence, xmin, ymin, xmax, ymax]\n",
            "Index: []\n"
          ]
        },
        {
          "output_type": "stream",
          "name": "stderr",
          "text": [
            "/root/.cache/torch/hub/ultralytics_yolov5_master/models/common.py:892: FutureWarning: `torch.cuda.amp.autocast(args...)` is deprecated. Please use `torch.amp.autocast('cuda', args...)` instead.\n",
            "  with amp.autocast(autocast):\n"
          ]
        },
        {
          "output_type": "stream",
          "name": "stdout",
          "text": [
            "Detections for @lobelia4cosmetics_12262.jpg:\n",
            "Empty DataFrame\n",
            "Columns: [name, confidence, xmin, ymin, xmax, ymax]\n",
            "Index: []\n"
          ]
        },
        {
          "output_type": "stream",
          "name": "stderr",
          "text": [
            "/root/.cache/torch/hub/ultralytics_yolov5_master/models/common.py:892: FutureWarning: `torch.cuda.amp.autocast(args...)` is deprecated. Please use `torch.amp.autocast('cuda', args...)` instead.\n",
            "  with amp.autocast(autocast):\n"
          ]
        },
        {
          "output_type": "stream",
          "name": "stdout",
          "text": [
            "Detections for @lobelia4cosmetics_12240.jpg:\n",
            "Empty DataFrame\n",
            "Columns: [name, confidence, xmin, ymin, xmax, ymax]\n",
            "Index: []\n"
          ]
        },
        {
          "output_type": "stream",
          "name": "stderr",
          "text": [
            "/root/.cache/torch/hub/ultralytics_yolov5_master/models/common.py:892: FutureWarning: `torch.cuda.amp.autocast(args...)` is deprecated. Please use `torch.amp.autocast('cuda', args...)` instead.\n",
            "  with amp.autocast(autocast):\n"
          ]
        },
        {
          "output_type": "stream",
          "name": "stdout",
          "text": [
            "Detections for @lobelia4cosmetics_12264.jpg:\n",
            "Empty DataFrame\n",
            "Columns: [name, confidence, xmin, ymin, xmax, ymax]\n",
            "Index: []\n"
          ]
        },
        {
          "output_type": "stream",
          "name": "stderr",
          "text": [
            "/root/.cache/torch/hub/ultralytics_yolov5_master/models/common.py:892: FutureWarning: `torch.cuda.amp.autocast(args...)` is deprecated. Please use `torch.amp.autocast('cuda', args...)` instead.\n",
            "  with amp.autocast(autocast):\n"
          ]
        },
        {
          "output_type": "stream",
          "name": "stdout",
          "text": [
            "Detections for @lobelia4cosmetics_12265.jpg:\n",
            "   name  confidence        xmin        ymin        xmax        ymax\n",
            "0  bowl    0.758214  140.742126  185.970306  275.191772  299.847687\n"
          ]
        },
        {
          "output_type": "stream",
          "name": "stderr",
          "text": [
            "/root/.cache/torch/hub/ultralytics_yolov5_master/models/common.py:892: FutureWarning: `torch.cuda.amp.autocast(args...)` is deprecated. Please use `torch.amp.autocast('cuda', args...)` instead.\n",
            "  with amp.autocast(autocast):\n"
          ]
        },
        {
          "output_type": "stream",
          "name": "stdout",
          "text": [
            "Detections for @lobelia4cosmetics_12260.jpg:\n",
            "    name  confidence        xmin        ymin        xmax         ymax\n",
            "0  knife      0.4199  530.664124  818.453064  946.696716  1087.866943\n"
          ]
        },
        {
          "output_type": "stream",
          "name": "stderr",
          "text": [
            "/root/.cache/torch/hub/ultralytics_yolov5_master/models/common.py:892: FutureWarning: `torch.cuda.amp.autocast(args...)` is deprecated. Please use `torch.amp.autocast('cuda', args...)` instead.\n",
            "  with amp.autocast(autocast):\n"
          ]
        },
        {
          "output_type": "stream",
          "name": "stdout",
          "text": [
            "Detections for @lobelia4cosmetics_12261.jpg:\n",
            "Empty DataFrame\n",
            "Columns: [name, confidence, xmin, ymin, xmax, ymax]\n",
            "Index: []\n"
          ]
        },
        {
          "output_type": "stream",
          "name": "stderr",
          "text": [
            "/root/.cache/torch/hub/ultralytics_yolov5_master/models/common.py:892: FutureWarning: `torch.cuda.amp.autocast(args...)` is deprecated. Please use `torch.amp.autocast('cuda', args...)` instead.\n",
            "  with amp.autocast(autocast):\n"
          ]
        },
        {
          "output_type": "stream",
          "name": "stdout",
          "text": [
            "Detections for @lobelia4cosmetics_12263.jpg:\n",
            "Empty DataFrame\n",
            "Columns: [name, confidence, xmin, ymin, xmax, ymax]\n",
            "Index: []\n"
          ]
        },
        {
          "output_type": "stream",
          "name": "stderr",
          "text": [
            "/root/.cache/torch/hub/ultralytics_yolov5_master/models/common.py:892: FutureWarning: `torch.cuda.amp.autocast(args...)` is deprecated. Please use `torch.amp.autocast('cuda', args...)` instead.\n",
            "  with amp.autocast(autocast):\n"
          ]
        },
        {
          "output_type": "stream",
          "name": "stdout",
          "text": [
            "Detections for @lobelia4cosmetics_12391.jpg:\n",
            "Empty DataFrame\n",
            "Columns: [name, confidence, xmin, ymin, xmax, ymax]\n",
            "Index: []\n"
          ]
        },
        {
          "output_type": "stream",
          "name": "stderr",
          "text": [
            "/root/.cache/torch/hub/ultralytics_yolov5_master/models/common.py:892: FutureWarning: `torch.cuda.amp.autocast(args...)` is deprecated. Please use `torch.amp.autocast('cuda', args...)` instead.\n",
            "  with amp.autocast(autocast):\n"
          ]
        },
        {
          "output_type": "stream",
          "name": "stdout",
          "text": [
            "Detections for @lobelia4cosmetics_12388.jpg:\n",
            "     name  confidence        xmin        ymin        xmax         ymax\n",
            "0  bottle    0.501196  657.153503  313.082123  952.058777  1231.495972\n",
            "1  bottle    0.355328  446.191406  312.021698  628.322998  1193.137207\n"
          ]
        },
        {
          "output_type": "stream",
          "name": "stderr",
          "text": [
            "/root/.cache/torch/hub/ultralytics_yolov5_master/models/common.py:892: FutureWarning: `torch.cuda.amp.autocast(args...)` is deprecated. Please use `torch.amp.autocast('cuda', args...)` instead.\n",
            "  with amp.autocast(autocast):\n"
          ]
        },
        {
          "output_type": "stream",
          "name": "stdout",
          "text": [
            "Detections for @lobelia4cosmetics_12390.jpg:\n",
            "   name  confidence        xmin        ymin        xmax        ymax\n",
            "0  bowl    0.758214  140.742126  185.970306  275.191772  299.847687\n"
          ]
        },
        {
          "output_type": "stream",
          "name": "stderr",
          "text": [
            "/root/.cache/torch/hub/ultralytics_yolov5_master/models/common.py:892: FutureWarning: `torch.cuda.amp.autocast(args...)` is deprecated. Please use `torch.amp.autocast('cuda', args...)` instead.\n",
            "  with amp.autocast(autocast):\n"
          ]
        },
        {
          "output_type": "stream",
          "name": "stdout",
          "text": [
            "Detections for @lobelia4cosmetics_12386.jpg:\n",
            "Empty DataFrame\n",
            "Columns: [name, confidence, xmin, ymin, xmax, ymax]\n",
            "Index: []\n"
          ]
        },
        {
          "output_type": "stream",
          "name": "stderr",
          "text": [
            "/root/.cache/torch/hub/ultralytics_yolov5_master/models/common.py:892: FutureWarning: `torch.cuda.amp.autocast(args...)` is deprecated. Please use `torch.amp.autocast('cuda', args...)` instead.\n",
            "  with amp.autocast(autocast):\n"
          ]
        },
        {
          "output_type": "stream",
          "name": "stdout",
          "text": [
            "Detections for @lobelia4cosmetics_12385.jpg:\n",
            "Empty DataFrame\n",
            "Columns: [name, confidence, xmin, ymin, xmax, ymax]\n",
            "Index: []\n"
          ]
        },
        {
          "output_type": "stream",
          "name": "stderr",
          "text": [
            "/root/.cache/torch/hub/ultralytics_yolov5_master/models/common.py:892: FutureWarning: `torch.cuda.amp.autocast(args...)` is deprecated. Please use `torch.amp.autocast('cuda', args...)` instead.\n",
            "  with amp.autocast(autocast):\n"
          ]
        },
        {
          "output_type": "stream",
          "name": "stdout",
          "text": [
            "Detections for @lobelia4cosmetics_12387.jpg:\n",
            "Empty DataFrame\n",
            "Columns: [name, confidence, xmin, ymin, xmax, ymax]\n",
            "Index: []\n"
          ]
        },
        {
          "output_type": "stream",
          "name": "stderr",
          "text": [
            "/root/.cache/torch/hub/ultralytics_yolov5_master/models/common.py:892: FutureWarning: `torch.cuda.amp.autocast(args...)` is deprecated. Please use `torch.amp.autocast('cuda', args...)` instead.\n",
            "  with amp.autocast(autocast):\n"
          ]
        },
        {
          "output_type": "stream",
          "name": "stdout",
          "text": [
            "Detections for @lobelia4cosmetics_12384.jpg:\n",
            "Empty DataFrame\n",
            "Columns: [name, confidence, xmin, ymin, xmax, ymax]\n",
            "Index: []\n"
          ]
        },
        {
          "output_type": "stream",
          "name": "stderr",
          "text": [
            "/root/.cache/torch/hub/ultralytics_yolov5_master/models/common.py:892: FutureWarning: `torch.cuda.amp.autocast(args...)` is deprecated. Please use `torch.amp.autocast('cuda', args...)` instead.\n",
            "  with amp.autocast(autocast):\n"
          ]
        },
        {
          "output_type": "stream",
          "name": "stdout",
          "text": [
            "Detections for @lobelia4cosmetics_12389.jpg:\n",
            "Empty DataFrame\n",
            "Columns: [name, confidence, xmin, ymin, xmax, ymax]\n",
            "Index: []\n"
          ]
        },
        {
          "output_type": "stream",
          "name": "stderr",
          "text": [
            "/root/.cache/torch/hub/ultralytics_yolov5_master/models/common.py:892: FutureWarning: `torch.cuda.amp.autocast(args...)` is deprecated. Please use `torch.amp.autocast('cuda', args...)` instead.\n",
            "  with amp.autocast(autocast):\n"
          ]
        },
        {
          "output_type": "stream",
          "name": "stdout",
          "text": [
            "Detections for @lobelia4cosmetics_12377.jpg:\n",
            "    name  confidence        xmin        ymin        xmax         ymax\n",
            "0  clock    0.653354  297.035736  174.852615  875.716736   759.952576\n",
            "1  donut    0.390350  404.631073  923.974426  492.100800  1016.315857\n",
            "2  donut    0.312811  616.030823  964.383850  712.616760  1078.172852\n",
            "3   fork    0.258616  755.290771  796.080139  999.244934  1011.520569\n"
          ]
        },
        {
          "output_type": "stream",
          "name": "stderr",
          "text": [
            "/root/.cache/torch/hub/ultralytics_yolov5_master/models/common.py:892: FutureWarning: `torch.cuda.amp.autocast(args...)` is deprecated. Please use `torch.amp.autocast('cuda', args...)` instead.\n",
            "  with amp.autocast(autocast):\n"
          ]
        },
        {
          "output_type": "stream",
          "name": "stdout",
          "text": [
            "Detections for @lobelia4cosmetics_12382.jpg:\n",
            "Empty DataFrame\n",
            "Columns: [name, confidence, xmin, ymin, xmax, ymax]\n",
            "Index: []\n"
          ]
        },
        {
          "output_type": "stream",
          "name": "stderr",
          "text": [
            "/root/.cache/torch/hub/ultralytics_yolov5_master/models/common.py:892: FutureWarning: `torch.cuda.amp.autocast(args...)` is deprecated. Please use `torch.amp.autocast('cuda', args...)` instead.\n",
            "  with amp.autocast(autocast):\n"
          ]
        },
        {
          "output_type": "stream",
          "name": "stdout",
          "text": [
            "Detections for @lobelia4cosmetics_12383.jpg:\n",
            "Empty DataFrame\n",
            "Columns: [name, confidence, xmin, ymin, xmax, ymax]\n",
            "Index: []\n"
          ]
        },
        {
          "output_type": "stream",
          "name": "stderr",
          "text": [
            "/root/.cache/torch/hub/ultralytics_yolov5_master/models/common.py:892: FutureWarning: `torch.cuda.amp.autocast(args...)` is deprecated. Please use `torch.amp.autocast('cuda', args...)` instead.\n",
            "  with amp.autocast(autocast):\n"
          ]
        },
        {
          "output_type": "stream",
          "name": "stdout",
          "text": [
            "Detections for @lobelia4cosmetics_12378.jpg:\n",
            "     name  confidence        xmin        ymin        xmax         ymax\n",
            "0  person    0.854438  386.629089  569.150818  798.967346  1072.493408\n"
          ]
        },
        {
          "output_type": "stream",
          "name": "stderr",
          "text": [
            "/root/.cache/torch/hub/ultralytics_yolov5_master/models/common.py:892: FutureWarning: `torch.cuda.amp.autocast(args...)` is deprecated. Please use `torch.amp.autocast('cuda', args...)` instead.\n",
            "  with amp.autocast(autocast):\n"
          ]
        },
        {
          "output_type": "stream",
          "name": "stdout",
          "text": [
            "Detections for @lobelia4cosmetics_12379.jpg:\n",
            "     name  confidence        xmin        ymin        xmax        ymax\n",
            "0  banana    0.321508  833.838074  428.316528  923.337952  526.941895\n",
            "1   donut    0.268656  504.534119  675.769714  586.381958  745.471985\n"
          ]
        },
        {
          "output_type": "stream",
          "name": "stderr",
          "text": [
            "/root/.cache/torch/hub/ultralytics_yolov5_master/models/common.py:892: FutureWarning: `torch.cuda.amp.autocast(args...)` is deprecated. Please use `torch.amp.autocast('cuda', args...)` instead.\n",
            "  with amp.autocast(autocast):\n"
          ]
        },
        {
          "output_type": "stream",
          "name": "stdout",
          "text": [
            "Detections for @lobelia4cosmetics_12381.jpg:\n",
            "     name  confidence        xmin        ymin        xmax        ymax\n",
            "0    bowl    0.402802  253.954697  577.395630  773.615356  992.039612\n",
            "1  banana    0.394988  411.241547  714.862244  610.666504  812.792786\n",
            "2  person    0.347361  299.261932   28.593136  712.929443  520.661438\n",
            "3  banana    0.290594  592.595093  791.921631  635.678162  824.548340\n"
          ]
        },
        {
          "output_type": "stream",
          "name": "stderr",
          "text": [
            "/root/.cache/torch/hub/ultralytics_yolov5_master/models/common.py:892: FutureWarning: `torch.cuda.amp.autocast(args...)` is deprecated. Please use `torch.amp.autocast('cuda', args...)` instead.\n",
            "  with amp.autocast(autocast):\n"
          ]
        },
        {
          "output_type": "stream",
          "name": "stdout",
          "text": [
            "Detections for @lobelia4cosmetics_12375.jpg:\n",
            "     name  confidence        xmin        ymin        xmax         ymax\n",
            "0  bottle    0.442316  627.069946  268.439514  945.952393  1198.739502\n"
          ]
        },
        {
          "output_type": "stream",
          "name": "stderr",
          "text": [
            "/root/.cache/torch/hub/ultralytics_yolov5_master/models/common.py:892: FutureWarning: `torch.cuda.amp.autocast(args...)` is deprecated. Please use `torch.amp.autocast('cuda', args...)` instead.\n",
            "  with amp.autocast(autocast):\n"
          ]
        },
        {
          "output_type": "stream",
          "name": "stdout",
          "text": [
            "Detections for @lobelia4cosmetics_12376.jpg:\n",
            "     name  confidence        xmin        ymin        xmax        ymax\n",
            "0  person    0.892511  432.249756  421.728455  764.422974  903.556335\n"
          ]
        },
        {
          "output_type": "stream",
          "name": "stderr",
          "text": [
            "/root/.cache/torch/hub/ultralytics_yolov5_master/models/common.py:892: FutureWarning: `torch.cuda.amp.autocast(args...)` is deprecated. Please use `torch.amp.autocast('cuda', args...)` instead.\n",
            "  with amp.autocast(autocast):\n"
          ]
        },
        {
          "output_type": "stream",
          "name": "stdout",
          "text": [
            "Detections for @lobelia4cosmetics_12380.jpg:\n",
            "     name  confidence       xmin        ymin        xmax        ymax\n",
            "0  person    0.526795  71.351341  271.467834  201.004105  451.916229\n",
            "1  person    0.271554  70.582901  270.818848  133.516663  421.879883\n"
          ]
        },
        {
          "output_type": "stream",
          "name": "stderr",
          "text": [
            "/root/.cache/torch/hub/ultralytics_yolov5_master/models/common.py:892: FutureWarning: `torch.cuda.amp.autocast(args...)` is deprecated. Please use `torch.amp.autocast('cuda', args...)` instead.\n",
            "  with amp.autocast(autocast):\n"
          ]
        },
        {
          "output_type": "stream",
          "name": "stdout",
          "text": [
            "Detections for @lobelia4cosmetics_12374.jpg:\n",
            "Empty DataFrame\n",
            "Columns: [name, confidence, xmin, ymin, xmax, ymax]\n",
            "Index: []\n"
          ]
        },
        {
          "output_type": "stream",
          "name": "stderr",
          "text": [
            "/root/.cache/torch/hub/ultralytics_yolov5_master/models/common.py:892: FutureWarning: `torch.cuda.amp.autocast(args...)` is deprecated. Please use `torch.amp.autocast('cuda', args...)` instead.\n",
            "  with amp.autocast(autocast):\n"
          ]
        },
        {
          "output_type": "stream",
          "name": "stdout",
          "text": [
            "Detections for @lobelia4cosmetics_12371.jpg:\n",
            "  name  confidence        xmin        ymin        xmax         ymax\n",
            "0  cup    0.789148  360.245972  782.216064  641.896912  1073.364258\n"
          ]
        },
        {
          "output_type": "stream",
          "name": "stderr",
          "text": [
            "/root/.cache/torch/hub/ultralytics_yolov5_master/models/common.py:892: FutureWarning: `torch.cuda.amp.autocast(args...)` is deprecated. Please use `torch.amp.autocast('cuda', args...)` instead.\n",
            "  with amp.autocast(autocast):\n"
          ]
        },
        {
          "output_type": "stream",
          "name": "stdout",
          "text": [
            "Detections for @lobelia4cosmetics_12373.jpg:\n",
            "     name  confidence        xmin        ymin        xmax         ymax\n",
            "0  bottle    0.332959  320.581512  224.795502  637.528076  1200.781372\n"
          ]
        },
        {
          "output_type": "stream",
          "name": "stderr",
          "text": [
            "/root/.cache/torch/hub/ultralytics_yolov5_master/models/common.py:892: FutureWarning: `torch.cuda.amp.autocast(args...)` is deprecated. Please use `torch.amp.autocast('cuda', args...)` instead.\n",
            "  with amp.autocast(autocast):\n"
          ]
        },
        {
          "output_type": "stream",
          "name": "stdout",
          "text": [
            "Detections for @lobelia4cosmetics_12372.jpg:\n",
            "     name  confidence        xmin        ymin        xmax         ymax\n",
            "0    book    0.575717  254.181519  912.326172  782.529419  1020.054077\n",
            "1  person    0.330362  591.487854  481.116455  765.717163   928.665039\n"
          ]
        },
        {
          "output_type": "stream",
          "name": "stderr",
          "text": [
            "/root/.cache/torch/hub/ultralytics_yolov5_master/models/common.py:892: FutureWarning: `torch.cuda.amp.autocast(args...)` is deprecated. Please use `torch.amp.autocast('cuda', args...)` instead.\n",
            "  with amp.autocast(autocast):\n"
          ]
        },
        {
          "output_type": "stream",
          "name": "stdout",
          "text": [
            "Detections for @lobelia4cosmetics_12370.jpg:\n",
            "Empty DataFrame\n",
            "Columns: [name, confidence, xmin, ymin, xmax, ymax]\n",
            "Index: []\n"
          ]
        },
        {
          "output_type": "stream",
          "name": "stderr",
          "text": [
            "/root/.cache/torch/hub/ultralytics_yolov5_master/models/common.py:892: FutureWarning: `torch.cuda.amp.autocast(args...)` is deprecated. Please use `torch.amp.autocast('cuda', args...)` instead.\n",
            "  with amp.autocast(autocast):\n"
          ]
        },
        {
          "output_type": "stream",
          "name": "stdout",
          "text": [
            "Detections for @lobelia4cosmetics_12367.jpg:\n",
            "Empty DataFrame\n",
            "Columns: [name, confidence, xmin, ymin, xmax, ymax]\n",
            "Index: []\n"
          ]
        },
        {
          "output_type": "stream",
          "name": "stderr",
          "text": [
            "/root/.cache/torch/hub/ultralytics_yolov5_master/models/common.py:892: FutureWarning: `torch.cuda.amp.autocast(args...)` is deprecated. Please use `torch.amp.autocast('cuda', args...)` instead.\n",
            "  with amp.autocast(autocast):\n"
          ]
        },
        {
          "output_type": "stream",
          "name": "stdout",
          "text": [
            "Detections for @lobelia4cosmetics_12368.jpg:\n",
            "Empty DataFrame\n",
            "Columns: [name, confidence, xmin, ymin, xmax, ymax]\n",
            "Index: []\n"
          ]
        },
        {
          "output_type": "stream",
          "name": "stderr",
          "text": [
            "/root/.cache/torch/hub/ultralytics_yolov5_master/models/common.py:892: FutureWarning: `torch.cuda.amp.autocast(args...)` is deprecated. Please use `torch.amp.autocast('cuda', args...)` instead.\n",
            "  with amp.autocast(autocast):\n"
          ]
        },
        {
          "output_type": "stream",
          "name": "stdout",
          "text": [
            "Detections for @lobelia4cosmetics_12369.jpg:\n",
            "Empty DataFrame\n",
            "Columns: [name, confidence, xmin, ymin, xmax, ymax]\n",
            "Index: []\n"
          ]
        },
        {
          "output_type": "stream",
          "name": "stderr",
          "text": [
            "/root/.cache/torch/hub/ultralytics_yolov5_master/models/common.py:892: FutureWarning: `torch.cuda.amp.autocast(args...)` is deprecated. Please use `torch.amp.autocast('cuda', args...)` instead.\n",
            "  with amp.autocast(autocast):\n"
          ]
        },
        {
          "output_type": "stream",
          "name": "stdout",
          "text": [
            "Detections for @lobelia4cosmetics_12363.jpg:\n",
            "Empty DataFrame\n",
            "Columns: [name, confidence, xmin, ymin, xmax, ymax]\n",
            "Index: []\n"
          ]
        },
        {
          "output_type": "stream",
          "name": "stderr",
          "text": [
            "/root/.cache/torch/hub/ultralytics_yolov5_master/models/common.py:892: FutureWarning: `torch.cuda.amp.autocast(args...)` is deprecated. Please use `torch.amp.autocast('cuda', args...)` instead.\n",
            "  with amp.autocast(autocast):\n"
          ]
        },
        {
          "output_type": "stream",
          "name": "stdout",
          "text": [
            "Detections for @lobelia4cosmetics_12366.jpg:\n",
            "Empty DataFrame\n",
            "Columns: [name, confidence, xmin, ymin, xmax, ymax]\n",
            "Index: []\n"
          ]
        },
        {
          "output_type": "stream",
          "name": "stderr",
          "text": [
            "/root/.cache/torch/hub/ultralytics_yolov5_master/models/common.py:892: FutureWarning: `torch.cuda.amp.autocast(args...)` is deprecated. Please use `torch.amp.autocast('cuda', args...)` instead.\n",
            "  with amp.autocast(autocast):\n"
          ]
        },
        {
          "output_type": "stream",
          "name": "stdout",
          "text": [
            "Detections for @lobelia4cosmetics_12365.jpg:\n",
            "Empty DataFrame\n",
            "Columns: [name, confidence, xmin, ymin, xmax, ymax]\n",
            "Index: []\n"
          ]
        },
        {
          "output_type": "stream",
          "name": "stderr",
          "text": [
            "/root/.cache/torch/hub/ultralytics_yolov5_master/models/common.py:892: FutureWarning: `torch.cuda.amp.autocast(args...)` is deprecated. Please use `torch.amp.autocast('cuda', args...)` instead.\n",
            "  with amp.autocast(autocast):\n"
          ]
        },
        {
          "output_type": "stream",
          "name": "stdout",
          "text": [
            "Detections for @lobelia4cosmetics_12364.jpg:\n",
            "       name  confidence        xmin        ymin        xmax        ymax\n",
            "0    bottle    0.703980  103.481583   86.276588  219.125595  282.193298\n",
            "1    bottle    0.642987  236.607651  132.268799  274.609070  263.386505\n",
            "2    bottle    0.582703  208.692337  117.738754  249.569199  273.389404\n",
            "3    bottle    0.520170  262.937042  143.529648  302.185272  257.115112\n",
            "4    toilet    0.473945   22.772903  149.851379   57.972977  257.208496\n",
            "5    toilet    0.350603   35.411686  143.183853   80.003510  262.056885\n",
            "6  suitcase    0.274276   73.666656  110.276161  107.559769  268.121399\n"
          ]
        },
        {
          "output_type": "stream",
          "name": "stderr",
          "text": [
            "/root/.cache/torch/hub/ultralytics_yolov5_master/models/common.py:892: FutureWarning: `torch.cuda.amp.autocast(args...)` is deprecated. Please use `torch.amp.autocast('cuda', args...)` instead.\n",
            "  with amp.autocast(autocast):\n"
          ]
        },
        {
          "output_type": "stream",
          "name": "stdout",
          "text": [
            "Detections for @lobelia4cosmetics_12362.jpg:\n",
            "Empty DataFrame\n",
            "Columns: [name, confidence, xmin, ymin, xmax, ymax]\n",
            "Index: []\n"
          ]
        },
        {
          "output_type": "stream",
          "name": "stderr",
          "text": [
            "/root/.cache/torch/hub/ultralytics_yolov5_master/models/common.py:892: FutureWarning: `torch.cuda.amp.autocast(args...)` is deprecated. Please use `torch.amp.autocast('cuda', args...)` instead.\n",
            "  with amp.autocast(autocast):\n"
          ]
        },
        {
          "output_type": "stream",
          "name": "stdout",
          "text": [
            "Detections for @lobelia4cosmetics_12360.jpg:\n",
            "     name  confidence        xmin        ymin        xmax        ymax\n",
            "0  orange    0.377693  708.816406  438.498993  836.305786  518.246704\n",
            "1  orange    0.377175  288.880432  315.707275  462.019684  399.253693\n",
            "2  orange    0.338240  163.517136  337.105133  335.829010  406.659210\n",
            "3  orange    0.255887  806.214600  404.197449  983.961060  505.069977\n"
          ]
        },
        {
          "output_type": "stream",
          "name": "stderr",
          "text": [
            "/root/.cache/torch/hub/ultralytics_yolov5_master/models/common.py:892: FutureWarning: `torch.cuda.amp.autocast(args...)` is deprecated. Please use `torch.amp.autocast('cuda', args...)` instead.\n",
            "  with amp.autocast(autocast):\n"
          ]
        },
        {
          "output_type": "stream",
          "name": "stdout",
          "text": [
            "Detections for @lobelia4cosmetics_12361.jpg:\n",
            "     name  confidence       xmin  ymin        xmax        ymax\n",
            "0  bottle    0.434455  160.30101   0.0  351.007507  496.128174\n"
          ]
        },
        {
          "output_type": "stream",
          "name": "stderr",
          "text": [
            "/root/.cache/torch/hub/ultralytics_yolov5_master/models/common.py:892: FutureWarning: `torch.cuda.amp.autocast(args...)` is deprecated. Please use `torch.amp.autocast('cuda', args...)` instead.\n",
            "  with amp.autocast(autocast):\n"
          ]
        },
        {
          "output_type": "stream",
          "name": "stdout",
          "text": [
            "Detections for @lobelia4cosmetics_12356.jpg:\n",
            "Empty DataFrame\n",
            "Columns: [name, confidence, xmin, ymin, xmax, ymax]\n",
            "Index: []\n"
          ]
        },
        {
          "output_type": "stream",
          "name": "stderr",
          "text": [
            "/root/.cache/torch/hub/ultralytics_yolov5_master/models/common.py:892: FutureWarning: `torch.cuda.amp.autocast(args...)` is deprecated. Please use `torch.amp.autocast('cuda', args...)` instead.\n",
            "  with amp.autocast(autocast):\n"
          ]
        },
        {
          "output_type": "stream",
          "name": "stdout",
          "text": [
            "Detections for @lobelia4cosmetics_12359.jpg:\n",
            "   name  confidence        xmin        ymin        xmax        ymax\n",
            "0  bowl    0.758214  140.742126  185.970306  275.191772  299.847687\n"
          ]
        },
        {
          "output_type": "stream",
          "name": "stderr",
          "text": [
            "/root/.cache/torch/hub/ultralytics_yolov5_master/models/common.py:892: FutureWarning: `torch.cuda.amp.autocast(args...)` is deprecated. Please use `torch.amp.autocast('cuda', args...)` instead.\n",
            "  with amp.autocast(autocast):\n"
          ]
        },
        {
          "output_type": "stream",
          "name": "stdout",
          "text": [
            "Detections for @lobelia4cosmetics_12357.jpg:\n",
            "Empty DataFrame\n",
            "Columns: [name, confidence, xmin, ymin, xmax, ymax]\n",
            "Index: []\n"
          ]
        },
        {
          "output_type": "stream",
          "name": "stderr",
          "text": [
            "/root/.cache/torch/hub/ultralytics_yolov5_master/models/common.py:892: FutureWarning: `torch.cuda.amp.autocast(args...)` is deprecated. Please use `torch.amp.autocast('cuda', args...)` instead.\n",
            "  with amp.autocast(autocast):\n"
          ]
        },
        {
          "output_type": "stream",
          "name": "stdout",
          "text": [
            "Detections for @lobelia4cosmetics_12358.jpg:\n",
            "Empty DataFrame\n",
            "Columns: [name, confidence, xmin, ymin, xmax, ymax]\n",
            "Index: []\n"
          ]
        },
        {
          "output_type": "stream",
          "name": "stderr",
          "text": [
            "/root/.cache/torch/hub/ultralytics_yolov5_master/models/common.py:892: FutureWarning: `torch.cuda.amp.autocast(args...)` is deprecated. Please use `torch.amp.autocast('cuda', args...)` instead.\n",
            "  with amp.autocast(autocast):\n"
          ]
        },
        {
          "output_type": "stream",
          "name": "stdout",
          "text": [
            "Detections for @lobelia4cosmetics_12352.jpg:\n",
            "Empty DataFrame\n",
            "Columns: [name, confidence, xmin, ymin, xmax, ymax]\n",
            "Index: []\n"
          ]
        },
        {
          "output_type": "stream",
          "name": "stderr",
          "text": [
            "/root/.cache/torch/hub/ultralytics_yolov5_master/models/common.py:892: FutureWarning: `torch.cuda.amp.autocast(args...)` is deprecated. Please use `torch.amp.autocast('cuda', args...)` instead.\n",
            "  with amp.autocast(autocast):\n"
          ]
        },
        {
          "output_type": "stream",
          "name": "stdout",
          "text": [
            "Detections for @lobelia4cosmetics_12355.jpg:\n",
            "Empty DataFrame\n",
            "Columns: [name, confidence, xmin, ymin, xmax, ymax]\n",
            "Index: []\n"
          ]
        },
        {
          "output_type": "stream",
          "name": "stderr",
          "text": [
            "/root/.cache/torch/hub/ultralytics_yolov5_master/models/common.py:892: FutureWarning: `torch.cuda.amp.autocast(args...)` is deprecated. Please use `torch.amp.autocast('cuda', args...)` instead.\n",
            "  with amp.autocast(autocast):\n"
          ]
        },
        {
          "output_type": "stream",
          "name": "stdout",
          "text": [
            "Detections for @lobelia4cosmetics_12354.jpg:\n",
            "Empty DataFrame\n",
            "Columns: [name, confidence, xmin, ymin, xmax, ymax]\n",
            "Index: []\n"
          ]
        },
        {
          "output_type": "stream",
          "name": "stderr",
          "text": [
            "/root/.cache/torch/hub/ultralytics_yolov5_master/models/common.py:892: FutureWarning: `torch.cuda.amp.autocast(args...)` is deprecated. Please use `torch.amp.autocast('cuda', args...)` instead.\n",
            "  with amp.autocast(autocast):\n"
          ]
        },
        {
          "output_type": "stream",
          "name": "stdout",
          "text": [
            "Detections for @lobelia4cosmetics_12350.jpg:\n",
            "Empty DataFrame\n",
            "Columns: [name, confidence, xmin, ymin, xmax, ymax]\n",
            "Index: []\n"
          ]
        },
        {
          "output_type": "stream",
          "name": "stderr",
          "text": [
            "/root/.cache/torch/hub/ultralytics_yolov5_master/models/common.py:892: FutureWarning: `torch.cuda.amp.autocast(args...)` is deprecated. Please use `torch.amp.autocast('cuda', args...)` instead.\n",
            "  with amp.autocast(autocast):\n"
          ]
        },
        {
          "output_type": "stream",
          "name": "stdout",
          "text": [
            "Detections for @lobelia4cosmetics_12351.jpg:\n",
            "Empty DataFrame\n",
            "Columns: [name, confidence, xmin, ymin, xmax, ymax]\n",
            "Index: []\n"
          ]
        },
        {
          "output_type": "stream",
          "name": "stderr",
          "text": [
            "/root/.cache/torch/hub/ultralytics_yolov5_master/models/common.py:892: FutureWarning: `torch.cuda.amp.autocast(args...)` is deprecated. Please use `torch.amp.autocast('cuda', args...)` instead.\n",
            "  with amp.autocast(autocast):\n"
          ]
        },
        {
          "output_type": "stream",
          "name": "stdout",
          "text": [
            "Detections for @lobelia4cosmetics_12347.jpg:\n",
            "Empty DataFrame\n",
            "Columns: [name, confidence, xmin, ymin, xmax, ymax]\n",
            "Index: []\n"
          ]
        },
        {
          "output_type": "stream",
          "name": "stderr",
          "text": [
            "/root/.cache/torch/hub/ultralytics_yolov5_master/models/common.py:892: FutureWarning: `torch.cuda.amp.autocast(args...)` is deprecated. Please use `torch.amp.autocast('cuda', args...)` instead.\n",
            "  with amp.autocast(autocast):\n"
          ]
        },
        {
          "output_type": "stream",
          "name": "stdout",
          "text": [
            "Detections for @lobelia4cosmetics_12349.jpg:\n",
            "Empty DataFrame\n",
            "Columns: [name, confidence, xmin, ymin, xmax, ymax]\n",
            "Index: []\n"
          ]
        },
        {
          "output_type": "stream",
          "name": "stderr",
          "text": [
            "/root/.cache/torch/hub/ultralytics_yolov5_master/models/common.py:892: FutureWarning: `torch.cuda.amp.autocast(args...)` is deprecated. Please use `torch.amp.autocast('cuda', args...)` instead.\n",
            "  with amp.autocast(autocast):\n"
          ]
        },
        {
          "output_type": "stream",
          "name": "stdout",
          "text": [
            "Detections for @lobelia4cosmetics_12346.jpg:\n",
            "     name  confidence        xmin       ymin        xmax         ymax\n",
            "0  bottle    0.302834  345.213257  27.171362  849.627319  1115.989014\n"
          ]
        },
        {
          "output_type": "stream",
          "name": "stderr",
          "text": [
            "/root/.cache/torch/hub/ultralytics_yolov5_master/models/common.py:892: FutureWarning: `torch.cuda.amp.autocast(args...)` is deprecated. Please use `torch.amp.autocast('cuda', args...)` instead.\n",
            "  with amp.autocast(autocast):\n"
          ]
        },
        {
          "output_type": "stream",
          "name": "stdout",
          "text": [
            "Detections for @lobelia4cosmetics_12345.jpg:\n",
            "Empty DataFrame\n",
            "Columns: [name, confidence, xmin, ymin, xmax, ymax]\n",
            "Index: []\n"
          ]
        },
        {
          "output_type": "stream",
          "name": "stderr",
          "text": [
            "/root/.cache/torch/hub/ultralytics_yolov5_master/models/common.py:892: FutureWarning: `torch.cuda.amp.autocast(args...)` is deprecated. Please use `torch.amp.autocast('cuda', args...)` instead.\n",
            "  with amp.autocast(autocast):\n"
          ]
        },
        {
          "output_type": "stream",
          "name": "stdout",
          "text": [
            "Detections for @lobelia4cosmetics_12348.jpg:\n",
            "Empty DataFrame\n",
            "Columns: [name, confidence, xmin, ymin, xmax, ymax]\n",
            "Index: []\n"
          ]
        },
        {
          "output_type": "stream",
          "name": "stderr",
          "text": [
            "/root/.cache/torch/hub/ultralytics_yolov5_master/models/common.py:892: FutureWarning: `torch.cuda.amp.autocast(args...)` is deprecated. Please use `torch.amp.autocast('cuda', args...)` instead.\n",
            "  with amp.autocast(autocast):\n"
          ]
        },
        {
          "output_type": "stream",
          "name": "stdout",
          "text": [
            "Detections for @lobelia4cosmetics_12344.jpg:\n",
            "Empty DataFrame\n",
            "Columns: [name, confidence, xmin, ymin, xmax, ymax]\n",
            "Index: []\n"
          ]
        },
        {
          "output_type": "stream",
          "name": "stderr",
          "text": [
            "/root/.cache/torch/hub/ultralytics_yolov5_master/models/common.py:892: FutureWarning: `torch.cuda.amp.autocast(args...)` is deprecated. Please use `torch.amp.autocast('cuda', args...)` instead.\n",
            "  with amp.autocast(autocast):\n"
          ]
        },
        {
          "output_type": "stream",
          "name": "stdout",
          "text": [
            "Detections for @lobelia4cosmetics_12342.jpg:\n",
            "Empty DataFrame\n",
            "Columns: [name, confidence, xmin, ymin, xmax, ymax]\n",
            "Index: []\n"
          ]
        },
        {
          "output_type": "stream",
          "name": "stderr",
          "text": [
            "/root/.cache/torch/hub/ultralytics_yolov5_master/models/common.py:892: FutureWarning: `torch.cuda.amp.autocast(args...)` is deprecated. Please use `torch.amp.autocast('cuda', args...)` instead.\n",
            "  with amp.autocast(autocast):\n"
          ]
        },
        {
          "output_type": "stream",
          "name": "stdout",
          "text": [
            "Detections for @lobelia4cosmetics_12341.jpg:\n",
            "Empty DataFrame\n",
            "Columns: [name, confidence, xmin, ymin, xmax, ymax]\n",
            "Index: []\n"
          ]
        },
        {
          "output_type": "stream",
          "name": "stderr",
          "text": [
            "/root/.cache/torch/hub/ultralytics_yolov5_master/models/common.py:892: FutureWarning: `torch.cuda.amp.autocast(args...)` is deprecated. Please use `torch.amp.autocast('cuda', args...)` instead.\n",
            "  with amp.autocast(autocast):\n"
          ]
        },
        {
          "output_type": "stream",
          "name": "stdout",
          "text": [
            "Detections for @lobelia4cosmetics_12343.jpg:\n",
            "Empty DataFrame\n",
            "Columns: [name, confidence, xmin, ymin, xmax, ymax]\n",
            "Index: []\n"
          ]
        },
        {
          "output_type": "stream",
          "name": "stderr",
          "text": [
            "/root/.cache/torch/hub/ultralytics_yolov5_master/models/common.py:892: FutureWarning: `torch.cuda.amp.autocast(args...)` is deprecated. Please use `torch.amp.autocast('cuda', args...)` instead.\n",
            "  with amp.autocast(autocast):\n"
          ]
        },
        {
          "output_type": "stream",
          "name": "stdout",
          "text": [
            "Detections for @lobelia4cosmetics_12340.jpg:\n",
            "   name  confidence        xmin       ymin        xmax       ymax\n",
            "0  vase    0.292412  168.964172  53.658703  333.268677  490.41272\n"
          ]
        },
        {
          "output_type": "stream",
          "name": "stderr",
          "text": [
            "/root/.cache/torch/hub/ultralytics_yolov5_master/models/common.py:892: FutureWarning: `torch.cuda.amp.autocast(args...)` is deprecated. Please use `torch.amp.autocast('cuda', args...)` instead.\n",
            "  with amp.autocast(autocast):\n"
          ]
        },
        {
          "output_type": "stream",
          "name": "stdout",
          "text": [
            "Detections for @lobelia4cosmetics_12339.jpg:\n",
            "     name  confidence        xmin        ymin        xmax        ymax\n",
            "0    bowl    0.402802  253.954697  577.395630  773.615356  992.039612\n",
            "1  banana    0.394988  411.241547  714.862244  610.666504  812.792786\n",
            "2  person    0.347361  299.261932   28.593136  712.929443  520.661438\n",
            "3  banana    0.290594  592.595093  791.921631  635.678162  824.548340\n"
          ]
        },
        {
          "output_type": "stream",
          "name": "stderr",
          "text": [
            "/root/.cache/torch/hub/ultralytics_yolov5_master/models/common.py:892: FutureWarning: `torch.cuda.amp.autocast(args...)` is deprecated. Please use `torch.amp.autocast('cuda', args...)` instead.\n",
            "  with amp.autocast(autocast):\n"
          ]
        },
        {
          "output_type": "stream",
          "name": "stdout",
          "text": [
            "Detections for @lobelia4cosmetics_12338.jpg:\n",
            "     name  confidence       xmin        ymin        xmax        ymax\n",
            "0  person    0.526795  71.351341  271.467834  201.004105  451.916229\n",
            "1  person    0.271554  70.582901  270.818848  133.516663  421.879883\n"
          ]
        },
        {
          "output_type": "stream",
          "name": "stderr",
          "text": [
            "/root/.cache/torch/hub/ultralytics_yolov5_master/models/common.py:892: FutureWarning: `torch.cuda.amp.autocast(args...)` is deprecated. Please use `torch.amp.autocast('cuda', args...)` instead.\n",
            "  with amp.autocast(autocast):\n"
          ]
        },
        {
          "output_type": "stream",
          "name": "stdout",
          "text": [
            "Detections for @lobelia4cosmetics_12268.jpg:\n",
            "Empty DataFrame\n",
            "Columns: [name, confidence, xmin, ymin, xmax, ymax]\n",
            "Index: []\n"
          ]
        },
        {
          "output_type": "stream",
          "name": "stderr",
          "text": [
            "/root/.cache/torch/hub/ultralytics_yolov5_master/models/common.py:892: FutureWarning: `torch.cuda.amp.autocast(args...)` is deprecated. Please use `torch.amp.autocast('cuda', args...)` instead.\n",
            "  with amp.autocast(autocast):\n"
          ]
        },
        {
          "output_type": "stream",
          "name": "stdout",
          "text": [
            "Detections for @lobelia4cosmetics_12335.jpg:\n",
            "     name  confidence        xmin        ymin        xmax         ymax\n",
            "0  person    0.854438  386.629089  569.150818  798.967346  1072.493408\n"
          ]
        },
        {
          "output_type": "stream",
          "name": "stderr",
          "text": [
            "/root/.cache/torch/hub/ultralytics_yolov5_master/models/common.py:892: FutureWarning: `torch.cuda.amp.autocast(args...)` is deprecated. Please use `torch.amp.autocast('cuda', args...)` instead.\n",
            "  with amp.autocast(autocast):\n"
          ]
        },
        {
          "output_type": "stream",
          "name": "stdout",
          "text": [
            "Detections for @lobelia4cosmetics_12336.jpg:\n",
            "     name  confidence        xmin        ymin        xmax        ymax\n",
            "0  banana    0.321508  833.838074  428.316528  923.337952  526.941895\n",
            "1   donut    0.268656  504.534119  675.769714  586.381958  745.471985\n"
          ]
        },
        {
          "output_type": "stream",
          "name": "stderr",
          "text": [
            "/root/.cache/torch/hub/ultralytics_yolov5_master/models/common.py:892: FutureWarning: `torch.cuda.amp.autocast(args...)` is deprecated. Please use `torch.amp.autocast('cuda', args...)` instead.\n",
            "  with amp.autocast(autocast):\n"
          ]
        },
        {
          "output_type": "stream",
          "name": "stdout",
          "text": [
            "Detections for @lobelia4cosmetics_12333.jpg:\n",
            "Empty DataFrame\n",
            "Columns: [name, confidence, xmin, ymin, xmax, ymax]\n",
            "Index: []\n"
          ]
        },
        {
          "output_type": "stream",
          "name": "stderr",
          "text": [
            "/root/.cache/torch/hub/ultralytics_yolov5_master/models/common.py:892: FutureWarning: `torch.cuda.amp.autocast(args...)` is deprecated. Please use `torch.amp.autocast('cuda', args...)` instead.\n",
            "  with amp.autocast(autocast):\n"
          ]
        },
        {
          "output_type": "stream",
          "name": "stdout",
          "text": [
            "Detections for @lobelia4cosmetics_12332.jpg:\n",
            "    name  confidence        xmin        ymin        xmax         ymax\n",
            "0  clock    0.653354  297.035736  174.852615  875.716736   759.952576\n",
            "1  donut    0.390350  404.631073  923.974426  492.100800  1016.315857\n",
            "2  donut    0.312811  616.030823  964.383850  712.616760  1078.172852\n",
            "3   fork    0.258616  755.290771  796.080139  999.244934  1011.520569\n"
          ]
        },
        {
          "output_type": "stream",
          "name": "stderr",
          "text": [
            "/root/.cache/torch/hub/ultralytics_yolov5_master/models/common.py:892: FutureWarning: `torch.cuda.amp.autocast(args...)` is deprecated. Please use `torch.amp.autocast('cuda', args...)` instead.\n",
            "  with amp.autocast(autocast):\n"
          ]
        },
        {
          "output_type": "stream",
          "name": "stdout",
          "text": [
            "Detections for @lobelia4cosmetics_12330.jpg:\n",
            "     name  confidence        xmin        ymin        xmax         ymax\n",
            "0  bottle    0.442316  627.069946  268.439514  945.952393  1198.739502\n"
          ]
        },
        {
          "output_type": "stream",
          "name": "stderr",
          "text": [
            "/root/.cache/torch/hub/ultralytics_yolov5_master/models/common.py:892: FutureWarning: `torch.cuda.amp.autocast(args...)` is deprecated. Please use `torch.amp.autocast('cuda', args...)` instead.\n",
            "  with amp.autocast(autocast):\n"
          ]
        },
        {
          "output_type": "stream",
          "name": "stdout",
          "text": [
            "Detections for @lobelia4cosmetics_12334.jpg:\n",
            "Empty DataFrame\n",
            "Columns: [name, confidence, xmin, ymin, xmax, ymax]\n",
            "Index: []\n"
          ]
        },
        {
          "output_type": "stream",
          "name": "stderr",
          "text": [
            "/root/.cache/torch/hub/ultralytics_yolov5_master/models/common.py:892: FutureWarning: `torch.cuda.amp.autocast(args...)` is deprecated. Please use `torch.amp.autocast('cuda', args...)` instead.\n",
            "  with amp.autocast(autocast):\n"
          ]
        },
        {
          "output_type": "stream",
          "name": "stdout",
          "text": [
            "Detections for @lobelia4cosmetics_12331.jpg:\n",
            "     name  confidence        xmin        ymin        xmax        ymax\n",
            "0  person    0.892511  432.249756  421.728455  764.422974  903.556335\n"
          ]
        },
        {
          "output_type": "stream",
          "name": "stderr",
          "text": [
            "/root/.cache/torch/hub/ultralytics_yolov5_master/models/common.py:892: FutureWarning: `torch.cuda.amp.autocast(args...)` is deprecated. Please use `torch.amp.autocast('cuda', args...)` instead.\n",
            "  with amp.autocast(autocast):\n"
          ]
        },
        {
          "output_type": "stream",
          "name": "stdout",
          "text": [
            "Detections for @lobelia4cosmetics_12329.jpg:\n",
            "Empty DataFrame\n",
            "Columns: [name, confidence, xmin, ymin, xmax, ymax]\n",
            "Index: []\n"
          ]
        },
        {
          "output_type": "stream",
          "name": "stderr",
          "text": [
            "/root/.cache/torch/hub/ultralytics_yolov5_master/models/common.py:892: FutureWarning: `torch.cuda.amp.autocast(args...)` is deprecated. Please use `torch.amp.autocast('cuda', args...)` instead.\n",
            "  with amp.autocast(autocast):\n"
          ]
        },
        {
          "output_type": "stream",
          "name": "stdout",
          "text": [
            "Detections for @lobelia4cosmetics_12328.jpg:\n",
            "     name  confidence        xmin        ymin        xmax         ymax\n",
            "0  bottle    0.332959  320.581512  224.795502  637.528076  1200.781372\n"
          ]
        },
        {
          "output_type": "stream",
          "name": "stderr",
          "text": [
            "/root/.cache/torch/hub/ultralytics_yolov5_master/models/common.py:892: FutureWarning: `torch.cuda.amp.autocast(args...)` is deprecated. Please use `torch.amp.autocast('cuda', args...)` instead.\n",
            "  with amp.autocast(autocast):\n"
          ]
        },
        {
          "output_type": "stream",
          "name": "stdout",
          "text": [
            "Detections for @lobelia4cosmetics_12319.jpg:\n",
            "Empty DataFrame\n",
            "Columns: [name, confidence, xmin, ymin, xmax, ymax]\n",
            "Index: []\n"
          ]
        },
        {
          "output_type": "stream",
          "name": "stderr",
          "text": [
            "/root/.cache/torch/hub/ultralytics_yolov5_master/models/common.py:892: FutureWarning: `torch.cuda.amp.autocast(args...)` is deprecated. Please use `torch.amp.autocast('cuda', args...)` instead.\n",
            "  with amp.autocast(autocast):\n"
          ]
        },
        {
          "output_type": "stream",
          "name": "stdout",
          "text": [
            "Detections for @lobelia4cosmetics_12326.jpg:\n",
            "  name  confidence        xmin        ymin        xmax         ymax\n",
            "0  cup    0.789148  360.245972  782.216064  641.896912  1073.364258\n"
          ]
        },
        {
          "output_type": "stream",
          "name": "stderr",
          "text": [
            "/root/.cache/torch/hub/ultralytics_yolov5_master/models/common.py:892: FutureWarning: `torch.cuda.amp.autocast(args...)` is deprecated. Please use `torch.amp.autocast('cuda', args...)` instead.\n",
            "  with amp.autocast(autocast):\n"
          ]
        },
        {
          "output_type": "stream",
          "name": "stdout",
          "text": [
            "Detections for @lobelia4cosmetics_12327.jpg:\n",
            "     name  confidence        xmin        ymin        xmax         ymax\n",
            "0    book    0.575717  254.181519  912.326172  782.529419  1020.054077\n",
            "1  person    0.330362  591.487854  481.116455  765.717163   928.665039\n"
          ]
        },
        {
          "output_type": "stream",
          "name": "stderr",
          "text": [
            "/root/.cache/torch/hub/ultralytics_yolov5_master/models/common.py:892: FutureWarning: `torch.cuda.amp.autocast(args...)` is deprecated. Please use `torch.amp.autocast('cuda', args...)` instead.\n",
            "  with amp.autocast(autocast):\n"
          ]
        },
        {
          "output_type": "stream",
          "name": "stdout",
          "text": [
            "Detections for @lobelia4cosmetics_12323.jpg:\n",
            "     name  confidence        xmin       ymin        xmax         ymax\n",
            "0  bottle    0.302834  345.213257  27.171362  849.627319  1115.989014\n"
          ]
        },
        {
          "output_type": "stream",
          "name": "stderr",
          "text": [
            "/root/.cache/torch/hub/ultralytics_yolov5_master/models/common.py:892: FutureWarning: `torch.cuda.amp.autocast(args...)` is deprecated. Please use `torch.amp.autocast('cuda', args...)` instead.\n",
            "  with amp.autocast(autocast):\n"
          ]
        },
        {
          "output_type": "stream",
          "name": "stdout",
          "text": [
            "Detections for @lobelia4cosmetics_12322.jpg:\n",
            "  name  confidence      xmin        ymin        xmax        ymax\n",
            "0  cup     0.31478  5.207787  249.310028  301.134003  793.937805\n"
          ]
        },
        {
          "output_type": "stream",
          "name": "stderr",
          "text": [
            "/root/.cache/torch/hub/ultralytics_yolov5_master/models/common.py:892: FutureWarning: `torch.cuda.amp.autocast(args...)` is deprecated. Please use `torch.amp.autocast('cuda', args...)` instead.\n",
            "  with amp.autocast(autocast):\n"
          ]
        },
        {
          "output_type": "stream",
          "name": "stdout",
          "text": [
            "Detections for @lobelia4cosmetics_12325.jpg:\n",
            "Empty DataFrame\n",
            "Columns: [name, confidence, xmin, ymin, xmax, ymax]\n",
            "Index: []\n"
          ]
        },
        {
          "output_type": "stream",
          "name": "stderr",
          "text": [
            "/root/.cache/torch/hub/ultralytics_yolov5_master/models/common.py:892: FutureWarning: `torch.cuda.amp.autocast(args...)` is deprecated. Please use `torch.amp.autocast('cuda', args...)` instead.\n",
            "  with amp.autocast(autocast):\n"
          ]
        },
        {
          "output_type": "stream",
          "name": "stdout",
          "text": [
            "Detections for @lobelia4cosmetics_12321.jpg:\n",
            "Empty DataFrame\n",
            "Columns: [name, confidence, xmin, ymin, xmax, ymax]\n",
            "Index: []\n"
          ]
        },
        {
          "output_type": "stream",
          "name": "stderr",
          "text": [
            "/root/.cache/torch/hub/ultralytics_yolov5_master/models/common.py:892: FutureWarning: `torch.cuda.amp.autocast(args...)` is deprecated. Please use `torch.amp.autocast('cuda', args...)` instead.\n",
            "  with amp.autocast(autocast):\n"
          ]
        },
        {
          "output_type": "stream",
          "name": "stdout",
          "text": [
            "Detections for @lobelia4cosmetics_12324.jpg:\n",
            "Empty DataFrame\n",
            "Columns: [name, confidence, xmin, ymin, xmax, ymax]\n",
            "Index: []\n"
          ]
        },
        {
          "output_type": "stream",
          "name": "stderr",
          "text": [
            "/root/.cache/torch/hub/ultralytics_yolov5_master/models/common.py:892: FutureWarning: `torch.cuda.amp.autocast(args...)` is deprecated. Please use `torch.amp.autocast('cuda', args...)` instead.\n",
            "  with amp.autocast(autocast):\n"
          ]
        },
        {
          "output_type": "stream",
          "name": "stdout",
          "text": [
            "Detections for @lobelia4cosmetics_12320.jpg:\n",
            "Empty DataFrame\n",
            "Columns: [name, confidence, xmin, ymin, xmax, ymax]\n",
            "Index: []\n"
          ]
        },
        {
          "output_type": "stream",
          "name": "stderr",
          "text": [
            "/root/.cache/torch/hub/ultralytics_yolov5_master/models/common.py:892: FutureWarning: `torch.cuda.amp.autocast(args...)` is deprecated. Please use `torch.amp.autocast('cuda', args...)` instead.\n",
            "  with amp.autocast(autocast):\n"
          ]
        },
        {
          "output_type": "stream",
          "name": "stdout",
          "text": [
            "Detections for @lobelia4cosmetics_12318.jpg:\n",
            "Empty DataFrame\n",
            "Columns: [name, confidence, xmin, ymin, xmax, ymax]\n",
            "Index: []\n"
          ]
        },
        {
          "output_type": "stream",
          "name": "stderr",
          "text": [
            "/root/.cache/torch/hub/ultralytics_yolov5_master/models/common.py:892: FutureWarning: `torch.cuda.amp.autocast(args...)` is deprecated. Please use `torch.amp.autocast('cuda', args...)` instead.\n",
            "  with amp.autocast(autocast):\n"
          ]
        },
        {
          "output_type": "stream",
          "name": "stdout",
          "text": [
            "Detections for @lobelia4cosmetics_12317.jpg:\n",
            "Empty DataFrame\n",
            "Columns: [name, confidence, xmin, ymin, xmax, ymax]\n",
            "Index: []\n"
          ]
        },
        {
          "output_type": "stream",
          "name": "stderr",
          "text": [
            "/root/.cache/torch/hub/ultralytics_yolov5_master/models/common.py:892: FutureWarning: `torch.cuda.amp.autocast(args...)` is deprecated. Please use `torch.amp.autocast('cuda', args...)` instead.\n",
            "  with amp.autocast(autocast):\n"
          ]
        },
        {
          "output_type": "stream",
          "name": "stdout",
          "text": [
            "Detections for @lobelia4cosmetics_12474.jpg:\n",
            "Empty DataFrame\n",
            "Columns: [name, confidence, xmin, ymin, xmax, ymax]\n",
            "Index: []\n"
          ]
        },
        {
          "output_type": "stream",
          "name": "stderr",
          "text": [
            "/root/.cache/torch/hub/ultralytics_yolov5_master/models/common.py:892: FutureWarning: `torch.cuda.amp.autocast(args...)` is deprecated. Please use `torch.amp.autocast('cuda', args...)` instead.\n",
            "  with amp.autocast(autocast):\n"
          ]
        },
        {
          "output_type": "stream",
          "name": "stdout",
          "text": [
            "Detections for @lobelia4cosmetics_12471.jpg:\n",
            "     name  confidence        xmin        ymin        xmax        ymax\n",
            "0  person    0.892511  432.249756  421.728455  764.422974  903.556335\n"
          ]
        },
        {
          "output_type": "stream",
          "name": "stderr",
          "text": [
            "/root/.cache/torch/hub/ultralytics_yolov5_master/models/common.py:892: FutureWarning: `torch.cuda.amp.autocast(args...)` is deprecated. Please use `torch.amp.autocast('cuda', args...)` instead.\n",
            "  with amp.autocast(autocast):\n"
          ]
        },
        {
          "output_type": "stream",
          "name": "stdout",
          "text": [
            "Detections for @lobelia4cosmetics_12475.jpg:\n",
            "     name  confidence        xmin      ymin        xmax        ymax\n",
            "0  bottle     0.29258  349.462494  84.01532  677.192017  931.666016\n"
          ]
        },
        {
          "output_type": "stream",
          "name": "stderr",
          "text": [
            "/root/.cache/torch/hub/ultralytics_yolov5_master/models/common.py:892: FutureWarning: `torch.cuda.amp.autocast(args...)` is deprecated. Please use `torch.amp.autocast('cuda', args...)` instead.\n",
            "  with amp.autocast(autocast):\n"
          ]
        },
        {
          "output_type": "stream",
          "name": "stdout",
          "text": [
            "Detections for @lobelia4cosmetics_12476.jpg:\n",
            "Empty DataFrame\n",
            "Columns: [name, confidence, xmin, ymin, xmax, ymax]\n",
            "Index: []\n"
          ]
        },
        {
          "output_type": "stream",
          "name": "stderr",
          "text": [
            "/root/.cache/torch/hub/ultralytics_yolov5_master/models/common.py:892: FutureWarning: `torch.cuda.amp.autocast(args...)` is deprecated. Please use `torch.amp.autocast('cuda', args...)` instead.\n",
            "  with amp.autocast(autocast):\n"
          ]
        },
        {
          "output_type": "stream",
          "name": "stdout",
          "text": [
            "Detections for @lobelia4cosmetics_12470.jpg:\n",
            "     name  confidence        xmin        ymin        xmax         ymax\n",
            "0  bottle    0.442316  627.069946  268.439514  945.952393  1198.739502\n"
          ]
        },
        {
          "output_type": "stream",
          "name": "stderr",
          "text": [
            "/root/.cache/torch/hub/ultralytics_yolov5_master/models/common.py:892: FutureWarning: `torch.cuda.amp.autocast(args...)` is deprecated. Please use `torch.amp.autocast('cuda', args...)` instead.\n",
            "  with amp.autocast(autocast):\n"
          ]
        },
        {
          "output_type": "stream",
          "name": "stdout",
          "text": [
            "Detections for @lobelia4cosmetics_12473.jpg:\n",
            "Empty DataFrame\n",
            "Columns: [name, confidence, xmin, ymin, xmax, ymax]\n",
            "Index: []\n"
          ]
        },
        {
          "output_type": "stream",
          "name": "stderr",
          "text": [
            "/root/.cache/torch/hub/ultralytics_yolov5_master/models/common.py:892: FutureWarning: `torch.cuda.amp.autocast(args...)` is deprecated. Please use `torch.amp.autocast('cuda', args...)` instead.\n",
            "  with amp.autocast(autocast):\n"
          ]
        },
        {
          "output_type": "stream",
          "name": "stdout",
          "text": [
            "Detections for @lobelia4cosmetics_12468.jpg:\n",
            "     name  confidence        xmin        ymin        xmax         ymax\n",
            "0  bottle    0.332959  320.581512  224.795502  637.528076  1200.781372\n"
          ]
        },
        {
          "output_type": "stream",
          "name": "stderr",
          "text": [
            "/root/.cache/torch/hub/ultralytics_yolov5_master/models/common.py:892: FutureWarning: `torch.cuda.amp.autocast(args...)` is deprecated. Please use `torch.amp.autocast('cuda', args...)` instead.\n",
            "  with amp.autocast(autocast):\n"
          ]
        },
        {
          "output_type": "stream",
          "name": "stdout",
          "text": [
            "Detections for @lobelia4cosmetics_12467.jpg:\n",
            "  name  confidence      xmin        ymin        xmax        ymax\n",
            "0  cup     0.31478  5.207787  249.310028  301.134003  793.937805\n"
          ]
        },
        {
          "output_type": "stream",
          "name": "stderr",
          "text": [
            "/root/.cache/torch/hub/ultralytics_yolov5_master/models/common.py:892: FutureWarning: `torch.cuda.amp.autocast(args...)` is deprecated. Please use `torch.amp.autocast('cuda', args...)` instead.\n",
            "  with amp.autocast(autocast):\n"
          ]
        },
        {
          "output_type": "stream",
          "name": "stdout",
          "text": [
            "Detections for @lobelia4cosmetics_12469.jpg:\n",
            "Empty DataFrame\n",
            "Columns: [name, confidence, xmin, ymin, xmax, ymax]\n",
            "Index: []\n"
          ]
        },
        {
          "output_type": "stream",
          "name": "stderr",
          "text": [
            "/root/.cache/torch/hub/ultralytics_yolov5_master/models/common.py:892: FutureWarning: `torch.cuda.amp.autocast(args...)` is deprecated. Please use `torch.amp.autocast('cuda', args...)` instead.\n",
            "  with amp.autocast(autocast):\n"
          ]
        },
        {
          "output_type": "stream",
          "name": "stdout",
          "text": [
            "Detections for @lobelia4cosmetics_12464.jpg:\n",
            "Empty DataFrame\n",
            "Columns: [name, confidence, xmin, ymin, xmax, ymax]\n",
            "Index: []\n"
          ]
        },
        {
          "output_type": "stream",
          "name": "stderr",
          "text": [
            "/root/.cache/torch/hub/ultralytics_yolov5_master/models/common.py:892: FutureWarning: `torch.cuda.amp.autocast(args...)` is deprecated. Please use `torch.amp.autocast('cuda', args...)` instead.\n",
            "  with amp.autocast(autocast):\n"
          ]
        },
        {
          "output_type": "stream",
          "name": "stdout",
          "text": [
            "Detections for @lobelia4cosmetics_12466.jpg:\n",
            "Empty DataFrame\n",
            "Columns: [name, confidence, xmin, ymin, xmax, ymax]\n",
            "Index: []\n"
          ]
        },
        {
          "output_type": "stream",
          "name": "stderr",
          "text": [
            "/root/.cache/torch/hub/ultralytics_yolov5_master/models/common.py:892: FutureWarning: `torch.cuda.amp.autocast(args...)` is deprecated. Please use `torch.amp.autocast('cuda', args...)` instead.\n",
            "  with amp.autocast(autocast):\n"
          ]
        },
        {
          "output_type": "stream",
          "name": "stdout",
          "text": [
            "Detections for @lobelia4cosmetics_12460.jpg:\n",
            "     name  confidence        xmin        ymin        xmax        ymax\n",
            "0  person    0.861932  649.881348  564.329102  956.756958  946.794189\n"
          ]
        },
        {
          "output_type": "stream",
          "name": "stderr",
          "text": [
            "/root/.cache/torch/hub/ultralytics_yolov5_master/models/common.py:892: FutureWarning: `torch.cuda.amp.autocast(args...)` is deprecated. Please use `torch.amp.autocast('cuda', args...)` instead.\n",
            "  with amp.autocast(autocast):\n"
          ]
        },
        {
          "output_type": "stream",
          "name": "stdout",
          "text": [
            "Detections for @lobelia4cosmetics_12462.jpg:\n",
            "           name  confidence        xmin        ymin        xmax        ymax\n",
            "0        bottle    0.428630  456.905365  198.558517  682.092651  743.703552\n",
            "1        bottle    0.335330  178.539627  239.647293  373.393646  718.351379\n",
            "2  refrigerator    0.328699   31.581835   45.389477  380.216492  733.392578\n"
          ]
        },
        {
          "output_type": "stream",
          "name": "stderr",
          "text": [
            "/root/.cache/torch/hub/ultralytics_yolov5_master/models/common.py:892: FutureWarning: `torch.cuda.amp.autocast(args...)` is deprecated. Please use `torch.amp.autocast('cuda', args...)` instead.\n",
            "  with amp.autocast(autocast):\n"
          ]
        },
        {
          "output_type": "stream",
          "name": "stdout",
          "text": [
            "Detections for @lobelia4cosmetics_12465.jpg:\n",
            "Empty DataFrame\n",
            "Columns: [name, confidence, xmin, ymin, xmax, ymax]\n",
            "Index: []\n"
          ]
        },
        {
          "output_type": "stream",
          "name": "stderr",
          "text": [
            "/root/.cache/torch/hub/ultralytics_yolov5_master/models/common.py:892: FutureWarning: `torch.cuda.amp.autocast(args...)` is deprecated. Please use `torch.amp.autocast('cuda', args...)` instead.\n",
            "  with amp.autocast(autocast):\n"
          ]
        },
        {
          "output_type": "stream",
          "name": "stdout",
          "text": [
            "Detections for @lobelia4cosmetics_12463.jpg:\n",
            "Empty DataFrame\n",
            "Columns: [name, confidence, xmin, ymin, xmax, ymax]\n",
            "Index: []\n"
          ]
        },
        {
          "output_type": "stream",
          "name": "stderr",
          "text": [
            "/root/.cache/torch/hub/ultralytics_yolov5_master/models/common.py:892: FutureWarning: `torch.cuda.amp.autocast(args...)` is deprecated. Please use `torch.amp.autocast('cuda', args...)` instead.\n",
            "  with amp.autocast(autocast):\n"
          ]
        },
        {
          "output_type": "stream",
          "name": "stdout",
          "text": [
            "Detections for @lobelia4cosmetics_12461.jpg:\n",
            "   name  confidence        xmin        ymin        xmax         ymax\n",
            "0  book    0.482332  365.499969  378.548462  844.715637  1174.012207\n"
          ]
        },
        {
          "output_type": "stream",
          "name": "stderr",
          "text": [
            "/root/.cache/torch/hub/ultralytics_yolov5_master/models/common.py:892: FutureWarning: `torch.cuda.amp.autocast(args...)` is deprecated. Please use `torch.amp.autocast('cuda', args...)` instead.\n",
            "  with amp.autocast(autocast):\n"
          ]
        },
        {
          "output_type": "stream",
          "name": "stdout",
          "text": [
            "Detections for @lobelia4cosmetics_12456.jpg:\n",
            "Empty DataFrame\n",
            "Columns: [name, confidence, xmin, ymin, xmax, ymax]\n",
            "Index: []\n"
          ]
        },
        {
          "output_type": "stream",
          "name": "stderr",
          "text": [
            "/root/.cache/torch/hub/ultralytics_yolov5_master/models/common.py:892: FutureWarning: `torch.cuda.amp.autocast(args...)` is deprecated. Please use `torch.amp.autocast('cuda', args...)` instead.\n",
            "  with amp.autocast(autocast):\n"
          ]
        },
        {
          "output_type": "stream",
          "name": "stdout",
          "text": [
            "Detections for @lobelia4cosmetics_12458.jpg:\n",
            "Empty DataFrame\n",
            "Columns: [name, confidence, xmin, ymin, xmax, ymax]\n",
            "Index: []\n"
          ]
        },
        {
          "output_type": "stream",
          "name": "stderr",
          "text": [
            "/root/.cache/torch/hub/ultralytics_yolov5_master/models/common.py:892: FutureWarning: `torch.cuda.amp.autocast(args...)` is deprecated. Please use `torch.amp.autocast('cuda', args...)` instead.\n",
            "  with amp.autocast(autocast):\n"
          ]
        },
        {
          "output_type": "stream",
          "name": "stdout",
          "text": [
            "Detections for @lobelia4cosmetics_12459.jpg:\n",
            "Empty DataFrame\n",
            "Columns: [name, confidence, xmin, ymin, xmax, ymax]\n",
            "Index: []\n"
          ]
        },
        {
          "output_type": "stream",
          "name": "stderr",
          "text": [
            "/root/.cache/torch/hub/ultralytics_yolov5_master/models/common.py:892: FutureWarning: `torch.cuda.amp.autocast(args...)` is deprecated. Please use `torch.amp.autocast('cuda', args...)` instead.\n",
            "  with amp.autocast(autocast):\n"
          ]
        },
        {
          "output_type": "stream",
          "name": "stdout",
          "text": [
            "Detections for @lobelia4cosmetics_12457.jpg:\n",
            "  name  confidence       xmin        ymin        xmax        ymax\n",
            "0  cup    0.646768  71.777611  245.878174  149.468277  308.447205\n"
          ]
        },
        {
          "output_type": "stream",
          "name": "stderr",
          "text": [
            "/root/.cache/torch/hub/ultralytics_yolov5_master/models/common.py:892: FutureWarning: `torch.cuda.amp.autocast(args...)` is deprecated. Please use `torch.amp.autocast('cuda', args...)` instead.\n",
            "  with amp.autocast(autocast):\n"
          ]
        },
        {
          "output_type": "stream",
          "name": "stdout",
          "text": [
            "Detections for @lobelia4cosmetics_12454.jpg:\n",
            "     name  confidence        xmin        ymin        xmax        ymax\n",
            "0  person    0.542076  316.487823  259.227722  515.913269  582.338013\n"
          ]
        },
        {
          "output_type": "stream",
          "name": "stderr",
          "text": [
            "/root/.cache/torch/hub/ultralytics_yolov5_master/models/common.py:892: FutureWarning: `torch.cuda.amp.autocast(args...)` is deprecated. Please use `torch.amp.autocast('cuda', args...)` instead.\n",
            "  with amp.autocast(autocast):\n"
          ]
        },
        {
          "output_type": "stream",
          "name": "stdout",
          "text": [
            "Detections for @lobelia4cosmetics_12455.jpg:\n",
            "Empty DataFrame\n",
            "Columns: [name, confidence, xmin, ymin, xmax, ymax]\n",
            "Index: []\n"
          ]
        },
        {
          "output_type": "stream",
          "name": "stderr",
          "text": [
            "/root/.cache/torch/hub/ultralytics_yolov5_master/models/common.py:892: FutureWarning: `torch.cuda.amp.autocast(args...)` is deprecated. Please use `torch.amp.autocast('cuda', args...)` instead.\n",
            "  with amp.autocast(autocast):\n"
          ]
        },
        {
          "output_type": "stream",
          "name": "stdout",
          "text": [
            "Detections for @lobelia4cosmetics_12453.jpg:\n",
            "Empty DataFrame\n",
            "Columns: [name, confidence, xmin, ymin, xmax, ymax]\n",
            "Index: []\n"
          ]
        },
        {
          "output_type": "stream",
          "name": "stderr",
          "text": [
            "/root/.cache/torch/hub/ultralytics_yolov5_master/models/common.py:892: FutureWarning: `torch.cuda.amp.autocast(args...)` is deprecated. Please use `torch.amp.autocast('cuda', args...)` instead.\n",
            "  with amp.autocast(autocast):\n"
          ]
        },
        {
          "output_type": "stream",
          "name": "stdout",
          "text": [
            "Detections for @lobelia4cosmetics_12452.jpg:\n",
            "Empty DataFrame\n",
            "Columns: [name, confidence, xmin, ymin, xmax, ymax]\n",
            "Index: []\n"
          ]
        },
        {
          "output_type": "stream",
          "name": "stderr",
          "text": [
            "/root/.cache/torch/hub/ultralytics_yolov5_master/models/common.py:892: FutureWarning: `torch.cuda.amp.autocast(args...)` is deprecated. Please use `torch.amp.autocast('cuda', args...)` instead.\n",
            "  with amp.autocast(autocast):\n"
          ]
        },
        {
          "output_type": "stream",
          "name": "stdout",
          "text": [
            "Detections for @lobelia4cosmetics_12451.jpg:\n",
            "Empty DataFrame\n",
            "Columns: [name, confidence, xmin, ymin, xmax, ymax]\n",
            "Index: []\n"
          ]
        },
        {
          "output_type": "stream",
          "name": "stderr",
          "text": [
            "/root/.cache/torch/hub/ultralytics_yolov5_master/models/common.py:892: FutureWarning: `torch.cuda.amp.autocast(args...)` is deprecated. Please use `torch.amp.autocast('cuda', args...)` instead.\n",
            "  with amp.autocast(autocast):\n"
          ]
        },
        {
          "output_type": "stream",
          "name": "stdout",
          "text": [
            "Detections for @lobelia4cosmetics_12449.jpg:\n",
            "Empty DataFrame\n",
            "Columns: [name, confidence, xmin, ymin, xmax, ymax]\n",
            "Index: []\n"
          ]
        },
        {
          "output_type": "stream",
          "name": "stderr",
          "text": [
            "/root/.cache/torch/hub/ultralytics_yolov5_master/models/common.py:892: FutureWarning: `torch.cuda.amp.autocast(args...)` is deprecated. Please use `torch.amp.autocast('cuda', args...)` instead.\n",
            "  with amp.autocast(autocast):\n"
          ]
        },
        {
          "output_type": "stream",
          "name": "stdout",
          "text": [
            "Detections for @lobelia4cosmetics_12450.jpg:\n",
            "Empty DataFrame\n",
            "Columns: [name, confidence, xmin, ymin, xmax, ymax]\n",
            "Index: []\n"
          ]
        },
        {
          "output_type": "stream",
          "name": "stderr",
          "text": [
            "/root/.cache/torch/hub/ultralytics_yolov5_master/models/common.py:892: FutureWarning: `torch.cuda.amp.autocast(args...)` is deprecated. Please use `torch.amp.autocast('cuda', args...)` instead.\n",
            "  with amp.autocast(autocast):\n"
          ]
        },
        {
          "output_type": "stream",
          "name": "stdout",
          "text": [
            "Detections for @lobelia4cosmetics_12448.jpg:\n",
            "     name  confidence        xmin        ymin        xmax        ymax\n",
            "0  person    0.892511  432.249756  421.728455  764.422974  903.556335\n"
          ]
        },
        {
          "output_type": "stream",
          "name": "stderr",
          "text": [
            "/root/.cache/torch/hub/ultralytics_yolov5_master/models/common.py:892: FutureWarning: `torch.cuda.amp.autocast(args...)` is deprecated. Please use `torch.amp.autocast('cuda', args...)` instead.\n",
            "  with amp.autocast(autocast):\n"
          ]
        },
        {
          "output_type": "stream",
          "name": "stdout",
          "text": [
            "Detections for @lobelia4cosmetics_12442.jpg:\n",
            "Empty DataFrame\n",
            "Columns: [name, confidence, xmin, ymin, xmax, ymax]\n",
            "Index: []\n"
          ]
        },
        {
          "output_type": "stream",
          "name": "stderr",
          "text": [
            "/root/.cache/torch/hub/ultralytics_yolov5_master/models/common.py:892: FutureWarning: `torch.cuda.amp.autocast(args...)` is deprecated. Please use `torch.amp.autocast('cuda', args...)` instead.\n",
            "  with amp.autocast(autocast):\n"
          ]
        },
        {
          "output_type": "stream",
          "name": "stdout",
          "text": [
            "Detections for @lobelia4cosmetics_12447.jpg:\n",
            "     name  confidence        xmin        ymin        xmax         ymax\n",
            "0    book    0.575717  254.181519  912.326172  782.529419  1020.054077\n",
            "1  person    0.330362  591.487854  481.116455  765.717163   928.665039\n"
          ]
        },
        {
          "output_type": "stream",
          "name": "stderr",
          "text": [
            "/root/.cache/torch/hub/ultralytics_yolov5_master/models/common.py:892: FutureWarning: `torch.cuda.amp.autocast(args...)` is deprecated. Please use `torch.amp.autocast('cuda', args...)` instead.\n",
            "  with amp.autocast(autocast):\n"
          ]
        },
        {
          "output_type": "stream",
          "name": "stdout",
          "text": [
            "Detections for @lobelia4cosmetics_12446.jpg:\n",
            "Empty DataFrame\n",
            "Columns: [name, confidence, xmin, ymin, xmax, ymax]\n",
            "Index: []\n"
          ]
        },
        {
          "output_type": "stream",
          "name": "stderr",
          "text": [
            "/root/.cache/torch/hub/ultralytics_yolov5_master/models/common.py:892: FutureWarning: `torch.cuda.amp.autocast(args...)` is deprecated. Please use `torch.amp.autocast('cuda', args...)` instead.\n",
            "  with amp.autocast(autocast):\n"
          ]
        },
        {
          "output_type": "stream",
          "name": "stdout",
          "text": [
            "Detections for @lobelia4cosmetics_12444.jpg:\n",
            "Empty DataFrame\n",
            "Columns: [name, confidence, xmin, ymin, xmax, ymax]\n",
            "Index: []\n"
          ]
        },
        {
          "output_type": "stream",
          "name": "stderr",
          "text": [
            "/root/.cache/torch/hub/ultralytics_yolov5_master/models/common.py:892: FutureWarning: `torch.cuda.amp.autocast(args...)` is deprecated. Please use `torch.amp.autocast('cuda', args...)` instead.\n",
            "  with amp.autocast(autocast):\n"
          ]
        },
        {
          "output_type": "stream",
          "name": "stdout",
          "text": [
            "Detections for @lobelia4cosmetics_12445.jpg:\n",
            "   name  confidence        xmin        ymin        xmax       ymax\n",
            "0  bowl    0.674333  143.382202  512.383362  663.486145  971.22052\n"
          ]
        },
        {
          "output_type": "stream",
          "name": "stderr",
          "text": [
            "/root/.cache/torch/hub/ultralytics_yolov5_master/models/common.py:892: FutureWarning: `torch.cuda.amp.autocast(args...)` is deprecated. Please use `torch.amp.autocast('cuda', args...)` instead.\n",
            "  with amp.autocast(autocast):\n"
          ]
        },
        {
          "output_type": "stream",
          "name": "stdout",
          "text": [
            "Detections for @lobelia4cosmetics_12443.jpg:\n",
            "Empty DataFrame\n",
            "Columns: [name, confidence, xmin, ymin, xmax, ymax]\n",
            "Index: []\n"
          ]
        },
        {
          "output_type": "stream",
          "name": "stderr",
          "text": [
            "/root/.cache/torch/hub/ultralytics_yolov5_master/models/common.py:892: FutureWarning: `torch.cuda.amp.autocast(args...)` is deprecated. Please use `torch.amp.autocast('cuda', args...)` instead.\n",
            "  with amp.autocast(autocast):\n"
          ]
        },
        {
          "output_type": "stream",
          "name": "stdout",
          "text": [
            "Detections for @lobelia4cosmetics_12439.jpg:\n",
            "     name  confidence        xmin        ymin        xmax        ymax\n",
            "0    bowl    0.402802  253.954697  577.395630  773.615356  992.039612\n",
            "1  banana    0.394988  411.241547  714.862244  610.666504  812.792786\n",
            "2  person    0.347361  299.261932   28.593136  712.929443  520.661438\n",
            "3  banana    0.290594  592.595093  791.921631  635.678162  824.548340\n"
          ]
        },
        {
          "output_type": "stream",
          "name": "stderr",
          "text": [
            "/root/.cache/torch/hub/ultralytics_yolov5_master/models/common.py:892: FutureWarning: `torch.cuda.amp.autocast(args...)` is deprecated. Please use `torch.amp.autocast('cuda', args...)` instead.\n",
            "  with amp.autocast(autocast):\n"
          ]
        },
        {
          "output_type": "stream",
          "name": "stdout",
          "text": [
            "Detections for @lobelia4cosmetics_12440.jpg:\n",
            "   name  confidence        xmin       ymin        xmax       ymax\n",
            "0  vase    0.292412  168.964172  53.658703  333.268677  490.41272\n"
          ]
        },
        {
          "output_type": "stream",
          "name": "stderr",
          "text": [
            "/root/.cache/torch/hub/ultralytics_yolov5_master/models/common.py:892: FutureWarning: `torch.cuda.amp.autocast(args...)` is deprecated. Please use `torch.amp.autocast('cuda', args...)` instead.\n",
            "  with amp.autocast(autocast):\n"
          ]
        },
        {
          "output_type": "stream",
          "name": "stdout",
          "text": [
            "Detections for @lobelia4cosmetics_12441.jpg:\n",
            "Empty DataFrame\n",
            "Columns: [name, confidence, xmin, ymin, xmax, ymax]\n",
            "Index: []\n"
          ]
        },
        {
          "output_type": "stream",
          "name": "stderr",
          "text": [
            "/root/.cache/torch/hub/ultralytics_yolov5_master/models/common.py:892: FutureWarning: `torch.cuda.amp.autocast(args...)` is deprecated. Please use `torch.amp.autocast('cuda', args...)` instead.\n",
            "  with amp.autocast(autocast):\n"
          ]
        },
        {
          "output_type": "stream",
          "name": "stdout",
          "text": [
            "Detections for @lobelia4cosmetics_12436.jpg:\n",
            "Empty DataFrame\n",
            "Columns: [name, confidence, xmin, ymin, xmax, ymax]\n",
            "Index: []\n"
          ]
        },
        {
          "output_type": "stream",
          "name": "stderr",
          "text": [
            "/root/.cache/torch/hub/ultralytics_yolov5_master/models/common.py:892: FutureWarning: `torch.cuda.amp.autocast(args...)` is deprecated. Please use `torch.amp.autocast('cuda', args...)` instead.\n",
            "  with amp.autocast(autocast):\n"
          ]
        },
        {
          "output_type": "stream",
          "name": "stdout",
          "text": [
            "Detections for @lobelia4cosmetics_12434.jpg:\n",
            "Empty DataFrame\n",
            "Columns: [name, confidence, xmin, ymin, xmax, ymax]\n",
            "Index: []\n"
          ]
        },
        {
          "output_type": "stream",
          "name": "stderr",
          "text": [
            "/root/.cache/torch/hub/ultralytics_yolov5_master/models/common.py:892: FutureWarning: `torch.cuda.amp.autocast(args...)` is deprecated. Please use `torch.amp.autocast('cuda', args...)` instead.\n",
            "  with amp.autocast(autocast):\n"
          ]
        },
        {
          "output_type": "stream",
          "name": "stdout",
          "text": [
            "Detections for @lobelia4cosmetics_12437.jpg:\n",
            "     name  confidence        xmin      ymin        xmax        ymax\n",
            "0  bottle     0.29258  349.462494  84.01532  677.192017  931.666016\n"
          ]
        },
        {
          "output_type": "stream",
          "name": "stderr",
          "text": [
            "/root/.cache/torch/hub/ultralytics_yolov5_master/models/common.py:892: FutureWarning: `torch.cuda.amp.autocast(args...)` is deprecated. Please use `torch.amp.autocast('cuda', args...)` instead.\n",
            "  with amp.autocast(autocast):\n"
          ]
        },
        {
          "output_type": "stream",
          "name": "stdout",
          "text": [
            "Detections for @lobelia4cosmetics_12438.jpg:\n",
            "Empty DataFrame\n",
            "Columns: [name, confidence, xmin, ymin, xmax, ymax]\n",
            "Index: []\n"
          ]
        },
        {
          "output_type": "stream",
          "name": "stderr",
          "text": [
            "/root/.cache/torch/hub/ultralytics_yolov5_master/models/common.py:892: FutureWarning: `torch.cuda.amp.autocast(args...)` is deprecated. Please use `torch.amp.autocast('cuda', args...)` instead.\n",
            "  with amp.autocast(autocast):\n"
          ]
        },
        {
          "output_type": "stream",
          "name": "stdout",
          "text": [
            "Detections for @lobelia4cosmetics_12435.jpg:\n",
            "            name  confidence        xmin        ymin        xmax         ymax\n",
            "0  parking meter    0.420197  296.751068  132.006226  968.405151  1143.936646\n",
            "1            cup    0.279941  297.346558  130.160706  971.870728  1168.945801\n"
          ]
        },
        {
          "output_type": "stream",
          "name": "stderr",
          "text": [
            "/root/.cache/torch/hub/ultralytics_yolov5_master/models/common.py:892: FutureWarning: `torch.cuda.amp.autocast(args...)` is deprecated. Please use `torch.amp.autocast('cuda', args...)` instead.\n",
            "  with amp.autocast(autocast):\n"
          ]
        },
        {
          "output_type": "stream",
          "name": "stdout",
          "text": [
            "Detections for @lobelia4cosmetics_12433.jpg:\n",
            "  name  confidence      xmin        ymin        xmax        ymax\n",
            "0  cup     0.31478  5.207787  249.310028  301.134003  793.937805\n"
          ]
        },
        {
          "output_type": "stream",
          "name": "stderr",
          "text": [
            "/root/.cache/torch/hub/ultralytics_yolov5_master/models/common.py:892: FutureWarning: `torch.cuda.amp.autocast(args...)` is deprecated. Please use `torch.amp.autocast('cuda', args...)` instead.\n",
            "  with amp.autocast(autocast):\n"
          ]
        },
        {
          "output_type": "stream",
          "name": "stdout",
          "text": [
            "Detections for @lobelia4cosmetics_12432.jpg:\n",
            "     name  confidence        xmin        ymin        xmax        ymax\n",
            "0  orange    0.377693  708.816406  438.498993  836.305786  518.246704\n",
            "1  orange    0.377175  288.880432  315.707275  462.019684  399.253693\n",
            "2  orange    0.338240  163.517136  337.105133  335.829010  406.659210\n",
            "3  orange    0.255887  806.214600  404.197449  983.961060  505.069977\n"
          ]
        },
        {
          "output_type": "stream",
          "name": "stderr",
          "text": [
            "/root/.cache/torch/hub/ultralytics_yolov5_master/models/common.py:892: FutureWarning: `torch.cuda.amp.autocast(args...)` is deprecated. Please use `torch.amp.autocast('cuda', args...)` instead.\n",
            "  with amp.autocast(autocast):\n"
          ]
        },
        {
          "output_type": "stream",
          "name": "stdout",
          "text": [
            "Detections for @lobelia4cosmetics_12430.jpg:\n",
            "    name  confidence        xmin        ymin        xmax         ymax\n",
            "0  knife      0.4199  530.664124  818.453064  946.696716  1087.866943\n"
          ]
        },
        {
          "output_type": "stream",
          "name": "stderr",
          "text": [
            "/root/.cache/torch/hub/ultralytics_yolov5_master/models/common.py:892: FutureWarning: `torch.cuda.amp.autocast(args...)` is deprecated. Please use `torch.amp.autocast('cuda', args...)` instead.\n",
            "  with amp.autocast(autocast):\n"
          ]
        },
        {
          "output_type": "stream",
          "name": "stdout",
          "text": [
            "Detections for @lobelia4cosmetics_12429.jpg:\n",
            "   name  confidence        xmin       ymin        xmax        ymax\n",
            "0  vase    0.411163  244.189636  63.217407  566.351562  528.152344\n"
          ]
        },
        {
          "output_type": "stream",
          "name": "stderr",
          "text": [
            "/root/.cache/torch/hub/ultralytics_yolov5_master/models/common.py:892: FutureWarning: `torch.cuda.amp.autocast(args...)` is deprecated. Please use `torch.amp.autocast('cuda', args...)` instead.\n",
            "  with amp.autocast(autocast):\n"
          ]
        },
        {
          "output_type": "stream",
          "name": "stdout",
          "text": [
            "Detections for @lobelia4cosmetics_12431.jpg:\n",
            "   name  confidence        xmin        ymin        xmax        ymax\n",
            "0  bowl    0.758214  140.742126  185.970306  275.191772  299.847687\n"
          ]
        },
        {
          "output_type": "stream",
          "name": "stderr",
          "text": [
            "/root/.cache/torch/hub/ultralytics_yolov5_master/models/common.py:892: FutureWarning: `torch.cuda.amp.autocast(args...)` is deprecated. Please use `torch.amp.autocast('cuda', args...)` instead.\n",
            "  with amp.autocast(autocast):\n"
          ]
        },
        {
          "output_type": "stream",
          "name": "stdout",
          "text": [
            "Detections for @lobelia4cosmetics_12428.jpg:\n",
            "Empty DataFrame\n",
            "Columns: [name, confidence, xmin, ymin, xmax, ymax]\n",
            "Index: []\n"
          ]
        },
        {
          "output_type": "stream",
          "name": "stderr",
          "text": [
            "/root/.cache/torch/hub/ultralytics_yolov5_master/models/common.py:892: FutureWarning: `torch.cuda.amp.autocast(args...)` is deprecated. Please use `torch.amp.autocast('cuda', args...)` instead.\n",
            "  with amp.autocast(autocast):\n"
          ]
        },
        {
          "output_type": "stream",
          "name": "stdout",
          "text": [
            "Detections for @lobelia4cosmetics_12427.jpg:\n",
            "Empty DataFrame\n",
            "Columns: [name, confidence, xmin, ymin, xmax, ymax]\n",
            "Index: []\n"
          ]
        },
        {
          "output_type": "stream",
          "name": "stderr",
          "text": [
            "/root/.cache/torch/hub/ultralytics_yolov5_master/models/common.py:892: FutureWarning: `torch.cuda.amp.autocast(args...)` is deprecated. Please use `torch.amp.autocast('cuda', args...)` instead.\n",
            "  with amp.autocast(autocast):\n"
          ]
        },
        {
          "output_type": "stream",
          "name": "stdout",
          "text": [
            "Detections for @lobelia4cosmetics_12425.jpg:\n",
            "Empty DataFrame\n",
            "Columns: [name, confidence, xmin, ymin, xmax, ymax]\n",
            "Index: []\n"
          ]
        },
        {
          "output_type": "stream",
          "name": "stderr",
          "text": [
            "/root/.cache/torch/hub/ultralytics_yolov5_master/models/common.py:892: FutureWarning: `torch.cuda.amp.autocast(args...)` is deprecated. Please use `torch.amp.autocast('cuda', args...)` instead.\n",
            "  with amp.autocast(autocast):\n"
          ]
        },
        {
          "output_type": "stream",
          "name": "stdout",
          "text": [
            "Detections for @lobelia4cosmetics_12421.jpg:\n",
            "Empty DataFrame\n",
            "Columns: [name, confidence, xmin, ymin, xmax, ymax]\n",
            "Index: []\n"
          ]
        },
        {
          "output_type": "stream",
          "name": "stderr",
          "text": [
            "/root/.cache/torch/hub/ultralytics_yolov5_master/models/common.py:892: FutureWarning: `torch.cuda.amp.autocast(args...)` is deprecated. Please use `torch.amp.autocast('cuda', args...)` instead.\n",
            "  with amp.autocast(autocast):\n"
          ]
        },
        {
          "output_type": "stream",
          "name": "stdout",
          "text": [
            "Detections for @lobelia4cosmetics_12426.jpg:\n",
            "Empty DataFrame\n",
            "Columns: [name, confidence, xmin, ymin, xmax, ymax]\n",
            "Index: []\n"
          ]
        },
        {
          "output_type": "stream",
          "name": "stderr",
          "text": [
            "/root/.cache/torch/hub/ultralytics_yolov5_master/models/common.py:892: FutureWarning: `torch.cuda.amp.autocast(args...)` is deprecated. Please use `torch.amp.autocast('cuda', args...)` instead.\n",
            "  with amp.autocast(autocast):\n"
          ]
        },
        {
          "output_type": "stream",
          "name": "stdout",
          "text": [
            "Detections for @lobelia4cosmetics_12424.jpg:\n",
            "Empty DataFrame\n",
            "Columns: [name, confidence, xmin, ymin, xmax, ymax]\n",
            "Index: []\n"
          ]
        },
        {
          "output_type": "stream",
          "name": "stderr",
          "text": [
            "/root/.cache/torch/hub/ultralytics_yolov5_master/models/common.py:892: FutureWarning: `torch.cuda.amp.autocast(args...)` is deprecated. Please use `torch.amp.autocast('cuda', args...)` instead.\n",
            "  with amp.autocast(autocast):\n"
          ]
        },
        {
          "output_type": "stream",
          "name": "stdout",
          "text": [
            "Detections for @lobelia4cosmetics_12423.jpg:\n",
            "Empty DataFrame\n",
            "Columns: [name, confidence, xmin, ymin, xmax, ymax]\n",
            "Index: []\n"
          ]
        },
        {
          "output_type": "stream",
          "name": "stderr",
          "text": [
            "/root/.cache/torch/hub/ultralytics_yolov5_master/models/common.py:892: FutureWarning: `torch.cuda.amp.autocast(args...)` is deprecated. Please use `torch.amp.autocast('cuda', args...)` instead.\n",
            "  with amp.autocast(autocast):\n"
          ]
        },
        {
          "output_type": "stream",
          "name": "stdout",
          "text": [
            "Detections for @lobelia4cosmetics_12420.jpg:\n",
            "Empty DataFrame\n",
            "Columns: [name, confidence, xmin, ymin, xmax, ymax]\n",
            "Index: []\n"
          ]
        },
        {
          "output_type": "stream",
          "name": "stderr",
          "text": [
            "/root/.cache/torch/hub/ultralytics_yolov5_master/models/common.py:892: FutureWarning: `torch.cuda.amp.autocast(args...)` is deprecated. Please use `torch.amp.autocast('cuda', args...)` instead.\n",
            "  with amp.autocast(autocast):\n"
          ]
        },
        {
          "output_type": "stream",
          "name": "stdout",
          "text": [
            "Detections for @lobelia4cosmetics_12419.jpg:\n",
            "Empty DataFrame\n",
            "Columns: [name, confidence, xmin, ymin, xmax, ymax]\n",
            "Index: []\n"
          ]
        },
        {
          "output_type": "stream",
          "name": "stderr",
          "text": [
            "/root/.cache/torch/hub/ultralytics_yolov5_master/models/common.py:892: FutureWarning: `torch.cuda.amp.autocast(args...)` is deprecated. Please use `torch.amp.autocast('cuda', args...)` instead.\n",
            "  with amp.autocast(autocast):\n"
          ]
        },
        {
          "output_type": "stream",
          "name": "stdout",
          "text": [
            "Detections for @lobelia4cosmetics_12418.jpg:\n",
            "Empty DataFrame\n",
            "Columns: [name, confidence, xmin, ymin, xmax, ymax]\n",
            "Index: []\n"
          ]
        },
        {
          "output_type": "stream",
          "name": "stderr",
          "text": [
            "/root/.cache/torch/hub/ultralytics_yolov5_master/models/common.py:892: FutureWarning: `torch.cuda.amp.autocast(args...)` is deprecated. Please use `torch.amp.autocast('cuda', args...)` instead.\n",
            "  with amp.autocast(autocast):\n"
          ]
        },
        {
          "output_type": "stream",
          "name": "stdout",
          "text": [
            "Detections for @lobelia4cosmetics_12417.jpg:\n",
            "Empty DataFrame\n",
            "Columns: [name, confidence, xmin, ymin, xmax, ymax]\n",
            "Index: []\n"
          ]
        },
        {
          "output_type": "stream",
          "name": "stderr",
          "text": [
            "/root/.cache/torch/hub/ultralytics_yolov5_master/models/common.py:892: FutureWarning: `torch.cuda.amp.autocast(args...)` is deprecated. Please use `torch.amp.autocast('cuda', args...)` instead.\n",
            "  with amp.autocast(autocast):\n"
          ]
        },
        {
          "output_type": "stream",
          "name": "stdout",
          "text": [
            "Detections for @lobelia4cosmetics_12414.jpg:\n",
            "Empty DataFrame\n",
            "Columns: [name, confidence, xmin, ymin, xmax, ymax]\n",
            "Index: []\n"
          ]
        },
        {
          "output_type": "stream",
          "name": "stderr",
          "text": [
            "/root/.cache/torch/hub/ultralytics_yolov5_master/models/common.py:892: FutureWarning: `torch.cuda.amp.autocast(args...)` is deprecated. Please use `torch.amp.autocast('cuda', args...)` instead.\n",
            "  with amp.autocast(autocast):\n"
          ]
        },
        {
          "output_type": "stream",
          "name": "stdout",
          "text": [
            "Detections for @lobelia4cosmetics_12413.jpg:\n",
            "Empty DataFrame\n",
            "Columns: [name, confidence, xmin, ymin, xmax, ymax]\n",
            "Index: []\n"
          ]
        },
        {
          "output_type": "stream",
          "name": "stderr",
          "text": [
            "/root/.cache/torch/hub/ultralytics_yolov5_master/models/common.py:892: FutureWarning: `torch.cuda.amp.autocast(args...)` is deprecated. Please use `torch.amp.autocast('cuda', args...)` instead.\n",
            "  with amp.autocast(autocast):\n"
          ]
        },
        {
          "output_type": "stream",
          "name": "stdout",
          "text": [
            "Detections for @lobelia4cosmetics_12416.jpg:\n",
            "Empty DataFrame\n",
            "Columns: [name, confidence, xmin, ymin, xmax, ymax]\n",
            "Index: []\n"
          ]
        },
        {
          "output_type": "stream",
          "name": "stderr",
          "text": [
            "/root/.cache/torch/hub/ultralytics_yolov5_master/models/common.py:892: FutureWarning: `torch.cuda.amp.autocast(args...)` is deprecated. Please use `torch.amp.autocast('cuda', args...)` instead.\n",
            "  with amp.autocast(autocast):\n"
          ]
        },
        {
          "output_type": "stream",
          "name": "stdout",
          "text": [
            "Detections for @lobelia4cosmetics_12415.jpg:\n",
            "     name  confidence        xmin        ymin        xmax        ymax\n",
            "0  person    0.542076  316.487823  259.227722  515.913269  582.338013\n"
          ]
        },
        {
          "output_type": "stream",
          "name": "stderr",
          "text": [
            "/root/.cache/torch/hub/ultralytics_yolov5_master/models/common.py:892: FutureWarning: `torch.cuda.amp.autocast(args...)` is deprecated. Please use `torch.amp.autocast('cuda', args...)` instead.\n",
            "  with amp.autocast(autocast):\n"
          ]
        },
        {
          "output_type": "stream",
          "name": "stdout",
          "text": [
            "Detections for @lobelia4cosmetics_12412.jpg:\n",
            "Empty DataFrame\n",
            "Columns: [name, confidence, xmin, ymin, xmax, ymax]\n",
            "Index: []\n"
          ]
        },
        {
          "output_type": "stream",
          "name": "stderr",
          "text": [
            "/root/.cache/torch/hub/ultralytics_yolov5_master/models/common.py:892: FutureWarning: `torch.cuda.amp.autocast(args...)` is deprecated. Please use `torch.amp.autocast('cuda', args...)` instead.\n",
            "  with amp.autocast(autocast):\n"
          ]
        },
        {
          "output_type": "stream",
          "name": "stdout",
          "text": [
            "Detections for @lobelia4cosmetics_12410.jpg:\n",
            "Empty DataFrame\n",
            "Columns: [name, confidence, xmin, ymin, xmax, ymax]\n",
            "Index: []\n"
          ]
        },
        {
          "output_type": "stream",
          "name": "stderr",
          "text": [
            "/root/.cache/torch/hub/ultralytics_yolov5_master/models/common.py:892: FutureWarning: `torch.cuda.amp.autocast(args...)` is deprecated. Please use `torch.amp.autocast('cuda', args...)` instead.\n",
            "  with amp.autocast(autocast):\n"
          ]
        },
        {
          "output_type": "stream",
          "name": "stdout",
          "text": [
            "Detections for @lobelia4cosmetics_12408.jpg:\n",
            "Empty DataFrame\n",
            "Columns: [name, confidence, xmin, ymin, xmax, ymax]\n",
            "Index: []\n"
          ]
        },
        {
          "output_type": "stream",
          "name": "stderr",
          "text": [
            "/root/.cache/torch/hub/ultralytics_yolov5_master/models/common.py:892: FutureWarning: `torch.cuda.amp.autocast(args...)` is deprecated. Please use `torch.amp.autocast('cuda', args...)` instead.\n",
            "  with amp.autocast(autocast):\n"
          ]
        },
        {
          "output_type": "stream",
          "name": "stdout",
          "text": [
            "Detections for @lobelia4cosmetics_12411.jpg:\n",
            "Empty DataFrame\n",
            "Columns: [name, confidence, xmin, ymin, xmax, ymax]\n",
            "Index: []\n"
          ]
        },
        {
          "output_type": "stream",
          "name": "stderr",
          "text": [
            "/root/.cache/torch/hub/ultralytics_yolov5_master/models/common.py:892: FutureWarning: `torch.cuda.amp.autocast(args...)` is deprecated. Please use `torch.amp.autocast('cuda', args...)` instead.\n",
            "  with amp.autocast(autocast):\n"
          ]
        },
        {
          "output_type": "stream",
          "name": "stdout",
          "text": [
            "Detections for @lobelia4cosmetics_12409.jpg:\n",
            "Empty DataFrame\n",
            "Columns: [name, confidence, xmin, ymin, xmax, ymax]\n",
            "Index: []\n"
          ]
        },
        {
          "output_type": "stream",
          "name": "stderr",
          "text": [
            "/root/.cache/torch/hub/ultralytics_yolov5_master/models/common.py:892: FutureWarning: `torch.cuda.amp.autocast(args...)` is deprecated. Please use `torch.amp.autocast('cuda', args...)` instead.\n",
            "  with amp.autocast(autocast):\n"
          ]
        },
        {
          "output_type": "stream",
          "name": "stdout",
          "text": [
            "Detections for @lobelia4cosmetics_12405.jpg:\n",
            "Empty DataFrame\n",
            "Columns: [name, confidence, xmin, ymin, xmax, ymax]\n",
            "Index: []\n"
          ]
        },
        {
          "output_type": "stream",
          "name": "stderr",
          "text": [
            "/root/.cache/torch/hub/ultralytics_yolov5_master/models/common.py:892: FutureWarning: `torch.cuda.amp.autocast(args...)` is deprecated. Please use `torch.amp.autocast('cuda', args...)` instead.\n",
            "  with amp.autocast(autocast):\n"
          ]
        },
        {
          "output_type": "stream",
          "name": "stdout",
          "text": [
            "Detections for @lobelia4cosmetics_12403.jpg:\n",
            "Empty DataFrame\n",
            "Columns: [name, confidence, xmin, ymin, xmax, ymax]\n",
            "Index: []\n"
          ]
        },
        {
          "output_type": "stream",
          "name": "stderr",
          "text": [
            "/root/.cache/torch/hub/ultralytics_yolov5_master/models/common.py:892: FutureWarning: `torch.cuda.amp.autocast(args...)` is deprecated. Please use `torch.amp.autocast('cuda', args...)` instead.\n",
            "  with amp.autocast(autocast):\n"
          ]
        },
        {
          "output_type": "stream",
          "name": "stdout",
          "text": [
            "Detections for @lobelia4cosmetics_12402.jpg:\n",
            "Empty DataFrame\n",
            "Columns: [name, confidence, xmin, ymin, xmax, ymax]\n",
            "Index: []\n"
          ]
        },
        {
          "output_type": "stream",
          "name": "stderr",
          "text": [
            "/root/.cache/torch/hub/ultralytics_yolov5_master/models/common.py:892: FutureWarning: `torch.cuda.amp.autocast(args...)` is deprecated. Please use `torch.amp.autocast('cuda', args...)` instead.\n",
            "  with amp.autocast(autocast):\n"
          ]
        },
        {
          "output_type": "stream",
          "name": "stdout",
          "text": [
            "Detections for @lobelia4cosmetics_12404.jpg:\n",
            "Empty DataFrame\n",
            "Columns: [name, confidence, xmin, ymin, xmax, ymax]\n",
            "Index: []\n"
          ]
        },
        {
          "output_type": "stream",
          "name": "stderr",
          "text": [
            "/root/.cache/torch/hub/ultralytics_yolov5_master/models/common.py:892: FutureWarning: `torch.cuda.amp.autocast(args...)` is deprecated. Please use `torch.amp.autocast('cuda', args...)` instead.\n",
            "  with amp.autocast(autocast):\n"
          ]
        },
        {
          "output_type": "stream",
          "name": "stdout",
          "text": [
            "Detections for @lobelia4cosmetics_12406.jpg:\n",
            "Empty DataFrame\n",
            "Columns: [name, confidence, xmin, ymin, xmax, ymax]\n",
            "Index: []\n"
          ]
        },
        {
          "output_type": "stream",
          "name": "stderr",
          "text": [
            "/root/.cache/torch/hub/ultralytics_yolov5_master/models/common.py:892: FutureWarning: `torch.cuda.amp.autocast(args...)` is deprecated. Please use `torch.amp.autocast('cuda', args...)` instead.\n",
            "  with amp.autocast(autocast):\n"
          ]
        },
        {
          "output_type": "stream",
          "name": "stdout",
          "text": [
            "Detections for @lobelia4cosmetics_12407.jpg:\n",
            "Empty DataFrame\n",
            "Columns: [name, confidence, xmin, ymin, xmax, ymax]\n",
            "Index: []\n"
          ]
        },
        {
          "output_type": "stream",
          "name": "stderr",
          "text": [
            "/root/.cache/torch/hub/ultralytics_yolov5_master/models/common.py:892: FutureWarning: `torch.cuda.amp.autocast(args...)` is deprecated. Please use `torch.amp.autocast('cuda', args...)` instead.\n",
            "  with amp.autocast(autocast):\n"
          ]
        },
        {
          "output_type": "stream",
          "name": "stdout",
          "text": [
            "Detections for @lobelia4cosmetics_12400.jpg:\n",
            "Empty DataFrame\n",
            "Columns: [name, confidence, xmin, ymin, xmax, ymax]\n",
            "Index: []\n"
          ]
        },
        {
          "output_type": "stream",
          "name": "stderr",
          "text": [
            "/root/.cache/torch/hub/ultralytics_yolov5_master/models/common.py:892: FutureWarning: `torch.cuda.amp.autocast(args...)` is deprecated. Please use `torch.amp.autocast('cuda', args...)` instead.\n",
            "  with amp.autocast(autocast):\n"
          ]
        },
        {
          "output_type": "stream",
          "name": "stdout",
          "text": [
            "Detections for @lobelia4cosmetics_12399.jpg:\n",
            "Empty DataFrame\n",
            "Columns: [name, confidence, xmin, ymin, xmax, ymax]\n",
            "Index: []\n"
          ]
        },
        {
          "output_type": "stream",
          "name": "stderr",
          "text": [
            "/root/.cache/torch/hub/ultralytics_yolov5_master/models/common.py:892: FutureWarning: `torch.cuda.amp.autocast(args...)` is deprecated. Please use `torch.amp.autocast('cuda', args...)` instead.\n",
            "  with amp.autocast(autocast):\n"
          ]
        },
        {
          "output_type": "stream",
          "name": "stdout",
          "text": [
            "Detections for @lobelia4cosmetics_12401.jpg:\n",
            "Empty DataFrame\n",
            "Columns: [name, confidence, xmin, ymin, xmax, ymax]\n",
            "Index: []\n"
          ]
        },
        {
          "output_type": "stream",
          "name": "stderr",
          "text": [
            "/root/.cache/torch/hub/ultralytics_yolov5_master/models/common.py:892: FutureWarning: `torch.cuda.amp.autocast(args...)` is deprecated. Please use `torch.amp.autocast('cuda', args...)` instead.\n",
            "  with amp.autocast(autocast):\n"
          ]
        },
        {
          "output_type": "stream",
          "name": "stdout",
          "text": [
            "Detections for @lobelia4cosmetics_12395.jpg:\n",
            "   name  confidence       xmin       ymin       xmax        ymax\n",
            "0  book    0.257414  48.608097  34.479431  786.64978  982.758728\n"
          ]
        },
        {
          "output_type": "stream",
          "name": "stderr",
          "text": [
            "/root/.cache/torch/hub/ultralytics_yolov5_master/models/common.py:892: FutureWarning: `torch.cuda.amp.autocast(args...)` is deprecated. Please use `torch.amp.autocast('cuda', args...)` instead.\n",
            "  with amp.autocast(autocast):\n"
          ]
        },
        {
          "output_type": "stream",
          "name": "stdout",
          "text": [
            "Detections for @lobelia4cosmetics_12396.jpg:\n",
            "Empty DataFrame\n",
            "Columns: [name, confidence, xmin, ymin, xmax, ymax]\n",
            "Index: []\n"
          ]
        },
        {
          "output_type": "stream",
          "name": "stderr",
          "text": [
            "/root/.cache/torch/hub/ultralytics_yolov5_master/models/common.py:892: FutureWarning: `torch.cuda.amp.autocast(args...)` is deprecated. Please use `torch.amp.autocast('cuda', args...)` instead.\n",
            "  with amp.autocast(autocast):\n"
          ]
        },
        {
          "output_type": "stream",
          "name": "stdout",
          "text": [
            "Detections for @lobelia4cosmetics_12397.jpg:\n",
            "Empty DataFrame\n",
            "Columns: [name, confidence, xmin, ymin, xmax, ymax]\n",
            "Index: []\n"
          ]
        },
        {
          "output_type": "stream",
          "name": "stderr",
          "text": [
            "/root/.cache/torch/hub/ultralytics_yolov5_master/models/common.py:892: FutureWarning: `torch.cuda.amp.autocast(args...)` is deprecated. Please use `torch.amp.autocast('cuda', args...)` instead.\n",
            "  with amp.autocast(autocast):\n"
          ]
        },
        {
          "output_type": "stream",
          "name": "stdout",
          "text": [
            "Detections for @lobelia4cosmetics_12394.jpg:\n",
            "Empty DataFrame\n",
            "Columns: [name, confidence, xmin, ymin, xmax, ymax]\n",
            "Index: []\n"
          ]
        },
        {
          "output_type": "stream",
          "name": "stderr",
          "text": [
            "/root/.cache/torch/hub/ultralytics_yolov5_master/models/common.py:892: FutureWarning: `torch.cuda.amp.autocast(args...)` is deprecated. Please use `torch.amp.autocast('cuda', args...)` instead.\n",
            "  with amp.autocast(autocast):\n"
          ]
        },
        {
          "output_type": "stream",
          "name": "stdout",
          "text": [
            "Detections for @lobelia4cosmetics_12398.jpg:\n",
            "           name  confidence        xmin        ymin        xmax        ymax\n",
            "0        bottle    0.428630  456.905365  198.558517  682.092651  743.703552\n",
            "1        bottle    0.335330  178.539627  239.647293  373.393646  718.351379\n",
            "2  refrigerator    0.328699   31.581835   45.389477  380.216492  733.392578\n"
          ]
        },
        {
          "output_type": "stream",
          "name": "stderr",
          "text": [
            "/root/.cache/torch/hub/ultralytics_yolov5_master/models/common.py:892: FutureWarning: `torch.cuda.amp.autocast(args...)` is deprecated. Please use `torch.amp.autocast('cuda', args...)` instead.\n",
            "  with amp.autocast(autocast):\n"
          ]
        },
        {
          "output_type": "stream",
          "name": "stdout",
          "text": [
            "Detections for @lobelia4cosmetics_12393.jpg:\n",
            "   name  confidence        xmin        ymin       xmax         ymax\n",
            "0  book    0.500795  277.916931   87.626343  654.78125  1195.686523\n",
            "1  book    0.336661  633.134155  187.437653  962.87439  1184.869263\n"
          ]
        },
        {
          "output_type": "stream",
          "name": "stderr",
          "text": [
            "/root/.cache/torch/hub/ultralytics_yolov5_master/models/common.py:892: FutureWarning: `torch.cuda.amp.autocast(args...)` is deprecated. Please use `torch.amp.autocast('cuda', args...)` instead.\n",
            "  with amp.autocast(autocast):\n"
          ]
        },
        {
          "output_type": "stream",
          "name": "stdout",
          "text": [
            "Detections for @lobelia4cosmetics_12392.jpg:\n",
            "Empty DataFrame\n",
            "Columns: [name, confidence, xmin, ymin, xmax, ymax]\n",
            "Index: []\n"
          ]
        },
        {
          "output_type": "stream",
          "name": "stderr",
          "text": [
            "/root/.cache/torch/hub/ultralytics_yolov5_master/models/common.py:892: FutureWarning: `torch.cuda.amp.autocast(args...)` is deprecated. Please use `torch.amp.autocast('cuda', args...)` instead.\n",
            "  with amp.autocast(autocast):\n"
          ]
        },
        {
          "output_type": "stream",
          "name": "stdout",
          "text": [
            "Detections for @lobelia4cosmetics_12484.jpg:\n",
            "Empty DataFrame\n",
            "Columns: [name, confidence, xmin, ymin, xmax, ymax]\n",
            "Index: []\n"
          ]
        },
        {
          "output_type": "stream",
          "name": "stderr",
          "text": [
            "/root/.cache/torch/hub/ultralytics_yolov5_master/models/common.py:892: FutureWarning: `torch.cuda.amp.autocast(args...)` is deprecated. Please use `torch.amp.autocast('cuda', args...)` instead.\n",
            "  with amp.autocast(autocast):\n"
          ]
        },
        {
          "output_type": "stream",
          "name": "stdout",
          "text": [
            "Detections for @lobelia4cosmetics_12481.jpg:\n",
            "Empty DataFrame\n",
            "Columns: [name, confidence, xmin, ymin, xmax, ymax]\n",
            "Index: []\n"
          ]
        },
        {
          "output_type": "stream",
          "name": "stderr",
          "text": [
            "/root/.cache/torch/hub/ultralytics_yolov5_master/models/common.py:892: FutureWarning: `torch.cuda.amp.autocast(args...)` is deprecated. Please use `torch.amp.autocast('cuda', args...)` instead.\n",
            "  with amp.autocast(autocast):\n"
          ]
        },
        {
          "output_type": "stream",
          "name": "stdout",
          "text": [
            "Detections for @lobelia4cosmetics_12483.jpg:\n",
            "Empty DataFrame\n",
            "Columns: [name, confidence, xmin, ymin, xmax, ymax]\n",
            "Index: []\n"
          ]
        },
        {
          "output_type": "stream",
          "name": "stderr",
          "text": [
            "/root/.cache/torch/hub/ultralytics_yolov5_master/models/common.py:892: FutureWarning: `torch.cuda.amp.autocast(args...)` is deprecated. Please use `torch.amp.autocast('cuda', args...)` instead.\n",
            "  with amp.autocast(autocast):\n"
          ]
        },
        {
          "output_type": "stream",
          "name": "stdout",
          "text": [
            "Detections for @lobelia4cosmetics_12478.jpg:\n",
            "Empty DataFrame\n",
            "Columns: [name, confidence, xmin, ymin, xmax, ymax]\n",
            "Index: []\n"
          ]
        },
        {
          "output_type": "stream",
          "name": "stderr",
          "text": [
            "/root/.cache/torch/hub/ultralytics_yolov5_master/models/common.py:892: FutureWarning: `torch.cuda.amp.autocast(args...)` is deprecated. Please use `torch.amp.autocast('cuda', args...)` instead.\n",
            "  with amp.autocast(autocast):\n"
          ]
        },
        {
          "output_type": "stream",
          "name": "stdout",
          "text": [
            "Detections for @lobelia4cosmetics_12477.jpg:\n",
            "Empty DataFrame\n",
            "Columns: [name, confidence, xmin, ymin, xmax, ymax]\n",
            "Index: []\n"
          ]
        },
        {
          "output_type": "stream",
          "name": "stderr",
          "text": [
            "/root/.cache/torch/hub/ultralytics_yolov5_master/models/common.py:892: FutureWarning: `torch.cuda.amp.autocast(args...)` is deprecated. Please use `torch.amp.autocast('cuda', args...)` instead.\n",
            "  with amp.autocast(autocast):\n"
          ]
        },
        {
          "output_type": "stream",
          "name": "stdout",
          "text": [
            "Detections for @lobelia4cosmetics_12479.jpg:\n",
            "  name  confidence        xmin        ymin        xmax         ymax\n",
            "0  cup    0.789148  360.245972  782.216064  641.896912  1073.364258\n"
          ]
        },
        {
          "output_type": "stream",
          "name": "stderr",
          "text": [
            "/root/.cache/torch/hub/ultralytics_yolov5_master/models/common.py:892: FutureWarning: `torch.cuda.amp.autocast(args...)` is deprecated. Please use `torch.amp.autocast('cuda', args...)` instead.\n",
            "  with amp.autocast(autocast):\n"
          ]
        },
        {
          "output_type": "stream",
          "name": "stdout",
          "text": [
            "Detections for @lobelia4cosmetics_12487.jpg:\n",
            "Empty DataFrame\n",
            "Columns: [name, confidence, xmin, ymin, xmax, ymax]\n",
            "Index: []\n"
          ]
        },
        {
          "output_type": "stream",
          "name": "stderr",
          "text": [
            "/root/.cache/torch/hub/ultralytics_yolov5_master/models/common.py:892: FutureWarning: `torch.cuda.amp.autocast(args...)` is deprecated. Please use `torch.amp.autocast('cuda', args...)` instead.\n",
            "  with amp.autocast(autocast):\n"
          ]
        },
        {
          "output_type": "stream",
          "name": "stdout",
          "text": [
            "Detections for @lobelia4cosmetics_12472.jpg:\n",
            "     name  confidence        xmin        ymin        xmax         ymax\n",
            "0  person     0.90346  476.543152  617.274597  817.709473  1158.309326\n"
          ]
        },
        {
          "output_type": "stream",
          "name": "stderr",
          "text": [
            "/root/.cache/torch/hub/ultralytics_yolov5_master/models/common.py:892: FutureWarning: `torch.cuda.amp.autocast(args...)` is deprecated. Please use `torch.amp.autocast('cuda', args...)` instead.\n",
            "  with amp.autocast(autocast):\n"
          ]
        },
        {
          "output_type": "stream",
          "name": "stdout",
          "text": [
            "Detections for @lobelia4cosmetics_12482.jpg:\n",
            "Empty DataFrame\n",
            "Columns: [name, confidence, xmin, ymin, xmax, ymax]\n",
            "Index: []\n"
          ]
        },
        {
          "output_type": "stream",
          "name": "stderr",
          "text": [
            "/root/.cache/torch/hub/ultralytics_yolov5_master/models/common.py:892: FutureWarning: `torch.cuda.amp.autocast(args...)` is deprecated. Please use `torch.amp.autocast('cuda', args...)` instead.\n",
            "  with amp.autocast(autocast):\n"
          ]
        },
        {
          "output_type": "stream",
          "name": "stdout",
          "text": [
            "Detections for @lobelia4cosmetics_12488.jpg:\n",
            "Empty DataFrame\n",
            "Columns: [name, confidence, xmin, ymin, xmax, ymax]\n",
            "Index: []\n"
          ]
        },
        {
          "output_type": "stream",
          "name": "stderr",
          "text": [
            "/root/.cache/torch/hub/ultralytics_yolov5_master/models/common.py:892: FutureWarning: `torch.cuda.amp.autocast(args...)` is deprecated. Please use `torch.amp.autocast('cuda', args...)` instead.\n",
            "  with amp.autocast(autocast):\n"
          ]
        },
        {
          "output_type": "stream",
          "name": "stdout",
          "text": [
            "Detections for @lobelia4cosmetics_12489.jpg:\n",
            "Empty DataFrame\n",
            "Columns: [name, confidence, xmin, ymin, xmax, ymax]\n",
            "Index: []\n"
          ]
        },
        {
          "output_type": "stream",
          "name": "stderr",
          "text": [
            "/root/.cache/torch/hub/ultralytics_yolov5_master/models/common.py:892: FutureWarning: `torch.cuda.amp.autocast(args...)` is deprecated. Please use `torch.amp.autocast('cuda', args...)` instead.\n",
            "  with amp.autocast(autocast):\n"
          ]
        },
        {
          "output_type": "stream",
          "name": "stdout",
          "text": [
            "Detections for @lobelia4cosmetics_12485.jpg:\n",
            "Empty DataFrame\n",
            "Columns: [name, confidence, xmin, ymin, xmax, ymax]\n",
            "Index: []\n"
          ]
        },
        {
          "output_type": "stream",
          "name": "stderr",
          "text": [
            "/root/.cache/torch/hub/ultralytics_yolov5_master/models/common.py:892: FutureWarning: `torch.cuda.amp.autocast(args...)` is deprecated. Please use `torch.amp.autocast('cuda', args...)` instead.\n",
            "  with amp.autocast(autocast):\n"
          ]
        },
        {
          "output_type": "stream",
          "name": "stdout",
          "text": [
            "Detections for @lobelia4cosmetics_12486.jpg:\n",
            "Empty DataFrame\n",
            "Columns: [name, confidence, xmin, ymin, xmax, ymax]\n",
            "Index: []\n"
          ]
        },
        {
          "output_type": "stream",
          "name": "stderr",
          "text": [
            "/root/.cache/torch/hub/ultralytics_yolov5_master/models/common.py:892: FutureWarning: `torch.cuda.amp.autocast(args...)` is deprecated. Please use `torch.amp.autocast('cuda', args...)` instead.\n",
            "  with amp.autocast(autocast):\n"
          ]
        },
        {
          "output_type": "stream",
          "name": "stdout",
          "text": [
            "Detections for @lobelia4cosmetics_12480.jpg:\n",
            "     name  confidence        xmin        ymin        xmax         ymax\n",
            "0    book    0.575717  254.181519  912.326172  782.529419  1020.054077\n",
            "1  person    0.330362  591.487854  481.116455  765.717163   928.665039\n"
          ]
        }
      ]
    },
    {
      "cell_type": "markdown",
      "source": [
        "downloading the detction to export it in to my local database(postgres)"
      ],
      "metadata": {
        "id": "Rdup9z8abJfF"
      }
    },
    {
      "cell_type": "code",
      "source": [
        "from google.colab import files\n",
        "import shutil\n",
        "\n",
        "# Create a zip archive of the detection results folder\n",
        "shutil.make_archive('detection_results', 'zip', 'detection_results')\n",
        "\n",
        "# Download the zip file\n",
        "files.download('detection_results.zip')\n"
      ],
      "metadata": {
        "colab": {
          "base_uri": "https://localhost:8080/",
          "height": 17
        },
        "id": "uJowQD_favnO",
        "outputId": "f23b3b28-23ab-44cc-ab43-071724fda485"
      },
      "execution_count": 30,
      "outputs": [
        {
          "output_type": "display_data",
          "data": {
            "text/plain": [
              "<IPython.core.display.Javascript object>"
            ],
            "application/javascript": [
              "\n",
              "    async function download(id, filename, size) {\n",
              "      if (!google.colab.kernel.accessAllowed) {\n",
              "        return;\n",
              "      }\n",
              "      const div = document.createElement('div');\n",
              "      const label = document.createElement('label');\n",
              "      label.textContent = `Downloading \"${filename}\": `;\n",
              "      div.appendChild(label);\n",
              "      const progress = document.createElement('progress');\n",
              "      progress.max = size;\n",
              "      div.appendChild(progress);\n",
              "      document.body.appendChild(div);\n",
              "\n",
              "      const buffers = [];\n",
              "      let downloaded = 0;\n",
              "\n",
              "      const channel = await google.colab.kernel.comms.open(id);\n",
              "      // Send a message to notify the kernel that we're ready.\n",
              "      channel.send({})\n",
              "\n",
              "      for await (const message of channel.messages) {\n",
              "        // Send a message to notify the kernel that we're ready.\n",
              "        channel.send({})\n",
              "        if (message.buffers) {\n",
              "          for (const buffer of message.buffers) {\n",
              "            buffers.push(buffer);\n",
              "            downloaded += buffer.byteLength;\n",
              "            progress.value = downloaded;\n",
              "          }\n",
              "        }\n",
              "      }\n",
              "      const blob = new Blob(buffers, {type: 'application/binary'});\n",
              "      const a = document.createElement('a');\n",
              "      a.href = window.URL.createObjectURL(blob);\n",
              "      a.download = filename;\n",
              "      div.appendChild(a);\n",
              "      a.click();\n",
              "      div.remove();\n",
              "    }\n",
              "  "
            ]
          },
          "metadata": {}
        },
        {
          "output_type": "display_data",
          "data": {
            "text/plain": [
              "<IPython.core.display.Javascript object>"
            ],
            "application/javascript": [
              "download(\"download_601f45d2-dde4-43a4-97c6-67e23f7217cf\", \"detection_results.zip\", 163294)"
            ]
          },
          "metadata": {}
        }
      ]
    }
  ]
}